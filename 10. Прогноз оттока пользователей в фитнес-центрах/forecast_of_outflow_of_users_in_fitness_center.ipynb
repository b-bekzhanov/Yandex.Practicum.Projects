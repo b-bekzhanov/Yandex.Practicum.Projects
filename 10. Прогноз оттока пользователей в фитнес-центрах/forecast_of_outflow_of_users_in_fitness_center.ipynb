{
 "cells": [
  {
   "cell_type": "markdown",
   "metadata": {
    "toc": true
   },
   "source": [
    "<h1>Содержание проекта<span class=\"tocSkip\"></span></h1>\n",
    "<div class=\"toc\"><ul class=\"toc-item\"><li><span><a href=\"#Изучение-данных\" data-toc-modified-id=\"Изучение-данных-1\"><span class=\"toc-item-num\">1&nbsp;&nbsp;</span>Изучение данных</a></span></li><li><span><a href=\"#Исследовательский-анализ-данных-(EDA)\" data-toc-modified-id=\"Исследовательский-анализ-данных-(EDA)-2\"><span class=\"toc-item-num\">2&nbsp;&nbsp;</span>Исследовательский анализ данных (EDA)</a></span><ul class=\"toc-item\"><li><span><a href=\"#Посмотрим-на-датасет:-есть-ли-в-нем-отсутствующие-признаки,-изучим-средние-значения-и-стандартные-отклонения\" data-toc-modified-id=\"Посмотрим-на-датасет:-есть-ли-в-нем-отсутствующие-признаки,-изучим-средние-значения-и-стандартные-отклонения-2.1\"><span class=\"toc-item-num\">2.1&nbsp;&nbsp;</span>Посмотрим на датасет: есть ли в нем отсутствующие признаки, изучим средние значения и стандартные отклонения</a></span></li><li><span><a href=\"#Посмотрим-на-средние-значения-признаков-в-двух-группах-—-тех,-кто-ушел-в-отток-и-тех,-кто-остался\" data-toc-modified-id=\"Посмотрим-на-средние-значения-признаков-в-двух-группах-—-тех,-кто-ушел-в-отток-и-тех,-кто-остался-2.2\"><span class=\"toc-item-num\">2.2&nbsp;&nbsp;</span>Посмотрим на средние значения признаков в двух группах — тех, кто ушел в отток и тех, кто остался</a></span></li><li><span><a href=\"#Построим-столбчатые-гистограммы-и-распределения-признаков-для-тех,-кто-ушёл-(отток)-и-тех,-кто-остался-(не-попали-в-отток)\" data-toc-modified-id=\"Построим-столбчатые-гистограммы-и-распределения-признаков-для-тех,-кто-ушёл-(отток)-и-тех,-кто-остался-(не-попали-в-отток)-2.3\"><span class=\"toc-item-num\">2.3&nbsp;&nbsp;</span>Построим столбчатые гистограммы и распределения признаков для тех, кто ушёл (отток) и тех, кто остался (не попали в отток)</a></span></li><li><span><a href=\"#Построим-матрицу-корреляций-и-отобразите-её\" data-toc-modified-id=\"Построим-матрицу-корреляций-и-отобразите-её-2.4\"><span class=\"toc-item-num\">2.4&nbsp;&nbsp;</span>Построим матрицу корреляций и отобразите её</a></span></li></ul></li><li><span><a href=\"#Построение-модели-прогнозирования-оттока-клиентов\" data-toc-modified-id=\"Построение-модели-прогнозирования-оттока-клиентов-3\"><span class=\"toc-item-num\">3&nbsp;&nbsp;</span>Построение модели прогнозирования оттока клиентов</a></span><ul class=\"toc-item\"><li><span><a href=\"#Разбейте-данные-на-обучающую-и-валидационную-выборку\" data-toc-modified-id=\"Разбейте-данные-на-обучающую-и-валидационную-выборку-3.1\"><span class=\"toc-item-num\">3.1&nbsp;&nbsp;</span>Разбейте данные на обучающую и валидационную выборку</a></span></li><li><span><a href=\"#Обучите-модель-на-train-выборке-двумя-способами:-логистической-регрессией-и-случайным-лесом.\" data-toc-modified-id=\"Обучите-модель-на-train-выборке-двумя-способами:-логистической-регрессией-и-случайным-лесом.-3.2\"><span class=\"toc-item-num\">3.2&nbsp;&nbsp;</span>Обучите модель на train-выборке двумя способами: логистической регрессией и случайным лесом.</a></span></li></ul></li><li><span><a href=\"#Кластеризация-клиентов\" data-toc-modified-id=\"Кластеризация-клиентов-4\"><span class=\"toc-item-num\">4&nbsp;&nbsp;</span>Кластеризация клиентов</a></span><ul class=\"toc-item\"><li><span><a href=\"#Стандартизируйте-данные\" data-toc-modified-id=\"Стандартизируйте-данные-4.1\"><span class=\"toc-item-num\">4.1&nbsp;&nbsp;</span>Стандартизируйте данные</a></span></li><li><span><a href=\"#Постройте-матрицу-расстояний,-на-стандартизованной-матрице-признаков-и-нарисуйте-дендрограмму.-На-основании-полученного-графика-предположите,-какое-количество-кластеров-можно-выделить\" data-toc-modified-id=\"Постройте-матрицу-расстояний,-на-стандартизованной-матрице-признаков-и-нарисуйте-дендрограмму.-На-основании-полученного-графика-предположите,-какое-количество-кластеров-можно-выделить-4.2\"><span class=\"toc-item-num\">4.2&nbsp;&nbsp;</span>Постройте матрицу расстояний, на стандартизованной матрице признаков и нарисуйте дендрограмму. На основании полученного графика предположите, какое количество кластеров можно выделить</a></span></li><li><span><a href=\"#Обучите-модель-кластеризации-на-основании-алгоритма-K-Means-и-спрогнозируйте-кластеры-клиентов.\" data-toc-modified-id=\"Обучите-модель-кластеризации-на-основании-алгоритма-K-Means-и-спрогнозируйте-кластеры-клиентов.-4.3\"><span class=\"toc-item-num\">4.3&nbsp;&nbsp;</span>Обучите модель кластеризации на основании алгоритма K-Means и спрогнозируйте кластеры клиентов.</a></span></li><li><span><a href=\"#Посмотрите-на-средние-значения-признаков-для-кластеров.-Можно-ли-сразу-что-то-заметить?\" data-toc-modified-id=\"Посмотрите-на-средние-значения-признаков-для-кластеров.-Можно-ли-сразу-что-то-заметить?-4.4\"><span class=\"toc-item-num\">4.4&nbsp;&nbsp;</span>Посмотрите на средние значения признаков для кластеров. Можно ли сразу что-то заметить?</a></span></li><li><span><a href=\"#Постройте-распределения-признаков-для-кластеров.-Можно-ли-что-то-заметить-по-ним?\" data-toc-modified-id=\"Постройте-распределения-признаков-для-кластеров.-Можно-ли-что-то-заметить-по-ним?-4.5\"><span class=\"toc-item-num\">4.5&nbsp;&nbsp;</span>Постройте распределения признаков для кластеров. Можно ли что-то заметить по ним?</a></span></li><li><span><a href=\"#Для-каждого-полученного-кластера-посчитайте-долю-оттока.-Отличаются-ли-они-по-доле-оттока?-Какие-кластеры-склонны-к-оттоку,-а-какие-—-надёжны?\" data-toc-modified-id=\"Для-каждого-полученного-кластера-посчитайте-долю-оттока.-Отличаются-ли-они-по-доле-оттока?-Какие-кластеры-склонны-к-оттоку,-а-какие-—-надёжны?-4.6\"><span class=\"toc-item-num\">4.6&nbsp;&nbsp;</span>Для каждого полученного кластера посчитайте долю оттока. Отличаются ли они по доле оттока? Какие кластеры склонны к оттоку, а какие — надёжны?</a></span></li></ul></li><li><span><a href=\"#Общие-выводы-и-базовые-рекомендации-по-работе-с-клиентами\" data-toc-modified-id=\"Общие-выводы-и-базовые-рекомендации-по-работе-с-клиентами-5\"><span class=\"toc-item-num\">5&nbsp;&nbsp;</span>Общие выводы и базовые рекомендации по работе с клиентами</a></span></li></ul></div>"
   ]
  },
  {
   "cell_type": "markdown",
   "metadata": {},
   "source": [
    "# Прогноз оттока пользователей в фитнес-центрах"
   ]
  },
  {
   "cell_type": "markdown",
   "metadata": {},
   "source": [
    "**Описание проекта**\n",
    "\n",
    "Сеть фитнес-центров «Культурист-датасаентист» разрабатывает стратегию взаимодействия с клиентами на основе аналитических данных.\n",
    "\n",
    "Распространённая проблема фитнес-клубов и других сервисов — отток клиентов. Как понять, что клиент больше не с вами? Можно записать в отток тех, кто попросил закрыть договор или удалил аккаунт. Однако клиенты не всегда уходят демонстративно: чаще перестают пользоваться сервисом тихо.\n",
    "\n",
    "Индикаторы оттока зависят от специфики отрасли. Когда пользователь редко, но стабильно закупается в интернет-магазине — не похоже, что он «отвалился». А вот если две недели не заходит на канал с ежедневно обновляемым контентом, дела плохи: подписчик заскучал и, кажется, оставил вас.\n",
    "\n",
    "Для фитнес-центра можно считать, что клиент попал в отток, если за последний месяц ни разу не посетил спортзал. Конечно, не исключено, что он уехал на Бали и по приезде обязательно продолжит ходить на фитнес. Однако чаще бывает наоборот. Если клиент начал новую жизнь с понедельника, немного походил в спортзал, а потом пропал — скорее всего, он не вернётся. Чтобы бороться с оттоком, отдел по работе с клиентами «Культуриста-датасаентиста» перевёл в электронный вид множество клиентских анкет. Ваша задача — провести анализ и подготовить план действий по удержанию клиентов.\n",
    "\n",
    "А именно:\n",
    "научиться прогнозировать вероятность оттока (на уровне следующего месяца) для каждого клиента; сформировать типичные портреты клиентов: выделить несколько наиболее ярких групп и охарактеризовать их основные свойства; проанализировать основные признаки, наиболее сильно влияющие на отток; сформулировать основные выводы и разработать рекомендации по повышению качества работы с клиентами:\n",
    "\n",
    "1) выделить целевые группы клиентов;\n",
    "\n",
    "2) предложить меры по снижению оттока;\n",
    "\n",
    "3) определить другие особенности взаимодействия с клиентами.\n",
    "\n",
    "Описание данных\n",
    "- 'Churn' — факт оттока в текущем месяце;\n",
    "\n",
    "Текущие поля в датасете:\n",
    "\n",
    "Данные клиента за предыдущий до проверки факта оттока месяц:\n",
    "\n",
    "- `gender` — пол;\n",
    "- `Near_Location` — проживание или работа в районе, где находится фитнес-центр;\n",
    "- `Partner` — сотрудник компании-партнёра клуба (сотрудничество с компаниями, чьи сотрудники могут получать скидки на абонемент — в таком случае фитнес-центр хранит информацию о работодателе клиента);\n",
    "- `Promo_friends` — факт первоначальной записи в рамках акции «приведи друга» (использовал промо-код от знакомого при оплате первого абонемента);\n",
    "- `Phone` — наличие контактного телефона;\n",
    "- `Age` — возраст;\n",
    "- `Lifetime` — время с момента первого обращения в фитнес-центр (в месяцах).\n",
    "\n",
    "Информация на основе журнала посещений, покупок и информация о текущем статусе абонемента клиента:\n",
    "\n",
    "- `Contract_period` — длительность текущего действующего абонемента (месяц, 3 месяца, 6 месяцев, год);\n",
    "- `Month_to_end_contract` — срок до окончания текущего действующего абонемента (в месяцах);\n",
    "- `Group_visits` — факт посещения групповых занятий;\n",
    "- `Avg_class_frequency_total` — средняя частота посещений в неделю за все время с начала действия абонемента;\n",
    "- `Avg_class_frequency_current_month` — средняя частота посещений в неделю за предыдущий месяц;\n",
    "- `Avg_additional_charges_total` — суммарная выручка от других услуг фитнес-центра: кафе, спорт-товары, косметический и массажный салон."
   ]
  },
  {
   "cell_type": "markdown",
   "metadata": {},
   "source": [
    "Приступим к изучению данных."
   ]
  },
  {
   "cell_type": "markdown",
   "metadata": {},
   "source": [
    "<div class=\"alert alert-success\">\n",
    "<b>Комментарий ревьюера: ✅</b>\n",
    "\n",
    "Здорово, когда есть вступление в сам проект, каждый сможет быстрее разобраться в концепции / деталях работы. \n",
    "\n",
    "</div>"
   ]
  },
  {
   "cell_type": "markdown",
   "metadata": {},
   "source": [
    "## Изучение данных"
   ]
  },
  {
   "cell_type": "code",
   "execution_count": 1,
   "metadata": {},
   "outputs": [],
   "source": [
    "#импортируем необходимые библиотеки\n",
    "import pandas as pd\n",
    "import numpy as np\n",
    "import seaborn as sns\n",
    "\n",
    "import matplotlib\n",
    "import matplotlib.pyplot as plt\n",
    "\n",
    "from sklearn.model_selection import train_test_split\n",
    "from sklearn.linear_model import LogisticRegression\n",
    "from sklearn.ensemble import RandomForestClassifier\n",
    "from sklearn.preprocessing import StandardScaler\n",
    "from sklearn.metrics import accuracy_score, precision_score, recall_score, f1_score\n",
    "from scipy.cluster.hierarchy import dendrogram, linkage\n",
    "from sklearn.cluster import KMeans\n",
    "from sklearn.ensemble import RandomForestRegressor, GradientBoostingClassifier\n",
    "\n",
    "import warnings\n",
    "warnings.filterwarnings('ignore')"
   ]
  },
  {
   "cell_type": "code",
   "execution_count": 2,
   "metadata": {},
   "outputs": [
    {
     "ename": "FileNotFoundError",
     "evalue": "[Errno 2] No such file or directory: '/datasets/gym_churn.csv'",
     "output_type": "error",
     "traceback": [
      "\u001b[1;31m---------------------------------------------------------------------------\u001b[0m",
      "\u001b[1;31mFileNotFoundError\u001b[0m                         Traceback (most recent call last)",
      "\u001b[1;32m~\\AppData\\Local\\Temp/ipykernel_5380/2801986070.py\u001b[0m in \u001b[0;36m<module>\u001b[1;34m\u001b[0m\n\u001b[0;32m      1\u001b[0m \u001b[1;31m# прочитаем таблицу и сохраним её в переменную df\u001b[0m\u001b[1;33m\u001b[0m\u001b[1;33m\u001b[0m\u001b[0m\n\u001b[0;32m      2\u001b[0m \u001b[1;33m\u001b[0m\u001b[0m\n\u001b[1;32m----> 3\u001b[1;33m \u001b[0mdf\u001b[0m \u001b[1;33m=\u001b[0m \u001b[0mpd\u001b[0m\u001b[1;33m.\u001b[0m\u001b[0mread_csv\u001b[0m\u001b[1;33m(\u001b[0m\u001b[1;34m'/datasets/gym_churn.csv'\u001b[0m\u001b[1;33m)\u001b[0m\u001b[1;33m\u001b[0m\u001b[1;33m\u001b[0m\u001b[0m\n\u001b[0m\u001b[0;32m      4\u001b[0m \u001b[1;33m\u001b[0m\u001b[0m\n\u001b[0;32m      5\u001b[0m \u001b[1;31m# для удобства отобразим все колонки таблицыб округлим числовые значения до сотых и зададим формат будущих визуализаций\u001b[0m\u001b[1;33m\u001b[0m\u001b[1;33m\u001b[0m\u001b[0m\n",
      "\u001b[1;32m~\\anaconda3\\lib\\site-packages\\pandas\\util\\_decorators.py\u001b[0m in \u001b[0;36mwrapper\u001b[1;34m(*args, **kwargs)\u001b[0m\n\u001b[0;32m    309\u001b[0m                     \u001b[0mstacklevel\u001b[0m\u001b[1;33m=\u001b[0m\u001b[0mstacklevel\u001b[0m\u001b[1;33m,\u001b[0m\u001b[1;33m\u001b[0m\u001b[1;33m\u001b[0m\u001b[0m\n\u001b[0;32m    310\u001b[0m                 )\n\u001b[1;32m--> 311\u001b[1;33m             \u001b[1;32mreturn\u001b[0m \u001b[0mfunc\u001b[0m\u001b[1;33m(\u001b[0m\u001b[1;33m*\u001b[0m\u001b[0margs\u001b[0m\u001b[1;33m,\u001b[0m \u001b[1;33m**\u001b[0m\u001b[0mkwargs\u001b[0m\u001b[1;33m)\u001b[0m\u001b[1;33m\u001b[0m\u001b[1;33m\u001b[0m\u001b[0m\n\u001b[0m\u001b[0;32m    312\u001b[0m \u001b[1;33m\u001b[0m\u001b[0m\n\u001b[0;32m    313\u001b[0m         \u001b[1;32mreturn\u001b[0m \u001b[0mwrapper\u001b[0m\u001b[1;33m\u001b[0m\u001b[1;33m\u001b[0m\u001b[0m\n",
      "\u001b[1;32m~\\anaconda3\\lib\\site-packages\\pandas\\io\\parsers\\readers.py\u001b[0m in \u001b[0;36mread_csv\u001b[1;34m(filepath_or_buffer, sep, delimiter, header, names, index_col, usecols, squeeze, prefix, mangle_dupe_cols, dtype, engine, converters, true_values, false_values, skipinitialspace, skiprows, skipfooter, nrows, na_values, keep_default_na, na_filter, verbose, skip_blank_lines, parse_dates, infer_datetime_format, keep_date_col, date_parser, dayfirst, cache_dates, iterator, chunksize, compression, thousands, decimal, lineterminator, quotechar, quoting, doublequote, escapechar, comment, encoding, encoding_errors, dialect, error_bad_lines, warn_bad_lines, on_bad_lines, delim_whitespace, low_memory, memory_map, float_precision, storage_options)\u001b[0m\n\u001b[0;32m    584\u001b[0m     \u001b[0mkwds\u001b[0m\u001b[1;33m.\u001b[0m\u001b[0mupdate\u001b[0m\u001b[1;33m(\u001b[0m\u001b[0mkwds_defaults\u001b[0m\u001b[1;33m)\u001b[0m\u001b[1;33m\u001b[0m\u001b[1;33m\u001b[0m\u001b[0m\n\u001b[0;32m    585\u001b[0m \u001b[1;33m\u001b[0m\u001b[0m\n\u001b[1;32m--> 586\u001b[1;33m     \u001b[1;32mreturn\u001b[0m \u001b[0m_read\u001b[0m\u001b[1;33m(\u001b[0m\u001b[0mfilepath_or_buffer\u001b[0m\u001b[1;33m,\u001b[0m \u001b[0mkwds\u001b[0m\u001b[1;33m)\u001b[0m\u001b[1;33m\u001b[0m\u001b[1;33m\u001b[0m\u001b[0m\n\u001b[0m\u001b[0;32m    587\u001b[0m \u001b[1;33m\u001b[0m\u001b[0m\n\u001b[0;32m    588\u001b[0m \u001b[1;33m\u001b[0m\u001b[0m\n",
      "\u001b[1;32m~\\anaconda3\\lib\\site-packages\\pandas\\io\\parsers\\readers.py\u001b[0m in \u001b[0;36m_read\u001b[1;34m(filepath_or_buffer, kwds)\u001b[0m\n\u001b[0;32m    480\u001b[0m \u001b[1;33m\u001b[0m\u001b[0m\n\u001b[0;32m    481\u001b[0m     \u001b[1;31m# Create the parser.\u001b[0m\u001b[1;33m\u001b[0m\u001b[1;33m\u001b[0m\u001b[0m\n\u001b[1;32m--> 482\u001b[1;33m     \u001b[0mparser\u001b[0m \u001b[1;33m=\u001b[0m \u001b[0mTextFileReader\u001b[0m\u001b[1;33m(\u001b[0m\u001b[0mfilepath_or_buffer\u001b[0m\u001b[1;33m,\u001b[0m \u001b[1;33m**\u001b[0m\u001b[0mkwds\u001b[0m\u001b[1;33m)\u001b[0m\u001b[1;33m\u001b[0m\u001b[1;33m\u001b[0m\u001b[0m\n\u001b[0m\u001b[0;32m    483\u001b[0m \u001b[1;33m\u001b[0m\u001b[0m\n\u001b[0;32m    484\u001b[0m     \u001b[1;32mif\u001b[0m \u001b[0mchunksize\u001b[0m \u001b[1;32mor\u001b[0m \u001b[0miterator\u001b[0m\u001b[1;33m:\u001b[0m\u001b[1;33m\u001b[0m\u001b[1;33m\u001b[0m\u001b[0m\n",
      "\u001b[1;32m~\\anaconda3\\lib\\site-packages\\pandas\\io\\parsers\\readers.py\u001b[0m in \u001b[0;36m__init__\u001b[1;34m(self, f, engine, **kwds)\u001b[0m\n\u001b[0;32m    809\u001b[0m             \u001b[0mself\u001b[0m\u001b[1;33m.\u001b[0m\u001b[0moptions\u001b[0m\u001b[1;33m[\u001b[0m\u001b[1;34m\"has_index_names\"\u001b[0m\u001b[1;33m]\u001b[0m \u001b[1;33m=\u001b[0m \u001b[0mkwds\u001b[0m\u001b[1;33m[\u001b[0m\u001b[1;34m\"has_index_names\"\u001b[0m\u001b[1;33m]\u001b[0m\u001b[1;33m\u001b[0m\u001b[1;33m\u001b[0m\u001b[0m\n\u001b[0;32m    810\u001b[0m \u001b[1;33m\u001b[0m\u001b[0m\n\u001b[1;32m--> 811\u001b[1;33m         \u001b[0mself\u001b[0m\u001b[1;33m.\u001b[0m\u001b[0m_engine\u001b[0m \u001b[1;33m=\u001b[0m \u001b[0mself\u001b[0m\u001b[1;33m.\u001b[0m\u001b[0m_make_engine\u001b[0m\u001b[1;33m(\u001b[0m\u001b[0mself\u001b[0m\u001b[1;33m.\u001b[0m\u001b[0mengine\u001b[0m\u001b[1;33m)\u001b[0m\u001b[1;33m\u001b[0m\u001b[1;33m\u001b[0m\u001b[0m\n\u001b[0m\u001b[0;32m    812\u001b[0m \u001b[1;33m\u001b[0m\u001b[0m\n\u001b[0;32m    813\u001b[0m     \u001b[1;32mdef\u001b[0m \u001b[0mclose\u001b[0m\u001b[1;33m(\u001b[0m\u001b[0mself\u001b[0m\u001b[1;33m)\u001b[0m\u001b[1;33m:\u001b[0m\u001b[1;33m\u001b[0m\u001b[1;33m\u001b[0m\u001b[0m\n",
      "\u001b[1;32m~\\anaconda3\\lib\\site-packages\\pandas\\io\\parsers\\readers.py\u001b[0m in \u001b[0;36m_make_engine\u001b[1;34m(self, engine)\u001b[0m\n\u001b[0;32m   1038\u001b[0m             )\n\u001b[0;32m   1039\u001b[0m         \u001b[1;31m# error: Too many arguments for \"ParserBase\"\u001b[0m\u001b[1;33m\u001b[0m\u001b[1;33m\u001b[0m\u001b[0m\n\u001b[1;32m-> 1040\u001b[1;33m         \u001b[1;32mreturn\u001b[0m \u001b[0mmapping\u001b[0m\u001b[1;33m[\u001b[0m\u001b[0mengine\u001b[0m\u001b[1;33m]\u001b[0m\u001b[1;33m(\u001b[0m\u001b[0mself\u001b[0m\u001b[1;33m.\u001b[0m\u001b[0mf\u001b[0m\u001b[1;33m,\u001b[0m \u001b[1;33m**\u001b[0m\u001b[0mself\u001b[0m\u001b[1;33m.\u001b[0m\u001b[0moptions\u001b[0m\u001b[1;33m)\u001b[0m  \u001b[1;31m# type: ignore[call-arg]\u001b[0m\u001b[1;33m\u001b[0m\u001b[1;33m\u001b[0m\u001b[0m\n\u001b[0m\u001b[0;32m   1041\u001b[0m \u001b[1;33m\u001b[0m\u001b[0m\n\u001b[0;32m   1042\u001b[0m     \u001b[1;32mdef\u001b[0m \u001b[0m_failover_to_python\u001b[0m\u001b[1;33m(\u001b[0m\u001b[0mself\u001b[0m\u001b[1;33m)\u001b[0m\u001b[1;33m:\u001b[0m\u001b[1;33m\u001b[0m\u001b[1;33m\u001b[0m\u001b[0m\n",
      "\u001b[1;32m~\\anaconda3\\lib\\site-packages\\pandas\\io\\parsers\\c_parser_wrapper.py\u001b[0m in \u001b[0;36m__init__\u001b[1;34m(self, src, **kwds)\u001b[0m\n\u001b[0;32m     49\u001b[0m \u001b[1;33m\u001b[0m\u001b[0m\n\u001b[0;32m     50\u001b[0m         \u001b[1;31m# open handles\u001b[0m\u001b[1;33m\u001b[0m\u001b[1;33m\u001b[0m\u001b[0m\n\u001b[1;32m---> 51\u001b[1;33m         \u001b[0mself\u001b[0m\u001b[1;33m.\u001b[0m\u001b[0m_open_handles\u001b[0m\u001b[1;33m(\u001b[0m\u001b[0msrc\u001b[0m\u001b[1;33m,\u001b[0m \u001b[0mkwds\u001b[0m\u001b[1;33m)\u001b[0m\u001b[1;33m\u001b[0m\u001b[1;33m\u001b[0m\u001b[0m\n\u001b[0m\u001b[0;32m     52\u001b[0m         \u001b[1;32massert\u001b[0m \u001b[0mself\u001b[0m\u001b[1;33m.\u001b[0m\u001b[0mhandles\u001b[0m \u001b[1;32mis\u001b[0m \u001b[1;32mnot\u001b[0m \u001b[1;32mNone\u001b[0m\u001b[1;33m\u001b[0m\u001b[1;33m\u001b[0m\u001b[0m\n\u001b[0;32m     53\u001b[0m \u001b[1;33m\u001b[0m\u001b[0m\n",
      "\u001b[1;32m~\\anaconda3\\lib\\site-packages\\pandas\\io\\parsers\\base_parser.py\u001b[0m in \u001b[0;36m_open_handles\u001b[1;34m(self, src, kwds)\u001b[0m\n\u001b[0;32m    220\u001b[0m         \u001b[0mLet\u001b[0m \u001b[0mthe\u001b[0m \u001b[0mreaders\u001b[0m \u001b[0mopen\u001b[0m \u001b[0mIOHandles\u001b[0m \u001b[0mafter\u001b[0m \u001b[0mthey\u001b[0m \u001b[0mare\u001b[0m \u001b[0mdone\u001b[0m \u001b[1;32mwith\u001b[0m \u001b[0mtheir\u001b[0m \u001b[0mpotential\u001b[0m \u001b[0mraises\u001b[0m\u001b[1;33m.\u001b[0m\u001b[1;33m\u001b[0m\u001b[1;33m\u001b[0m\u001b[0m\n\u001b[0;32m    221\u001b[0m         \"\"\"\n\u001b[1;32m--> 222\u001b[1;33m         self.handles = get_handle(\n\u001b[0m\u001b[0;32m    223\u001b[0m             \u001b[0msrc\u001b[0m\u001b[1;33m,\u001b[0m\u001b[1;33m\u001b[0m\u001b[1;33m\u001b[0m\u001b[0m\n\u001b[0;32m    224\u001b[0m             \u001b[1;34m\"r\"\u001b[0m\u001b[1;33m,\u001b[0m\u001b[1;33m\u001b[0m\u001b[1;33m\u001b[0m\u001b[0m\n",
      "\u001b[1;32m~\\anaconda3\\lib\\site-packages\\pandas\\io\\common.py\u001b[0m in \u001b[0;36mget_handle\u001b[1;34m(path_or_buf, mode, encoding, compression, memory_map, is_text, errors, storage_options)\u001b[0m\n\u001b[0;32m    700\u001b[0m         \u001b[1;32mif\u001b[0m \u001b[0mioargs\u001b[0m\u001b[1;33m.\u001b[0m\u001b[0mencoding\u001b[0m \u001b[1;32mand\u001b[0m \u001b[1;34m\"b\"\u001b[0m \u001b[1;32mnot\u001b[0m \u001b[1;32min\u001b[0m \u001b[0mioargs\u001b[0m\u001b[1;33m.\u001b[0m\u001b[0mmode\u001b[0m\u001b[1;33m:\u001b[0m\u001b[1;33m\u001b[0m\u001b[1;33m\u001b[0m\u001b[0m\n\u001b[0;32m    701\u001b[0m             \u001b[1;31m# Encoding\u001b[0m\u001b[1;33m\u001b[0m\u001b[1;33m\u001b[0m\u001b[0m\n\u001b[1;32m--> 702\u001b[1;33m             handle = open(\n\u001b[0m\u001b[0;32m    703\u001b[0m                 \u001b[0mhandle\u001b[0m\u001b[1;33m,\u001b[0m\u001b[1;33m\u001b[0m\u001b[1;33m\u001b[0m\u001b[0m\n\u001b[0;32m    704\u001b[0m                 \u001b[0mioargs\u001b[0m\u001b[1;33m.\u001b[0m\u001b[0mmode\u001b[0m\u001b[1;33m,\u001b[0m\u001b[1;33m\u001b[0m\u001b[1;33m\u001b[0m\u001b[0m\n",
      "\u001b[1;31mFileNotFoundError\u001b[0m: [Errno 2] No such file or directory: '/datasets/gym_churn.csv'"
     ]
    }
   ],
   "source": [
    "# прочитаем таблицу и сохраним её в переменную df\n",
    "\n",
    "df = pd.read_csv('/datasets/gym_churn.csv')\n",
    "\n",
    "# для удобства отобразим все колонки таблицыб округлим числовые значения до сотых и зададим формат будущих визуализаций\n",
    "\n",
    "pd.set_option('display.max_columns', None)\n",
    "pd.options.display.float_format = '{:,.2f}'.format\n",
    "sns.set(rc={'figure.figsize':(16,9)})\n",
    "\n",
    "# выведем первые 10 строк таблицы\n",
    "\n",
    "df.head(10)"
   ]
  },
  {
   "cell_type": "code",
   "execution_count": null,
   "metadata": {},
   "outputs": [],
   "source": [
    "#переведем названия колонок в нижний регистр\n",
    "\n",
    "df.columns = df.columns.str.lower()"
   ]
  },
  {
   "cell_type": "code",
   "execution_count": null,
   "metadata": {},
   "outputs": [],
   "source": [
    "#поменяем порядок столбцов, чтобы бинарные признаки были рядом, а затем шли небинарные (кроме churn)\n",
    "\n",
    "df = df[['gender',\n",
    "         'near_location',\n",
    "         'partner',\n",
    "         'promo_friends',\n",
    "         'phone',\n",
    "         'group_visits',\n",
    "         'age',\n",
    "         'contract_period',\n",
    "         'month_to_end_contract',\n",
    "         'lifetime',\n",
    "         'avg_class_frequency_total',\n",
    "         'avg_class_frequency_current_month',\n",
    "         'avg_additional_charges_total',\n",
    "         'churn']]"
   ]
  },
  {
   "cell_type": "code",
   "execution_count": null,
   "metadata": {},
   "outputs": [],
   "source": [
    "# посмотрим что у нас получилось\n",
    "\n",
    "df.head()"
   ]
  },
  {
   "cell_type": "code",
   "execution_count": null,
   "metadata": {},
   "outputs": [],
   "source": [
    "#посмотрим на общие сведения о таблице\n",
    "\n",
    "df.info()"
   ]
  },
  {
   "cell_type": "code",
   "execution_count": null,
   "metadata": {},
   "outputs": [],
   "source": [
    "#посмотрим на уникальные значения в столбце с месяцами\n",
    "\n",
    "df['month_to_end_contract'].value_counts()"
   ]
  },
  {
   "cell_type": "code",
   "execution_count": null,
   "metadata": {},
   "outputs": [],
   "source": [
    "#переведем тип данных в целочисленный\n",
    "\n",
    "df.month_to_end_contract = df.month_to_end_contract.astype(np.int64)"
   ]
  },
  {
   "cell_type": "code",
   "execution_count": null,
   "metadata": {},
   "outputs": [],
   "source": [
    "#проверим датасет на дубликаты\n",
    "\n",
    "df.duplicated().sum()"
   ]
  },
  {
   "cell_type": "markdown",
   "metadata": {},
   "source": [
    "**Вывод**\n",
    "\n",
    "Мы имеем у себя в распоряжении качественные данные. В датасете 4000 строк без пропусков и дубликатов. Привёл названия столбцов к нижнему регистру и значения в столбце с месяцами  к целочисленному типу для удобства при дальнейшей работе."
   ]
  },
  {
   "cell_type": "markdown",
   "metadata": {},
   "source": [
    "## Исследовательский анализ данных (EDA)"
   ]
  },
  {
   "cell_type": "markdown",
   "metadata": {},
   "source": [
    "* Посмотрим на датасет: есть ли в нем отсутствующие признаки, изучим средние значения и стандартные отклонения (пригодится метод describe());\n",
    "* Посмотрим на средние значения признаков в двух группах — тех, кто ушел в отток и тех, кто остался (воспользуемся методом groupby());\n",
    "* Построим столбчатые гистограммы и распределения признаков для тех, кто ушёл (отток) и тех, кто остался (не попали в отток);\n",
    "* Построим матрицу корреляций и отобразим её."
   ]
  },
  {
   "cell_type": "markdown",
   "metadata": {},
   "source": [
    "### Посмотрим на датасет: есть ли в нем отсутствующие признаки, изучим средние значения и стандартные отклонения"
   ]
  },
  {
   "cell_type": "code",
   "execution_count": null,
   "metadata": {},
   "outputs": [],
   "source": [
    "df.describe()"
   ]
  },
  {
   "cell_type": "markdown",
   "metadata": {},
   "source": [
    "* Большая часть клиентов живет в непосредственной близости от фитнес-центров, об этом говорит высокое среднее и низкое стандартное отклонение(значит разброс небольшой). \n",
    "* Половина клиентов пришла по партнерским программам, среди клиентов довольно мало тех, кто пришел по акции \"приведи друга\", \n",
    "* почти у всех указан номер телефона, \n",
    "* менее половины посещают групповые занятия(видимо предпочитая заниматься самостоятельно), \n",
    "* Средний возраст клиента составляет 29-30 лет. \n",
    "* Абонементы быват от 1 до 12 месяцев и судя по стандартному отклонению разброс этих абонементов довольно большой. \n",
    "* То же касается и срока окончания действия абонементов. Есть клиенты, которые еще ни разу не успели посетить занятия и те, кто занимается уже более 2 лет. \n",
    "* Есть которые занимаются по 6 раз в неделю, но в среднем это 1-2 посещения в неделю. \n",
    "* Максимальная выручка с доп. услуг в центрах более 500 единиц валюты, в среднем 147. \n",
    "* Отток на первый взгляд выглядит не катастрофическим, в среднем около 30%. Но это и не самый маленький результат, почему так происходит разберемся далее."
   ]
  },
  {
   "cell_type": "markdown",
   "metadata": {},
   "source": [
    "### Посмотрим на средние значения признаков в двух группах — тех, кто ушел в отток и тех, кто остался"
   ]
  },
  {
   "cell_type": "code",
   "execution_count": null,
   "metadata": {},
   "outputs": [],
   "source": [
    "df.groupby('churn').agg('mean').T"
   ]
  },
  {
   "cell_type": "markdown",
   "metadata": {},
   "source": [
    "В оттоке у нас наблюдается картина, в которой пол не влияет на значения. Это клиенты, которые чаще живут не в непосредственной близости к клубу, пришедшие не по партнерской скидочной программе. Которые реже посещают групповые занятия, в среднем занимаются около месяца.\n",
    "\n",
    "Предварительно можно сделать предположение, что клиенты в оттоке это те, кто живут чаще не очень близко, пришли попробовать позаниматься в клубе, посмотреть понравится ли, взяли пробный абонемент на месяц, не имели каких-либо предложений по скидкам/партнерским программам. По каким-то причинам их что-то не устроило или они нашли более выгодные и удобные варианты."
   ]
  },
  {
   "cell_type": "markdown",
   "metadata": {},
   "source": [
    "<div class=\"alert alert-success\">\n",
    "<b>Комментарий ревьюера: ✅</b>\n",
    "\n",
    "Отличный и удобный формат таблицы для дальнейшего его изучения 👍\n",
    "</div>"
   ]
  },
  {
   "cell_type": "markdown",
   "metadata": {},
   "source": [
    "### Построим столбчатые гистограммы и распределения признаков для тех, кто ушёл (отток) и тех, кто остался (не попали в отток)"
   ]
  },
  {
   "cell_type": "code",
   "execution_count": null,
   "metadata": {},
   "outputs": [],
   "source": [
    "for column in df.columns:\n",
    "    plt.figure(figsize=(5, 5))\n",
    "    df.groupby('churn')[column]\n",
    "    sns.distplot(df[column])\n",
    "    plt.title(column)\n",
    "    plt.show()"
   ]
  },
  {
   "cell_type": "code",
   "execution_count": null,
   "metadata": {},
   "outputs": [],
   "source": [
    "#построим countplot-графики для бинарных признаков\n",
    "\n",
    "for column in ['gender', 'near_location', 'partner', 'promo_friends', 'phone', 'group_visits']:\n",
    "    plt.figure(figsize=(5, 5))\n",
    "    sns.countplot(x = df[column], hue='churn', data=df)\n",
    "    plt.title(column)\n",
    "    plt.show()"
   ]
  },
  {
   "cell_type": "markdown",
   "metadata": {},
   "source": [
    "<div class=\"alert alert-success\">\n",
    "<b>Комментарий ревьюера: ✅</b>\n",
    "\n",
    "Отличный способ визуализации, в том числе можно было бы построить наши графики с помощью метода `subplots`, например в 2 колонки, для нашего удоства в их изучении.\n",
    "    \n",
    "Тут можно посмотреть примеры. \n",
    "    \n",
    "- `matplotlib`: https://matplotlib.org/3.3.3/api/_as_gen/matplotlib.pyplot.subplots.html\n",
    "- `plotly` : https://plotly.com/python/subplots/\n",
    "    \n",
    "\n",
    "</div>"
   ]
  },
  {
   "cell_type": "markdown",
   "metadata": {},
   "source": [
    "### Построим матрицу корреляций и отобразите её"
   ]
  },
  {
   "cell_type": "code",
   "execution_count": null,
   "metadata": {},
   "outputs": [],
   "source": [
    "corr_matrix = df.corr()\n",
    "plt.figure(figsize=(14, 10))\n",
    "sns.heatmap(corr_matrix , annot = True, fmt = '0.2f', linewidths=.5, cmap=\"seismic\")\n",
    "plt.show()"
   ]
  },
  {
   "cell_type": "markdown",
   "metadata": {},
   "source": [
    "Есть мультиколлинеарные признаки - `contract_period` и `month_to_end_contract`, `avg_class_frequency_current_month` и `avg_class_frequency_total`. Есть признаки с нулевой корреляцией с целевой переменной, это `phone` и `gender`, они вообще никак не влияют на отток. Наиболее сильно влияют на отток: время с момента первого обращения в фитнес-центр, количество псещений в месяц, возраст, длительность текущего действующего абонемента ну и в конце этого топа наличие скидок по партнерской программе или факт, что клиента пригласил друг."
   ]
  },
  {
   "cell_type": "markdown",
   "metadata": {},
   "source": [
    "<div class=\"alert alert-success\">\n",
    "<b>Комментарий ревьюера: ✅</b>\n",
    "\n",
    "Действительно у нас есть сильная корреляция между несколькими переменными.\n",
    "    \n",
    "И здорово, что ниже мы избавляемся от них 👍\n",
    "    \n",
    "</div>"
   ]
  },
  {
   "cell_type": "markdown",
   "metadata": {},
   "source": [
    "**Вывод**\n",
    "\n",
    "Средний возраст клиента 29-30 лет и возрастной признак сильно коррелирует с оттоком, в отток попадают более молодые клиенты. Так же ключевыми переменными являются: время с момента первого обращения в фитнес-центр, количество псещений в месяц, длительность текущего действующего абонемента, наличие скидок по партнерской программе или факт, что клиента пригласил друг. Похоже, что чаще всего в отток попадают клиенты, которые берут пробный абонемент на месяц, редко посещают спорт-зал, не посещают групповые занятия и которым не были предложены скидки по партнерской программе."
   ]
  },
  {
   "cell_type": "markdown",
   "metadata": {},
   "source": [
    "## Построение модели прогнозирования оттока клиентов"
   ]
  },
  {
   "cell_type": "markdown",
   "metadata": {},
   "source": [
    "Построим модель бинарной классификации клиентов, где целевой признак — факт оттока клиента в следующем месяце:"
   ]
  },
  {
   "cell_type": "markdown",
   "metadata": {},
   "source": [
    "### Разбейте данные на обучающую и валидационную выборку"
   ]
  },
  {
   "cell_type": "markdown",
   "metadata": {},
   "source": [
    "Так как у нас присутствует две пары мультиколлинеарных признаков (всего 4 таких признака), мы попробуем превратить их в 2 новых признака при помощи линейных комбинаций. Это признаки: \"длительность абонемента / месяц окончания абонемента\" и \"средняя частота посещений в неделю за предыдущий месяц / средняя частота посещений в неделю за все время с начала действия абонемента\". Попробуем применить в данном случае вычитание."
   ]
  },
  {
   "cell_type": "code",
   "execution_count": null,
   "metadata": {},
   "outputs": [],
   "source": [
    "#создадим новый датафрейм\n",
    "df_for_models = df\n",
    "\n",
    "#создадим столбцы с новыми признаками\n",
    "df_for_models['f1'] = df['month_to_end_contract'] - df['contract_period']\n",
    "df_for_models['f2'] = df['avg_class_frequency_total'] - df['avg_class_frequency_current_month']\n",
    "\n",
    "#удалим столбцы со старыми признаками, которые нам больше не нужны\n",
    "df_for_models = df.drop(['month_to_end_contract', 'contract_period', \n",
    "                         'avg_class_frequency_total', \n",
    "                         'avg_class_frequency_current_month'], axis=1)"
   ]
  },
  {
   "cell_type": "markdown",
   "metadata": {},
   "source": [
    "<div class=\"alert alert-success\">\n",
    "<b>Комментарий ревьюера: ✅</b>\n",
    "\n",
    "    \n",
    "Крутая идея для дополнительных фичей 👍\n",
    "    \n",
    "</div>"
   ]
  },
  {
   "cell_type": "code",
   "execution_count": null,
   "metadata": {},
   "outputs": [],
   "source": [
    "#разобъем столбцы на обучающую и валидационную выборки\n",
    "\n",
    "X = df_for_models.drop('churn', axis = 1)\n",
    "y = df_for_models['churn']"
   ]
  },
  {
   "cell_type": "markdown",
   "metadata": {},
   "source": [
    "### Обучите модель на train-выборке двумя способами: логистической регрессией и случайным лесом."
   ]
  },
  {
   "cell_type": "markdown",
   "metadata": {},
   "source": [
    "**Логистическая регрессия**"
   ]
  },
  {
   "cell_type": "code",
   "execution_count": null,
   "metadata": {},
   "outputs": [],
   "source": [
    "#логистическая регрессия без стандартизации\n",
    "X_train, X_test, y_train, y_test = train_test_split(X, y,\n",
    "                                                    test_size=0.2,\n",
    "                                                    random_state=0,\n",
    "                                                    stratify=y)\n",
    "\n",
    "model = LogisticRegression(random_state=0, solver='liblinear')\n",
    "model.fit(X_train, y_train)\n",
    "\n",
    "predictions = model.predict(X_test)\n",
    "probabilities =  model.predict_proba(X_test)[:,1]"
   ]
  },
  {
   "cell_type": "markdown",
   "metadata": {},
   "source": [
    "<div class=\"alert alert-success\">\n",
    "<b>Комментарий ревьюера: ✅</b>\n",
    "\n",
    "    \n",
    "В целом выборка разделена верно. \n",
    "Здорово, что используешь атрибут `stratify`. Он как раз дает нам безопасность сохранения 20% значений нужного нам количества классов в целевой переменной.\n",
    "    \n",
    "    \n",
    "---\n",
    "    \n",
    "Хорошо, что используем параметр `random_state`, чтобы получать одни и те же результаты.\n",
    "    \n",
    "</div>"
   ]
  },
  {
   "cell_type": "code",
   "execution_count": null,
   "metadata": {},
   "outputs": [],
   "source": [
    "print('Accuracy: {:.2f}'.format(accuracy_score(y_test, predictions)))\n",
    "print('Precision: {:.2f}'.format(precision_score(y_test, predictions)))\n",
    "print('Recall: {:.2f}'.format(recall_score(y_test, predictions)))\n",
    "print('F1: {:.2f}'.format(f1_score(y_test, predictions)))"
   ]
  },
  {
   "cell_type": "markdown",
   "metadata": {},
   "source": [
    "**Логистическая регрессия со стандартизацией**"
   ]
  },
  {
   "cell_type": "code",
   "execution_count": null,
   "metadata": {},
   "outputs": [],
   "source": [
    "#логистическая регрессия со стандартизацией\n",
    "scaler = StandardScaler()\n",
    "scaler.fit(X_train)\n",
    "\n",
    "X_train_st = scaler.transform(X_train)\n",
    "X_test_st = scaler.transform(X_test)\n",
    "\n",
    "lr_model = LogisticRegression(random_state=0, solver='liblinear')\n",
    "lr_model.fit(X_train_st, y_train)\n",
    "\n",
    "lr_predictions = lr_model.predict(X_test_st)\n",
    "lr_probabilities = lr_model.predict_proba(X_test_st)[:,1]"
   ]
  },
  {
   "cell_type": "code",
   "execution_count": null,
   "metadata": {},
   "outputs": [],
   "source": [
    "print('Accuracy: {:.2f}'.format(accuracy_score(y_test, lr_predictions)))\n",
    "print('Precision: {:.2f}'.format(precision_score(y_test, lr_predictions)))\n",
    "print('Recall: {:.2f}'.format(recall_score(y_test, lr_predictions)))\n",
    "print('F1: {:.2f}'.format(f1_score(y_test, lr_predictions)))"
   ]
  },
  {
   "cell_type": "markdown",
   "metadata": {},
   "source": [
    "Со стандартизацией показатели чуть-чуть лучше, чем без."
   ]
  },
  {
   "cell_type": "markdown",
   "metadata": {},
   "source": [
    "**Случайный лес**"
   ]
  },
  {
   "cell_type": "code",
   "execution_count": null,
   "metadata": {},
   "outputs": [],
   "source": [
    "scaler = StandardScaler()\n",
    "scaler.fit(X_train)\n",
    "\n",
    "X_train_st = scaler.transform(X_train)\n",
    "X_test_st = scaler.transform(X_test)\n",
    "\n",
    "rf_model = RandomForestClassifier(n_estimators = 100, random_state = 0) \n",
    "rf_model.fit(X_train_st, y_train)\n",
    "\n",
    "rf_predictions = rf_model.predict(X_test_st) \n",
    "rf_probabilities = rf_model.predict_proba(X_test_st)[:,1]"
   ]
  },
  {
   "cell_type": "code",
   "execution_count": null,
   "metadata": {},
   "outputs": [],
   "source": [
    "print('Accuracy: {:.2f}'.format(accuracy_score(y_test, rf_predictions)))\n",
    "print('Precision: {:.2f}'.format(precision_score(y_test, rf_predictions)))\n",
    "print('Recall: {:.2f}'.format(recall_score(y_test, rf_predictions)))\n",
    "print('F1: {:.2f}'.format(f1_score(y_test, rf_predictions)))"
   ]
  },
  {
   "cell_type": "markdown",
   "metadata": {},
   "source": [
    "**Вывод**\n",
    "\n",
    "Все модели показали себя хорошо, так как вероятность предсказания оттока составляет более 90%. Лучший результат в данном случае показал RandomForest."
   ]
  },
  {
   "cell_type": "markdown",
   "metadata": {},
   "source": [
    "<div class=\"alert alert-success\">\n",
    "<b>Комментарий ревьюера: ✅</b>\n",
    "   \n",
    "Обрати внимание, что все рассчитанные метрики по отдельности сложны в интерпритации, хотелось чтобы одна метрика включала в себя самые ключевые параметры. Есть метрика `F1`, которая как раз включает в себя основные параметры точности и полноты. \n",
    "    \n",
    "В том числе рекомендую смотреть на метрику `ROC–AUC`. \n",
    "    \n",
    "    \n",
    "Ниже статья, в которой есть материалы про метрики и как их визуализировать.\n",
    "    \n",
    "https://habr.com/ru/company/ods/blog/328372/\n",
    "    \n",
    "---\n",
    "\n",
    "Можно также попробовать и сравнить параметр `C` у логистической регрессии. У случайного леса количество деревьев (`n_estimators`) и максимальную глубину дерева (`max_depth`), чтобы осуществить поиск лучшей модели.\n",
    "    \n",
    "---\n",
    "    \n",
    "Кстати для автоматического перебора гиперпараметров мы можем использовать готовый метод `GreadSearchCV` в библиотеке `sklearn`. \n",
    "    \n",
    "</div>"
   ]
  },
  {
   "cell_type": "markdown",
   "metadata": {},
   "source": [
    "## Кластеризация клиентов"
   ]
  },
  {
   "cell_type": "markdown",
   "metadata": {},
   "source": [
    "Отложите в сторону столбец с оттоком и проведите кластеризацию объектов (клиентов):\n",
    "* Стандартизируйте данные.\n",
    "* Постройте матрицу расстояний функцией linkage() на стандартизованной матрице признаков и нарисуйте дендрограмму. Внимание: отрисовка дендрограммы может занять время! На основании полученного графика предположите, какое количество кластеров можно выделить.\n",
    "* Обучите модель кластеризации на основании алгоритма K-Means и спрогнозируйте кластеры клиентов. Договоримся за число кластеров принять n=5, чтобы ваши результаты можно было сравнивать с результатами остальных студентов. Однако, конечно, в жизни никто не скажет вам правильный ответ, и решение остаётся за вами (на основании изучения графика из предыдущего пункта).\n",
    "* Посмотрите на средние значения признаков для кластеров. Можно ли сразу что-то заметить?\n",
    "* Постройте распределения признаков для кластеров. Можно ли что-то заметить по ним?\n",
    "* Для каждого полученного кластера посчитайте долю оттока (методом groupby()). Отличаются ли они по доле оттока? Какие кластеры склонны к оттоку, а какие — надёжны?"
   ]
  },
  {
   "cell_type": "code",
   "execution_count": null,
   "metadata": {},
   "outputs": [],
   "source": [
    "#уберем столбец churn\n",
    "\n",
    "df_sс = df.drop(['churn'], axis=1)\n",
    "df_columns_list = df_sс.columns\n",
    "df_sс.head()"
   ]
  },
  {
   "cell_type": "markdown",
   "metadata": {},
   "source": [
    "### Стандартизируйте данные"
   ]
  },
  {
   "cell_type": "code",
   "execution_count": null,
   "metadata": {},
   "outputs": [],
   "source": [
    "df_sс = StandardScaler().fit_transform(df_sс)\n",
    "df_sс = pd.DataFrame(df_sс, columns = df_columns_list).astype('float64')"
   ]
  },
  {
   "cell_type": "markdown",
   "metadata": {},
   "source": [
    "### Постройте матрицу расстояний, на стандартизованной матрице признаков и нарисуйте дендрограмму. На основании полученного графика предположите, какое количество кластеров можно выделить"
   ]
  },
  {
   "cell_type": "code",
   "execution_count": null,
   "metadata": {},
   "outputs": [],
   "source": [
    "linked = linkage(df_sс, method = 'ward')"
   ]
  },
  {
   "cell_type": "code",
   "execution_count": null,
   "metadata": {},
   "outputs": [],
   "source": [
    "plt.figure(figsize=(16, 9))  \n",
    "dendrogram(linked, orientation = 'top')\n",
    "plt.title('Кластеризация пользователей')\n",
    "plt.show()"
   ]
  },
  {
   "cell_type": "markdown",
   "metadata": {},
   "source": [
    "### Обучите модель кластеризации на основании алгоритма K-Means и спрогнозируйте кластеры клиентов."
   ]
  },
  {
   "cell_type": "markdown",
   "metadata": {},
   "source": [
    "<div class=\"alert alert-success\">\n",
    "<b>Комментарий ревьюера: ✅</b>\n",
    "    \n",
    "Отлично 👍\n",
    "\n",
    "В том числе чтобы определить количество кластеров можно использовать метод локтя. \n",
    "    \n",
    "Ниже статья с двумя методами, которые можно в том числе использовать для определения количества кластеров.\n",
    "    \n",
    "https://habr.com/ru/company/jetinfosystems/blog/467745/\n",
    "    \n",
    "</div>"
   ]
  },
  {
   "cell_type": "markdown",
   "metadata": {},
   "source": [
    "Договоримся за число кластеров принять n=5"
   ]
  },
  {
   "cell_type": "code",
   "execution_count": null,
   "metadata": {},
   "outputs": [],
   "source": [
    "km = KMeans(n_clusters = 5, random_state = 42)\n",
    "labels = km.fit_predict(df_sс)\n",
    "df['cluster'] = labels"
   ]
  },
  {
   "cell_type": "markdown",
   "metadata": {},
   "source": [
    "### Посмотрите на средние значения признаков для кластеров. Можно ли сразу что-то заметить?"
   ]
  },
  {
   "cell_type": "code",
   "execution_count": null,
   "metadata": {},
   "outputs": [],
   "source": [
    "#посмотрим на численность кластеров\n",
    "\n",
    "df.cluster.value_counts()"
   ]
  },
  {
   "cell_type": "code",
   "execution_count": null,
   "metadata": {},
   "outputs": [],
   "source": [
    "#выводим статистику по средним значениям наших признаков по кластеру\n",
    "\n",
    "df.groupby('cluster').mean().T"
   ]
  },
  {
   "cell_type": "markdown",
   "metadata": {},
   "source": [
    "Самым многочисленным кластером является 2-ий, затем идет 0-ой. Самый малочисленный - 3-ий. Самый большой отток во 2 кластере - 59%, затем в 1 - 46%. нулевой кластер выглядит самыми усточивыми - он второй по многочисленности (1065 чел.) и в нем маленький отток, всего 8%."
   ]
  },
  {
   "cell_type": "markdown",
   "metadata": {},
   "source": [
    "<div class=\"alert alert-success\">\n",
    "<b>Комментарий ревьюера: ✅</b>\n",
    "\n",
    "Супер, теперь у нас есть портреты наших пользователей 👍\n",
    "    \n",
    "</div>"
   ]
  },
  {
   "cell_type": "markdown",
   "metadata": {},
   "source": [
    "### Постройте распределения признаков для кластеров. Можно ли что-то заметить по ним?"
   ]
  },
  {
   "cell_type": "code",
   "execution_count": null,
   "metadata": {},
   "outputs": [],
   "source": [
    "#построим countplot-графики для бинарных признаков\n",
    "\n",
    "for column in ['gender', 'near_location', 'partner', 'promo_friends', 'phone', 'group_visits']:\n",
    "    plt.figure(figsize=(5, 5))\n",
    "    sns.countplot(x = df[column], hue='cluster', data=df)\n",
    "    plt.title(column)\n",
    "    plt.show()"
   ]
  },
  {
   "cell_type": "code",
   "execution_count": null,
   "metadata": {},
   "outputs": [],
   "source": [
    "#построим kdeplot-графики для небинарных признаков\n",
    "for column in ['age', 'contract_period', 'month_to_end_contract', 'lifetime', 'avg_class_frequency_total', 'avg_class_frequency_current_month', 'avg_additional_charges_total']:\n",
    "    plt.figure(figsize=(5, 5))\n",
    "    plt.title(column)   \n",
    "    sns.kdeplot(df.query('cluster==0')[column], label = 'Кластер 0')\n",
    "    sns.kdeplot(df.query('cluster==1')[column], label = 'Кластер 1')\n",
    "    sns.kdeplot(df.query('cluster==2')[column], label = 'Кластер 2')\n",
    "    sns.kdeplot(df.query('cluster==3')[column], label = 'Кластер 3')\n",
    "    sns.kdeplot(df.query('cluster==4')[column], label = 'Кластер 4')\n",
    "    plt.legend()\n",
    "    plt.show()"
   ]
  },
  {
   "cell_type": "markdown",
   "metadata": {},
   "source": [
    "### Для каждого полученного кластера посчитайте долю оттока. Отличаются ли они по доле оттока? Какие кластеры склонны к оттоку, а какие — надёжны?"
   ]
  },
  {
   "cell_type": "code",
   "execution_count": null,
   "metadata": {},
   "outputs": [],
   "source": [
    "#посмотрим средние значения оттока в кластерах\n",
    "\n",
    "df.groupby('cluster').agg({'churn':'mean'}).sort_values(by='churn')"
   ]
  },
  {
   "cell_type": "markdown",
   "metadata": {},
   "source": [
    "**Вывод**\n",
    "\n",
    "Тут так же подтверждается, что самый большой отток во 2 кластере - 59%, затем в 1 - 46%.\n",
    "Нулевой кластер выглядит самыми усточивыми - он второй по многочисленности (1065 чел.) и в нем маленький отток, всего 8%."
   ]
  },
  {
   "cell_type": "markdown",
   "metadata": {},
   "source": [
    "<div class=\"alert alert-success\">\n",
    "<b>Комментарий ревьюера: ✅</b>\n",
    "    \n",
    "Думаю, теперь у коллег из маркетинга будет много дополнительной информации, которую они смогут использовать при разработке дополнительных мероприятий по сокращению оттока.\n",
    "</div>"
   ]
  },
  {
   "cell_type": "markdown",
   "metadata": {},
   "source": [
    "## Общие выводы и базовые рекомендации по работе с клиентами"
   ]
  },
  {
   "cell_type": "markdown",
   "metadata": {},
   "source": [
    "• У нас есть портрет идеального среднестатистического клиента: ему около 30 лет, он живет неподалеку от фитнес-центра, любит посещать групповые занятия, у него есть друзья, которые хотят в тот же фитнес-центр и есть скидки/бонусы по каким-то программам. У него абонемент на пол года или более.\n",
    "\n",
    "• Чаще всего в отток попадают клиенты, которые, похоже, пришли попробовать позаниматься в зале, но что-то их не устроило. Это клиенты с признками как правило противоположными \"идеальному\" случаю. Либо живут не так близко, либо не посещают групповые занятия или пришли не по клиентской бонусной программе. Они берут абонемент на месяц, редко посещают тренировки. Таким клиентам стоит предложить какие-то \"плюшки\" и уделять особое внимание, чтобы увеличить их лояльность. Как вариант - сделать им \"вкусное\" предложение на несколько бесплатных групповых занятий, где они смогут почувствовать эффект от занятий с тренером и другими людьми, возможно, завести новых друзей и у них будет больше мотивации посещать зал. Так же предположительно можно предлагать им специальные бонусные программы.\n",
    "\n",
    "• Среди клиентов удалось нащупать 4-5 явных кластеров. В данном случае нулевой кластер выглядит самыми усточивыми - он второй по многочисленности (1065 чел.) и в нем маленький отток, всего 8%. Следовательно этот кластер является самыми прибыльным.\n",
    "\n",
    "• Срок жизни ощутимо влияет на доход от клиента, поэтому стоит подумать о том, чтобы увеличить этот показатель во всех группах.\n",
    "\n",
    "• С алгоритмом прогнозирования оттока можно не мудрить, на этих данных отлично справляется логистическая регрессия, с большой долей вероятности она правильно предскажет возможный отток клиента, точность будет более 90%. Однако, есть способы добиться лучшего результата, есть применить RandomForest и CatBoost с тщательно подобранными пораметрами."
   ]
  },
  {
   "cell_type": "markdown",
   "metadata": {},
   "source": [
    "<div class=\"alert alert-success\">\n",
    "<b>Комментарий ревьюера: ✅</b>\n",
    "    \n",
    "\n",
    "\n",
    "Выводы понятны и логичны, а самое главное подкреплены выявленными фактами.\n",
    "       \n",
    "В целом сам проект выполнен на хорошем уровне! На протяжении всей работы чувствуется глубина проработки задачи и это безусловный плюс для нас. Было использовано большое количество методов, которые будут помогать тебе в дальнейших проектах.\n",
    "        \n",
    "    \n",
    "    \n",
    "Если вдруг будет дополнительный интерес по осовоению дополнительных материалов этой темы, вот достаточно неплохая информация по базовым алгоритмам:\n",
    "    \n",
    "https://compscicenter.ru/courses/data-mining-python/2018-spring/classes/\n",
    "    \n",
    "P.s. Там несколько курсов, по которым можно будет пройтись при желании 😊\n",
    "\n",
    "    \n",
    "</div>"
   ]
  },
  {
   "cell_type": "markdown",
   "metadata": {},
   "source": [
    "<div class=\"alert alert-success\">\n",
    "<b>Комментарий ревьюера: ✅</b>\n",
    "    \n",
    "\n",
    "Возвращаю проект обратно, чтобы убедиться что все мои комментарии понятны.\n",
    "    \n",
    "Если вдруг у тебя возникнут какие-то вопросы, то я с радостью отвечу на них 😊\n",
    "    \n",
    "</div>"
   ]
  },
  {
   "cell_type": "markdown",
   "metadata": {},
   "source": [
    "<div class=\"alert alert-success\">\n",
    "<b>Комментарий ревьюера (2): ✅</b>\n",
    "\n",
    "Рад, что в целом все понятно. Тогда предлагаю двигаться дальше.\n",
    "    \n",
    "Поздравляю с успешным завершением проекта 😊👍\n",
    "    \n",
    "И желаю успехов в новых работах 😊\n",
    "    \n",
    "    \n",
    "</div>"
   ]
  },
  {
   "cell_type": "code",
   "execution_count": null,
   "metadata": {},
   "outputs": [],
   "source": []
  }
 ],
 "metadata": {
  "ExecuteTimeLog": [
   {
    "duration": 1777,
    "start_time": "2022-04-18T06:22:09.478Z"
   },
   {
    "duration": 119,
    "start_time": "2022-04-18T06:28:50.210Z"
   },
   {
    "duration": 4,
    "start_time": "2022-04-18T06:34:50.469Z"
   },
   {
    "duration": 5,
    "start_time": "2022-04-18T06:35:17.265Z"
   },
   {
    "duration": 11,
    "start_time": "2022-04-18T06:35:42.697Z"
   },
   {
    "duration": 13,
    "start_time": "2022-04-18T06:36:21.397Z"
   },
   {
    "duration": 7,
    "start_time": "2022-04-18T06:36:34.872Z"
   },
   {
    "duration": 4,
    "start_time": "2022-04-18T06:37:04.398Z"
   },
   {
    "duration": 9,
    "start_time": "2022-04-18T06:37:09.733Z"
   },
   {
    "duration": 47,
    "start_time": "2022-04-18T06:49:25.035Z"
   },
   {
    "duration": 13,
    "start_time": "2022-04-18T08:01:06.905Z"
   },
   {
    "duration": 3132,
    "start_time": "2022-04-18T08:06:33.468Z"
   },
   {
    "duration": 4,
    "start_time": "2022-04-18T08:08:07.687Z"
   },
   {
    "duration": 1672,
    "start_time": "2022-04-18T08:08:13.916Z"
   },
   {
    "duration": 46,
    "start_time": "2022-04-18T08:08:15.590Z"
   },
   {
    "duration": 4,
    "start_time": "2022-04-18T08:08:15.637Z"
   },
   {
    "duration": 9,
    "start_time": "2022-04-18T08:08:15.643Z"
   },
   {
    "duration": 18,
    "start_time": "2022-04-18T08:08:15.654Z"
   },
   {
    "duration": 18,
    "start_time": "2022-04-18T08:08:15.674Z"
   },
   {
    "duration": 5,
    "start_time": "2022-04-18T08:08:15.694Z"
   },
   {
    "duration": 5,
    "start_time": "2022-04-18T08:08:15.701Z"
   },
   {
    "duration": 26,
    "start_time": "2022-04-18T08:08:15.708Z"
   },
   {
    "duration": 44,
    "start_time": "2022-04-18T08:08:15.737Z"
   },
   {
    "duration": 12,
    "start_time": "2022-04-18T08:08:15.782Z"
   },
   {
    "duration": 3163,
    "start_time": "2022-04-18T08:08:15.796Z"
   },
   {
    "duration": 970,
    "start_time": "2022-04-18T08:08:45.956Z"
   },
   {
    "duration": 15,
    "start_time": "2022-04-18T08:09:42.727Z"
   },
   {
    "duration": 814,
    "start_time": "2022-04-18T08:09:52.115Z"
   },
   {
    "duration": 757,
    "start_time": "2022-04-18T08:10:05.451Z"
   },
   {
    "duration": 782,
    "start_time": "2022-04-18T08:10:49.516Z"
   },
   {
    "duration": 478,
    "start_time": "2022-04-18T08:11:11.157Z"
   },
   {
    "duration": 1516,
    "start_time": "2022-04-18T08:11:40.954Z"
   },
   {
    "duration": 8,
    "start_time": "2022-04-18T08:28:34.865Z"
   },
   {
    "duration": 6,
    "start_time": "2022-04-18T08:28:43.514Z"
   },
   {
    "duration": 5,
    "start_time": "2022-04-18T08:29:09.598Z"
   },
   {
    "duration": 31,
    "start_time": "2022-04-18T08:31:39.917Z"
   },
   {
    "duration": 11,
    "start_time": "2022-04-18T08:32:17.325Z"
   },
   {
    "duration": 29,
    "start_time": "2022-04-18T08:35:01.476Z"
   },
   {
    "duration": 8,
    "start_time": "2022-04-18T08:35:02.787Z"
   },
   {
    "duration": 157,
    "start_time": "2022-04-18T08:38:24.024Z"
   },
   {
    "duration": 29,
    "start_time": "2022-04-18T08:38:45.829Z"
   },
   {
    "duration": 11,
    "start_time": "2022-04-18T08:38:46.303Z"
   },
   {
    "duration": 20,
    "start_time": "2022-04-18T08:39:28.135Z"
   },
   {
    "duration": 11,
    "start_time": "2022-04-18T08:39:35.743Z"
   },
   {
    "duration": 366,
    "start_time": "2022-04-18T08:43:38.268Z"
   },
   {
    "duration": 11,
    "start_time": "2022-04-18T08:45:25.667Z"
   },
   {
    "duration": 14,
    "start_time": "2022-04-18T08:56:08.221Z"
   },
   {
    "duration": 14,
    "start_time": "2022-04-18T08:56:14.865Z"
   },
   {
    "duration": 9,
    "start_time": "2022-04-18T08:57:14.659Z"
   },
   {
    "duration": 635,
    "start_time": "2022-04-18T08:59:44.546Z"
   },
   {
    "duration": 850,
    "start_time": "2022-04-18T09:09:37.042Z"
   },
   {
    "duration": 120566,
    "start_time": "2022-04-18T09:10:15.169Z"
   },
   {
    "duration": 1584,
    "start_time": "2022-04-18T09:16:51.158Z"
   },
   {
    "duration": 7,
    "start_time": "2022-04-18T09:17:23.494Z"
   },
   {
    "duration": 13,
    "start_time": "2022-04-18T09:17:37.024Z"
   },
   {
    "duration": 1106,
    "start_time": "2022-04-18T09:20:19.340Z"
   },
   {
    "duration": 2164,
    "start_time": "2022-04-18T09:20:54.243Z"
   },
   {
    "duration": 1972,
    "start_time": "2022-04-18T09:21:12.021Z"
   },
   {
    "duration": 11,
    "start_time": "2022-04-18T09:22:48.891Z"
   },
   {
    "duration": 1613,
    "start_time": "2022-04-18T09:25:34.629Z"
   },
   {
    "duration": 35,
    "start_time": "2022-04-18T09:25:36.244Z"
   },
   {
    "duration": 3,
    "start_time": "2022-04-18T09:25:36.281Z"
   },
   {
    "duration": 11,
    "start_time": "2022-04-18T09:25:36.286Z"
   },
   {
    "duration": 16,
    "start_time": "2022-04-18T09:25:36.300Z"
   },
   {
    "duration": 15,
    "start_time": "2022-04-18T09:25:36.317Z"
   },
   {
    "duration": 5,
    "start_time": "2022-04-18T09:25:36.334Z"
   },
   {
    "duration": 9,
    "start_time": "2022-04-18T09:25:36.341Z"
   },
   {
    "duration": 11,
    "start_time": "2022-04-18T09:25:36.352Z"
   },
   {
    "duration": 44,
    "start_time": "2022-04-18T09:25:36.365Z"
   },
   {
    "duration": 33,
    "start_time": "2022-04-18T09:25:36.411Z"
   },
   {
    "duration": 3136,
    "start_time": "2022-04-18T09:25:36.446Z"
   },
   {
    "duration": 966,
    "start_time": "2022-04-18T09:25:39.584Z"
   },
   {
    "duration": 1580,
    "start_time": "2022-04-18T09:25:40.554Z"
   },
   {
    "duration": 8,
    "start_time": "2022-04-18T09:25:42.135Z"
   },
   {
    "duration": 9,
    "start_time": "2022-04-18T09:25:42.145Z"
   },
   {
    "duration": 30,
    "start_time": "2022-04-18T09:25:42.156Z"
   },
   {
    "duration": 9,
    "start_time": "2022-04-18T09:25:42.188Z"
   },
   {
    "duration": 45,
    "start_time": "2022-04-18T09:25:42.199Z"
   },
   {
    "duration": 9,
    "start_time": "2022-04-18T09:25:42.246Z"
   },
   {
    "duration": 366,
    "start_time": "2022-04-18T09:25:42.257Z"
   },
   {
    "duration": 14,
    "start_time": "2022-04-18T09:25:42.625Z"
   },
   {
    "duration": 12,
    "start_time": "2022-04-18T09:25:42.641Z"
   },
   {
    "duration": 13,
    "start_time": "2022-04-18T09:25:42.654Z"
   },
   {
    "duration": 635,
    "start_time": "2022-04-18T09:25:42.668Z"
   },
   {
    "duration": 121931,
    "start_time": "2022-04-18T09:25:43.305Z"
   },
   {
    "duration": 1600,
    "start_time": "2022-04-18T09:27:45.238Z"
   },
   {
    "duration": 6,
    "start_time": "2022-04-18T09:27:46.840Z"
   },
   {
    "duration": 14,
    "start_time": "2022-04-18T09:27:46.848Z"
   },
   {
    "duration": 1115,
    "start_time": "2022-04-18T09:27:46.864Z"
   },
   {
    "duration": 2224,
    "start_time": "2022-04-18T09:27:47.981Z"
   },
   {
    "duration": 10,
    "start_time": "2022-04-18T09:27:50.207Z"
   },
   {
    "duration": 232,
    "start_time": "2022-04-18T17:02:17.485Z"
   },
   {
    "duration": 2413,
    "start_time": "2022-04-18T17:11:50.123Z"
   },
   {
    "duration": 56,
    "start_time": "2022-04-18T17:11:52.539Z"
   },
   {
    "duration": 4,
    "start_time": "2022-04-18T17:11:52.598Z"
   },
   {
    "duration": 14,
    "start_time": "2022-04-18T17:11:52.605Z"
   },
   {
    "duration": 22,
    "start_time": "2022-04-18T17:11:52.621Z"
   },
   {
    "duration": 18,
    "start_time": "2022-04-18T17:11:52.646Z"
   },
   {
    "duration": 28,
    "start_time": "2022-04-18T17:11:52.666Z"
   },
   {
    "duration": 5,
    "start_time": "2022-04-18T17:11:52.696Z"
   },
   {
    "duration": 14,
    "start_time": "2022-04-18T17:11:52.703Z"
   },
   {
    "duration": 85,
    "start_time": "2022-04-18T17:11:52.721Z"
   },
   {
    "duration": 15,
    "start_time": "2022-04-18T17:11:52.809Z"
   },
   {
    "duration": 4445,
    "start_time": "2022-04-18T17:11:52.826Z"
   },
   {
    "duration": 1398,
    "start_time": "2022-04-18T17:11:57.273Z"
   },
   {
    "duration": 2245,
    "start_time": "2022-04-18T17:11:58.673Z"
   },
   {
    "duration": 11,
    "start_time": "2022-04-18T17:12:00.920Z"
   },
   {
    "duration": 28,
    "start_time": "2022-04-18T17:12:00.933Z"
   },
   {
    "duration": 56,
    "start_time": "2022-04-18T17:12:00.964Z"
   },
   {
    "duration": 14,
    "start_time": "2022-04-18T17:12:01.022Z"
   },
   {
    "duration": 28,
    "start_time": "2022-04-18T17:12:01.038Z"
   },
   {
    "duration": 13,
    "start_time": "2022-04-18T17:12:01.093Z"
   },
   {
    "duration": 575,
    "start_time": "2022-04-18T17:12:01.108Z"
   },
   {
    "duration": 17,
    "start_time": "2022-04-18T17:12:01.686Z"
   },
   {
    "duration": 27,
    "start_time": "2022-04-18T17:12:01.706Z"
   },
   {
    "duration": 23,
    "start_time": "2022-04-18T17:12:01.735Z"
   },
   {
    "duration": 903,
    "start_time": "2022-04-18T17:12:01.761Z"
   },
   {
    "duration": 159306,
    "start_time": "2022-04-18T17:12:02.666Z"
   },
   {
    "duration": 1823,
    "start_time": "2022-04-18T17:14:41.974Z"
   },
   {
    "duration": 8,
    "start_time": "2022-04-18T17:14:43.803Z"
   },
   {
    "duration": 20,
    "start_time": "2022-04-18T17:14:43.814Z"
   },
   {
    "duration": 1625,
    "start_time": "2022-04-18T17:14:43.836Z"
   },
   {
    "duration": 2908,
    "start_time": "2022-04-18T17:14:45.463Z"
   },
   {
    "duration": 23,
    "start_time": "2022-04-18T17:14:48.373Z"
   }
  ],
  "kernelspec": {
   "display_name": "Python 3 (ipykernel)",
   "language": "python",
   "name": "python3"
  },
  "language_info": {
   "codemirror_mode": {
    "name": "ipython",
    "version": 3
   },
   "file_extension": ".py",
   "mimetype": "text/x-python",
   "name": "python",
   "nbconvert_exporter": "python",
   "pygments_lexer": "ipython3",
   "version": "3.9.7"
  },
  "toc": {
   "base_numbering": 1,
   "nav_menu": {},
   "number_sections": true,
   "sideBar": true,
   "skip_h1_title": true,
   "title_cell": "Содержание проекта",
   "title_sidebar": "Contents",
   "toc_cell": true,
   "toc_position": {},
   "toc_section_display": true,
   "toc_window_display": true
  }
 },
 "nbformat": 4,
 "nbformat_minor": 2
}
