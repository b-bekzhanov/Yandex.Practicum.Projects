{
 "cells": [
  {
   "cell_type": "markdown",
   "metadata": {
    "toc": true
   },
   "source": [
    "<h1>Содержание<span class=\"tocSkip\"></span></h1>\n",
    "<div class=\"toc\"><ul class=\"toc-item\"><li><span><a href=\"#Изучение-данных-из-файла\" data-toc-modified-id=\"Изучение-данных-из-файла-1\"><span class=\"toc-item-num\">1&nbsp;&nbsp;</span>Изучение данных из файла</a></span><ul class=\"toc-item\"><li><span><a href=\"#Вывод\" data-toc-modified-id=\"Вывод-1.1\"><span class=\"toc-item-num\">1.1&nbsp;&nbsp;</span>Вывод</a></span></li></ul></li><li><span><a href=\"#Предобработка-данных\" data-toc-modified-id=\"Предобработка-данных-2\"><span class=\"toc-item-num\">2&nbsp;&nbsp;</span>Предобработка данных</a></span></li><li><span><a href=\"#Расчёты-и-добавление-результатов-в-таблицу\" data-toc-modified-id=\"Расчёты-и-добавление-результатов-в-таблицу-3\"><span class=\"toc-item-num\">3&nbsp;&nbsp;</span>Расчёты и добавление результатов в таблицу</a></span></li><li><span><a href=\"#Исследовательский-анализ-данных\" data-toc-modified-id=\"Исследовательский-анализ-данных-4\"><span class=\"toc-item-num\">4&nbsp;&nbsp;</span>Исследовательский анализ данных</a></span><ul class=\"toc-item\"><li><span><a href=\"#Изучите-следующие-параметры:-площадь,-цена,-число-комнат,-высота-потолков.-Постройте-гистограммы-для-каждого-параметра.\" data-toc-modified-id=\"Изучите-следующие-параметры:-площадь,-цена,-число-комнат,-высота-потолков.-Постройте-гистограммы-для-каждого-параметра.-4.1\"><span class=\"toc-item-num\">4.1&nbsp;&nbsp;</span>Изучите следующие параметры: площадь, цена, число комнат, высота потолков. Постройте гистограммы для каждого параметра.</a></span></li><li><span><a href=\"#Изучите-время-продажи-квартиры.-Постройте-гистограмму.-Посчитайте-среднее-и-медиану.-Опишите,-сколько-обычно-занимает-продажа.-Когда-можно-считать,-что-продажи-прошли-очень-быстро,-а-когда-необычно-долго?\" data-toc-modified-id=\"Изучите-время-продажи-квартиры.-Постройте-гистограмму.-Посчитайте-среднее-и-медиану.-Опишите,-сколько-обычно-занимает-продажа.-Когда-можно-считать,-что-продажи-прошли-очень-быстро,-а-когда-необычно-долго?-4.2\"><span class=\"toc-item-num\">4.2&nbsp;&nbsp;</span>Изучите время продажи квартиры. Постройте гистограмму. Посчитайте среднее и медиану. Опишите, сколько обычно занимает продажа. Когда можно считать, что продажи прошли очень быстро, а когда необычно долго?</a></span></li><li><span><a href=\"#Уберите-редкие-и-выбивающиеся-значения.-Опишите,-какие-особенности-обнаружили.\" data-toc-modified-id=\"Уберите-редкие-и-выбивающиеся-значения.-Опишите,-какие-особенности-обнаружили.-4.3\"><span class=\"toc-item-num\">4.3&nbsp;&nbsp;</span>Уберите редкие и выбивающиеся значения. Опишите, какие особенности обнаружили.</a></span></li><li><span><a href=\"#Какие-факторы-больше-всего-влияют-на-стоимость-квартиры?-Изучите,-зависит-ли-цена-квадратного-метра-от-общей-площади-квартиры,-числа-комнат,-этажа-(первого-или-последнего),-удалённости-от-центра.-Также-изучите-зависимость-от-даты-размещения:-дня-недели,-месяца-и-года.\" data-toc-modified-id=\"Какие-факторы-больше-всего-влияют-на-стоимость-квартиры?-Изучите,-зависит-ли-цена-квадратного-метра-от-общей-площади-квартиры,-числа-комнат,-этажа-(первого-или-последнего),-удалённости-от-центра.-Также-изучите-зависимость-от-даты-размещения:-дня-недели,-месяца-и-года.-4.4\"><span class=\"toc-item-num\">4.4&nbsp;&nbsp;</span>Какие факторы больше всего влияют на стоимость квартиры? Изучите, зависит ли цена квадратного метра от общей площади квартиры, числа комнат, этажа (первого или последнего), удалённости от центра. Также изучите зависимость от даты размещения: дня недели, месяца и года.</a></span></li><li><span><a href=\"#Выберите-10-населённых-пунктов-с-наибольшим-числом-объявлений.-Посчитайте-среднюю-цену-квадратного-метра-в-этих-населённых-пунктах.-Выделите-населённые-пункты-с-самой-высокой-и-низкой-стоимостью-жилья.-Эти-данные-можно-найти-по-имени-в-столбце-'locality_name'.\" data-toc-modified-id=\"Выберите-10-населённых-пунктов-с-наибольшим-числом-объявлений.-Посчитайте-среднюю-цену-квадратного-метра-в-этих-населённых-пунктах.-Выделите-населённые-пункты-с-самой-высокой-и-низкой-стоимостью-жилья.-Эти-данные-можно-найти-по-имени-в-столбце-'locality_name'.-4.5\"><span class=\"toc-item-num\">4.5&nbsp;&nbsp;</span>Выберите 10 населённых пунктов с наибольшим числом объявлений. Посчитайте среднюю цену квадратного метра в этих населённых пунктах. Выделите населённые пункты с самой высокой и низкой стоимостью жилья. Эти данные можно найти по имени в столбце 'locality_name'.</a></span></li><li><span><a href=\"#Изучите-предложения-квартир:-для-каждой-квартиры-есть-информация-о-расстоянии-до-центра.-Выделите-квартиры-в-Санкт-Петербурге-('locality_name').-Ваша-задача-—-выяснить,-какая-область-входит-в-центр.-Создайте-столбец-с-расстоянием-до-центра-в-километрах:-округлите-до-целых-значений.-После-этого-посчитайте-среднюю-цену-для-каждого-километра.-Постройте-график:-он-должен-показывать,-как-цена-зависит-от-удалённости-от-центра.-Определите-границу,-где-график-сильно-меняется-—-это-и-будет-центральная-зона.\" data-toc-modified-id=\"Изучите-предложения-квартир:-для-каждой-квартиры-есть-информация-о-расстоянии-до-центра.-Выделите-квартиры-в-Санкт-Петербурге-('locality_name').-Ваша-задача-—-выяснить,-какая-область-входит-в-центр.-Создайте-столбец-с-расстоянием-до-центра-в-километрах:-округлите-до-целых-значений.-После-этого-посчитайте-среднюю-цену-для-каждого-километра.-Постройте-график:-он-должен-показывать,-как-цена-зависит-от-удалённости-от-центра.-Определите-границу,-где-график-сильно-меняется-—-это-и-будет-центральная-зона.-4.6\"><span class=\"toc-item-num\">4.6&nbsp;&nbsp;</span>Изучите предложения квартир: для каждой квартиры есть информация о расстоянии до центра. Выделите квартиры в Санкт-Петербурге ('locality_name'). Ваша задача — выяснить, какая область входит в центр. Создайте столбец с расстоянием до центра в километрах: округлите до целых значений. После этого посчитайте среднюю цену для каждого километра. Постройте график: он должен показывать, как цена зависит от удалённости от центра. Определите границу, где график сильно меняется — это и будет центральная зона.</a></span></li><li><span><a href=\"#Выделите-сегмент-квартир-в-центре.-Проанализируйте-эту-территорию-и-изучите-следующие-параметры:-площадь,-цена,-число-комнат,-высота-потолков.-Также-выделите-факторы,-которые-влияют-на-стоимость-квартиры-(число-комнат,-этаж,-удалённость-от-центра,-дата-размещения-объявления).-Сделайте-выводы.-Отличаются-ли-они-от-общих-выводов-по-всему-городу?\" data-toc-modified-id=\"Выделите-сегмент-квартир-в-центре.-Проанализируйте-эту-территорию-и-изучите-следующие-параметры:-площадь,-цена,-число-комнат,-высота-потолков.-Также-выделите-факторы,-которые-влияют-на-стоимость-квартиры-(число-комнат,-этаж,-удалённость-от-центра,-дата-размещения-объявления).-Сделайте-выводы.-Отличаются-ли-они-от-общих-выводов-по-всему-городу?-4.7\"><span class=\"toc-item-num\">4.7&nbsp;&nbsp;</span>Выделите сегмент квартир в центре. Проанализируйте эту территорию и изучите следующие параметры: площадь, цена, число комнат, высота потолков. Также выделите факторы, которые влияют на стоимость квартиры (число комнат, этаж, удалённость от центра, дата размещения объявления). Сделайте выводы. Отличаются ли они от общих выводов по всему городу?</a></span></li></ul></li><li><span><a href=\"#Общий-вывод\" data-toc-modified-id=\"Общий-вывод-5\"><span class=\"toc-item-num\">5&nbsp;&nbsp;</span>Общий вывод</a></span></li><li><span><a href=\"#Чек-лист-готовности-проекта\" data-toc-modified-id=\"Чек-лист-готовности-проекта-6\"><span class=\"toc-item-num\">6&nbsp;&nbsp;</span>Чек-лист готовности проекта</a></span></li></ul></div>"
   ]
  },
  {
   "cell_type": "markdown",
   "metadata": {},
   "source": [
    "# Исследование объявлений о продаже квартир\n",
    "\n",
    "В вашем распоряжении данные сервиса Яндекс.Недвижимость — архив объявлений о продаже квартир в Санкт-Петербурге и соседних населённых пунктах за несколько лет. Нужно научиться определять рыночную стоимость объектов недвижимости. Ваша задача — установить параметры. Это позволит построить автоматизированную систему: она отследит аномалии и мошенническую деятельность. \n",
    "\n",
    "По каждой квартире на продажу доступны два вида данных. Первые вписаны пользователем, вторые получены автоматически на основе картографических данных. Например, расстояние до центра, аэропорта, ближайшего парка и водоёма. "
   ]
  },
  {
   "cell_type": "markdown",
   "metadata": {},
   "source": [
    "## Изучение данных из файла"
   ]
  },
  {
   "cell_type": "code",
   "execution_count": 1,
   "metadata": {},
   "outputs": [
    {
     "name": "stdout",
     "output_type": "stream",
     "text": [
      "<class 'pandas.core.frame.DataFrame'>\n",
      "RangeIndex: 23699 entries, 0 to 23698\n",
      "Data columns (total 22 columns):\n",
      " #   Column                Non-Null Count  Dtype  \n",
      "---  ------                --------------  -----  \n",
      " 0   total_images          23699 non-null  int64  \n",
      " 1   last_price            23699 non-null  float64\n",
      " 2   total_area            23699 non-null  float64\n",
      " 3   first_day_exposition  23699 non-null  object \n",
      " 4   rooms                 23699 non-null  int64  \n",
      " 5   ceiling_height        14504 non-null  float64\n",
      " 6   floors_total          23613 non-null  float64\n",
      " 7   living_area           21796 non-null  float64\n",
      " 8   floor                 23699 non-null  int64  \n",
      " 9   is_apartment          2775 non-null   object \n",
      " 10  studio                23699 non-null  bool   \n",
      " 11  open_plan             23699 non-null  bool   \n",
      " 12  kitchen_area          21421 non-null  float64\n",
      " 13  balcony               12180 non-null  float64\n",
      " 14  locality_name         23650 non-null  object \n",
      " 15  airports_nearest      18157 non-null  float64\n",
      " 16  cityCenters_nearest   18180 non-null  float64\n",
      " 17  parks_around3000      18181 non-null  float64\n",
      " 18  parks_nearest         8079 non-null   float64\n",
      " 19  ponds_around3000      18181 non-null  float64\n",
      " 20  ponds_nearest         9110 non-null   float64\n",
      " 21  days_exposition       20518 non-null  float64\n",
      "dtypes: bool(2), float64(14), int64(3), object(3)\n",
      "memory usage: 3.7+ MB\n"
     ]
    },
    {
     "data": {
      "text/html": [
       "<div>\n",
       "<style scoped>\n",
       "    .dataframe tbody tr th:only-of-type {\n",
       "        vertical-align: middle;\n",
       "    }\n",
       "\n",
       "    .dataframe tbody tr th {\n",
       "        vertical-align: top;\n",
       "    }\n",
       "\n",
       "    .dataframe thead th {\n",
       "        text-align: right;\n",
       "    }\n",
       "</style>\n",
       "<table border=\"1\" class=\"dataframe\">\n",
       "  <thead>\n",
       "    <tr style=\"text-align: right;\">\n",
       "      <th></th>\n",
       "      <th>total_images</th>\n",
       "      <th>last_price</th>\n",
       "      <th>total_area</th>\n",
       "      <th>first_day_exposition</th>\n",
       "      <th>rooms</th>\n",
       "      <th>ceiling_height</th>\n",
       "      <th>floors_total</th>\n",
       "      <th>living_area</th>\n",
       "      <th>floor</th>\n",
       "      <th>is_apartment</th>\n",
       "      <th>...</th>\n",
       "      <th>kitchen_area</th>\n",
       "      <th>balcony</th>\n",
       "      <th>locality_name</th>\n",
       "      <th>airports_nearest</th>\n",
       "      <th>cityCenters_nearest</th>\n",
       "      <th>parks_around3000</th>\n",
       "      <th>parks_nearest</th>\n",
       "      <th>ponds_around3000</th>\n",
       "      <th>ponds_nearest</th>\n",
       "      <th>days_exposition</th>\n",
       "    </tr>\n",
       "  </thead>\n",
       "  <tbody>\n",
       "    <tr>\n",
       "      <th>0</th>\n",
       "      <td>20</td>\n",
       "      <td>13000000.0</td>\n",
       "      <td>108.00</td>\n",
       "      <td>2019-03-07T00:00:00</td>\n",
       "      <td>3</td>\n",
       "      <td>2.70</td>\n",
       "      <td>16.0</td>\n",
       "      <td>51.00</td>\n",
       "      <td>8</td>\n",
       "      <td>NaN</td>\n",
       "      <td>...</td>\n",
       "      <td>25.00</td>\n",
       "      <td>NaN</td>\n",
       "      <td>Санкт-Петербург</td>\n",
       "      <td>18863.0</td>\n",
       "      <td>16028.0</td>\n",
       "      <td>1.0</td>\n",
       "      <td>482.0</td>\n",
       "      <td>2.0</td>\n",
       "      <td>755.0</td>\n",
       "      <td>NaN</td>\n",
       "    </tr>\n",
       "    <tr>\n",
       "      <th>1</th>\n",
       "      <td>7</td>\n",
       "      <td>3350000.0</td>\n",
       "      <td>40.40</td>\n",
       "      <td>2018-12-04T00:00:00</td>\n",
       "      <td>1</td>\n",
       "      <td>NaN</td>\n",
       "      <td>11.0</td>\n",
       "      <td>18.60</td>\n",
       "      <td>1</td>\n",
       "      <td>NaN</td>\n",
       "      <td>...</td>\n",
       "      <td>11.00</td>\n",
       "      <td>2.0</td>\n",
       "      <td>посёлок Шушары</td>\n",
       "      <td>12817.0</td>\n",
       "      <td>18603.0</td>\n",
       "      <td>0.0</td>\n",
       "      <td>NaN</td>\n",
       "      <td>0.0</td>\n",
       "      <td>NaN</td>\n",
       "      <td>81.0</td>\n",
       "    </tr>\n",
       "    <tr>\n",
       "      <th>2</th>\n",
       "      <td>10</td>\n",
       "      <td>5196000.0</td>\n",
       "      <td>56.00</td>\n",
       "      <td>2015-08-20T00:00:00</td>\n",
       "      <td>2</td>\n",
       "      <td>NaN</td>\n",
       "      <td>5.0</td>\n",
       "      <td>34.30</td>\n",
       "      <td>4</td>\n",
       "      <td>NaN</td>\n",
       "      <td>...</td>\n",
       "      <td>8.30</td>\n",
       "      <td>0.0</td>\n",
       "      <td>Санкт-Петербург</td>\n",
       "      <td>21741.0</td>\n",
       "      <td>13933.0</td>\n",
       "      <td>1.0</td>\n",
       "      <td>90.0</td>\n",
       "      <td>2.0</td>\n",
       "      <td>574.0</td>\n",
       "      <td>558.0</td>\n",
       "    </tr>\n",
       "    <tr>\n",
       "      <th>3</th>\n",
       "      <td>0</td>\n",
       "      <td>64900000.0</td>\n",
       "      <td>159.00</td>\n",
       "      <td>2015-07-24T00:00:00</td>\n",
       "      <td>3</td>\n",
       "      <td>NaN</td>\n",
       "      <td>14.0</td>\n",
       "      <td>NaN</td>\n",
       "      <td>9</td>\n",
       "      <td>NaN</td>\n",
       "      <td>...</td>\n",
       "      <td>NaN</td>\n",
       "      <td>0.0</td>\n",
       "      <td>Санкт-Петербург</td>\n",
       "      <td>28098.0</td>\n",
       "      <td>6800.0</td>\n",
       "      <td>2.0</td>\n",
       "      <td>84.0</td>\n",
       "      <td>3.0</td>\n",
       "      <td>234.0</td>\n",
       "      <td>424.0</td>\n",
       "    </tr>\n",
       "    <tr>\n",
       "      <th>4</th>\n",
       "      <td>2</td>\n",
       "      <td>10000000.0</td>\n",
       "      <td>100.00</td>\n",
       "      <td>2018-06-19T00:00:00</td>\n",
       "      <td>2</td>\n",
       "      <td>3.03</td>\n",
       "      <td>14.0</td>\n",
       "      <td>32.00</td>\n",
       "      <td>13</td>\n",
       "      <td>NaN</td>\n",
       "      <td>...</td>\n",
       "      <td>41.00</td>\n",
       "      <td>NaN</td>\n",
       "      <td>Санкт-Петербург</td>\n",
       "      <td>31856.0</td>\n",
       "      <td>8098.0</td>\n",
       "      <td>2.0</td>\n",
       "      <td>112.0</td>\n",
       "      <td>1.0</td>\n",
       "      <td>48.0</td>\n",
       "      <td>121.0</td>\n",
       "    </tr>\n",
       "    <tr>\n",
       "      <th>5</th>\n",
       "      <td>10</td>\n",
       "      <td>2890000.0</td>\n",
       "      <td>30.40</td>\n",
       "      <td>2018-09-10T00:00:00</td>\n",
       "      <td>1</td>\n",
       "      <td>NaN</td>\n",
       "      <td>12.0</td>\n",
       "      <td>14.40</td>\n",
       "      <td>5</td>\n",
       "      <td>NaN</td>\n",
       "      <td>...</td>\n",
       "      <td>9.10</td>\n",
       "      <td>NaN</td>\n",
       "      <td>городской посёлок Янино-1</td>\n",
       "      <td>NaN</td>\n",
       "      <td>NaN</td>\n",
       "      <td>NaN</td>\n",
       "      <td>NaN</td>\n",
       "      <td>NaN</td>\n",
       "      <td>NaN</td>\n",
       "      <td>55.0</td>\n",
       "    </tr>\n",
       "    <tr>\n",
       "      <th>6</th>\n",
       "      <td>6</td>\n",
       "      <td>3700000.0</td>\n",
       "      <td>37.30</td>\n",
       "      <td>2017-11-02T00:00:00</td>\n",
       "      <td>1</td>\n",
       "      <td>NaN</td>\n",
       "      <td>26.0</td>\n",
       "      <td>10.60</td>\n",
       "      <td>6</td>\n",
       "      <td>NaN</td>\n",
       "      <td>...</td>\n",
       "      <td>14.40</td>\n",
       "      <td>1.0</td>\n",
       "      <td>посёлок Парголово</td>\n",
       "      <td>52996.0</td>\n",
       "      <td>19143.0</td>\n",
       "      <td>0.0</td>\n",
       "      <td>NaN</td>\n",
       "      <td>0.0</td>\n",
       "      <td>NaN</td>\n",
       "      <td>155.0</td>\n",
       "    </tr>\n",
       "    <tr>\n",
       "      <th>7</th>\n",
       "      <td>5</td>\n",
       "      <td>7915000.0</td>\n",
       "      <td>71.60</td>\n",
       "      <td>2019-04-18T00:00:00</td>\n",
       "      <td>2</td>\n",
       "      <td>NaN</td>\n",
       "      <td>24.0</td>\n",
       "      <td>NaN</td>\n",
       "      <td>22</td>\n",
       "      <td>NaN</td>\n",
       "      <td>...</td>\n",
       "      <td>18.90</td>\n",
       "      <td>2.0</td>\n",
       "      <td>Санкт-Петербург</td>\n",
       "      <td>23982.0</td>\n",
       "      <td>11634.0</td>\n",
       "      <td>0.0</td>\n",
       "      <td>NaN</td>\n",
       "      <td>0.0</td>\n",
       "      <td>NaN</td>\n",
       "      <td>NaN</td>\n",
       "    </tr>\n",
       "    <tr>\n",
       "      <th>8</th>\n",
       "      <td>20</td>\n",
       "      <td>2900000.0</td>\n",
       "      <td>33.16</td>\n",
       "      <td>2018-05-23T00:00:00</td>\n",
       "      <td>1</td>\n",
       "      <td>NaN</td>\n",
       "      <td>27.0</td>\n",
       "      <td>15.43</td>\n",
       "      <td>26</td>\n",
       "      <td>NaN</td>\n",
       "      <td>...</td>\n",
       "      <td>8.81</td>\n",
       "      <td>NaN</td>\n",
       "      <td>посёлок Мурино</td>\n",
       "      <td>NaN</td>\n",
       "      <td>NaN</td>\n",
       "      <td>NaN</td>\n",
       "      <td>NaN</td>\n",
       "      <td>NaN</td>\n",
       "      <td>NaN</td>\n",
       "      <td>189.0</td>\n",
       "    </tr>\n",
       "    <tr>\n",
       "      <th>9</th>\n",
       "      <td>18</td>\n",
       "      <td>5400000.0</td>\n",
       "      <td>61.00</td>\n",
       "      <td>2017-02-26T00:00:00</td>\n",
       "      <td>3</td>\n",
       "      <td>2.50</td>\n",
       "      <td>9.0</td>\n",
       "      <td>43.60</td>\n",
       "      <td>7</td>\n",
       "      <td>NaN</td>\n",
       "      <td>...</td>\n",
       "      <td>6.50</td>\n",
       "      <td>2.0</td>\n",
       "      <td>Санкт-Петербург</td>\n",
       "      <td>50898.0</td>\n",
       "      <td>15008.0</td>\n",
       "      <td>0.0</td>\n",
       "      <td>NaN</td>\n",
       "      <td>0.0</td>\n",
       "      <td>NaN</td>\n",
       "      <td>289.0</td>\n",
       "    </tr>\n",
       "  </tbody>\n",
       "</table>\n",
       "<p>10 rows × 22 columns</p>\n",
       "</div>"
      ],
      "text/plain": [
       "   total_images  last_price  total_area first_day_exposition  rooms  \\\n",
       "0            20  13000000.0      108.00  2019-03-07T00:00:00      3   \n",
       "1             7   3350000.0       40.40  2018-12-04T00:00:00      1   \n",
       "2            10   5196000.0       56.00  2015-08-20T00:00:00      2   \n",
       "3             0  64900000.0      159.00  2015-07-24T00:00:00      3   \n",
       "4             2  10000000.0      100.00  2018-06-19T00:00:00      2   \n",
       "5            10   2890000.0       30.40  2018-09-10T00:00:00      1   \n",
       "6             6   3700000.0       37.30  2017-11-02T00:00:00      1   \n",
       "7             5   7915000.0       71.60  2019-04-18T00:00:00      2   \n",
       "8            20   2900000.0       33.16  2018-05-23T00:00:00      1   \n",
       "9            18   5400000.0       61.00  2017-02-26T00:00:00      3   \n",
       "\n",
       "   ceiling_height  floors_total  living_area  floor is_apartment  ...  \\\n",
       "0            2.70          16.0        51.00      8          NaN  ...   \n",
       "1             NaN          11.0        18.60      1          NaN  ...   \n",
       "2             NaN           5.0        34.30      4          NaN  ...   \n",
       "3             NaN          14.0          NaN      9          NaN  ...   \n",
       "4            3.03          14.0        32.00     13          NaN  ...   \n",
       "5             NaN          12.0        14.40      5          NaN  ...   \n",
       "6             NaN          26.0        10.60      6          NaN  ...   \n",
       "7             NaN          24.0          NaN     22          NaN  ...   \n",
       "8             NaN          27.0        15.43     26          NaN  ...   \n",
       "9            2.50           9.0        43.60      7          NaN  ...   \n",
       "\n",
       "   kitchen_area  balcony              locality_name  airports_nearest  \\\n",
       "0         25.00      NaN            Санкт-Петербург           18863.0   \n",
       "1         11.00      2.0             посёлок Шушары           12817.0   \n",
       "2          8.30      0.0            Санкт-Петербург           21741.0   \n",
       "3           NaN      0.0            Санкт-Петербург           28098.0   \n",
       "4         41.00      NaN            Санкт-Петербург           31856.0   \n",
       "5          9.10      NaN  городской посёлок Янино-1               NaN   \n",
       "6         14.40      1.0          посёлок Парголово           52996.0   \n",
       "7         18.90      2.0            Санкт-Петербург           23982.0   \n",
       "8          8.81      NaN             посёлок Мурино               NaN   \n",
       "9          6.50      2.0            Санкт-Петербург           50898.0   \n",
       "\n",
       "  cityCenters_nearest  parks_around3000  parks_nearest  ponds_around3000  \\\n",
       "0             16028.0               1.0          482.0               2.0   \n",
       "1             18603.0               0.0            NaN               0.0   \n",
       "2             13933.0               1.0           90.0               2.0   \n",
       "3              6800.0               2.0           84.0               3.0   \n",
       "4              8098.0               2.0          112.0               1.0   \n",
       "5                 NaN               NaN            NaN               NaN   \n",
       "6             19143.0               0.0            NaN               0.0   \n",
       "7             11634.0               0.0            NaN               0.0   \n",
       "8                 NaN               NaN            NaN               NaN   \n",
       "9             15008.0               0.0            NaN               0.0   \n",
       "\n",
       "   ponds_nearest  days_exposition  \n",
       "0          755.0              NaN  \n",
       "1            NaN             81.0  \n",
       "2          574.0            558.0  \n",
       "3          234.0            424.0  \n",
       "4           48.0            121.0  \n",
       "5            NaN             55.0  \n",
       "6            NaN            155.0  \n",
       "7            NaN              NaN  \n",
       "8            NaN            189.0  \n",
       "9            NaN            289.0  \n",
       "\n",
       "[10 rows x 22 columns]"
      ]
     },
     "execution_count": 1,
     "metadata": {},
     "output_type": "execute_result"
    }
   ],
   "source": [
    "import pandas as pd\n",
    "import matplotlib.pyplot as plt\n",
    "\n",
    "data = pd.read_csv('/datasets/real_estate_data.csv', sep = '\\t')\n",
    "\n",
    "\n",
    "#посмотрим типы данных и кол-во ненулевых значений\n",
    "\n",
    "data.info()\n",
    "data.head(10)"
   ]
  },
  {
   "cell_type": "markdown",
   "metadata": {},
   "source": [
    "### Вывод"
   ]
  },
  {
   "cell_type": "markdown",
   "metadata": {},
   "source": [
    "В таблице 23699 строчки и 22 столбца, которые состоят из данных, введенными пользователями, и данных, полученными автоматически. Бросается в глаза столбец 'is_apartment', с большим количеством пропусков (возможно это не являлось обязательным полем для заполнения). Логичным было бы все пропуски заполнить False. Класс данных, полученных автоматически, имеет больше пропусков. Скорее всего это связано с тем, что программа не обладает стопроцентной точностью в нахождении расстояния и еще меньшей точностью в распознавании прудов и парков. Возможно, если не определено расстояние до центра, то и остальные данные будут пустыми"
   ]
  },
  {
   "cell_type": "markdown",
   "metadata": {},
   "source": [
    "## Предобработка данных"
   ]
  },
  {
   "cell_type": "markdown",
   "metadata": {},
   "source": [
    "\n",
    "\n",
    "Начнем предобработку с потолков\n"
   ]
  },
  {
   "cell_type": "code",
   "execution_count": 2,
   "metadata": {},
   "outputs": [
    {
     "data": {
      "text/plain": [
       "count    14504.000000\n",
       "mean         2.771499\n",
       "std          1.261056\n",
       "min          1.000000\n",
       "25%          2.520000\n",
       "50%          2.650000\n",
       "75%          2.800000\n",
       "max        100.000000\n",
       "Name: ceiling_height, dtype: float64"
      ]
     },
     "execution_count": 2,
     "metadata": {},
     "output_type": "execute_result"
    }
   ],
   "source": [
    "data['ceiling_height'].describe()"
   ]
  },
  {
   "cell_type": "markdown",
   "metadata": {},
   "source": [
    "Видим, что min=1, max=100. Это выбросы. Будем заполнять пропущенные значения медианой, так как она наименее чувствительна к выбросам. Пропуски обуславливаются тем, что продавцы, возможно, не знают точную высоту потолка и пропускают эту строку. Выбросы могут быть связаны с неправильным вводом или другими системами единиц."
   ]
  },
  {
   "cell_type": "code",
   "execution_count": 3,
   "metadata": {},
   "outputs": [
    {
     "name": "stdout",
     "output_type": "stream",
     "text": [
      "Пропуски в высоте потолков до обработки 9195\n",
      "Пропуски в высоте потолков после обработки 0\n"
     ]
    }
   ],
   "source": [
    "print('Пропуски в высоте потолков до обработки', data['ceiling_height'].isna().sum())\n",
    "data.loc[data['ceiling_height'].isnull(),'ceiling_height']= data['ceiling_height'].median()\n",
    "print('Пропуски в высоте потолков после обработки', data['ceiling_height'].isna().sum())"
   ]
  },
  {
   "cell_type": "code",
   "execution_count": 4,
   "metadata": {},
   "outputs": [],
   "source": [
    "data['living_area'] = data['living_area'].fillna(data['living_area'].median())"
   ]
  },
  {
   "cell_type": "markdown",
   "metadata": {},
   "source": [
    "Заполнил пропуски в жилой площади медианными значениями."
   ]
  },
  {
   "cell_type": "markdown",
   "metadata": {},
   "source": [
    "С кухнями поступим аналогичным образом"
   ]
  },
  {
   "cell_type": "code",
   "execution_count": 5,
   "metadata": {},
   "outputs": [],
   "source": [
    "data['kitchen_area'] = data['kitchen_area'].fillna(data['kitchen_area'].median())"
   ]
  },
  {
   "cell_type": "markdown",
   "metadata": {},
   "source": [
    "Заменим пропуски в is_apartment на False,это не является важным фактором, и владелец не вводил эти данные, значит скорее всего это не апартаменты."
   ]
  },
  {
   "cell_type": "code",
   "execution_count": 6,
   "metadata": {},
   "outputs": [
    {
     "name": "stdout",
     "output_type": "stream",
     "text": [
      "Пропуски is_apartment после обработки 0\n"
     ]
    }
   ],
   "source": [
    "data.loc[data['is_apartment'].isna(),'is_apartment'] = False\n",
    "print('Пропуски is_apartment после обработки', data['is_apartment'].isna().sum())"
   ]
  },
  {
   "cell_type": "markdown",
   "metadata": {},
   "source": [
    "Переходим к балконам. Если стоит пустое значение, то скорее всего балкона нет, поставим просто 0."
   ]
  },
  {
   "cell_type": "code",
   "execution_count": 7,
   "metadata": {},
   "outputs": [
    {
     "name": "stdout",
     "output_type": "stream",
     "text": [
      "Пропуски balcony после обработки 0\n"
     ]
    }
   ],
   "source": [
    "data.loc[data['balcony'].isnull(),'balcony'] = 0\n",
    "print('Пропуски balcony после обработки', data['balcony'].isna().sum())"
   ]
  },
  {
   "cell_type": "markdown",
   "metadata": {},
   "source": [
    "Удалим строки без названия населенного пункта"
   ]
  },
  {
   "cell_type": "code",
   "execution_count": 8,
   "metadata": {},
   "outputs": [],
   "source": [
    "data.dropna(subset = ['locality_name'],inplace = True)"
   ]
  },
  {
   "cell_type": "markdown",
   "metadata": {},
   "source": [
    "Убедимся, что нет дупликатов"
   ]
  },
  {
   "cell_type": "code",
   "execution_count": 9,
   "metadata": {},
   "outputs": [
    {
     "name": "stdout",
     "output_type": "stream",
     "text": [
      "0\n"
     ]
    }
   ],
   "source": [
    "print(data.duplicated().sum())"
   ]
  },
  {
   "cell_type": "markdown",
   "metadata": {},
   "source": [
    "Изменение типов данных"
   ]
  },
  {
   "cell_type": "markdown",
   "metadata": {},
   "source": [
    "Заменим тип данных в столбцах:"
   ]
  },
  {
   "cell_type": "code",
   "execution_count": 10,
   "metadata": {},
   "outputs": [],
   "source": [
    "#заменим пропуски в days_exposition и заменим тип данных\n",
    "data['days_exposition'] = data['days_exposition'].fillna(0).astype('int')\n",
    "\n",
    "#переведем столбец с датой в формат даты без времени, т.к. время не указано\n",
    "data['first_day_exposition'] = pd.to_datetime(data['first_day_exposition'], format = '%Y-%m-%d')\n",
    "\n",
    "#заменим тип данных на int в balcony\n",
    "data['balcony'] = data['balcony'].astype('int')\n",
    "\n",
    "#изменим цену на тип int для удобства просмотра\n",
    "data['last_price'] = data['last_price'].astype('int')\n",
    "\n",
    "#удалил пропуски и изменил на тип int в столбце floors_total\n",
    "data.dropna(subset = ['floors_total'], inplace = True)\n",
    "data['floors_total'] = data['floors_total'].astype('int')"
   ]
  },
  {
   "cell_type": "code",
   "execution_count": 11,
   "metadata": {},
   "outputs": [
    {
     "name": "stdout",
     "output_type": "stream",
     "text": [
      "<class 'pandas.core.frame.DataFrame'>\n",
      "Int64Index: 23565 entries, 0 to 23698\n",
      "Data columns (total 22 columns):\n",
      " #   Column                Non-Null Count  Dtype         \n",
      "---  ------                --------------  -----         \n",
      " 0   total_images          23565 non-null  int64         \n",
      " 1   last_price            23565 non-null  int64         \n",
      " 2   total_area            23565 non-null  float64       \n",
      " 3   first_day_exposition  23565 non-null  datetime64[ns]\n",
      " 4   rooms                 23565 non-null  int64         \n",
      " 5   ceiling_height        23565 non-null  float64       \n",
      " 6   floors_total          23565 non-null  int64         \n",
      " 7   living_area           23565 non-null  float64       \n",
      " 8   floor                 23565 non-null  int64         \n",
      " 9   is_apartment          23565 non-null  object        \n",
      " 10  studio                23565 non-null  bool          \n",
      " 11  open_plan             23565 non-null  bool          \n",
      " 12  kitchen_area          23565 non-null  float64       \n",
      " 13  balcony               23565 non-null  int64         \n",
      " 14  locality_name         23565 non-null  object        \n",
      " 15  airports_nearest      18041 non-null  float64       \n",
      " 16  cityCenters_nearest   18064 non-null  float64       \n",
      " 17  parks_around3000      18065 non-null  float64       \n",
      " 18  parks_nearest         8030 non-null   float64       \n",
      " 19  ponds_around3000      18065 non-null  float64       \n",
      " 20  ponds_nearest         9036 non-null   float64       \n",
      " 21  days_exposition       23565 non-null  int64         \n",
      "dtypes: bool(2), datetime64[ns](1), float64(10), int64(7), object(2)\n",
      "memory usage: 3.8+ MB\n"
     ]
    },
    {
     "data": {
      "text/html": [
       "<div>\n",
       "<style scoped>\n",
       "    .dataframe tbody tr th:only-of-type {\n",
       "        vertical-align: middle;\n",
       "    }\n",
       "\n",
       "    .dataframe tbody tr th {\n",
       "        vertical-align: top;\n",
       "    }\n",
       "\n",
       "    .dataframe thead th {\n",
       "        text-align: right;\n",
       "    }\n",
       "</style>\n",
       "<table border=\"1\" class=\"dataframe\">\n",
       "  <thead>\n",
       "    <tr style=\"text-align: right;\">\n",
       "      <th></th>\n",
       "      <th>total_images</th>\n",
       "      <th>last_price</th>\n",
       "      <th>total_area</th>\n",
       "      <th>first_day_exposition</th>\n",
       "      <th>rooms</th>\n",
       "      <th>ceiling_height</th>\n",
       "      <th>floors_total</th>\n",
       "      <th>living_area</th>\n",
       "      <th>floor</th>\n",
       "      <th>is_apartment</th>\n",
       "      <th>...</th>\n",
       "      <th>kitchen_area</th>\n",
       "      <th>balcony</th>\n",
       "      <th>locality_name</th>\n",
       "      <th>airports_nearest</th>\n",
       "      <th>cityCenters_nearest</th>\n",
       "      <th>parks_around3000</th>\n",
       "      <th>parks_nearest</th>\n",
       "      <th>ponds_around3000</th>\n",
       "      <th>ponds_nearest</th>\n",
       "      <th>days_exposition</th>\n",
       "    </tr>\n",
       "  </thead>\n",
       "  <tbody>\n",
       "    <tr>\n",
       "      <th>0</th>\n",
       "      <td>20</td>\n",
       "      <td>13000000</td>\n",
       "      <td>108.0</td>\n",
       "      <td>2019-03-07</td>\n",
       "      <td>3</td>\n",
       "      <td>2.70</td>\n",
       "      <td>16</td>\n",
       "      <td>51.0</td>\n",
       "      <td>8</td>\n",
       "      <td>False</td>\n",
       "      <td>...</td>\n",
       "      <td>25.0</td>\n",
       "      <td>0</td>\n",
       "      <td>Санкт-Петербург</td>\n",
       "      <td>18863.0</td>\n",
       "      <td>16028.0</td>\n",
       "      <td>1.0</td>\n",
       "      <td>482.0</td>\n",
       "      <td>2.0</td>\n",
       "      <td>755.0</td>\n",
       "      <td>0</td>\n",
       "    </tr>\n",
       "    <tr>\n",
       "      <th>1</th>\n",
       "      <td>7</td>\n",
       "      <td>3350000</td>\n",
       "      <td>40.4</td>\n",
       "      <td>2018-12-04</td>\n",
       "      <td>1</td>\n",
       "      <td>2.65</td>\n",
       "      <td>11</td>\n",
       "      <td>18.6</td>\n",
       "      <td>1</td>\n",
       "      <td>False</td>\n",
       "      <td>...</td>\n",
       "      <td>11.0</td>\n",
       "      <td>2</td>\n",
       "      <td>посёлок Шушары</td>\n",
       "      <td>12817.0</td>\n",
       "      <td>18603.0</td>\n",
       "      <td>0.0</td>\n",
       "      <td>NaN</td>\n",
       "      <td>0.0</td>\n",
       "      <td>NaN</td>\n",
       "      <td>81</td>\n",
       "    </tr>\n",
       "    <tr>\n",
       "      <th>2</th>\n",
       "      <td>10</td>\n",
       "      <td>5196000</td>\n",
       "      <td>56.0</td>\n",
       "      <td>2015-08-20</td>\n",
       "      <td>2</td>\n",
       "      <td>2.65</td>\n",
       "      <td>5</td>\n",
       "      <td>34.3</td>\n",
       "      <td>4</td>\n",
       "      <td>False</td>\n",
       "      <td>...</td>\n",
       "      <td>8.3</td>\n",
       "      <td>0</td>\n",
       "      <td>Санкт-Петербург</td>\n",
       "      <td>21741.0</td>\n",
       "      <td>13933.0</td>\n",
       "      <td>1.0</td>\n",
       "      <td>90.0</td>\n",
       "      <td>2.0</td>\n",
       "      <td>574.0</td>\n",
       "      <td>558</td>\n",
       "    </tr>\n",
       "    <tr>\n",
       "      <th>3</th>\n",
       "      <td>0</td>\n",
       "      <td>64900000</td>\n",
       "      <td>159.0</td>\n",
       "      <td>2015-07-24</td>\n",
       "      <td>3</td>\n",
       "      <td>2.65</td>\n",
       "      <td>14</td>\n",
       "      <td>30.0</td>\n",
       "      <td>9</td>\n",
       "      <td>False</td>\n",
       "      <td>...</td>\n",
       "      <td>9.1</td>\n",
       "      <td>0</td>\n",
       "      <td>Санкт-Петербург</td>\n",
       "      <td>28098.0</td>\n",
       "      <td>6800.0</td>\n",
       "      <td>2.0</td>\n",
       "      <td>84.0</td>\n",
       "      <td>3.0</td>\n",
       "      <td>234.0</td>\n",
       "      <td>424</td>\n",
       "    </tr>\n",
       "    <tr>\n",
       "      <th>4</th>\n",
       "      <td>2</td>\n",
       "      <td>10000000</td>\n",
       "      <td>100.0</td>\n",
       "      <td>2018-06-19</td>\n",
       "      <td>2</td>\n",
       "      <td>3.03</td>\n",
       "      <td>14</td>\n",
       "      <td>32.0</td>\n",
       "      <td>13</td>\n",
       "      <td>False</td>\n",
       "      <td>...</td>\n",
       "      <td>41.0</td>\n",
       "      <td>0</td>\n",
       "      <td>Санкт-Петербург</td>\n",
       "      <td>31856.0</td>\n",
       "      <td>8098.0</td>\n",
       "      <td>2.0</td>\n",
       "      <td>112.0</td>\n",
       "      <td>1.0</td>\n",
       "      <td>48.0</td>\n",
       "      <td>121</td>\n",
       "    </tr>\n",
       "  </tbody>\n",
       "</table>\n",
       "<p>5 rows × 22 columns</p>\n",
       "</div>"
      ],
      "text/plain": [
       "   total_images  last_price  total_area first_day_exposition  rooms  \\\n",
       "0            20    13000000       108.0           2019-03-07      3   \n",
       "1             7     3350000        40.4           2018-12-04      1   \n",
       "2            10     5196000        56.0           2015-08-20      2   \n",
       "3             0    64900000       159.0           2015-07-24      3   \n",
       "4             2    10000000       100.0           2018-06-19      2   \n",
       "\n",
       "   ceiling_height  floors_total  living_area  floor is_apartment  ...  \\\n",
       "0            2.70            16         51.0      8        False  ...   \n",
       "1            2.65            11         18.6      1        False  ...   \n",
       "2            2.65             5         34.3      4        False  ...   \n",
       "3            2.65            14         30.0      9        False  ...   \n",
       "4            3.03            14         32.0     13        False  ...   \n",
       "\n",
       "   kitchen_area  balcony    locality_name  airports_nearest  \\\n",
       "0          25.0        0  Санкт-Петербург           18863.0   \n",
       "1          11.0        2   посёлок Шушары           12817.0   \n",
       "2           8.3        0  Санкт-Петербург           21741.0   \n",
       "3           9.1        0  Санкт-Петербург           28098.0   \n",
       "4          41.0        0  Санкт-Петербург           31856.0   \n",
       "\n",
       "  cityCenters_nearest  parks_around3000  parks_nearest  ponds_around3000  \\\n",
       "0             16028.0               1.0          482.0               2.0   \n",
       "1             18603.0               0.0            NaN               0.0   \n",
       "2             13933.0               1.0           90.0               2.0   \n",
       "3              6800.0               2.0           84.0               3.0   \n",
       "4              8098.0               2.0          112.0               1.0   \n",
       "\n",
       "   ponds_nearest  days_exposition  \n",
       "0          755.0                0  \n",
       "1            NaN               81  \n",
       "2          574.0              558  \n",
       "3          234.0              424  \n",
       "4           48.0              121  \n",
       "\n",
       "[5 rows x 22 columns]"
      ]
     },
     "execution_count": 11,
     "metadata": {},
     "output_type": "execute_result"
    }
   ],
   "source": [
    "data.info()\n",
    "data.head()"
   ]
  },
  {
   "cell_type": "markdown",
   "metadata": {},
   "source": [
    "## Расчёты и добавление результатов в таблицу"
   ]
  },
  {
   "cell_type": "markdown",
   "metadata": {},
   "source": [
    "Добавим в таблицу для дальнейшего анализа цену квадратного метра;\n",
    "день недели, месяц и год публикации объявления;\n",
    "этаж квартиры. варианты — первый, последний, другой;\n",
    "соотношение жилой и общей площади, а также отношение площади кухни к общей."
   ]
  },
  {
   "cell_type": "code",
   "execution_count": 12,
   "metadata": {
    "scrolled": true
   },
   "outputs": [
    {
     "data": {
      "text/html": [
       "<div>\n",
       "<style scoped>\n",
       "    .dataframe tbody tr th:only-of-type {\n",
       "        vertical-align: middle;\n",
       "    }\n",
       "\n",
       "    .dataframe tbody tr th {\n",
       "        vertical-align: top;\n",
       "    }\n",
       "\n",
       "    .dataframe thead th {\n",
       "        text-align: right;\n",
       "    }\n",
       "</style>\n",
       "<table border=\"1\" class=\"dataframe\">\n",
       "  <thead>\n",
       "    <tr style=\"text-align: right;\">\n",
       "      <th></th>\n",
       "      <th>total_images</th>\n",
       "      <th>last_price</th>\n",
       "      <th>total_area</th>\n",
       "      <th>first_day_exposition</th>\n",
       "      <th>rooms</th>\n",
       "      <th>ceiling_height</th>\n",
       "      <th>floors_total</th>\n",
       "      <th>living_area</th>\n",
       "      <th>floor</th>\n",
       "      <th>is_apartment</th>\n",
       "      <th>...</th>\n",
       "      <th>ponds_around3000</th>\n",
       "      <th>ponds_nearest</th>\n",
       "      <th>days_exposition</th>\n",
       "      <th>price_per_square_meter</th>\n",
       "      <th>weekday_exposition</th>\n",
       "      <th>month_exposition</th>\n",
       "      <th>year_exposition</th>\n",
       "      <th>floor_category</th>\n",
       "      <th>useful_area_ratio</th>\n",
       "      <th>kitchen_area_ratio</th>\n",
       "    </tr>\n",
       "  </thead>\n",
       "  <tbody>\n",
       "    <tr>\n",
       "      <th>0</th>\n",
       "      <td>20</td>\n",
       "      <td>13000000</td>\n",
       "      <td>108.0</td>\n",
       "      <td>2019-03-07</td>\n",
       "      <td>3</td>\n",
       "      <td>2.70</td>\n",
       "      <td>16</td>\n",
       "      <td>51.0</td>\n",
       "      <td>8</td>\n",
       "      <td>False</td>\n",
       "      <td>...</td>\n",
       "      <td>2.0</td>\n",
       "      <td>755.0</td>\n",
       "      <td>0</td>\n",
       "      <td>120370</td>\n",
       "      <td>3</td>\n",
       "      <td>3</td>\n",
       "      <td>2019</td>\n",
       "      <td>другой</td>\n",
       "      <td>0.472222</td>\n",
       "      <td>0.231481</td>\n",
       "    </tr>\n",
       "    <tr>\n",
       "      <th>1</th>\n",
       "      <td>7</td>\n",
       "      <td>3350000</td>\n",
       "      <td>40.4</td>\n",
       "      <td>2018-12-04</td>\n",
       "      <td>1</td>\n",
       "      <td>2.65</td>\n",
       "      <td>11</td>\n",
       "      <td>18.6</td>\n",
       "      <td>1</td>\n",
       "      <td>False</td>\n",
       "      <td>...</td>\n",
       "      <td>0.0</td>\n",
       "      <td>NaN</td>\n",
       "      <td>81</td>\n",
       "      <td>82920</td>\n",
       "      <td>1</td>\n",
       "      <td>12</td>\n",
       "      <td>2018</td>\n",
       "      <td>первый</td>\n",
       "      <td>0.460396</td>\n",
       "      <td>0.272277</td>\n",
       "    </tr>\n",
       "    <tr>\n",
       "      <th>2</th>\n",
       "      <td>10</td>\n",
       "      <td>5196000</td>\n",
       "      <td>56.0</td>\n",
       "      <td>2015-08-20</td>\n",
       "      <td>2</td>\n",
       "      <td>2.65</td>\n",
       "      <td>5</td>\n",
       "      <td>34.3</td>\n",
       "      <td>4</td>\n",
       "      <td>False</td>\n",
       "      <td>...</td>\n",
       "      <td>2.0</td>\n",
       "      <td>574.0</td>\n",
       "      <td>558</td>\n",
       "      <td>92785</td>\n",
       "      <td>3</td>\n",
       "      <td>8</td>\n",
       "      <td>2015</td>\n",
       "      <td>другой</td>\n",
       "      <td>0.612500</td>\n",
       "      <td>0.148214</td>\n",
       "    </tr>\n",
       "    <tr>\n",
       "      <th>3</th>\n",
       "      <td>0</td>\n",
       "      <td>64900000</td>\n",
       "      <td>159.0</td>\n",
       "      <td>2015-07-24</td>\n",
       "      <td>3</td>\n",
       "      <td>2.65</td>\n",
       "      <td>14</td>\n",
       "      <td>30.0</td>\n",
       "      <td>9</td>\n",
       "      <td>False</td>\n",
       "      <td>...</td>\n",
       "      <td>3.0</td>\n",
       "      <td>234.0</td>\n",
       "      <td>424</td>\n",
       "      <td>408176</td>\n",
       "      <td>4</td>\n",
       "      <td>7</td>\n",
       "      <td>2015</td>\n",
       "      <td>другой</td>\n",
       "      <td>0.188679</td>\n",
       "      <td>0.057233</td>\n",
       "    </tr>\n",
       "    <tr>\n",
       "      <th>4</th>\n",
       "      <td>2</td>\n",
       "      <td>10000000</td>\n",
       "      <td>100.0</td>\n",
       "      <td>2018-06-19</td>\n",
       "      <td>2</td>\n",
       "      <td>3.03</td>\n",
       "      <td>14</td>\n",
       "      <td>32.0</td>\n",
       "      <td>13</td>\n",
       "      <td>False</td>\n",
       "      <td>...</td>\n",
       "      <td>1.0</td>\n",
       "      <td>48.0</td>\n",
       "      <td>121</td>\n",
       "      <td>100000</td>\n",
       "      <td>1</td>\n",
       "      <td>6</td>\n",
       "      <td>2018</td>\n",
       "      <td>другой</td>\n",
       "      <td>0.320000</td>\n",
       "      <td>0.410000</td>\n",
       "    </tr>\n",
       "  </tbody>\n",
       "</table>\n",
       "<p>5 rows × 29 columns</p>\n",
       "</div>"
      ],
      "text/plain": [
       "   total_images  last_price  total_area first_day_exposition  rooms  \\\n",
       "0            20    13000000       108.0           2019-03-07      3   \n",
       "1             7     3350000        40.4           2018-12-04      1   \n",
       "2            10     5196000        56.0           2015-08-20      2   \n",
       "3             0    64900000       159.0           2015-07-24      3   \n",
       "4             2    10000000       100.0           2018-06-19      2   \n",
       "\n",
       "   ceiling_height  floors_total  living_area  floor is_apartment  ...  \\\n",
       "0            2.70            16         51.0      8        False  ...   \n",
       "1            2.65            11         18.6      1        False  ...   \n",
       "2            2.65             5         34.3      4        False  ...   \n",
       "3            2.65            14         30.0      9        False  ...   \n",
       "4            3.03            14         32.0     13        False  ...   \n",
       "\n",
       "   ponds_around3000  ponds_nearest  days_exposition  price_per_square_meter  \\\n",
       "0               2.0          755.0                0                  120370   \n",
       "1               0.0            NaN               81                   82920   \n",
       "2               2.0          574.0              558                   92785   \n",
       "3               3.0          234.0              424                  408176   \n",
       "4               1.0           48.0              121                  100000   \n",
       "\n",
       "  weekday_exposition  month_exposition  year_exposition  floor_category  \\\n",
       "0                  3                 3             2019          другой   \n",
       "1                  1                12             2018          первый   \n",
       "2                  3                 8             2015          другой   \n",
       "3                  4                 7             2015          другой   \n",
       "4                  1                 6             2018          другой   \n",
       "\n",
       "   useful_area_ratio  kitchen_area_ratio  \n",
       "0           0.472222            0.231481  \n",
       "1           0.460396            0.272277  \n",
       "2           0.612500            0.148214  \n",
       "3           0.188679            0.057233  \n",
       "4           0.320000            0.410000  \n",
       "\n",
       "[5 rows x 29 columns]"
      ]
     },
     "execution_count": 12,
     "metadata": {},
     "output_type": "execute_result"
    }
   ],
   "source": [
    "#посчитаем цену квадратного метра\n",
    "\n",
    "data['price_per_square_meter'] = data['last_price'] / data['total_area']\n",
    "\n",
    "#для удобства просмотра приведем к типу int\n",
    "\n",
    "data['price_per_square_meter'] = data['price_per_square_meter'].astype('int')\n",
    "\n",
    "#создаю столбец дня недели\n",
    "\n",
    "data['weekday_exposition'] = data['first_day_exposition'].dt.weekday\n",
    "\n",
    "#создаю столбец месяца\n",
    "\n",
    "data['month_exposition'] = data['first_day_exposition'].dt.month\n",
    "\n",
    "#создаю столбец года\n",
    "\n",
    "data['year_exposition'] = data['first_day_exposition'].dt.year\n",
    "\n",
    "#напишем функцию категоризации по этажам, используя метод apply применимо к каждой строке датафрейма через axis = 1\n",
    "\n",
    "def floor_category(row):\n",
    "    floors_total = row['floors_total']\n",
    "    floor = row['floor']\n",
    "    if floor == 1:\n",
    "        return 'первый'\n",
    "    elif floor == floors_total:\n",
    "        return 'последний'\n",
    "    elif 1 < floor < floors_total:\n",
    "        return 'другой'\n",
    "    \n",
    "#категоризуем этажи с помощью функции  \n",
    "data['floor_category'] = data.apply(floor_category, axis = 1)\n",
    "\n",
    "#добавим столбец соотношения жилой плозади к общей\n",
    "data['useful_area_ratio'] = data['living_area'] / data['total_area']\n",
    "\n",
    "#добавим столбец отношения площади кухни к общей\n",
    "data['kitchen_area_ratio'] = data['kitchen_area'] / data['total_area']\n",
    "\n",
    "data.head()"
   ]
  },
  {
   "cell_type": "markdown",
   "metadata": {},
   "source": [
    "## Исследовательский анализ данных"
   ]
  },
  {
   "cell_type": "markdown",
   "metadata": {},
   "source": [
    "### Изучите следующие параметры: площадь, цена, число комнат, высота потолков. Постройте гистограммы для каждого параметра."
   ]
  },
  {
   "cell_type": "code",
   "execution_count": 13,
   "metadata": {},
   "outputs": [
    {
     "name": "stdout",
     "output_type": "stream",
     "text": [
      "1 ) Площадь\n",
      "count    23565.000000\n",
      "mean        60.322824\n",
      "std         35.657060\n",
      "min         12.000000\n",
      "25%         40.000000\n",
      "50%         52.000000\n",
      "75%         69.700000\n",
      "max        900.000000\n",
      "Name: total_area, dtype: float64\n"
     ]
    },
    {
     "data": {
      "image/png": "[encoded data removed]",
      "text/plain": [
       "<Figure size 432x288 with 1 Axes>"
      ]
     },
     "metadata": {
      "needs_background": "light"
     },
     "output_type": "display_data"
    },
    {
     "name": "stdout",
     "output_type": "stream",
     "text": [
      "2 ) Цена\n",
      "count    2.356500e+04\n",
      "mean     6.540058e+06\n",
      "std      1.091093e+07\n",
      "min      1.219000e+04\n",
      "25%      3.400000e+06\n",
      "50%      4.646000e+06\n",
      "75%      6.790000e+06\n",
      "max      7.630000e+08\n",
      "Name: last_price, dtype: float64\n"
     ]
    },
    {
     "data": {
      "image/png": "[encoded data removed]",
      "text/plain": [
       "<Figure size 432x288 with 1 Axes>"
      ]
     },
     "metadata": {
      "needs_background": "light"
     },
     "output_type": "display_data"
    },
    {
     "name": "stdout",
     "output_type": "stream",
     "text": [
      "3 ) Комнаты\n",
      "count    23565.000000\n",
      "mean         2.070656\n",
      "std          1.078591\n",
      "min          0.000000\n",
      "25%          1.000000\n",
      "50%          2.000000\n",
      "75%          3.000000\n",
      "max         19.000000\n",
      "Name: rooms, dtype: float64\n"
     ]
    },
    {
     "data": {
      "image/png": "[encoded data removed]",
      "text/plain": [
       "<Figure size 432x288 with 1 Axes>"
      ]
     },
     "metadata": {
      "needs_background": "light"
     },
     "output_type": "display_data"
    },
    {
     "name": "stdout",
     "output_type": "stream",
     "text": [
      "4 ) Высота потолков\n",
      "count    23565.000000\n",
      "mean         2.724530\n",
      "std          0.991026\n",
      "min          1.000000\n",
      "25%          2.600000\n",
      "50%          2.650000\n",
      "75%          2.700000\n",
      "max        100.000000\n",
      "Name: ceiling_height, dtype: float64\n"
     ]
    },
    {
     "data": {
      "image/png": "[encoded data removed]",
      "text/plain": [
       "<Figure size 432x288 with 1 Axes>"
      ]
     },
     "metadata": {
      "needs_background": "light"
     },
     "output_type": "display_data"
    }
   ],
   "source": [
    "df_names=['total_area','last_price','rooms','ceiling_height']\n",
    "df_bins=[100,100,8,15]\n",
    "df_ranges=[(23,300),(0,30*10**6),(0,8),(2.5,4)]\n",
    "df_xlabel=['Площадь','Цена','Комнаты','Высота потолков']\n",
    "i=0\n",
    "for row in df_names:\n",
    "    print(i+1,')',df_xlabel[i])\n",
    "    total_area_df=data[row].hist(bins=df_bins[i],range=df_ranges[i]);\n",
    "    print(data[row].describe())\n",
    "    plt.xlabel(df_xlabel[i],fontsize='x-large')\n",
    "    plt.ylabel(\"Частота\",fontsize='x-large')\n",
    "    plt.title(\"Исследование основных параметров\",fontsize='xx-large')\n",
    "    plt.show()\n",
    "    i+=1"
   ]
  },
  {
   "cell_type": "markdown",
   "metadata": {},
   "source": [
    "1) 14 кв.м является слишком маленьким значением для квартиры, возможно продавцы ошиблись. 900 кв.м, напротив, слишком большое. Эти выбросы нам предстоит обработать позже.Гистограмма напоминает Пуассоновское распределение. Мы видим что основное количество объявлений находится в районе 50 кв. метров. Продолжим изучать данные, посмотрим распределение цены.\n",
    "\n",
    "2) Видим, что основная масса цен находятся до 10 миллионов. Посмотрим гистограмму. Действительно, основная масса цен находится в районе 4 миллионов рублей.\n",
    "\n",
    "3) Наибольшее значение выглядит странно, остановимся на 8 комнатах. В основном комнат меньше 4.\n",
    "\n",
    "4) Потолки в 1 метр и 100 являюся явными опечатками, не будем учитывать их в гистограмме. Основная высота потолков около 2.6 метров, но есть и большие значения, которые мы будем учитывать."
   ]
  },
  {
   "cell_type": "markdown",
   "metadata": {},
   "source": [
    "### Изучите время продажи квартиры. Постройте гистограмму. Посчитайте среднее и медиану. Опишите, сколько обычно занимает продажа. Когда можно считать, что продажи прошли очень быстро, а когда необычно долго?"
   ]
  },
  {
   "cell_type": "code",
   "execution_count": 14,
   "metadata": {},
   "outputs": [
    {
     "name": "stdout",
     "output_type": "stream",
     "text": [
      "Index(['total_images', 'last_price', 'total_area', 'first_day_exposition',\n",
      "       'rooms', 'ceiling_height', 'floors_total', 'living_area', 'floor',\n",
      "       'is_apartment', 'studio', 'open_plan', 'kitchen_area', 'balcony',\n",
      "       'locality_name', 'airports_nearest', 'cityCenters_nearest',\n",
      "       'parks_around3000', 'parks_nearest', 'ponds_around3000',\n",
      "       'ponds_nearest', 'days_exposition', 'price_per_square_meter',\n",
      "       'weekday_exposition', 'month_exposition', 'year_exposition',\n",
      "       'floor_category', 'useful_area_ratio', 'kitchen_area_ratio'],\n",
      "      dtype='object')\n"
     ]
    },
    {
     "data": {
      "text/plain": [
       "count    20394.000000\n",
       "mean       180.741395\n",
       "std        219.732782\n",
       "min          1.000000\n",
       "25%         45.000000\n",
       "50%         95.000000\n",
       "75%        231.000000\n",
       "max       1580.000000\n",
       "Name: days_exposition, dtype: float64"
      ]
     },
     "execution_count": 14,
     "metadata": {},
     "output_type": "execute_result"
    },
    {
     "data": {
      "image/png": "[encoded data removed]",
      "text/plain": [
       "<Figure size 432x288 with 1 Axes>"
      ]
     },
     "metadata": {
      "needs_background": "light"
     },
     "output_type": "display_data"
    },
    {
     "data": {
      "image/png": "[encoded data removed]",
      "text/plain": [
       "<Figure size 432x288 with 1 Axes>"
      ]
     },
     "metadata": {
      "needs_background": "light"
     },
     "output_type": "display_data"
    },
    {
     "data": {
      "image/png": "[encoded data removed]",
      "text/plain": [
       "<Figure size 432x288 with 1 Axes>"
      ]
     },
     "metadata": {
      "needs_background": "light"
     },
     "output_type": "display_data"
    }
   ],
   "source": [
    "print(data.columns)\n",
    "\n",
    "#диаграмма размаха\n",
    "\n",
    "plt.boxplot(data[data['days_exposition']!=0]['days_exposition'])\n",
    "plt.ylim(1,1000)\n",
    "\n",
    "data.plot(y = 'days_exposition', kind = 'hist', bins = 30, grid = True, range = (1,1600))\n",
    "data.plot(y = 'days_exposition', kind = 'hist', bins = 100, grid = True, range = (1,200))\n",
    "\n",
    "#среднее значение, медиана и межквартильный размах\n",
    "data[data['days_exposition']!=0]['days_exposition'].describe()\n",
    "#data[data['days_exposition']!=0]['days_exposition'].value_counts()"
   ]
  },
  {
   "cell_type": "markdown",
   "metadata": {},
   "source": [
    "Судя по гистограмме - мы имеем распределение Пуассона. Среднее значение - 180 дней, а медиана - 95 дней. Сделав гистограмму со значениями от 0 до 200 с кол-вом корзин 100, обнаружили выбивающиеся значения и методом value_counts убедились в этом - у нас аномалии на 45, 60, 7, 30, 90 днях - это наиболее популярное количество дней до снятия объявления.\n",
    "\n",
    "\n",
    "\n",
    "Будем считать, что продажа прошла очень быстро , если она меньше 40 дней. Если же она длилась больше 550 дней, то это необычно долго. Возможно, хозяева поставили слишком высокую цену, либо указали что-то неправильно."
   ]
  },
  {
   "cell_type": "markdown",
   "metadata": {},
   "source": [
    "### Уберите редкие и выбивающиеся значения. Опишите, какие особенности обнаружили."
   ]
  },
  {
   "cell_type": "code",
   "execution_count": 15,
   "metadata": {},
   "outputs": [
    {
     "data": {
      "text/plain": [
       "count    18335.000000\n",
       "mean       195.709136\n",
       "std        226.796685\n",
       "min          1.000000\n",
       "25%         44.000000\n",
       "50%        114.000000\n",
       "75%        259.000000\n",
       "max       1580.000000\n",
       "Name: days_exposition, dtype: float64"
      ]
     },
     "execution_count": 15,
     "metadata": {},
     "output_type": "execute_result"
    },
    {
     "data": {
      "image/png": "[encoded data removed]",
      "text/plain": [
       "<Figure size 432x288 with 1 Axes>"
      ]
     },
     "metadata": {
      "needs_background": "light"
     },
     "output_type": "display_data"
    },
    {
     "data": {
      "image/png": "[encoded data removed]",
      "text/plain": [
       "<Figure size 432x288 with 1 Axes>"
      ]
     },
     "metadata": {
      "needs_background": "light"
     },
     "output_type": "display_data"
    },
    {
     "data": {
      "image/png": "[encoded data removed]",
      "text/plain": [
       "<Figure size 432x288 with 1 Axes>"
      ]
     },
     "metadata": {
      "needs_background": "light"
     },
     "output_type": "display_data"
    }
   ],
   "source": [
    "#отфильтруем данные от аномалий и запишем их в новый датафрейм good_data\n",
    "good_data = data.query('days_exposition != 45 and days_exposition != 30 and days_exposition != 60 and days_exposition != 90 and days_exposition != 7 and days_exposition != 0')\n",
    "\n",
    "#диаграмма размаха\n",
    "plt.boxplot(good_data['days_exposition'])\n",
    "plt.ylim(1,1000)\n",
    "\n",
    "#гистограммы\n",
    "good_data.plot(y = 'days_exposition', kind = 'hist', bins = 30, grid = True, range = (1,1600))\n",
    "good_data.plot(y = 'days_exposition', kind = 'hist', bins = 100, grid = True, range = (1,200))\n",
    "\n",
    "#среднее значение, медиана и межквартильный размах\n",
    "#good_data['days_exposition'].value_counts()\n",
    "good_data['days_exposition'].describe()"
   ]
  },
  {
   "cell_type": "markdown",
   "metadata": {},
   "source": [
    "Ожидаемо, в очищенных данных с аномалиями в значениях меньших медианы получаем бОльшие значения медианы и среднего значения - 114 и 195 соответственно, вместо 95 и 180. Аналогично, теперь нормальные значения располагаются от 1 до 600 дней вместо от 1 до 500 дней."
   ]
  },
  {
   "cell_type": "markdown",
   "metadata": {},
   "source": [
    "### Какие факторы больше всего влияют на стоимость квартиры? Изучите, зависит ли цена квадратного метра от общей площади квартиры, числа комнат, этажа (первого или последнего), удалённости от центра. Также изучите зависимость от даты размещения: дня недели, месяца и года."
   ]
  },
  {
   "cell_type": "markdown",
   "metadata": {},
   "source": [
    "Изучим зависимость цены квадратного метра от общей площади квартиры."
   ]
  },
  {
   "cell_type": "code",
   "execution_count": 16,
   "metadata": {},
   "outputs": [
    {
     "data": {
      "text/plain": [
       "0.3025705855894221"
      ]
     },
     "execution_count": 16,
     "metadata": {},
     "output_type": "execute_result"
    },
    {
     "data": {
      "image/png": "[encoded data removed]",
      "text/plain": [
       "<Figure size 432x288 with 1 Axes>"
      ]
     },
     "metadata": {
      "needs_background": "light"
     },
     "output_type": "display_data"
    }
   ],
   "source": [
    "pivot_table_total_area = data.pivot_table(index = 'total_area', values = 'price_per_square_meter', aggfunc = ['mean', 'count', 'median'])\n",
    "pivot_table_total_area.columns = ['mean', 'count', 'median']\n",
    "pivot_table_total_area.plot(y = 'median', style = 'o')\n",
    "\n",
    "pivot_table_total_area.sort_values('median', ascending = False)\n",
    "\n",
    "data['total_area'].corr(data['price_per_square_meter'])"
   ]
  },
  {
   "cell_type": "markdown",
   "metadata": {},
   "source": [
    "Видим, что зависимость очень слабая - согласно корреляции Пирсона - 0.3! То есть, чем больше площадь тем немного выше стоимость!"
   ]
  },
  {
   "cell_type": "markdown",
   "metadata": {},
   "source": [
    "Изучим зависимость цены квадратного метра от числа комнат."
   ]
  },
  {
   "cell_type": "code",
   "execution_count": 17,
   "metadata": {},
   "outputs": [
    {
     "data": {
      "text/plain": [
       "0.055679781492603664"
      ]
     },
     "execution_count": 17,
     "metadata": {},
     "output_type": "execute_result"
    },
    {
     "data": {
      "image/png": "[encoded data removed]",
      "text/plain": [
       "<Figure size 432x288 with 1 Axes>"
      ]
     },
     "metadata": {
      "needs_background": "light"
     },
     "output_type": "display_data"
    }
   ],
   "source": [
    "pivot_table_rooms = data.pivot_table(index = 'rooms', values = 'price_per_square_meter', aggfunc = ['mean', 'count', 'median'])\n",
    "pivot_table_rooms.columns = ['mean', 'count', 'median']\n",
    "pivot_table_rooms.query('count > 50').plot(y = 'median')\n",
    "\n",
    "pivot_table_rooms.query('count > 50').sort_values('median', ascending = False)\n",
    "\n",
    "data['rooms'].corr(data['price_per_square_meter'])"
   ]
  },
  {
   "cell_type": "markdown",
   "metadata": {},
   "source": [
    "Чем ближе количество комнат к 3 тем ниже стоимость квадратного метра."
   ]
  },
  {
   "cell_type": "markdown",
   "metadata": {},
   "source": [
    "Изучим зависимость цены квадратного метра от этажа (первого или последнего)."
   ]
  },
  {
   "cell_type": "code",
   "execution_count": 18,
   "metadata": {},
   "outputs": [
    {
     "data": {
      "text/html": [
       "<div>\n",
       "<style scoped>\n",
       "    .dataframe tbody tr th:only-of-type {\n",
       "        vertical-align: middle;\n",
       "    }\n",
       "\n",
       "    .dataframe tbody tr th {\n",
       "        vertical-align: top;\n",
       "    }\n",
       "\n",
       "    .dataframe thead th {\n",
       "        text-align: right;\n",
       "    }\n",
       "</style>\n",
       "<table border=\"1\" class=\"dataframe\">\n",
       "  <thead>\n",
       "    <tr style=\"text-align: right;\">\n",
       "      <th></th>\n",
       "      <th>mean</th>\n",
       "      <th>count</th>\n",
       "      <th>median</th>\n",
       "    </tr>\n",
       "    <tr>\n",
       "      <th>floor_category</th>\n",
       "      <th></th>\n",
       "      <th></th>\n",
       "      <th></th>\n",
       "    </tr>\n",
       "  </thead>\n",
       "  <tbody>\n",
       "    <tr>\n",
       "      <th>первый</th>\n",
       "      <td>82001.162943</td>\n",
       "      <td>2909</td>\n",
       "      <td>81250</td>\n",
       "    </tr>\n",
       "    <tr>\n",
       "      <th>последний</th>\n",
       "      <td>93378.509009</td>\n",
       "      <td>3330</td>\n",
       "      <td>87763</td>\n",
       "    </tr>\n",
       "  </tbody>\n",
       "</table>\n",
       "</div>"
      ],
      "text/plain": [
       "                        mean  count  median\n",
       "floor_category                             \n",
       "первый          82001.162943   2909   81250\n",
       "последний       93378.509009   3330   87763"
      ]
     },
     "execution_count": 18,
     "metadata": {},
     "output_type": "execute_result"
    },
    {
     "data": {
      "image/png": "[encoded data removed]",
      "text/plain": [
       "<Figure size 432x288 with 1 Axes>"
      ]
     },
     "metadata": {
      "needs_background": "light"
     },
     "output_type": "display_data"
    }
   ],
   "source": [
    "pivot_table_floor_category = data.query('floor_category != \"другой\"').pivot_table(index = 'floor_category', values = 'price_per_square_meter', aggfunc = ['mean', 'count', 'median'])\n",
    "pivot_table_floor_category.columns = ['mean', 'count', 'median']\n",
    "pivot_table_floor_category.plot(y = 'median')\n",
    "pivot_table_floor_category"
   ]
  },
  {
   "cell_type": "markdown",
   "metadata": {},
   "source": [
    "Согласно медиане - как правило квартиры на первом этаже дешевле квартир на последнем этаже - в среднем на 10%!"
   ]
  },
  {
   "cell_type": "markdown",
   "metadata": {},
   "source": [
    "Изучим зависимость цены квадратного метра от удалённости от центра."
   ]
  },
  {
   "cell_type": "code",
   "execution_count": 19,
   "metadata": {},
   "outputs": [
    {
     "data": {
      "text/plain": [
       "-0.31759628115540994"
      ]
     },
     "execution_count": 19,
     "metadata": {},
     "output_type": "execute_result"
    },
    {
     "data": {
      "image/png": "[encoded data removed]",
      "text/plain": [
       "<Figure size 432x288 with 1 Axes>"
      ]
     },
     "metadata": {
      "needs_background": "light"
     },
     "output_type": "display_data"
    }
   ],
   "source": [
    "data.plot(kind = 'scatter', y = 'price_per_square_meter', x = 'cityCenters_nearest', alpha = 0.3)\n",
    "\n",
    "data['cityCenters_nearest'].corr(data['price_per_square_meter'])"
   ]
  },
  {
   "cell_type": "markdown",
   "metadata": {},
   "source": [
    "Видим явную зависимость стоимости квадратного метра от близости к центру! Чем ближе к центру, тем выше стоимость!"
   ]
  },
  {
   "cell_type": "markdown",
   "metadata": {},
   "source": [
    "Изучим зависимость цены квадратного метра от даты размещения: дня недели."
   ]
  },
  {
   "cell_type": "code",
   "execution_count": 20,
   "metadata": {},
   "outputs": [
    {
     "data": {
      "text/html": [
       "<div>\n",
       "<style scoped>\n",
       "    .dataframe tbody tr th:only-of-type {\n",
       "        vertical-align: middle;\n",
       "    }\n",
       "\n",
       "    .dataframe tbody tr th {\n",
       "        vertical-align: top;\n",
       "    }\n",
       "\n",
       "    .dataframe thead th {\n",
       "        text-align: right;\n",
       "    }\n",
       "</style>\n",
       "<table border=\"1\" class=\"dataframe\">\n",
       "  <thead>\n",
       "    <tr style=\"text-align: right;\">\n",
       "      <th></th>\n",
       "      <th>mean</th>\n",
       "      <th>count</th>\n",
       "      <th>median</th>\n",
       "    </tr>\n",
       "    <tr>\n",
       "      <th>weekday_exposition</th>\n",
       "      <th></th>\n",
       "      <th></th>\n",
       "      <th></th>\n",
       "    </tr>\n",
       "  </thead>\n",
       "  <tbody>\n",
       "    <tr>\n",
       "      <th>1</th>\n",
       "      <td>99667.761951</td>\n",
       "      <td>4163</td>\n",
       "      <td>95567.0</td>\n",
       "    </tr>\n",
       "    <tr>\n",
       "      <th>2</th>\n",
       "      <td>99584.276596</td>\n",
       "      <td>3948</td>\n",
       "      <td>95473.0</td>\n",
       "    </tr>\n",
       "    <tr>\n",
       "      <th>3</th>\n",
       "      <td>100194.284144</td>\n",
       "      <td>4276</td>\n",
       "      <td>95132.0</td>\n",
       "    </tr>\n",
       "    <tr>\n",
       "      <th>0</th>\n",
       "      <td>99462.125139</td>\n",
       "      <td>3596</td>\n",
       "      <td>94719.0</td>\n",
       "    </tr>\n",
       "    <tr>\n",
       "      <th>6</th>\n",
       "      <td>97758.773024</td>\n",
       "      <td>1683</td>\n",
       "      <td>94594.0</td>\n",
       "    </tr>\n",
       "    <tr>\n",
       "      <th>4</th>\n",
       "      <td>98924.551005</td>\n",
       "      <td>3980</td>\n",
       "      <td>94579.5</td>\n",
       "    </tr>\n",
       "    <tr>\n",
       "      <th>5</th>\n",
       "      <td>99045.405941</td>\n",
       "      <td>1919</td>\n",
       "      <td>93548.0</td>\n",
       "    </tr>\n",
       "  </tbody>\n",
       "</table>\n",
       "</div>"
      ],
      "text/plain": [
       "                             mean  count   median\n",
       "weekday_exposition                               \n",
       "1                    99667.761951   4163  95567.0\n",
       "2                    99584.276596   3948  95473.0\n",
       "3                   100194.284144   4276  95132.0\n",
       "0                    99462.125139   3596  94719.0\n",
       "6                    97758.773024   1683  94594.0\n",
       "4                    98924.551005   3980  94579.5\n",
       "5                    99045.405941   1919  93548.0"
      ]
     },
     "execution_count": 20,
     "metadata": {},
     "output_type": "execute_result"
    },
    {
     "data": {
      "image/png": "[encoded data removed]",
      "text/plain": [
       "<Figure size 432x288 with 1 Axes>"
      ]
     },
     "metadata": {
      "needs_background": "light"
     },
     "output_type": "display_data"
    }
   ],
   "source": [
    "pivot_table_weekday_exposition = data.pivot_table(index = 'weekday_exposition', values = 'price_per_square_meter', aggfunc = ['mean', 'count', 'median'])\n",
    "pivot_table_weekday_exposition.columns = ['mean', 'count', 'median']\n",
    "pivot_table_weekday_exposition.plot(y = 'median')\n",
    "\n",
    "pivot_table_weekday_exposition.sort_values('median', ascending = False)"
   ]
  },
  {
   "cell_type": "markdown",
   "metadata": {},
   "source": [
    "Видим, что чем ближе ко вторнику выставлены объявления тем в среднем выше стоимость, но незначительно! По субботам стоимость самая низкая!"
   ]
  },
  {
   "cell_type": "markdown",
   "metadata": {},
   "source": [
    "Изучим зависимость цены квадратного метра от даты размещения: месяца."
   ]
  },
  {
   "cell_type": "code",
   "execution_count": 21,
   "metadata": {},
   "outputs": [
    {
     "data": {
      "text/html": [
       "<div>\n",
       "<style scoped>\n",
       "    .dataframe tbody tr th:only-of-type {\n",
       "        vertical-align: middle;\n",
       "    }\n",
       "\n",
       "    .dataframe tbody tr th {\n",
       "        vertical-align: top;\n",
       "    }\n",
       "\n",
       "    .dataframe thead th {\n",
       "        text-align: right;\n",
       "    }\n",
       "</style>\n",
       "<table border=\"1\" class=\"dataframe\">\n",
       "  <thead>\n",
       "    <tr style=\"text-align: right;\">\n",
       "      <th></th>\n",
       "      <th>mean</th>\n",
       "      <th>count</th>\n",
       "      <th>median</th>\n",
       "    </tr>\n",
       "    <tr>\n",
       "      <th>month_exposition</th>\n",
       "      <th></th>\n",
       "      <th></th>\n",
       "      <th></th>\n",
       "    </tr>\n",
       "  </thead>\n",
       "  <tbody>\n",
       "    <tr>\n",
       "      <th>4</th>\n",
       "      <td>101987.648557</td>\n",
       "      <td>2356</td>\n",
       "      <td>96543.0</td>\n",
       "    </tr>\n",
       "    <tr>\n",
       "      <th>8</th>\n",
       "      <td>100108.687752</td>\n",
       "      <td>1739</td>\n",
       "      <td>96052.0</td>\n",
       "    </tr>\n",
       "    <tr>\n",
       "      <th>9</th>\n",
       "      <td>100518.872211</td>\n",
       "      <td>1972</td>\n",
       "      <td>95623.0</td>\n",
       "    </tr>\n",
       "    <tr>\n",
       "      <th>11</th>\n",
       "      <td>99228.002542</td>\n",
       "      <td>2360</td>\n",
       "      <td>95606.5</td>\n",
       "    </tr>\n",
       "    <tr>\n",
       "      <th>3</th>\n",
       "      <td>98951.544078</td>\n",
       "      <td>2575</td>\n",
       "      <td>95233.0</td>\n",
       "    </tr>\n",
       "    <tr>\n",
       "      <th>1</th>\n",
       "      <td>99732.675857</td>\n",
       "      <td>1487</td>\n",
       "      <td>95180.0</td>\n",
       "    </tr>\n",
       "    <tr>\n",
       "      <th>7</th>\n",
       "      <td>99612.893238</td>\n",
       "      <td>1686</td>\n",
       "      <td>95005.5</td>\n",
       "    </tr>\n",
       "    <tr>\n",
       "      <th>2</th>\n",
       "      <td>98762.248483</td>\n",
       "      <td>2636</td>\n",
       "      <td>95000.0</td>\n",
       "    </tr>\n",
       "    <tr>\n",
       "      <th>12</th>\n",
       "      <td>99501.177656</td>\n",
       "      <td>1638</td>\n",
       "      <td>94238.0</td>\n",
       "    </tr>\n",
       "    <tr>\n",
       "      <th>10</th>\n",
       "      <td>97866.604839</td>\n",
       "      <td>2108</td>\n",
       "      <td>94212.0</td>\n",
       "    </tr>\n",
       "    <tr>\n",
       "      <th>6</th>\n",
       "      <td>97795.432742</td>\n",
       "      <td>1747</td>\n",
       "      <td>92857.0</td>\n",
       "    </tr>\n",
       "    <tr>\n",
       "      <th>5</th>\n",
       "      <td>98487.816812</td>\n",
       "      <td>1261</td>\n",
       "      <td>92696.0</td>\n",
       "    </tr>\n",
       "  </tbody>\n",
       "</table>\n",
       "</div>"
      ],
      "text/plain": [
       "                           mean  count   median\n",
       "month_exposition                               \n",
       "4                 101987.648557   2356  96543.0\n",
       "8                 100108.687752   1739  96052.0\n",
       "9                 100518.872211   1972  95623.0\n",
       "11                 99228.002542   2360  95606.5\n",
       "3                  98951.544078   2575  95233.0\n",
       "1                  99732.675857   1487  95180.0\n",
       "7                  99612.893238   1686  95005.5\n",
       "2                  98762.248483   2636  95000.0\n",
       "12                 99501.177656   1638  94238.0\n",
       "10                 97866.604839   2108  94212.0\n",
       "6                  97795.432742   1747  92857.0\n",
       "5                  98487.816812   1261  92696.0"
      ]
     },
     "execution_count": 21,
     "metadata": {},
     "output_type": "execute_result"
    },
    {
     "data": {
      "image/png": "[encoded data removed]",
      "text/plain": [
       "<Figure size 432x288 with 1 Axes>"
      ]
     },
     "metadata": {
      "needs_background": "light"
     },
     "output_type": "display_data"
    }
   ],
   "source": [
    "pivot_table_month_exposition = data.pivot_table(index = 'month_exposition', values = 'price_per_square_meter', aggfunc = ['mean', 'count', 'median'])\n",
    "pivot_table_month_exposition.columns = ['mean', 'count', 'median']\n",
    "pivot_table_month_exposition.plot(y = 'median')\n",
    "\n",
    "pivot_table_month_exposition.sort_values('median', ascending = False)"
   ]
  },
  {
   "cell_type": "markdown",
   "metadata": {},
   "source": [
    "Самая высокая стоимость метра в апреле и августе! Самая низкая стоимость в мае и июне! На рынке недвижимости, как и во многих других сферах присутствует сезонность - в начале лета мы видим наименьшее предложение как по количеству, так и по стоимости недвижимости."
   ]
  },
  {
   "cell_type": "code",
   "execution_count": 22,
   "metadata": {
    "scrolled": true
   },
   "outputs": [
    {
     "data": {
      "text/plain": [
       "<AxesSubplot:xlabel='month_exposition'>"
      ]
     },
     "execution_count": 22,
     "metadata": {},
     "output_type": "execute_result"
    },
    {
     "data": {
      "image/png": "[encoded data removed]",
      "text/plain": [
       "<Figure size 432x288 with 1 Axes>"
      ]
     },
     "metadata": {
      "needs_background": "light"
     },
     "output_type": "display_data"
    }
   ],
   "source": [
    "#код ревьюера\n",
    "pivot_table_month_exposition['median'].plot.bar()"
   ]
  },
  {
   "cell_type": "markdown",
   "metadata": {},
   "source": [
    "Изучим зависимость цены квадратного метра от даты размещения: года."
   ]
  },
  {
   "cell_type": "code",
   "execution_count": null,
   "metadata": {},
   "outputs": [],
   "source": [
    "pivot_table_year_exposition = data.pivot_table(index = 'year_exposition', values = 'price_per_square_meter', aggfunc = ['mean', 'count', 'median'])\n",
    "pivot_table_year_exposition.columns = ['mean', 'count', 'median']\n",
    "pivot_table_year_exposition.plot(y = 'median')\n",
    "\n",
    "pivot_table_year_exposition.sort_values('median', ascending = False)"
   ]
  },
  {
   "cell_type": "markdown",
   "metadata": {},
   "source": [
    "Видим, что с 2014 до 2016 года цена падала, но далее начала увеличиваться!"
   ]
  },
  {
   "cell_type": "markdown",
   "metadata": {},
   "source": [
    "### Выберите 10 населённых пунктов с наибольшим числом объявлений. Посчитайте среднюю цену квадратного метра в этих населённых пунктах. Выделите населённые пункты с самой высокой и низкой стоимостью жилья. Эти данные можно найти по имени в столбце 'locality_name'."
   ]
  },
  {
   "cell_type": "code",
   "execution_count": null,
   "metadata": {},
   "outputs": [],
   "source": [
    "locality_pivot_table = data.pivot_table(index = 'locality_name', values = 'price_per_square_meter', aggfunc=['count', 'median'])\n",
    "locality_pivot_table.columns = ['count', 'median']\n",
    "locality_pivot_table = locality_pivot_table.sort_values('count', ascending = False).head(10)\n",
    "locality_pivot_table"
   ]
  },
  {
   "cell_type": "code",
   "execution_count": null,
   "metadata": {},
   "outputs": [],
   "source": [
    "#самая высокая стоимость\n",
    "locality_pivot_table[locality_pivot_table['median']==locality_pivot_table['median'].max()]"
   ]
  },
  {
   "cell_type": "code",
   "execution_count": null,
   "metadata": {},
   "outputs": [],
   "source": [
    "#самая низкая стоимость\n",
    "locality_pivot_table[locality_pivot_table['median']==locality_pivot_table['median'].min()]"
   ]
  },
  {
   "cell_type": "markdown",
   "metadata": {},
   "source": [
    "Самая высокая стоимость жилья из 10 населённых пунктов с самым большим количеством объявлений в Санкт-Петербурге, тогда как самая низкая стоимость в Всеволожске."
   ]
  },
  {
   "cell_type": "markdown",
   "metadata": {},
   "source": [
    "### Изучите предложения квартир: для каждой квартиры есть информация о расстоянии до центра. Выделите квартиры в Санкт-Петербурге ('locality_name'). Ваша задача — выяснить, какая область входит в центр. Создайте столбец с расстоянием до центра в километрах: округлите до целых значений. После этого посчитайте среднюю цену для каждого километра. Постройте график: он должен показывать, как цена зависит от удалённости от центра. Определите границу, где график сильно меняется — это и будет центральная зона."
   ]
  },
  {
   "cell_type": "code",
   "execution_count": null,
   "metadata": {},
   "outputs": [],
   "source": [
    "data['cityCenters_nearest_km'] = data['cityCenters_nearest']/1000\n",
    "data['cityCenters_nearest_km'] = data['cityCenters_nearest_km'].fillna(999999)\n",
    "data['cityCenters_nearest_km'] = data['cityCenters_nearest_km'].astype('int')\n",
    "pivot_table_km = data.query('locality_name == \"Санкт-Петербург\" and cityCenters_nearest_km !=999999').pivot_table(index = 'cityCenters_nearest_km', values = 'last_price', aggfunc = 'mean')\n",
    "pivot_table_km.plot()\n",
    "pivot_table_km"
   ]
  },
  {
   "cell_type": "markdown",
   "metadata": {},
   "source": [
    "Судя по графику центром считать будем радиус в 3 километра!"
   ]
  },
  {
   "cell_type": "markdown",
   "metadata": {},
   "source": [
    "### Выделите сегмент квартир в центре. Проанализируйте эту территорию и изучите следующие параметры: площадь, цена, число комнат, высота потолков. Также выделите факторы, которые влияют на стоимость квартиры (число комнат, этаж, удалённость от центра, дата размещения объявления). Сделайте выводы. Отличаются ли они от общих выводов по всему городу?"
   ]
  },
  {
   "cell_type": "code",
   "execution_count": null,
   "metadata": {},
   "outputs": [],
   "source": [
    "#выделим квартиры в центре, беря за радиус 3 км\n",
    "center_spb_data = data.query('cityCenters_nearest_km <= 3 and locality_name == \"Санкт-Петербург\"')"
   ]
  },
  {
   "cell_type": "markdown",
   "metadata": {},
   "source": [
    "Зависимость стоимости квадратного метра от количества комнат."
   ]
  },
  {
   "cell_type": "code",
   "execution_count": null,
   "metadata": {},
   "outputs": [],
   "source": [
    "center_spb_rooms = center_spb_data.pivot_table(index = 'rooms', values = 'price_per_square_meter', aggfunc = ['mean', 'count', 'median'])\n",
    "center_spb_rooms.columns = ['mean', 'count', 'median']\n",
    "center_spb_rooms.query('count > 50').plot(y = 'median')\n",
    "\n",
    "center_spb_rooms.query('count > 50').sort_values('median', ascending = False)\n",
    "\n",
    "center_spb_data['rooms'].corr(center_spb_data['price_per_square_meter'])"
   ]
  },
  {
   "cell_type": "markdown",
   "metadata": {},
   "source": [
    "В центре СПБ чем меньше комнат тем дороже стоимость метра квадратного, в отличие от всей выборки, где стоимость уменьшается в зависимости от близости кол-ва комнат к 3! Так мы считаем, исходя из поведения медианной стоимости, в зависимости от количества комнат. Хотя корреляция маленькая, правильнее смотреть именно на график."
   ]
  },
  {
   "cell_type": "markdown",
   "metadata": {},
   "source": [
    "Зависимость стоимости квадратного метра от этажа."
   ]
  },
  {
   "cell_type": "code",
   "execution_count": null,
   "metadata": {},
   "outputs": [],
   "source": [
    "center_spb_floor_category = center_spb_data.query('floor_category != \"другой\"').pivot_table(index = 'floor_category', values = 'price_per_square_meter', aggfunc = ['mean', 'count', 'median'])\n",
    "center_spb_floor_category.columns = ['mean', 'count', 'median']\n",
    "center_spb_floor_category.plot(y = 'median')\n",
    "center_spb_floor_category"
   ]
  },
  {
   "cell_type": "markdown",
   "metadata": {},
   "source": [
    "Нет особых отличий от всей выборки квартир! Квартиры на первом этаже в среднем дешевле, чем на последнем!"
   ]
  },
  {
   "cell_type": "markdown",
   "metadata": {},
   "source": [
    "Зависимость стоимости квадратного метра от удаленности от центра."
   ]
  },
  {
   "cell_type": "code",
   "execution_count": null,
   "metadata": {},
   "outputs": [],
   "source": [
    "center_spb_data.plot(kind = 'scatter', y = 'price_per_square_meter', x = 'cityCenters_nearest', alpha = 0.3)\n",
    "\n",
    "center_spb_data['cityCenters_nearest'].corr(center_spb_data['price_per_square_meter'])"
   ]
  },
  {
   "cell_type": "markdown",
   "metadata": {},
   "source": [
    "Ожидаемо, четкой зависимости нет, так как у нас уже сделана выборка по центру города!"
   ]
  },
  {
   "cell_type": "markdown",
   "metadata": {},
   "source": [
    "Зависимость стоимости квадратного метра от дня недели размещения объявления."
   ]
  },
  {
   "cell_type": "code",
   "execution_count": null,
   "metadata": {},
   "outputs": [],
   "source": [
    "center_spb_weekday_exposition = center_spb_data.pivot_table(index = 'weekday_exposition', values = 'price_per_square_meter', aggfunc = ['mean', 'count', 'median'])\n",
    "center_spb_weekday_exposition.columns = ['mean', 'count', 'median']\n",
    "center_spb_weekday_exposition.plot(y = 'median')\n",
    "\n",
    "center_spb_weekday_exposition.sort_values('median', ascending = False)"
   ]
  },
  {
   "cell_type": "markdown",
   "metadata": {},
   "source": [
    "Ситуация отличается от всей выборки, минимальные средние цены в четверг и воскресенье, самые высокие - в понедельник и субботу!"
   ]
  },
  {
   "cell_type": "markdown",
   "metadata": {},
   "source": [
    "Зависимость стоимости квадратного метра от месяца размещения объявления."
   ]
  },
  {
   "cell_type": "code",
   "execution_count": null,
   "metadata": {},
   "outputs": [],
   "source": [
    "center_spb_month_exposition = center_spb_data.pivot_table(index = 'month_exposition', values = 'price_per_square_meter', aggfunc = ['mean', 'count', 'median'])\n",
    "center_spb_month_exposition.columns = ['mean', 'count', 'median']\n",
    "center_spb_month_exposition.plot(y = 'median')\n",
    "\n",
    "center_spb_month_exposition.sort_values('median', ascending = False)"
   ]
  },
  {
   "cell_type": "markdown",
   "metadata": {},
   "source": [
    "Ситуация похожая с общей выборкой - самая высокая стоимость метра в апреле и августе! Самая низкая стоимость в мае и июне!"
   ]
  },
  {
   "cell_type": "markdown",
   "metadata": {},
   "source": [
    "Зависимость стоимости квадратного метра от года размещения объявления."
   ]
  },
  {
   "cell_type": "code",
   "execution_count": null,
   "metadata": {},
   "outputs": [],
   "source": [
    "center_spb_year_exposition = center_spb_data.pivot_table(index = 'year_exposition', values = 'price_per_square_meter', aggfunc = ['mean', 'count', 'median'])\n",
    "center_spb_year_exposition.columns = ['mean', 'count', 'median']\n",
    "center_spb_year_exposition.query('count > 50').plot(y = 'median')\n",
    "\n",
    "center_spb_year_exposition.query('count > 50').sort_values('median', ascending = False)"
   ]
  },
  {
   "cell_type": "markdown",
   "metadata": {},
   "source": [
    "В отличие от всей выборки - цены в центре СПБ в 2016-2017 годах не падали, а планомерно расли!"
   ]
  },
  {
   "cell_type": "markdown",
   "metadata": {},
   "source": [
    "## Общий вывод"
   ]
  },
  {
   "cell_type": "markdown",
   "metadata": {},
   "source": [
    "Мы обработали полученный архив данных - обработали пропущенные значения там, где это необходимо, заменили типы данных на необходимые для удобной работы. Посчитали и добавили в таблицу цену квадратного метра жилья, вывели из даты дни недели, месяцы и года размещения объявлений, добавили категории по этажам квартир. Изучили следующие параметры на наличие выбивающихся значений - площадь, цена, число комнат, высота потолков. Были определены аномалии в данных параметрах. Изучая время продажи квартир мы выявили, что большое количество объявлений было автоматически снято с Яндекс Недвижимость и дату из снятия нельзя считать датой продажи квартиры, поэтому, изучая средние сроки продажи квартир - данные значения не учитывались. Мы выявили при помощи диаграммы размаха, что нормальные значения продажи квартир варьируются от 1 до 600 дней. Мы выявили, что на стоимость квадратного метра квартиры больше всего влияют количество комнат, этаж квартиры, близость к центру. Незначительно на стоимость квадратного метра влияют день, месяц, год размещения и общая площадь. Нужно учитывать, что в 2016-2017 годах стоимость квартир в среднем по рынку была ниже на 10-20 %, тогда как в центре Санкт-Петербурга данной зависимости от года не обнаружено. В данном случае имело место постоянное удорожание стоимости, начиная с 2015 года по текущий момент. Судя, по резкости изменения цен в зависимости от удаления от центра СПБ, мы выявили центр города в радиусе 3 километров.\n",
    "\n",
    "Также важно учитывать, что, рассматривая среднюю стоимость квартир в 2014-2019 годах, мы не делали сегментацию рынка, а лишь смотрели средние показатели по рынку в целом. Т.е. возможно, что цены на аналогичные квартиры в разных годах вели себя абсолютно по-разному. Т.е. например в то время, когда средняя стоимость метра по рынку в 2016-2017 годах была наиболее низкой, какие-то аналогичные прошлым годам квартиры могли и не падать в цене, а наоборот дорожать! Именно об этом нам и говорят данные, полученные при изучении единственного сегмента квартир - находящихся в радиусе 3 км в центре СПБ."
   ]
  }
 ],
 "metadata": {
  "ExecuteTimeLog": [
   {
    "duration": 1004,
    "start_time": "2021-12-10T07:06:11.820Z"
   },
   {
    "duration": 120,
    "start_time": "2021-12-10T07:06:43.499Z"
   },
   {
    "duration": 143,
    "start_time": "2021-12-10T07:07:01.050Z"
   },
   {
    "duration": 123,
    "start_time": "2021-12-10T07:07:20.480Z"
   },
   {
    "duration": 127,
    "start_time": "2021-12-10T07:07:41.480Z"
   },
   {
    "duration": 96,
    "start_time": "2021-12-10T07:07:54.960Z"
   },
   {
    "duration": 93,
    "start_time": "2021-12-10T07:08:10.974Z"
   },
   {
    "duration": 126,
    "start_time": "2021-12-10T07:08:25.233Z"
   },
   {
    "duration": 608,
    "start_time": "2021-12-10T07:10:35.379Z"
   },
   {
    "duration": 4,
    "start_time": "2021-12-10T07:10:40.118Z"
   },
   {
    "duration": 127,
    "start_time": "2021-12-10T07:11:02.200Z"
   },
   {
    "duration": 15,
    "start_time": "2021-12-10T07:11:31.519Z"
   },
   {
    "duration": 13,
    "start_time": "2021-12-10T07:20:45.545Z"
   },
   {
    "duration": 15,
    "start_time": "2021-12-10T07:22:42.798Z"
   },
   {
    "duration": 14,
    "start_time": "2021-12-10T07:23:02.323Z"
   },
   {
    "duration": 13,
    "start_time": "2021-12-10T07:24:41.635Z"
   },
   {
    "duration": 14,
    "start_time": "2021-12-10T07:26:58.559Z"
   },
   {
    "duration": 18,
    "start_time": "2021-12-10T07:27:31.365Z"
   },
   {
    "duration": 19,
    "start_time": "2021-12-10T07:27:58.461Z"
   },
   {
    "duration": 11,
    "start_time": "2021-12-10T07:28:34.558Z"
   },
   {
    "duration": 16,
    "start_time": "2021-12-10T07:29:27.520Z"
   },
   {
    "duration": 52,
    "start_time": "2021-12-10T07:29:57.288Z"
   },
   {
    "duration": 1722,
    "start_time": "2021-12-10T07:31:02.594Z"
   },
   {
    "duration": 159,
    "start_time": "2021-12-10T07:31:04.319Z"
   },
   {
    "duration": 17,
    "start_time": "2021-12-10T07:31:04.481Z"
   },
   {
    "duration": 461,
    "start_time": "2021-12-10T07:31:04.519Z"
   },
   {
    "duration": -6678,
    "start_time": "2021-12-10T07:31:11.661Z"
   },
   {
    "duration": -6686,
    "start_time": "2021-12-10T07:31:11.671Z"
   },
   {
    "duration": -6701,
    "start_time": "2021-12-10T07:31:11.688Z"
   },
   {
    "duration": -6704,
    "start_time": "2021-12-10T07:31:11.694Z"
   },
   {
    "duration": -6709,
    "start_time": "2021-12-10T07:31:11.700Z"
   },
   {
    "duration": -6718,
    "start_time": "2021-12-10T07:31:11.711Z"
   },
   {
    "duration": 314,
    "start_time": "2021-12-10T07:32:45.101Z"
   },
   {
    "duration": 1707,
    "start_time": "2021-12-10T07:33:11.713Z"
   },
   {
    "duration": 215,
    "start_time": "2021-12-10T07:33:13.423Z"
   },
   {
    "duration": 447,
    "start_time": "2021-12-10T07:33:13.643Z"
   },
   {
    "duration": -6688,
    "start_time": "2021-12-10T07:33:20.782Z"
   },
   {
    "duration": -6680,
    "start_time": "2021-12-10T07:33:20.790Z"
   },
   {
    "duration": -6684,
    "start_time": "2021-12-10T07:33:20.796Z"
   },
   {
    "duration": -6687,
    "start_time": "2021-12-10T07:33:20.801Z"
   },
   {
    "duration": -6690,
    "start_time": "2021-12-10T07:33:20.806Z"
   },
   {
    "duration": -6695,
    "start_time": "2021-12-10T07:33:20.813Z"
   },
   {
    "duration": -6699,
    "start_time": "2021-12-10T07:33:20.819Z"
   },
   {
    "duration": 1502,
    "start_time": "2021-12-10T07:33:31.498Z"
   },
   {
    "duration": 155,
    "start_time": "2021-12-10T07:33:33.003Z"
   },
   {
    "duration": 18,
    "start_time": "2021-12-10T07:33:33.162Z"
   },
   {
    "duration": 35,
    "start_time": "2021-12-10T07:33:33.183Z"
   },
   {
    "duration": 16,
    "start_time": "2021-12-10T07:33:33.221Z"
   },
   {
    "duration": 18,
    "start_time": "2021-12-10T07:33:33.240Z"
   },
   {
    "duration": 59,
    "start_time": "2021-12-10T07:33:33.260Z"
   },
   {
    "duration": 14,
    "start_time": "2021-12-10T07:33:33.323Z"
   },
   {
    "duration": 10,
    "start_time": "2021-12-10T07:33:33.339Z"
   },
   {
    "duration": 73,
    "start_time": "2021-12-10T07:33:33.353Z"
   },
   {
    "duration": 1844,
    "start_time": "2021-12-10T14:39:34.127Z"
   },
   {
    "duration": 156,
    "start_time": "2021-12-10T14:39:35.974Z"
   },
   {
    "duration": 27,
    "start_time": "2021-12-10T14:39:36.133Z"
   },
   {
    "duration": 12,
    "start_time": "2021-12-10T14:39:36.163Z"
   },
   {
    "duration": 17,
    "start_time": "2021-12-10T14:39:36.179Z"
   },
   {
    "duration": 15,
    "start_time": "2021-12-10T14:39:36.199Z"
   },
   {
    "duration": 55,
    "start_time": "2021-12-10T14:39:36.217Z"
   },
   {
    "duration": 13,
    "start_time": "2021-12-10T14:39:36.276Z"
   },
   {
    "duration": 9,
    "start_time": "2021-12-10T14:39:36.291Z"
   },
   {
    "duration": 75,
    "start_time": "2021-12-10T14:39:36.303Z"
   },
   {
    "duration": 1482,
    "start_time": "2021-12-10T14:41:17.243Z"
   },
   {
    "duration": 144,
    "start_time": "2021-12-10T14:41:18.728Z"
   },
   {
    "duration": 15,
    "start_time": "2021-12-10T14:41:18.875Z"
   },
   {
    "duration": 12,
    "start_time": "2021-12-10T14:41:18.893Z"
   },
   {
    "duration": 11,
    "start_time": "2021-12-10T14:41:18.907Z"
   },
   {
    "duration": 49,
    "start_time": "2021-12-10T14:41:18.921Z"
   },
   {
    "duration": 13,
    "start_time": "2021-12-10T14:41:18.990Z"
   },
   {
    "duration": 9,
    "start_time": "2021-12-10T14:41:19.005Z"
   },
   {
    "duration": 77,
    "start_time": "2021-12-10T14:41:19.016Z"
   },
   {
    "duration": 16,
    "start_time": "2021-12-10T14:41:37.604Z"
   },
   {
    "duration": 14,
    "start_time": "2021-12-10T14:41:48.083Z"
   },
   {
    "duration": 1722,
    "start_time": "2021-12-10T14:42:05.393Z"
   },
   {
    "duration": 144,
    "start_time": "2021-12-10T14:42:07.117Z"
   },
   {
    "duration": 15,
    "start_time": "2021-12-10T14:42:07.264Z"
   },
   {
    "duration": 11,
    "start_time": "2021-12-10T14:42:07.282Z"
   },
   {
    "duration": 11,
    "start_time": "2021-12-10T14:42:07.295Z"
   },
   {
    "duration": 56,
    "start_time": "2021-12-10T14:42:07.308Z"
   },
   {
    "duration": 14,
    "start_time": "2021-12-10T14:42:07.366Z"
   },
   {
    "duration": 12,
    "start_time": "2021-12-10T14:42:07.383Z"
   },
   {
    "duration": 9,
    "start_time": "2021-12-10T14:42:07.398Z"
   },
   {
    "duration": 75,
    "start_time": "2021-12-10T14:42:07.410Z"
   },
   {
    "duration": 41,
    "start_time": "2021-12-10T14:42:39.712Z"
   },
   {
    "duration": 17,
    "start_time": "2021-12-10T14:56:57.376Z"
   },
   {
    "duration": 30,
    "start_time": "2021-12-10T14:57:12.816Z"
   },
   {
    "duration": 29,
    "start_time": "2021-12-10T14:57:21.999Z"
   },
   {
    "duration": 24,
    "start_time": "2021-12-10T14:58:07.202Z"
   },
   {
    "duration": 26,
    "start_time": "2021-12-10T14:58:11.300Z"
   },
   {
    "duration": 30,
    "start_time": "2021-12-10T14:58:17.484Z"
   },
   {
    "duration": 14,
    "start_time": "2021-12-10T14:58:37.359Z"
   },
   {
    "duration": 9976,
    "start_time": "2021-12-10T14:59:16.039Z"
   },
   {
    "duration": 8,
    "start_time": "2021-12-10T14:59:29.001Z"
   },
   {
    "duration": 16,
    "start_time": "2021-12-10T15:00:16.140Z"
   },
   {
    "duration": -6600,
    "start_time": "2021-12-10T15:00:45.238Z"
   },
   {
    "duration": 8,
    "start_time": "2021-12-10T15:00:39.240Z"
   },
   {
    "duration": 8,
    "start_time": "2021-12-10T15:01:17.959Z"
   },
   {
    "duration": 13,
    "start_time": "2021-12-10T15:22:42.858Z"
   },
   {
    "duration": 17,
    "start_time": "2021-12-10T15:27:12.612Z"
   },
   {
    "duration": 47,
    "start_time": "2021-12-10T15:27:46.619Z"
   },
   {
    "duration": 24,
    "start_time": "2021-12-10T15:28:03.756Z"
   },
   {
    "duration": 38,
    "start_time": "2021-12-10T15:28:18.275Z"
   },
   {
    "duration": 9,
    "start_time": "2021-12-10T15:33:41.919Z"
   },
   {
    "duration": 7,
    "start_time": "2021-12-10T15:44:11.189Z"
   },
   {
    "duration": 1430,
    "start_time": "2021-12-11T12:09:54.398Z"
   },
   {
    "duration": 161,
    "start_time": "2021-12-11T12:09:55.831Z"
   },
   {
    "duration": 17,
    "start_time": "2021-12-11T12:09:55.996Z"
   },
   {
    "duration": 45,
    "start_time": "2021-12-11T12:09:56.016Z"
   },
   {
    "duration": 14,
    "start_time": "2021-12-11T12:09:56.064Z"
   },
   {
    "duration": 16,
    "start_time": "2021-12-11T12:09:56.080Z"
   },
   {
    "duration": 15,
    "start_time": "2021-12-11T12:09:56.098Z"
   },
   {
    "duration": 54,
    "start_time": "2021-12-11T12:09:56.116Z"
   },
   {
    "duration": 9,
    "start_time": "2021-12-11T12:09:56.173Z"
   },
   {
    "duration": 7,
    "start_time": "2021-12-11T12:09:56.184Z"
   },
   {
    "duration": 13,
    "start_time": "2021-12-11T12:09:56.193Z"
   },
   {
    "duration": 65,
    "start_time": "2021-12-11T12:09:56.209Z"
   },
   {
    "duration": 45,
    "start_time": "2021-12-11T12:09:56.277Z"
   },
   {
    "duration": 10349,
    "start_time": "2021-12-11T12:11:21.269Z"
   },
   {
    "duration": 17,
    "start_time": "2021-12-11T12:11:54.302Z"
   },
   {
    "duration": -7738,
    "start_time": "2021-12-11T12:12:30.695Z"
   },
   {
    "duration": 8,
    "start_time": "2021-12-11T12:12:27.172Z"
   },
   {
    "duration": 12,
    "start_time": "2021-12-11T12:14:48.336Z"
   },
   {
    "duration": 7,
    "start_time": "2021-12-11T12:14:58.892Z"
   },
   {
    "duration": -7749,
    "start_time": "2021-12-11T12:16:59.792Z"
   },
   {
    "duration": 7,
    "start_time": "2021-12-11T12:17:02.890Z"
   },
   {
    "duration": 144,
    "start_time": "2021-12-11T12:18:44.507Z"
   },
   {
    "duration": 56,
    "start_time": "2021-12-11T12:18:57.192Z"
   },
   {
    "duration": 13,
    "start_time": "2021-12-11T12:20:03.997Z"
   },
   {
    "duration": 7,
    "start_time": "2021-12-11T12:20:14.470Z"
   },
   {
    "duration": 26,
    "start_time": "2021-12-11T12:20:56.564Z"
   },
   {
    "duration": 6,
    "start_time": "2021-12-11T12:23:17.429Z"
   },
   {
    "duration": -7800,
    "start_time": "2021-12-11T12:23:58.539Z"
   },
   {
    "duration": 7,
    "start_time": "2021-12-11T12:23:56.765Z"
   },
   {
    "duration": 8,
    "start_time": "2021-12-11T12:26:10.627Z"
   },
   {
    "duration": 7,
    "start_time": "2021-12-11T12:26:46.210Z"
   },
   {
    "duration": 8,
    "start_time": "2021-12-11T12:33:14.788Z"
   },
   {
    "duration": 9,
    "start_time": "2021-12-11T12:33:51.311Z"
   },
   {
    "duration": 137,
    "start_time": "2021-12-11T12:34:10.552Z"
   },
   {
    "duration": 19,
    "start_time": "2021-12-11T12:38:03.018Z"
   },
   {
    "duration": 1577,
    "start_time": "2021-12-11T12:38:27.332Z"
   },
   {
    "duration": 158,
    "start_time": "2021-12-11T12:38:28.912Z"
   },
   {
    "duration": 16,
    "start_time": "2021-12-11T12:38:29.073Z"
   },
   {
    "duration": 12,
    "start_time": "2021-12-11T12:38:29.091Z"
   },
   {
    "duration": 11,
    "start_time": "2021-12-11T12:38:29.106Z"
   },
   {
    "duration": 53,
    "start_time": "2021-12-11T12:38:29.120Z"
   },
   {
    "duration": 16,
    "start_time": "2021-12-11T12:38:29.175Z"
   },
   {
    "duration": 14,
    "start_time": "2021-12-11T12:38:29.194Z"
   },
   {
    "duration": 48,
    "start_time": "2021-12-11T12:38:29.211Z"
   },
   {
    "duration": 7,
    "start_time": "2021-12-11T12:38:29.262Z"
   },
   {
    "duration": 14,
    "start_time": "2021-12-11T12:38:29.272Z"
   },
   {
    "duration": 20,
    "start_time": "2021-12-11T12:38:29.289Z"
   },
   {
    "duration": 78,
    "start_time": "2021-12-11T12:38:29.311Z"
   },
   {
    "duration": 17,
    "start_time": "2021-12-11T12:38:29.392Z"
   },
   {
    "duration": 13,
    "start_time": "2021-12-11T12:38:29.413Z"
   },
   {
    "duration": 32,
    "start_time": "2021-12-11T12:38:29.429Z"
   },
   {
    "duration": 14,
    "start_time": "2021-12-11T12:38:29.463Z"
   },
   {
    "duration": 8,
    "start_time": "2021-12-11T12:38:29.479Z"
   },
   {
    "duration": 18,
    "start_time": "2021-12-11T12:38:29.489Z"
   },
   {
    "duration": 5,
    "start_time": "2021-12-11T12:38:29.510Z"
   },
   {
    "duration": 9,
    "start_time": "2021-12-11T12:38:29.560Z"
   },
   {
    "duration": 6,
    "start_time": "2021-12-11T12:38:29.571Z"
   },
   {
    "duration": 5,
    "start_time": "2021-12-11T12:38:29.581Z"
   },
   {
    "duration": 9,
    "start_time": "2021-12-11T12:38:29.588Z"
   },
   {
    "duration": 13,
    "start_time": "2021-12-11T12:38:29.600Z"
   },
   {
    "duration": 17,
    "start_time": "2021-12-11T12:38:29.659Z"
   },
   {
    "duration": 7,
    "start_time": "2021-12-11T12:40:05.793Z"
   },
   {
    "duration": 668,
    "start_time": "2021-12-11T12:40:58.797Z"
   },
   {
    "duration": 9,
    "start_time": "2021-12-11T12:41:05.622Z"
   },
   {
    "duration": 7,
    "start_time": "2021-12-11T12:41:34.646Z"
   },
   {
    "duration": 6,
    "start_time": "2021-12-11T12:42:35.579Z"
   },
   {
    "duration": 5,
    "start_time": "2021-12-11T12:43:04.389Z"
   },
   {
    "duration": 6,
    "start_time": "2021-12-11T12:43:44.896Z"
   },
   {
    "duration": 1602,
    "start_time": "2021-12-11T12:44:22.127Z"
   },
   {
    "duration": 145,
    "start_time": "2021-12-11T12:44:23.731Z"
   },
   {
    "duration": 14,
    "start_time": "2021-12-11T12:44:23.879Z"
   },
   {
    "duration": 12,
    "start_time": "2021-12-11T12:44:23.896Z"
   },
   {
    "duration": 11,
    "start_time": "2021-12-11T12:44:23.911Z"
   },
   {
    "duration": 19,
    "start_time": "2021-12-11T12:44:23.960Z"
   },
   {
    "duration": 14,
    "start_time": "2021-12-11T12:44:23.982Z"
   },
   {
    "duration": 13,
    "start_time": "2021-12-11T12:44:24.000Z"
   },
   {
    "duration": 50,
    "start_time": "2021-12-11T12:44:24.017Z"
   },
   {
    "duration": 10,
    "start_time": "2021-12-11T12:44:24.070Z"
   },
   {
    "duration": 16,
    "start_time": "2021-12-11T12:44:24.082Z"
   },
   {
    "duration": 18,
    "start_time": "2021-12-11T12:44:24.100Z"
   },
   {
    "duration": 75,
    "start_time": "2021-12-11T12:44:24.120Z"
   },
   {
    "duration": 17,
    "start_time": "2021-12-11T12:44:24.198Z"
   },
   {
    "duration": 14,
    "start_time": "2021-12-11T12:44:24.217Z"
   },
   {
    "duration": 8,
    "start_time": "2021-12-11T12:44:24.260Z"
   },
   {
    "duration": 17,
    "start_time": "2021-12-11T12:44:24.271Z"
   },
   {
    "duration": 6,
    "start_time": "2021-12-11T12:44:24.291Z"
   },
   {
    "duration": 14,
    "start_time": "2021-12-11T12:44:24.300Z"
   },
   {
    "duration": 44,
    "start_time": "2021-12-11T12:44:24.317Z"
   },
   {
    "duration": 9,
    "start_time": "2021-12-11T12:44:24.363Z"
   },
   {
    "duration": 9,
    "start_time": "2021-12-11T12:44:24.374Z"
   },
   {
    "duration": 13,
    "start_time": "2021-12-11T12:44:24.387Z"
   },
   {
    "duration": 16,
    "start_time": "2021-12-11T12:44:24.402Z"
   },
   {
    "duration": 40,
    "start_time": "2021-12-11T12:44:24.421Z"
   },
   {
    "duration": 12,
    "start_time": "2021-12-11T12:44:24.464Z"
   },
   {
    "duration": 5,
    "start_time": "2021-12-11T12:44:28.473Z"
   },
   {
    "duration": 1549,
    "start_time": "2021-12-11T12:46:09.266Z"
   },
   {
    "duration": 149,
    "start_time": "2021-12-11T12:46:10.819Z"
   },
   {
    "duration": 15,
    "start_time": "2021-12-11T12:46:10.971Z"
   },
   {
    "duration": 12,
    "start_time": "2021-12-11T12:46:10.989Z"
   },
   {
    "duration": 11,
    "start_time": "2021-12-11T12:46:11.004Z"
   },
   {
    "duration": 57,
    "start_time": "2021-12-11T12:46:11.017Z"
   },
   {
    "duration": 14,
    "start_time": "2021-12-11T12:46:11.076Z"
   },
   {
    "duration": 13,
    "start_time": "2021-12-11T12:46:11.092Z"
   },
   {
    "duration": 50,
    "start_time": "2021-12-11T12:46:11.112Z"
   },
   {
    "duration": 9,
    "start_time": "2021-12-11T12:46:11.166Z"
   },
   {
    "duration": 21,
    "start_time": "2021-12-11T12:46:11.178Z"
   },
   {
    "duration": 61,
    "start_time": "2021-12-11T12:46:11.202Z"
   },
   {
    "duration": 56,
    "start_time": "2021-12-11T12:46:11.266Z"
   },
   {
    "duration": 46,
    "start_time": "2021-12-11T12:46:11.325Z"
   },
   {
    "duration": 11,
    "start_time": "2021-12-11T12:46:11.375Z"
   },
   {
    "duration": 10,
    "start_time": "2021-12-11T12:46:11.389Z"
   },
   {
    "duration": 12,
    "start_time": "2021-12-11T12:46:11.401Z"
   },
   {
    "duration": 44,
    "start_time": "2021-12-11T12:46:11.416Z"
   },
   {
    "duration": 14,
    "start_time": "2021-12-11T12:46:11.462Z"
   },
   {
    "duration": 6,
    "start_time": "2021-12-11T12:46:11.478Z"
   },
   {
    "duration": 9,
    "start_time": "2021-12-11T12:46:11.486Z"
   },
   {
    "duration": 6,
    "start_time": "2021-12-11T12:46:11.497Z"
   },
   {
    "duration": 55,
    "start_time": "2021-12-11T12:46:11.505Z"
   },
   {
    "duration": 6,
    "start_time": "2021-12-11T12:46:11.563Z"
   },
   {
    "duration": 9,
    "start_time": "2021-12-11T12:46:11.571Z"
   },
   {
    "duration": 15,
    "start_time": "2021-12-11T12:46:11.582Z"
   },
   {
    "duration": 897,
    "start_time": "2021-12-11T12:47:43.632Z"
   },
   {
    "duration": 6,
    "start_time": "2021-12-11T12:47:54.430Z"
   },
   {
    "duration": 9,
    "start_time": "2021-12-11T12:48:59.473Z"
   },
   {
    "duration": 1711,
    "start_time": "2021-12-12T12:38:12.194Z"
   },
   {
    "duration": 167,
    "start_time": "2021-12-12T12:38:13.907Z"
   },
   {
    "duration": 17,
    "start_time": "2021-12-12T12:38:14.077Z"
   },
   {
    "duration": 12,
    "start_time": "2021-12-12T12:38:14.097Z"
   },
   {
    "duration": 14,
    "start_time": "2021-12-12T12:38:14.112Z"
   },
   {
    "duration": 18,
    "start_time": "2021-12-12T12:38:14.166Z"
   },
   {
    "duration": 13,
    "start_time": "2021-12-12T12:38:14.187Z"
   },
   {
    "duration": 14,
    "start_time": "2021-12-12T12:38:14.204Z"
   },
   {
    "duration": 52,
    "start_time": "2021-12-12T12:38:14.221Z"
   },
   {
    "duration": 7,
    "start_time": "2021-12-12T12:38:14.277Z"
   },
   {
    "duration": 16,
    "start_time": "2021-12-12T12:38:14.287Z"
   },
   {
    "duration": 61,
    "start_time": "2021-12-12T12:38:14.306Z"
   },
   {
    "duration": 41,
    "start_time": "2021-12-12T12:38:14.370Z"
   },
   {
    "duration": 20,
    "start_time": "2021-12-12T12:38:14.414Z"
   },
   {
    "duration": 33,
    "start_time": "2021-12-12T12:38:14.436Z"
   },
   {
    "duration": 13,
    "start_time": "2021-12-12T12:38:14.472Z"
   },
   {
    "duration": 13,
    "start_time": "2021-12-12T12:38:14.488Z"
   },
   {
    "duration": 7,
    "start_time": "2021-12-12T12:38:14.503Z"
   },
   {
    "duration": 16,
    "start_time": "2021-12-12T12:38:14.513Z"
   },
   {
    "duration": 39,
    "start_time": "2021-12-12T12:38:14.531Z"
   },
   {
    "duration": 8,
    "start_time": "2021-12-12T12:38:14.573Z"
   },
   {
    "duration": 5,
    "start_time": "2021-12-12T12:38:14.584Z"
   },
   {
    "duration": 5,
    "start_time": "2021-12-12T12:38:14.593Z"
   },
   {
    "duration": 14,
    "start_time": "2021-12-12T12:38:14.601Z"
   },
   {
    "duration": 50,
    "start_time": "2021-12-12T12:38:14.618Z"
   },
   {
    "duration": 13,
    "start_time": "2021-12-12T12:38:14.670Z"
   },
   {
    "duration": 9,
    "start_time": "2021-12-12T12:39:28.066Z"
   },
   {
    "duration": 9,
    "start_time": "2021-12-12T12:40:07.641Z"
   },
   {
    "duration": 7,
    "start_time": "2021-12-12T12:40:41.731Z"
   },
   {
    "duration": 9,
    "start_time": "2021-12-12T12:41:17.847Z"
   },
   {
    "duration": 6,
    "start_time": "2021-12-12T12:43:33.879Z"
   },
   {
    "duration": 6,
    "start_time": "2021-12-12T12:43:55.835Z"
   },
   {
    "duration": 5,
    "start_time": "2021-12-12T12:46:00.391Z"
   },
   {
    "duration": 1613,
    "start_time": "2021-12-12T12:46:16.551Z"
   },
   {
    "duration": 159,
    "start_time": "2021-12-12T12:46:18.168Z"
   },
   {
    "duration": 19,
    "start_time": "2021-12-12T12:46:18.331Z"
   },
   {
    "duration": 26,
    "start_time": "2021-12-12T12:46:18.353Z"
   },
   {
    "duration": 13,
    "start_time": "2021-12-12T12:46:18.382Z"
   },
   {
    "duration": 16,
    "start_time": "2021-12-12T12:46:18.397Z"
   },
   {
    "duration": 61,
    "start_time": "2021-12-12T12:46:18.415Z"
   },
   {
    "duration": 15,
    "start_time": "2021-12-12T12:46:18.480Z"
   },
   {
    "duration": 6,
    "start_time": "2021-12-12T12:46:18.499Z"
   },
   {
    "duration": 8,
    "start_time": "2021-12-12T12:46:18.508Z"
   },
   {
    "duration": 49,
    "start_time": "2021-12-12T12:46:18.519Z"
   },
   {
    "duration": 10,
    "start_time": "2021-12-12T12:46:18.570Z"
   },
   {
    "duration": 7,
    "start_time": "2021-12-12T12:46:18.583Z"
   },
   {
    "duration": 14,
    "start_time": "2021-12-12T12:46:18.593Z"
   },
   {
    "duration": 16,
    "start_time": "2021-12-12T12:46:18.610Z"
   },
   {
    "duration": 49,
    "start_time": "2021-12-12T12:46:18.628Z"
   },
   {
    "duration": 20,
    "start_time": "2021-12-12T12:46:18.679Z"
   },
   {
    "duration": 39,
    "start_time": "2021-12-12T12:46:18.702Z"
   },
   {
    "duration": 17,
    "start_time": "2021-12-12T12:46:18.768Z"
   },
   {
    "duration": 11,
    "start_time": "2021-12-12T12:46:18.789Z"
   },
   {
    "duration": 12,
    "start_time": "2021-12-12T12:46:18.803Z"
   },
   {
    "duration": 54,
    "start_time": "2021-12-12T12:46:18.819Z"
   },
   {
    "duration": 8,
    "start_time": "2021-12-12T12:46:18.879Z"
   },
   {
    "duration": 18,
    "start_time": "2021-12-12T12:46:18.890Z"
   },
   {
    "duration": 11,
    "start_time": "2021-12-12T12:46:18.911Z"
   },
   {
    "duration": 37,
    "start_time": "2021-12-12T12:47:07.859Z"
   },
   {
    "duration": 15,
    "start_time": "2021-12-12T12:47:49.512Z"
   },
   {
    "duration": 156,
    "start_time": "2021-12-12T12:51:34.247Z"
   },
   {
    "duration": 68,
    "start_time": "2021-12-12T12:52:00.205Z"
   },
   {
    "duration": 755,
    "start_time": "2021-12-12T12:53:25.363Z"
   },
   {
    "duration": 40,
    "start_time": "2021-12-12T12:54:01.833Z"
   },
   {
    "duration": 1580,
    "start_time": "2021-12-12T12:54:30.480Z"
   },
   {
    "duration": 175,
    "start_time": "2021-12-12T12:54:32.063Z"
   },
   {
    "duration": 40,
    "start_time": "2021-12-12T12:54:32.241Z"
   },
   {
    "duration": 20,
    "start_time": "2021-12-12T12:54:32.284Z"
   },
   {
    "duration": 27,
    "start_time": "2021-12-12T12:54:32.307Z"
   },
   {
    "duration": 33,
    "start_time": "2021-12-12T12:54:32.336Z"
   },
   {
    "duration": 14,
    "start_time": "2021-12-12T12:54:32.371Z"
   },
   {
    "duration": 30,
    "start_time": "2021-12-12T12:54:32.389Z"
   },
   {
    "duration": 14,
    "start_time": "2021-12-12T12:54:32.468Z"
   },
   {
    "duration": 21,
    "start_time": "2021-12-12T12:54:32.485Z"
   },
   {
    "duration": 40,
    "start_time": "2021-12-12T12:54:32.509Z"
   },
   {
    "duration": 26,
    "start_time": "2021-12-12T12:54:32.551Z"
   },
   {
    "duration": 10,
    "start_time": "2021-12-12T12:54:32.581Z"
   },
   {
    "duration": 31,
    "start_time": "2021-12-12T12:54:32.594Z"
   },
   {
    "duration": 22,
    "start_time": "2021-12-12T12:54:32.628Z"
   },
   {
    "duration": 33,
    "start_time": "2021-12-12T12:54:32.653Z"
   },
   {
    "duration": 38,
    "start_time": "2021-12-12T12:54:32.689Z"
   },
   {
    "duration": 59,
    "start_time": "2021-12-12T12:54:32.729Z"
   },
   {
    "duration": 32,
    "start_time": "2021-12-12T12:54:32.791Z"
   },
   {
    "duration": 29,
    "start_time": "2021-12-12T12:54:32.826Z"
   },
   {
    "duration": 30,
    "start_time": "2021-12-12T12:54:32.858Z"
   },
   {
    "duration": 24,
    "start_time": "2021-12-12T12:54:32.891Z"
   },
   {
    "duration": 26,
    "start_time": "2021-12-12T12:54:32.920Z"
   },
   {
    "duration": 44,
    "start_time": "2021-12-12T12:54:32.949Z"
   },
   {
    "duration": 26,
    "start_time": "2021-12-12T12:54:32.995Z"
   },
   {
    "duration": 58,
    "start_time": "2021-12-12T12:54:33.023Z"
   },
   {
    "duration": 13,
    "start_time": "2021-12-12T12:54:33.084Z"
   },
   {
    "duration": 82,
    "start_time": "2021-12-12T12:54:33.100Z"
   },
   {
    "duration": 733,
    "start_time": "2021-12-12T12:54:33.185Z"
   },
   {
    "duration": 57,
    "start_time": "2021-12-12T12:54:33.920Z"
   },
   {
    "duration": 1954,
    "start_time": "2021-12-12T12:56:45.379Z"
   },
   {
    "duration": 9,
    "start_time": "2021-12-12T13:09:31.366Z"
   },
   {
    "duration": 13,
    "start_time": "2021-12-12T13:10:30.870Z"
   },
   {
    "duration": 796,
    "start_time": "2021-12-12T13:11:31.686Z"
   },
   {
    "duration": 54,
    "start_time": "2021-12-12T13:12:41.108Z"
   },
   {
    "duration": 1162,
    "start_time": "2021-12-12T13:13:33.718Z"
   },
   {
    "duration": 17,
    "start_time": "2021-12-12T13:13:59.850Z"
   },
   {
    "duration": 429,
    "start_time": "2021-12-12T13:15:27.020Z"
   },
   {
    "duration": 100,
    "start_time": "2021-12-12T13:16:37.978Z"
   },
   {
    "duration": 1393,
    "start_time": "2021-12-12T13:16:59.612Z"
   },
   {
    "duration": 28,
    "start_time": "2021-12-12T13:20:48.151Z"
   },
   {
    "duration": 411,
    "start_time": "2021-12-12T13:21:35.366Z"
   },
   {
    "duration": 37,
    "start_time": "2021-12-12T13:21:49.991Z"
   },
   {
    "duration": 40,
    "start_time": "2021-12-12T13:21:54.568Z"
   },
   {
    "duration": 110,
    "start_time": "2021-12-12T13:22:39.233Z"
   },
   {
    "duration": 22,
    "start_time": "2021-12-12T13:23:31.572Z"
   },
   {
    "duration": 1514,
    "start_time": "2021-12-12T13:27:12.135Z"
   },
   {
    "duration": 157,
    "start_time": "2021-12-12T13:27:13.652Z"
   },
   {
    "duration": 16,
    "start_time": "2021-12-12T13:27:13.812Z"
   },
   {
    "duration": 22,
    "start_time": "2021-12-12T13:27:13.831Z"
   },
   {
    "duration": 12,
    "start_time": "2021-12-12T13:27:13.869Z"
   },
   {
    "duration": 17,
    "start_time": "2021-12-12T13:27:13.884Z"
   },
   {
    "duration": 13,
    "start_time": "2021-12-12T13:27:13.903Z"
   },
   {
    "duration": 59,
    "start_time": "2021-12-12T13:27:13.919Z"
   },
   {
    "duration": 21,
    "start_time": "2021-12-12T13:27:13.983Z"
   },
   {
    "duration": 33,
    "start_time": "2021-12-12T13:27:14.008Z"
   },
   {
    "duration": 25,
    "start_time": "2021-12-12T13:27:14.044Z"
   },
   {
    "duration": 17,
    "start_time": "2021-12-12T13:27:14.072Z"
   },
   {
    "duration": 15,
    "start_time": "2021-12-12T13:27:14.092Z"
   },
   {
    "duration": 20,
    "start_time": "2021-12-12T13:27:14.110Z"
   },
   {
    "duration": 31,
    "start_time": "2021-12-12T13:27:14.132Z"
   },
   {
    "duration": 26,
    "start_time": "2021-12-12T13:27:14.165Z"
   },
   {
    "duration": 25,
    "start_time": "2021-12-12T13:27:14.194Z"
   },
   {
    "duration": 51,
    "start_time": "2021-12-12T13:27:14.221Z"
   },
   {
    "duration": 25,
    "start_time": "2021-12-12T13:27:14.275Z"
   },
   {
    "duration": 32,
    "start_time": "2021-12-12T13:27:14.303Z"
   },
   {
    "duration": 14,
    "start_time": "2021-12-12T13:27:14.337Z"
   },
   {
    "duration": 17,
    "start_time": "2021-12-12T13:27:14.353Z"
   },
   {
    "duration": 9,
    "start_time": "2021-12-12T13:27:14.372Z"
   },
   {
    "duration": 19,
    "start_time": "2021-12-12T13:27:14.383Z"
   },
   {
    "duration": 11,
    "start_time": "2021-12-12T13:27:14.404Z"
   },
   {
    "duration": 64,
    "start_time": "2021-12-12T13:27:14.418Z"
   },
   {
    "duration": 15,
    "start_time": "2021-12-12T13:27:14.487Z"
   },
   {
    "duration": 88,
    "start_time": "2021-12-12T13:27:14.505Z"
   },
   {
    "duration": 758,
    "start_time": "2021-12-12T13:27:14.595Z"
   },
   {
    "duration": 46,
    "start_time": "2021-12-12T13:27:15.355Z"
   },
   {
    "duration": 1986,
    "start_time": "2021-12-12T13:27:15.403Z"
   },
   {
    "duration": 8,
    "start_time": "2021-12-12T13:27:17.391Z"
   },
   {
    "duration": 37,
    "start_time": "2021-12-12T13:27:17.402Z"
   },
   {
    "duration": 809,
    "start_time": "2021-12-12T13:27:17.442Z"
   },
   {
    "duration": 61,
    "start_time": "2021-12-12T13:27:18.254Z"
   },
   {
    "duration": 1167,
    "start_time": "2021-12-12T13:27:18.318Z"
   },
   {
    "duration": 16,
    "start_time": "2021-12-12T13:27:19.487Z"
   },
   {
    "duration": 404,
    "start_time": "2021-12-12T13:27:19.506Z"
   },
   {
    "duration": 1379,
    "start_time": "2021-12-12T13:27:19.913Z"
   },
   {
    "duration": 26,
    "start_time": "2021-12-12T13:27:21.295Z"
   },
   {
    "duration": 64,
    "start_time": "2021-12-12T13:27:21.323Z"
   },
   {
    "duration": 21,
    "start_time": "2021-12-12T13:27:21.390Z"
   },
   {
    "duration": 440,
    "start_time": "2021-12-12T13:28:39.911Z"
   },
   {
    "duration": 8,
    "start_time": "2021-12-12T13:30:09.893Z"
   },
   {
    "duration": 7,
    "start_time": "2021-12-12T13:30:50.397Z"
   },
   {
    "duration": 447,
    "start_time": "2021-12-12T13:30:53.158Z"
   },
   {
    "duration": 321,
    "start_time": "2021-12-12T13:34:18.438Z"
   },
   {
    "duration": 516,
    "start_time": "2021-12-12T13:35:24.369Z"
   },
   {
    "duration": 341,
    "start_time": "2021-12-12T13:36:04.630Z"
   },
   {
    "duration": 474,
    "start_time": "2021-12-12T13:36:32.545Z"
   },
   {
    "duration": 5,
    "start_time": "2021-12-12T13:36:52.859Z"
   },
   {
    "duration": 289,
    "start_time": "2021-12-12T13:36:56.723Z"
   },
   {
    "duration": 324,
    "start_time": "2021-12-12T13:37:04.463Z"
   },
   {
    "duration": 297,
    "start_time": "2021-12-12T13:37:14.616Z"
   },
   {
    "duration": 299,
    "start_time": "2021-12-12T13:37:33.083Z"
   },
   {
    "duration": 75,
    "start_time": "2021-12-12T13:39:41.604Z"
   },
   {
    "duration": 1600,
    "start_time": "2021-12-12T13:40:01.669Z"
   },
   {
    "duration": 154,
    "start_time": "2021-12-12T13:40:03.272Z"
   },
   {
    "duration": 16,
    "start_time": "2021-12-12T13:40:03.429Z"
   },
   {
    "duration": 81,
    "start_time": "2021-12-12T13:40:03.468Z"
   },
   {
    "duration": 26,
    "start_time": "2021-12-12T13:40:03.552Z"
   },
   {
    "duration": 12,
    "start_time": "2021-12-12T13:40:03.581Z"
   },
   {
    "duration": 19,
    "start_time": "2021-12-12T13:40:03.596Z"
   },
   {
    "duration": 61,
    "start_time": "2021-12-12T13:40:03.619Z"
   },
   {
    "duration": 15,
    "start_time": "2021-12-12T13:40:03.683Z"
   },
   {
    "duration": 6,
    "start_time": "2021-12-12T13:40:03.701Z"
   },
   {
    "duration": 10,
    "start_time": "2021-12-12T13:40:03.710Z"
   },
   {
    "duration": 61,
    "start_time": "2021-12-12T13:40:03.723Z"
   },
   {
    "duration": 12,
    "start_time": "2021-12-12T13:40:03.787Z"
   },
   {
    "duration": 8,
    "start_time": "2021-12-12T13:40:03.802Z"
   },
   {
    "duration": 17,
    "start_time": "2021-12-12T13:40:03.812Z"
   },
   {
    "duration": 41,
    "start_time": "2021-12-12T13:40:03.831Z"
   },
   {
    "duration": 23,
    "start_time": "2021-12-12T13:40:03.875Z"
   },
   {
    "duration": 20,
    "start_time": "2021-12-12T13:40:03.901Z"
   },
   {
    "duration": 67,
    "start_time": "2021-12-12T13:40:03.923Z"
   },
   {
    "duration": 17,
    "start_time": "2021-12-12T13:40:03.992Z"
   },
   {
    "duration": 12,
    "start_time": "2021-12-12T13:40:04.012Z"
   },
   {
    "duration": 9,
    "start_time": "2021-12-12T13:40:04.026Z"
   },
   {
    "duration": 15,
    "start_time": "2021-12-12T13:40:04.071Z"
   },
   {
    "duration": 7,
    "start_time": "2021-12-12T13:40:04.090Z"
   },
   {
    "duration": 23,
    "start_time": "2021-12-12T13:40:04.100Z"
   },
   {
    "duration": 54,
    "start_time": "2021-12-12T13:40:04.127Z"
   },
   {
    "duration": 44,
    "start_time": "2021-12-12T13:40:04.185Z"
   },
   {
    "duration": 37,
    "start_time": "2021-12-12T13:40:04.231Z"
   },
   {
    "duration": 69,
    "start_time": "2021-12-12T13:40:04.271Z"
   },
   {
    "duration": 893,
    "start_time": "2021-12-12T13:40:04.342Z"
   },
   {
    "duration": 55,
    "start_time": "2021-12-12T13:40:05.238Z"
   },
   {
    "duration": 2261,
    "start_time": "2021-12-12T13:40:05.296Z"
   },
   {
    "duration": 12,
    "start_time": "2021-12-12T13:40:07.560Z"
   },
   {
    "duration": 16,
    "start_time": "2021-12-12T13:40:07.575Z"
   },
   {
    "duration": 913,
    "start_time": "2021-12-12T13:40:07.594Z"
   },
   {
    "duration": 74,
    "start_time": "2021-12-12T13:40:08.509Z"
   },
   {
    "duration": 1314,
    "start_time": "2021-12-12T13:40:08.586Z"
   },
   {
    "duration": 31,
    "start_time": "2021-12-12T13:40:09.903Z"
   },
   {
    "duration": 534,
    "start_time": "2021-12-12T13:40:09.937Z"
   },
   {
    "duration": 1569,
    "start_time": "2021-12-12T13:40:10.475Z"
   },
   {
    "duration": 54,
    "start_time": "2021-12-12T13:40:12.046Z"
   },
   {
    "duration": 81,
    "start_time": "2021-12-12T13:40:12.103Z"
   },
   {
    "duration": 24,
    "start_time": "2021-12-12T13:40:12.188Z"
   },
   {
    "duration": 131,
    "start_time": "2021-12-12T13:40:12.215Z"
   },
   {
    "duration": 464,
    "start_time": "2021-12-12T13:40:12.349Z"
   },
   {
    "duration": 295,
    "start_time": "2021-12-12T13:40:42.807Z"
   },
   {
    "duration": 331,
    "start_time": "2021-12-12T13:40:44.571Z"
   },
   {
    "duration": 44,
    "start_time": "2021-12-12T13:45:14.108Z"
   },
   {
    "duration": 16,
    "start_time": "2021-12-12T13:47:15.348Z"
   },
   {
    "duration": 348,
    "start_time": "2021-12-12T13:47:20.128Z"
   },
   {
    "duration": 13,
    "start_time": "2021-12-12T13:47:48.794Z"
   },
   {
    "duration": 7,
    "start_time": "2021-12-12T13:47:52.689Z"
   },
   {
    "duration": 299,
    "start_time": "2021-12-12T13:47:58.201Z"
   },
   {
    "duration": 29,
    "start_time": "2021-12-12T13:48:17.610Z"
   },
   {
    "duration": 14,
    "start_time": "2021-12-12T13:48:19.368Z"
   },
   {
    "duration": 10,
    "start_time": "2021-12-12T13:48:21.032Z"
   },
   {
    "duration": 317,
    "start_time": "2021-12-12T13:48:23.286Z"
   },
   {
    "duration": 358,
    "start_time": "2021-12-12T13:50:17.090Z"
   },
   {
    "duration": 29,
    "start_time": "2021-12-12T13:50:53.923Z"
   },
   {
    "duration": 889,
    "start_time": "2021-12-13T07:10:24.931Z"
   },
   {
    "duration": 18,
    "start_time": "2021-12-13T07:14:51.593Z"
   },
   {
    "duration": 12,
    "start_time": "2021-12-13T07:18:44.591Z"
   },
   {
    "duration": 9,
    "start_time": "2021-12-13T07:19:03.030Z"
   },
   {
    "duration": 700,
    "start_time": "2021-12-13T07:19:51.512Z"
   },
   {
    "duration": 8,
    "start_time": "2021-12-13T07:19:52.214Z"
   },
   {
    "duration": 7,
    "start_time": "2021-12-13T07:19:52.224Z"
   },
   {
    "duration": 13,
    "start_time": "2021-12-13T07:19:52.233Z"
   },
   {
    "duration": 17,
    "start_time": "2021-12-13T07:19:52.247Z"
   },
   {
    "duration": 24,
    "start_time": "2021-12-13T07:19:52.265Z"
   },
   {
    "duration": 5,
    "start_time": "2021-12-13T07:19:52.291Z"
   },
   {
    "duration": 6,
    "start_time": "2021-12-13T07:19:52.297Z"
   },
   {
    "duration": 5,
    "start_time": "2021-12-13T07:19:52.306Z"
   },
   {
    "duration": 5,
    "start_time": "2021-12-13T07:19:52.313Z"
   },
   {
    "duration": 4,
    "start_time": "2021-12-13T07:19:52.319Z"
   },
   {
    "duration": 7,
    "start_time": "2021-12-13T07:19:52.324Z"
   },
   {
    "duration": 17,
    "start_time": "2021-12-13T07:19:52.332Z"
   },
   {
    "duration": 38,
    "start_time": "2021-12-13T07:19:52.350Z"
   },
   {
    "duration": 9,
    "start_time": "2021-12-13T07:19:52.389Z"
   },
   {
    "duration": 4,
    "start_time": "2021-12-13T07:19:52.399Z"
   },
   {
    "duration": 6,
    "start_time": "2021-12-13T07:19:52.405Z"
   },
   {
    "duration": 12,
    "start_time": "2021-12-13T07:19:52.413Z"
   },
   {
    "duration": 20,
    "start_time": "2021-12-13T07:19:52.426Z"
   },
   {
    "duration": 9,
    "start_time": "2021-12-13T07:19:52.447Z"
   },
   {
    "duration": 32,
    "start_time": "2021-12-13T07:19:52.457Z"
   },
   {
    "duration": 8,
    "start_time": "2021-12-13T07:19:52.491Z"
   },
   {
    "duration": 10,
    "start_time": "2021-12-13T07:19:52.501Z"
   },
   {
    "duration": 7,
    "start_time": "2021-12-13T07:19:52.513Z"
   },
   {
    "duration": 12,
    "start_time": "2021-12-13T07:19:52.521Z"
   },
   {
    "duration": 6,
    "start_time": "2021-12-13T07:19:52.535Z"
   },
   {
    "duration": 20,
    "start_time": "2021-12-13T07:19:52.544Z"
   },
   {
    "duration": 24,
    "start_time": "2021-12-13T07:19:52.566Z"
   },
   {
    "duration": 35,
    "start_time": "2021-12-13T07:19:52.592Z"
   },
   {
    "duration": 315,
    "start_time": "2021-12-13T07:19:52.629Z"
   },
   {
    "duration": 21,
    "start_time": "2021-12-13T07:19:52.945Z"
   },
   {
    "duration": 1094,
    "start_time": "2021-12-13T07:19:52.968Z"
   },
   {
    "duration": 5,
    "start_time": "2021-12-13T07:19:54.064Z"
   },
   {
    "duration": 18,
    "start_time": "2021-12-13T07:19:54.070Z"
   },
   {
    "duration": 408,
    "start_time": "2021-12-13T07:19:54.090Z"
   },
   {
    "duration": 34,
    "start_time": "2021-12-13T07:19:54.499Z"
   },
   {
    "duration": 623,
    "start_time": "2021-12-13T07:19:54.534Z"
   },
   {
    "duration": 9,
    "start_time": "2021-12-13T07:19:55.159Z"
   },
   {
    "duration": 221,
    "start_time": "2021-12-13T07:19:55.169Z"
   },
   {
    "duration": 737,
    "start_time": "2021-12-13T07:19:55.392Z"
   },
   {
    "duration": 14,
    "start_time": "2021-12-13T07:19:56.130Z"
   },
   {
    "duration": 22,
    "start_time": "2021-12-13T07:19:56.145Z"
   },
   {
    "duration": 26,
    "start_time": "2021-12-13T07:19:56.169Z"
   },
   {
    "duration": 10,
    "start_time": "2021-12-13T07:19:56.196Z"
   },
   {
    "duration": 8,
    "start_time": "2021-12-13T07:19:56.207Z"
   },
   {
    "duration": 4,
    "start_time": "2021-12-13T07:19:56.217Z"
   },
   {
    "duration": 318,
    "start_time": "2021-12-13T07:19:56.222Z"
   },
   {
    "duration": 39,
    "start_time": "2021-12-13T07:26:28.917Z"
   },
   {
    "duration": 12,
    "start_time": "2021-12-13T07:27:05.196Z"
   },
   {
    "duration": 755,
    "start_time": "2021-12-13T07:27:58.754Z"
   },
   {
    "duration": 9,
    "start_time": "2021-12-13T07:27:59.512Z"
   },
   {
    "duration": 8,
    "start_time": "2021-12-13T07:27:59.524Z"
   },
   {
    "duration": 11,
    "start_time": "2021-12-13T07:27:59.534Z"
   },
   {
    "duration": 11,
    "start_time": "2021-12-13T07:27:59.547Z"
   },
   {
    "duration": 35,
    "start_time": "2021-12-13T07:27:59.560Z"
   },
   {
    "duration": 4,
    "start_time": "2021-12-13T07:27:59.597Z"
   },
   {
    "duration": 7,
    "start_time": "2021-12-13T07:27:59.603Z"
   },
   {
    "duration": 7,
    "start_time": "2021-12-13T07:27:59.613Z"
   },
   {
    "duration": 6,
    "start_time": "2021-12-13T07:27:59.623Z"
   },
   {
    "duration": 4,
    "start_time": "2021-12-13T07:27:59.631Z"
   },
   {
    "duration": 5,
    "start_time": "2021-12-13T07:27:59.636Z"
   },
   {
    "duration": 58,
    "start_time": "2021-12-13T07:27:59.642Z"
   },
   {
    "duration": 8,
    "start_time": "2021-12-13T07:27:59.702Z"
   },
   {
    "duration": 8,
    "start_time": "2021-12-13T07:27:59.711Z"
   },
   {
    "duration": 4,
    "start_time": "2021-12-13T07:27:59.720Z"
   },
   {
    "duration": 7,
    "start_time": "2021-12-13T07:27:59.725Z"
   },
   {
    "duration": 12,
    "start_time": "2021-12-13T07:27:59.734Z"
   },
   {
    "duration": 43,
    "start_time": "2021-12-13T07:27:59.747Z"
   },
   {
    "duration": 12,
    "start_time": "2021-12-13T07:27:59.791Z"
   },
   {
    "duration": 7,
    "start_time": "2021-12-13T07:27:59.804Z"
   },
   {
    "duration": 5,
    "start_time": "2021-12-13T07:27:59.813Z"
   },
   {
    "duration": 9,
    "start_time": "2021-12-13T07:27:59.820Z"
   },
   {
    "duration": 5,
    "start_time": "2021-12-13T07:27:59.830Z"
   },
   {
    "duration": 10,
    "start_time": "2021-12-13T07:27:59.836Z"
   },
   {
    "duration": 6,
    "start_time": "2021-12-13T07:27:59.848Z"
   },
   {
    "duration": 42,
    "start_time": "2021-12-13T07:27:59.857Z"
   },
   {
    "duration": 36,
    "start_time": "2021-12-13T07:27:59.901Z"
   },
   {
    "duration": 8,
    "start_time": "2021-12-13T07:27:59.939Z"
   },
   {
    "duration": 51,
    "start_time": "2021-12-13T07:27:59.948Z"
   },
   {
    "duration": 309,
    "start_time": "2021-12-13T07:28:00.000Z"
   },
   {
    "duration": 27,
    "start_time": "2021-12-13T07:28:00.310Z"
   },
   {
    "duration": 1041,
    "start_time": "2021-12-13T07:28:00.338Z"
   },
   {
    "duration": 9,
    "start_time": "2021-12-13T07:28:01.381Z"
   },
   {
    "duration": 23,
    "start_time": "2021-12-13T07:28:01.392Z"
   },
   {
    "duration": 433,
    "start_time": "2021-12-13T07:28:01.417Z"
   },
   {
    "duration": 40,
    "start_time": "2021-12-13T07:28:01.852Z"
   },
   {
    "duration": 622,
    "start_time": "2021-12-13T07:28:01.893Z"
   },
   {
    "duration": 12,
    "start_time": "2021-12-13T07:28:02.517Z"
   },
   {
    "duration": 221,
    "start_time": "2021-12-13T07:28:02.530Z"
   },
   {
    "duration": 731,
    "start_time": "2021-12-13T07:28:02.752Z"
   },
   {
    "duration": 19,
    "start_time": "2021-12-13T07:28:03.484Z"
   },
   {
    "duration": 24,
    "start_time": "2021-12-13T07:28:03.504Z"
   },
   {
    "duration": 13,
    "start_time": "2021-12-13T07:28:03.529Z"
   },
   {
    "duration": 12,
    "start_time": "2021-12-13T07:28:03.543Z"
   },
   {
    "duration": 32,
    "start_time": "2021-12-13T07:28:03.556Z"
   },
   {
    "duration": 5,
    "start_time": "2021-12-13T07:28:03.589Z"
   },
   {
    "duration": 313,
    "start_time": "2021-12-13T07:28:03.595Z"
   },
   {
    "duration": 5,
    "start_time": "2021-12-13T07:30:44.254Z"
   },
   {
    "duration": 359,
    "start_time": "2021-12-13T07:30:47.096Z"
   },
   {
    "duration": 1165,
    "start_time": "2021-12-15T13:40:37.031Z"
   },
   {
    "duration": 143,
    "start_time": "2021-12-15T13:41:04.149Z"
   },
   {
    "duration": 178,
    "start_time": "2021-12-15T13:41:19.980Z"
   },
   {
    "duration": 610,
    "start_time": "2021-12-15T13:43:05.812Z"
   },
   {
    "duration": 420,
    "start_time": "2021-12-15T13:43:28.345Z"
   },
   {
    "duration": 903,
    "start_time": "2021-12-15T13:48:01.170Z"
   },
   {
    "duration": 888,
    "start_time": "2021-12-15T13:48:33.103Z"
   },
   {
    "duration": 576,
    "start_time": "2021-12-15T13:48:33.994Z"
   },
   {
    "duration": 939,
    "start_time": "2021-12-15T13:48:34.574Z"
   },
   {
    "duration": 918,
    "start_time": "2021-12-15T13:50:16.676Z"
   },
   {
    "duration": 562,
    "start_time": "2021-12-15T13:50:17.598Z"
   },
   {
    "duration": 873,
    "start_time": "2021-12-15T13:50:18.164Z"
   },
   {
    "duration": 871,
    "start_time": "2021-12-15T13:50:43.026Z"
   },
   {
    "duration": 2118,
    "start_time": "2021-12-15T13:53:11.114Z"
   },
   {
    "duration": 4,
    "start_time": "2021-12-15T13:55:50.024Z"
   },
   {
    "duration": 1321,
    "start_time": "2021-12-15T13:56:36.358Z"
   },
   {
    "duration": 54,
    "start_time": "2021-12-15T13:58:36.367Z"
   },
   {
    "duration": 1234,
    "start_time": "2021-12-15T14:01:12.125Z"
   },
   {
    "duration": 523,
    "start_time": "2021-12-15T14:03:38.766Z"
   },
   {
    "duration": 324,
    "start_time": "2021-12-15T14:05:18.144Z"
   },
   {
    "duration": 272,
    "start_time": "2021-12-15T14:06:11.890Z"
   },
   {
    "duration": 743,
    "start_time": "2021-12-15T14:07:13.418Z"
   },
   {
    "duration": 290,
    "start_time": "2021-12-15T14:08:08.435Z"
   },
   {
    "duration": 334,
    "start_time": "2021-12-15T14:10:12.928Z"
   },
   {
    "duration": 336,
    "start_time": "2021-12-15T14:11:18.920Z"
   },
   {
    "duration": 38,
    "start_time": "2021-12-15T14:13:18.711Z"
   },
   {
    "duration": 634,
    "start_time": "2021-12-15T14:18:31.086Z"
   },
   {
    "duration": 11,
    "start_time": "2021-12-15T14:19:16.396Z"
   },
   {
    "duration": 11,
    "start_time": "2021-12-15T14:19:23.986Z"
   },
   {
    "duration": 11,
    "start_time": "2021-12-15T14:19:44.864Z"
   },
   {
    "duration": 13,
    "start_time": "2021-12-15T14:19:46.207Z"
   },
   {
    "duration": 138,
    "start_time": "2021-12-15T14:19:53.931Z"
   },
   {
    "duration": 316,
    "start_time": "2021-12-15T14:21:35.550Z"
   },
   {
    "duration": 12,
    "start_time": "2021-12-15T14:22:44.091Z"
   },
   {
    "duration": 324,
    "start_time": "2021-12-15T14:23:12.901Z"
   },
   {
    "duration": 280,
    "start_time": "2021-12-15T14:24:20.273Z"
   },
   {
    "duration": 456,
    "start_time": "2021-12-15T14:25:20.491Z"
   },
   {
    "duration": 325,
    "start_time": "2021-12-15T14:26:05.948Z"
   },
   {
    "duration": 321,
    "start_time": "2021-12-15T14:27:32.793Z"
   },
   {
    "duration": 339,
    "start_time": "2021-12-15T14:28:15.923Z"
   },
   {
    "duration": 925,
    "start_time": "2021-12-15T14:30:51.255Z"
   },
   {
    "duration": 529,
    "start_time": "2021-12-15T14:30:52.182Z"
   },
   {
    "duration": 875,
    "start_time": "2021-12-15T14:30:52.715Z"
   },
   {
    "duration": 2124,
    "start_time": "2021-12-15T14:30:53.592Z"
   },
   {
    "duration": 1273,
    "start_time": "2021-12-15T14:30:55.719Z"
   },
   {
    "duration": 1335,
    "start_time": "2021-12-15T14:30:56.994Z"
   },
   {
    "duration": 431,
    "start_time": "2021-12-15T14:30:58.331Z"
   },
   {
    "duration": 384,
    "start_time": "2021-12-15T14:30:58.767Z"
   },
   {
    "duration": 303,
    "start_time": "2021-12-15T14:30:59.159Z"
   },
   {
    "duration": 768,
    "start_time": "2021-12-15T14:30:59.464Z"
   },
   {
    "duration": 324,
    "start_time": "2021-12-15T14:31:00.235Z"
   },
   {
    "duration": 329,
    "start_time": "2021-12-15T14:31:00.562Z"
   },
   {
    "duration": 351,
    "start_time": "2021-12-15T14:31:00.894Z"
   },
   {
    "duration": 41,
    "start_time": "2021-12-15T14:31:01.248Z"
   },
   {
    "duration": 12,
    "start_time": "2021-12-15T14:31:01.292Z"
   },
   {
    "duration": 34,
    "start_time": "2021-12-15T14:31:01.308Z"
   },
   {
    "duration": 397,
    "start_time": "2021-12-15T14:31:01.345Z"
   },
   {
    "duration": 20,
    "start_time": "2021-12-15T14:31:01.744Z"
   },
   {
    "duration": 348,
    "start_time": "2021-12-15T14:31:01.767Z"
   },
   {
    "duration": 369,
    "start_time": "2021-12-15T14:31:02.118Z"
   },
   {
    "duration": 439,
    "start_time": "2021-12-15T14:31:02.490Z"
   },
   {
    "duration": 333,
    "start_time": "2021-12-15T14:31:02.931Z"
   },
   {
    "duration": 333,
    "start_time": "2021-12-15T14:31:03.268Z"
   },
   {
    "duration": 355,
    "start_time": "2021-12-15T14:31:03.604Z"
   },
   {
    "duration": 740,
    "start_time": "2021-12-15T18:22:30.327Z"
   },
   {
    "duration": 335,
    "start_time": "2021-12-15T18:22:31.069Z"
   },
   {
    "duration": 493,
    "start_time": "2021-12-15T18:22:31.406Z"
   },
   {
    "duration": 1102,
    "start_time": "2021-12-15T18:22:31.901Z"
   },
   {
    "duration": 988,
    "start_time": "2021-12-15T18:22:33.005Z"
   },
   {
    "duration": 937,
    "start_time": "2021-12-15T18:22:33.995Z"
   },
   {
    "duration": 202,
    "start_time": "2021-12-15T18:22:34.933Z"
   },
   {
    "duration": 196,
    "start_time": "2021-12-15T18:22:35.137Z"
   },
   {
    "duration": 172,
    "start_time": "2021-12-15T18:22:35.335Z"
   },
   {
    "duration": 499,
    "start_time": "2021-12-15T18:22:35.509Z"
   },
   {
    "duration": 186,
    "start_time": "2021-12-15T18:22:36.010Z"
   },
   {
    "duration": 192,
    "start_time": "2021-12-15T18:22:36.198Z"
   },
   {
    "duration": 195,
    "start_time": "2021-12-15T18:22:36.393Z"
   },
   {
    "duration": 22,
    "start_time": "2021-12-15T18:22:36.590Z"
   },
   {
    "duration": 7,
    "start_time": "2021-12-15T18:22:36.613Z"
   },
   {
    "duration": 8,
    "start_time": "2021-12-15T18:22:36.621Z"
   },
   {
    "duration": 203,
    "start_time": "2021-12-15T18:22:36.631Z"
   },
   {
    "duration": 7,
    "start_time": "2021-12-15T18:22:36.836Z"
   },
   {
    "duration": 202,
    "start_time": "2021-12-15T18:22:36.845Z"
   },
   {
    "duration": 227,
    "start_time": "2021-12-15T18:22:37.049Z"
   },
   {
    "duration": 313,
    "start_time": "2021-12-15T18:22:37.278Z"
   },
   {
    "duration": 195,
    "start_time": "2021-12-15T18:22:37.593Z"
   },
   {
    "duration": 202,
    "start_time": "2021-12-15T18:22:37.790Z"
   },
   {
    "duration": 198,
    "start_time": "2021-12-15T18:22:37.993Z"
   },
   {
    "duration": 173,
    "start_time": "2021-12-15T18:41:57.463Z"
   },
   {
    "duration": 352,
    "start_time": "2021-12-18T12:52:12.694Z"
   },
   {
    "duration": 900,
    "start_time": "2021-12-18T12:52:24.247Z"
   },
   {
    "duration": 33,
    "start_time": "2021-12-18T12:52:25.150Z"
   },
   {
    "duration": 411,
    "start_time": "2021-12-18T12:52:25.186Z"
   },
   {
    "duration": 894,
    "start_time": "2021-12-18T12:52:25.600Z"
   },
   {
    "duration": 1170,
    "start_time": "2021-12-18T12:52:26.496Z"
   },
   {
    "duration": 725,
    "start_time": "2021-12-18T12:52:27.667Z"
   },
   {
    "duration": 846,
    "start_time": "2021-12-18T12:52:28.393Z"
   },
   {
    "duration": 223,
    "start_time": "2021-12-18T12:52:29.242Z"
   },
   {
    "duration": 207,
    "start_time": "2021-12-18T12:52:29.467Z"
   },
   {
    "duration": 174,
    "start_time": "2021-12-18T12:52:29.675Z"
   },
   {
    "duration": 544,
    "start_time": "2021-12-18T12:52:29.850Z"
   },
   {
    "duration": 191,
    "start_time": "2021-12-18T12:52:30.395Z"
   },
   {
    "duration": 286,
    "start_time": "2021-12-18T12:52:30.588Z"
   },
   {
    "duration": 226,
    "start_time": "2021-12-18T12:52:30.877Z"
   },
   {
    "duration": 24,
    "start_time": "2021-12-18T12:52:31.105Z"
   },
   {
    "duration": 8,
    "start_time": "2021-12-18T12:52:31.131Z"
   },
   {
    "duration": 26,
    "start_time": "2021-12-18T12:52:31.140Z"
   },
   {
    "duration": 197,
    "start_time": "2021-12-18T12:52:31.168Z"
   },
   {
    "duration": 8,
    "start_time": "2021-12-18T12:52:31.366Z"
   },
   {
    "duration": 212,
    "start_time": "2021-12-18T12:52:31.376Z"
   },
   {
    "duration": 251,
    "start_time": "2021-12-18T12:52:31.592Z"
   },
   {
    "duration": 333,
    "start_time": "2021-12-18T12:52:31.845Z"
   },
   {
    "duration": 248,
    "start_time": "2021-12-18T12:52:32.181Z"
   },
   {
    "duration": 213,
    "start_time": "2021-12-18T12:52:32.431Z"
   },
   {
    "duration": 217,
    "start_time": "2021-12-18T12:52:32.646Z"
   },
   {
    "duration": 19,
    "start_time": "2021-12-18T13:13:17.655Z"
   },
   {
    "duration": 8,
    "start_time": "2021-12-18T13:13:39.172Z"
   },
   {
    "duration": 325,
    "start_time": "2021-12-18T13:18:02.571Z"
   },
   {
    "duration": 9,
    "start_time": "2021-12-18T13:18:13.621Z"
   },
   {
    "duration": 305,
    "start_time": "2021-12-18T13:19:30.022Z"
   },
   {
    "duration": 268,
    "start_time": "2021-12-18T13:19:46.111Z"
   },
   {
    "duration": 294,
    "start_time": "2021-12-18T13:19:55.237Z"
   },
   {
    "duration": 10,
    "start_time": "2021-12-18T13:20:06.521Z"
   },
   {
    "duration": 13,
    "start_time": "2021-12-18T13:21:31.615Z"
   },
   {
    "duration": 87,
    "start_time": "2021-12-18T13:21:52.287Z"
   },
   {
    "duration": 11,
    "start_time": "2021-12-18T13:22:24.440Z"
   },
   {
    "duration": 10,
    "start_time": "2021-12-18T13:24:16.300Z"
   },
   {
    "duration": 273,
    "start_time": "2021-12-18T13:24:53.244Z"
   },
   {
    "duration": 7,
    "start_time": "2021-12-18T13:24:59.651Z"
   },
   {
    "duration": 13,
    "start_time": "2021-12-18T13:30:46.394Z"
   },
   {
    "duration": 38,
    "start_time": "2021-12-18T13:31:02.851Z"
   },
   {
    "duration": 13,
    "start_time": "2021-12-18T13:37:02.738Z"
   },
   {
    "duration": 4,
    "start_time": "2021-12-18T13:38:33.411Z"
   },
   {
    "duration": 7,
    "start_time": "2021-12-18T13:44:15.551Z"
   },
   {
    "duration": 30,
    "start_time": "2021-12-18T13:44:32.733Z"
   },
   {
    "duration": 776,
    "start_time": "2021-12-18T13:45:45.483Z"
   },
   {
    "duration": 10,
    "start_time": "2021-12-18T13:45:46.262Z"
   },
   {
    "duration": 9,
    "start_time": "2021-12-18T13:45:46.274Z"
   },
   {
    "duration": 11,
    "start_time": "2021-12-18T13:45:46.285Z"
   },
   {
    "duration": 11,
    "start_time": "2021-12-18T13:45:46.298Z"
   },
   {
    "duration": 10,
    "start_time": "2021-12-18T13:45:46.311Z"
   },
   {
    "duration": 45,
    "start_time": "2021-12-18T13:45:46.323Z"
   },
   {
    "duration": 11,
    "start_time": "2021-12-18T13:45:46.371Z"
   },
   {
    "duration": 27,
    "start_time": "2021-12-18T13:45:46.384Z"
   },
   {
    "duration": 10,
    "start_time": "2021-12-18T13:45:46.413Z"
   },
   {
    "duration": 91,
    "start_time": "2021-12-18T13:45:46.425Z"
   },
   {
    "duration": 353010,
    "start_time": "2021-12-18T13:39:53.509Z"
   },
   {
    "duration": 353001,
    "start_time": "2021-12-18T13:39:53.520Z"
   },
   {
    "duration": 352997,
    "start_time": "2021-12-18T13:39:53.525Z"
   },
   {
    "duration": 352988,
    "start_time": "2021-12-18T13:39:53.535Z"
   },
   {
    "duration": 352984,
    "start_time": "2021-12-18T13:39:53.541Z"
   },
   {
    "duration": 352980,
    "start_time": "2021-12-18T13:39:53.546Z"
   },
   {
    "duration": 352972,
    "start_time": "2021-12-18T13:39:53.555Z"
   },
   {
    "duration": 352969,
    "start_time": "2021-12-18T13:39:53.560Z"
   },
   {
    "duration": 352960,
    "start_time": "2021-12-18T13:39:53.570Z"
   },
   {
    "duration": 352956,
    "start_time": "2021-12-18T13:39:53.575Z"
   },
   {
    "duration": 352947,
    "start_time": "2021-12-18T13:39:53.585Z"
   },
   {
    "duration": 352944,
    "start_time": "2021-12-18T13:39:53.590Z"
   },
   {
    "duration": 352939,
    "start_time": "2021-12-18T13:39:53.596Z"
   },
   {
    "duration": 352930,
    "start_time": "2021-12-18T13:39:53.606Z"
   },
   {
    "duration": 352927,
    "start_time": "2021-12-18T13:39:53.611Z"
   },
   {
    "duration": 352919,
    "start_time": "2021-12-18T13:39:53.620Z"
   },
   {
    "duration": 352915,
    "start_time": "2021-12-18T13:39:53.625Z"
   },
   {
    "duration": 352902,
    "start_time": "2021-12-18T13:39:53.640Z"
   },
   {
    "duration": 352896,
    "start_time": "2021-12-18T13:39:53.647Z"
   },
   {
    "duration": 352874,
    "start_time": "2021-12-18T13:39:53.670Z"
   },
   {
    "duration": 352871,
    "start_time": "2021-12-18T13:39:53.675Z"
   },
   {
    "duration": 352866,
    "start_time": "2021-12-18T13:39:53.681Z"
   },
   {
    "duration": 352862,
    "start_time": "2021-12-18T13:39:53.686Z"
   },
   {
    "duration": 352858,
    "start_time": "2021-12-18T13:39:53.691Z"
   },
   {
    "duration": 42,
    "start_time": "2021-12-18T13:46:04.644Z"
   },
   {
    "duration": 2124,
    "start_time": "2021-12-18T13:51:16.649Z"
   },
   {
    "duration": 399,
    "start_time": "2021-12-18T13:54:05.241Z"
   },
   {
    "duration": 625,
    "start_time": "2021-12-18T13:54:29.970Z"
   },
   {
    "duration": 814,
    "start_time": "2021-12-18T13:55:24.138Z"
   },
   {
    "duration": 13,
    "start_time": "2021-12-18T13:55:24.954Z"
   },
   {
    "duration": 8,
    "start_time": "2021-12-18T13:55:24.969Z"
   },
   {
    "duration": 10,
    "start_time": "2021-12-18T13:55:24.980Z"
   },
   {
    "duration": 14,
    "start_time": "2021-12-18T13:55:24.992Z"
   },
   {
    "duration": 9,
    "start_time": "2021-12-18T13:55:25.008Z"
   },
   {
    "duration": 7,
    "start_time": "2021-12-18T13:55:25.019Z"
   },
   {
    "duration": 42,
    "start_time": "2021-12-18T13:55:25.028Z"
   },
   {
    "duration": 26,
    "start_time": "2021-12-18T13:55:25.073Z"
   },
   {
    "duration": 8,
    "start_time": "2021-12-18T13:55:25.101Z"
   },
   {
    "duration": 364,
    "start_time": "2021-12-18T13:55:25.111Z"
   },
   {
    "duration": 353047,
    "start_time": "2021-12-18T13:49:32.430Z"
   },
   {
    "duration": 353019,
    "start_time": "2021-12-18T13:49:32.459Z"
   },
   {
    "duration": 353014,
    "start_time": "2021-12-18T13:49:32.465Z"
   },
   {
    "duration": 353009,
    "start_time": "2021-12-18T13:49:32.471Z"
   },
   {
    "duration": 353000,
    "start_time": "2021-12-18T13:49:32.481Z"
   },
   {
    "duration": 352994,
    "start_time": "2021-12-18T13:49:32.488Z"
   },
   {
    "duration": 352986,
    "start_time": "2021-12-18T13:49:32.498Z"
   },
   {
    "duration": 352980,
    "start_time": "2021-12-18T13:49:32.504Z"
   },
   {
    "duration": 352972,
    "start_time": "2021-12-18T13:49:32.513Z"
   },
   {
    "duration": 352966,
    "start_time": "2021-12-18T13:49:32.521Z"
   },
   {
    "duration": 352957,
    "start_time": "2021-12-18T13:49:32.530Z"
   },
   {
    "duration": 352950,
    "start_time": "2021-12-18T13:49:32.538Z"
   },
   {
    "duration": 352942,
    "start_time": "2021-12-18T13:49:32.547Z"
   },
   {
    "duration": 352937,
    "start_time": "2021-12-18T13:49:32.553Z"
   },
   {
    "duration": 352927,
    "start_time": "2021-12-18T13:49:32.564Z"
   },
   {
    "duration": 352921,
    "start_time": "2021-12-18T13:49:32.571Z"
   },
   {
    "duration": 352912,
    "start_time": "2021-12-18T13:49:32.581Z"
   },
   {
    "duration": 352907,
    "start_time": "2021-12-18T13:49:32.587Z"
   },
   {
    "duration": 352898,
    "start_time": "2021-12-18T13:49:32.597Z"
   },
   {
    "duration": 352891,
    "start_time": "2021-12-18T13:49:32.605Z"
   },
   {
    "duration": 352884,
    "start_time": "2021-12-18T13:49:32.614Z"
   },
   {
    "duration": 352877,
    "start_time": "2021-12-18T13:49:32.622Z"
   },
   {
    "duration": 352869,
    "start_time": "2021-12-18T13:49:32.631Z"
   },
   {
    "duration": 352863,
    "start_time": "2021-12-18T13:49:32.638Z"
   },
   {
    "duration": 1137,
    "start_time": "2021-12-18T13:55:34.401Z"
   },
   {
    "duration": 740,
    "start_time": "2021-12-18T13:59:07.301Z"
   },
   {
    "duration": 963,
    "start_time": "2021-12-18T13:59:20.453Z"
   },
   {
    "duration": 357,
    "start_time": "2021-12-18T14:00:33.289Z"
   },
   {
    "duration": 300,
    "start_time": "2021-12-18T14:00:55.783Z"
   },
   {
    "duration": 785,
    "start_time": "2021-12-18T14:03:41.519Z"
   },
   {
    "duration": 12,
    "start_time": "2021-12-18T14:03:42.306Z"
   },
   {
    "duration": 10,
    "start_time": "2021-12-18T14:03:42.321Z"
   },
   {
    "duration": 32,
    "start_time": "2021-12-18T14:03:42.334Z"
   },
   {
    "duration": 13,
    "start_time": "2021-12-18T14:03:42.368Z"
   },
   {
    "duration": 11,
    "start_time": "2021-12-18T14:03:42.383Z"
   },
   {
    "duration": 11,
    "start_time": "2021-12-18T14:03:42.396Z"
   },
   {
    "duration": 10,
    "start_time": "2021-12-18T14:03:42.410Z"
   },
   {
    "duration": 56,
    "start_time": "2021-12-18T14:03:42.423Z"
   },
   {
    "duration": 9,
    "start_time": "2021-12-18T14:03:42.480Z"
   },
   {
    "duration": 377,
    "start_time": "2021-12-18T14:03:42.491Z"
   },
   {
    "duration": 353044,
    "start_time": "2021-12-18T13:57:49.828Z"
   },
   {
    "duration": 353030,
    "start_time": "2021-12-18T13:57:49.843Z"
   },
   {
    "duration": 353028,
    "start_time": "2021-12-18T13:57:49.846Z"
   },
   {
    "duration": 353023,
    "start_time": "2021-12-18T13:57:49.853Z"
   },
   {
    "duration": 353017,
    "start_time": "2021-12-18T13:57:49.860Z"
   },
   {
    "duration": 353013,
    "start_time": "2021-12-18T13:57:49.866Z"
   },
   {
    "duration": 353005,
    "start_time": "2021-12-18T13:57:49.875Z"
   },
   {
    "duration": 353002,
    "start_time": "2021-12-18T13:57:49.879Z"
   },
   {
    "duration": 352998,
    "start_time": "2021-12-18T13:57:49.885Z"
   },
   {
    "duration": 352990,
    "start_time": "2021-12-18T13:57:49.894Z"
   },
   {
    "duration": 352988,
    "start_time": "2021-12-18T13:57:49.898Z"
   },
   {
    "duration": 352980,
    "start_time": "2021-12-18T13:57:49.907Z"
   },
   {
    "duration": 352977,
    "start_time": "2021-12-18T13:57:49.911Z"
   },
   {
    "duration": 352972,
    "start_time": "2021-12-18T13:57:49.917Z"
   },
   {
    "duration": 352964,
    "start_time": "2021-12-18T13:57:49.927Z"
   },
   {
    "duration": 352961,
    "start_time": "2021-12-18T13:57:49.931Z"
   },
   {
    "duration": 352957,
    "start_time": "2021-12-18T13:57:49.936Z"
   },
   {
    "duration": 352948,
    "start_time": "2021-12-18T13:57:49.946Z"
   },
   {
    "duration": 352945,
    "start_time": "2021-12-18T13:57:49.951Z"
   },
   {
    "duration": 352938,
    "start_time": "2021-12-18T13:57:49.959Z"
   },
   {
    "duration": 352934,
    "start_time": "2021-12-18T13:57:49.965Z"
   },
   {
    "duration": 352926,
    "start_time": "2021-12-18T13:57:49.975Z"
   },
   {
    "duration": 352921,
    "start_time": "2021-12-18T13:57:49.981Z"
   },
   {
    "duration": 293,
    "start_time": "2021-12-18T14:05:07.053Z"
   },
   {
    "duration": 14,
    "start_time": "2021-12-18T14:06:21.479Z"
   },
   {
    "duration": 10,
    "start_time": "2021-12-18T14:06:31.342Z"
   },
   {
    "duration": 28,
    "start_time": "2021-12-18T14:06:31.956Z"
   },
   {
    "duration": 828,
    "start_time": "2021-12-18T14:06:41.756Z"
   },
   {
    "duration": 10,
    "start_time": "2021-12-18T14:06:42.586Z"
   },
   {
    "duration": 11,
    "start_time": "2021-12-18T14:06:42.598Z"
   },
   {
    "duration": 23,
    "start_time": "2021-12-18T14:06:42.611Z"
   },
   {
    "duration": 33,
    "start_time": "2021-12-18T14:06:42.636Z"
   },
   {
    "duration": 17,
    "start_time": "2021-12-18T14:06:42.671Z"
   },
   {
    "duration": 12,
    "start_time": "2021-12-18T14:06:42.689Z"
   },
   {
    "duration": 26,
    "start_time": "2021-12-18T14:06:42.703Z"
   },
   {
    "duration": 44,
    "start_time": "2021-12-18T14:06:42.731Z"
   },
   {
    "duration": 9,
    "start_time": "2021-12-18T14:06:42.776Z"
   },
   {
    "duration": 30,
    "start_time": "2021-12-18T14:06:42.787Z"
   },
   {
    "duration": 27,
    "start_time": "2021-12-18T14:06:42.818Z"
   },
   {
    "duration": 455,
    "start_time": "2021-12-18T14:06:42.848Z"
   },
   {
    "duration": 1776,
    "start_time": "2021-12-18T14:06:43.305Z"
   },
   {
    "duration": 1204,
    "start_time": "2021-12-18T14:06:45.084Z"
   },
   {
    "duration": 1044,
    "start_time": "2021-12-18T14:06:46.290Z"
   },
   {
    "duration": 432,
    "start_time": "2021-12-18T14:06:47.336Z"
   },
   {
    "duration": 251,
    "start_time": "2021-12-18T14:06:47.770Z"
   },
   {
    "duration": 187,
    "start_time": "2021-12-18T14:06:48.023Z"
   },
   {
    "duration": 501,
    "start_time": "2021-12-18T14:06:48.212Z"
   },
   {
    "duration": 195,
    "start_time": "2021-12-18T14:06:48.715Z"
   },
   {
    "duration": 215,
    "start_time": "2021-12-18T14:06:48.912Z"
   },
   {
    "duration": 200,
    "start_time": "2021-12-18T14:06:49.130Z"
   },
   {
    "duration": 36,
    "start_time": "2021-12-18T14:06:49.333Z"
   },
   {
    "duration": 7,
    "start_time": "2021-12-18T14:06:49.371Z"
   },
   {
    "duration": 9,
    "start_time": "2021-12-18T14:06:49.380Z"
   },
   {
    "duration": 239,
    "start_time": "2021-12-18T14:06:49.391Z"
   },
   {
    "duration": 12,
    "start_time": "2021-12-18T14:06:49.632Z"
   },
   {
    "duration": 217,
    "start_time": "2021-12-18T14:06:49.646Z"
   },
   {
    "duration": 186,
    "start_time": "2021-12-18T14:06:49.865Z"
   },
   {
    "duration": 321,
    "start_time": "2021-12-18T14:06:50.053Z"
   },
   {
    "duration": 287,
    "start_time": "2021-12-18T14:06:50.376Z"
   },
   {
    "duration": 202,
    "start_time": "2021-12-18T14:06:50.665Z"
   },
   {
    "duration": 316,
    "start_time": "2021-12-18T14:06:50.869Z"
   },
   {
    "duration": 308,
    "start_time": "2021-12-18T14:08:01.843Z"
   },
   {
    "duration": 193,
    "start_time": "2021-12-18T14:08:09.230Z"
   },
   {
    "duration": 353058,
    "start_time": "2021-12-18T14:06:08.229Z"
   },
   {
    "duration": 6571,
    "start_time": "2021-12-18T14:12:21.828Z"
   },
   {
    "duration": 7498,
    "start_time": "2021-12-18T14:12:55.052Z"
   },
   {
    "duration": 599,
    "start_time": "2021-12-18T14:15:32.846Z"
   },
   {
    "duration": 204,
    "start_time": "2021-12-18T14:15:49.159Z"
   },
   {
    "duration": 1135,
    "start_time": "2021-12-18T14:22:35.487Z"
   },
   {
    "duration": 292,
    "start_time": "2021-12-18T14:22:49.853Z"
   },
   {
    "duration": 204,
    "start_time": "2021-12-19T04:40:10.965Z"
   },
   {
    "duration": 741,
    "start_time": "2021-12-19T04:40:18.789Z"
   },
   {
    "duration": 8,
    "start_time": "2021-12-19T04:40:19.532Z"
   },
   {
    "duration": 7,
    "start_time": "2021-12-19T04:40:19.542Z"
   },
   {
    "duration": 10,
    "start_time": "2021-12-19T04:40:19.550Z"
   },
   {
    "duration": 35,
    "start_time": "2021-12-19T04:40:19.562Z"
   },
   {
    "duration": 9,
    "start_time": "2021-12-19T04:40:19.598Z"
   },
   {
    "duration": 7,
    "start_time": "2021-12-19T04:40:19.609Z"
   },
   {
    "duration": 10,
    "start_time": "2021-12-19T04:40:19.618Z"
   },
   {
    "duration": 24,
    "start_time": "2021-12-19T04:40:19.630Z"
   },
   {
    "duration": 40,
    "start_time": "2021-12-19T04:40:19.656Z"
   },
   {
    "duration": 11,
    "start_time": "2021-12-19T04:40:19.698Z"
   },
   {
    "duration": 26,
    "start_time": "2021-12-19T04:40:19.711Z"
   },
   {
    "duration": 478,
    "start_time": "2021-12-19T04:40:19.739Z"
   },
   {
    "duration": 1197,
    "start_time": "2021-12-19T04:40:20.219Z"
   },
   {
    "duration": 798,
    "start_time": "2021-12-19T04:40:21.418Z"
   },
   {
    "duration": 788,
    "start_time": "2021-12-19T04:40:22.219Z"
   },
   {
    "duration": 302,
    "start_time": "2021-12-19T04:40:23.009Z"
   },
   {
    "duration": 217,
    "start_time": "2021-12-19T04:40:23.312Z"
   },
   {
    "duration": 185,
    "start_time": "2021-12-19T04:40:23.531Z"
   },
   {
    "duration": 506,
    "start_time": "2021-12-19T04:40:23.718Z"
   },
   {
    "duration": 209,
    "start_time": "2021-12-19T04:40:24.226Z"
   },
   {
    "duration": 587,
    "start_time": "2021-12-19T04:40:24.436Z"
   },
   {
    "duration": 204,
    "start_time": "2021-12-19T04:40:25.026Z"
   },
   {
    "duration": 21,
    "start_time": "2021-12-19T04:40:25.232Z"
   },
   {
    "duration": 6,
    "start_time": "2021-12-19T04:40:25.255Z"
   },
   {
    "duration": 30,
    "start_time": "2021-12-19T04:40:25.262Z"
   },
   {
    "duration": 197,
    "start_time": "2021-12-19T04:40:25.293Z"
   },
   {
    "duration": 8,
    "start_time": "2021-12-19T04:40:25.492Z"
   },
   {
    "duration": 208,
    "start_time": "2021-12-19T04:40:25.501Z"
   },
   {
    "duration": 239,
    "start_time": "2021-12-19T04:40:25.710Z"
   },
   {
    "duration": 305,
    "start_time": "2021-12-19T04:40:25.950Z"
   },
   {
    "duration": 217,
    "start_time": "2021-12-19T04:40:26.256Z"
   },
   {
    "duration": 219,
    "start_time": "2021-12-19T04:40:26.474Z"
   },
   {
    "duration": 217,
    "start_time": "2021-12-19T04:40:26.695Z"
   },
   {
    "duration": 1052,
    "start_time": "2021-12-19T04:41:01.405Z"
   },
   {
    "duration": 204,
    "start_time": "2021-12-19T04:41:32.604Z"
   },
   {
    "duration": 255,
    "start_time": "2021-12-19T04:42:28.644Z"
   },
   {
    "duration": 205,
    "start_time": "2021-12-19T04:49:23.134Z"
   },
   {
    "duration": 908,
    "start_time": "2021-12-19T14:05:28.241Z"
   },
   {
    "duration": 12,
    "start_time": "2021-12-19T14:05:29.151Z"
   },
   {
    "duration": 25,
    "start_time": "2021-12-19T14:05:29.166Z"
   },
   {
    "duration": 23,
    "start_time": "2021-12-19T14:05:29.193Z"
   },
   {
    "duration": 11,
    "start_time": "2021-12-19T14:05:29.218Z"
   },
   {
    "duration": 14,
    "start_time": "2021-12-19T14:05:29.231Z"
   },
   {
    "duration": 9,
    "start_time": "2021-12-19T14:05:29.247Z"
   },
   {
    "duration": 24,
    "start_time": "2021-12-19T14:05:29.259Z"
   },
   {
    "duration": 33,
    "start_time": "2021-12-19T14:05:29.286Z"
   },
   {
    "duration": 13,
    "start_time": "2021-12-19T14:05:29.321Z"
   },
   {
    "duration": 30,
    "start_time": "2021-12-19T14:05:29.336Z"
   },
   {
    "duration": 29,
    "start_time": "2021-12-19T14:05:29.368Z"
   },
   {
    "duration": 465,
    "start_time": "2021-12-19T14:05:29.399Z"
   },
   {
    "duration": 1199,
    "start_time": "2021-12-19T14:05:29.866Z"
   },
   {
    "duration": 753,
    "start_time": "2021-12-19T14:05:31.067Z"
   },
   {
    "duration": 736,
    "start_time": "2021-12-19T14:05:31.822Z"
   },
   {
    "duration": 379,
    "start_time": "2021-12-19T14:05:32.563Z"
   },
   {
    "duration": 310,
    "start_time": "2021-12-19T14:05:32.945Z"
   },
   {
    "duration": 272,
    "start_time": "2021-12-19T14:05:33.257Z"
   },
   {
    "duration": 675,
    "start_time": "2021-12-19T14:05:33.531Z"
   },
   {
    "duration": 299,
    "start_time": "2021-12-19T14:05:34.208Z"
   },
   {
    "duration": 307,
    "start_time": "2021-12-19T14:05:34.509Z"
   },
   {
    "duration": 207,
    "start_time": "2021-12-19T14:05:34.820Z"
   },
   {
    "duration": 22,
    "start_time": "2021-12-19T14:05:35.029Z"
   },
   {
    "duration": 8,
    "start_time": "2021-12-19T14:05:35.063Z"
   },
   {
    "duration": 11,
    "start_time": "2021-12-19T14:05:35.072Z"
   },
   {
    "duration": 199,
    "start_time": "2021-12-19T14:05:35.084Z"
   },
   {
    "duration": 8,
    "start_time": "2021-12-19T14:05:35.285Z"
   },
   {
    "duration": 206,
    "start_time": "2021-12-19T14:05:35.294Z"
   },
   {
    "duration": 180,
    "start_time": "2021-12-19T14:05:35.502Z"
   },
   {
    "duration": 309,
    "start_time": "2021-12-19T14:05:35.683Z"
   },
   {
    "duration": 394,
    "start_time": "2021-12-19T14:05:35.994Z"
   },
   {
    "duration": 307,
    "start_time": "2021-12-19T14:05:36.390Z"
   },
   {
    "duration": 219,
    "start_time": "2021-12-19T14:05:36.699Z"
   },
   {
    "duration": 35,
    "start_time": "2021-12-19T14:18:01.256Z"
   },
   {
    "duration": 10,
    "start_time": "2021-12-19T14:18:30.592Z"
   },
   {
    "duration": 26,
    "start_time": "2021-12-19T14:19:01.826Z"
   },
   {
    "duration": 8,
    "start_time": "2021-12-19T14:19:16.410Z"
   },
   {
    "duration": 7,
    "start_time": "2021-12-19T14:19:23.759Z"
   },
   {
    "duration": 8,
    "start_time": "2021-12-19T14:19:26.628Z"
   },
   {
    "duration": 780,
    "start_time": "2021-12-19T14:22:20.486Z"
   },
   {
    "duration": 9,
    "start_time": "2021-12-19T14:22:21.268Z"
   },
   {
    "duration": 8,
    "start_time": "2021-12-19T14:22:21.279Z"
   },
   {
    "duration": 14,
    "start_time": "2021-12-19T14:22:21.289Z"
   },
   {
    "duration": 11,
    "start_time": "2021-12-19T14:22:21.305Z"
   },
   {
    "duration": 10,
    "start_time": "2021-12-19T14:22:21.318Z"
   },
   {
    "duration": 9,
    "start_time": "2021-12-19T14:22:21.364Z"
   },
   {
    "duration": 11,
    "start_time": "2021-12-19T14:22:21.377Z"
   },
   {
    "duration": 28,
    "start_time": "2021-12-19T14:22:21.390Z"
   },
   {
    "duration": 10,
    "start_time": "2021-12-19T14:22:21.420Z"
   },
   {
    "duration": 41,
    "start_time": "2021-12-19T14:22:21.432Z"
   },
   {
    "duration": 29,
    "start_time": "2021-12-19T14:22:21.475Z"
   },
   {
    "duration": 464,
    "start_time": "2021-12-19T14:22:21.506Z"
   },
   {
    "duration": 1221,
    "start_time": "2021-12-19T14:22:21.972Z"
   },
   {
    "duration": 838,
    "start_time": "2021-12-19T14:22:23.195Z"
   },
   {
    "duration": 763,
    "start_time": "2021-12-19T14:22:24.036Z"
   },
   {
    "duration": 323,
    "start_time": "2021-12-19T14:22:24.801Z"
   },
   {
    "duration": 219,
    "start_time": "2021-12-19T14:22:25.126Z"
   },
   {
    "duration": 202,
    "start_time": "2021-12-19T14:22:25.348Z"
   },
   {
    "duration": 467,
    "start_time": "2021-12-19T14:22:25.552Z"
   },
   {
    "duration": 203,
    "start_time": "2021-12-19T14:22:26.021Z"
   },
   {
    "duration": 212,
    "start_time": "2021-12-19T14:22:26.225Z"
   },
   {
    "duration": 207,
    "start_time": "2021-12-19T14:22:26.441Z"
   },
   {
    "duration": 30,
    "start_time": "2021-12-19T14:22:26.650Z"
   },
   {
    "duration": 7,
    "start_time": "2021-12-19T14:22:26.682Z"
   },
   {
    "duration": 15,
    "start_time": "2021-12-19T14:22:26.691Z"
   },
   {
    "duration": 210,
    "start_time": "2021-12-19T14:22:26.707Z"
   },
   {
    "duration": 8,
    "start_time": "2021-12-19T14:22:26.919Z"
   },
   {
    "duration": 207,
    "start_time": "2021-12-19T14:22:26.929Z"
   },
   {
    "duration": 179,
    "start_time": "2021-12-19T14:22:27.138Z"
   },
   {
    "duration": 321,
    "start_time": "2021-12-19T14:22:27.319Z"
   },
   {
    "duration": 288,
    "start_time": "2021-12-19T14:22:27.641Z"
   },
   {
    "duration": 205,
    "start_time": "2021-12-19T14:22:27.930Z"
   },
   {
    "duration": 218,
    "start_time": "2021-12-19T14:22:28.137Z"
   },
   {
    "duration": 430,
    "start_time": "2021-12-20T12:47:30.631Z"
   },
   {
    "duration": 391,
    "start_time": "2021-12-20T12:47:35.656Z"
   },
   {
    "duration": 1011,
    "start_time": "2021-12-20T12:47:42.306Z"
   },
   {
    "duration": 15,
    "start_time": "2021-12-20T12:47:43.321Z"
   },
   {
    "duration": 434,
    "start_time": "2021-12-20T12:47:43.340Z"
   },
   {
    "duration": 302,
    "start_time": "2021-12-20T12:47:43.777Z"
   },
   {
    "duration": 217,
    "start_time": "2021-12-20T12:47:44.081Z"
   },
   {
    "duration": 683,
    "start_time": "2021-12-20T12:47:44.301Z"
   },
   {
    "duration": -2,
    "start_time": "2021-12-20T12:47:44.992Z"
   },
   {
    "duration": -6,
    "start_time": "2021-12-20T12:47:44.998Z"
   },
   {
    "duration": -31,
    "start_time": "2021-12-20T12:47:45.025Z"
   },
   {
    "duration": -33,
    "start_time": "2021-12-20T12:47:45.029Z"
   },
   {
    "duration": -43,
    "start_time": "2021-12-20T12:47:45.041Z"
   },
   {
    "duration": -45,
    "start_time": "2021-12-20T12:47:45.046Z"
   },
   {
    "duration": -54,
    "start_time": "2021-12-20T12:47:45.057Z"
   },
   {
    "duration": -57,
    "start_time": "2021-12-20T12:47:45.062Z"
   },
   {
    "duration": -65,
    "start_time": "2021-12-20T12:47:45.072Z"
   },
   {
    "duration": -67,
    "start_time": "2021-12-20T12:47:45.077Z"
   },
   {
    "duration": -75,
    "start_time": "2021-12-20T12:47:45.087Z"
   },
   {
    "duration": -77,
    "start_time": "2021-12-20T12:47:45.091Z"
   },
   {
    "duration": -81,
    "start_time": "2021-12-20T12:47:45.097Z"
   },
   {
    "duration": -90,
    "start_time": "2021-12-20T12:47:45.108Z"
   },
   {
    "duration": -93,
    "start_time": "2021-12-20T12:47:45.113Z"
   },
   {
    "duration": -100,
    "start_time": "2021-12-20T12:47:45.123Z"
   },
   {
    "duration": -103,
    "start_time": "2021-12-20T12:47:45.128Z"
   },
   {
    "duration": -109,
    "start_time": "2021-12-20T12:47:45.136Z"
   },
   {
    "duration": -75,
    "start_time": "2021-12-20T12:47:45.141Z"
   },
   {
    "duration": -77,
    "start_time": "2021-12-20T12:47:45.145Z"
   },
   {
    "duration": -90,
    "start_time": "2021-12-20T12:47:45.161Z"
   },
   {
    "duration": -98,
    "start_time": "2021-12-20T12:47:45.171Z"
   },
   {
    "duration": -105,
    "start_time": "2021-12-20T12:47:45.180Z"
   },
   {
    "duration": -113,
    "start_time": "2021-12-20T12:47:45.190Z"
   },
   {
    "duration": -115,
    "start_time": "2021-12-20T12:47:45.194Z"
   },
   {
    "duration": -125,
    "start_time": "2021-12-20T12:47:45.206Z"
   },
   {
    "duration": -127,
    "start_time": "2021-12-20T12:47:45.211Z"
   },
   {
    "duration": -128,
    "start_time": "2021-12-20T12:47:45.214Z"
   },
   {
    "duration": -130,
    "start_time": "2021-12-20T12:47:45.218Z"
   },
   {
    "duration": -132,
    "start_time": "2021-12-20T12:47:45.222Z"
   },
   {
    "duration": 16,
    "start_time": "2021-12-20T12:47:54.857Z"
   },
   {
    "duration": 127,
    "start_time": "2021-12-20T12:47:54.875Z"
   },
   {
    "duration": 61,
    "start_time": "2021-12-20T12:47:55.006Z"
   },
   {
    "duration": 128,
    "start_time": "2021-12-20T12:47:55.070Z"
   },
   {
    "duration": 114,
    "start_time": "2021-12-20T12:47:55.201Z"
   },
   {
    "duration": 152,
    "start_time": "2021-12-20T12:47:55.317Z"
   },
   {
    "duration": 75,
    "start_time": "2021-12-20T12:47:55.472Z"
   },
   {
    "duration": 247,
    "start_time": "2021-12-20T12:47:55.550Z"
   },
   {
    "duration": 958,
    "start_time": "2021-12-20T12:47:55.801Z"
   },
   {
    "duration": 2144,
    "start_time": "2021-12-20T12:47:56.762Z"
   },
   {
    "duration": 1458,
    "start_time": "2021-12-20T12:47:58.909Z"
   },
   {
    "duration": 1638,
    "start_time": "2021-12-20T12:48:00.370Z"
   },
   {
    "duration": 641,
    "start_time": "2021-12-20T12:48:02.011Z"
   },
   {
    "duration": 449,
    "start_time": "2021-12-20T12:48:02.655Z"
   },
   {
    "duration": 367,
    "start_time": "2021-12-20T12:48:03.106Z"
   },
   {
    "duration": 819,
    "start_time": "2021-12-20T12:48:03.476Z"
   },
   {
    "duration": 393,
    "start_time": "2021-12-20T12:48:04.299Z"
   },
   {
    "duration": 429,
    "start_time": "2021-12-20T12:48:04.696Z"
   },
   {
    "duration": 414,
    "start_time": "2021-12-20T12:48:05.128Z"
   },
   {
    "duration": 57,
    "start_time": "2021-12-20T12:48:05.545Z"
   },
   {
    "duration": 323,
    "start_time": "2021-12-20T12:48:05.604Z"
   },
   {
    "duration": 547,
    "start_time": "2021-12-20T12:48:05.930Z"
   },
   {
    "duration": 511,
    "start_time": "2021-12-20T12:48:06.481Z"
   },
   {
    "duration": 13,
    "start_time": "2021-12-20T12:48:06.994Z"
   },
   {
    "duration": 449,
    "start_time": "2021-12-20T12:48:07.011Z"
   },
   {
    "duration": 327,
    "start_time": "2021-12-20T12:48:07.463Z"
   },
   {
    "duration": 563,
    "start_time": "2021-12-20T12:48:07.796Z"
   },
   {
    "duration": 417,
    "start_time": "2021-12-20T12:48:08.366Z"
   },
   {
    "duration": 388,
    "start_time": "2021-12-20T12:48:08.785Z"
   },
   {
    "duration": 391,
    "start_time": "2021-12-20T12:48:09.176Z"
   },
   {
    "duration": 57,
    "start_time": "2021-12-20T12:48:09.569Z"
   },
   {
    "duration": 6,
    "start_time": "2021-12-20T12:48:30.157Z"
   },
   {
    "duration": 5,
    "start_time": "2021-12-20T12:54:14.918Z"
   },
   {
    "duration": 121,
    "start_time": "2021-12-20T12:59:45.371Z"
   },
   {
    "duration": 366,
    "start_time": "2021-12-20T13:02:19.777Z"
   },
   {
    "duration": 309,
    "start_time": "2021-12-20T13:02:33.044Z"
   },
   {
    "duration": 154,
    "start_time": "2021-12-20T16:42:41.355Z"
   },
   {
    "duration": 1214,
    "start_time": "2021-12-20T17:17:31.085Z"
   },
   {
    "duration": 30,
    "start_time": "2021-12-20T17:17:32.302Z"
   },
   {
    "duration": 15,
    "start_time": "2021-12-20T17:17:32.336Z"
   },
   {
    "duration": 22,
    "start_time": "2021-12-20T17:17:32.356Z"
   },
   {
    "duration": 61,
    "start_time": "2021-12-20T17:17:32.381Z"
   },
   {
    "duration": 21,
    "start_time": "2021-12-20T17:17:32.446Z"
   },
   {
    "duration": 12,
    "start_time": "2021-12-20T17:17:32.470Z"
   },
   {
    "duration": 44,
    "start_time": "2021-12-20T17:17:32.486Z"
   },
   {
    "duration": 47,
    "start_time": "2021-12-20T17:17:32.533Z"
   },
   {
    "duration": 42,
    "start_time": "2021-12-20T17:17:32.583Z"
   },
   {
    "duration": 24,
    "start_time": "2021-12-20T17:17:32.628Z"
   },
   {
    "duration": 87,
    "start_time": "2021-12-20T17:17:32.655Z"
   },
   {
    "duration": 1418,
    "start_time": "2021-12-20T17:17:32.748Z"
   },
   {
    "duration": 2590,
    "start_time": "2021-12-20T17:17:34.168Z"
   },
   {
    "duration": 1478,
    "start_time": "2021-12-20T17:17:36.761Z"
   },
   {
    "duration": 1809,
    "start_time": "2021-12-20T17:17:38.242Z"
   },
   {
    "duration": 454,
    "start_time": "2021-12-20T17:17:40.055Z"
   },
   {
    "duration": 484,
    "start_time": "2021-12-20T17:17:40.511Z"
   },
   {
    "duration": 306,
    "start_time": "2021-12-20T17:17:40.998Z"
   },
   {
    "duration": 975,
    "start_time": "2021-12-20T17:17:41.307Z"
   },
   {
    "duration": 373,
    "start_time": "2021-12-20T17:17:42.284Z"
   },
   {
    "duration": 384,
    "start_time": "2021-12-20T17:17:42.660Z"
   },
   {
    "duration": 442,
    "start_time": "2021-12-20T17:17:43.052Z"
   },
   {
    "duration": 203,
    "start_time": "2021-12-20T17:17:43.498Z"
   },
   {
    "duration": 354172,
    "start_time": "2021-12-20T17:11:49.533Z"
   },
   {
    "duration": 354163,
    "start_time": "2021-12-20T17:11:49.543Z"
   },
   {
    "duration": 354160,
    "start_time": "2021-12-20T17:11:49.548Z"
   },
   {
    "duration": 354156,
    "start_time": "2021-12-20T17:11:49.553Z"
   },
   {
    "duration": 354153,
    "start_time": "2021-12-20T17:11:49.557Z"
   },
   {
    "duration": 354150,
    "start_time": "2021-12-20T17:11:49.562Z"
   },
   {
    "duration": 354149,
    "start_time": "2021-12-20T17:11:49.568Z"
   },
   {
    "duration": 354146,
    "start_time": "2021-12-20T17:11:49.573Z"
   },
   {
    "duration": 354143,
    "start_time": "2021-12-20T17:11:49.578Z"
   },
   {
    "duration": 354140,
    "start_time": "2021-12-20T17:11:49.583Z"
   },
   {
    "duration": 354138,
    "start_time": "2021-12-20T17:11:49.587Z"
   },
   {
    "duration": 354131,
    "start_time": "2021-12-20T17:11:49.596Z"
   },
   {
    "duration": 6,
    "start_time": "2021-12-20T17:21:16.503Z"
   },
   {
    "duration": 7,
    "start_time": "2021-12-20T17:24:38.085Z"
   },
   {
    "duration": 15,
    "start_time": "2021-12-20T17:25:11.998Z"
   },
   {
    "duration": 20,
    "start_time": "2021-12-20T17:25:33.231Z"
   },
   {
    "duration": 14,
    "start_time": "2021-12-20T17:25:46.147Z"
   },
   {
    "duration": 6,
    "start_time": "2021-12-20T17:26:15.376Z"
   },
   {
    "duration": 1345,
    "start_time": "2021-12-20T17:26:27.821Z"
   },
   {
    "duration": 13,
    "start_time": "2021-12-20T17:26:29.169Z"
   },
   {
    "duration": 42,
    "start_time": "2021-12-20T17:26:29.186Z"
   },
   {
    "duration": 15,
    "start_time": "2021-12-20T17:26:29.231Z"
   },
   {
    "duration": 52,
    "start_time": "2021-12-20T17:26:29.249Z"
   },
   {
    "duration": 18,
    "start_time": "2021-12-20T17:26:29.305Z"
   },
   {
    "duration": 18,
    "start_time": "2021-12-20T17:26:29.326Z"
   },
   {
    "duration": 16,
    "start_time": "2021-12-20T17:26:29.351Z"
   },
   {
    "duration": 66,
    "start_time": "2021-12-20T17:26:29.371Z"
   },
   {
    "duration": 13,
    "start_time": "2021-12-20T17:26:29.439Z"
   },
   {
    "duration": 24,
    "start_time": "2021-12-20T17:26:29.455Z"
   },
   {
    "duration": 82,
    "start_time": "2021-12-20T17:26:29.482Z"
   },
   {
    "duration": 1035,
    "start_time": "2021-12-20T17:26:29.567Z"
   },
   {
    "duration": 1955,
    "start_time": "2021-12-20T17:26:30.605Z"
   },
   {
    "duration": 1356,
    "start_time": "2021-12-20T17:26:32.562Z"
   },
   {
    "duration": 1289,
    "start_time": "2021-12-20T17:26:33.924Z"
   },
   {
    "duration": 480,
    "start_time": "2021-12-20T17:26:35.216Z"
   },
   {
    "duration": 348,
    "start_time": "2021-12-20T17:26:35.699Z"
   },
   {
    "duration": 286,
    "start_time": "2021-12-20T17:26:36.051Z"
   },
   {
    "duration": 702,
    "start_time": "2021-12-20T17:26:36.339Z"
   },
   {
    "duration": 333,
    "start_time": "2021-12-20T17:26:37.044Z"
   },
   {
    "duration": 403,
    "start_time": "2021-12-20T17:26:37.380Z"
   },
   {
    "duration": 339,
    "start_time": "2021-12-20T17:26:37.788Z"
   },
   {
    "duration": 291,
    "start_time": "2021-12-20T17:26:38.131Z"
   },
   {
    "duration": 354195,
    "start_time": "2021-12-20T17:20:44.233Z"
   },
   {
    "duration": 354184,
    "start_time": "2021-12-20T17:20:44.245Z"
   },
   {
    "duration": 354176,
    "start_time": "2021-12-20T17:20:44.255Z"
   },
   {
    "duration": 354167,
    "start_time": "2021-12-20T17:20:44.266Z"
   },
   {
    "duration": 354158,
    "start_time": "2021-12-20T17:20:44.277Z"
   },
   {
    "duration": 354145,
    "start_time": "2021-12-20T17:20:44.292Z"
   },
   {
    "duration": 354136,
    "start_time": "2021-12-20T17:20:44.302Z"
   },
   {
    "duration": 354127,
    "start_time": "2021-12-20T17:20:44.313Z"
   },
   {
    "duration": 354119,
    "start_time": "2021-12-20T17:20:44.322Z"
   },
   {
    "duration": 354114,
    "start_time": "2021-12-20T17:20:44.329Z"
   },
   {
    "duration": 354110,
    "start_time": "2021-12-20T17:20:44.334Z"
   },
   {
    "duration": 354105,
    "start_time": "2021-12-20T17:20:44.340Z"
   },
   {
    "duration": 22,
    "start_time": "2021-12-20T17:32:22.919Z"
   },
   {
    "duration": 19,
    "start_time": "2021-12-20T17:32:29.771Z"
   },
   {
    "duration": 69,
    "start_time": "2021-12-20T17:32:33.023Z"
   },
   {
    "duration": 11,
    "start_time": "2021-12-20T17:37:07.165Z"
   },
   {
    "duration": 6,
    "start_time": "2021-12-20T17:39:53.520Z"
   },
   {
    "duration": 12,
    "start_time": "2021-12-20T17:40:32.713Z"
   },
   {
    "duration": 7,
    "start_time": "2021-12-20T17:41:13.151Z"
   },
   {
    "duration": 6,
    "start_time": "2021-12-20T17:41:18.633Z"
   },
   {
    "duration": 12,
    "start_time": "2021-12-20T17:41:26.329Z"
   },
   {
    "duration": 3,
    "start_time": "2021-12-20T17:42:59.959Z"
   },
   {
    "duration": 3,
    "start_time": "2021-12-20T17:43:10.406Z"
   },
   {
    "duration": 1225,
    "start_time": "2021-12-20T17:43:39.500Z"
   },
   {
    "duration": 16,
    "start_time": "2021-12-20T17:43:40.729Z"
   },
   {
    "duration": 13,
    "start_time": "2021-12-20T17:43:40.749Z"
   },
   {
    "duration": 57,
    "start_time": "2021-12-20T17:43:40.766Z"
   },
   {
    "duration": 6,
    "start_time": "2021-12-20T17:43:40.826Z"
   },
   {
    "duration": 5,
    "start_time": "2021-12-20T17:43:40.834Z"
   },
   {
    "duration": 17,
    "start_time": "2021-12-20T17:43:40.841Z"
   },
   {
    "duration": 6,
    "start_time": "2021-12-20T17:43:40.862Z"
   },
   {
    "duration": 5,
    "start_time": "2021-12-20T17:43:40.872Z"
   },
   {
    "duration": 58,
    "start_time": "2021-12-20T17:43:40.879Z"
   },
   {
    "duration": 10,
    "start_time": "2021-12-20T17:43:40.940Z"
   },
   {
    "duration": 11,
    "start_time": "2021-12-20T17:43:40.953Z"
   },
   {
    "duration": 80,
    "start_time": "2021-12-20T17:43:40.967Z"
   },
   {
    "duration": 18,
    "start_time": "2021-12-20T17:43:41.049Z"
   },
   {
    "duration": 57,
    "start_time": "2021-12-20T17:43:41.070Z"
   },
   {
    "duration": 51,
    "start_time": "2021-12-20T17:43:41.130Z"
   },
   {
    "duration": 978,
    "start_time": "2021-12-20T17:43:41.184Z"
   },
   {
    "duration": 3162,
    "start_time": "2021-12-20T17:43:42.164Z"
   },
   {
    "duration": 1338,
    "start_time": "2021-12-20T17:43:45.330Z"
   },
   {
    "duration": 1313,
    "start_time": "2021-12-20T17:43:46.670Z"
   },
   {
    "duration": 458,
    "start_time": "2021-12-20T17:43:47.986Z"
   },
   {
    "duration": 357,
    "start_time": "2021-12-20T17:43:48.447Z"
   },
   {
    "duration": 360,
    "start_time": "2021-12-20T17:43:48.809Z"
   },
   {
    "duration": 849,
    "start_time": "2021-12-20T17:43:49.174Z"
   },
   {
    "duration": 401,
    "start_time": "2021-12-20T17:43:50.026Z"
   },
   {
    "duration": 374,
    "start_time": "2021-12-20T17:43:50.430Z"
   },
   {
    "duration": 291,
    "start_time": "2021-12-20T17:43:50.808Z"
   },
   {
    "duration": 104,
    "start_time": "2021-12-20T17:43:51.102Z"
   },
   {
    "duration": 354181,
    "start_time": "2021-12-20T17:37:57.027Z"
   },
   {
    "duration": 354175,
    "start_time": "2021-12-20T17:37:57.035Z"
   },
   {
    "duration": 354165,
    "start_time": "2021-12-20T17:37:57.046Z"
   },
   {
    "duration": 354156,
    "start_time": "2021-12-20T17:37:57.057Z"
   },
   {
    "duration": 354148,
    "start_time": "2021-12-20T17:37:57.066Z"
   },
   {
    "duration": 354140,
    "start_time": "2021-12-20T17:37:57.076Z"
   },
   {
    "duration": 354131,
    "start_time": "2021-12-20T17:37:57.086Z"
   },
   {
    "duration": 354121,
    "start_time": "2021-12-20T17:37:57.097Z"
   },
   {
    "duration": 354111,
    "start_time": "2021-12-20T17:37:57.108Z"
   },
   {
    "duration": 354104,
    "start_time": "2021-12-20T17:37:57.116Z"
   },
   {
    "duration": 354096,
    "start_time": "2021-12-20T17:37:57.126Z"
   },
   {
    "duration": 354090,
    "start_time": "2021-12-20T17:37:57.134Z"
   },
   {
    "duration": 1026,
    "start_time": "2021-12-20T17:51:34.069Z"
   },
   {
    "duration": 28,
    "start_time": "2021-12-20T17:51:35.098Z"
   },
   {
    "duration": 14,
    "start_time": "2021-12-20T17:51:35.132Z"
   },
   {
    "duration": 7,
    "start_time": "2021-12-20T17:51:35.150Z"
   },
   {
    "duration": 7,
    "start_time": "2021-12-20T17:51:35.160Z"
   },
   {
    "duration": 17,
    "start_time": "2021-12-20T17:51:35.169Z"
   },
   {
    "duration": 16,
    "start_time": "2021-12-20T17:51:35.225Z"
   },
   {
    "duration": 13,
    "start_time": "2021-12-20T17:51:35.245Z"
   },
   {
    "duration": 68,
    "start_time": "2021-12-20T17:51:35.262Z"
   },
   {
    "duration": 32,
    "start_time": "2021-12-20T17:51:35.335Z"
   },
   {
    "duration": 76,
    "start_time": "2021-12-20T17:51:35.370Z"
   },
   {
    "duration": 907,
    "start_time": "2021-12-20T17:51:35.449Z"
   },
   {
    "duration": 2058,
    "start_time": "2021-12-20T17:51:36.358Z"
   },
   {
    "duration": 1354,
    "start_time": "2021-12-20T17:51:38.423Z"
   },
   {
    "duration": 1358,
    "start_time": "2021-12-20T17:51:39.779Z"
   },
   {
    "duration": 437,
    "start_time": "2021-12-20T17:51:41.140Z"
   },
   {
    "duration": 353,
    "start_time": "2021-12-20T17:51:41.580Z"
   },
   {
    "duration": 307,
    "start_time": "2021-12-20T17:51:41.936Z"
   },
   {
    "duration": 732,
    "start_time": "2021-12-20T17:51:42.246Z"
   },
   {
    "duration": 369,
    "start_time": "2021-12-20T17:51:42.981Z"
   },
   {
    "duration": 352,
    "start_time": "2021-12-20T17:51:43.353Z"
   },
   {
    "duration": 304,
    "start_time": "2021-12-20T17:51:43.708Z"
   },
   {
    "duration": 96,
    "start_time": "2021-12-20T17:51:44.017Z"
   },
   {
    "duration": 354250,
    "start_time": "2021-12-20T17:45:49.865Z"
   },
   {
    "duration": 354245,
    "start_time": "2021-12-20T17:45:49.872Z"
   },
   {
    "duration": 354240,
    "start_time": "2021-12-20T17:45:49.878Z"
   },
   {
    "duration": 354235,
    "start_time": "2021-12-20T17:45:49.885Z"
   },
   {
    "duration": 354229,
    "start_time": "2021-12-20T17:45:49.892Z"
   },
   {
    "duration": 354224,
    "start_time": "2021-12-20T17:45:49.900Z"
   },
   {
    "duration": 354219,
    "start_time": "2021-12-20T17:45:49.907Z"
   },
   {
    "duration": 354214,
    "start_time": "2021-12-20T17:45:49.913Z"
   },
   {
    "duration": 354209,
    "start_time": "2021-12-20T17:45:49.920Z"
   },
   {
    "duration": 354205,
    "start_time": "2021-12-20T17:45:49.925Z"
   },
   {
    "duration": 354201,
    "start_time": "2021-12-20T17:45:49.932Z"
   },
   {
    "duration": 354198,
    "start_time": "2021-12-20T17:45:49.937Z"
   },
   {
    "duration": 978,
    "start_time": "2022-03-24T09:46:26.216Z"
   },
   {
    "duration": 12,
    "start_time": "2022-03-24T09:46:27.196Z"
   },
   {
    "duration": 30,
    "start_time": "2022-03-24T09:46:27.210Z"
   },
   {
    "duration": 5,
    "start_time": "2022-03-24T09:46:27.242Z"
   },
   {
    "duration": 10,
    "start_time": "2022-03-24T09:46:27.249Z"
   },
   {
    "duration": 10,
    "start_time": "2022-03-24T09:46:27.261Z"
   },
   {
    "duration": 11,
    "start_time": "2022-03-24T09:46:27.272Z"
   },
   {
    "duration": 12,
    "start_time": "2022-03-24T09:46:27.285Z"
   },
   {
    "duration": 56,
    "start_time": "2022-03-24T09:46:27.299Z"
   },
   {
    "duration": 20,
    "start_time": "2022-03-24T09:46:27.357Z"
   },
   {
    "duration": 32,
    "start_time": "2022-03-24T09:46:27.378Z"
   },
   {
    "duration": 337,
    "start_time": "2022-03-24T09:46:27.411Z"
   },
   {
    "duration": 1164,
    "start_time": "2022-03-24T09:46:27.749Z"
   },
   {
    "duration": 642,
    "start_time": "2022-03-24T09:46:28.917Z"
   },
   {
    "duration": 624,
    "start_time": "2022-03-24T09:46:29.561Z"
   },
   {
    "duration": 339,
    "start_time": "2022-03-24T09:46:30.187Z"
   },
   {
    "duration": 239,
    "start_time": "2022-03-24T09:46:30.532Z"
   },
   {
    "duration": 179,
    "start_time": "2022-03-24T09:46:30.773Z"
   },
   {
    "duration": 199,
    "start_time": "2022-03-24T09:46:30.953Z"
   },
   {
    "duration": 239,
    "start_time": "2022-03-24T09:46:31.154Z"
   },
   {
    "duration": 168,
    "start_time": "2022-03-24T09:46:31.395Z"
   },
   {
    "duration": 141,
    "start_time": "2022-03-24T09:46:31.565Z"
   },
   {
    "duration": 139,
    "start_time": "2022-03-24T09:46:31.708Z"
   },
   {
    "duration": 0,
    "start_time": "2022-03-24T09:46:31.849Z"
   },
   {
    "duration": 0,
    "start_time": "2022-03-24T09:46:31.850Z"
   },
   {
    "duration": 0,
    "start_time": "2022-03-24T09:46:31.851Z"
   },
   {
    "duration": 0,
    "start_time": "2022-03-24T09:46:31.853Z"
   },
   {
    "duration": 0,
    "start_time": "2022-03-24T09:46:31.854Z"
   },
   {
    "duration": 0,
    "start_time": "2022-03-24T09:46:31.856Z"
   },
   {
    "duration": 0,
    "start_time": "2022-03-24T09:46:31.858Z"
   },
   {
    "duration": 0,
    "start_time": "2022-03-24T09:46:31.859Z"
   },
   {
    "duration": 0,
    "start_time": "2022-03-24T09:46:31.860Z"
   },
   {
    "duration": 0,
    "start_time": "2022-03-24T09:46:31.862Z"
   },
   {
    "duration": 0,
    "start_time": "2022-03-24T09:46:31.863Z"
   },
   {
    "duration": 0,
    "start_time": "2022-03-24T09:46:31.865Z"
   }
  ],
  "kernelspec": {
   "display_name": "Python 3 (ipykernel)",
   "language": "python",
   "name": "python3"
  },
  "language_info": {
   "codemirror_mode": {
    "name": "ipython",
    "version": 3
   },
   "file_extension": ".py",
   "mimetype": "text/x-python",
   "name": "python",
   "nbconvert_exporter": "python",
   "pygments_lexer": "ipython3",
   "version": "3.9.7"
  },
  "toc": {
   "base_numbering": 1,
   "nav_menu": {
    "height": "152.988px",
    "width": "330.488px"
   },
   "number_sections": true,
   "sideBar": true,
   "skip_h1_title": true,
   "title_cell": "Содержание",
   "title_sidebar": "Contents",
   "toc_cell": true,
   "toc_position": {
    "height": "calc(100% - 180px)",
    "left": "10px",
    "top": "150px",
    "width": "282px"
   },
   "toc_section_display": true,
   "toc_window_display": false
  }
 },
 "nbformat": 4,
 "nbformat_minor": 2
}
