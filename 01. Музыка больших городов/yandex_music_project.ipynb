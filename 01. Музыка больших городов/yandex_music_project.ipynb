{
 "cells": [
  {
   "cell_type": "markdown",
   "metadata": {
    "id": "E0vqbgi9ay0H"
   },
   "source": [
    "# Яндекс.Музыка"
   ]
  },
  {
   "cell_type": "markdown",
   "metadata": {
    "id": "VUC88oWjTJw2"
   },
   "source": [
    "Сравнение Москвы и Петербурга окружено мифами. Например:\n",
    " * Москва — мегаполис, подчинённый жёсткому ритму рабочей недели;\n",
    " * Петербург — культурная столица, со своими вкусами.\n",
    "\n",
    "На данных Яндекс.Музыки вы сравните поведение пользователей двух столиц.\n",
    "\n",
    "**Цель исследования** — проверьте три гипотезы:\n",
    "1. Активность пользователей зависит от дня недели. Причём в Москве и Петербурге это проявляется по-разному.\n",
    "2. В понедельник утром в Москве преобладают одни жанры, а в Петербурге — другие. Так же и вечером пятницы преобладают разные жанры — в зависимости от города. \n",
    "3. Москва и Петербург предпочитают разные жанры музыки. В Москве чаще слушают поп-музыку, в Петербурге — русский рэп.\n",
    "\n",
    "**Ход исследования**\n",
    "\n",
    "Данные о поведении пользователей вы получите из файла `yandex_music_project.csv`. О качестве данных ничего не известно. Поэтому перед проверкой гипотез понадобится обзор данных. \n",
    "\n",
    "Вы проверите данные на ошибки и оцените их влияние на исследование. Затем, на этапе предобработки вы поищете возможность исправить самые критичные ошибки данных.\n",
    " \n",
    "Таким образом, исследование пройдёт в три этапа:\n",
    " 1. Обзор данных.\n",
    " 2. Предобработка данных.\n",
    " 3. Проверка гипотез.\n",
    "\n"
   ]
  },
  {
   "cell_type": "markdown",
   "metadata": {
    "id": "Ml1hmfXC_Zcs"
   },
   "source": [
    "## Обзор данных\n",
    "\n",
    "Составьте первое представление о данных Яндекс.Музыки.\n",
    "\n",
    "\n"
   ]
  },
  {
   "cell_type": "markdown",
   "metadata": {
    "id": "57eAOGIz_Zcs"
   },
   "source": [
    "Основной инструмент аналитика — `pandas`. Импортируйте эту библиотеку."
   ]
  },
  {
   "cell_type": "code",
   "execution_count": 1,
   "metadata": {
    "id": "AXN7PHPN_Zcs"
   },
   "outputs": [],
   "source": [
    "import pandas as pd\n",
    "pd.set_option('display.max_columns', None)"
   ]
  },
  {
   "cell_type": "markdown",
   "metadata": {
    "id": "SG23P8tt_Zcs"
   },
   "source": [
    "Прочитайте файл `yandex_music_project.csv` из папки `/datasets` и сохраните его в переменной `df`:"
   ]
  },
  {
   "cell_type": "code",
   "execution_count": 2,
   "metadata": {
    "id": "fFVu7vqh_Zct"
   },
   "outputs": [],
   "source": [
    "df = pd.read_csv('/datasets/yandex_music_project.csv')"
   ]
  },
  {
   "cell_type": "markdown",
   "metadata": {
    "id": "rDoOMd3uTqnZ"
   },
   "source": [
    "Выведите на экран первые десять строк таблицы:"
   ]
  },
  {
   "cell_type": "code",
   "execution_count": 3,
   "metadata": {
    "id": "oWTVX3gW_Zct"
   },
   "outputs": [
    {
     "data": {
      "text/html": [
       "<div>\n",
       "<style scoped>\n",
       "    .dataframe tbody tr th:only-of-type {\n",
       "        vertical-align: middle;\n",
       "    }\n",
       "\n",
       "    .dataframe tbody tr th {\n",
       "        vertical-align: top;\n",
       "    }\n",
       "\n",
       "    .dataframe thead th {\n",
       "        text-align: right;\n",
       "    }\n",
       "</style>\n",
       "<table border=\"1\" class=\"dataframe\">\n",
       "  <thead>\n",
       "    <tr style=\"text-align: right;\">\n",
       "      <th></th>\n",
       "      <th>userID</th>\n",
       "      <th>Track</th>\n",
       "      <th>artist</th>\n",
       "      <th>genre</th>\n",
       "      <th>City</th>\n",
       "      <th>time</th>\n",
       "      <th>Day</th>\n",
       "    </tr>\n",
       "  </thead>\n",
       "  <tbody>\n",
       "    <tr>\n",
       "      <th>0</th>\n",
       "      <td>FFB692EC</td>\n",
       "      <td>Kamigata To Boots</td>\n",
       "      <td>The Mass Missile</td>\n",
       "      <td>rock</td>\n",
       "      <td>Saint-Petersburg</td>\n",
       "      <td>20:28:33</td>\n",
       "      <td>Wednesday</td>\n",
       "    </tr>\n",
       "    <tr>\n",
       "      <th>1</th>\n",
       "      <td>55204538</td>\n",
       "      <td>Delayed Because of Accident</td>\n",
       "      <td>Andreas Rönnberg</td>\n",
       "      <td>rock</td>\n",
       "      <td>Moscow</td>\n",
       "      <td>14:07:09</td>\n",
       "      <td>Friday</td>\n",
       "    </tr>\n",
       "    <tr>\n",
       "      <th>2</th>\n",
       "      <td>20EC38</td>\n",
       "      <td>Funiculì funiculà</td>\n",
       "      <td>Mario Lanza</td>\n",
       "      <td>pop</td>\n",
       "      <td>Saint-Petersburg</td>\n",
       "      <td>20:58:07</td>\n",
       "      <td>Wednesday</td>\n",
       "    </tr>\n",
       "    <tr>\n",
       "      <th>3</th>\n",
       "      <td>A3DD03C9</td>\n",
       "      <td>Dragons in the Sunset</td>\n",
       "      <td>Fire + Ice</td>\n",
       "      <td>folk</td>\n",
       "      <td>Saint-Petersburg</td>\n",
       "      <td>08:37:09</td>\n",
       "      <td>Monday</td>\n",
       "    </tr>\n",
       "    <tr>\n",
       "      <th>4</th>\n",
       "      <td>E2DC1FAE</td>\n",
       "      <td>Soul People</td>\n",
       "      <td>Space Echo</td>\n",
       "      <td>dance</td>\n",
       "      <td>Moscow</td>\n",
       "      <td>08:34:34</td>\n",
       "      <td>Monday</td>\n",
       "    </tr>\n",
       "    <tr>\n",
       "      <th>5</th>\n",
       "      <td>842029A1</td>\n",
       "      <td>Преданная</td>\n",
       "      <td>IMPERVTOR</td>\n",
       "      <td>rusrap</td>\n",
       "      <td>Saint-Petersburg</td>\n",
       "      <td>13:09:41</td>\n",
       "      <td>Friday</td>\n",
       "    </tr>\n",
       "    <tr>\n",
       "      <th>6</th>\n",
       "      <td>4CB90AA5</td>\n",
       "      <td>True</td>\n",
       "      <td>Roman Messer</td>\n",
       "      <td>dance</td>\n",
       "      <td>Moscow</td>\n",
       "      <td>13:00:07</td>\n",
       "      <td>Wednesday</td>\n",
       "    </tr>\n",
       "    <tr>\n",
       "      <th>7</th>\n",
       "      <td>F03E1C1F</td>\n",
       "      <td>Feeling This Way</td>\n",
       "      <td>Polina Griffith</td>\n",
       "      <td>dance</td>\n",
       "      <td>Moscow</td>\n",
       "      <td>20:47:49</td>\n",
       "      <td>Wednesday</td>\n",
       "    </tr>\n",
       "    <tr>\n",
       "      <th>8</th>\n",
       "      <td>8FA1D3BE</td>\n",
       "      <td>И вновь продолжается бой</td>\n",
       "      <td>NaN</td>\n",
       "      <td>ruspop</td>\n",
       "      <td>Moscow</td>\n",
       "      <td>09:17:40</td>\n",
       "      <td>Friday</td>\n",
       "    </tr>\n",
       "    <tr>\n",
       "      <th>9</th>\n",
       "      <td>E772D5C0</td>\n",
       "      <td>Pessimist</td>\n",
       "      <td>NaN</td>\n",
       "      <td>dance</td>\n",
       "      <td>Saint-Petersburg</td>\n",
       "      <td>21:20:49</td>\n",
       "      <td>Wednesday</td>\n",
       "    </tr>\n",
       "  </tbody>\n",
       "</table>\n",
       "</div>"
      ],
      "text/plain": [
       "     userID                        Track            artist   genre  \\\n",
       "0  FFB692EC            Kamigata To Boots  The Mass Missile    rock   \n",
       "1  55204538  Delayed Because of Accident  Andreas Rönnberg    rock   \n",
       "2    20EC38            Funiculì funiculà       Mario Lanza     pop   \n",
       "3  A3DD03C9        Dragons in the Sunset        Fire + Ice    folk   \n",
       "4  E2DC1FAE                  Soul People        Space Echo   dance   \n",
       "5  842029A1                    Преданная         IMPERVTOR  rusrap   \n",
       "6  4CB90AA5                         True      Roman Messer   dance   \n",
       "7  F03E1C1F             Feeling This Way   Polina Griffith   dance   \n",
       "8  8FA1D3BE     И вновь продолжается бой               NaN  ruspop   \n",
       "9  E772D5C0                    Pessimist               NaN   dance   \n",
       "\n",
       "             City        time        Day  \n",
       "0  Saint-Petersburg  20:28:33  Wednesday  \n",
       "1            Moscow  14:07:09     Friday  \n",
       "2  Saint-Petersburg  20:58:07  Wednesday  \n",
       "3  Saint-Petersburg  08:37:09     Monday  \n",
       "4            Moscow  08:34:34     Monday  \n",
       "5  Saint-Petersburg  13:09:41     Friday  \n",
       "6            Moscow  13:00:07  Wednesday  \n",
       "7            Moscow  20:47:49  Wednesday  \n",
       "8            Moscow  09:17:40     Friday  \n",
       "9  Saint-Petersburg  21:20:49  Wednesday  "
      ]
     },
     "execution_count": 3,
     "metadata": {},
     "output_type": "execute_result"
    }
   ],
   "source": [
    "df.head(10)"
   ]
  },
  {
   "cell_type": "markdown",
   "metadata": {
    "id": "EO73Kwic_Zct"
   },
   "source": [
    "Одной командой получить общую информацию о таблице:"
   ]
  },
  {
   "cell_type": "code",
   "execution_count": 4,
   "metadata": {
    "id": "DSf2kIb-_Zct"
   },
   "outputs": [
    {
     "name": "stdout",
     "output_type": "stream",
     "text": [
      "<class 'pandas.core.frame.DataFrame'>\n",
      "RangeIndex: 65079 entries, 0 to 65078\n",
      "Data columns (total 7 columns):\n",
      " #   Column    Non-Null Count  Dtype \n",
      "---  ------    --------------  ----- \n",
      " 0     userID  65079 non-null  object\n",
      " 1   Track     63848 non-null  object\n",
      " 2   artist    57876 non-null  object\n",
      " 3   genre     63881 non-null  object\n",
      " 4     City    65079 non-null  object\n",
      " 5   time      65079 non-null  object\n",
      " 6   Day       65079 non-null  object\n",
      "dtypes: object(7)\n",
      "memory usage: 3.5+ MB\n"
     ]
    }
   ],
   "source": [
    "df.info()"
   ]
  },
  {
   "cell_type": "markdown",
   "metadata": {
    "id": "TaQ2Iwbr_Zct"
   },
   "source": [
    "Итак, в таблице семь столбцов. Тип данных во всех столбцах — `object`.\n",
    "\n",
    "Согласно документации к данным:\n",
    "* `userID` — идентификатор пользователя;\n",
    "* `Track` — название трека;  \n",
    "* `artist` — имя исполнителя;\n",
    "* `genre` — название жанра;\n",
    "* `City` — город пользователя;\n",
    "* `time` — время начала прослушивания;\n",
    "* `Day` — день недели.\n",
    "\n",
    "В названиях колонок видны три нарушения стиля:\n",
    "1. Строчные буквы сочетаются с прописными.\n",
    "2. Встречаются пробелы.\n",
    "3. Найдите ещё одну проблему в названии колонок и опишите её в этом пункте.\n",
    "\n",
    "\n",
    "\n",
    "Количество значений в столбцах различается. Значит, в данных есть пропущенные значения.\n"
   ]
  },
  {
   "cell_type": "markdown",
   "metadata": {
    "id": "MCB6-dXG_Zct"
   },
   "source": [
    "**Выводы**\n",
    "\n",
    "В каждой строке таблицы — данные о прослушанном треке. Часть колонок описывает саму композицию: название, исполнителя и жанр. Остальные данные рассказывают о пользователе: из какого он города, когда он слушал музыку. \n",
    "\n",
    "Предварительно можно утверждать, что, данных достаточно для проверки гипотез. Но встречаются пропуски в данных, а в названиях колонок — расхождения с хорошим стилем.\n",
    "\n",
    "Чтобы двигаться дальше, нужно устранить проблемы в данных."
   ]
  },
  {
   "cell_type": "markdown",
   "metadata": {
    "id": "SjYF6Ub9_Zct"
   },
   "source": [
    "## Предобработка данных\n",
    "Исправьте стиль в заголовках столбцов, исключите пропуски. Затем проверьте данные на дубликаты."
   ]
  },
  {
   "cell_type": "markdown",
   "metadata": {
    "id": "dIaKXr29_Zct"
   },
   "source": [
    "### Стиль заголовков\n",
    "Выведите на экран названия столбцов:"
   ]
  },
  {
   "cell_type": "code",
   "execution_count": 5,
   "metadata": {
    "id": "oKOTdF_Q_Zct"
   },
   "outputs": [
    {
     "data": {
      "text/plain": [
       "Index(['  userID', 'Track', 'artist', 'genre', '  City  ', 'time', 'Day'], dtype='object')"
      ]
     },
     "execution_count": 5,
     "metadata": {},
     "output_type": "execute_result"
    }
   ],
   "source": [
    "df.columns # перечень названий столбцов таблицы df"
   ]
  },
  {
   "cell_type": "markdown",
   "metadata": {
    "id": "FPZA3ki8xe7T"
   },
   "source": []
  },
  {
   "cell_type": "markdown",
   "metadata": {
    "id": "zj5534cv_Zct"
   },
   "source": [
    "Приведите названия в соответствие с хорошим стилем:\n",
    "* несколько слов в названии запишите в «змеином_регистре»,\n",
    "* все символы сделайте строчными,\n",
    "* устраните пробелы.\n",
    "\n",
    "Для этого переименуйте колонки так:\n",
    "* `'  userID'` → `'user_id'`;\n",
    "* `'Track'` → `'track'`;\n",
    "* `'  City  '` → `'city'`;\n",
    "* `'Day'` → `'day'`."
   ]
  },
  {
   "cell_type": "code",
   "execution_count": 6,
   "metadata": {
    "id": "ISlFqs5y_Zct"
   },
   "outputs": [],
   "source": [
    "df = df.rename(columns = {\n",
    "    '  userID': 'user_id',\n",
    "    'Track': 'track_name',\n",
    "    'artist': 'artist_name',\n",
    "    'genre': 'genre_name',\n",
    "    '  City  ': 'city',\n",
    "    'time': 'time',\n",
    "    'Day': 'weekday'\n",
    "    })"
   ]
  },
  {
   "cell_type": "markdown",
   "metadata": {
    "id": "1dqbh00J_Zct"
   },
   "source": [
    "Проверьте результат. Для этого ещё раз выведите на экран названия столбцов:"
   ]
  },
  {
   "cell_type": "code",
   "execution_count": 7,
   "metadata": {
    "id": "d4NOAmTW_Zct"
   },
   "outputs": [
    {
     "data": {
      "text/plain": [
       "['user_id',\n",
       " 'track_name',\n",
       " 'artist_name',\n",
       " 'genre_name',\n",
       " 'city',\n",
       " 'time',\n",
       " 'weekday']"
      ]
     },
     "execution_count": 7,
     "metadata": {},
     "output_type": "execute_result"
    }
   ],
   "source": [
    "list(df) # проверка результатов - перечень названий столбцов"
   ]
  },
  {
   "cell_type": "code",
   "execution_count": 8,
   "metadata": {},
   "outputs": [
    {
     "data": {
      "text/plain": [
       "Index(['user_id', 'track_name', 'artist_name', 'genre_name', 'city', 'time',\n",
       "       'weekday'],\n",
       "      dtype='object')"
      ]
     },
     "execution_count": 8,
     "metadata": {},
     "output_type": "execute_result"
    }
   ],
   "source": [
    "df.columns"
   ]
  },
  {
   "cell_type": "markdown",
   "metadata": {
    "id": "5ISfbcfY_Zct"
   },
   "source": [
    "### Пропуски значений\n",
    "Сначала посчитайте, сколько в таблице пропущенных значений. Для этого достаточно двух методов `pandas`:"
   ]
  },
  {
   "cell_type": "code",
   "execution_count": 9,
   "metadata": {
    "id": "RskX29qr_Zct"
   },
   "outputs": [
    {
     "data": {
      "text/plain": [
       "user_id           0\n",
       "track_name     1231\n",
       "artist_name    7203\n",
       "genre_name     1198\n",
       "city              0\n",
       "time              0\n",
       "weekday           0\n",
       "dtype: int64"
      ]
     },
     "execution_count": 9,
     "metadata": {},
     "output_type": "execute_result"
    }
   ],
   "source": [
    "df.isna().sum() # подсчёт пропусков"
   ]
  },
  {
   "cell_type": "markdown",
   "metadata": {
    "id": "qubhgnlO_Zct"
   },
   "source": [
    "Не все пропущенные значения влияют на исследование. Так в `track` и `artist` пропуски не важны для вашей работы. Достаточно заменить их явными обозначениями.\n",
    "\n",
    "Но пропуски в `genre` могут помешать сравнению музыкальных вкусов в Москве и Санкт-Петербурге. На практике было бы правильно установить причину пропусков и восстановить данные. Такой возможности нет в учебном проекте. Придётся:\n",
    "* заполнить и эти пропуски явными обозначениями,\n",
    "* оценить, насколько они повредят расчётам. "
   ]
  },
  {
   "cell_type": "markdown",
   "metadata": {
    "id": "fSv2laPA_Zct"
   },
   "source": [
    "Замените пропущенные значения в столбцах `track`, `artist` и `genre` на строку `'unknown'`. Для этого создайте список `columns_to_replace`, переберите его элементы циклом `for` и для каждого столбца выполните замену пропущенных значений:"
   ]
  },
  {
   "cell_type": "code",
   "execution_count": 10,
   "metadata": {
    "id": "KplB5qWs_Zct"
   },
   "outputs": [],
   "source": [
    "columns_to_replace = ['track_name', 'artist_name', 'genre_name']\n",
    "for column in columns_to_replace:\n",
    "    df[column] = df[column].fillna('unknown') \n",
    "\n",
    "# перебор названий столбцов в цикле и замена пропущенных значений на 'unknown'"
   ]
  },
  {
   "cell_type": "markdown",
   "metadata": {
    "id": "Ilsm-MZo_Zct"
   },
   "source": [
    "Убедитесь, что в таблице не осталось пропусков. Для этого ещё раз посчитайте пропущенные значения."
   ]
  },
  {
   "cell_type": "code",
   "execution_count": 11,
   "metadata": {
    "id": "Tq4nYRX4_Zct"
   },
   "outputs": [
    {
     "data": {
      "text/plain": [
       "user_id        0\n",
       "track_name     0\n",
       "artist_name    0\n",
       "genre_name     0\n",
       "city           0\n",
       "time           0\n",
       "weekday        0\n",
       "dtype: int64"
      ]
     },
     "execution_count": 11,
     "metadata": {},
     "output_type": "execute_result"
    }
   ],
   "source": [
    "df.isna().sum() # подсчёт пропусков"
   ]
  },
  {
   "cell_type": "markdown",
   "metadata": {
    "id": "BWKRtBJ3_Zct"
   },
   "source": [
    "### Дубликаты\n",
    "Посчитайте явные дубликаты в таблице одной командой:"
   ]
  },
  {
   "cell_type": "code",
   "execution_count": 12,
   "metadata": {
    "id": "36eES_S0_Zct"
   },
   "outputs": [
    {
     "data": {
      "text/plain": [
       "3826"
      ]
     },
     "execution_count": 12,
     "metadata": {},
     "output_type": "execute_result"
    }
   ],
   "source": [
    "df.duplicated().sum() # подсчёт явных дубликатов"
   ]
  },
  {
   "cell_type": "markdown",
   "metadata": {
    "id": "Ot25h6XR_Zct"
   },
   "source": [
    "Вызовите специальный метод `pandas`, чтобы удалить явные дубликаты:"
   ]
  },
  {
   "cell_type": "code",
   "execution_count": 13,
   "metadata": {
    "id": "exFHq6tt_Zct"
   },
   "outputs": [],
   "source": [
    "df = df.drop_duplicates().reset_index(drop=True)\n",
    "# удаление явных дубликатов (с удалением старых индексов и формированием новых)"
   ]
  },
  {
   "cell_type": "markdown",
   "metadata": {
    "id": "Im2YwBEG_Zct"
   },
   "source": [
    "Ещё раз посчитайте явные дубликаты в таблице — убедитесь, что полностью от них избавились:"
   ]
  },
  {
   "cell_type": "code",
   "execution_count": 14,
   "metadata": {
    "id": "-8PuNWQ0_Zct"
   },
   "outputs": [
    {
     "data": {
      "text/plain": [
       "0"
      ]
     },
     "execution_count": 14,
     "metadata": {},
     "output_type": "execute_result"
    }
   ],
   "source": [
    "df.duplicated().sum() # проверка на отсутствие дубликатов"
   ]
  },
  {
   "cell_type": "code",
   "execution_count": 15,
   "metadata": {},
   "outputs": [
    {
     "name": "stdout",
     "output_type": "stream",
     "text": [
      "Количество пропусков: 0\n"
     ]
    }
   ],
   "source": [
    "print(\"Количество пропусков: {}\".format(df.duplicated().sum()))"
   ]
  },
  {
   "cell_type": "markdown",
   "metadata": {
    "id": "QlFBsxAr_Zct"
   },
   "source": [
    "Теперь избавьтесь от неявных дубликатов в колонке `genre`. Например, название одного и того же жанра может быть записано немного по-разному. Такие ошибки тоже повлияют на результат исследования."
   ]
  },
  {
   "cell_type": "markdown",
   "metadata": {
    "id": "eSjWwsOh_Zct"
   },
   "source": [
    "Выведите на экран список уникальных названий жанров, отсортированный в алфавитном порядке. Для этого:\n",
    "* извлеките нужный столбец датафрейма, \n",
    "* примените к нему метод сортировки,\n",
    "* для отсортированного столбца вызовите метод, который вернёт уникальные значения из столбца."
   ]
  },
  {
   "cell_type": "code",
   "execution_count": 16,
   "metadata": {
    "id": "JIUcqzZN_Zct",
    "scrolled": true
   },
   "outputs": [
    {
     "data": {
      "text/plain": [
       "array(['acid', 'acoustic', 'action', 'adult', 'africa', 'afrikaans',\n",
       "       'alternative', 'alternativepunk', 'ambient', 'americana',\n",
       "       'animated', 'anime', 'arabesk', 'arabic', 'arena',\n",
       "       'argentinetango', 'art', 'audiobook', 'author', 'avantgarde',\n",
       "       'axé', 'baile', 'balkan', 'beats', 'bigroom', 'black', 'bluegrass',\n",
       "       'blues', 'bollywood', 'bossa', 'brazilian', 'breakbeat', 'breaks',\n",
       "       'broadway', 'cantautori', 'cantopop', 'canzone', 'caribbean',\n",
       "       'caucasian', 'celtic', 'chamber', 'chanson', 'children', 'chill',\n",
       "       'chinese', 'choral', 'christian', 'christmas', 'classical',\n",
       "       'classicmetal', 'club', 'colombian', 'comedy', 'conjazz',\n",
       "       'contemporary', 'country', 'cuban', 'dance', 'dancehall',\n",
       "       'dancepop', 'dark', 'death', 'deep', 'deutschrock', 'deutschspr',\n",
       "       'dirty', 'disco', 'dnb', 'documentary', 'downbeat', 'downtempo',\n",
       "       'drum', 'dub', 'dubstep', 'eastern', 'easy', 'electronic',\n",
       "       'electropop', 'emo', 'entehno', 'epicmetal', 'estrada', 'ethnic',\n",
       "       'eurofolk', 'european', 'experimental', 'extrememetal', 'fado',\n",
       "       'fairytail', 'film', 'fitness', 'flamenco', 'folk', 'folklore',\n",
       "       'folkmetal', 'folkrock', 'folktronica', 'forró', 'frankreich',\n",
       "       'französisch', 'french', 'funk', 'future', 'gangsta', 'garage',\n",
       "       'german', 'ghazal', 'gitarre', 'glitch', 'gospel', 'gothic',\n",
       "       'grime', 'grunge', 'gypsy', 'handsup', \"hard'n'heavy\", 'hardcore',\n",
       "       'hardstyle', 'hardtechno', 'hip', 'hip-hop', 'hiphop',\n",
       "       'historisch', 'holiday', 'hop', 'horror', 'house', 'hymn', 'idm',\n",
       "       'independent', 'indian', 'indie', 'indipop', 'industrial',\n",
       "       'inspirational', 'instrumental', 'international', 'irish', 'jam',\n",
       "       'japanese', 'jazz', 'jewish', 'jpop', 'jungle', 'k-pop',\n",
       "       'karadeniz', 'karaoke', 'kayokyoku', 'korean', 'laiko', 'latin',\n",
       "       'latino', 'leftfield', 'local', 'lounge', 'loungeelectronic',\n",
       "       'lovers', 'malaysian', 'mandopop', 'marschmusik', 'meditative',\n",
       "       'mediterranean', 'melodic', 'metal', 'metalcore', 'mexican',\n",
       "       'middle', 'minimal', 'miscellaneous', 'modern', 'mood', 'mpb',\n",
       "       'muslim', 'native', 'neoklassik', 'neue', 'new', 'newage',\n",
       "       'newwave', 'nu', 'nujazz', 'numetal', 'oceania', 'old', 'opera',\n",
       "       'orchestral', 'other', 'piano', 'podcasts', 'pop', 'popdance',\n",
       "       'popelectronic', 'popeurodance', 'poprussian', 'post',\n",
       "       'posthardcore', 'postrock', 'power', 'progmetal', 'progressive',\n",
       "       'psychedelic', 'punjabi', 'punk', 'quebecois', 'ragga', 'ram',\n",
       "       'rancheras', 'rap', 'rave', 'reggae', 'reggaeton', 'regional',\n",
       "       'relax', 'religious', 'retro', 'rhythm', 'rnb', 'rnr', 'rock',\n",
       "       'rockabilly', 'rockalternative', 'rockindie', 'rockother',\n",
       "       'romance', 'roots', 'ruspop', 'rusrap', 'rusrock', 'russian',\n",
       "       'salsa', 'samba', 'scenic', 'schlager', 'self', 'sertanejo',\n",
       "       'shanson', 'shoegazing', 'showtunes', 'singer', 'ska', 'skarock',\n",
       "       'slow', 'smooth', 'soft', 'soul', 'soulful', 'sound', 'soundtrack',\n",
       "       'southern', 'specialty', 'speech', 'spiritual', 'sport',\n",
       "       'stonerrock', 'surf', 'swing', 'synthpop', 'synthrock',\n",
       "       'sängerportrait', 'tango', 'tanzorchester', 'taraftar', 'tatar',\n",
       "       'tech', 'techno', 'teen', 'thrash', 'top', 'traditional',\n",
       "       'tradjazz', 'trance', 'tribal', 'trip', 'triphop', 'tropical',\n",
       "       'türk', 'türkçe', 'ukrrock', 'unknown', 'urban', 'uzbek',\n",
       "       'variété', 'vi', 'videogame', 'vocal', 'western', 'world',\n",
       "       'worldbeat', 'ïîï', 'электроника'], dtype=object)"
      ]
     },
     "execution_count": 16,
     "metadata": {},
     "output_type": "execute_result"
    }
   ],
   "source": [
    "df['genre_name'].sort_values().unique() # Просмотр уникальных названий жанров"
   ]
  },
  {
   "cell_type": "markdown",
   "metadata": {
    "id": "qej-Qmuo_Zct"
   },
   "source": [
    "Просмотрите список и найдите неявные дубликаты названия `hiphop`. Это могут быть названия с ошибками или альтернативные названия того же жанра.\n",
    "\n",
    "Вы увидите следующие неявные дубликаты:\n",
    "* *hip*,\n",
    "* *hop*,\n",
    "* *hip-hop*.\n",
    "\n",
    "Чтобы очистить от них таблицу, напишите функцию `replace_wrong_genres()` с двумя параметрами: \n",
    "* `wrong_genres` — список дубликатов,\n",
    "* `correct_genre` — строка с правильным значением.\n",
    "\n",
    "Функция должна исправить колонку `genre` в таблице `df`: заменить каждое значение из списка `wrong_genres` на значение из `correct_genre`."
   ]
  },
  {
   "cell_type": "code",
   "execution_count": 17,
   "metadata": {
    "id": "ErNDkmns_Zct"
   },
   "outputs": [],
   "source": [
    "def replace_wrong_genres(wrong_genres, correct_genre):\n",
    "    for wrong_genre in wrong_genres:\n",
    "        df['genre_name'] = df['genre_name'].replace(wrong_genres, correct_genre)\n",
    "\n",
    " # Функция для замены неявных дубликатов"
   ]
  },
  {
   "cell_type": "markdown",
   "metadata": {
    "id": "aDoBJxbA_Zct"
   },
   "source": [
    "Вызовите `replace_wrong_genres()` и передайте ей такие аргументы, чтобы она устранила неявные дубликаты: вместо `hip`, `hop` и `hip-hop` в таблице должно быть значение `hiphop`:"
   ]
  },
  {
   "cell_type": "code",
   "execution_count": 18,
   "metadata": {
    "id": "YN5i2hpmSo09"
   },
   "outputs": [],
   "source": [
    "duplicates = ['hip', 'hop', 'hip-hop']\n",
    "genre_name = 'hiphop'\n",
    "replace_wrong_genres(duplicates, genre_name) \n",
    "\n",
    "# Устранение неявных дубликатов"
   ]
  },
  {
   "cell_type": "markdown",
   "metadata": {
    "id": "zQKF16_RG15m"
   },
   "source": [
    "Проверьте, что заменили неправильные названия:\n",
    "\n",
    "*   hip\n",
    "*   hop\n",
    "*   hip-hop\n",
    "\n",
    "Выведите отсортированный список уникальных значений столбца `genre`:"
   ]
  },
  {
   "cell_type": "code",
   "execution_count": 19,
   "metadata": {
    "id": "wvixALnFG15m",
    "scrolled": true
   },
   "outputs": [
    {
     "data": {
      "text/plain": [
       "array(['acid', 'acoustic', 'action', 'adult', 'africa', 'afrikaans',\n",
       "       'alternative', 'alternativepunk', 'ambient', 'americana',\n",
       "       'animated', 'anime', 'arabesk', 'arabic', 'arena',\n",
       "       'argentinetango', 'art', 'audiobook', 'author', 'avantgarde',\n",
       "       'axé', 'baile', 'balkan', 'beats', 'bigroom', 'black', 'bluegrass',\n",
       "       'blues', 'bollywood', 'bossa', 'brazilian', 'breakbeat', 'breaks',\n",
       "       'broadway', 'cantautori', 'cantopop', 'canzone', 'caribbean',\n",
       "       'caucasian', 'celtic', 'chamber', 'chanson', 'children', 'chill',\n",
       "       'chinese', 'choral', 'christian', 'christmas', 'classical',\n",
       "       'classicmetal', 'club', 'colombian', 'comedy', 'conjazz',\n",
       "       'contemporary', 'country', 'cuban', 'dance', 'dancehall',\n",
       "       'dancepop', 'dark', 'death', 'deep', 'deutschrock', 'deutschspr',\n",
       "       'dirty', 'disco', 'dnb', 'documentary', 'downbeat', 'downtempo',\n",
       "       'drum', 'dub', 'dubstep', 'eastern', 'easy', 'electronic',\n",
       "       'electropop', 'emo', 'entehno', 'epicmetal', 'estrada', 'ethnic',\n",
       "       'eurofolk', 'european', 'experimental', 'extrememetal', 'fado',\n",
       "       'fairytail', 'film', 'fitness', 'flamenco', 'folk', 'folklore',\n",
       "       'folkmetal', 'folkrock', 'folktronica', 'forró', 'frankreich',\n",
       "       'französisch', 'french', 'funk', 'future', 'gangsta', 'garage',\n",
       "       'german', 'ghazal', 'gitarre', 'glitch', 'gospel', 'gothic',\n",
       "       'grime', 'grunge', 'gypsy', 'handsup', \"hard'n'heavy\", 'hardcore',\n",
       "       'hardstyle', 'hardtechno', 'hiphop', 'historisch', 'holiday',\n",
       "       'horror', 'house', 'hymn', 'idm', 'independent', 'indian', 'indie',\n",
       "       'indipop', 'industrial', 'inspirational', 'instrumental',\n",
       "       'international', 'irish', 'jam', 'japanese', 'jazz', 'jewish',\n",
       "       'jpop', 'jungle', 'k-pop', 'karadeniz', 'karaoke', 'kayokyoku',\n",
       "       'korean', 'laiko', 'latin', 'latino', 'leftfield', 'local',\n",
       "       'lounge', 'loungeelectronic', 'lovers', 'malaysian', 'mandopop',\n",
       "       'marschmusik', 'meditative', 'mediterranean', 'melodic', 'metal',\n",
       "       'metalcore', 'mexican', 'middle', 'minimal', 'miscellaneous',\n",
       "       'modern', 'mood', 'mpb', 'muslim', 'native', 'neoklassik', 'neue',\n",
       "       'new', 'newage', 'newwave', 'nu', 'nujazz', 'numetal', 'oceania',\n",
       "       'old', 'opera', 'orchestral', 'other', 'piano', 'podcasts', 'pop',\n",
       "       'popdance', 'popelectronic', 'popeurodance', 'poprussian', 'post',\n",
       "       'posthardcore', 'postrock', 'power', 'progmetal', 'progressive',\n",
       "       'psychedelic', 'punjabi', 'punk', 'quebecois', 'ragga', 'ram',\n",
       "       'rancheras', 'rap', 'rave', 'reggae', 'reggaeton', 'regional',\n",
       "       'relax', 'religious', 'retro', 'rhythm', 'rnb', 'rnr', 'rock',\n",
       "       'rockabilly', 'rockalternative', 'rockindie', 'rockother',\n",
       "       'romance', 'roots', 'ruspop', 'rusrap', 'rusrock', 'russian',\n",
       "       'salsa', 'samba', 'scenic', 'schlager', 'self', 'sertanejo',\n",
       "       'shanson', 'shoegazing', 'showtunes', 'singer', 'ska', 'skarock',\n",
       "       'slow', 'smooth', 'soft', 'soul', 'soulful', 'sound', 'soundtrack',\n",
       "       'southern', 'specialty', 'speech', 'spiritual', 'sport',\n",
       "       'stonerrock', 'surf', 'swing', 'synthpop', 'synthrock',\n",
       "       'sängerportrait', 'tango', 'tanzorchester', 'taraftar', 'tatar',\n",
       "       'tech', 'techno', 'teen', 'thrash', 'top', 'traditional',\n",
       "       'tradjazz', 'trance', 'tribal', 'trip', 'triphop', 'tropical',\n",
       "       'türk', 'türkçe', 'ukrrock', 'unknown', 'urban', 'uzbek',\n",
       "       'variété', 'vi', 'videogame', 'vocal', 'western', 'world',\n",
       "       'worldbeat', 'ïîï', 'электроника'], dtype=object)"
      ]
     },
     "execution_count": 19,
     "metadata": {},
     "output_type": "execute_result"
    }
   ],
   "source": [
    "df['genre_name'].sort_values().unique() # Проверка на неявные дубликаты"
   ]
  },
  {
   "cell_type": "markdown",
   "metadata": {
    "id": "jz6a9-7HQUDd"
   },
   "source": [
    "**Выводы**\n",
    "\n",
    "Предобработка обнаружила три проблемы в данных:\n",
    "\n",
    "- нарушения в стиле заголовков,\n",
    "- пропущенные значения,\n",
    "- дубликаты — явные и неявные.\n",
    "\n",
    "Вы исправили заголовки, чтобы упростить работу с таблицей. Без дубликатов исследование станет более точным.\n",
    "\n",
    "Пропущенные значения вы заменили на `'unknown'`. Ещё предстоит увидеть, не повредят ли исследованию пропуски в колонке `genre`.\n",
    "\n",
    "Теперь можно перейти к проверке гипотез. "
   ]
  },
  {
   "cell_type": "markdown",
   "metadata": {
    "id": "WttZHXH0SqKk"
   },
   "source": [
    "## Проверка гипотез"
   ]
  },
  {
   "cell_type": "markdown",
   "metadata": {
    "id": "Im936VVi_Zcu"
   },
   "source": [
    "### Сравнение поведения пользователей двух столиц"
   ]
  },
  {
   "cell_type": "markdown",
   "metadata": {
    "id": "nwt_MuaL_Zcu"
   },
   "source": [
    "Первая гипотеза утверждает, что пользователи по-разному слушают музыку в Москве и Санкт-Петербурге. Проверьте это предположение по данным о трёх днях недели — понедельнике, среде и пятнице. Для этого:\n",
    "\n",
    "* Разделите пользователей Москвы и Санкт-Петербурга\n",
    "* Сравните, сколько треков послушала каждая группа пользователей в понедельник, среду и пятницу.\n"
   ]
  },
  {
   "cell_type": "markdown",
   "metadata": {
    "id": "8Dw_YMmT_Zcu"
   },
   "source": [
    "Для тренировки сначала выполните каждый из расчётов по отдельности. \n",
    "\n",
    "Оцените активность пользователей в каждом городе. Сгруппируйте данные по городу и посчитайте прослушивания в каждой группе.\n",
    "\n"
   ]
  },
  {
   "cell_type": "code",
   "execution_count": 20,
   "metadata": {
    "id": "0_Qs96oh_Zcu"
   },
   "outputs": [
    {
     "data": {
      "text/html": [
       "<div>\n",
       "<style scoped>\n",
       "    .dataframe tbody tr th:only-of-type {\n",
       "        vertical-align: middle;\n",
       "    }\n",
       "\n",
       "    .dataframe tbody tr th {\n",
       "        vertical-align: top;\n",
       "    }\n",
       "\n",
       "    .dataframe thead th {\n",
       "        text-align: right;\n",
       "    }\n",
       "</style>\n",
       "<table border=\"1\" class=\"dataframe\">\n",
       "  <thead>\n",
       "    <tr style=\"text-align: right;\">\n",
       "      <th></th>\n",
       "      <th>user_id</th>\n",
       "      <th>track_name</th>\n",
       "      <th>artist_name</th>\n",
       "      <th>genre_name</th>\n",
       "      <th>time</th>\n",
       "      <th>weekday</th>\n",
       "    </tr>\n",
       "    <tr>\n",
       "      <th>city</th>\n",
       "      <th></th>\n",
       "      <th></th>\n",
       "      <th></th>\n",
       "      <th></th>\n",
       "      <th></th>\n",
       "      <th></th>\n",
       "    </tr>\n",
       "  </thead>\n",
       "  <tbody>\n",
       "    <tr>\n",
       "      <th>Moscow</th>\n",
       "      <td>42741</td>\n",
       "      <td>42741</td>\n",
       "      <td>42741</td>\n",
       "      <td>42741</td>\n",
       "      <td>42741</td>\n",
       "      <td>42741</td>\n",
       "    </tr>\n",
       "    <tr>\n",
       "      <th>Saint-Petersburg</th>\n",
       "      <td>18512</td>\n",
       "      <td>18512</td>\n",
       "      <td>18512</td>\n",
       "      <td>18512</td>\n",
       "      <td>18512</td>\n",
       "      <td>18512</td>\n",
       "    </tr>\n",
       "  </tbody>\n",
       "</table>\n",
       "</div>"
      ],
      "text/plain": [
       "                  user_id  track_name  artist_name  genre_name   time  weekday\n",
       "city                                                                          \n",
       "Moscow              42741       42741        42741       42741  42741    42741\n",
       "Saint-Petersburg    18512       18512        18512       18512  18512    18512"
      ]
     },
     "execution_count": 20,
     "metadata": {},
     "output_type": "execute_result"
    }
   ],
   "source": [
    "df.groupby('city').count() # Подсчёт прослушиваний в каждом городе"
   ]
  },
  {
   "cell_type": "code",
   "execution_count": 21,
   "metadata": {},
   "outputs": [
    {
     "data": {
      "text/plain": [
       "city\n",
       "Moscow              42741\n",
       "Saint-Petersburg    18512\n",
       "Name: user_id, dtype: int64"
      ]
     },
     "execution_count": 21,
     "metadata": {},
     "output_type": "execute_result"
    }
   ],
   "source": [
    "df.groupby('city')['user_id'].count() "
   ]
  },
  {
   "cell_type": "markdown",
   "metadata": {
    "id": "dzli3w8o_Zcu"
   },
   "source": [
    "В Москве прослушиваний больше, чем в Петербурге. Из этого не следует, что московские пользователи чаще слушают музыку. Просто самих пользователей в Москве больше.\n",
    "\n",
    "Теперь сгруппируйте данные по дню недели и подсчитайте прослушивания в понедельник, среду и пятницу. Учтите, что в данных есть информация только о прослушиваниях только за эти дни.\n"
   ]
  },
  {
   "cell_type": "code",
   "execution_count": 22,
   "metadata": {
    "id": "uZMKjiJz_Zcu"
   },
   "outputs": [
    {
     "data": {
      "text/html": [
       "<div>\n",
       "<style scoped>\n",
       "    .dataframe tbody tr th:only-of-type {\n",
       "        vertical-align: middle;\n",
       "    }\n",
       "\n",
       "    .dataframe tbody tr th {\n",
       "        vertical-align: top;\n",
       "    }\n",
       "\n",
       "    .dataframe thead th {\n",
       "        text-align: right;\n",
       "    }\n",
       "</style>\n",
       "<table border=\"1\" class=\"dataframe\">\n",
       "  <thead>\n",
       "    <tr style=\"text-align: right;\">\n",
       "      <th></th>\n",
       "      <th>user_id</th>\n",
       "      <th>track_name</th>\n",
       "      <th>artist_name</th>\n",
       "      <th>genre_name</th>\n",
       "      <th>city</th>\n",
       "      <th>time</th>\n",
       "    </tr>\n",
       "    <tr>\n",
       "      <th>weekday</th>\n",
       "      <th></th>\n",
       "      <th></th>\n",
       "      <th></th>\n",
       "      <th></th>\n",
       "      <th></th>\n",
       "      <th></th>\n",
       "    </tr>\n",
       "  </thead>\n",
       "  <tbody>\n",
       "    <tr>\n",
       "      <th>Friday</th>\n",
       "      <td>21840</td>\n",
       "      <td>21840</td>\n",
       "      <td>21840</td>\n",
       "      <td>21840</td>\n",
       "      <td>21840</td>\n",
       "      <td>21840</td>\n",
       "    </tr>\n",
       "    <tr>\n",
       "      <th>Monday</th>\n",
       "      <td>21354</td>\n",
       "      <td>21354</td>\n",
       "      <td>21354</td>\n",
       "      <td>21354</td>\n",
       "      <td>21354</td>\n",
       "      <td>21354</td>\n",
       "    </tr>\n",
       "    <tr>\n",
       "      <th>Wednesday</th>\n",
       "      <td>18059</td>\n",
       "      <td>18059</td>\n",
       "      <td>18059</td>\n",
       "      <td>18059</td>\n",
       "      <td>18059</td>\n",
       "      <td>18059</td>\n",
       "    </tr>\n",
       "  </tbody>\n",
       "</table>\n",
       "</div>"
      ],
      "text/plain": [
       "           user_id  track_name  artist_name  genre_name   city   time\n",
       "weekday                                                              \n",
       "Friday       21840       21840        21840       21840  21840  21840\n",
       "Monday       21354       21354        21354       21354  21354  21354\n",
       "Wednesday    18059       18059        18059       18059  18059  18059"
      ]
     },
     "execution_count": 22,
     "metadata": {},
     "output_type": "execute_result"
    }
   ],
   "source": [
    "df.groupby('weekday').count()# Подсчёт прослушиваний в каждый из трёх дней"
   ]
  },
  {
   "cell_type": "markdown",
   "metadata": {
    "id": "cC2tNrlL_Zcu"
   },
   "source": [
    "В среднем пользователи из двух городов менее активны по средам. Но картина может измениться, если рассмотреть каждый город в отдельности."
   ]
  },
  {
   "cell_type": "markdown",
   "metadata": {
    "id": "POzs8bGa_Zcu"
   },
   "source": [
    "Вы видели, как работает группировка по городу и по дням недели. Теперь напишите функцию, которая объединит два эти расчёта.\n",
    "\n",
    "Создайте функцию `number_tracks()`, которая посчитает прослушивания для заданного дня и города. Ей понадобятся два параметра:\n",
    "* день недели,\n",
    "* название города.\n",
    "\n",
    "В функции сохраните в переменную строки исходной таблицы, у которых значение:\n",
    "  * в колонке `day` равно параметру `day`,\n",
    "  * в колонке `city` равно параметру `city`.\n",
    "\n",
    "Для этого примените последовательную фильтрацию с логической индексацией.\n",
    "\n",
    "Затем посчитайте значения в столбце `user_id` получившейся таблицы. Результат сохраните в новую переменную. Верните эту переменную из функции."
   ]
  },
  {
   "cell_type": "code",
   "execution_count": 23,
   "metadata": {
    "id": "Nz3GdQB1_Zcu"
   },
   "outputs": [],
   "source": [
    "def number_tracks(weekday, city):\n",
    "    track_list = df[(df['weekday'] == weekday) & (df['city'] == city)]\n",
    "    track_list_count = track_list['user_id'].count()\n",
    "    return track_list\n",
    "\n",
    "# Функция для подсчёта прослушиваний для конкретного города и дня.\n",
    "# С помощью последовательной фильтрации с логической индексацией она \n",
    "# сначала получит из исходной таблицы строки с нужным днём,\n",
    "# затем из результата отфильтрует строки с нужным городом,\n",
    "# методом count() посчитает количество значений в колонке user_id. \n",
    "# Это количество функция вернёт в качестве результата"
   ]
  },
  {
   "cell_type": "markdown",
   "metadata": {
    "id": "ytf7xFrFJQ2r"
   },
   "source": [
    "Вызовите `number_tracks()` шесть раз, меняя значение параметров — так, чтобы получить данные для каждого города в каждый из трёх дней."
   ]
  },
  {
   "cell_type": "code",
   "execution_count": 24,
   "metadata": {
    "id": "rJcRATNQ_Zcu"
   },
   "outputs": [
    {
     "data": {
      "text/html": [
       "<div>\n",
       "<style scoped>\n",
       "    .dataframe tbody tr th:only-of-type {\n",
       "        vertical-align: middle;\n",
       "    }\n",
       "\n",
       "    .dataframe tbody tr th {\n",
       "        vertical-align: top;\n",
       "    }\n",
       "\n",
       "    .dataframe thead th {\n",
       "        text-align: right;\n",
       "    }\n",
       "</style>\n",
       "<table border=\"1\" class=\"dataframe\">\n",
       "  <thead>\n",
       "    <tr style=\"text-align: right;\">\n",
       "      <th></th>\n",
       "      <th>user_id</th>\n",
       "      <th>track_name</th>\n",
       "      <th>artist_name</th>\n",
       "      <th>genre_name</th>\n",
       "      <th>city</th>\n",
       "      <th>time</th>\n",
       "      <th>weekday</th>\n",
       "    </tr>\n",
       "  </thead>\n",
       "  <tbody>\n",
       "    <tr>\n",
       "      <th>4</th>\n",
       "      <td>E2DC1FAE</td>\n",
       "      <td>Soul People</td>\n",
       "      <td>Space Echo</td>\n",
       "      <td>dance</td>\n",
       "      <td>Moscow</td>\n",
       "      <td>08:34:34</td>\n",
       "      <td>Monday</td>\n",
       "    </tr>\n",
       "    <tr>\n",
       "      <th>10</th>\n",
       "      <td>BC5A3A29</td>\n",
       "      <td>Gool la Mita</td>\n",
       "      <td>Shireen Abdul Wahab</td>\n",
       "      <td>world</td>\n",
       "      <td>Moscow</td>\n",
       "      <td>14:08:42</td>\n",
       "      <td>Monday</td>\n",
       "    </tr>\n",
       "    <tr>\n",
       "      <th>11</th>\n",
       "      <td>8B5192C0</td>\n",
       "      <td>Is There Anybody Out There? (Panoramic Paralys...</td>\n",
       "      <td>Pink Floyd Floydhead</td>\n",
       "      <td>electronic</td>\n",
       "      <td>Moscow</td>\n",
       "      <td>13:47:49</td>\n",
       "      <td>Monday</td>\n",
       "    </tr>\n",
       "    <tr>\n",
       "      <th>12</th>\n",
       "      <td>FF3FD2BD</td>\n",
       "      <td>Мина син генэ кирэк</td>\n",
       "      <td>Ильдар Хакимов</td>\n",
       "      <td>pop</td>\n",
       "      <td>Moscow</td>\n",
       "      <td>09:19:49</td>\n",
       "      <td>Monday</td>\n",
       "    </tr>\n",
       "    <tr>\n",
       "      <th>15</th>\n",
       "      <td>E3C5756F</td>\n",
       "      <td>unknown</td>\n",
       "      <td>unknown</td>\n",
       "      <td>unknown</td>\n",
       "      <td>Moscow</td>\n",
       "      <td>09:24:51</td>\n",
       "      <td>Monday</td>\n",
       "    </tr>\n",
       "    <tr>\n",
       "      <th>...</th>\n",
       "      <td>...</td>\n",
       "      <td>...</td>\n",
       "      <td>...</td>\n",
       "      <td>...</td>\n",
       "      <td>...</td>\n",
       "      <td>...</td>\n",
       "      <td>...</td>\n",
       "    </tr>\n",
       "    <tr>\n",
       "      <th>61213</th>\n",
       "      <td>3D9BF4F3</td>\n",
       "      <td>Alarm</td>\n",
       "      <td>Wise Blood</td>\n",
       "      <td>alternative</td>\n",
       "      <td>Moscow</td>\n",
       "      <td>20:50:35</td>\n",
       "      <td>Monday</td>\n",
       "    </tr>\n",
       "    <tr>\n",
       "      <th>61219</th>\n",
       "      <td>57B3F0CE</td>\n",
       "      <td>Флоу</td>\n",
       "      <td>Yanix</td>\n",
       "      <td>rusrap</td>\n",
       "      <td>Moscow</td>\n",
       "      <td>20:50:13</td>\n",
       "      <td>Monday</td>\n",
       "    </tr>\n",
       "    <tr>\n",
       "      <th>61224</th>\n",
       "      <td>9656377C</td>\n",
       "      <td>Algun Dia</td>\n",
       "      <td>Om Ovnimoon</td>\n",
       "      <td>downtempo</td>\n",
       "      <td>Moscow</td>\n",
       "      <td>08:10:59</td>\n",
       "      <td>Monday</td>\n",
       "    </tr>\n",
       "    <tr>\n",
       "      <th>61225</th>\n",
       "      <td>85A7CFD3</td>\n",
       "      <td>Working Class Hero</td>\n",
       "      <td>Marianne Faithfull</td>\n",
       "      <td>rock</td>\n",
       "      <td>Moscow</td>\n",
       "      <td>14:51:37</td>\n",
       "      <td>Monday</td>\n",
       "    </tr>\n",
       "    <tr>\n",
       "      <th>61247</th>\n",
       "      <td>83A474E7</td>\n",
       "      <td>I Worship Only What You Bleed</td>\n",
       "      <td>The Black Dahlia Murder</td>\n",
       "      <td>extrememetal</td>\n",
       "      <td>Moscow</td>\n",
       "      <td>21:07:12</td>\n",
       "      <td>Monday</td>\n",
       "    </tr>\n",
       "  </tbody>\n",
       "</table>\n",
       "<p>15740 rows × 7 columns</p>\n",
       "</div>"
      ],
      "text/plain": [
       "        user_id                                         track_name  \\\n",
       "4      E2DC1FAE                                        Soul People   \n",
       "10     BC5A3A29                                       Gool la Mita   \n",
       "11     8B5192C0  Is There Anybody Out There? (Panoramic Paralys...   \n",
       "12     FF3FD2BD                                Мина син генэ кирэк   \n",
       "15     E3C5756F                                            unknown   \n",
       "...         ...                                                ...   \n",
       "61213  3D9BF4F3                                              Alarm   \n",
       "61219  57B3F0CE                                               Флоу   \n",
       "61224  9656377C                                          Algun Dia   \n",
       "61225  85A7CFD3                                 Working Class Hero   \n",
       "61247  83A474E7                      I Worship Only What You Bleed   \n",
       "\n",
       "                   artist_name    genre_name    city      time weekday  \n",
       "4                   Space Echo         dance  Moscow  08:34:34  Monday  \n",
       "10         Shireen Abdul Wahab         world  Moscow  14:08:42  Monday  \n",
       "11        Pink Floyd Floydhead    electronic  Moscow  13:47:49  Monday  \n",
       "12              Ильдар Хакимов           pop  Moscow  09:19:49  Monday  \n",
       "15                     unknown       unknown  Moscow  09:24:51  Monday  \n",
       "...                        ...           ...     ...       ...     ...  \n",
       "61213               Wise Blood   alternative  Moscow  20:50:35  Monday  \n",
       "61219                    Yanix        rusrap  Moscow  20:50:13  Monday  \n",
       "61224              Om Ovnimoon     downtempo  Moscow  08:10:59  Monday  \n",
       "61225       Marianne Faithfull          rock  Moscow  14:51:37  Monday  \n",
       "61247  The Black Dahlia Murder  extrememetal  Moscow  21:07:12  Monday  \n",
       "\n",
       "[15740 rows x 7 columns]"
      ]
     },
     "execution_count": 24,
     "metadata": {},
     "output_type": "execute_result"
    }
   ],
   "source": [
    "number_tracks('Monday', 'Moscow') # количество прослушиваний в Москве по понедельникам"
   ]
  },
  {
   "cell_type": "code",
   "execution_count": 25,
   "metadata": {
    "id": "hq_ncZ5T_Zcu"
   },
   "outputs": [
    {
     "data": {
      "text/html": [
       "<div>\n",
       "<style scoped>\n",
       "    .dataframe tbody tr th:only-of-type {\n",
       "        vertical-align: middle;\n",
       "    }\n",
       "\n",
       "    .dataframe tbody tr th {\n",
       "        vertical-align: top;\n",
       "    }\n",
       "\n",
       "    .dataframe thead th {\n",
       "        text-align: right;\n",
       "    }\n",
       "</style>\n",
       "<table border=\"1\" class=\"dataframe\">\n",
       "  <thead>\n",
       "    <tr style=\"text-align: right;\">\n",
       "      <th></th>\n",
       "      <th>user_id</th>\n",
       "      <th>track_name</th>\n",
       "      <th>artist_name</th>\n",
       "      <th>genre_name</th>\n",
       "      <th>city</th>\n",
       "      <th>time</th>\n",
       "      <th>weekday</th>\n",
       "    </tr>\n",
       "  </thead>\n",
       "  <tbody>\n",
       "    <tr>\n",
       "      <th>3</th>\n",
       "      <td>A3DD03C9</td>\n",
       "      <td>Dragons in the Sunset</td>\n",
       "      <td>Fire + Ice</td>\n",
       "      <td>folk</td>\n",
       "      <td>Saint-Petersburg</td>\n",
       "      <td>08:37:09</td>\n",
       "      <td>Monday</td>\n",
       "    </tr>\n",
       "    <tr>\n",
       "      <th>16</th>\n",
       "      <td>81D05C7D</td>\n",
       "      <td>SLAVES OF FEAR</td>\n",
       "      <td>HEALTH</td>\n",
       "      <td>alternative</td>\n",
       "      <td>Saint-Petersburg</td>\n",
       "      <td>20:54:48</td>\n",
       "      <td>Monday</td>\n",
       "    </tr>\n",
       "    <tr>\n",
       "      <th>17</th>\n",
       "      <td>39DE290E</td>\n",
       "      <td>Веснянка</td>\n",
       "      <td>Веданъ Колодъ</td>\n",
       "      <td>folk</td>\n",
       "      <td>Saint-Petersburg</td>\n",
       "      <td>14:36:47</td>\n",
       "      <td>Monday</td>\n",
       "    </tr>\n",
       "    <tr>\n",
       "      <th>18</th>\n",
       "      <td>58AE138A</td>\n",
       "      <td>Pat-a-Cake</td>\n",
       "      <td>Mother Goose Club</td>\n",
       "      <td>children</td>\n",
       "      <td>Saint-Petersburg</td>\n",
       "      <td>20:04:56</td>\n",
       "      <td>Monday</td>\n",
       "    </tr>\n",
       "    <tr>\n",
       "      <th>26</th>\n",
       "      <td>982219FD</td>\n",
       "      <td>We Not Speak Americano</td>\n",
       "      <td>Genio Band</td>\n",
       "      <td>pop</td>\n",
       "      <td>Saint-Petersburg</td>\n",
       "      <td>20:03:03</td>\n",
       "      <td>Monday</td>\n",
       "    </tr>\n",
       "    <tr>\n",
       "      <th>...</th>\n",
       "      <td>...</td>\n",
       "      <td>...</td>\n",
       "      <td>...</td>\n",
       "      <td>...</td>\n",
       "      <td>...</td>\n",
       "      <td>...</td>\n",
       "      <td>...</td>\n",
       "    </tr>\n",
       "    <tr>\n",
       "      <th>61239</th>\n",
       "      <td>D94F810B</td>\n",
       "      <td>Theme from the Walking Dead</td>\n",
       "      <td>Proyecto Halloween</td>\n",
       "      <td>film</td>\n",
       "      <td>Saint-Petersburg</td>\n",
       "      <td>21:14:40</td>\n",
       "      <td>Monday</td>\n",
       "    </tr>\n",
       "    <tr>\n",
       "      <th>61240</th>\n",
       "      <td>BC8EC5CF</td>\n",
       "      <td>Red Lips: Gta (Rover Rework)</td>\n",
       "      <td>Rover</td>\n",
       "      <td>electronic</td>\n",
       "      <td>Saint-Petersburg</td>\n",
       "      <td>21:06:50</td>\n",
       "      <td>Monday</td>\n",
       "    </tr>\n",
       "    <tr>\n",
       "      <th>61241</th>\n",
       "      <td>29E04611</td>\n",
       "      <td>Bre Petrunko</td>\n",
       "      <td>Perunika Trio</td>\n",
       "      <td>world</td>\n",
       "      <td>Saint-Petersburg</td>\n",
       "      <td>13:56:00</td>\n",
       "      <td>Monday</td>\n",
       "    </tr>\n",
       "    <tr>\n",
       "      <th>61242</th>\n",
       "      <td>1B91C621</td>\n",
       "      <td>(Hello) Cloud Mountain</td>\n",
       "      <td>sleepmakeswaves</td>\n",
       "      <td>postrock</td>\n",
       "      <td>Saint-Petersburg</td>\n",
       "      <td>09:22:13</td>\n",
       "      <td>Monday</td>\n",
       "    </tr>\n",
       "    <tr>\n",
       "      <th>61249</th>\n",
       "      <td>D08D4A55</td>\n",
       "      <td>Maybe One Day (feat. Black Spade)</td>\n",
       "      <td>Blu &amp; Exile</td>\n",
       "      <td>hiphop</td>\n",
       "      <td>Saint-Petersburg</td>\n",
       "      <td>10:00:00</td>\n",
       "      <td>Monday</td>\n",
       "    </tr>\n",
       "  </tbody>\n",
       "</table>\n",
       "<p>5614 rows × 7 columns</p>\n",
       "</div>"
      ],
      "text/plain": [
       "        user_id                         track_name         artist_name  \\\n",
       "3      A3DD03C9              Dragons in the Sunset          Fire + Ice   \n",
       "16     81D05C7D                     SLAVES OF FEAR              HEALTH   \n",
       "17     39DE290E                           Веснянка       Веданъ Колодъ   \n",
       "18     58AE138A                         Pat-a-Cake   Mother Goose Club   \n",
       "26     982219FD             We Not Speak Americano          Genio Band   \n",
       "...         ...                                ...                 ...   \n",
       "61239  D94F810B        Theme from the Walking Dead  Proyecto Halloween   \n",
       "61240  BC8EC5CF       Red Lips: Gta (Rover Rework)               Rover   \n",
       "61241  29E04611                       Bre Petrunko       Perunika Trio   \n",
       "61242  1B91C621             (Hello) Cloud Mountain     sleepmakeswaves   \n",
       "61249  D08D4A55  Maybe One Day (feat. Black Spade)         Blu & Exile   \n",
       "\n",
       "        genre_name              city      time weekday  \n",
       "3             folk  Saint-Petersburg  08:37:09  Monday  \n",
       "16     alternative  Saint-Petersburg  20:54:48  Monday  \n",
       "17            folk  Saint-Petersburg  14:36:47  Monday  \n",
       "18        children  Saint-Petersburg  20:04:56  Monday  \n",
       "26             pop  Saint-Petersburg  20:03:03  Monday  \n",
       "...            ...               ...       ...     ...  \n",
       "61239         film  Saint-Petersburg  21:14:40  Monday  \n",
       "61240   electronic  Saint-Petersburg  21:06:50  Monday  \n",
       "61241        world  Saint-Petersburg  13:56:00  Monday  \n",
       "61242     postrock  Saint-Petersburg  09:22:13  Monday  \n",
       "61249       hiphop  Saint-Petersburg  10:00:00  Monday  \n",
       "\n",
       "[5614 rows x 7 columns]"
      ]
     },
     "execution_count": 25,
     "metadata": {},
     "output_type": "execute_result"
    }
   ],
   "source": [
    "number_tracks('Monday', 'Saint-Petersburg')# количество прослушиваний в Санкт-Петербурге по понедельникам"
   ]
  },
  {
   "cell_type": "code",
   "execution_count": 26,
   "metadata": {
    "id": "_NTy2VPU_Zcu"
   },
   "outputs": [
    {
     "data": {
      "text/html": [
       "<div>\n",
       "<style scoped>\n",
       "    .dataframe tbody tr th:only-of-type {\n",
       "        vertical-align: middle;\n",
       "    }\n",
       "\n",
       "    .dataframe tbody tr th {\n",
       "        vertical-align: top;\n",
       "    }\n",
       "\n",
       "    .dataframe thead th {\n",
       "        text-align: right;\n",
       "    }\n",
       "</style>\n",
       "<table border=\"1\" class=\"dataframe\">\n",
       "  <thead>\n",
       "    <tr style=\"text-align: right;\">\n",
       "      <th></th>\n",
       "      <th>user_id</th>\n",
       "      <th>track_name</th>\n",
       "      <th>artist_name</th>\n",
       "      <th>genre_name</th>\n",
       "      <th>city</th>\n",
       "      <th>time</th>\n",
       "      <th>weekday</th>\n",
       "    </tr>\n",
       "  </thead>\n",
       "  <tbody>\n",
       "    <tr>\n",
       "      <th>6</th>\n",
       "      <td>4CB90AA5</td>\n",
       "      <td>True</td>\n",
       "      <td>Roman Messer</td>\n",
       "      <td>dance</td>\n",
       "      <td>Moscow</td>\n",
       "      <td>13:00:07</td>\n",
       "      <td>Wednesday</td>\n",
       "    </tr>\n",
       "    <tr>\n",
       "      <th>7</th>\n",
       "      <td>F03E1C1F</td>\n",
       "      <td>Feeling This Way</td>\n",
       "      <td>Polina Griffith</td>\n",
       "      <td>dance</td>\n",
       "      <td>Moscow</td>\n",
       "      <td>20:47:49</td>\n",
       "      <td>Wednesday</td>\n",
       "    </tr>\n",
       "    <tr>\n",
       "      <th>19</th>\n",
       "      <td>772F5B59</td>\n",
       "      <td>Sweetback</td>\n",
       "      <td>The Fabulous Three</td>\n",
       "      <td>rnb</td>\n",
       "      <td>Moscow</td>\n",
       "      <td>13:56:42</td>\n",
       "      <td>Wednesday</td>\n",
       "    </tr>\n",
       "    <tr>\n",
       "      <th>28</th>\n",
       "      <td>D8D698A9</td>\n",
       "      <td>Romantici</td>\n",
       "      <td>Viola Valentino</td>\n",
       "      <td>pop</td>\n",
       "      <td>Moscow</td>\n",
       "      <td>08:23:21</td>\n",
       "      <td>Wednesday</td>\n",
       "    </tr>\n",
       "    <tr>\n",
       "      <th>36</th>\n",
       "      <td>FCDF1C8E</td>\n",
       "      <td>Nasebanaru</td>\n",
       "      <td>Zen</td>\n",
       "      <td>reggae</td>\n",
       "      <td>Moscow</td>\n",
       "      <td>20:19:36</td>\n",
       "      <td>Wednesday</td>\n",
       "    </tr>\n",
       "    <tr>\n",
       "      <th>...</th>\n",
       "      <td>...</td>\n",
       "      <td>...</td>\n",
       "      <td>...</td>\n",
       "      <td>...</td>\n",
       "      <td>...</td>\n",
       "      <td>...</td>\n",
       "      <td>...</td>\n",
       "    </tr>\n",
       "    <tr>\n",
       "      <th>61232</th>\n",
       "      <td>6A71CB92</td>\n",
       "      <td>Remind Me To Forget You</td>\n",
       "      <td>Sarah Geronimo</td>\n",
       "      <td>pop</td>\n",
       "      <td>Moscow</td>\n",
       "      <td>14:21:28</td>\n",
       "      <td>Wednesday</td>\n",
       "    </tr>\n",
       "    <tr>\n",
       "      <th>61234</th>\n",
       "      <td>8624CE71</td>\n",
       "      <td>Treasures and Trolls</td>\n",
       "      <td>Tera Melos</td>\n",
       "      <td>alternative</td>\n",
       "      <td>Moscow</td>\n",
       "      <td>13:02:57</td>\n",
       "      <td>Wednesday</td>\n",
       "    </tr>\n",
       "    <tr>\n",
       "      <th>61236</th>\n",
       "      <td>574EBCB0</td>\n",
       "      <td>Turn up the Radio</td>\n",
       "      <td>Autograph</td>\n",
       "      <td>rock</td>\n",
       "      <td>Moscow</td>\n",
       "      <td>13:45:39</td>\n",
       "      <td>Wednesday</td>\n",
       "    </tr>\n",
       "    <tr>\n",
       "      <th>61243</th>\n",
       "      <td>9E65547F</td>\n",
       "      <td>Fascinating Rhythm</td>\n",
       "      <td>Mark Murphy</td>\n",
       "      <td>jazz</td>\n",
       "      <td>Moscow</td>\n",
       "      <td>20:29:09</td>\n",
       "      <td>Wednesday</td>\n",
       "    </tr>\n",
       "    <tr>\n",
       "      <th>61248</th>\n",
       "      <td>729CBB09</td>\n",
       "      <td>My Name</td>\n",
       "      <td>McLean</td>\n",
       "      <td>rnb</td>\n",
       "      <td>Moscow</td>\n",
       "      <td>13:32:28</td>\n",
       "      <td>Wednesday</td>\n",
       "    </tr>\n",
       "  </tbody>\n",
       "</table>\n",
       "<p>11056 rows × 7 columns</p>\n",
       "</div>"
      ],
      "text/plain": [
       "        user_id               track_name         artist_name   genre_name  \\\n",
       "6      4CB90AA5                     True        Roman Messer        dance   \n",
       "7      F03E1C1F         Feeling This Way     Polina Griffith        dance   \n",
       "19     772F5B59                Sweetback  The Fabulous Three          rnb   \n",
       "28     D8D698A9                Romantici     Viola Valentino          pop   \n",
       "36     FCDF1C8E               Nasebanaru                 Zen       reggae   \n",
       "...         ...                      ...                 ...          ...   \n",
       "61232  6A71CB92  Remind Me To Forget You      Sarah Geronimo          pop   \n",
       "61234  8624CE71     Treasures and Trolls          Tera Melos  alternative   \n",
       "61236  574EBCB0        Turn up the Radio           Autograph         rock   \n",
       "61243  9E65547F       Fascinating Rhythm         Mark Murphy         jazz   \n",
       "61248  729CBB09                  My Name              McLean          rnb   \n",
       "\n",
       "         city      time    weekday  \n",
       "6      Moscow  13:00:07  Wednesday  \n",
       "7      Moscow  20:47:49  Wednesday  \n",
       "19     Moscow  13:56:42  Wednesday  \n",
       "28     Moscow  08:23:21  Wednesday  \n",
       "36     Moscow  20:19:36  Wednesday  \n",
       "...       ...       ...        ...  \n",
       "61232  Moscow  14:21:28  Wednesday  \n",
       "61234  Moscow  13:02:57  Wednesday  \n",
       "61236  Moscow  13:45:39  Wednesday  \n",
       "61243  Moscow  20:29:09  Wednesday  \n",
       "61248  Moscow  13:32:28  Wednesday  \n",
       "\n",
       "[11056 rows x 7 columns]"
      ]
     },
     "execution_count": 26,
     "metadata": {},
     "output_type": "execute_result"
    }
   ],
   "source": [
    "number_tracks('Wednesday', 'Moscow')# количество прослушиваний в Москве по средам"
   ]
  },
  {
   "cell_type": "code",
   "execution_count": 27,
   "metadata": {
    "id": "j2y3TAwo_Zcu"
   },
   "outputs": [
    {
     "data": {
      "text/html": [
       "<div>\n",
       "<style scoped>\n",
       "    .dataframe tbody tr th:only-of-type {\n",
       "        vertical-align: middle;\n",
       "    }\n",
       "\n",
       "    .dataframe tbody tr th {\n",
       "        vertical-align: top;\n",
       "    }\n",
       "\n",
       "    .dataframe thead th {\n",
       "        text-align: right;\n",
       "    }\n",
       "</style>\n",
       "<table border=\"1\" class=\"dataframe\">\n",
       "  <thead>\n",
       "    <tr style=\"text-align: right;\">\n",
       "      <th></th>\n",
       "      <th>user_id</th>\n",
       "      <th>track_name</th>\n",
       "      <th>artist_name</th>\n",
       "      <th>genre_name</th>\n",
       "      <th>city</th>\n",
       "      <th>time</th>\n",
       "      <th>weekday</th>\n",
       "    </tr>\n",
       "  </thead>\n",
       "  <tbody>\n",
       "    <tr>\n",
       "      <th>0</th>\n",
       "      <td>FFB692EC</td>\n",
       "      <td>Kamigata To Boots</td>\n",
       "      <td>The Mass Missile</td>\n",
       "      <td>rock</td>\n",
       "      <td>Saint-Petersburg</td>\n",
       "      <td>20:28:33</td>\n",
       "      <td>Wednesday</td>\n",
       "    </tr>\n",
       "    <tr>\n",
       "      <th>2</th>\n",
       "      <td>20EC38</td>\n",
       "      <td>Funiculì funiculà</td>\n",
       "      <td>Mario Lanza</td>\n",
       "      <td>pop</td>\n",
       "      <td>Saint-Petersburg</td>\n",
       "      <td>20:58:07</td>\n",
       "      <td>Wednesday</td>\n",
       "    </tr>\n",
       "    <tr>\n",
       "      <th>9</th>\n",
       "      <td>E772D5C0</td>\n",
       "      <td>Pessimist</td>\n",
       "      <td>unknown</td>\n",
       "      <td>dance</td>\n",
       "      <td>Saint-Petersburg</td>\n",
       "      <td>21:20:49</td>\n",
       "      <td>Wednesday</td>\n",
       "    </tr>\n",
       "    <tr>\n",
       "      <th>14</th>\n",
       "      <td>94EB25C2</td>\n",
       "      <td>Make Love Whenever You Can</td>\n",
       "      <td>Arabesque</td>\n",
       "      <td>pop</td>\n",
       "      <td>Saint-Petersburg</td>\n",
       "      <td>13:22:08</td>\n",
       "      <td>Wednesday</td>\n",
       "    </tr>\n",
       "    <tr>\n",
       "      <th>22</th>\n",
       "      <td>B8E29C9C</td>\n",
       "      <td>Самота</td>\n",
       "      <td>unknown</td>\n",
       "      <td>folk</td>\n",
       "      <td>Saint-Petersburg</td>\n",
       "      <td>20:20:49</td>\n",
       "      <td>Wednesday</td>\n",
       "    </tr>\n",
       "    <tr>\n",
       "      <th>...</th>\n",
       "      <td>...</td>\n",
       "      <td>...</td>\n",
       "      <td>...</td>\n",
       "      <td>...</td>\n",
       "      <td>...</td>\n",
       "      <td>...</td>\n",
       "      <td>...</td>\n",
       "    </tr>\n",
       "    <tr>\n",
       "      <th>61206</th>\n",
       "      <td>B6AE319B</td>\n",
       "      <td>Mind Body and Soul</td>\n",
       "      <td>Kidd Kurrupt</td>\n",
       "      <td>dance</td>\n",
       "      <td>Saint-Petersburg</td>\n",
       "      <td>14:43:29</td>\n",
       "      <td>Wednesday</td>\n",
       "    </tr>\n",
       "    <tr>\n",
       "      <th>61209</th>\n",
       "      <td>27047C8</td>\n",
       "      <td>Револьвер</td>\n",
       "      <td>unknown</td>\n",
       "      <td>rusrap</td>\n",
       "      <td>Saint-Petersburg</td>\n",
       "      <td>21:52:57</td>\n",
       "      <td>Wednesday</td>\n",
       "    </tr>\n",
       "    <tr>\n",
       "      <th>61217</th>\n",
       "      <td>64E06740</td>\n",
       "      <td>I Used To</td>\n",
       "      <td>Lunatic Wolf</td>\n",
       "      <td>rock</td>\n",
       "      <td>Saint-Petersburg</td>\n",
       "      <td>14:18:41</td>\n",
       "      <td>Wednesday</td>\n",
       "    </tr>\n",
       "    <tr>\n",
       "      <th>61223</th>\n",
       "      <td>95104ED1</td>\n",
       "      <td>Break the Mold</td>\n",
       "      <td>Authority Zero</td>\n",
       "      <td>punk</td>\n",
       "      <td>Saint-Petersburg</td>\n",
       "      <td>13:49:40</td>\n",
       "      <td>Wednesday</td>\n",
       "    </tr>\n",
       "    <tr>\n",
       "      <th>61237</th>\n",
       "      <td>F170C7C0</td>\n",
       "      <td>Back to Black</td>\n",
       "      <td>Soul Deep</td>\n",
       "      <td>rnb</td>\n",
       "      <td>Saint-Petersburg</td>\n",
       "      <td>14:30:52</td>\n",
       "      <td>Wednesday</td>\n",
       "    </tr>\n",
       "  </tbody>\n",
       "</table>\n",
       "<p>7003 rows × 7 columns</p>\n",
       "</div>"
      ],
      "text/plain": [
       "        user_id                  track_name       artist_name genre_name  \\\n",
       "0      FFB692EC           Kamigata To Boots  The Mass Missile       rock   \n",
       "2        20EC38           Funiculì funiculà       Mario Lanza        pop   \n",
       "9      E772D5C0                   Pessimist           unknown      dance   \n",
       "14     94EB25C2  Make Love Whenever You Can         Arabesque        pop   \n",
       "22     B8E29C9C                      Самота           unknown       folk   \n",
       "...         ...                         ...               ...        ...   \n",
       "61206  B6AE319B          Mind Body and Soul      Kidd Kurrupt      dance   \n",
       "61209   27047C8                   Револьвер           unknown     rusrap   \n",
       "61217  64E06740                   I Used To      Lunatic Wolf       rock   \n",
       "61223  95104ED1              Break the Mold    Authority Zero       punk   \n",
       "61237  F170C7C0               Back to Black         Soul Deep        rnb   \n",
       "\n",
       "                   city      time    weekday  \n",
       "0      Saint-Petersburg  20:28:33  Wednesday  \n",
       "2      Saint-Petersburg  20:58:07  Wednesday  \n",
       "9      Saint-Petersburg  21:20:49  Wednesday  \n",
       "14     Saint-Petersburg  13:22:08  Wednesday  \n",
       "22     Saint-Petersburg  20:20:49  Wednesday  \n",
       "...                 ...       ...        ...  \n",
       "61206  Saint-Petersburg  14:43:29  Wednesday  \n",
       "61209  Saint-Petersburg  21:52:57  Wednesday  \n",
       "61217  Saint-Petersburg  14:18:41  Wednesday  \n",
       "61223  Saint-Petersburg  13:49:40  Wednesday  \n",
       "61237  Saint-Petersburg  14:30:52  Wednesday  \n",
       "\n",
       "[7003 rows x 7 columns]"
      ]
     },
     "execution_count": 27,
     "metadata": {},
     "output_type": "execute_result"
    }
   ],
   "source": [
    "number_tracks('Wednesday', 'Saint-Petersburg')# количество прослушиваний в Санкт-Петербурге по средам"
   ]
  },
  {
   "cell_type": "code",
   "execution_count": 28,
   "metadata": {
    "id": "vYDw5u_K_Zcu"
   },
   "outputs": [
    {
     "data": {
      "text/html": [
       "<div>\n",
       "<style scoped>\n",
       "    .dataframe tbody tr th:only-of-type {\n",
       "        vertical-align: middle;\n",
       "    }\n",
       "\n",
       "    .dataframe tbody tr th {\n",
       "        vertical-align: top;\n",
       "    }\n",
       "\n",
       "    .dataframe thead th {\n",
       "        text-align: right;\n",
       "    }\n",
       "</style>\n",
       "<table border=\"1\" class=\"dataframe\">\n",
       "  <thead>\n",
       "    <tr style=\"text-align: right;\">\n",
       "      <th></th>\n",
       "      <th>user_id</th>\n",
       "      <th>track_name</th>\n",
       "      <th>artist_name</th>\n",
       "      <th>genre_name</th>\n",
       "      <th>city</th>\n",
       "      <th>time</th>\n",
       "      <th>weekday</th>\n",
       "    </tr>\n",
       "  </thead>\n",
       "  <tbody>\n",
       "    <tr>\n",
       "      <th>1</th>\n",
       "      <td>55204538</td>\n",
       "      <td>Delayed Because of Accident</td>\n",
       "      <td>Andreas Rönnberg</td>\n",
       "      <td>rock</td>\n",
       "      <td>Moscow</td>\n",
       "      <td>14:07:09</td>\n",
       "      <td>Friday</td>\n",
       "    </tr>\n",
       "    <tr>\n",
       "      <th>8</th>\n",
       "      <td>8FA1D3BE</td>\n",
       "      <td>И вновь продолжается бой</td>\n",
       "      <td>unknown</td>\n",
       "      <td>ruspop</td>\n",
       "      <td>Moscow</td>\n",
       "      <td>09:17:40</td>\n",
       "      <td>Friday</td>\n",
       "    </tr>\n",
       "    <tr>\n",
       "      <th>13</th>\n",
       "      <td>CC782B0F</td>\n",
       "      <td>After School Special</td>\n",
       "      <td>Detroit Grand Pubahs</td>\n",
       "      <td>dance</td>\n",
       "      <td>Moscow</td>\n",
       "      <td>20:04:12</td>\n",
       "      <td>Friday</td>\n",
       "    </tr>\n",
       "    <tr>\n",
       "      <th>34</th>\n",
       "      <td>B416A40F</td>\n",
       "      <td>Лучшая подруга</td>\n",
       "      <td>Супердетки</td>\n",
       "      <td>ruspop</td>\n",
       "      <td>Moscow</td>\n",
       "      <td>14:49:21</td>\n",
       "      <td>Friday</td>\n",
       "    </tr>\n",
       "    <tr>\n",
       "      <th>42</th>\n",
       "      <td>F9AD83A7</td>\n",
       "      <td>Иреннэр</td>\n",
       "      <td>Гузель Уразова</td>\n",
       "      <td>tatar</td>\n",
       "      <td>Moscow</td>\n",
       "      <td>14:53:39</td>\n",
       "      <td>Friday</td>\n",
       "    </tr>\n",
       "    <tr>\n",
       "      <th>...</th>\n",
       "      <td>...</td>\n",
       "      <td>...</td>\n",
       "      <td>...</td>\n",
       "      <td>...</td>\n",
       "      <td>...</td>\n",
       "      <td>...</td>\n",
       "      <td>...</td>\n",
       "    </tr>\n",
       "    <tr>\n",
       "      <th>61245</th>\n",
       "      <td>92378E24</td>\n",
       "      <td>Swing it Like You Mean it</td>\n",
       "      <td>OJOJOJ</td>\n",
       "      <td>techno</td>\n",
       "      <td>Moscow</td>\n",
       "      <td>21:12:56</td>\n",
       "      <td>Friday</td>\n",
       "    </tr>\n",
       "    <tr>\n",
       "      <th>61246</th>\n",
       "      <td>C532021D</td>\n",
       "      <td>We Can Not Be Silenced</td>\n",
       "      <td>Pänzer</td>\n",
       "      <td>extrememetal</td>\n",
       "      <td>Moscow</td>\n",
       "      <td>08:38:24</td>\n",
       "      <td>Friday</td>\n",
       "    </tr>\n",
       "    <tr>\n",
       "      <th>61250</th>\n",
       "      <td>C5E3A0D5</td>\n",
       "      <td>Jalopiina</td>\n",
       "      <td>unknown</td>\n",
       "      <td>industrial</td>\n",
       "      <td>Moscow</td>\n",
       "      <td>20:09:26</td>\n",
       "      <td>Friday</td>\n",
       "    </tr>\n",
       "    <tr>\n",
       "      <th>61251</th>\n",
       "      <td>321D0506</td>\n",
       "      <td>Freight Train</td>\n",
       "      <td>Chas McDevitt</td>\n",
       "      <td>rock</td>\n",
       "      <td>Moscow</td>\n",
       "      <td>21:43:59</td>\n",
       "      <td>Friday</td>\n",
       "    </tr>\n",
       "    <tr>\n",
       "      <th>61252</th>\n",
       "      <td>3A64EF84</td>\n",
       "      <td>Tell Me Sweet Little Lies</td>\n",
       "      <td>Monica Lopez</td>\n",
       "      <td>country</td>\n",
       "      <td>Moscow</td>\n",
       "      <td>21:59:46</td>\n",
       "      <td>Friday</td>\n",
       "    </tr>\n",
       "  </tbody>\n",
       "</table>\n",
       "<p>15945 rows × 7 columns</p>\n",
       "</div>"
      ],
      "text/plain": [
       "        user_id                   track_name           artist_name  \\\n",
       "1      55204538  Delayed Because of Accident      Andreas Rönnberg   \n",
       "8      8FA1D3BE     И вновь продолжается бой               unknown   \n",
       "13     CC782B0F         After School Special  Detroit Grand Pubahs   \n",
       "34     B416A40F               Лучшая подруга            Супердетки   \n",
       "42     F9AD83A7                      Иреннэр        Гузель Уразова   \n",
       "...         ...                          ...                   ...   \n",
       "61245  92378E24    Swing it Like You Mean it                OJOJOJ   \n",
       "61246  C532021D       We Can Not Be Silenced                Pänzer   \n",
       "61250  C5E3A0D5                    Jalopiina               unknown   \n",
       "61251  321D0506                Freight Train         Chas McDevitt   \n",
       "61252  3A64EF84    Tell Me Sweet Little Lies          Monica Lopez   \n",
       "\n",
       "         genre_name    city      time weekday  \n",
       "1              rock  Moscow  14:07:09  Friday  \n",
       "8            ruspop  Moscow  09:17:40  Friday  \n",
       "13            dance  Moscow  20:04:12  Friday  \n",
       "34           ruspop  Moscow  14:49:21  Friday  \n",
       "42            tatar  Moscow  14:53:39  Friday  \n",
       "...             ...     ...       ...     ...  \n",
       "61245        techno  Moscow  21:12:56  Friday  \n",
       "61246  extrememetal  Moscow  08:38:24  Friday  \n",
       "61250    industrial  Moscow  20:09:26  Friday  \n",
       "61251          rock  Moscow  21:43:59  Friday  \n",
       "61252       country  Moscow  21:59:46  Friday  \n",
       "\n",
       "[15945 rows x 7 columns]"
      ]
     },
     "execution_count": 28,
     "metadata": {},
     "output_type": "execute_result"
    }
   ],
   "source": [
    "number_tracks('Friday', 'Moscow')# количество прослушиваний в Москве по пятницам"
   ]
  },
  {
   "cell_type": "code",
   "execution_count": 29,
   "metadata": {
    "id": "8_yzFtW3_Zcu"
   },
   "outputs": [
    {
     "data": {
      "text/html": [
       "<div>\n",
       "<style scoped>\n",
       "    .dataframe tbody tr th:only-of-type {\n",
       "        vertical-align: middle;\n",
       "    }\n",
       "\n",
       "    .dataframe tbody tr th {\n",
       "        vertical-align: top;\n",
       "    }\n",
       "\n",
       "    .dataframe thead th {\n",
       "        text-align: right;\n",
       "    }\n",
       "</style>\n",
       "<table border=\"1\" class=\"dataframe\">\n",
       "  <thead>\n",
       "    <tr style=\"text-align: right;\">\n",
       "      <th></th>\n",
       "      <th>user_id</th>\n",
       "      <th>track_name</th>\n",
       "      <th>artist_name</th>\n",
       "      <th>genre_name</th>\n",
       "      <th>city</th>\n",
       "      <th>time</th>\n",
       "      <th>weekday</th>\n",
       "    </tr>\n",
       "  </thead>\n",
       "  <tbody>\n",
       "    <tr>\n",
       "      <th>5</th>\n",
       "      <td>842029A1</td>\n",
       "      <td>Преданная</td>\n",
       "      <td>IMPERVTOR</td>\n",
       "      <td>rusrap</td>\n",
       "      <td>Saint-Petersburg</td>\n",
       "      <td>13:09:41</td>\n",
       "      <td>Friday</td>\n",
       "    </tr>\n",
       "    <tr>\n",
       "      <th>30</th>\n",
       "      <td>EBA5A8B2</td>\n",
       "      <td>Päivän Nousu Nostajani</td>\n",
       "      <td>Värttinä</td>\n",
       "      <td>world</td>\n",
       "      <td>Saint-Petersburg</td>\n",
       "      <td>08:00:31</td>\n",
       "      <td>Friday</td>\n",
       "    </tr>\n",
       "    <tr>\n",
       "      <th>31</th>\n",
       "      <td>F6A44469</td>\n",
       "      <td>Veritas Universalis</td>\n",
       "      <td>Devathorn</td>\n",
       "      <td>metal</td>\n",
       "      <td>Saint-Petersburg</td>\n",
       "      <td>20:19:42</td>\n",
       "      <td>Friday</td>\n",
       "    </tr>\n",
       "    <tr>\n",
       "      <th>38</th>\n",
       "      <td>14FBD1E5</td>\n",
       "      <td>Solteras</td>\n",
       "      <td>Beauty Brain</td>\n",
       "      <td>dance</td>\n",
       "      <td>Saint-Petersburg</td>\n",
       "      <td>20:33:11</td>\n",
       "      <td>Friday</td>\n",
       "    </tr>\n",
       "    <tr>\n",
       "      <th>49</th>\n",
       "      <td>2A35001B</td>\n",
       "      <td>Can You Feel the Love Tonight</td>\n",
       "      <td>Disney Peaceful Piano</td>\n",
       "      <td>instrumental</td>\n",
       "      <td>Saint-Petersburg</td>\n",
       "      <td>21:51:37</td>\n",
       "      <td>Friday</td>\n",
       "    </tr>\n",
       "    <tr>\n",
       "      <th>...</th>\n",
       "      <td>...</td>\n",
       "      <td>...</td>\n",
       "      <td>...</td>\n",
       "      <td>...</td>\n",
       "      <td>...</td>\n",
       "      <td>...</td>\n",
       "      <td>...</td>\n",
       "    </tr>\n",
       "    <tr>\n",
       "      <th>61210</th>\n",
       "      <td>E82DA566</td>\n",
       "      <td>I Hate You More Than My Life</td>\n",
       "      <td>Solar Fake</td>\n",
       "      <td>electronic</td>\n",
       "      <td>Saint-Petersburg</td>\n",
       "      <td>20:55:55</td>\n",
       "      <td>Friday</td>\n",
       "    </tr>\n",
       "    <tr>\n",
       "      <th>61216</th>\n",
       "      <td>A84E445</td>\n",
       "      <td>Oasis</td>\n",
       "      <td>Dmitry Aeolus</td>\n",
       "      <td>electronic</td>\n",
       "      <td>Saint-Petersburg</td>\n",
       "      <td>08:32:46</td>\n",
       "      <td>Friday</td>\n",
       "    </tr>\n",
       "    <tr>\n",
       "      <th>61218</th>\n",
       "      <td>2AD78C04</td>\n",
       "      <td>Welcome to Zombietown</td>\n",
       "      <td>Dirty Wee Middens</td>\n",
       "      <td>punk</td>\n",
       "      <td>Saint-Petersburg</td>\n",
       "      <td>08:57:42</td>\n",
       "      <td>Friday</td>\n",
       "    </tr>\n",
       "    <tr>\n",
       "      <th>61221</th>\n",
       "      <td>CDCAFD62</td>\n",
       "      <td>Payday</td>\n",
       "      <td>King Hot</td>\n",
       "      <td>hiphop</td>\n",
       "      <td>Saint-Petersburg</td>\n",
       "      <td>14:31:37</td>\n",
       "      <td>Friday</td>\n",
       "    </tr>\n",
       "    <tr>\n",
       "      <th>61228</th>\n",
       "      <td>E54A55E0</td>\n",
       "      <td>What R U Doin' Here</td>\n",
       "      <td>KALLY'S Mashup Cast</td>\n",
       "      <td>pop</td>\n",
       "      <td>Saint-Petersburg</td>\n",
       "      <td>13:10:19</td>\n",
       "      <td>Friday</td>\n",
       "    </tr>\n",
       "  </tbody>\n",
       "</table>\n",
       "<p>5895 rows × 7 columns</p>\n",
       "</div>"
      ],
      "text/plain": [
       "        user_id                     track_name            artist_name  \\\n",
       "5      842029A1                      Преданная              IMPERVTOR   \n",
       "30     EBA5A8B2         Päivän Nousu Nostajani              Värttinä   \n",
       "31     F6A44469            Veritas Universalis              Devathorn   \n",
       "38     14FBD1E5                       Solteras           Beauty Brain   \n",
       "49     2A35001B  Can You Feel the Love Tonight  Disney Peaceful Piano   \n",
       "...         ...                            ...                    ...   \n",
       "61210  E82DA566   I Hate You More Than My Life             Solar Fake   \n",
       "61216   A84E445                          Oasis          Dmitry Aeolus   \n",
       "61218  2AD78C04          Welcome to Zombietown      Dirty Wee Middens   \n",
       "61221  CDCAFD62                         Payday               King Hot   \n",
       "61228  E54A55E0            What R U Doin' Here    KALLY'S Mashup Cast   \n",
       "\n",
       "         genre_name              city      time weekday  \n",
       "5            rusrap  Saint-Petersburg  13:09:41  Friday  \n",
       "30            world  Saint-Petersburg  08:00:31  Friday  \n",
       "31            metal  Saint-Petersburg  20:19:42  Friday  \n",
       "38            dance  Saint-Petersburg  20:33:11  Friday  \n",
       "49     instrumental  Saint-Petersburg  21:51:37  Friday  \n",
       "...             ...               ...       ...     ...  \n",
       "61210    electronic  Saint-Petersburg  20:55:55  Friday  \n",
       "61216    electronic  Saint-Petersburg  08:32:46  Friday  \n",
       "61218          punk  Saint-Petersburg  08:57:42  Friday  \n",
       "61221        hiphop  Saint-Petersburg  14:31:37  Friday  \n",
       "61228           pop  Saint-Petersburg  13:10:19  Friday  \n",
       "\n",
       "[5895 rows x 7 columns]"
      ]
     },
     "execution_count": 29,
     "metadata": {},
     "output_type": "execute_result"
    }
   ],
   "source": [
    "number_tracks('Friday', 'Saint-Petersburg')# количество прослушиваний в Санкт-Петербурге по пятницам"
   ]
  },
  {
   "cell_type": "markdown",
   "metadata": {
    "id": "7QXffbO-_Zcu"
   },
   "source": [
    "Создайте c помощью конструктора `pd.DataFrame` таблицу, где\n",
    "* названия колонок — `['city', 'monday', 'wednesday', 'friday']`;\n",
    "* данные — результаты, которые вы получили с помощью `number_tracks`."
   ]
  },
  {
   "cell_type": "code",
   "execution_count": 30,
   "metadata": {
    "id": "APAcLpOr_Zcu"
   },
   "outputs": [
    {
     "data": {
      "text/html": [
       "<div>\n",
       "<style scoped>\n",
       "    .dataframe tbody tr th:only-of-type {\n",
       "        vertical-align: middle;\n",
       "    }\n",
       "\n",
       "    .dataframe tbody tr th {\n",
       "        vertical-align: top;\n",
       "    }\n",
       "\n",
       "    .dataframe thead th {\n",
       "        text-align: right;\n",
       "    }\n",
       "</style>\n",
       "<table border=\"1\" class=\"dataframe\">\n",
       "  <thead>\n",
       "    <tr style=\"text-align: right;\">\n",
       "      <th></th>\n",
       "      <th>city</th>\n",
       "      <th>monday</th>\n",
       "      <th>wednesday</th>\n",
       "      <th>friday</th>\n",
       "    </tr>\n",
       "  </thead>\n",
       "  <tbody>\n",
       "    <tr>\n",
       "      <th>0</th>\n",
       "      <td>Moscow</td>\n",
       "      <td>15740</td>\n",
       "      <td>11056</td>\n",
       "      <td>15945</td>\n",
       "    </tr>\n",
       "    <tr>\n",
       "      <th>1</th>\n",
       "      <td>Saint-Petersburg</td>\n",
       "      <td>5614</td>\n",
       "      <td>7003</td>\n",
       "      <td>5895</td>\n",
       "    </tr>\n",
       "  </tbody>\n",
       "</table>\n",
       "</div>"
      ],
      "text/plain": [
       "               city  monday  wednesday  friday\n",
       "0            Moscow   15740      11056   15945\n",
       "1  Saint-Petersburg    5614       7003    5895"
      ]
     },
     "metadata": {},
     "output_type": "display_data"
    }
   ],
   "source": [
    "data = [['Moscow', 15740, 11056, 15945],\n",
    "        ['Saint-Petersburg', 5614, 7003, 5895]]\n",
    "columns = ['city', 'monday', 'wednesday', 'friday'] \n",
    "\n",
    "table = pd.DataFrame(data = data, columns = columns)\n",
    "display(table) \n",
    "\n",
    "# Таблица с результатами"
   ]
  },
  {
   "cell_type": "markdown",
   "metadata": {
    "id": "-EgPIHYu_Zcu"
   },
   "source": [
    "**Выводы**\n",
    "\n",
    "Данные показывают разницу поведения пользователей:\n",
    "\n",
    "- В Москве пик прослушиваний приходится на понедельник и пятницу, а в среду заметен спад.\n",
    "- В Петербурге, наоборот, больше слушают музыку по средам. Активность в понедельник и пятницу здесь почти в равной мере уступает среде.\n",
    "\n",
    "Значит, данные говорят в пользу первой гипотезы."
   ]
  },
  {
   "cell_type": "markdown",
   "metadata": {
    "id": "atZAxtq4_Zcu"
   },
   "source": [
    "### Музыка в начале и в конце недели"
   ]
  },
  {
   "cell_type": "markdown",
   "metadata": {
    "id": "eXrQqXFH_Zcu"
   },
   "source": [
    "Согласно второй гипотезе, утром в понедельник в Москве преобладают одни жанры, а в Петербурге — другие. Так же и вечером пятницы преобладают разные жанры — в зависимости от города."
   ]
  },
  {
   "cell_type": "markdown",
   "metadata": {
    "id": "S8UcW6Hw_Zcu"
   },
   "source": [
    "Сохраните таблицы с данными в две переменные:\n",
    "* по Москве — в `moscow_general`;\n",
    "* по Санкт-Петербургу — в `spb_general`."
   ]
  },
  {
   "cell_type": "code",
   "execution_count": 31,
   "metadata": {
    "id": "qeaFfM_P_Zcu"
   },
   "outputs": [],
   "source": [
    "moscow_general=df[df['city'] == 'Moscow']"
   ]
  },
  {
   "cell_type": "code",
   "execution_count": 32,
   "metadata": {
    "id": "ORaVRKto_Zcu"
   },
   "outputs": [],
   "source": [
    "spb_general=df[df['city']=='Saint-Petersburg']"
   ]
  },
  {
   "cell_type": "markdown",
   "metadata": {
    "id": "MEJV-CX2_Zcu"
   },
   "source": [
    "Создайте функцию `genre_weekday()` с четырьмя параметрами:\n",
    "* таблица (датафрейм) с данными,\n",
    "* день недели,\n",
    "* начальная временная метка в формате 'hh:mm', \n",
    "* последняя временная метка в формате 'hh:mm'.\n",
    "\n",
    "Функция должна вернуть информацию о топ-10 жанров тех треков, которые прослушивали в указанный день, в промежутке между двумя отметками времени."
   ]
  },
  {
   "cell_type": "code",
   "execution_count": 33,
   "metadata": {
    "id": "laJT9BYl_Zcu"
   },
   "outputs": [],
   "source": [
    "def genre_weekday(table, weekday, time1, time2):\n",
    "    genre_df = table[(table['weekday']  == weekday) & (table['time'] < time2) & (table['time'] > time1)]\n",
    "    genre_df_count = genre_df.groupby('genre_name')['genre_name'].count()\n",
    "    genre_df_sorted = genre_df_count.sort_values(ascending = False)\n",
    "    return genre_df_sorted.head(10)"
   ]
  },
  {
   "cell_type": "markdown",
   "metadata": {
    "id": "la2s2_PF_Zcu"
   },
   "source": [
    "Cравните результаты функции `genre_weekday()` для Москвы и Санкт-Петербурга в понедельник утром (с 7:00 до 11:00) и в пятницу вечером (с 17:00 до 23:00):"
   ]
  },
  {
   "cell_type": "code",
   "execution_count": 34,
   "metadata": {
    "id": "yz7itPUQ_Zcu"
   },
   "outputs": [
    {
     "data": {
      "text/plain": [
       "genre_name\n",
       "pop            781\n",
       "dance          549\n",
       "electronic     480\n",
       "rock           474\n",
       "hiphop         286\n",
       "ruspop         186\n",
       "world          181\n",
       "rusrap         175\n",
       "alternative    164\n",
       "unknown        161\n",
       "Name: genre_name, dtype: int64"
      ]
     },
     "execution_count": 34,
     "metadata": {},
     "output_type": "execute_result"
    }
   ],
   "source": [
    "genre_weekday(moscow_general, 'Monday', '07:00', '11:00')"
   ]
  },
  {
   "cell_type": "code",
   "execution_count": 35,
   "metadata": {
    "id": "kwUcHPdy_Zcu"
   },
   "outputs": [
    {
     "data": {
      "text/plain": [
       "genre_name\n",
       "pop            218\n",
       "dance          182\n",
       "rock           162\n",
       "electronic     147\n",
       "hiphop          80\n",
       "ruspop          64\n",
       "alternative     58\n",
       "rusrap          55\n",
       "jazz            44\n",
       "classical       40\n",
       "Name: genre_name, dtype: int64"
      ]
     },
     "execution_count": 35,
     "metadata": {},
     "output_type": "execute_result"
    }
   ],
   "source": [
    "genre_weekday(spb_general, 'Monday', '07:00', '11:00')"
   ]
  },
  {
   "cell_type": "code",
   "execution_count": 36,
   "metadata": {
    "id": "EzXVRE1o_Zcu"
   },
   "outputs": [
    {
     "data": {
      "text/plain": [
       "genre_name\n",
       "pop            717\n",
       "dance          524\n",
       "rock           518\n",
       "electronic     485\n",
       "hiphop         238\n",
       "alternative    182\n",
       "classical      172\n",
       "world          172\n",
       "ruspop         149\n",
       "rusrap         133\n",
       "Name: genre_name, dtype: int64"
      ]
     },
     "execution_count": 36,
     "metadata": {},
     "output_type": "execute_result"
    }
   ],
   "source": [
    "genre_weekday(moscow_general, 'Monday', '17:00', '23:00')"
   ]
  },
  {
   "cell_type": "code",
   "execution_count": 37,
   "metadata": {
    "id": "JZaEKu5v_Zcu"
   },
   "outputs": [
    {
     "data": {
      "text/plain": [
       "genre_name\n",
       "pop            263\n",
       "rock           208\n",
       "electronic     192\n",
       "dance          191\n",
       "hiphop         104\n",
       "alternative     72\n",
       "classical       71\n",
       "jazz            57\n",
       "rusrap          54\n",
       "ruspop          53\n",
       "Name: genre_name, dtype: int64"
      ]
     },
     "execution_count": 37,
     "metadata": {},
     "output_type": "execute_result"
    }
   ],
   "source": [
    "genre_weekday(spb_general, 'Monday', '17:00', '23:00')"
   ]
  },
  {
   "cell_type": "markdown",
   "metadata": {
    "id": "wrCe4MNX_Zcu"
   },
   "source": [
    "**Выводы**\n",
    "\n",
    "Если сравнить топ-10 жанров в понедельник утром, можно сделать такие выводы:\n",
    "\n",
    "1. В Москве и Петербурге слушают похожую музыку. Единственное отличие — в московский рейтинг вошёл жанр “world”, а в петербургский — джаз и классика.\n",
    "\n",
    "2. В Москве пропущенных значений оказалось так много, что значение `'unknown'` заняло десятое место среди самых популярных жанров. Значит, пропущенные значения занимают существенную долю в данных и угрожают достоверности исследования.\n",
    "\n",
    "Вечер пятницы не меняет эту картину. Некоторые жанры поднимаются немного выше, другие спускаются, но в целом топ-10 остаётся тем же самым.\n",
    "\n",
    "Таким образом, вторая гипотеза подтвердилась лишь частично:\n",
    "* Пользователи слушают похожую музыку в начале недели и в конце.\n",
    "* Разница между Москвой и Петербургом не слишком выражена. В Москве чаще слушают русскую популярную музыку, в Петербурге — джаз.\n",
    "\n",
    "Однако пропуски в данных ставят под сомнение этот результат. В Москве их так много, что рейтинг топ-10 мог бы выглядеть иначе, если бы не утерянные  данные о жанрах."
   ]
  },
  {
   "cell_type": "markdown",
   "metadata": {
    "id": "JolODAqr_Zcu"
   },
   "source": [
    "### Жанровые предпочтения в Москве и Петербурге\n",
    "\n",
    "Гипотеза: Петербург — столица рэпа, музыку этого жанра там слушают чаще, чем в Москве.  А Москва — город контрастов, в котором, тем не менее, преобладает поп-музыка."
   ]
  },
  {
   "cell_type": "markdown",
   "metadata": {
    "id": "DlegSvaT_Zcu"
   },
   "source": [
    "Сгруппируйте таблицу `moscow_general` по жанру и посчитайте прослушивания треков каждого жанра методом `count()`. Затем отсортируйте результат в порядке убывания и сохраните его в таблице `moscow_genres`."
   ]
  },
  {
   "cell_type": "code",
   "execution_count": 38,
   "metadata": {
    "id": "r19lIPke_Zcu"
   },
   "outputs": [],
   "source": [
    "moscow_genres = moscow_general.groupby('genre_name')['genre_name'].count().sort_values(ascending = False)"
   ]
  },
  {
   "cell_type": "markdown",
   "metadata": {
    "id": "6kMuomxTiIr8"
   },
   "source": [
    "Выведите на экран первые десять строк `moscow_genres`:"
   ]
  },
  {
   "cell_type": "code",
   "execution_count": 39,
   "metadata": {
    "id": "WhCSooF8_Zcv"
   },
   "outputs": [
    {
     "data": {
      "text/plain": [
       "genre_name\n",
       "pop            5892\n",
       "dance          4435\n",
       "rock           3965\n",
       "electronic     3786\n",
       "hiphop         2096\n",
       "classical      1616\n",
       "world          1432\n",
       "alternative    1379\n",
       "ruspop         1372\n",
       "rusrap         1161\n",
       "Name: genre_name, dtype: int64"
      ]
     },
     "execution_count": 39,
     "metadata": {},
     "output_type": "execute_result"
    }
   ],
   "source": [
    "moscow_genres.head(10)"
   ]
  },
  {
   "cell_type": "markdown",
   "metadata": {
    "id": "cnPG2vnN_Zcv"
   },
   "source": [
    "Теперь повторите то же и для Петербурга.\n",
    "\n",
    "Сгруппируйте таблицу `spb_general` по жанру. Посчитайте прослушивания треков каждого жанра. Результат отсортируйте в порядке убывания и сохраните в таблице `spb_genres`:\n"
   ]
  },
  {
   "cell_type": "code",
   "execution_count": 40,
   "metadata": {
    "id": "gluLIpE7_Zcv"
   },
   "outputs": [],
   "source": [
    "spb_genres = spb_general.groupby('genre_name')['genre_name'].count().sort_values(ascending=False)"
   ]
  },
  {
   "cell_type": "markdown",
   "metadata": {
    "id": "5Doha_ODgyQ8"
   },
   "source": [
    "Выведите на экран первые десять строк `spb_genres`:"
   ]
  },
  {
   "cell_type": "code",
   "execution_count": 41,
   "metadata": {
    "id": "uaGJHjVU_Zcv"
   },
   "outputs": [
    {
     "data": {
      "text/plain": [
       "genre_name\n",
       "pop            2431\n",
       "dance          1932\n",
       "rock           1879\n",
       "electronic     1736\n",
       "hiphop          960\n",
       "alternative     649\n",
       "classical       646\n",
       "rusrap          564\n",
       "ruspop          538\n",
       "world           515\n",
       "Name: genre_name, dtype: int64"
      ]
     },
     "execution_count": 41,
     "metadata": {},
     "output_type": "execute_result"
    }
   ],
   "source": [
    "spb_genres.head(10)"
   ]
  },
  {
   "cell_type": "markdown",
   "metadata": {
    "id": "RY51YJYu_Zcv"
   },
   "source": [
    "**Выводы**"
   ]
  },
  {
   "cell_type": "markdown",
   "metadata": {
    "id": "nVhnJEm__Zcv"
   },
   "source": [
    "Гипотеза частично подтвердилась:\n",
    "* Поп-музыка — самый популярный жанр в Москве, как и предполагала гипотеза. Более того, в топ-10 жанров встречается близкий жанр — русская популярная музыка.\n",
    "* Вопреки ожиданиям, рэп одинаково популярен в Москве и Петербурге. \n"
   ]
  },
  {
   "cell_type": "markdown",
   "metadata": {
    "id": "ykKQ0N65_Zcv"
   },
   "source": [
    "## Итоги исследования"
   ]
  },
  {
   "cell_type": "markdown",
   "metadata": {
    "id": "tjUwbHb3_Zcv"
   },
   "source": [
    "Вы проверили три гипотезы и установили:\n",
    "\n",
    "1. День недели по-разному влияет на активность пользователей в Москве и Петербурге. \n",
    "\n",
    "Первая гипотеза полностью подтвердилась.\n",
    "\n",
    "2. Музыкальные предпочтения не сильно меняются в течение недели — будь то Москва или Петербург. Небольшие различия заметны в начале недели, по понедельникам:\n",
    "* в Москве слушают музыку жанра “world”,\n",
    "* в Петербурге — джаз и классику.\n",
    "\n",
    "Таким образом, вторая гипотеза подтвердилась лишь отчасти. Этот результат мог оказаться иным, если бы не пропуски в данных.\n",
    "\n",
    "3. Во вкусах пользователей Москвы и Петербурга больше общего чем различий. Вопреки ожиданиям, предпочтения жанров в Петербурге напоминают московские.\n",
    "\n",
    "Третья гипотеза не подтвердилась. Если различия в предпочтениях и существуют, на основной массе пользователей они незаметны."
   ]
  }
 ],
 "metadata": {
  "ExecuteTimeLog": [
   {
    "duration": 355,
    "start_time": "2021-11-09T14:32:48.707Z"
   },
   {
    "duration": 264,
    "start_time": "2021-11-09T14:36:09.644Z"
   },
   {
    "duration": 290,
    "start_time": "2021-11-09T14:36:27.677Z"
   },
   {
    "duration": 653,
    "start_time": "2021-11-09T14:37:52.127Z"
   },
   {
    "duration": 280,
    "start_time": "2021-11-09T14:39:57.356Z"
   },
   {
    "duration": 252,
    "start_time": "2021-11-09T14:44:07.257Z"
   },
   {
    "duration": 553,
    "start_time": "2021-11-09T14:55:25.608Z"
   },
   {
    "duration": 148,
    "start_time": "2021-11-09T14:55:28.269Z"
   },
   {
    "duration": 18,
    "start_time": "2021-11-09T14:55:30.902Z"
   },
   {
    "duration": 24,
    "start_time": "2021-11-09T14:56:56.264Z"
   },
   {
    "duration": 4,
    "start_time": "2021-11-09T15:04:51.061Z"
   },
   {
    "duration": 22,
    "start_time": "2021-11-09T15:08:16.796Z"
   },
   {
    "duration": 5,
    "start_time": "2021-11-09T15:08:28.389Z"
   },
   {
    "duration": 23,
    "start_time": "2021-11-09T15:09:11.942Z"
   },
   {
    "duration": 4,
    "start_time": "2021-11-09T15:09:14.725Z"
   },
   {
    "duration": 11,
    "start_time": "2021-11-09T15:20:16.390Z"
   },
   {
    "duration": 23,
    "start_time": "2021-11-09T15:21:39.300Z"
   },
   {
    "duration": 5,
    "start_time": "2021-11-09T15:39:17.652Z"
   },
   {
    "duration": 19,
    "start_time": "2021-11-09T15:52:46.983Z"
   },
   {
    "duration": 24,
    "start_time": "2021-11-09T15:53:09.824Z"
   },
   {
    "duration": 57,
    "start_time": "2021-11-09T15:58:18.139Z"
   },
   {
    "duration": 68,
    "start_time": "2021-11-09T16:00:53.738Z"
   },
   {
    "duration": 60,
    "start_time": "2021-11-09T16:01:05.894Z"
   },
   {
    "duration": 39,
    "start_time": "2021-11-09T16:04:45.684Z"
   },
   {
    "duration": 44,
    "start_time": "2021-11-09T16:07:30.685Z"
   },
   {
    "duration": 616,
    "start_time": "2021-11-10T10:02:18.145Z"
   },
   {
    "duration": 131,
    "start_time": "2021-11-10T10:02:18.763Z"
   },
   {
    "duration": 16,
    "start_time": "2021-11-10T10:02:18.896Z"
   },
   {
    "duration": 22,
    "start_time": "2021-11-10T10:02:18.914Z"
   },
   {
    "duration": 4,
    "start_time": "2021-11-10T10:02:18.938Z"
   },
   {
    "duration": 21,
    "start_time": "2021-11-10T10:02:18.944Z"
   },
   {
    "duration": 27,
    "start_time": "2021-11-10T10:02:18.967Z"
   },
   {
    "duration": 22,
    "start_time": "2021-11-10T10:02:18.996Z"
   },
   {
    "duration": 16,
    "start_time": "2021-11-10T10:02:19.020Z"
   },
   {
    "duration": 19,
    "start_time": "2021-11-10T10:02:19.037Z"
   },
   {
    "duration": 78,
    "start_time": "2021-11-10T10:02:19.057Z"
   },
   {
    "duration": 70,
    "start_time": "2021-11-10T10:02:19.137Z"
   },
   {
    "duration": 49,
    "start_time": "2021-11-10T10:02:19.208Z"
   },
   {
    "duration": 50,
    "start_time": "2021-11-10T10:02:19.258Z"
   },
   {
    "duration": 2,
    "start_time": "2021-11-10T10:02:19.309Z"
   },
   {
    "duration": 9,
    "start_time": "2021-11-10T10:02:19.312Z"
   },
   {
    "duration": 5,
    "start_time": "2021-11-10T10:02:19.323Z"
   },
   {
    "duration": 5,
    "start_time": "2021-11-10T10:02:19.330Z"
   },
   {
    "duration": 5,
    "start_time": "2021-11-10T10:02:19.337Z"
   },
   {
    "duration": 9,
    "start_time": "2021-11-10T10:02:19.344Z"
   },
   {
    "duration": 15,
    "start_time": "2021-11-10T10:02:19.355Z"
   },
   {
    "duration": 9,
    "start_time": "2021-11-10T10:02:19.372Z"
   },
   {
    "duration": 4,
    "start_time": "2021-11-10T10:02:19.384Z"
   },
   {
    "duration": 14,
    "start_time": "2021-11-10T10:02:19.390Z"
   },
   {
    "duration": 6,
    "start_time": "2021-11-10T10:02:19.405Z"
   },
   {
    "duration": 10,
    "start_time": "2021-11-10T10:02:19.413Z"
   },
   {
    "duration": 6,
    "start_time": "2021-11-10T10:02:19.425Z"
   },
   {
    "duration": 7,
    "start_time": "2021-11-10T10:02:19.433Z"
   },
   {
    "duration": 9,
    "start_time": "2021-11-10T10:02:19.441Z"
   },
   {
    "duration": 4,
    "start_time": "2021-11-10T10:02:19.452Z"
   },
   {
    "duration": 9,
    "start_time": "2021-11-10T10:02:19.458Z"
   },
   {
    "duration": 11,
    "start_time": "2021-11-10T10:02:19.468Z"
   },
   {
    "duration": 12,
    "start_time": "2021-11-10T10:02:19.480Z"
   },
   {
    "duration": 9,
    "start_time": "2021-11-10T10:02:19.493Z"
   },
   {
    "duration": 7,
    "start_time": "2021-11-10T10:02:19.503Z"
   },
   {
    "duration": 6,
    "start_time": "2021-11-10T10:02:19.511Z"
   },
   {
    "duration": 6,
    "start_time": "2021-11-10T10:02:19.518Z"
   },
   {
    "duration": 10,
    "start_time": "2021-11-10T10:02:19.526Z"
   },
   {
    "duration": 70,
    "start_time": "2021-11-10T10:30:21.698Z"
   },
   {
    "duration": 16,
    "start_time": "2021-11-10T10:30:31.459Z"
   },
   {
    "duration": 15,
    "start_time": "2021-11-10T10:30:34.147Z"
   },
   {
    "duration": 15,
    "start_time": "2021-11-10T10:31:03.998Z"
   },
   {
    "duration": 42,
    "start_time": "2021-11-10T10:31:21.562Z"
   },
   {
    "duration": 34,
    "start_time": "2021-11-10T10:36:20.000Z"
   },
   {
    "duration": 30,
    "start_time": "2021-11-10T10:40:56.150Z"
   },
   {
    "duration": 4,
    "start_time": "2021-11-10T10:50:48.972Z"
   },
   {
    "duration": 5542,
    "start_time": "2021-11-10T10:50:52.664Z"
   },
   {
    "duration": 5095,
    "start_time": "2021-11-10T10:51:54.131Z"
   },
   {
    "duration": 321498,
    "start_time": "2021-11-10T10:46:37.731Z"
   },
   {
    "duration": 4,
    "start_time": "2021-11-10T10:53:42.104Z"
   },
   {
    "duration": 6399,
    "start_time": "2021-11-10T10:54:01.253Z"
   },
   {
    "duration": 526,
    "start_time": "2021-11-10T10:54:40.727Z"
   },
   {
    "duration": 131,
    "start_time": "2021-11-10T10:54:41.255Z"
   },
   {
    "duration": 16,
    "start_time": "2021-11-10T10:54:41.388Z"
   },
   {
    "duration": 24,
    "start_time": "2021-11-10T10:54:41.406Z"
   },
   {
    "duration": 8,
    "start_time": "2021-11-10T10:54:41.432Z"
   },
   {
    "duration": 25,
    "start_time": "2021-11-10T10:54:41.441Z"
   },
   {
    "duration": 23,
    "start_time": "2021-11-10T10:54:41.468Z"
   },
   {
    "duration": 22,
    "start_time": "2021-11-10T10:54:41.493Z"
   },
   {
    "duration": 17,
    "start_time": "2021-11-10T10:54:41.516Z"
   },
   {
    "duration": 21,
    "start_time": "2021-11-10T10:54:41.534Z"
   },
   {
    "duration": 76,
    "start_time": "2021-11-10T10:54:41.557Z"
   },
   {
    "duration": 66,
    "start_time": "2021-11-10T10:54:41.634Z"
   },
   {
    "duration": 48,
    "start_time": "2021-11-10T10:54:41.702Z"
   },
   {
    "duration": 49,
    "start_time": "2021-11-10T10:54:41.752Z"
   },
   {
    "duration": 11,
    "start_time": "2021-11-10T10:54:41.802Z"
   },
   {
    "duration": 19,
    "start_time": "2021-11-10T10:54:41.815Z"
   },
   {
    "duration": 39,
    "start_time": "2021-11-10T10:54:41.835Z"
   },
   {
    "duration": 38,
    "start_time": "2021-11-10T10:54:41.875Z"
   },
   {
    "duration": 29,
    "start_time": "2021-11-10T10:54:41.915Z"
   },
   {
    "duration": 3,
    "start_time": "2021-11-10T10:54:41.946Z"
   },
   {
    "duration": 5406,
    "start_time": "2021-11-10T10:54:41.950Z"
   },
   {
    "duration": 321495,
    "start_time": "2021-11-10T10:49:25.864Z"
   },
   {
    "duration": 321483,
    "start_time": "2021-11-10T10:49:25.877Z"
   },
   {
    "duration": 321482,
    "start_time": "2021-11-10T10:49:25.880Z"
   },
   {
    "duration": 321478,
    "start_time": "2021-11-10T10:49:25.885Z"
   },
   {
    "duration": 321476,
    "start_time": "2021-11-10T10:49:25.888Z"
   },
   {
    "duration": 321475,
    "start_time": "2021-11-10T10:49:25.891Z"
   },
   {
    "duration": 321467,
    "start_time": "2021-11-10T10:49:25.900Z"
   },
   {
    "duration": 321465,
    "start_time": "2021-11-10T10:49:25.904Z"
   },
   {
    "duration": 321462,
    "start_time": "2021-11-10T10:49:25.908Z"
   },
   {
    "duration": 321456,
    "start_time": "2021-11-10T10:49:25.916Z"
   },
   {
    "duration": 321453,
    "start_time": "2021-11-10T10:49:25.920Z"
   },
   {
    "duration": 321450,
    "start_time": "2021-11-10T10:49:25.924Z"
   },
   {
    "duration": 321443,
    "start_time": "2021-11-10T10:49:25.933Z"
   },
   {
    "duration": 321441,
    "start_time": "2021-11-10T10:49:25.936Z"
   },
   {
    "duration": 321439,
    "start_time": "2021-11-10T10:49:25.940Z"
   },
   {
    "duration": 321430,
    "start_time": "2021-11-10T10:49:25.950Z"
   },
   {
    "duration": 321428,
    "start_time": "2021-11-10T10:49:25.953Z"
   },
   {
    "duration": 5042,
    "start_time": "2021-11-10T10:58:14.494Z"
   },
   {
    "duration": 3,
    "start_time": "2021-11-10T10:59:05.256Z"
   },
   {
    "duration": 24,
    "start_time": "2021-11-10T10:59:07.469Z"
   },
   {
    "duration": 21,
    "start_time": "2021-11-10T11:00:06.353Z"
   },
   {
    "duration": 22,
    "start_time": "2021-11-10T11:00:29.840Z"
   },
   {
    "duration": 21,
    "start_time": "2021-11-10T11:00:47.576Z"
   },
   {
    "duration": 23,
    "start_time": "2021-11-10T11:01:03.128Z"
   },
   {
    "duration": 22,
    "start_time": "2021-11-10T11:01:16.307Z"
   },
   {
    "duration": 5,
    "start_time": "2021-11-10T11:10:28.261Z"
   },
   {
    "duration": 8,
    "start_time": "2021-11-10T11:10:53.051Z"
   },
   {
    "duration": 12,
    "start_time": "2021-11-10T11:19:08.251Z"
   },
   {
    "duration": 10,
    "start_time": "2021-11-10T11:19:09.163Z"
   },
   {
    "duration": 67,
    "start_time": "2021-11-10T11:34:51.071Z"
   },
   {
    "duration": 4,
    "start_time": "2021-11-10T11:36:44.935Z"
   },
   {
    "duration": 4,
    "start_time": "2021-11-10T11:38:16.083Z"
   },
   {
    "duration": 370,
    "start_time": "2021-11-10T11:39:31.460Z"
   },
   {
    "duration": 4,
    "start_time": "2021-11-10T11:40:17.046Z"
   },
   {
    "duration": 20,
    "start_time": "2021-11-10T11:40:20.102Z"
   },
   {
    "duration": 12,
    "start_time": "2021-11-10T11:40:51.468Z"
   },
   {
    "duration": 17,
    "start_time": "2021-11-10T11:41:18.239Z"
   },
   {
    "duration": 13,
    "start_time": "2021-11-10T11:41:37.993Z"
   },
   {
    "duration": 51,
    "start_time": "2021-11-10T11:48:13.247Z"
   },
   {
    "duration": 5,
    "start_time": "2021-11-10T11:48:46.163Z"
   },
   {
    "duration": 307,
    "start_time": "2021-11-10T11:50:31.223Z"
   },
   {
    "duration": 4,
    "start_time": "2021-11-10T11:50:41.527Z"
   },
   {
    "duration": 7,
    "start_time": "2021-11-10T11:51:14.978Z"
   },
   {
    "duration": 4,
    "start_time": "2021-11-10T11:51:18.935Z"
   },
   {
    "duration": 6,
    "start_time": "2021-11-10T11:54:08.626Z"
   },
   {
    "duration": 6,
    "start_time": "2021-11-10T11:54:17.341Z"
   },
   {
    "duration": 5,
    "start_time": "2021-11-10T11:54:36.529Z"
   },
   {
    "duration": 547,
    "start_time": "2021-11-10T11:55:29.512Z"
   },
   {
    "duration": 135,
    "start_time": "2021-11-10T11:55:30.061Z"
   },
   {
    "duration": 17,
    "start_time": "2021-11-10T11:55:30.198Z"
   },
   {
    "duration": 27,
    "start_time": "2021-11-10T11:55:30.217Z"
   },
   {
    "duration": 7,
    "start_time": "2021-11-10T11:55:30.246Z"
   },
   {
    "duration": 41,
    "start_time": "2021-11-10T11:55:30.255Z"
   },
   {
    "duration": 3,
    "start_time": "2021-11-10T11:55:30.298Z"
   },
   {
    "duration": 39,
    "start_time": "2021-11-10T11:55:30.304Z"
   },
   {
    "duration": 34,
    "start_time": "2021-11-10T11:55:30.345Z"
   },
   {
    "duration": 23,
    "start_time": "2021-11-10T11:55:30.381Z"
   },
   {
    "duration": 69,
    "start_time": "2021-11-10T11:55:30.406Z"
   },
   {
    "duration": 71,
    "start_time": "2021-11-10T11:55:30.477Z"
   },
   {
    "duration": 59,
    "start_time": "2021-11-10T11:55:30.550Z"
   },
   {
    "duration": 38,
    "start_time": "2021-11-10T11:55:30.611Z"
   },
   {
    "duration": 3,
    "start_time": "2021-11-10T11:55:30.650Z"
   },
   {
    "duration": 30,
    "start_time": "2021-11-10T11:55:30.654Z"
   },
   {
    "duration": 42,
    "start_time": "2021-11-10T11:55:30.685Z"
   },
   {
    "duration": 35,
    "start_time": "2021-11-10T11:55:30.728Z"
   },
   {
    "duration": 45,
    "start_time": "2021-11-10T11:55:30.765Z"
   },
   {
    "duration": 3,
    "start_time": "2021-11-10T11:55:30.811Z"
   },
   {
    "duration": 40,
    "start_time": "2021-11-10T11:55:30.816Z"
   },
   {
    "duration": 22,
    "start_time": "2021-11-10T11:55:30.858Z"
   },
   {
    "duration": 28,
    "start_time": "2021-11-10T11:55:30.883Z"
   },
   {
    "duration": 36,
    "start_time": "2021-11-10T11:55:30.912Z"
   },
   {
    "duration": 21,
    "start_time": "2021-11-10T11:55:30.950Z"
   },
   {
    "duration": 27,
    "start_time": "2021-11-10T11:55:30.972Z"
   },
   {
    "duration": 14,
    "start_time": "2021-11-10T11:55:31.001Z"
   },
   {
    "duration": 36,
    "start_time": "2021-11-10T11:55:31.017Z"
   },
   {
    "duration": 35,
    "start_time": "2021-11-10T11:55:31.054Z"
   },
   {
    "duration": 22,
    "start_time": "2021-11-10T11:55:31.091Z"
   },
   {
    "duration": 30,
    "start_time": "2021-11-10T11:55:31.115Z"
   },
   {
    "duration": 16,
    "start_time": "2021-11-10T11:55:31.147Z"
   },
   {
    "duration": 21,
    "start_time": "2021-11-10T11:55:31.165Z"
   },
   {
    "duration": 14,
    "start_time": "2021-11-10T11:55:31.187Z"
   },
   {
    "duration": 19,
    "start_time": "2021-11-10T11:55:31.203Z"
   },
   {
    "duration": 27,
    "start_time": "2021-11-10T11:55:31.224Z"
   },
   {
    "duration": 17,
    "start_time": "2021-11-10T11:55:31.253Z"
   },
   {
    "duration": 20,
    "start_time": "2021-11-10T11:55:31.272Z"
   },
   {
    "duration": 607,
    "start_time": "2021-11-10T12:41:14.365Z"
   },
   {
    "duration": 155,
    "start_time": "2021-11-10T12:41:14.974Z"
   },
   {
    "duration": 17,
    "start_time": "2021-11-10T12:41:15.132Z"
   },
   {
    "duration": 26,
    "start_time": "2021-11-10T12:41:15.164Z"
   },
   {
    "duration": 8,
    "start_time": "2021-11-10T12:41:15.192Z"
   },
   {
    "duration": 32,
    "start_time": "2021-11-10T12:41:15.202Z"
   },
   {
    "duration": 6,
    "start_time": "2021-11-10T12:41:15.237Z"
   },
   {
    "duration": 44,
    "start_time": "2021-11-10T12:41:15.246Z"
   },
   {
    "duration": 20,
    "start_time": "2021-11-10T12:41:15.292Z"
   },
   {
    "duration": 26,
    "start_time": "2021-11-10T12:41:15.314Z"
   },
   {
    "duration": 81,
    "start_time": "2021-11-10T12:41:15.342Z"
   },
   {
    "duration": 93,
    "start_time": "2021-11-10T12:41:15.425Z"
   },
   {
    "duration": 66,
    "start_time": "2021-11-10T12:41:15.520Z"
   },
   {
    "duration": 40,
    "start_time": "2021-11-10T12:41:15.588Z"
   },
   {
    "duration": 3,
    "start_time": "2021-11-10T12:41:15.630Z"
   },
   {
    "duration": 37,
    "start_time": "2021-11-10T12:41:15.635Z"
   },
   {
    "duration": 45,
    "start_time": "2021-11-10T12:41:15.674Z"
   },
   {
    "duration": 50,
    "start_time": "2021-11-10T12:41:15.721Z"
   },
   {
    "duration": 34,
    "start_time": "2021-11-10T12:41:15.773Z"
   },
   {
    "duration": 4,
    "start_time": "2021-11-10T12:41:15.809Z"
   },
   {
    "duration": 31,
    "start_time": "2021-11-10T12:41:15.814Z"
   },
   {
    "duration": 35,
    "start_time": "2021-11-10T12:41:15.847Z"
   },
   {
    "duration": 23,
    "start_time": "2021-11-10T12:41:15.886Z"
   },
   {
    "duration": 21,
    "start_time": "2021-11-10T12:41:15.911Z"
   },
   {
    "duration": 49,
    "start_time": "2021-11-10T12:41:15.934Z"
   },
   {
    "duration": 48,
    "start_time": "2021-11-10T12:41:15.985Z"
   },
   {
    "duration": 10,
    "start_time": "2021-11-10T12:41:16.035Z"
   },
   {
    "duration": 23,
    "start_time": "2021-11-10T12:41:16.046Z"
   },
   {
    "duration": 10,
    "start_time": "2021-11-10T12:41:16.071Z"
   },
   {
    "duration": 6,
    "start_time": "2021-11-10T12:41:16.083Z"
   },
   {
    "duration": 24,
    "start_time": "2021-11-10T12:41:16.091Z"
   },
   {
    "duration": 14,
    "start_time": "2021-11-10T12:41:16.117Z"
   },
   {
    "duration": 45,
    "start_time": "2021-11-10T12:41:16.133Z"
   },
   {
    "duration": 12,
    "start_time": "2021-11-10T12:41:16.180Z"
   },
   {
    "duration": 9,
    "start_time": "2021-11-10T12:41:16.194Z"
   },
   {
    "duration": 4,
    "start_time": "2021-11-10T12:41:16.205Z"
   },
   {
    "duration": 13,
    "start_time": "2021-11-10T12:41:16.210Z"
   },
   {
    "duration": 9,
    "start_time": "2021-11-10T12:41:16.224Z"
   },
   {
    "duration": 5,
    "start_time": "2021-11-10T12:42:27.364Z"
   },
   {
    "duration": 57,
    "start_time": "2021-11-10T12:43:02.602Z"
   },
   {
    "duration": 11,
    "start_time": "2021-11-10T12:46:19.036Z"
   },
   {
    "duration": 527,
    "start_time": "2022-03-17T08:38:30.473Z"
   },
   {
    "duration": 210,
    "start_time": "2022-03-17T08:38:31.003Z"
   },
   {
    "duration": 32,
    "start_time": "2022-03-17T08:38:31.216Z"
   },
   {
    "duration": 52,
    "start_time": "2022-03-17T08:38:31.251Z"
   },
   {
    "duration": 28,
    "start_time": "2022-03-17T08:38:31.307Z"
   },
   {
    "duration": 39,
    "start_time": "2022-03-17T08:38:31.338Z"
   },
   {
    "duration": 37,
    "start_time": "2022-03-17T08:38:31.379Z"
   },
   {
    "duration": 24,
    "start_time": "2022-03-17T08:38:31.419Z"
   },
   {
    "duration": 51,
    "start_time": "2022-03-17T08:38:31.445Z"
   },
   {
    "duration": 44,
    "start_time": "2022-03-17T08:38:31.499Z"
   },
   {
    "duration": 37,
    "start_time": "2022-03-17T08:38:31.546Z"
   },
   {
    "duration": 108,
    "start_time": "2022-03-17T08:38:31.586Z"
   },
   {
    "duration": 125,
    "start_time": "2022-03-17T08:38:31.696Z"
   },
   {
    "duration": 107,
    "start_time": "2022-03-17T08:38:31.829Z"
   },
   {
    "duration": 97,
    "start_time": "2022-03-17T08:38:31.938Z"
   },
   {
    "duration": 62,
    "start_time": "2022-03-17T08:38:32.037Z"
   },
   {
    "duration": 13,
    "start_time": "2022-03-17T08:38:32.102Z"
   },
   {
    "duration": 37,
    "start_time": "2022-03-17T08:38:32.118Z"
   },
   {
    "duration": 74,
    "start_time": "2022-03-17T08:38:32.157Z"
   },
   {
    "duration": 58,
    "start_time": "2022-03-17T08:38:32.234Z"
   },
   {
    "duration": 16,
    "start_time": "2022-03-17T08:38:32.295Z"
   },
   {
    "duration": 79,
    "start_time": "2022-03-17T08:38:32.314Z"
   },
   {
    "duration": 5,
    "start_time": "2022-03-17T08:38:32.397Z"
   },
   {
    "duration": 62,
    "start_time": "2022-03-17T08:38:32.404Z"
   },
   {
    "duration": 49,
    "start_time": "2022-03-17T08:38:32.469Z"
   },
   {
    "duration": 38,
    "start_time": "2022-03-17T08:38:32.520Z"
   },
   {
    "duration": 31,
    "start_time": "2022-03-17T08:38:32.582Z"
   },
   {
    "duration": 49,
    "start_time": "2022-03-17T08:38:32.615Z"
   },
   {
    "duration": 37,
    "start_time": "2022-03-17T08:38:32.683Z"
   },
   {
    "duration": 28,
    "start_time": "2022-03-17T08:38:32.722Z"
   },
   {
    "duration": 27,
    "start_time": "2022-03-17T08:38:32.753Z"
   },
   {
    "duration": 14,
    "start_time": "2022-03-17T08:38:32.782Z"
   },
   {
    "duration": 24,
    "start_time": "2022-03-17T08:38:32.798Z"
   },
   {
    "duration": 31,
    "start_time": "2022-03-17T08:38:32.824Z"
   },
   {
    "duration": 29,
    "start_time": "2022-03-17T08:38:32.858Z"
   },
   {
    "duration": 29,
    "start_time": "2022-03-17T08:38:32.890Z"
   },
   {
    "duration": 26,
    "start_time": "2022-03-17T08:38:32.921Z"
   },
   {
    "duration": 33,
    "start_time": "2022-03-17T08:38:32.949Z"
   },
   {
    "duration": 13,
    "start_time": "2022-03-17T08:38:32.984Z"
   },
   {
    "duration": 39,
    "start_time": "2022-03-17T08:38:32.999Z"
   },
   {
    "duration": 8,
    "start_time": "2022-03-17T08:38:33.045Z"
   },
   {
    "duration": 54,
    "start_time": "2022-03-17T08:38:53.706Z"
   },
   {
    "duration": 75,
    "start_time": "2022-03-17T08:39:00.800Z"
   },
   {
    "duration": 450,
    "start_time": "2022-03-24T09:13:47.123Z"
   },
   {
    "duration": 147,
    "start_time": "2022-03-24T09:13:47.574Z"
   },
   {
    "duration": 16,
    "start_time": "2022-03-24T09:13:47.723Z"
   },
   {
    "duration": 31,
    "start_time": "2022-03-24T09:13:47.741Z"
   },
   {
    "duration": 3,
    "start_time": "2022-03-24T09:13:47.774Z"
   },
   {
    "duration": 14,
    "start_time": "2022-03-24T09:13:47.779Z"
   },
   {
    "duration": 8,
    "start_time": "2022-03-24T09:13:47.794Z"
   },
   {
    "duration": 30,
    "start_time": "2022-03-24T09:13:47.804Z"
   },
   {
    "duration": 27,
    "start_time": "2022-03-24T09:13:47.836Z"
   },
   {
    "duration": 18,
    "start_time": "2022-03-24T09:13:47.866Z"
   },
   {
    "duration": 25,
    "start_time": "2022-03-24T09:13:47.886Z"
   },
   {
    "duration": 87,
    "start_time": "2022-03-24T09:13:47.912Z"
   },
   {
    "duration": 92,
    "start_time": "2022-03-24T09:13:48.001Z"
   },
   {
    "duration": 68,
    "start_time": "2022-03-24T09:13:48.095Z"
   },
   {
    "duration": 68,
    "start_time": "2022-03-24T09:13:48.165Z"
   },
   {
    "duration": 41,
    "start_time": "2022-03-24T09:13:48.234Z"
   },
   {
    "duration": 2,
    "start_time": "2022-03-24T09:13:48.277Z"
   },
   {
    "duration": 25,
    "start_time": "2022-03-24T09:13:48.281Z"
   },
   {
    "duration": 82,
    "start_time": "2022-03-24T09:13:48.307Z"
   },
   {
    "duration": 45,
    "start_time": "2022-03-24T09:13:48.391Z"
   },
   {
    "duration": 11,
    "start_time": "2022-03-24T09:13:48.438Z"
   },
   {
    "duration": 32,
    "start_time": "2022-03-24T09:13:48.451Z"
   },
   {
    "duration": 3,
    "start_time": "2022-03-24T09:13:48.485Z"
   },
   {
    "duration": 49,
    "start_time": "2022-03-24T09:13:48.490Z"
   },
   {
    "duration": 21,
    "start_time": "2022-03-24T09:13:48.540Z"
   },
   {
    "duration": 21,
    "start_time": "2022-03-24T09:13:48.562Z"
   },
   {
    "duration": 20,
    "start_time": "2022-03-24T09:13:48.584Z"
   },
   {
    "duration": 24,
    "start_time": "2022-03-24T09:13:48.632Z"
   },
   {
    "duration": 35,
    "start_time": "2022-03-24T09:13:48.658Z"
   },
   {
    "duration": 8,
    "start_time": "2022-03-24T09:13:48.695Z"
   },
   {
    "duration": 37,
    "start_time": "2022-03-24T09:13:48.705Z"
   },
   {
    "duration": 11,
    "start_time": "2022-03-24T09:13:48.743Z"
   },
   {
    "duration": 5,
    "start_time": "2022-03-24T09:13:48.756Z"
   },
   {
    "duration": 32,
    "start_time": "2022-03-24T09:13:48.764Z"
   },
   {
    "duration": 17,
    "start_time": "2022-03-24T09:13:48.798Z"
   },
   {
    "duration": 40,
    "start_time": "2022-03-24T09:13:48.817Z"
   },
   {
    "duration": 31,
    "start_time": "2022-03-24T09:13:48.858Z"
   },
   {
    "duration": 12,
    "start_time": "2022-03-24T09:13:48.891Z"
   },
   {
    "duration": 7,
    "start_time": "2022-03-24T09:13:48.905Z"
   },
   {
    "duration": 9,
    "start_time": "2022-03-24T09:13:48.914Z"
   },
   {
    "duration": 4,
    "start_time": "2022-03-24T09:13:48.932Z"
   },
   {
    "duration": 3,
    "start_time": "2022-03-24T09:14:54.420Z"
   },
   {
    "duration": 432,
    "start_time": "2022-03-24T09:14:59.480Z"
   },
   {
    "duration": 154,
    "start_time": "2022-03-24T09:14:59.914Z"
   },
   {
    "duration": 17,
    "start_time": "2022-03-24T09:15:00.071Z"
   },
   {
    "duration": 48,
    "start_time": "2022-03-24T09:15:00.090Z"
   },
   {
    "duration": 5,
    "start_time": "2022-03-24T09:15:00.140Z"
   },
   {
    "duration": 23,
    "start_time": "2022-03-24T09:15:00.147Z"
   },
   {
    "duration": 20,
    "start_time": "2022-03-24T09:15:00.172Z"
   },
   {
    "duration": 18,
    "start_time": "2022-03-24T09:15:00.194Z"
   },
   {
    "duration": 55,
    "start_time": "2022-03-24T09:15:00.214Z"
   },
   {
    "duration": 52,
    "start_time": "2022-03-24T09:15:00.271Z"
   },
   {
    "duration": 32,
    "start_time": "2022-03-24T09:15:00.324Z"
   },
   {
    "duration": 75,
    "start_time": "2022-03-24T09:15:00.358Z"
   },
   {
    "duration": 80,
    "start_time": "2022-03-24T09:15:00.435Z"
   },
   {
    "duration": 78,
    "start_time": "2022-03-24T09:15:00.516Z"
   },
   {
    "duration": 103,
    "start_time": "2022-03-24T09:15:00.597Z"
   },
   {
    "duration": 69,
    "start_time": "2022-03-24T09:15:00.702Z"
   },
   {
    "duration": 4,
    "start_time": "2022-03-24T09:15:00.773Z"
   },
   {
    "duration": 82,
    "start_time": "2022-03-24T09:15:00.778Z"
   },
   {
    "duration": 72,
    "start_time": "2022-03-24T09:15:00.863Z"
   },
   {
    "duration": 54,
    "start_time": "2022-03-24T09:15:00.937Z"
   },
   {
    "duration": 17,
    "start_time": "2022-03-24T09:15:00.993Z"
   },
   {
    "duration": 57,
    "start_time": "2022-03-24T09:15:01.032Z"
   },
   {
    "duration": 4,
    "start_time": "2022-03-24T09:15:01.091Z"
   },
   {
    "duration": 56,
    "start_time": "2022-03-24T09:15:01.097Z"
   },
   {
    "duration": 31,
    "start_time": "2022-03-24T09:15:01.155Z"
   },
   {
    "duration": 46,
    "start_time": "2022-03-24T09:15:01.188Z"
   },
   {
    "duration": 33,
    "start_time": "2022-03-24T09:15:01.236Z"
   },
   {
    "duration": 39,
    "start_time": "2022-03-24T09:15:01.274Z"
   },
   {
    "duration": 45,
    "start_time": "2022-03-24T09:15:01.315Z"
   },
   {
    "duration": 20,
    "start_time": "2022-03-24T09:15:01.362Z"
   },
   {
    "duration": 14,
    "start_time": "2022-03-24T09:15:01.384Z"
   },
   {
    "duration": 12,
    "start_time": "2022-03-24T09:15:01.400Z"
   },
   {
    "duration": 18,
    "start_time": "2022-03-24T09:15:01.414Z"
   },
   {
    "duration": 45,
    "start_time": "2022-03-24T09:15:01.434Z"
   },
   {
    "duration": 21,
    "start_time": "2022-03-24T09:15:01.480Z"
   },
   {
    "duration": 32,
    "start_time": "2022-03-24T09:15:01.502Z"
   },
   {
    "duration": 14,
    "start_time": "2022-03-24T09:15:01.535Z"
   },
   {
    "duration": 49,
    "start_time": "2022-03-24T09:15:01.550Z"
   },
   {
    "duration": 70,
    "start_time": "2022-03-24T09:15:01.602Z"
   },
   {
    "duration": 19,
    "start_time": "2022-03-24T09:15:01.674Z"
   },
   {
    "duration": 8,
    "start_time": "2022-03-24T09:15:01.695Z"
   },
   {
    "duration": 357,
    "start_time": "2022-03-24T09:17:56.381Z"
   },
   {
    "duration": 148,
    "start_time": "2022-03-24T09:17:56.740Z"
   },
   {
    "duration": 20,
    "start_time": "2022-03-24T09:17:56.890Z"
   },
   {
    "duration": 42,
    "start_time": "2022-03-24T09:17:56.911Z"
   },
   {
    "duration": 5,
    "start_time": "2022-03-24T09:17:56.954Z"
   },
   {
    "duration": 14,
    "start_time": "2022-03-24T09:17:56.960Z"
   },
   {
    "duration": 9,
    "start_time": "2022-03-24T09:17:56.976Z"
   },
   {
    "duration": 8,
    "start_time": "2022-03-24T09:17:56.986Z"
   },
   {
    "duration": 45,
    "start_time": "2022-03-24T09:17:56.996Z"
   },
   {
    "duration": 19,
    "start_time": "2022-03-24T09:17:57.044Z"
   },
   {
    "duration": 25,
    "start_time": "2022-03-24T09:17:57.065Z"
   },
   {
    "duration": 85,
    "start_time": "2022-03-24T09:17:57.091Z"
   },
   {
    "duration": 86,
    "start_time": "2022-03-24T09:17:57.177Z"
   },
   {
    "duration": 69,
    "start_time": "2022-03-24T09:17:57.265Z"
   },
   {
    "duration": 58,
    "start_time": "2022-03-24T09:17:57.335Z"
   },
   {
    "duration": 60,
    "start_time": "2022-03-24T09:17:57.395Z"
   },
   {
    "duration": 4,
    "start_time": "2022-03-24T09:17:57.456Z"
   },
   {
    "duration": 33,
    "start_time": "2022-03-24T09:17:57.461Z"
   },
   {
    "duration": 48,
    "start_time": "2022-03-24T09:17:57.496Z"
   },
   {
    "duration": 36,
    "start_time": "2022-03-24T09:17:57.546Z"
   },
   {
    "duration": 13,
    "start_time": "2022-03-24T09:17:57.584Z"
   },
   {
    "duration": 58,
    "start_time": "2022-03-24T09:17:57.599Z"
   },
   {
    "duration": 4,
    "start_time": "2022-03-24T09:17:57.659Z"
   },
   {
    "duration": 36,
    "start_time": "2022-03-24T09:17:57.665Z"
   },
   {
    "duration": 34,
    "start_time": "2022-03-24T09:17:57.702Z"
   },
   {
    "duration": 23,
    "start_time": "2022-03-24T09:17:57.737Z"
   },
   {
    "duration": 27,
    "start_time": "2022-03-24T09:17:57.762Z"
   },
   {
    "duration": 59,
    "start_time": "2022-03-24T09:17:57.794Z"
   },
   {
    "duration": 20,
    "start_time": "2022-03-24T09:17:57.855Z"
   },
   {
    "duration": 8,
    "start_time": "2022-03-24T09:17:57.877Z"
   },
   {
    "duration": 14,
    "start_time": "2022-03-24T09:17:57.887Z"
   },
   {
    "duration": 30,
    "start_time": "2022-03-24T09:17:57.903Z"
   },
   {
    "duration": 12,
    "start_time": "2022-03-24T09:17:57.934Z"
   },
   {
    "duration": 20,
    "start_time": "2022-03-24T09:17:57.948Z"
   },
   {
    "duration": 12,
    "start_time": "2022-03-24T09:17:57.970Z"
   },
   {
    "duration": 16,
    "start_time": "2022-03-24T09:17:57.983Z"
   },
   {
    "duration": 37,
    "start_time": "2022-03-24T09:17:58.001Z"
   },
   {
    "duration": 10,
    "start_time": "2022-03-24T09:17:58.040Z"
   },
   {
    "duration": 5,
    "start_time": "2022-03-24T09:17:58.051Z"
   },
   {
    "duration": 7,
    "start_time": "2022-03-24T09:17:58.058Z"
   },
   {
    "duration": 6,
    "start_time": "2022-03-24T09:17:58.067Z"
   }
  ],
  "colab": {
   "collapsed_sections": [
    "E0vqbgi9ay0H",
    "VUC88oWjTJw2"
   ],
   "name": "yandex_music_project_2021.2.ipynb",
   "provenance": []
  },
  "kernelspec": {
   "display_name": "Python 3 (ipykernel)",
   "language": "python",
   "name": "python3"
  },
  "language_info": {
   "codemirror_mode": {
    "name": "ipython",
    "version": 3
   },
   "file_extension": ".py",
   "mimetype": "text/x-python",
   "name": "python",
   "nbconvert_exporter": "python",
   "pygments_lexer": "ipython3",
   "version": "3.9.7"
  },
  "toc": {
   "base_numbering": 1,
   "nav_menu": {},
   "number_sections": true,
   "sideBar": true,
   "skip_h1_title": true,
   "title_cell": "Table of Contents",
   "title_sidebar": "Contents",
   "toc_cell": false,
   "toc_position": {
    "height": "calc(100% - 180px)",
    "left": "10px",
    "top": "150px",
    "width": "216px"
   },
   "toc_section_display": true,
   "toc_window_display": false
  }
 },
 "nbformat": 4,
 "nbformat_minor": 1
}
