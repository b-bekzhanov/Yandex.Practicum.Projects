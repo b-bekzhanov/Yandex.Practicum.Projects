{
 "cells": [
  {
   "cell_type": "markdown",
   "metadata": {},
   "source": [
    "# Определение перспективного тарифа для телеком-компании"
   ]
  },
  {
   "cell_type": "markdown",
   "metadata": {},
   "source": [
    "# Описание проекта"
   ]
  },
  {
   "cell_type": "markdown",
   "metadata": {},
   "source": [
    "Вы аналитик компании «Мегалайн» — федерального оператора сотовой связи. Клиентам предлагают два тарифных плана: «Смарт» и «Ультра». Чтобы скорректировать рекламный бюджет, коммерческий департамент хочет понять, какой тариф приносит больше денег.\n",
    "Вам предстоит сделать предварительный анализ тарифов на небольшой выборке клиентов. В вашем распоряжении данные 500 пользователей «Мегалайна»: кто они, откуда, каким тарифом пользуются, сколько звонков и сообщений каждый отправил за 2018 год. Нужно проанализировать поведение клиентов и сделать вывод — какой тариф лучше.\n",
    "\n",
    "**Описание тарифов**\n",
    "\n",
    "Тариф «Смарт»\n",
    "\n",
    "Ежемесячная плата: 550 рублей\n",
    "Включено 500 минут разговора, 50 сообщений и 15 Гб интернет-трафика\n",
    "Стоимость услуг сверх тарифного пакета: 1. минута разговора: 3 рубля («Мегалайн» всегда округляет вверх значения минут и мегабайтов. Если пользователь проговорил всего 1 секунду, в тарифе засчитывается целая минута); 2. сообщение: 3 рубля; 3. 1 Гб интернет-трафика: 200 рублей.\n",
    "\n",
    "Тариф «Ультра»\n",
    "\n",
    "Ежемесячная плата: 1950 рублей\n",
    "Включено 3000 минут разговора, 1000 сообщений и 30 Гб интернет-трафика\n",
    "Стоимость услуг сверх тарифного пакета: 1. минута разговора: 1 рубль; 2. сообщение: 1 рубль; 3. 1 Гб интернет-трафика: 150 рублей."
   ]
  },
  {
   "cell_type": "markdown",
   "metadata": {},
   "source": [
    "## Шаг 1. Откройте файл с данными и изучите общую информацию"
   ]
  },
  {
   "cell_type": "markdown",
   "metadata": {},
   "source": [
    "Для начала импортируем необходимые для исследования библиоткеки"
   ]
  },
  {
   "cell_type": "code",
   "execution_count": 1,
   "metadata": {},
   "outputs": [],
   "source": [
    "import pandas as pd\n",
    "import numpy as np\n",
    "import matplotlib.pyplot as plt\n",
    "import seaborn as sns\n",
    "\n",
    "from datetime import datetime as dt\n",
    "from scipy import stats as st\n",
    "\n",
    "import warnings\n",
    "warnings.filterwarnings('ignore')"
   ]
  },
  {
   "cell_type": "code",
   "execution_count": 2,
   "metadata": {},
   "outputs": [],
   "source": [
    "font = {'family': 'sans-serif',\n",
    "        'color':  '#a72693',\n",
    "        'weight': 'normal',\n",
    "        'size': 20,\n",
    "        }"
   ]
  },
  {
   "cell_type": "code",
   "execution_count": 3,
   "metadata": {},
   "outputs": [],
   "source": [
    "pd.set_option('display.max_columns', None)\n",
    "pd.options.display.float_format = '{:,.2f}'.format"
   ]
  },
  {
   "cell_type": "markdown",
   "metadata": {},
   "source": [
    "Выгрузим датасеты"
   ]
  },
  {
   "cell_type": "code",
   "execution_count": 4,
   "metadata": {},
   "outputs": [],
   "source": [
    "users = pd.read_csv('/datasets/users.csv')\n",
    "calls = pd.read_csv('/datasets/calls.csv')\n",
    "messages = pd.read_csv('/datasets/messages.csv')\n",
    "internet = pd.read_csv('/datasets/internet.csv')\n",
    "tariffs = pd.read_csv('/datasets/tariffs.csv')"
   ]
  },
  {
   "cell_type": "markdown",
   "metadata": {},
   "source": [
    "Далее изучим таблицы"
   ]
  },
  {
   "cell_type": "markdown",
   "metadata": {},
   "source": [
    "### Посмотрим на таблицу с пользователями"
   ]
  },
  {
   "cell_type": "code",
   "execution_count": 5,
   "metadata": {},
   "outputs": [
    {
     "data": {
      "text/html": [
       "<div>\n",
       "<style scoped>\n",
       "    .dataframe tbody tr th:only-of-type {\n",
       "        vertical-align: middle;\n",
       "    }\n",
       "\n",
       "    .dataframe tbody tr th {\n",
       "        vertical-align: top;\n",
       "    }\n",
       "\n",
       "    .dataframe thead th {\n",
       "        text-align: right;\n",
       "    }\n",
       "</style>\n",
       "<table border=\"1\" class=\"dataframe\">\n",
       "  <thead>\n",
       "    <tr style=\"text-align: right;\">\n",
       "      <th></th>\n",
       "      <th>user_id</th>\n",
       "      <th>age</th>\n",
       "      <th>churn_date</th>\n",
       "      <th>city</th>\n",
       "      <th>first_name</th>\n",
       "      <th>last_name</th>\n",
       "      <th>reg_date</th>\n",
       "      <th>tariff</th>\n",
       "    </tr>\n",
       "  </thead>\n",
       "  <tbody>\n",
       "    <tr>\n",
       "      <th>0</th>\n",
       "      <td>1000</td>\n",
       "      <td>52</td>\n",
       "      <td>NaN</td>\n",
       "      <td>Краснодар</td>\n",
       "      <td>Рафаил</td>\n",
       "      <td>Верещагин</td>\n",
       "      <td>2018-05-25</td>\n",
       "      <td>ultra</td>\n",
       "    </tr>\n",
       "    <tr>\n",
       "      <th>1</th>\n",
       "      <td>1001</td>\n",
       "      <td>41</td>\n",
       "      <td>NaN</td>\n",
       "      <td>Москва</td>\n",
       "      <td>Иван</td>\n",
       "      <td>Ежов</td>\n",
       "      <td>2018-11-01</td>\n",
       "      <td>smart</td>\n",
       "    </tr>\n",
       "    <tr>\n",
       "      <th>2</th>\n",
       "      <td>1002</td>\n",
       "      <td>59</td>\n",
       "      <td>NaN</td>\n",
       "      <td>Стерлитамак</td>\n",
       "      <td>Евгений</td>\n",
       "      <td>Абрамович</td>\n",
       "      <td>2018-06-17</td>\n",
       "      <td>smart</td>\n",
       "    </tr>\n",
       "    <tr>\n",
       "      <th>3</th>\n",
       "      <td>1003</td>\n",
       "      <td>23</td>\n",
       "      <td>NaN</td>\n",
       "      <td>Москва</td>\n",
       "      <td>Белла</td>\n",
       "      <td>Белякова</td>\n",
       "      <td>2018-08-17</td>\n",
       "      <td>ultra</td>\n",
       "    </tr>\n",
       "    <tr>\n",
       "      <th>4</th>\n",
       "      <td>1004</td>\n",
       "      <td>68</td>\n",
       "      <td>NaN</td>\n",
       "      <td>Новокузнецк</td>\n",
       "      <td>Татьяна</td>\n",
       "      <td>Авдеенко</td>\n",
       "      <td>2018-05-14</td>\n",
       "      <td>ultra</td>\n",
       "    </tr>\n",
       "  </tbody>\n",
       "</table>\n",
       "</div>"
      ],
      "text/plain": [
       "   user_id  age churn_date         city first_name  last_name    reg_date  \\\n",
       "0     1000   52        NaN    Краснодар     Рафаил  Верещагин  2018-05-25   \n",
       "1     1001   41        NaN       Москва       Иван       Ежов  2018-11-01   \n",
       "2     1002   59        NaN  Стерлитамак    Евгений  Абрамович  2018-06-17   \n",
       "3     1003   23        NaN       Москва      Белла   Белякова  2018-08-17   \n",
       "4     1004   68        NaN  Новокузнецк    Татьяна   Авдеенко  2018-05-14   \n",
       "\n",
       "  tariff  \n",
       "0  ultra  \n",
       "1  smart  \n",
       "2  smart  \n",
       "3  ultra  \n",
       "4  ultra  "
      ]
     },
     "execution_count": 5,
     "metadata": {},
     "output_type": "execute_result"
    }
   ],
   "source": [
    "users.head()"
   ]
  },
  {
   "cell_type": "code",
   "execution_count": 6,
   "metadata": {},
   "outputs": [
    {
     "name": "stdout",
     "output_type": "stream",
     "text": [
      "<class 'pandas.core.frame.DataFrame'>\n",
      "RangeIndex: 500 entries, 0 to 499\n",
      "Data columns (total 8 columns):\n",
      " #   Column      Non-Null Count  Dtype \n",
      "---  ------      --------------  ----- \n",
      " 0   user_id     500 non-null    int64 \n",
      " 1   age         500 non-null    int64 \n",
      " 2   churn_date  38 non-null     object\n",
      " 3   city        500 non-null    object\n",
      " 4   first_name  500 non-null    object\n",
      " 5   last_name   500 non-null    object\n",
      " 6   reg_date    500 non-null    object\n",
      " 7   tariff      500 non-null    object\n",
      "dtypes: int64(2), object(6)\n",
      "memory usage: 31.4+ KB\n"
     ]
    }
   ],
   "source": [
    "users.info()"
   ]
  },
  {
   "cell_type": "markdown",
   "metadata": {},
   "source": [
    "### Посмотрим на таблицу с звонками"
   ]
  },
  {
   "cell_type": "code",
   "execution_count": 7,
   "metadata": {},
   "outputs": [
    {
     "data": {
      "text/html": [
       "<div>\n",
       "<style scoped>\n",
       "    .dataframe tbody tr th:only-of-type {\n",
       "        vertical-align: middle;\n",
       "    }\n",
       "\n",
       "    .dataframe tbody tr th {\n",
       "        vertical-align: top;\n",
       "    }\n",
       "\n",
       "    .dataframe thead th {\n",
       "        text-align: right;\n",
       "    }\n",
       "</style>\n",
       "<table border=\"1\" class=\"dataframe\">\n",
       "  <thead>\n",
       "    <tr style=\"text-align: right;\">\n",
       "      <th></th>\n",
       "      <th>id</th>\n",
       "      <th>call_date</th>\n",
       "      <th>duration</th>\n",
       "      <th>user_id</th>\n",
       "    </tr>\n",
       "  </thead>\n",
       "  <tbody>\n",
       "    <tr>\n",
       "      <th>0</th>\n",
       "      <td>1000_0</td>\n",
       "      <td>2018-07-25</td>\n",
       "      <td>0.00</td>\n",
       "      <td>1000</td>\n",
       "    </tr>\n",
       "    <tr>\n",
       "      <th>1</th>\n",
       "      <td>1000_1</td>\n",
       "      <td>2018-08-17</td>\n",
       "      <td>0.00</td>\n",
       "      <td>1000</td>\n",
       "    </tr>\n",
       "    <tr>\n",
       "      <th>2</th>\n",
       "      <td>1000_2</td>\n",
       "      <td>2018-06-11</td>\n",
       "      <td>2.85</td>\n",
       "      <td>1000</td>\n",
       "    </tr>\n",
       "    <tr>\n",
       "      <th>3</th>\n",
       "      <td>1000_3</td>\n",
       "      <td>2018-09-21</td>\n",
       "      <td>13.80</td>\n",
       "      <td>1000</td>\n",
       "    </tr>\n",
       "    <tr>\n",
       "      <th>4</th>\n",
       "      <td>1000_4</td>\n",
       "      <td>2018-12-15</td>\n",
       "      <td>5.18</td>\n",
       "      <td>1000</td>\n",
       "    </tr>\n",
       "  </tbody>\n",
       "</table>\n",
       "</div>"
      ],
      "text/plain": [
       "       id   call_date  duration  user_id\n",
       "0  1000_0  2018-07-25      0.00     1000\n",
       "1  1000_1  2018-08-17      0.00     1000\n",
       "2  1000_2  2018-06-11      2.85     1000\n",
       "3  1000_3  2018-09-21     13.80     1000\n",
       "4  1000_4  2018-12-15      5.18     1000"
      ]
     },
     "execution_count": 7,
     "metadata": {},
     "output_type": "execute_result"
    }
   ],
   "source": [
    "calls.head()"
   ]
  },
  {
   "cell_type": "code",
   "execution_count": 8,
   "metadata": {},
   "outputs": [
    {
     "name": "stdout",
     "output_type": "stream",
     "text": [
      "<class 'pandas.core.frame.DataFrame'>\n",
      "RangeIndex: 202607 entries, 0 to 202606\n",
      "Data columns (total 4 columns):\n",
      " #   Column     Non-Null Count   Dtype  \n",
      "---  ------     --------------   -----  \n",
      " 0   id         202607 non-null  object \n",
      " 1   call_date  202607 non-null  object \n",
      " 2   duration   202607 non-null  float64\n",
      " 3   user_id    202607 non-null  int64  \n",
      "dtypes: float64(1), int64(1), object(2)\n",
      "memory usage: 6.2+ MB\n"
     ]
    }
   ],
   "source": [
    "calls.info()"
   ]
  },
  {
   "cell_type": "markdown",
   "metadata": {},
   "source": [
    "### Посмотрим на таблицу с сообщениями"
   ]
  },
  {
   "cell_type": "code",
   "execution_count": 9,
   "metadata": {},
   "outputs": [
    {
     "data": {
      "text/html": [
       "<div>\n",
       "<style scoped>\n",
       "    .dataframe tbody tr th:only-of-type {\n",
       "        vertical-align: middle;\n",
       "    }\n",
       "\n",
       "    .dataframe tbody tr th {\n",
       "        vertical-align: top;\n",
       "    }\n",
       "\n",
       "    .dataframe thead th {\n",
       "        text-align: right;\n",
       "    }\n",
       "</style>\n",
       "<table border=\"1\" class=\"dataframe\">\n",
       "  <thead>\n",
       "    <tr style=\"text-align: right;\">\n",
       "      <th></th>\n",
       "      <th>id</th>\n",
       "      <th>message_date</th>\n",
       "      <th>user_id</th>\n",
       "    </tr>\n",
       "  </thead>\n",
       "  <tbody>\n",
       "    <tr>\n",
       "      <th>0</th>\n",
       "      <td>1000_0</td>\n",
       "      <td>2018-06-27</td>\n",
       "      <td>1000</td>\n",
       "    </tr>\n",
       "    <tr>\n",
       "      <th>1</th>\n",
       "      <td>1000_1</td>\n",
       "      <td>2018-10-08</td>\n",
       "      <td>1000</td>\n",
       "    </tr>\n",
       "    <tr>\n",
       "      <th>2</th>\n",
       "      <td>1000_2</td>\n",
       "      <td>2018-08-04</td>\n",
       "      <td>1000</td>\n",
       "    </tr>\n",
       "    <tr>\n",
       "      <th>3</th>\n",
       "      <td>1000_3</td>\n",
       "      <td>2018-06-16</td>\n",
       "      <td>1000</td>\n",
       "    </tr>\n",
       "    <tr>\n",
       "      <th>4</th>\n",
       "      <td>1000_4</td>\n",
       "      <td>2018-12-05</td>\n",
       "      <td>1000</td>\n",
       "    </tr>\n",
       "  </tbody>\n",
       "</table>\n",
       "</div>"
      ],
      "text/plain": [
       "       id message_date  user_id\n",
       "0  1000_0   2018-06-27     1000\n",
       "1  1000_1   2018-10-08     1000\n",
       "2  1000_2   2018-08-04     1000\n",
       "3  1000_3   2018-06-16     1000\n",
       "4  1000_4   2018-12-05     1000"
      ]
     },
     "execution_count": 9,
     "metadata": {},
     "output_type": "execute_result"
    }
   ],
   "source": [
    "messages.head()"
   ]
  },
  {
   "cell_type": "code",
   "execution_count": 10,
   "metadata": {},
   "outputs": [
    {
     "name": "stdout",
     "output_type": "stream",
     "text": [
      "<class 'pandas.core.frame.DataFrame'>\n",
      "RangeIndex: 123036 entries, 0 to 123035\n",
      "Data columns (total 3 columns):\n",
      " #   Column        Non-Null Count   Dtype \n",
      "---  ------        --------------   ----- \n",
      " 0   id            123036 non-null  object\n",
      " 1   message_date  123036 non-null  object\n",
      " 2   user_id       123036 non-null  int64 \n",
      "dtypes: int64(1), object(2)\n",
      "memory usage: 2.8+ MB\n"
     ]
    }
   ],
   "source": [
    "messages.info()"
   ]
  },
  {
   "cell_type": "markdown",
   "metadata": {},
   "source": [
    "### Посмотрим на таблицу с интернетом"
   ]
  },
  {
   "cell_type": "code",
   "execution_count": 11,
   "metadata": {},
   "outputs": [
    {
     "data": {
      "text/html": [
       "<div>\n",
       "<style scoped>\n",
       "    .dataframe tbody tr th:only-of-type {\n",
       "        vertical-align: middle;\n",
       "    }\n",
       "\n",
       "    .dataframe tbody tr th {\n",
       "        vertical-align: top;\n",
       "    }\n",
       "\n",
       "    .dataframe thead th {\n",
       "        text-align: right;\n",
       "    }\n",
       "</style>\n",
       "<table border=\"1\" class=\"dataframe\">\n",
       "  <thead>\n",
       "    <tr style=\"text-align: right;\">\n",
       "      <th></th>\n",
       "      <th>Unnamed: 0</th>\n",
       "      <th>id</th>\n",
       "      <th>mb_used</th>\n",
       "      <th>session_date</th>\n",
       "      <th>user_id</th>\n",
       "    </tr>\n",
       "  </thead>\n",
       "  <tbody>\n",
       "    <tr>\n",
       "      <th>0</th>\n",
       "      <td>0</td>\n",
       "      <td>1000_0</td>\n",
       "      <td>112.95</td>\n",
       "      <td>2018-11-25</td>\n",
       "      <td>1000</td>\n",
       "    </tr>\n",
       "    <tr>\n",
       "      <th>1</th>\n",
       "      <td>1</td>\n",
       "      <td>1000_1</td>\n",
       "      <td>1,052.81</td>\n",
       "      <td>2018-09-07</td>\n",
       "      <td>1000</td>\n",
       "    </tr>\n",
       "    <tr>\n",
       "      <th>2</th>\n",
       "      <td>2</td>\n",
       "      <td>1000_2</td>\n",
       "      <td>1,197.26</td>\n",
       "      <td>2018-06-25</td>\n",
       "      <td>1000</td>\n",
       "    </tr>\n",
       "    <tr>\n",
       "      <th>3</th>\n",
       "      <td>3</td>\n",
       "      <td>1000_3</td>\n",
       "      <td>550.27</td>\n",
       "      <td>2018-08-22</td>\n",
       "      <td>1000</td>\n",
       "    </tr>\n",
       "    <tr>\n",
       "      <th>4</th>\n",
       "      <td>4</td>\n",
       "      <td>1000_4</td>\n",
       "      <td>302.56</td>\n",
       "      <td>2018-09-24</td>\n",
       "      <td>1000</td>\n",
       "    </tr>\n",
       "  </tbody>\n",
       "</table>\n",
       "</div>"
      ],
      "text/plain": [
       "   Unnamed: 0      id  mb_used session_date  user_id\n",
       "0           0  1000_0   112.95   2018-11-25     1000\n",
       "1           1  1000_1 1,052.81   2018-09-07     1000\n",
       "2           2  1000_2 1,197.26   2018-06-25     1000\n",
       "3           3  1000_3   550.27   2018-08-22     1000\n",
       "4           4  1000_4   302.56   2018-09-24     1000"
      ]
     },
     "execution_count": 11,
     "metadata": {},
     "output_type": "execute_result"
    }
   ],
   "source": [
    "internet.head()"
   ]
  },
  {
   "cell_type": "code",
   "execution_count": 12,
   "metadata": {},
   "outputs": [
    {
     "name": "stdout",
     "output_type": "stream",
     "text": [
      "<class 'pandas.core.frame.DataFrame'>\n",
      "RangeIndex: 149396 entries, 0 to 149395\n",
      "Data columns (total 5 columns):\n",
      " #   Column        Non-Null Count   Dtype  \n",
      "---  ------        --------------   -----  \n",
      " 0   Unnamed: 0    149396 non-null  int64  \n",
      " 1   id            149396 non-null  object \n",
      " 2   mb_used       149396 non-null  float64\n",
      " 3   session_date  149396 non-null  object \n",
      " 4   user_id       149396 non-null  int64  \n",
      "dtypes: float64(1), int64(2), object(2)\n",
      "memory usage: 5.7+ MB\n"
     ]
    }
   ],
   "source": [
    "internet.info()"
   ]
  },
  {
   "cell_type": "markdown",
   "metadata": {},
   "source": [
    "### Посмотрим на таблицу с тарифами"
   ]
  },
  {
   "cell_type": "code",
   "execution_count": 13,
   "metadata": {},
   "outputs": [
    {
     "data": {
      "text/html": [
       "<div>\n",
       "<style scoped>\n",
       "    .dataframe tbody tr th:only-of-type {\n",
       "        vertical-align: middle;\n",
       "    }\n",
       "\n",
       "    .dataframe tbody tr th {\n",
       "        vertical-align: top;\n",
       "    }\n",
       "\n",
       "    .dataframe thead th {\n",
       "        text-align: right;\n",
       "    }\n",
       "</style>\n",
       "<table border=\"1\" class=\"dataframe\">\n",
       "  <thead>\n",
       "    <tr style=\"text-align: right;\">\n",
       "      <th></th>\n",
       "      <th>messages_included</th>\n",
       "      <th>mb_per_month_included</th>\n",
       "      <th>minutes_included</th>\n",
       "      <th>rub_monthly_fee</th>\n",
       "      <th>rub_per_gb</th>\n",
       "      <th>rub_per_message</th>\n",
       "      <th>rub_per_minute</th>\n",
       "      <th>tariff_name</th>\n",
       "    </tr>\n",
       "  </thead>\n",
       "  <tbody>\n",
       "    <tr>\n",
       "      <th>0</th>\n",
       "      <td>50</td>\n",
       "      <td>15360</td>\n",
       "      <td>500</td>\n",
       "      <td>550</td>\n",
       "      <td>200</td>\n",
       "      <td>3</td>\n",
       "      <td>3</td>\n",
       "      <td>smart</td>\n",
       "    </tr>\n",
       "    <tr>\n",
       "      <th>1</th>\n",
       "      <td>1000</td>\n",
       "      <td>30720</td>\n",
       "      <td>3000</td>\n",
       "      <td>1950</td>\n",
       "      <td>150</td>\n",
       "      <td>1</td>\n",
       "      <td>1</td>\n",
       "      <td>ultra</td>\n",
       "    </tr>\n",
       "  </tbody>\n",
       "</table>\n",
       "</div>"
      ],
      "text/plain": [
       "   messages_included  mb_per_month_included  minutes_included  \\\n",
       "0                 50                  15360               500   \n",
       "1               1000                  30720              3000   \n",
       "\n",
       "   rub_monthly_fee  rub_per_gb  rub_per_message  rub_per_minute tariff_name  \n",
       "0              550         200                3               3       smart  \n",
       "1             1950         150                1               1       ultra  "
      ]
     },
     "execution_count": 13,
     "metadata": {},
     "output_type": "execute_result"
    }
   ],
   "source": [
    "tariffs.head()"
   ]
  },
  {
   "cell_type": "code",
   "execution_count": 14,
   "metadata": {},
   "outputs": [
    {
     "name": "stdout",
     "output_type": "stream",
     "text": [
      "<class 'pandas.core.frame.DataFrame'>\n",
      "RangeIndex: 2 entries, 0 to 1\n",
      "Data columns (total 8 columns):\n",
      " #   Column                 Non-Null Count  Dtype \n",
      "---  ------                 --------------  ----- \n",
      " 0   messages_included      2 non-null      int64 \n",
      " 1   mb_per_month_included  2 non-null      int64 \n",
      " 2   minutes_included       2 non-null      int64 \n",
      " 3   rub_monthly_fee        2 non-null      int64 \n",
      " 4   rub_per_gb             2 non-null      int64 \n",
      " 5   rub_per_message        2 non-null      int64 \n",
      " 6   rub_per_minute         2 non-null      int64 \n",
      " 7   tariff_name            2 non-null      object\n",
      "dtypes: int64(7), object(1)\n",
      "memory usage: 256.0+ bytes\n"
     ]
    }
   ],
   "source": [
    "tariffs.info()"
   ]
  },
  {
   "cell_type": "markdown",
   "metadata": {},
   "source": [
    "**Вывод**"
   ]
  },
  {
   "cell_type": "markdown",
   "metadata": {},
   "source": [
    "В таблице с пользователями видим 38 пользователей, прекративших пользоваться тарифом. Необходимо привести `churn_date` и `reg_date` к `datetime`.\n",
    "\n",
    "В таблице со звонками также необходимо привести даты к `datetime`. Длительность звонков необходимо округлить, как указано в условии тарифного плана. Если в таблице есть звонки с продолжительностью 0, это пропущенные звонки, удалять их не будем. Столбец `id` приводим к типу `int`.\n",
    "\n",
    "В таблице с сообщениями необходимо столбец `id` привести к типу int и даты к `datetime`.\n",
    "\n",
    "В таблице с тарифными планами проблем нет."
   ]
  },
  {
   "cell_type": "markdown",
   "metadata": {},
   "source": [
    "## Шаг 2. Подготовка данных"
   ]
  },
  {
   "cell_type": "markdown",
   "metadata": {},
   "source": [
    "### Приведём данные к нужным типам"
   ]
  },
  {
   "cell_type": "markdown",
   "metadata": {},
   "source": [
    "В первом **Выводе** мы нашли данные, которые необходимо привести к нужным типам. Исправим их."
   ]
  },
  {
   "cell_type": "markdown",
   "metadata": {},
   "source": [
    "Начнем с таблицы пользователей"
   ]
  },
  {
   "cell_type": "code",
   "execution_count": 15,
   "metadata": {},
   "outputs": [],
   "source": [
    "users['churn_date'] = pd.to_datetime(users['churn_date'], format=\"%Y-%m-%d\")\n",
    "users['reg_date'] = pd.to_datetime(users['reg_date'], format=\"%Y-%m-%d\")"
   ]
  },
  {
   "cell_type": "markdown",
   "metadata": {},
   "source": [
    "Проверим"
   ]
  },
  {
   "cell_type": "code",
   "execution_count": 16,
   "metadata": {},
   "outputs": [
    {
     "name": "stdout",
     "output_type": "stream",
     "text": [
      "<class 'pandas.core.frame.DataFrame'>\n",
      "RangeIndex: 500 entries, 0 to 499\n",
      "Data columns (total 8 columns):\n",
      " #   Column      Non-Null Count  Dtype         \n",
      "---  ------      --------------  -----         \n",
      " 0   user_id     500 non-null    int64         \n",
      " 1   age         500 non-null    int64         \n",
      " 2   churn_date  38 non-null     datetime64[ns]\n",
      " 3   city        500 non-null    object        \n",
      " 4   first_name  500 non-null    object        \n",
      " 5   last_name   500 non-null    object        \n",
      " 6   reg_date    500 non-null    datetime64[ns]\n",
      " 7   tariff      500 non-null    object        \n",
      "dtypes: datetime64[ns](2), int64(2), object(4)\n",
      "memory usage: 31.4+ KB\n"
     ]
    }
   ],
   "source": [
    "users.info()"
   ]
  },
  {
   "cell_type": "markdown",
   "metadata": {},
   "source": [
    "Далее переходим к таблице со звонками."
   ]
  },
  {
   "cell_type": "code",
   "execution_count": 17,
   "metadata": {},
   "outputs": [],
   "source": [
    "calls['call_date'] = pd.to_datetime(calls['call_date'], format=\"%Y-%m-%d\")"
   ]
  },
  {
   "cell_type": "code",
   "execution_count": 18,
   "metadata": {},
   "outputs": [],
   "source": [
    "calls['id'] = calls['id'].astype('int')"
   ]
  },
  {
   "cell_type": "code",
   "execution_count": 19,
   "metadata": {},
   "outputs": [],
   "source": [
    "calls['duration'] = calls['duration'].apply(np.ceil).astype('int')"
   ]
  },
  {
   "cell_type": "code",
   "execution_count": 20,
   "metadata": {},
   "outputs": [
    {
     "data": {
      "text/html": [
       "<div>\n",
       "<style scoped>\n",
       "    .dataframe tbody tr th:only-of-type {\n",
       "        vertical-align: middle;\n",
       "    }\n",
       "\n",
       "    .dataframe tbody tr th {\n",
       "        vertical-align: top;\n",
       "    }\n",
       "\n",
       "    .dataframe thead th {\n",
       "        text-align: right;\n",
       "    }\n",
       "</style>\n",
       "<table border=\"1\" class=\"dataframe\">\n",
       "  <thead>\n",
       "    <tr style=\"text-align: right;\">\n",
       "      <th></th>\n",
       "      <th>id</th>\n",
       "      <th>call_date</th>\n",
       "      <th>duration</th>\n",
       "      <th>user_id</th>\n",
       "    </tr>\n",
       "  </thead>\n",
       "  <tbody>\n",
       "    <tr>\n",
       "      <th>0</th>\n",
       "      <td>10000</td>\n",
       "      <td>2018-07-25</td>\n",
       "      <td>0</td>\n",
       "      <td>1000</td>\n",
       "    </tr>\n",
       "    <tr>\n",
       "      <th>1</th>\n",
       "      <td>10001</td>\n",
       "      <td>2018-08-17</td>\n",
       "      <td>0</td>\n",
       "      <td>1000</td>\n",
       "    </tr>\n",
       "    <tr>\n",
       "      <th>2</th>\n",
       "      <td>10002</td>\n",
       "      <td>2018-06-11</td>\n",
       "      <td>3</td>\n",
       "      <td>1000</td>\n",
       "    </tr>\n",
       "    <tr>\n",
       "      <th>3</th>\n",
       "      <td>10003</td>\n",
       "      <td>2018-09-21</td>\n",
       "      <td>14</td>\n",
       "      <td>1000</td>\n",
       "    </tr>\n",
       "    <tr>\n",
       "      <th>4</th>\n",
       "      <td>10004</td>\n",
       "      <td>2018-12-15</td>\n",
       "      <td>6</td>\n",
       "      <td>1000</td>\n",
       "    </tr>\n",
       "  </tbody>\n",
       "</table>\n",
       "</div>"
      ],
      "text/plain": [
       "      id  call_date  duration  user_id\n",
       "0  10000 2018-07-25         0     1000\n",
       "1  10001 2018-08-17         0     1000\n",
       "2  10002 2018-06-11         3     1000\n",
       "3  10003 2018-09-21        14     1000\n",
       "4  10004 2018-12-15         6     1000"
      ]
     },
     "execution_count": 20,
     "metadata": {},
     "output_type": "execute_result"
    }
   ],
   "source": [
    "calls.head()"
   ]
  },
  {
   "cell_type": "code",
   "execution_count": 21,
   "metadata": {},
   "outputs": [
    {
     "name": "stdout",
     "output_type": "stream",
     "text": [
      "<class 'pandas.core.frame.DataFrame'>\n",
      "RangeIndex: 202607 entries, 0 to 202606\n",
      "Data columns (total 4 columns):\n",
      " #   Column     Non-Null Count   Dtype         \n",
      "---  ------     --------------   -----         \n",
      " 0   id         202607 non-null  int64         \n",
      " 1   call_date  202607 non-null  datetime64[ns]\n",
      " 2   duration   202607 non-null  int64         \n",
      " 3   user_id    202607 non-null  int64         \n",
      "dtypes: datetime64[ns](1), int64(3)\n",
      "memory usage: 6.2 MB\n"
     ]
    }
   ],
   "source": [
    "calls.info()"
   ]
  },
  {
   "cell_type": "markdown",
   "metadata": {},
   "source": [
    "Привели данные к нужным типам, округлил длительность звонков."
   ]
  },
  {
   "cell_type": "code",
   "execution_count": 22,
   "metadata": {},
   "outputs": [],
   "source": [
    "messages['id'] = messages['id'].astype('int')"
   ]
  },
  {
   "cell_type": "code",
   "execution_count": 23,
   "metadata": {},
   "outputs": [],
   "source": [
    "messages['message_date'] = pd.to_datetime(messages['message_date'], format=\"%Y-%m-%d\")"
   ]
  },
  {
   "cell_type": "code",
   "execution_count": 24,
   "metadata": {},
   "outputs": [
    {
     "name": "stdout",
     "output_type": "stream",
     "text": [
      "<class 'pandas.core.frame.DataFrame'>\n",
      "RangeIndex: 123036 entries, 0 to 123035\n",
      "Data columns (total 3 columns):\n",
      " #   Column        Non-Null Count   Dtype         \n",
      "---  ------        --------------   -----         \n",
      " 0   id            123036 non-null  int64         \n",
      " 1   message_date  123036 non-null  datetime64[ns]\n",
      " 2   user_id       123036 non-null  int64         \n",
      "dtypes: datetime64[ns](1), int64(2)\n",
      "memory usage: 2.8 MB\n"
     ]
    }
   ],
   "source": [
    "messages.info()"
   ]
  },
  {
   "cell_type": "code",
   "execution_count": 25,
   "metadata": {},
   "outputs": [],
   "source": [
    "internet['id'] = internet['id'].astype('int')"
   ]
  },
  {
   "cell_type": "code",
   "execution_count": 26,
   "metadata": {},
   "outputs": [],
   "source": [
    "internet['session_date'] = pd.to_datetime(internet['session_date'], format=\"%Y-%m-%d\")"
   ]
  },
  {
   "cell_type": "code",
   "execution_count": 27,
   "metadata": {},
   "outputs": [
    {
     "name": "stdout",
     "output_type": "stream",
     "text": [
      "<class 'pandas.core.frame.DataFrame'>\n",
      "RangeIndex: 149396 entries, 0 to 149395\n",
      "Data columns (total 5 columns):\n",
      " #   Column        Non-Null Count   Dtype         \n",
      "---  ------        --------------   -----         \n",
      " 0   Unnamed: 0    149396 non-null  int64         \n",
      " 1   id            149396 non-null  int64         \n",
      " 2   mb_used       149396 non-null  float64       \n",
      " 3   session_date  149396 non-null  datetime64[ns]\n",
      " 4   user_id       149396 non-null  int64         \n",
      "dtypes: datetime64[ns](1), float64(1), int64(3)\n",
      "memory usage: 5.7 MB\n"
     ]
    }
   ],
   "source": [
    "internet.info()"
   ]
  },
  {
   "cell_type": "markdown",
   "metadata": {},
   "source": [
    "Привели данные в сообщениях и интернете к нужным типам"
   ]
  },
  {
   "cell_type": "markdown",
   "metadata": {},
   "source": [
    "### Количество сделанных звонков и израсходованных минут разговора по месяцам"
   ]
  },
  {
   "cell_type": "code",
   "execution_count": 28,
   "metadata": {},
   "outputs": [],
   "source": [
    "calls['month'] = calls['call_date'].dt.month"
   ]
  },
  {
   "cell_type": "code",
   "execution_count": 29,
   "metadata": {},
   "outputs": [
    {
     "data": {
      "text/html": [
       "<div>\n",
       "<style scoped>\n",
       "    .dataframe tbody tr th:only-of-type {\n",
       "        vertical-align: middle;\n",
       "    }\n",
       "\n",
       "    .dataframe tbody tr th {\n",
       "        vertical-align: top;\n",
       "    }\n",
       "\n",
       "    .dataframe thead th {\n",
       "        text-align: right;\n",
       "    }\n",
       "</style>\n",
       "<table border=\"1\" class=\"dataframe\">\n",
       "  <thead>\n",
       "    <tr style=\"text-align: right;\">\n",
       "      <th></th>\n",
       "      <th>id</th>\n",
       "      <th>call_date</th>\n",
       "      <th>duration</th>\n",
       "      <th>user_id</th>\n",
       "      <th>month</th>\n",
       "    </tr>\n",
       "  </thead>\n",
       "  <tbody>\n",
       "    <tr>\n",
       "      <th>0</th>\n",
       "      <td>10000</td>\n",
       "      <td>2018-07-25</td>\n",
       "      <td>0</td>\n",
       "      <td>1000</td>\n",
       "      <td>7</td>\n",
       "    </tr>\n",
       "    <tr>\n",
       "      <th>1</th>\n",
       "      <td>10001</td>\n",
       "      <td>2018-08-17</td>\n",
       "      <td>0</td>\n",
       "      <td>1000</td>\n",
       "      <td>8</td>\n",
       "    </tr>\n",
       "    <tr>\n",
       "      <th>2</th>\n",
       "      <td>10002</td>\n",
       "      <td>2018-06-11</td>\n",
       "      <td>3</td>\n",
       "      <td>1000</td>\n",
       "      <td>6</td>\n",
       "    </tr>\n",
       "    <tr>\n",
       "      <th>3</th>\n",
       "      <td>10003</td>\n",
       "      <td>2018-09-21</td>\n",
       "      <td>14</td>\n",
       "      <td>1000</td>\n",
       "      <td>9</td>\n",
       "    </tr>\n",
       "    <tr>\n",
       "      <th>4</th>\n",
       "      <td>10004</td>\n",
       "      <td>2018-12-15</td>\n",
       "      <td>6</td>\n",
       "      <td>1000</td>\n",
       "      <td>12</td>\n",
       "    </tr>\n",
       "  </tbody>\n",
       "</table>\n",
       "</div>"
      ],
      "text/plain": [
       "      id  call_date  duration  user_id  month\n",
       "0  10000 2018-07-25         0     1000      7\n",
       "1  10001 2018-08-17         0     1000      8\n",
       "2  10002 2018-06-11         3     1000      6\n",
       "3  10003 2018-09-21        14     1000      9\n",
       "4  10004 2018-12-15         6     1000     12"
      ]
     },
     "execution_count": 29,
     "metadata": {},
     "output_type": "execute_result"
    }
   ],
   "source": [
    "calls.head()"
   ]
  },
  {
   "cell_type": "code",
   "execution_count": 30,
   "metadata": {},
   "outputs": [],
   "source": [
    "user_calls = calls.groupby(['user_id', 'month'])\\\n",
    "                  .agg({'duration':'sum', 'id':'count'})\\\n",
    "                  .reset_index()\\\n",
    "                  .rename(columns={'duration':'month_calls_duration','id':'calls_total_in_month'})"
   ]
  },
  {
   "cell_type": "code",
   "execution_count": 31,
   "metadata": {},
   "outputs": [
    {
     "data": {
      "text/html": [
       "<div>\n",
       "<style scoped>\n",
       "    .dataframe tbody tr th:only-of-type {\n",
       "        vertical-align: middle;\n",
       "    }\n",
       "\n",
       "    .dataframe tbody tr th {\n",
       "        vertical-align: top;\n",
       "    }\n",
       "\n",
       "    .dataframe thead th {\n",
       "        text-align: right;\n",
       "    }\n",
       "</style>\n",
       "<table border=\"1\" class=\"dataframe\">\n",
       "  <thead>\n",
       "    <tr style=\"text-align: right;\">\n",
       "      <th></th>\n",
       "      <th>user_id</th>\n",
       "      <th>month</th>\n",
       "      <th>month_calls_duration</th>\n",
       "      <th>calls_total_in_month</th>\n",
       "    </tr>\n",
       "  </thead>\n",
       "  <tbody>\n",
       "    <tr>\n",
       "      <th>0</th>\n",
       "      <td>1000</td>\n",
       "      <td>5</td>\n",
       "      <td>159</td>\n",
       "      <td>22</td>\n",
       "    </tr>\n",
       "    <tr>\n",
       "      <th>1</th>\n",
       "      <td>1000</td>\n",
       "      <td>6</td>\n",
       "      <td>172</td>\n",
       "      <td>43</td>\n",
       "    </tr>\n",
       "    <tr>\n",
       "      <th>2</th>\n",
       "      <td>1000</td>\n",
       "      <td>7</td>\n",
       "      <td>340</td>\n",
       "      <td>47</td>\n",
       "    </tr>\n",
       "    <tr>\n",
       "      <th>3</th>\n",
       "      <td>1000</td>\n",
       "      <td>8</td>\n",
       "      <td>408</td>\n",
       "      <td>52</td>\n",
       "    </tr>\n",
       "    <tr>\n",
       "      <th>4</th>\n",
       "      <td>1000</td>\n",
       "      <td>9</td>\n",
       "      <td>466</td>\n",
       "      <td>58</td>\n",
       "    </tr>\n",
       "  </tbody>\n",
       "</table>\n",
       "</div>"
      ],
      "text/plain": [
       "   user_id  month  month_calls_duration  calls_total_in_month\n",
       "0     1000      5                   159                    22\n",
       "1     1000      6                   172                    43\n",
       "2     1000      7                   340                    47\n",
       "3     1000      8                   408                    52\n",
       "4     1000      9                   466                    58"
      ]
     },
     "execution_count": 31,
     "metadata": {},
     "output_type": "execute_result"
    }
   ],
   "source": [
    "user_calls.head()"
   ]
  },
  {
   "cell_type": "markdown",
   "metadata": {},
   "source": [
    "### Количество отправленных сообщений по месяцам"
   ]
  },
  {
   "cell_type": "code",
   "execution_count": 32,
   "metadata": {},
   "outputs": [],
   "source": [
    "messages['month'] = messages['message_date'].dt.month"
   ]
  },
  {
   "cell_type": "code",
   "execution_count": 33,
   "metadata": {},
   "outputs": [
    {
     "data": {
      "text/html": [
       "<div>\n",
       "<style scoped>\n",
       "    .dataframe tbody tr th:only-of-type {\n",
       "        vertical-align: middle;\n",
       "    }\n",
       "\n",
       "    .dataframe tbody tr th {\n",
       "        vertical-align: top;\n",
       "    }\n",
       "\n",
       "    .dataframe thead th {\n",
       "        text-align: right;\n",
       "    }\n",
       "</style>\n",
       "<table border=\"1\" class=\"dataframe\">\n",
       "  <thead>\n",
       "    <tr style=\"text-align: right;\">\n",
       "      <th></th>\n",
       "      <th>id</th>\n",
       "      <th>message_date</th>\n",
       "      <th>user_id</th>\n",
       "      <th>month</th>\n",
       "    </tr>\n",
       "  </thead>\n",
       "  <tbody>\n",
       "    <tr>\n",
       "      <th>0</th>\n",
       "      <td>10000</td>\n",
       "      <td>2018-06-27</td>\n",
       "      <td>1000</td>\n",
       "      <td>6</td>\n",
       "    </tr>\n",
       "    <tr>\n",
       "      <th>1</th>\n",
       "      <td>10001</td>\n",
       "      <td>2018-10-08</td>\n",
       "      <td>1000</td>\n",
       "      <td>10</td>\n",
       "    </tr>\n",
       "    <tr>\n",
       "      <th>2</th>\n",
       "      <td>10002</td>\n",
       "      <td>2018-08-04</td>\n",
       "      <td>1000</td>\n",
       "      <td>8</td>\n",
       "    </tr>\n",
       "    <tr>\n",
       "      <th>3</th>\n",
       "      <td>10003</td>\n",
       "      <td>2018-06-16</td>\n",
       "      <td>1000</td>\n",
       "      <td>6</td>\n",
       "    </tr>\n",
       "    <tr>\n",
       "      <th>4</th>\n",
       "      <td>10004</td>\n",
       "      <td>2018-12-05</td>\n",
       "      <td>1000</td>\n",
       "      <td>12</td>\n",
       "    </tr>\n",
       "  </tbody>\n",
       "</table>\n",
       "</div>"
      ],
      "text/plain": [
       "      id message_date  user_id  month\n",
       "0  10000   2018-06-27     1000      6\n",
       "1  10001   2018-10-08     1000     10\n",
       "2  10002   2018-08-04     1000      8\n",
       "3  10003   2018-06-16     1000      6\n",
       "4  10004   2018-12-05     1000     12"
      ]
     },
     "execution_count": 33,
     "metadata": {},
     "output_type": "execute_result"
    }
   ],
   "source": [
    "messages.head()"
   ]
  },
  {
   "cell_type": "code",
   "execution_count": 34,
   "metadata": {},
   "outputs": [],
   "source": [
    "user_messages = messages.groupby(['user_id', 'month'])\\\n",
    "                        .agg({'id':'count'})\\\n",
    "                        .reset_index()\\\n",
    "                        .rename(columns={'id':'sms_total_in_month'})"
   ]
  },
  {
   "cell_type": "code",
   "execution_count": 35,
   "metadata": {},
   "outputs": [
    {
     "data": {
      "text/html": [
       "<div>\n",
       "<style scoped>\n",
       "    .dataframe tbody tr th:only-of-type {\n",
       "        vertical-align: middle;\n",
       "    }\n",
       "\n",
       "    .dataframe tbody tr th {\n",
       "        vertical-align: top;\n",
       "    }\n",
       "\n",
       "    .dataframe thead th {\n",
       "        text-align: right;\n",
       "    }\n",
       "</style>\n",
       "<table border=\"1\" class=\"dataframe\">\n",
       "  <thead>\n",
       "    <tr style=\"text-align: right;\">\n",
       "      <th></th>\n",
       "      <th>user_id</th>\n",
       "      <th>month</th>\n",
       "      <th>sms_total_in_month</th>\n",
       "    </tr>\n",
       "  </thead>\n",
       "  <tbody>\n",
       "    <tr>\n",
       "      <th>0</th>\n",
       "      <td>1000</td>\n",
       "      <td>5</td>\n",
       "      <td>22</td>\n",
       "    </tr>\n",
       "    <tr>\n",
       "      <th>1</th>\n",
       "      <td>1000</td>\n",
       "      <td>6</td>\n",
       "      <td>60</td>\n",
       "    </tr>\n",
       "    <tr>\n",
       "      <th>2</th>\n",
       "      <td>1000</td>\n",
       "      <td>7</td>\n",
       "      <td>75</td>\n",
       "    </tr>\n",
       "    <tr>\n",
       "      <th>3</th>\n",
       "      <td>1000</td>\n",
       "      <td>8</td>\n",
       "      <td>81</td>\n",
       "    </tr>\n",
       "    <tr>\n",
       "      <th>4</th>\n",
       "      <td>1000</td>\n",
       "      <td>9</td>\n",
       "      <td>57</td>\n",
       "    </tr>\n",
       "  </tbody>\n",
       "</table>\n",
       "</div>"
      ],
      "text/plain": [
       "   user_id  month  sms_total_in_month\n",
       "0     1000      5                  22\n",
       "1     1000      6                  60\n",
       "2     1000      7                  75\n",
       "3     1000      8                  81\n",
       "4     1000      9                  57"
      ]
     },
     "execution_count": 35,
     "metadata": {},
     "output_type": "execute_result"
    }
   ],
   "source": [
    "user_messages.head()"
   ]
  },
  {
   "cell_type": "markdown",
   "metadata": {},
   "source": [
    "### Объем израсходованного интернет-трафика по месяцам"
   ]
  },
  {
   "cell_type": "code",
   "execution_count": 36,
   "metadata": {},
   "outputs": [],
   "source": [
    "internet['month'] = internet['session_date'].dt.month"
   ]
  },
  {
   "cell_type": "code",
   "execution_count": 37,
   "metadata": {},
   "outputs": [
    {
     "data": {
      "text/html": [
       "<div>\n",
       "<style scoped>\n",
       "    .dataframe tbody tr th:only-of-type {\n",
       "        vertical-align: middle;\n",
       "    }\n",
       "\n",
       "    .dataframe tbody tr th {\n",
       "        vertical-align: top;\n",
       "    }\n",
       "\n",
       "    .dataframe thead th {\n",
       "        text-align: right;\n",
       "    }\n",
       "</style>\n",
       "<table border=\"1\" class=\"dataframe\">\n",
       "  <thead>\n",
       "    <tr style=\"text-align: right;\">\n",
       "      <th></th>\n",
       "      <th>Unnamed: 0</th>\n",
       "      <th>id</th>\n",
       "      <th>mb_used</th>\n",
       "      <th>session_date</th>\n",
       "      <th>user_id</th>\n",
       "      <th>month</th>\n",
       "    </tr>\n",
       "  </thead>\n",
       "  <tbody>\n",
       "    <tr>\n",
       "      <th>0</th>\n",
       "      <td>0</td>\n",
       "      <td>10000</td>\n",
       "      <td>112.95</td>\n",
       "      <td>2018-11-25</td>\n",
       "      <td>1000</td>\n",
       "      <td>11</td>\n",
       "    </tr>\n",
       "    <tr>\n",
       "      <th>1</th>\n",
       "      <td>1</td>\n",
       "      <td>10001</td>\n",
       "      <td>1,052.81</td>\n",
       "      <td>2018-09-07</td>\n",
       "      <td>1000</td>\n",
       "      <td>9</td>\n",
       "    </tr>\n",
       "    <tr>\n",
       "      <th>2</th>\n",
       "      <td>2</td>\n",
       "      <td>10002</td>\n",
       "      <td>1,197.26</td>\n",
       "      <td>2018-06-25</td>\n",
       "      <td>1000</td>\n",
       "      <td>6</td>\n",
       "    </tr>\n",
       "    <tr>\n",
       "      <th>3</th>\n",
       "      <td>3</td>\n",
       "      <td>10003</td>\n",
       "      <td>550.27</td>\n",
       "      <td>2018-08-22</td>\n",
       "      <td>1000</td>\n",
       "      <td>8</td>\n",
       "    </tr>\n",
       "    <tr>\n",
       "      <th>4</th>\n",
       "      <td>4</td>\n",
       "      <td>10004</td>\n",
       "      <td>302.56</td>\n",
       "      <td>2018-09-24</td>\n",
       "      <td>1000</td>\n",
       "      <td>9</td>\n",
       "    </tr>\n",
       "  </tbody>\n",
       "</table>\n",
       "</div>"
      ],
      "text/plain": [
       "   Unnamed: 0     id  mb_used session_date  user_id  month\n",
       "0           0  10000   112.95   2018-11-25     1000     11\n",
       "1           1  10001 1,052.81   2018-09-07     1000      9\n",
       "2           2  10002 1,197.26   2018-06-25     1000      6\n",
       "3           3  10003   550.27   2018-08-22     1000      8\n",
       "4           4  10004   302.56   2018-09-24     1000      9"
      ]
     },
     "execution_count": 37,
     "metadata": {},
     "output_type": "execute_result"
    }
   ],
   "source": [
    "internet.head()"
   ]
  },
  {
   "cell_type": "code",
   "execution_count": 38,
   "metadata": {},
   "outputs": [],
   "source": [
    "user_internet = internet.groupby(['user_id', 'month'])\\\n",
    "                        .agg({'mb_used':'sum'})\\\n",
    "                        .reset_index()\\\n",
    "                        .rename(columns={'mb_used':'mb_total_in_month'})"
   ]
  },
  {
   "cell_type": "code",
   "execution_count": 39,
   "metadata": {},
   "outputs": [
    {
     "data": {
      "text/html": [
       "<div>\n",
       "<style scoped>\n",
       "    .dataframe tbody tr th:only-of-type {\n",
       "        vertical-align: middle;\n",
       "    }\n",
       "\n",
       "    .dataframe tbody tr th {\n",
       "        vertical-align: top;\n",
       "    }\n",
       "\n",
       "    .dataframe thead th {\n",
       "        text-align: right;\n",
       "    }\n",
       "</style>\n",
       "<table border=\"1\" class=\"dataframe\">\n",
       "  <thead>\n",
       "    <tr style=\"text-align: right;\">\n",
       "      <th></th>\n",
       "      <th>user_id</th>\n",
       "      <th>month</th>\n",
       "      <th>mb_total_in_month</th>\n",
       "    </tr>\n",
       "  </thead>\n",
       "  <tbody>\n",
       "    <tr>\n",
       "      <th>0</th>\n",
       "      <td>1000</td>\n",
       "      <td>5</td>\n",
       "      <td>2,253.49</td>\n",
       "    </tr>\n",
       "    <tr>\n",
       "      <th>1</th>\n",
       "      <td>1000</td>\n",
       "      <td>6</td>\n",
       "      <td>23,233.77</td>\n",
       "    </tr>\n",
       "    <tr>\n",
       "      <th>2</th>\n",
       "      <td>1000</td>\n",
       "      <td>7</td>\n",
       "      <td>14,003.64</td>\n",
       "    </tr>\n",
       "    <tr>\n",
       "      <th>3</th>\n",
       "      <td>1000</td>\n",
       "      <td>8</td>\n",
       "      <td>14,055.93</td>\n",
       "    </tr>\n",
       "    <tr>\n",
       "      <th>4</th>\n",
       "      <td>1000</td>\n",
       "      <td>9</td>\n",
       "      <td>14,568.91</td>\n",
       "    </tr>\n",
       "  </tbody>\n",
       "</table>\n",
       "</div>"
      ],
      "text/plain": [
       "   user_id  month  mb_total_in_month\n",
       "0     1000      5           2,253.49\n",
       "1     1000      6          23,233.77\n",
       "2     1000      7          14,003.64\n",
       "3     1000      8          14,055.93\n",
       "4     1000      9          14,568.91"
      ]
     },
     "execution_count": 39,
     "metadata": {},
     "output_type": "execute_result"
    }
   ],
   "source": [
    "user_internet.head()"
   ]
  },
  {
   "cell_type": "markdown",
   "metadata": {},
   "source": [
    "### Выручка за месяц с каждого пользователя"
   ]
  },
  {
   "cell_type": "markdown",
   "metadata": {},
   "source": [
    "Объединим полученные данные в одну таблицу, добавим тариф и город каждого пользователя, и заменим пропуски на 0. Так как пустое значение соответсвует нулевому потребленю смс/трафика/сообещний в конкретном месяце. Для дальнейшего анализатам понадобиться учитывать и нулевое потребление, например при расчете средней (ведь nan в расчете средней не участвует)"
   ]
  },
  {
   "cell_type": "code",
   "execution_count": 40,
   "metadata": {},
   "outputs": [
    {
     "data": {
      "text/html": [
       "<div>\n",
       "<style scoped>\n",
       "    .dataframe tbody tr th:only-of-type {\n",
       "        vertical-align: middle;\n",
       "    }\n",
       "\n",
       "    .dataframe tbody tr th {\n",
       "        vertical-align: top;\n",
       "    }\n",
       "\n",
       "    .dataframe thead th {\n",
       "        text-align: right;\n",
       "    }\n",
       "</style>\n",
       "<table border=\"1\" class=\"dataframe\">\n",
       "  <thead>\n",
       "    <tr style=\"text-align: right;\">\n",
       "      <th></th>\n",
       "      <th>user_id</th>\n",
       "      <th>month</th>\n",
       "      <th>month_calls_duration</th>\n",
       "      <th>calls_total_in_month</th>\n",
       "      <th>mb_total_in_month</th>\n",
       "    </tr>\n",
       "  </thead>\n",
       "  <tbody>\n",
       "    <tr>\n",
       "      <th>0</th>\n",
       "      <td>1000</td>\n",
       "      <td>5</td>\n",
       "      <td>159.00</td>\n",
       "      <td>22.00</td>\n",
       "      <td>2,253.49</td>\n",
       "    </tr>\n",
       "    <tr>\n",
       "      <th>1</th>\n",
       "      <td>1000</td>\n",
       "      <td>6</td>\n",
       "      <td>172.00</td>\n",
       "      <td>43.00</td>\n",
       "      <td>23,233.77</td>\n",
       "    </tr>\n",
       "    <tr>\n",
       "      <th>2</th>\n",
       "      <td>1000</td>\n",
       "      <td>7</td>\n",
       "      <td>340.00</td>\n",
       "      <td>47.00</td>\n",
       "      <td>14,003.64</td>\n",
       "    </tr>\n",
       "    <tr>\n",
       "      <th>3</th>\n",
       "      <td>1000</td>\n",
       "      <td>8</td>\n",
       "      <td>408.00</td>\n",
       "      <td>52.00</td>\n",
       "      <td>14,055.93</td>\n",
       "    </tr>\n",
       "    <tr>\n",
       "      <th>4</th>\n",
       "      <td>1000</td>\n",
       "      <td>9</td>\n",
       "      <td>466.00</td>\n",
       "      <td>58.00</td>\n",
       "      <td>14,568.91</td>\n",
       "    </tr>\n",
       "  </tbody>\n",
       "</table>\n",
       "</div>"
      ],
      "text/plain": [
       "   user_id  month  month_calls_duration  calls_total_in_month  \\\n",
       "0     1000      5                159.00                 22.00   \n",
       "1     1000      6                172.00                 43.00   \n",
       "2     1000      7                340.00                 47.00   \n",
       "3     1000      8                408.00                 52.00   \n",
       "4     1000      9                466.00                 58.00   \n",
       "\n",
       "   mb_total_in_month  \n",
       "0           2,253.49  \n",
       "1          23,233.77  \n",
       "2          14,003.64  \n",
       "3          14,055.93  \n",
       "4          14,568.91  "
      ]
     },
     "execution_count": 40,
     "metadata": {},
     "output_type": "execute_result"
    }
   ],
   "source": [
    "users_consumption = user_calls.merge(user_internet, on=['user_id','month'], how ='outer')\n",
    "users_consumption.head()"
   ]
  },
  {
   "cell_type": "code",
   "execution_count": 41,
   "metadata": {},
   "outputs": [
    {
     "data": {
      "text/html": [
       "<div>\n",
       "<style scoped>\n",
       "    .dataframe tbody tr th:only-of-type {\n",
       "        vertical-align: middle;\n",
       "    }\n",
       "\n",
       "    .dataframe tbody tr th {\n",
       "        vertical-align: top;\n",
       "    }\n",
       "\n",
       "    .dataframe thead th {\n",
       "        text-align: right;\n",
       "    }\n",
       "</style>\n",
       "<table border=\"1\" class=\"dataframe\">\n",
       "  <thead>\n",
       "    <tr style=\"text-align: right;\">\n",
       "      <th></th>\n",
       "      <th>user_id</th>\n",
       "      <th>month</th>\n",
       "      <th>month_calls_duration</th>\n",
       "      <th>calls_total_in_month</th>\n",
       "      <th>mb_total_in_month</th>\n",
       "      <th>sms_total_in_month</th>\n",
       "    </tr>\n",
       "  </thead>\n",
       "  <tbody>\n",
       "    <tr>\n",
       "      <th>0</th>\n",
       "      <td>1000</td>\n",
       "      <td>5</td>\n",
       "      <td>159.00</td>\n",
       "      <td>22.00</td>\n",
       "      <td>2,253.49</td>\n",
       "      <td>22.00</td>\n",
       "    </tr>\n",
       "    <tr>\n",
       "      <th>1</th>\n",
       "      <td>1000</td>\n",
       "      <td>6</td>\n",
       "      <td>172.00</td>\n",
       "      <td>43.00</td>\n",
       "      <td>23,233.77</td>\n",
       "      <td>60.00</td>\n",
       "    </tr>\n",
       "    <tr>\n",
       "      <th>2</th>\n",
       "      <td>1000</td>\n",
       "      <td>7</td>\n",
       "      <td>340.00</td>\n",
       "      <td>47.00</td>\n",
       "      <td>14,003.64</td>\n",
       "      <td>75.00</td>\n",
       "    </tr>\n",
       "    <tr>\n",
       "      <th>3</th>\n",
       "      <td>1000</td>\n",
       "      <td>8</td>\n",
       "      <td>408.00</td>\n",
       "      <td>52.00</td>\n",
       "      <td>14,055.93</td>\n",
       "      <td>81.00</td>\n",
       "    </tr>\n",
       "    <tr>\n",
       "      <th>4</th>\n",
       "      <td>1000</td>\n",
       "      <td>9</td>\n",
       "      <td>466.00</td>\n",
       "      <td>58.00</td>\n",
       "      <td>14,568.91</td>\n",
       "      <td>57.00</td>\n",
       "    </tr>\n",
       "  </tbody>\n",
       "</table>\n",
       "</div>"
      ],
      "text/plain": [
       "   user_id  month  month_calls_duration  calls_total_in_month  \\\n",
       "0     1000      5                159.00                 22.00   \n",
       "1     1000      6                172.00                 43.00   \n",
       "2     1000      7                340.00                 47.00   \n",
       "3     1000      8                408.00                 52.00   \n",
       "4     1000      9                466.00                 58.00   \n",
       "\n",
       "   mb_total_in_month  sms_total_in_month  \n",
       "0           2,253.49               22.00  \n",
       "1          23,233.77               60.00  \n",
       "2          14,003.64               75.00  \n",
       "3          14,055.93               81.00  \n",
       "4          14,568.91               57.00  "
      ]
     },
     "execution_count": 41,
     "metadata": {},
     "output_type": "execute_result"
    }
   ],
   "source": [
    "users_consumption = users_consumption.merge(user_messages, on=['user_id','month'], how ='outer')\n",
    "users_consumption.head()"
   ]
  },
  {
   "cell_type": "code",
   "execution_count": 42,
   "metadata": {},
   "outputs": [
    {
     "data": {
      "text/html": [
       "<div>\n",
       "<style scoped>\n",
       "    .dataframe tbody tr th:only-of-type {\n",
       "        vertical-align: middle;\n",
       "    }\n",
       "\n",
       "    .dataframe tbody tr th {\n",
       "        vertical-align: top;\n",
       "    }\n",
       "\n",
       "    .dataframe thead th {\n",
       "        text-align: right;\n",
       "    }\n",
       "</style>\n",
       "<table border=\"1\" class=\"dataframe\">\n",
       "  <thead>\n",
       "    <tr style=\"text-align: right;\">\n",
       "      <th></th>\n",
       "      <th>user_id</th>\n",
       "      <th>month</th>\n",
       "      <th>month_calls_duration</th>\n",
       "      <th>calls_total_in_month</th>\n",
       "      <th>mb_total_in_month</th>\n",
       "      <th>sms_total_in_month</th>\n",
       "      <th>tariff</th>\n",
       "    </tr>\n",
       "  </thead>\n",
       "  <tbody>\n",
       "    <tr>\n",
       "      <th>0</th>\n",
       "      <td>1000</td>\n",
       "      <td>5</td>\n",
       "      <td>159.00</td>\n",
       "      <td>22.00</td>\n",
       "      <td>2,253.49</td>\n",
       "      <td>22.00</td>\n",
       "      <td>ultra</td>\n",
       "    </tr>\n",
       "    <tr>\n",
       "      <th>1</th>\n",
       "      <td>1000</td>\n",
       "      <td>6</td>\n",
       "      <td>172.00</td>\n",
       "      <td>43.00</td>\n",
       "      <td>23,233.77</td>\n",
       "      <td>60.00</td>\n",
       "      <td>ultra</td>\n",
       "    </tr>\n",
       "    <tr>\n",
       "      <th>2</th>\n",
       "      <td>1000</td>\n",
       "      <td>7</td>\n",
       "      <td>340.00</td>\n",
       "      <td>47.00</td>\n",
       "      <td>14,003.64</td>\n",
       "      <td>75.00</td>\n",
       "      <td>ultra</td>\n",
       "    </tr>\n",
       "    <tr>\n",
       "      <th>3</th>\n",
       "      <td>1000</td>\n",
       "      <td>8</td>\n",
       "      <td>408.00</td>\n",
       "      <td>52.00</td>\n",
       "      <td>14,055.93</td>\n",
       "      <td>81.00</td>\n",
       "      <td>ultra</td>\n",
       "    </tr>\n",
       "    <tr>\n",
       "      <th>4</th>\n",
       "      <td>1000</td>\n",
       "      <td>9</td>\n",
       "      <td>466.00</td>\n",
       "      <td>58.00</td>\n",
       "      <td>14,568.91</td>\n",
       "      <td>57.00</td>\n",
       "      <td>ultra</td>\n",
       "    </tr>\n",
       "  </tbody>\n",
       "</table>\n",
       "</div>"
      ],
      "text/plain": [
       "   user_id  month  month_calls_duration  calls_total_in_month  \\\n",
       "0     1000      5                159.00                 22.00   \n",
       "1     1000      6                172.00                 43.00   \n",
       "2     1000      7                340.00                 47.00   \n",
       "3     1000      8                408.00                 52.00   \n",
       "4     1000      9                466.00                 58.00   \n",
       "\n",
       "   mb_total_in_month  sms_total_in_month tariff  \n",
       "0           2,253.49               22.00  ultra  \n",
       "1          23,233.77               60.00  ultra  \n",
       "2          14,003.64               75.00  ultra  \n",
       "3          14,055.93               81.00  ultra  \n",
       "4          14,568.91               57.00  ultra  "
      ]
     },
     "execution_count": 42,
     "metadata": {},
     "output_type": "execute_result"
    }
   ],
   "source": [
    "users_consumption = users_consumption.merge(users[['user_id','tariff']], on=['user_id'], how ='left')\n",
    "users_consumption.head()"
   ]
  },
  {
   "cell_type": "code",
   "execution_count": 43,
   "metadata": {},
   "outputs": [
    {
     "data": {
      "text/html": [
       "<div>\n",
       "<style scoped>\n",
       "    .dataframe tbody tr th:only-of-type {\n",
       "        vertical-align: middle;\n",
       "    }\n",
       "\n",
       "    .dataframe tbody tr th {\n",
       "        vertical-align: top;\n",
       "    }\n",
       "\n",
       "    .dataframe thead th {\n",
       "        text-align: right;\n",
       "    }\n",
       "</style>\n",
       "<table border=\"1\" class=\"dataframe\">\n",
       "  <thead>\n",
       "    <tr style=\"text-align: right;\">\n",
       "      <th></th>\n",
       "      <th>user_id</th>\n",
       "      <th>month</th>\n",
       "      <th>month_calls_duration</th>\n",
       "      <th>calls_total_in_month</th>\n",
       "      <th>mb_total_in_month</th>\n",
       "      <th>sms_total_in_month</th>\n",
       "      <th>tariff</th>\n",
       "      <th>city</th>\n",
       "    </tr>\n",
       "  </thead>\n",
       "  <tbody>\n",
       "    <tr>\n",
       "      <th>0</th>\n",
       "      <td>1000</td>\n",
       "      <td>5</td>\n",
       "      <td>159.00</td>\n",
       "      <td>22.00</td>\n",
       "      <td>2,253.49</td>\n",
       "      <td>22.00</td>\n",
       "      <td>ultra</td>\n",
       "      <td>Краснодар</td>\n",
       "    </tr>\n",
       "    <tr>\n",
       "      <th>1</th>\n",
       "      <td>1000</td>\n",
       "      <td>6</td>\n",
       "      <td>172.00</td>\n",
       "      <td>43.00</td>\n",
       "      <td>23,233.77</td>\n",
       "      <td>60.00</td>\n",
       "      <td>ultra</td>\n",
       "      <td>Краснодар</td>\n",
       "    </tr>\n",
       "    <tr>\n",
       "      <th>2</th>\n",
       "      <td>1000</td>\n",
       "      <td>7</td>\n",
       "      <td>340.00</td>\n",
       "      <td>47.00</td>\n",
       "      <td>14,003.64</td>\n",
       "      <td>75.00</td>\n",
       "      <td>ultra</td>\n",
       "      <td>Краснодар</td>\n",
       "    </tr>\n",
       "    <tr>\n",
       "      <th>3</th>\n",
       "      <td>1000</td>\n",
       "      <td>8</td>\n",
       "      <td>408.00</td>\n",
       "      <td>52.00</td>\n",
       "      <td>14,055.93</td>\n",
       "      <td>81.00</td>\n",
       "      <td>ultra</td>\n",
       "      <td>Краснодар</td>\n",
       "    </tr>\n",
       "    <tr>\n",
       "      <th>4</th>\n",
       "      <td>1000</td>\n",
       "      <td>9</td>\n",
       "      <td>466.00</td>\n",
       "      <td>58.00</td>\n",
       "      <td>14,568.91</td>\n",
       "      <td>57.00</td>\n",
       "      <td>ultra</td>\n",
       "      <td>Краснодар</td>\n",
       "    </tr>\n",
       "  </tbody>\n",
       "</table>\n",
       "</div>"
      ],
      "text/plain": [
       "   user_id  month  month_calls_duration  calls_total_in_month  \\\n",
       "0     1000      5                159.00                 22.00   \n",
       "1     1000      6                172.00                 43.00   \n",
       "2     1000      7                340.00                 47.00   \n",
       "3     1000      8                408.00                 52.00   \n",
       "4     1000      9                466.00                 58.00   \n",
       "\n",
       "   mb_total_in_month  sms_total_in_month tariff       city  \n",
       "0           2,253.49               22.00  ultra  Краснодар  \n",
       "1          23,233.77               60.00  ultra  Краснодар  \n",
       "2          14,003.64               75.00  ultra  Краснодар  \n",
       "3          14,055.93               81.00  ultra  Краснодар  \n",
       "4          14,568.91               57.00  ultra  Краснодар  "
      ]
     },
     "execution_count": 43,
     "metadata": {},
     "output_type": "execute_result"
    }
   ],
   "source": [
    "users_consumption = users_consumption.merge(users[['user_id','city']], on=['user_id'], how ='left')\n",
    "users_consumption.head()"
   ]
  },
  {
   "cell_type": "code",
   "execution_count": 44,
   "metadata": {},
   "outputs": [
    {
     "data": {
      "text/plain": [
       "user_id                   0\n",
       "month                     0\n",
       "month_calls_duration     40\n",
       "calls_total_in_month     40\n",
       "mb_total_in_month        11\n",
       "sms_total_in_month      497\n",
       "tariff                    0\n",
       "city                      0\n",
       "dtype: int64"
      ]
     },
     "execution_count": 44,
     "metadata": {},
     "output_type": "execute_result"
    }
   ],
   "source": [
    "users_consumption.isna().sum()"
   ]
  },
  {
   "cell_type": "code",
   "execution_count": 45,
   "metadata": {},
   "outputs": [],
   "source": [
    "users_consumption.fillna(0, inplace=True)"
   ]
  },
  {
   "cell_type": "code",
   "execution_count": 46,
   "metadata": {},
   "outputs": [
    {
     "data": {
      "text/html": [
       "<div>\n",
       "<style scoped>\n",
       "    .dataframe tbody tr th:only-of-type {\n",
       "        vertical-align: middle;\n",
       "    }\n",
       "\n",
       "    .dataframe tbody tr th {\n",
       "        vertical-align: top;\n",
       "    }\n",
       "\n",
       "    .dataframe thead th {\n",
       "        text-align: right;\n",
       "    }\n",
       "</style>\n",
       "<table border=\"1\" class=\"dataframe\">\n",
       "  <thead>\n",
       "    <tr style=\"text-align: right;\">\n",
       "      <th></th>\n",
       "      <th>user_id</th>\n",
       "      <th>month</th>\n",
       "      <th>month_calls_duration</th>\n",
       "      <th>calls_total_in_month</th>\n",
       "      <th>mb_total_in_month</th>\n",
       "      <th>sms_total_in_month</th>\n",
       "      <th>tariff</th>\n",
       "      <th>city</th>\n",
       "    </tr>\n",
       "  </thead>\n",
       "  <tbody>\n",
       "    <tr>\n",
       "      <th>0</th>\n",
       "      <td>1000</td>\n",
       "      <td>5</td>\n",
       "      <td>159.00</td>\n",
       "      <td>22.00</td>\n",
       "      <td>2,253.49</td>\n",
       "      <td>22.00</td>\n",
       "      <td>ultra</td>\n",
       "      <td>Краснодар</td>\n",
       "    </tr>\n",
       "    <tr>\n",
       "      <th>1</th>\n",
       "      <td>1000</td>\n",
       "      <td>6</td>\n",
       "      <td>172.00</td>\n",
       "      <td>43.00</td>\n",
       "      <td>23,233.77</td>\n",
       "      <td>60.00</td>\n",
       "      <td>ultra</td>\n",
       "      <td>Краснодар</td>\n",
       "    </tr>\n",
       "    <tr>\n",
       "      <th>2</th>\n",
       "      <td>1000</td>\n",
       "      <td>7</td>\n",
       "      <td>340.00</td>\n",
       "      <td>47.00</td>\n",
       "      <td>14,003.64</td>\n",
       "      <td>75.00</td>\n",
       "      <td>ultra</td>\n",
       "      <td>Краснодар</td>\n",
       "    </tr>\n",
       "    <tr>\n",
       "      <th>3</th>\n",
       "      <td>1000</td>\n",
       "      <td>8</td>\n",
       "      <td>408.00</td>\n",
       "      <td>52.00</td>\n",
       "      <td>14,055.93</td>\n",
       "      <td>81.00</td>\n",
       "      <td>ultra</td>\n",
       "      <td>Краснодар</td>\n",
       "    </tr>\n",
       "    <tr>\n",
       "      <th>4</th>\n",
       "      <td>1000</td>\n",
       "      <td>9</td>\n",
       "      <td>466.00</td>\n",
       "      <td>58.00</td>\n",
       "      <td>14,568.91</td>\n",
       "      <td>57.00</td>\n",
       "      <td>ultra</td>\n",
       "      <td>Краснодар</td>\n",
       "    </tr>\n",
       "  </tbody>\n",
       "</table>\n",
       "</div>"
      ],
      "text/plain": [
       "   user_id  month  month_calls_duration  calls_total_in_month  \\\n",
       "0     1000      5                159.00                 22.00   \n",
       "1     1000      6                172.00                 43.00   \n",
       "2     1000      7                340.00                 47.00   \n",
       "3     1000      8                408.00                 52.00   \n",
       "4     1000      9                466.00                 58.00   \n",
       "\n",
       "   mb_total_in_month  sms_total_in_month tariff       city  \n",
       "0           2,253.49               22.00  ultra  Краснодар  \n",
       "1          23,233.77               60.00  ultra  Краснодар  \n",
       "2          14,003.64               75.00  ultra  Краснодар  \n",
       "3          14,055.93               81.00  ultra  Краснодар  \n",
       "4          14,568.91               57.00  ultra  Краснодар  "
      ]
     },
     "execution_count": 46,
     "metadata": {},
     "output_type": "execute_result"
    }
   ],
   "source": [
    "users_consumption.head(5)"
   ]
  },
  {
   "cell_type": "code",
   "execution_count": 47,
   "metadata": {},
   "outputs": [
    {
     "data": {
      "text/plain": [
       "user_id                 0\n",
       "month                   0\n",
       "month_calls_duration    0\n",
       "calls_total_in_month    0\n",
       "mb_total_in_month       0\n",
       "sms_total_in_month      0\n",
       "tariff                  0\n",
       "city                    0\n",
       "dtype: int64"
      ]
     },
     "execution_count": 47,
     "metadata": {},
     "output_type": "execute_result"
    }
   ],
   "source": [
    "users_consumption.isna().sum()"
   ]
  },
  {
   "cell_type": "code",
   "execution_count": 48,
   "metadata": {},
   "outputs": [
    {
     "data": {
      "text/plain": [
       "0"
      ]
     },
     "execution_count": 48,
     "metadata": {},
     "output_type": "execute_result"
    }
   ],
   "source": [
    "users_consumption.duplicated().sum()"
   ]
  },
  {
   "cell_type": "markdown",
   "metadata": {},
   "source": [
    "Функция для расчета прибыли"
   ]
  },
  {
   "cell_type": "code",
   "execution_count": 49,
   "metadata": {},
   "outputs": [],
   "source": [
    "def users_revenue(row):       \n",
    "    tariff = tariffs.loc[tariffs['tariff_name'] == row['tariff']]\n",
    "    \n",
    "    # считаем сколько за месяц потратил пользователь исходя из его тарифа\n",
    "    revenue = 0\n",
    "    monthly_fee = tariff.iloc[0,3]\n",
    "    revenue += monthly_fee\n",
    "    \n",
    "    # минуты \n",
    "    if row['month_calls_duration'] > tariff.iloc[0,2]:\n",
    "        extra_minutes_cost = (row['month_calls_duration'] - tariff.iloc[0,2]) * tariff.iloc[0,-2]\n",
    "        revenue += extra_minutes_cost\n",
    "        \n",
    "    # сообщения\n",
    "    if row['sms_total_in_month'] > tariff.iloc[0,0]:\n",
    "        extra_message_cost = (row['sms_total_in_month'] - tariff.iloc[0,0]) * tariff.iloc[0,-3]\n",
    "        revenue += extra_message_cost\n",
    "     \n",
    "    # трафик\n",
    "    if row['mb_total_in_month'] > tariff.iloc[0,1]:\n",
    "        \n",
    "        # так как клиент может докупать только гигабайты а не мб, рассчитаем сколько гб докупил пользовател\n",
    "        # и исходя из этого рассчитаем стоимость доп трафика\n",
    "        \n",
    "        extra_gb_used = np.ceil((row['mb_total_in_month'] - tariff.iloc[0,1]) / 1024)\n",
    "        extra_traffic_cost = extra_gb_used * tariff.iloc[0,-4]\n",
    "        revenue += extra_traffic_cost\n",
    "\n",
    "    return revenue"
   ]
  },
  {
   "cell_type": "code",
   "execution_count": 50,
   "metadata": {},
   "outputs": [],
   "source": [
    "users_consumption['company_revenue'] = users_consumption.apply(users_revenue, axis=1)"
   ]
  },
  {
   "cell_type": "markdown",
   "metadata": {},
   "source": [
    "Выведем несколько строк и проверим корректность расчетов"
   ]
  },
  {
   "cell_type": "code",
   "execution_count": 51,
   "metadata": {},
   "outputs": [
    {
     "data": {
      "text/html": [
       "<div>\n",
       "<style scoped>\n",
       "    .dataframe tbody tr th:only-of-type {\n",
       "        vertical-align: middle;\n",
       "    }\n",
       "\n",
       "    .dataframe tbody tr th {\n",
       "        vertical-align: top;\n",
       "    }\n",
       "\n",
       "    .dataframe thead th {\n",
       "        text-align: right;\n",
       "    }\n",
       "</style>\n",
       "<table border=\"1\" class=\"dataframe\">\n",
       "  <thead>\n",
       "    <tr style=\"text-align: right;\">\n",
       "      <th></th>\n",
       "      <th>user_id</th>\n",
       "      <th>month</th>\n",
       "      <th>month_calls_duration</th>\n",
       "      <th>calls_total_in_month</th>\n",
       "      <th>mb_total_in_month</th>\n",
       "      <th>sms_total_in_month</th>\n",
       "      <th>tariff</th>\n",
       "      <th>city</th>\n",
       "      <th>company_revenue</th>\n",
       "    </tr>\n",
       "  </thead>\n",
       "  <tbody>\n",
       "    <tr>\n",
       "      <th>2226</th>\n",
       "      <td>1357</td>\n",
       "      <td>12</td>\n",
       "      <td>321.00</td>\n",
       "      <td>42.00</td>\n",
       "      <td>17,946.56</td>\n",
       "      <td>33.00</td>\n",
       "      <td>smart</td>\n",
       "      <td>Томск</td>\n",
       "      <td>1,150.00</td>\n",
       "    </tr>\n",
       "    <tr>\n",
       "      <th>2398</th>\n",
       "      <td>1381</td>\n",
       "      <td>5</td>\n",
       "      <td>679.00</td>\n",
       "      <td>97.00</td>\n",
       "      <td>29,738.86</td>\n",
       "      <td>46.00</td>\n",
       "      <td>ultra</td>\n",
       "      <td>Москва</td>\n",
       "      <td>1,950.00</td>\n",
       "    </tr>\n",
       "    <tr>\n",
       "      <th>1715</th>\n",
       "      <td>1275</td>\n",
       "      <td>6</td>\n",
       "      <td>380.00</td>\n",
       "      <td>57.00</td>\n",
       "      <td>16,282.16</td>\n",
       "      <td>23.00</td>\n",
       "      <td>smart</td>\n",
       "      <td>Москва</td>\n",
       "      <td>750.00</td>\n",
       "    </tr>\n",
       "    <tr>\n",
       "      <th>1535</th>\n",
       "      <td>1246</td>\n",
       "      <td>11</td>\n",
       "      <td>314.00</td>\n",
       "      <td>46.00</td>\n",
       "      <td>25,623.85</td>\n",
       "      <td>10.00</td>\n",
       "      <td>smart</td>\n",
       "      <td>Санкт-Петербург</td>\n",
       "      <td>2,750.00</td>\n",
       "    </tr>\n",
       "    <tr>\n",
       "      <th>2758</th>\n",
       "      <td>1432</td>\n",
       "      <td>9</td>\n",
       "      <td>727.00</td>\n",
       "      <td>99.00</td>\n",
       "      <td>23,673.98</td>\n",
       "      <td>64.00</td>\n",
       "      <td>smart</td>\n",
       "      <td>Улан-Удэ</td>\n",
       "      <td>3,073.00</td>\n",
       "    </tr>\n",
       "  </tbody>\n",
       "</table>\n",
       "</div>"
      ],
      "text/plain": [
       "      user_id  month  month_calls_duration  calls_total_in_month  \\\n",
       "2226     1357     12                321.00                 42.00   \n",
       "2398     1381      5                679.00                 97.00   \n",
       "1715     1275      6                380.00                 57.00   \n",
       "1535     1246     11                314.00                 46.00   \n",
       "2758     1432      9                727.00                 99.00   \n",
       "\n",
       "      mb_total_in_month  sms_total_in_month tariff             city  \\\n",
       "2226          17,946.56               33.00  smart            Томск   \n",
       "2398          29,738.86               46.00  ultra           Москва   \n",
       "1715          16,282.16               23.00  smart           Москва   \n",
       "1535          25,623.85               10.00  smart  Санкт-Петербург   \n",
       "2758          23,673.98               64.00  smart         Улан-Удэ   \n",
       "\n",
       "      company_revenue  \n",
       "2226         1,150.00  \n",
       "2398         1,950.00  \n",
       "1715           750.00  \n",
       "1535         2,750.00  \n",
       "2758         3,073.00  "
      ]
     },
     "execution_count": 51,
     "metadata": {},
     "output_type": "execute_result"
    }
   ],
   "source": [
    "users_consumption.sample(5)"
   ]
  },
  {
   "cell_type": "markdown",
   "metadata": {},
   "source": [
    "**Вывод**"
   ]
  },
  {
   "cell_type": "markdown",
   "metadata": {},
   "source": [
    "Посчитали количество звонков, сообщений и потраченных мб по месяцам для каждого клиента. \n",
    "\n",
    "Рассчитали выручку компании от каждого клиента по месяцам"
   ]
  },
  {
   "cell_type": "markdown",
   "metadata": {},
   "source": [
    "## Шаг 3. Анализ данных"
   ]
  },
  {
   "cell_type": "markdown",
   "metadata": {},
   "source": [
    "Основная таблица для анализа `users_consumption` сформирована, приступим к её анализу. Построим boxplot-ы и изучим меры центральной тенденции, изученим значения минут разговора, сообщений и трафика. Поработаем с выбросами, чтобы в нашей выборке осталось только наиболее типичное поведение пользователей."
   ]
  },
  {
   "cell_type": "code",
   "execution_count": 52,
   "metadata": {},
   "outputs": [
    {
     "data": {
      "text/plain": [
       "month_calls_duration       AxesSubplot(0.125,0.125;0.227941x0.755)\n",
       "mb_total_in_month       AxesSubplot(0.398529,0.125;0.227941x0.755)\n",
       "sms_total_in_month      AxesSubplot(0.672059,0.125;0.227941x0.755)\n",
       "dtype: object"
      ]
     },
     "execution_count": 52,
     "metadata": {},
     "output_type": "execute_result"
    },
    {
     "data": {
      "image/png": "[encoded data removed]",
      "text/plain": [
       "<Figure size 1080x288 with 3 Axes>"
      ]
     },
     "metadata": {
      "needs_background": "light"
     },
     "output_type": "display_data"
    }
   ],
   "source": [
    "columns_list = ['month_calls_duration', 'mb_total_in_month', 'sms_total_in_month']\n",
    "users_consumption[columns_list].plot(subplots=True, layout=(1, 3), \n",
    "                                    kind = 'box' \n",
    "                                   ,figsize=(15, 4)\n",
    "                                   ,grid=True\n",
    "                                      )"
   ]
  },
  {
   "cell_type": "markdown",
   "metadata": {},
   "source": [
    "Рассчитаем границы для выбросов"
   ]
  },
  {
   "cell_type": "code",
   "execution_count": 53,
   "metadata": {},
   "outputs": [
    {
     "name": "stdout",
     "output_type": "stream",
     "text": [
      "------------------------\n",
      "Данные столбца month_calls_duration\n",
      "------------------------\n",
      "Верхняя граница 1049.5\n"
     ]
    },
    {
     "data": {
      "text/plain": [
       "count   3,214.00\n",
       "mean      451.24\n",
       "std       241.91\n",
       "min         0.00\n",
       "25%       282.00\n",
       "50%       443.00\n",
       "75%       589.00\n",
       "max     1,673.00\n",
       "Name: month_calls_duration, dtype: float64"
      ]
     },
     "metadata": {},
     "output_type": "display_data"
    },
    {
     "name": "stdout",
     "output_type": "stream",
     "text": [
      "------------------------\n",
      "Данные столбца mb_total_in_month\n",
      "------------------------\n",
      "Верхняя граница 34823.72749999999\n"
     ]
    },
    {
     "data": {
      "text/plain": [
       "count    3,214.00\n",
       "mean    17,207.61\n",
       "std      7,570.96\n",
       "min          0.00\n",
       "25%     12,491.89\n",
       "50%     16,943.18\n",
       "75%     21,424.62\n",
       "max     49,745.69\n",
       "Name: mb_total_in_month, dtype: float64"
      ]
     },
     "metadata": {},
     "output_type": "display_data"
    },
    {
     "name": "stdout",
     "output_type": "stream",
     "text": [
      "------------------------\n",
      "Данные столбца sms_total_in_month\n",
      "------------------------\n",
      "Верхняя граница 129.0\n"
     ]
    },
    {
     "data": {
      "text/plain": [
       "count   3,214.00\n",
       "mean       38.28\n",
       "std        36.15\n",
       "min         0.00\n",
       "25%         9.00\n",
       "50%        30.00\n",
       "75%        57.00\n",
       "max       224.00\n",
       "Name: sms_total_in_month, dtype: float64"
      ]
     },
     "metadata": {},
     "output_type": "display_data"
    }
   ],
   "source": [
    "for column in columns_list:\n",
    "    print('------------------------\\nДанные столбца {}\\n------------------------'.format(column))\n",
    "    q1=users_consumption[column].describe()[4]\n",
    "    q3=users_consumption[column].describe()[6]\n",
    "    iqr = q3 - q1\n",
    "    top_edge = q3 + 1.5 * iqr\n",
    "    print ('Верхняя граница {}'.format(top_edge))\n",
    "    display(users_consumption[column].describe())"
   ]
  },
  {
   "cell_type": "markdown",
   "metadata": {},
   "source": [
    "Изучим данные по ключевым столбцам (звонки, трафик, сообщения) в преобразованной таблицы. Начнем с тарифа smart"
   ]
  },
  {
   "cell_type": "code",
   "execution_count": 54,
   "metadata": {},
   "outputs": [
    {
     "data": {
      "text/html": [
       "<div>\n",
       "<style scoped>\n",
       "    .dataframe tbody tr th:only-of-type {\n",
       "        vertical-align: middle;\n",
       "    }\n",
       "\n",
       "    .dataframe tbody tr th {\n",
       "        vertical-align: top;\n",
       "    }\n",
       "\n",
       "    .dataframe thead th {\n",
       "        text-align: right;\n",
       "    }\n",
       "</style>\n",
       "<table border=\"1\" class=\"dataframe\">\n",
       "  <thead>\n",
       "    <tr style=\"text-align: right;\">\n",
       "      <th></th>\n",
       "      <th>mb_total_in_month</th>\n",
       "      <th>month_calls_duration</th>\n",
       "      <th>sms_total_in_month</th>\n",
       "    </tr>\n",
       "    <tr>\n",
       "      <th>month</th>\n",
       "      <th></th>\n",
       "      <th></th>\n",
       "      <th></th>\n",
       "    </tr>\n",
       "  </thead>\n",
       "  <tbody>\n",
       "    <tr>\n",
       "      <th>1</th>\n",
       "      <td>289,466.40</td>\n",
       "      <td>6,931.00</td>\n",
       "      <td>620.00</td>\n",
       "    </tr>\n",
       "    <tr>\n",
       "      <th>2</th>\n",
       "      <td>672,629.15</td>\n",
       "      <td>17,324.00</td>\n",
       "      <td>1,397.00</td>\n",
       "    </tr>\n",
       "    <tr>\n",
       "      <th>3</th>\n",
       "      <td>1,163,020.25</td>\n",
       "      <td>30,034.00</td>\n",
       "      <td>2,453.00</td>\n",
       "    </tr>\n",
       "    <tr>\n",
       "      <th>4</th>\n",
       "      <td>1,507,764.23</td>\n",
       "      <td>41,119.00</td>\n",
       "      <td>3,443.00</td>\n",
       "    </tr>\n",
       "    <tr>\n",
       "      <th>5</th>\n",
       "      <td>2,228,530.99</td>\n",
       "      <td>54,618.00</td>\n",
       "      <td>4,762.00</td>\n",
       "    </tr>\n",
       "    <tr>\n",
       "      <th>6</th>\n",
       "      <td>2,590,322.27</td>\n",
       "      <td>64,885.00</td>\n",
       "      <td>5,478.00</td>\n",
       "    </tr>\n",
       "    <tr>\n",
       "      <th>7</th>\n",
       "      <td>3,164,373.22</td>\n",
       "      <td>82,079.00</td>\n",
       "      <td>6,784.00</td>\n",
       "    </tr>\n",
       "    <tr>\n",
       "      <th>8</th>\n",
       "      <td>3,903,519.22</td>\n",
       "      <td>99,045.00</td>\n",
       "      <td>7,905.00</td>\n",
       "    </tr>\n",
       "    <tr>\n",
       "      <th>9</th>\n",
       "      <td>4,238,930.49</td>\n",
       "      <td>111,439.00</td>\n",
       "      <td>8,746.00</td>\n",
       "    </tr>\n",
       "    <tr>\n",
       "      <th>10</th>\n",
       "      <td>4,926,594.13</td>\n",
       "      <td>125,284.00</td>\n",
       "      <td>9,927.00</td>\n",
       "    </tr>\n",
       "    <tr>\n",
       "      <th>11</th>\n",
       "      <td>5,339,040.14</td>\n",
       "      <td>137,544.00</td>\n",
       "      <td>10,768.00</td>\n",
       "    </tr>\n",
       "    <tr>\n",
       "      <th>12</th>\n",
       "      <td>6,104,304.11</td>\n",
       "      <td>161,275.00</td>\n",
       "      <td>12,130.00</td>\n",
       "    </tr>\n",
       "  </tbody>\n",
       "</table>\n",
       "</div>"
      ],
      "text/plain": [
       "       mb_total_in_month  month_calls_duration  sms_total_in_month\n",
       "month                                                             \n",
       "1             289,466.40              6,931.00              620.00\n",
       "2             672,629.15             17,324.00            1,397.00\n",
       "3           1,163,020.25             30,034.00            2,453.00\n",
       "4           1,507,764.23             41,119.00            3,443.00\n",
       "5           2,228,530.99             54,618.00            4,762.00\n",
       "6           2,590,322.27             64,885.00            5,478.00\n",
       "7           3,164,373.22             82,079.00            6,784.00\n",
       "8           3,903,519.22             99,045.00            7,905.00\n",
       "9           4,238,930.49            111,439.00            8,746.00\n",
       "10          4,926,594.13            125,284.00            9,927.00\n",
       "11          5,339,040.14            137,544.00           10,768.00\n",
       "12          6,104,304.11            161,275.00           12,130.00"
      ]
     },
     "execution_count": 54,
     "metadata": {},
     "output_type": "execute_result"
    }
   ],
   "source": [
    "users_consumption_summary_smart = pd.pivot_table(\n",
    "    data=users_consumption.loc[users_consumption['tariff']=='smart'],\n",
    "    index = 'month', values=columns_list , aggfunc=sum)\n",
    "users_consumption_summary_smart"
   ]
  },
  {
   "cell_type": "markdown",
   "metadata": {},
   "source": [
    "Из таблицы видно, что с каждым месяцем потребление увеличивается."
   ]
  },
  {
   "cell_type": "code",
   "execution_count": 55,
   "metadata": {},
   "outputs": [
    {
     "data": {
      "text/html": [
       "<div>\n",
       "<style scoped>\n",
       "    .dataframe tbody tr th:only-of-type {\n",
       "        vertical-align: middle;\n",
       "    }\n",
       "\n",
       "    .dataframe tbody tr th {\n",
       "        vertical-align: top;\n",
       "    }\n",
       "\n",
       "    .dataframe thead th {\n",
       "        text-align: right;\n",
       "    }\n",
       "</style>\n",
       "<table border=\"1\" class=\"dataframe\">\n",
       "  <thead>\n",
       "    <tr style=\"text-align: right;\">\n",
       "      <th></th>\n",
       "      <th>user_id</th>\n",
       "    </tr>\n",
       "    <tr>\n",
       "      <th>month</th>\n",
       "      <th></th>\n",
       "    </tr>\n",
       "  </thead>\n",
       "  <tbody>\n",
       "    <tr>\n",
       "      <th>1</th>\n",
       "      <td>34</td>\n",
       "    </tr>\n",
       "    <tr>\n",
       "      <th>2</th>\n",
       "      <td>58</td>\n",
       "    </tr>\n",
       "    <tr>\n",
       "      <th>3</th>\n",
       "      <td>77</td>\n",
       "    </tr>\n",
       "    <tr>\n",
       "      <th>4</th>\n",
       "      <td>112</td>\n",
       "    </tr>\n",
       "    <tr>\n",
       "      <th>5</th>\n",
       "      <td>141</td>\n",
       "    </tr>\n",
       "    <tr>\n",
       "      <th>6</th>\n",
       "      <td>164</td>\n",
       "    </tr>\n",
       "    <tr>\n",
       "      <th>7</th>\n",
       "      <td>201</td>\n",
       "    </tr>\n",
       "    <tr>\n",
       "      <th>8</th>\n",
       "      <td>235</td>\n",
       "    </tr>\n",
       "    <tr>\n",
       "      <th>9</th>\n",
       "      <td>260</td>\n",
       "    </tr>\n",
       "    <tr>\n",
       "      <th>10</th>\n",
       "      <td>294</td>\n",
       "    </tr>\n",
       "    <tr>\n",
       "      <th>11</th>\n",
       "      <td>316</td>\n",
       "    </tr>\n",
       "    <tr>\n",
       "      <th>12</th>\n",
       "      <td>337</td>\n",
       "    </tr>\n",
       "  </tbody>\n",
       "</table>\n",
       "</div>"
      ],
      "text/plain": [
       "       user_id\n",
       "month         \n",
       "1           34\n",
       "2           58\n",
       "3           77\n",
       "4          112\n",
       "5          141\n",
       "6          164\n",
       "7          201\n",
       "8          235\n",
       "9          260\n",
       "10         294\n",
       "11         316\n",
       "12         337"
      ]
     },
     "execution_count": 55,
     "metadata": {},
     "output_type": "execute_result"
    }
   ],
   "source": [
    " pd.pivot_table(data=users_consumption.loc[users_consumption['tariff']=='smart'],\n",
    "    index = 'month', values='user_id' , aggfunc='count')"
   ]
  },
  {
   "cell_type": "markdown",
   "metadata": {},
   "source": [
    "Это связанно с тем, что пользователей становится больше с каждым месяцем."
   ]
  },
  {
   "cell_type": "markdown",
   "metadata": {},
   "source": [
    "Теперь рассчитаем среднюю, дисперсию и стандартное отклонение, но уже без группировки по месяцам способом describe()"
   ]
  },
  {
   "cell_type": "code",
   "execution_count": 56,
   "metadata": {},
   "outputs": [
    {
     "name": "stdout",
     "output_type": "stream",
     "text": [
      "|Проверка с помощью .describe()|\n",
      "--------------------------------\n"
     ]
    },
    {
     "data": {
      "text/html": [
       "<div>\n",
       "<style scoped>\n",
       "    .dataframe tbody tr th:only-of-type {\n",
       "        vertical-align: middle;\n",
       "    }\n",
       "\n",
       "    .dataframe tbody tr th {\n",
       "        vertical-align: top;\n",
       "    }\n",
       "\n",
       "    .dataframe thead th {\n",
       "        text-align: right;\n",
       "    }\n",
       "</style>\n",
       "<table border=\"1\" class=\"dataframe\">\n",
       "  <thead>\n",
       "    <tr style=\"text-align: right;\">\n",
       "      <th></th>\n",
       "      <th>user_id</th>\n",
       "      <th>month</th>\n",
       "      <th>month_calls_duration</th>\n",
       "      <th>calls_total_in_month</th>\n",
       "      <th>mb_total_in_month</th>\n",
       "      <th>sms_total_in_month</th>\n",
       "      <th>company_revenue</th>\n",
       "    </tr>\n",
       "  </thead>\n",
       "  <tbody>\n",
       "    <tr>\n",
       "      <th>count</th>\n",
       "      <td>2229</td>\n",
       "      <td>2229</td>\n",
       "      <td>2229</td>\n",
       "      <td>2229</td>\n",
       "      <td>2229</td>\n",
       "      <td>2229</td>\n",
       "      <td>2229</td>\n",
       "    </tr>\n",
       "    <tr>\n",
       "      <th>mean</th>\n",
       "      <td>1246</td>\n",
       "      <td>8</td>\n",
       "      <td>417</td>\n",
       "      <td>58</td>\n",
       "      <td>16208</td>\n",
       "      <td>33</td>\n",
       "      <td>1289</td>\n",
       "    </tr>\n",
       "    <tr>\n",
       "      <th>std</th>\n",
       "      <td>146</td>\n",
       "      <td>2</td>\n",
       "      <td>190</td>\n",
       "      <td>25</td>\n",
       "      <td>5870</td>\n",
       "      <td>28</td>\n",
       "      <td>818</td>\n",
       "    </tr>\n",
       "    <tr>\n",
       "      <th>min</th>\n",
       "      <td>1001</td>\n",
       "      <td>1</td>\n",
       "      <td>0</td>\n",
       "      <td>0</td>\n",
       "      <td>0</td>\n",
       "      <td>0</td>\n",
       "      <td>550</td>\n",
       "    </tr>\n",
       "    <tr>\n",
       "      <th>25%</th>\n",
       "      <td>1121</td>\n",
       "      <td>6</td>\n",
       "      <td>282</td>\n",
       "      <td>40</td>\n",
       "      <td>12643</td>\n",
       "      <td>10</td>\n",
       "      <td>550</td>\n",
       "    </tr>\n",
       "    <tr>\n",
       "      <th>50%</th>\n",
       "      <td>1239</td>\n",
       "      <td>9</td>\n",
       "      <td>422</td>\n",
       "      <td>60</td>\n",
       "      <td>16506</td>\n",
       "      <td>28</td>\n",
       "      <td>1023</td>\n",
       "    </tr>\n",
       "    <tr>\n",
       "      <th>75%</th>\n",
       "      <td>1376</td>\n",
       "      <td>11</td>\n",
       "      <td>545</td>\n",
       "      <td>76</td>\n",
       "      <td>20042</td>\n",
       "      <td>51</td>\n",
       "      <td>1750</td>\n",
       "    </tr>\n",
       "    <tr>\n",
       "      <th>max</th>\n",
       "      <td>1499</td>\n",
       "      <td>12</td>\n",
       "      <td>1435</td>\n",
       "      <td>198</td>\n",
       "      <td>38552</td>\n",
       "      <td>143</td>\n",
       "      <td>6770</td>\n",
       "    </tr>\n",
       "  </tbody>\n",
       "</table>\n",
       "</div>"
      ],
      "text/plain": [
       "       user_id  month  month_calls_duration  calls_total_in_month  \\\n",
       "count     2229   2229                  2229                  2229   \n",
       "mean      1246      8                   417                    58   \n",
       "std        146      2                   190                    25   \n",
       "min       1001      1                     0                     0   \n",
       "25%       1121      6                   282                    40   \n",
       "50%       1239      9                   422                    60   \n",
       "75%       1376     11                   545                    76   \n",
       "max       1499     12                  1435                   198   \n",
       "\n",
       "       mb_total_in_month  sms_total_in_month  company_revenue  \n",
       "count               2229                2229             2229  \n",
       "mean               16208                  33             1289  \n",
       "std                 5870                  28              818  \n",
       "min                    0                   0              550  \n",
       "25%                12643                  10              550  \n",
       "50%                16506                  28             1023  \n",
       "75%                20042                  51             1750  \n",
       "max                38552                 143             6770  "
      ]
     },
     "metadata": {},
     "output_type": "display_data"
    }
   ],
   "source": [
    "users_consumption_smart = users_consumption.loc[users_consumption['tariff']=='smart']\n",
    "print('|Проверка с помощью .describe()|\\n--------------------------------')\n",
    "display(users_consumption_smart.describe().astype('int64'))"
   ]
  },
  {
   "cell_type": "markdown",
   "metadata": {},
   "source": [
    "Средние значения для каждого месяца тарифа smart определены."
   ]
  },
  {
   "cell_type": "markdown",
   "metadata": {},
   "source": [
    "Расчитаем помесячное потребление минут/трафика/смс для ultra"
   ]
  },
  {
   "cell_type": "code",
   "execution_count": 57,
   "metadata": {},
   "outputs": [
    {
     "data": {
      "text/html": [
       "<div>\n",
       "<style scoped>\n",
       "    .dataframe tbody tr th:only-of-type {\n",
       "        vertical-align: middle;\n",
       "    }\n",
       "\n",
       "    .dataframe tbody tr th {\n",
       "        vertical-align: top;\n",
       "    }\n",
       "\n",
       "    .dataframe thead th {\n",
       "        text-align: right;\n",
       "    }\n",
       "</style>\n",
       "<table border=\"1\" class=\"dataframe\">\n",
       "  <thead>\n",
       "    <tr style=\"text-align: right;\">\n",
       "      <th></th>\n",
       "      <th>mb_total_in_month</th>\n",
       "      <th>month_calls_duration</th>\n",
       "      <th>sms_total_in_month</th>\n",
       "    </tr>\n",
       "    <tr>\n",
       "      <th>month</th>\n",
       "      <th></th>\n",
       "      <th></th>\n",
       "      <th></th>\n",
       "    </tr>\n",
       "  </thead>\n",
       "  <tbody>\n",
       "    <tr>\n",
       "      <th>1</th>\n",
       "      <td>118,266.13</td>\n",
       "      <td>3,853.00</td>\n",
       "      <td>304.00</td>\n",
       "    </tr>\n",
       "    <tr>\n",
       "      <th>2</th>\n",
       "      <td>282,622.50</td>\n",
       "      <td>7,131.00</td>\n",
       "      <td>527.00</td>\n",
       "    </tr>\n",
       "    <tr>\n",
       "      <th>3</th>\n",
       "      <td>648,815.36</td>\n",
       "      <td>18,117.00</td>\n",
       "      <td>1,195.00</td>\n",
       "    </tr>\n",
       "    <tr>\n",
       "      <th>4</th>\n",
       "      <td>925,547.39</td>\n",
       "      <td>25,191.00</td>\n",
       "      <td>1,736.00</td>\n",
       "    </tr>\n",
       "    <tr>\n",
       "      <th>5</th>\n",
       "      <td>1,297,331.25</td>\n",
       "      <td>34,192.00</td>\n",
       "      <td>2,536.00</td>\n",
       "    </tr>\n",
       "    <tr>\n",
       "      <th>6</th>\n",
       "      <td>1,589,694.90</td>\n",
       "      <td>40,295.00</td>\n",
       "      <td>3,505.00</td>\n",
       "    </tr>\n",
       "    <tr>\n",
       "      <th>7</th>\n",
       "      <td>1,865,105.53</td>\n",
       "      <td>49,667.00</td>\n",
       "      <td>4,536.00</td>\n",
       "    </tr>\n",
       "    <tr>\n",
       "      <th>8</th>\n",
       "      <td>2,094,637.85</td>\n",
       "      <td>54,653.00</td>\n",
       "      <td>5,183.00</td>\n",
       "    </tr>\n",
       "    <tr>\n",
       "      <th>9</th>\n",
       "      <td>2,208,491.87</td>\n",
       "      <td>62,036.00</td>\n",
       "      <td>6,013.00</td>\n",
       "    </tr>\n",
       "    <tr>\n",
       "      <th>10</th>\n",
       "      <td>2,465,576.49</td>\n",
       "      <td>68,644.00</td>\n",
       "      <td>7,187.00</td>\n",
       "    </tr>\n",
       "    <tr>\n",
       "      <th>11</th>\n",
       "      <td>2,651,432.87</td>\n",
       "      <td>72,545.00</td>\n",
       "      <td>7,476.00</td>\n",
       "    </tr>\n",
       "    <tr>\n",
       "      <th>12</th>\n",
       "      <td>3,029,250.99</td>\n",
       "      <td>82,400.00</td>\n",
       "      <td>8,425.00</td>\n",
       "    </tr>\n",
       "  </tbody>\n",
       "</table>\n",
       "</div>"
      ],
      "text/plain": [
       "       mb_total_in_month  month_calls_duration  sms_total_in_month\n",
       "month                                                             \n",
       "1             118,266.13              3,853.00              304.00\n",
       "2             282,622.50              7,131.00              527.00\n",
       "3             648,815.36             18,117.00            1,195.00\n",
       "4             925,547.39             25,191.00            1,736.00\n",
       "5           1,297,331.25             34,192.00            2,536.00\n",
       "6           1,589,694.90             40,295.00            3,505.00\n",
       "7           1,865,105.53             49,667.00            4,536.00\n",
       "8           2,094,637.85             54,653.00            5,183.00\n",
       "9           2,208,491.87             62,036.00            6,013.00\n",
       "10          2,465,576.49             68,644.00            7,187.00\n",
       "11          2,651,432.87             72,545.00            7,476.00\n",
       "12          3,029,250.99             82,400.00            8,425.00"
      ]
     },
     "execution_count": 57,
     "metadata": {},
     "output_type": "execute_result"
    }
   ],
   "source": [
    "users_consumption_summary_ultra = pd.pivot_table(\n",
    "    data=users_consumption.loc[users_consumption['tariff']=='ultra'],\n",
    "    index = 'month', values=columns_list , aggfunc=sum)\n",
    "users_consumption_summary_ultra"
   ]
  },
  {
   "cell_type": "code",
   "execution_count": 58,
   "metadata": {},
   "outputs": [
    {
     "data": {
      "text/html": [
       "<div>\n",
       "<style scoped>\n",
       "    .dataframe tbody tr th:only-of-type {\n",
       "        vertical-align: middle;\n",
       "    }\n",
       "\n",
       "    .dataframe tbody tr th {\n",
       "        vertical-align: top;\n",
       "    }\n",
       "\n",
       "    .dataframe thead th {\n",
       "        text-align: right;\n",
       "    }\n",
       "</style>\n",
       "<table border=\"1\" class=\"dataframe\">\n",
       "  <thead>\n",
       "    <tr style=\"text-align: right;\">\n",
       "      <th></th>\n",
       "      <th>month_calls_duration</th>\n",
       "      <th>mb_total_in_month</th>\n",
       "      <th>sms_total_in_month</th>\n",
       "    </tr>\n",
       "  </thead>\n",
       "  <tbody>\n",
       "    <tr>\n",
       "      <th>count</th>\n",
       "      <td>985</td>\n",
       "      <td>985</td>\n",
       "      <td>985</td>\n",
       "    </tr>\n",
       "    <tr>\n",
       "      <th>mean</th>\n",
       "      <td>526</td>\n",
       "      <td>19468</td>\n",
       "      <td>49</td>\n",
       "    </tr>\n",
       "    <tr>\n",
       "      <th>std</th>\n",
       "      <td>317</td>\n",
       "      <td>10087</td>\n",
       "      <td>47</td>\n",
       "    </tr>\n",
       "    <tr>\n",
       "      <th>min</th>\n",
       "      <td>0</td>\n",
       "      <td>0</td>\n",
       "      <td>0</td>\n",
       "    </tr>\n",
       "    <tr>\n",
       "      <th>25%</th>\n",
       "      <td>284</td>\n",
       "      <td>11770</td>\n",
       "      <td>6</td>\n",
       "    </tr>\n",
       "    <tr>\n",
       "      <th>50%</th>\n",
       "      <td>518</td>\n",
       "      <td>19308</td>\n",
       "      <td>38</td>\n",
       "    </tr>\n",
       "    <tr>\n",
       "      <th>75%</th>\n",
       "      <td>752</td>\n",
       "      <td>26837</td>\n",
       "      <td>79</td>\n",
       "    </tr>\n",
       "    <tr>\n",
       "      <th>max</th>\n",
       "      <td>1673</td>\n",
       "      <td>49745</td>\n",
       "      <td>224</td>\n",
       "    </tr>\n",
       "  </tbody>\n",
       "</table>\n",
       "</div>"
      ],
      "text/plain": [
       "       month_calls_duration  mb_total_in_month  sms_total_in_month\n",
       "count                   985                985                 985\n",
       "mean                    526              19468                  49\n",
       "std                     317              10087                  47\n",
       "min                       0                  0                   0\n",
       "25%                     284              11770                   6\n",
       "50%                     518              19308                  38\n",
       "75%                     752              26837                  79\n",
       "max                    1673              49745                 224"
      ]
     },
     "execution_count": 58,
     "metadata": {},
     "output_type": "execute_result"
    }
   ],
   "source": [
    "users_consumption_ultra = users_consumption.loc[users_consumption['tariff']=='ultra']\n",
    "users_consumption_ultra[columns_list].describe().astype('int64')"
   ]
  },
  {
   "cell_type": "markdown",
   "metadata": {},
   "source": [
    "Посмотрим на различия тарифа смарт от ультра"
   ]
  },
  {
   "cell_type": "code",
   "execution_count": 59,
   "metadata": {},
   "outputs": [
    {
     "name": "stdout",
     "output_type": "stream",
     "text": [
      "Среднее значение month_calls_duration тарифа smart отличается от  ultra на -108.7\n",
      "Медиана month_calls_duration тарифа smart отличается от  ultra на -96.0\n",
      "____________________\n",
      "Среднее значение mb_total_in_month тарифа smart отличается от  ultra на -3260.4\n",
      "Медиана mb_total_in_month тарифа smart отличается от  ultra на -2801.2\n",
      "____________________\n",
      "Среднее значение sms_total_in_month тарифа smart отличается от  ultra на -16.0\n",
      "Медиана sms_total_in_month тарифа smart отличается от  ultra на -10.0\n",
      "____________________\n"
     ]
    }
   ],
   "source": [
    "for column in columns_list:\n",
    "    mean_difference = round(users_consumption_smart[column].describe()[1] - users_consumption_ultra[column].describe()[1]\n",
    "                            ,ndigits=1\n",
    "                           )\n",
    "    median_difference = round(users_consumption_smart[column].describe()[5] - users_consumption_ultra[column].describe()[5],\n",
    "                             ndigits=1)\n",
    "    print('Среднее значение {} тарифа smart отличается от  ultra на {}'.format(column, mean_difference))\n",
    "    print('Медиана {} тарифа smart отличается от  ultra на {}\\n____________________'.format(column, median_difference))"
   ]
  },
  {
   "cell_type": "code",
   "execution_count": 60,
   "metadata": {},
   "outputs": [
    {
     "data": {
      "text/plain": [
       "tariff\n",
       "smart    351\n",
       "ultra    149\n",
       "Name: tariff, dtype: int64"
      ]
     },
     "metadata": {},
     "output_type": "display_data"
    },
    {
     "data": {
      "image/png": "[encoded data removed]",
      "text/plain": [
       "<Figure size 432x288 with 1 Axes>"
      ]
     },
     "metadata": {},
     "output_type": "display_data"
    }
   ],
   "source": [
    "display(users.groupby('tariff')['tariff'].count())\n",
    "users.groupby('tariff')['tariff'].count().plot(kind='pie',  title='Доля тарифов в выборке')\n",
    "plt.show()"
   ]
  },
  {
   "cell_type": "markdown",
   "metadata": {},
   "source": [
    "Пользователи тарифа ultra говорят в среднем на час дольше чем пользователя тарифа smart. Так же им, как правило, требуется больше интренет-трафика.\n",
    "\n",
    "Общее потребление пользователей тарифа smart по всем статьям выше тарифа ultra. Как минимум потому, что таких пользователей у нас больше. Интересно будет узнать как обстоит ситуация с выручкой от этих тарифов.\n",
    "\n",
    "Но прежде чем приступить к проверке гипотиз, посмотрим на распределение этих тарифов. Построим гистограммы плотности для каждого интересующего значения по каждому из тарифов."
   ]
  },
  {
   "cell_type": "code",
   "execution_count": 61,
   "metadata": {},
   "outputs": [
    {
     "data": {
      "image/png": "[encoded data removed]",
      "text/plain": [
       "<Figure size 1440x360 with 3 Axes>"
      ]
     },
     "metadata": {
      "needs_background": "light"
     },
     "output_type": "display_data"
    },
    {
     "data": {
      "image/png": "[encoded data removed]",
      "text/plain": [
       "<Figure size 1440x360 with 3 Axes>"
      ]
     },
     "metadata": {
      "needs_background": "light"
     },
     "output_type": "display_data"
    }
   ],
   "source": [
    "fig, axs = plt.subplots(1,3, figsize=[20,5])\n",
    "fig.suptitle('Гистограммы плотности для количества звонков, потраченного трафика и отправленных сообщений тарифа smart',fontsize=18)\n",
    "for i, column in enumerate(columns_list):\n",
    "    sns.distplot(users_consumption_smart[column], ax=axs[i], color='green')\n",
    "    \n",
    "plt.show()\n",
    "\n",
    "fig, axs = plt.subplots(1,3, figsize=[20,5])\n",
    "fig.suptitle('Гистограммы плотности для количества звонков, потраченного трафика и отправленных сообщений тарифа ultra',fontsize=18)\n",
    "for i, column in enumerate(columns_list):\n",
    "    sns.distplot(users_consumption_ultra[column], ax=axs[i], color='red')"
   ]
  },
  {
   "cell_type": "markdown",
   "metadata": {},
   "source": [
    "**Вывод**"
   ]
  },
  {
   "cell_type": "markdown",
   "metadata": {},
   "source": [
    "Распределения обоих тарифов имеют схожие формы. Клиенты ведут себя примерно одинаково. Для звонков и трафика график почти симметричный, немного скошен влево. Сообщения же ассиметричны ввиду того, что мало кто использует сообщения. Так как тариф ультра включает в себя больше минут/мб/сообщений видим, что их потребление в тарифе ультра больше, чем у смарт"
   ]
  },
  {
   "cell_type": "markdown",
   "metadata": {},
   "source": [
    "## Шаг 4. Проверка гипотезы"
   ]
  },
  {
   "cell_type": "markdown",
   "metadata": {},
   "source": [
    "Приступим к проверке гипотиз и решим, какой же тариф лучше.\n",
    "\n",
    "Первая - средняя выручка компании от пользователей тарифов «Ультра» и «Смарт» различается\n",
    "\n",
    "Будем проверять две генеральные совокупности на равенство их средних (st.ttest_ind). Считаем, что первая ген совокупность это клиенты тарифа smart, вторая ultra. У нас больше 30 наблюдений в каждой выборке, соответственно можем применить t-критерий. Приступим к формулированию гипотиз исходя из поставленной задачи, держим в голове, что нулевая гипотеза всегда формируется со знаком равенства."
   ]
  },
  {
   "cell_type": "markdown",
   "metadata": {},
   "source": [
    "Гипотизы для стат анализа:\n",
    "\n",
    "Н0 - средняя выручка компании от пользователей тарифов «Ультра» и «Смарт» одинаковая\n",
    "\n",
    "H1 - средняя выручка компании от пользователей тарифов «Ультра» и «Смарт» отличается\n",
    "\n",
    "Уровень значимости зададим равным 5%\n",
    "\n",
    "Прежде чем приступить, сравним дисперсии выборок (чтобы корректно выбрать значени аргумента equal_var метода st.ttest_ind."
   ]
  },
  {
   "cell_type": "code",
   "execution_count": null,
   "metadata": {},
   "outputs": [],
   "source": [
    "ultra = users_consumption_clean.query(\"tariff == 'ultra'\")\n",
    "smart = users_consumption_clean.query(\"tariff == 'smart'\")"
   ]
  },
  {
   "cell_type": "code",
   "execution_count": null,
   "metadata": {},
   "outputs": [],
   "source": [
    "print('Дисперсия выручки тарифа smart - {}'.format(int(smart['company_revenue'].describe()[2])**2))\n",
    "print()\n",
    "print('Дисперсия выручки тарифа ultra - {}'.format(int(ultra['company_revenue'].describe()[2])**2))"
   ]
  },
  {
   "cell_type": "markdown",
   "metadata": {},
   "source": [
    "Видим значительное отличие, в процессе проведения t-теста в методе пропишем equal_var=False.\n",
    "\n",
    "Подготовка закончена, приступим к проверке первой гипотезы."
   ]
  },
  {
   "cell_type": "code",
   "execution_count": null,
   "metadata": {},
   "outputs": [],
   "source": [
    "result = st.ttest_ind(smart['company_revenue'], ultra['company_revenue'], equal_var=False)\n",
    "print('p-значение:', round(result.pvalue,ndigits=5))"
   ]
  },
  {
   "cell_type": "markdown",
   "metadata": {},
   "source": [
    "p-уровень значимости получился очень очень маленьким, что свидетельствует о ничтожно малом шансе жизнеспособности нашей нулевой гипотезы при условии, что H0 верна. Тоже самое справедливо, задай мы уровень значимости 1%\n",
    "\n",
    "Таким образом, Н0 отвергается, средняя выручка компании от тарифов Смарт и Ультра отличается."
   ]
  },
  {
   "cell_type": "code",
   "execution_count": null,
   "metadata": {},
   "outputs": [],
   "source": [
    "print('Средняя вырочка компании от тарифа smart - {} руб'.format(round(smart['company_revenue'].describe()[1],ndigits=1)))\n",
    "print('Вырочка компании от тарифа smart - {} руб'.format(smart['company_revenue'].sum()))\n",
    "print()\n",
    "print('Средняя вырочка компании от тарифа ultra - {} руб'.format(round(ultra['company_revenue'].describe()[1],ndigits=1)))\n",
    "print('Вырочка компании от тарифа ultra - {} руб'.format(ultra['company_revenue'].sum()))"
   ]
  },
  {
   "cell_type": "markdown",
   "metadata": {},
   "source": [
    "Средняя выручка компании от одного пользователя тарифа ultra больше, чем от smart. Кроме того, можно сделать вывод, что пользователи тариф ultra, в отличии от smart, укладываются в рамки своего тарифного плана и редко доплачивают за доп минуты/трафик/сообщения. Так как средняя выручка компании примерно равна стоимости пакета.\n",
    "\n",
    "Суммарные же показатели указывают на то, что в нашей выборке больше клиентов с тарифом smart, тем не менее, около 35% процентов всей выручки составляет выручка от тарифа ultra."
   ]
  },
  {
   "cell_type": "markdown",
   "metadata": {},
   "source": [
    "\n",
    "Приступим к проверке второй гипотезы - средняя выручка пользователей из Москвы отличается от выручки пользователей из других регионов. Тест проведем по аналогии с предыдущим, пользователи из Москвы одна ген совокупность, остальные - другая. Для этого наложим фильтры на таблицу users_consumption_clean, проверим равенство дисперсий и проверим гипотезу."
   ]
  },
  {
   "cell_type": "markdown",
   "metadata": {},
   "source": [
    "Гипотизы для стат анализа:\n",
    "\n",
    "Н0 - средняя выручка компании в Москве равна выручке из других регионов\n",
    "\n",
    "H1 - средняя выручка компании в Москвы НЕ равна выручке из других регионов\n",
    "\n",
    "Уровень значимости установим на уровне 5%"
   ]
  },
  {
   "cell_type": "code",
   "execution_count": null,
   "metadata": {},
   "outputs": [],
   "source": [
    "mosсow_revenue = users_consumption_clean.loc[users_consumption_clean['city']== 'Москва','company_revenue'] \n",
    "mosсow_revenue.sample(3)"
   ]
  },
  {
   "cell_type": "code",
   "execution_count": null,
   "metadata": {
    "scrolled": true
   },
   "outputs": [],
   "source": [
    "regions_revenue = users_consumption_clean.loc[users_consumption_clean['city'] != 'Москва','company_revenue'] \n",
    "regions_revenue.sample(3)"
   ]
  },
  {
   "cell_type": "code",
   "execution_count": null,
   "metadata": {},
   "outputs": [],
   "source": [
    "print('Дисперсия выручки в Москве - {}'.format(int(mosсow_revenue.describe()[2])**2))\n",
    "print()\n",
    "print('Дисперсия выручки в регионах - {}'.format(int(regions_revenue.describe()[2])**2))"
   ]
  },
  {
   "cell_type": "markdown",
   "metadata": {},
   "source": [
    "Получается не очевидно, проверим при помощи теста Левена, зададим уровень значимости 5%"
   ]
  },
  {
   "cell_type": "code",
   "execution_count": null,
   "metadata": {},
   "outputs": [],
   "source": [
    "stat, p = st.levene(mosсow_revenue, regions_revenue)\n",
    "print(p)"
   ]
  },
  {
   "cell_type": "markdown",
   "metadata": {},
   "source": [
    "p-значение теста Левена оказалось меньше 5%, значит отвергаем нулевую гипотезу о равенстве дисперсий наших выборок, устанавливаем equal_var=False"
   ]
  },
  {
   "cell_type": "code",
   "execution_count": null,
   "metadata": {},
   "outputs": [],
   "source": [
    "result = st.ttest_ind(mosсow_revenue, regions_revenue, equal_var=False)\n",
    "print('p-значение:', round(result.pvalue,ndigits=5))"
   ]
  },
  {
   "cell_type": "markdown",
   "metadata": {},
   "source": [
    "p-уровень значимости получился равен 42%, что не позволяет нам отвергнуть нулевую гипотизу.\n",
    "\n",
    "Следовательно, выручка компании в Москве не отличается от выручки в регионах."
   ]
  },
  {
   "cell_type": "markdown",
   "metadata": {},
   "source": [
    "**Вывод**"
   ]
  },
  {
   "cell_type": "markdown",
   "metadata": {},
   "source": [
    "При помощи t-теста (так как выборки содержат > 30 наблюдений) для выборок из двух разных генеральных совокупностей было проверено две гипотезы:\n",
    "\n",
    "- средняя выручка пользователей тарифов «Ультра» и «Смарт» \n",
    "- средняя выручка пользователей из Москвы отличается от выручки пользователей из других регионов \n",
    "\n",
    "Первая гипотеза подтвердилась, средняя выручка отличается, так же увидели, что средняя выручка тарифа ultra - больше. В тоже время, пользователи тарифа smart, как правило, докупают минуты/трафик/сообщения.\n",
    "\n",
    "Вторая гипотеза не подтвердилась, нет разницы в выручке между Москвой и регионами"
   ]
  },
  {
   "cell_type": "markdown",
   "metadata": {},
   "source": [
    "## Общий вывод"
   ]
  },
  {
   "cell_type": "markdown",
   "metadata": {},
   "source": [
    "В ходе анализа было изучено два тарифа телеком компании - smart & ultra. А именно:\n",
    "\n",
    "Качество данных оказалось на достаточно высоком уровне, большой предобработки не потребовалось.\n",
    "\n",
    "Была подготовлена таблица с общим потреблением минут/трафика/сообщений для каждого пользователя в месяц, а так же рассчитана прибыль компании для каждого месяца.\n",
    "\n",
    "Из последующего анализа исключили месяца, в которых пользователи израсходовали слишком много минут/трафика/сообщений\n",
    "\n",
    "Распределение потребления минут и трафика нормальное, в то время как у сообщений сильно скошено вправо. Что указывает на не популярность СМС. Так же в процессе анализа выяснили, что в выборке больше клиентов с тарифом smart, что значительно сказывается на разнице потраченных минут/трафика/сообщений м/у тарифами."
   ]
  },
  {
   "cell_type": "markdown",
   "metadata": {},
   "source": [
    "Перспективный тариф: С большой долей вероятность было установлено, что средняя выручка у разных тарифов не равна, и средняя выручка от клиента тарифа ultra оказалась выше, чем у тарифа smart."
   ]
  }
 ],
 "metadata": {
  "ExecuteTimeLog": [
   {
    "duration": 62,
    "start_time": "2021-12-27T07:40:42.709Z"
   },
   {
    "duration": 3,
    "start_time": "2021-12-27T07:46:27.838Z"
   },
   {
    "duration": 1488,
    "start_time": "2021-12-27T07:47:14.588Z"
   },
   {
    "duration": 4,
    "start_time": "2021-12-27T07:48:27.768Z"
   },
   {
    "duration": 3,
    "start_time": "2021-12-27T07:48:28.340Z"
   },
   {
    "duration": 4,
    "start_time": "2021-12-27T07:48:28.876Z"
   },
   {
    "duration": 442,
    "start_time": "2021-12-27T07:48:29.355Z"
   },
   {
    "duration": 428,
    "start_time": "2021-12-27T07:48:54.108Z"
   },
   {
    "duration": 12,
    "start_time": "2021-12-27T07:50:19.560Z"
   },
   {
    "duration": 8,
    "start_time": "2021-12-27T07:50:55.113Z"
   },
   {
    "duration": 9,
    "start_time": "2021-12-27T07:51:19.985Z"
   },
   {
    "duration": 9,
    "start_time": "2021-12-27T07:51:40.121Z"
   },
   {
    "duration": 10,
    "start_time": "2021-12-27T07:52:04.784Z"
   },
   {
    "duration": 7,
    "start_time": "2021-12-27T07:53:57.229Z"
   },
   {
    "duration": 35,
    "start_time": "2021-12-27T07:54:13.111Z"
   },
   {
    "duration": 17,
    "start_time": "2021-12-27T07:54:31.142Z"
   },
   {
    "duration": 18,
    "start_time": "2021-12-27T07:54:42.638Z"
   },
   {
    "duration": 277,
    "start_time": "2021-12-27T07:54:57.766Z"
   },
   {
    "duration": 6,
    "start_time": "2021-12-27T07:55:04.774Z"
   },
   {
    "duration": 82,
    "start_time": "2021-12-27T08:12:14.391Z"
   },
   {
    "duration": 7,
    "start_time": "2021-12-27T08:17:32.638Z"
   },
   {
    "duration": 182,
    "start_time": "2021-12-27T08:17:44.484Z"
   },
   {
    "duration": 7,
    "start_time": "2021-12-27T08:17:59.350Z"
   },
   {
    "duration": 27,
    "start_time": "2021-12-27T08:19:11.140Z"
   },
   {
    "duration": 9,
    "start_time": "2021-12-27T08:19:45.393Z"
   },
   {
    "duration": 12,
    "start_time": "2021-12-27T08:19:48.499Z"
   },
   {
    "duration": 22,
    "start_time": "2021-12-27T08:19:58.626Z"
   },
   {
    "duration": 5,
    "start_time": "2021-12-27T08:20:05.707Z"
   },
   {
    "duration": 8,
    "start_time": "2021-12-27T08:20:48.618Z"
   },
   {
    "duration": 4,
    "start_time": "2021-12-27T08:20:49.043Z"
   },
   {
    "duration": 5,
    "start_time": "2021-12-27T08:20:49.475Z"
   },
   {
    "duration": 6,
    "start_time": "2021-12-27T08:20:49.874Z"
   },
   {
    "duration": 11,
    "start_time": "2021-12-27T08:20:57.186Z"
   },
   {
    "duration": 14,
    "start_time": "2021-12-27T08:21:02.707Z"
   },
   {
    "duration": 16,
    "start_time": "2021-12-27T08:22:42.369Z"
   },
   {
    "duration": 18,
    "start_time": "2021-12-27T08:22:47.266Z"
   },
   {
    "duration": 8,
    "start_time": "2021-12-27T08:22:53.160Z"
   },
   {
    "duration": 8,
    "start_time": "2021-12-27T08:40:44.427Z"
   },
   {
    "duration": 1113,
    "start_time": "2021-12-27T08:40:53.711Z"
   },
   {
    "duration": 2,
    "start_time": "2021-12-27T08:40:54.826Z"
   },
   {
    "duration": 4,
    "start_time": "2021-12-27T08:40:54.831Z"
   },
   {
    "duration": 468,
    "start_time": "2021-12-27T08:40:54.837Z"
   },
   {
    "duration": 17,
    "start_time": "2021-12-27T08:40:55.307Z"
   },
   {
    "duration": 10,
    "start_time": "2021-12-27T08:40:55.326Z"
   },
   {
    "duration": 9,
    "start_time": "2021-12-27T08:40:55.338Z"
   },
   {
    "duration": 22,
    "start_time": "2021-12-27T08:40:55.349Z"
   },
   {
    "duration": 26,
    "start_time": "2021-12-27T08:40:55.373Z"
   },
   {
    "duration": 21,
    "start_time": "2021-12-27T08:40:55.402Z"
   },
   {
    "duration": 8,
    "start_time": "2021-12-27T08:40:55.425Z"
   },
   {
    "duration": 30,
    "start_time": "2021-12-27T08:40:55.435Z"
   },
   {
    "duration": 36,
    "start_time": "2021-12-27T08:40:55.466Z"
   },
   {
    "duration": 14,
    "start_time": "2021-12-27T08:40:55.506Z"
   },
   {
    "duration": 11,
    "start_time": "2021-12-27T08:40:55.522Z"
   },
   {
    "duration": 20,
    "start_time": "2021-12-27T08:40:55.535Z"
   },
   {
    "duration": 41,
    "start_time": "2021-12-27T08:40:55.556Z"
   },
   {
    "duration": 28,
    "start_time": "2021-12-27T08:40:55.600Z"
   },
   {
    "duration": 5,
    "start_time": "2021-12-27T08:40:55.630Z"
   },
   {
    "duration": 10,
    "start_time": "2021-12-27T08:40:55.636Z"
   },
   {
    "duration": 16,
    "start_time": "2021-12-27T08:40:55.648Z"
   },
   {
    "duration": 46,
    "start_time": "2021-12-27T08:40:55.666Z"
   },
   {
    "duration": 18,
    "start_time": "2021-12-27T08:40:55.714Z"
   },
   {
    "duration": 8,
    "start_time": "2021-12-27T08:40:55.733Z"
   },
   {
    "duration": 21,
    "start_time": "2021-12-27T08:42:28.060Z"
   },
   {
    "duration": 31,
    "start_time": "2021-12-27T08:42:32.885Z"
   },
   {
    "duration": 13,
    "start_time": "2021-12-27T08:42:37.731Z"
   },
   {
    "duration": 63,
    "start_time": "2021-12-27T08:43:16.244Z"
   },
   {
    "duration": 80,
    "start_time": "2021-12-27T08:44:33.475Z"
   },
   {
    "duration": 8,
    "start_time": "2021-12-27T08:44:43.619Z"
   },
   {
    "duration": 502,
    "start_time": "2021-12-27T08:44:57.995Z"
   },
   {
    "duration": 27,
    "start_time": "2021-12-27T08:45:14.211Z"
   },
   {
    "duration": 12,
    "start_time": "2021-12-27T08:45:16.317Z"
   },
   {
    "duration": 30,
    "start_time": "2021-12-27T08:45:19.973Z"
   },
   {
    "duration": 13,
    "start_time": "2021-12-27T08:45:20.586Z"
   },
   {
    "duration": 30,
    "start_time": "2021-12-27T08:45:53.858Z"
   },
   {
    "duration": 10,
    "start_time": "2021-12-27T08:46:01.522Z"
   },
   {
    "duration": 1067,
    "start_time": "2021-12-27T08:46:41.098Z"
   },
   {
    "duration": 3,
    "start_time": "2021-12-27T08:46:42.168Z"
   },
   {
    "duration": 5,
    "start_time": "2021-12-27T08:46:42.174Z"
   },
   {
    "duration": 471,
    "start_time": "2021-12-27T08:46:42.191Z"
   },
   {
    "duration": 15,
    "start_time": "2021-12-27T08:46:42.664Z"
   },
   {
    "duration": 12,
    "start_time": "2021-12-27T08:46:42.681Z"
   },
   {
    "duration": 10,
    "start_time": "2021-12-27T08:46:42.695Z"
   },
   {
    "duration": 36,
    "start_time": "2021-12-27T08:46:42.709Z"
   },
   {
    "duration": 10,
    "start_time": "2021-12-27T08:46:42.748Z"
   },
   {
    "duration": 54,
    "start_time": "2021-12-27T08:46:42.760Z"
   },
   {
    "duration": 10,
    "start_time": "2021-12-27T08:46:42.816Z"
   },
   {
    "duration": 27,
    "start_time": "2021-12-27T08:46:42.828Z"
   },
   {
    "duration": 34,
    "start_time": "2021-12-27T08:46:42.857Z"
   },
   {
    "duration": 8,
    "start_time": "2021-12-27T08:46:42.895Z"
   },
   {
    "duration": 8,
    "start_time": "2021-12-27T08:46:42.905Z"
   },
   {
    "duration": 10,
    "start_time": "2021-12-27T08:46:42.914Z"
   },
   {
    "duration": 34,
    "start_time": "2021-12-27T08:46:42.926Z"
   },
   {
    "duration": 51,
    "start_time": "2021-12-27T08:46:42.961Z"
   },
   {
    "duration": 6,
    "start_time": "2021-12-27T08:46:43.014Z"
   },
   {
    "duration": 8,
    "start_time": "2021-12-27T08:46:43.022Z"
   },
   {
    "duration": 16,
    "start_time": "2021-12-27T08:46:43.032Z"
   },
   {
    "duration": 52,
    "start_time": "2021-12-27T08:46:43.050Z"
   },
   {
    "duration": 26,
    "start_time": "2021-12-27T08:46:43.107Z"
   },
   {
    "duration": 10,
    "start_time": "2021-12-27T08:46:43.135Z"
   },
   {
    "duration": 54,
    "start_time": "2021-12-27T08:46:43.149Z"
   },
   {
    "duration": 24,
    "start_time": "2021-12-27T08:46:43.206Z"
   },
   {
    "duration": 12,
    "start_time": "2021-12-27T08:46:43.231Z"
   },
   {
    "duration": 47,
    "start_time": "2021-12-27T08:46:43.246Z"
   },
   {
    "duration": 12,
    "start_time": "2021-12-27T08:46:43.295Z"
   },
   {
    "duration": 30,
    "start_time": "2021-12-27T08:46:43.309Z"
   },
   {
    "duration": 7,
    "start_time": "2021-12-27T08:46:43.341Z"
   },
   {
    "duration": 19,
    "start_time": "2021-12-27T08:47:59.985Z"
   },
   {
    "duration": 12,
    "start_time": "2021-12-27T08:48:04.801Z"
   },
   {
    "duration": 22,
    "start_time": "2021-12-27T08:48:12.202Z"
   },
   {
    "duration": 9,
    "start_time": "2021-12-27T08:48:17.832Z"
   },
   {
    "duration": 18,
    "start_time": "2021-12-27T08:48:40.352Z"
   },
   {
    "duration": 9,
    "start_time": "2021-12-27T08:48:45.960Z"
   },
   {
    "duration": 18,
    "start_time": "2021-12-27T08:48:58.914Z"
   },
   {
    "duration": 6,
    "start_time": "2021-12-27T08:49:26.168Z"
   },
   {
    "duration": 9,
    "start_time": "2021-12-27T08:50:26.271Z"
   },
   {
    "duration": 9,
    "start_time": "2021-12-27T08:50:36.706Z"
   },
   {
    "duration": 19,
    "start_time": "2021-12-27T08:56:44.202Z"
   },
   {
    "duration": 19,
    "start_time": "2021-12-27T09:01:39.950Z"
   },
   {
    "duration": 353,
    "start_time": "2021-12-27T09:01:58.189Z"
   },
   {
    "duration": 191,
    "start_time": "2021-12-27T09:02:24.798Z"
   },
   {
    "duration": 204,
    "start_time": "2021-12-27T09:02:30.498Z"
   },
   {
    "duration": 191,
    "start_time": "2021-12-27T09:04:54.634Z"
   },
   {
    "duration": 201,
    "start_time": "2021-12-27T09:05:04.788Z"
   },
   {
    "duration": 208,
    "start_time": "2021-12-27T09:14:19.799Z"
   },
   {
    "duration": 225,
    "start_time": "2021-12-27T09:15:26.455Z"
   },
   {
    "duration": 31,
    "start_time": "2021-12-27T09:15:51.213Z"
   },
   {
    "duration": 4,
    "start_time": "2021-12-27T09:16:16.724Z"
   },
   {
    "duration": 10,
    "start_time": "2021-12-27T09:17:08.796Z"
   },
   {
    "duration": 6807,
    "start_time": "2021-12-27T09:17:23.028Z"
   },
   {
    "duration": 9,
    "start_time": "2021-12-27T09:17:37.812Z"
   },
   {
    "duration": 6,
    "start_time": "2021-12-27T09:19:28.579Z"
   },
   {
    "duration": 6,
    "start_time": "2021-12-27T09:19:35.703Z"
   },
   {
    "duration": 5877,
    "start_time": "2021-12-27T09:19:38.463Z"
   },
   {
    "duration": 10,
    "start_time": "2021-12-27T09:19:44.417Z"
   },
   {
    "duration": 11,
    "start_time": "2021-12-27T09:21:18.984Z"
   },
   {
    "duration": 8,
    "start_time": "2021-12-27T09:21:39.706Z"
   },
   {
    "duration": 7,
    "start_time": "2021-12-27T09:21:41.067Z"
   },
   {
    "duration": 8,
    "start_time": "2021-12-27T09:21:41.823Z"
   },
   {
    "duration": 9,
    "start_time": "2021-12-27T09:21:42.401Z"
   },
   {
    "duration": 7,
    "start_time": "2021-12-27T09:21:42.898Z"
   },
   {
    "duration": 11,
    "start_time": "2021-12-27T09:21:43.410Z"
   },
   {
    "duration": 15,
    "start_time": "2021-12-27T09:22:01.785Z"
   },
   {
    "duration": 16,
    "start_time": "2021-12-27T09:22:08.896Z"
   },
   {
    "duration": 16,
    "start_time": "2021-12-27T09:22:13.880Z"
   },
   {
    "duration": 22,
    "start_time": "2021-12-27T09:22:18.688Z"
   },
   {
    "duration": 5,
    "start_time": "2021-12-27T09:22:53.945Z"
   },
   {
    "duration": 10,
    "start_time": "2021-12-27T09:22:56.208Z"
   },
   {
    "duration": 7,
    "start_time": "2021-12-27T09:23:33.255Z"
   },
   {
    "duration": 7,
    "start_time": "2021-12-27T09:23:37.099Z"
   },
   {
    "duration": 10,
    "start_time": "2021-12-27T09:23:37.743Z"
   },
   {
    "duration": 16,
    "start_time": "2021-12-27T09:23:44.096Z"
   },
   {
    "duration": 1072,
    "start_time": "2021-12-27T09:23:50.662Z"
   },
   {
    "duration": 3,
    "start_time": "2021-12-27T09:23:51.736Z"
   },
   {
    "duration": 5,
    "start_time": "2021-12-27T09:23:51.741Z"
   },
   {
    "duration": 468,
    "start_time": "2021-12-27T09:23:51.748Z"
   },
   {
    "duration": 13,
    "start_time": "2021-12-27T09:23:52.218Z"
   },
   {
    "duration": 7,
    "start_time": "2021-12-27T09:23:52.233Z"
   },
   {
    "duration": 9,
    "start_time": "2021-12-27T09:23:52.241Z"
   },
   {
    "duration": 21,
    "start_time": "2021-12-27T09:23:52.252Z"
   },
   {
    "duration": 13,
    "start_time": "2021-12-27T09:23:52.292Z"
   },
   {
    "duration": 15,
    "start_time": "2021-12-27T09:23:52.308Z"
   },
   {
    "duration": 8,
    "start_time": "2021-12-27T09:23:52.326Z"
   },
   {
    "duration": 19,
    "start_time": "2021-12-27T09:23:52.336Z"
   },
   {
    "duration": 36,
    "start_time": "2021-12-27T09:23:52.357Z"
   },
   {
    "duration": 7,
    "start_time": "2021-12-27T09:23:52.397Z"
   },
   {
    "duration": 14,
    "start_time": "2021-12-27T09:23:52.406Z"
   },
   {
    "duration": 8,
    "start_time": "2021-12-27T09:23:52.422Z"
   },
   {
    "duration": 29,
    "start_time": "2021-12-27T09:23:52.432Z"
   },
   {
    "duration": 53,
    "start_time": "2021-12-27T09:23:52.463Z"
   },
   {
    "duration": 7,
    "start_time": "2021-12-27T09:23:52.518Z"
   },
   {
    "duration": 10,
    "start_time": "2021-12-27T09:23:52.526Z"
   },
   {
    "duration": 15,
    "start_time": "2021-12-27T09:23:52.538Z"
   },
   {
    "duration": 49,
    "start_time": "2021-12-27T09:23:52.555Z"
   },
   {
    "duration": 21,
    "start_time": "2021-12-27T09:23:52.611Z"
   },
   {
    "duration": 10,
    "start_time": "2021-12-27T09:23:52.634Z"
   },
   {
    "duration": 19,
    "start_time": "2021-12-27T09:23:52.645Z"
   },
   {
    "duration": 54,
    "start_time": "2021-12-27T09:23:52.666Z"
   },
   {
    "duration": 22,
    "start_time": "2021-12-27T09:23:52.722Z"
   },
   {
    "duration": 23,
    "start_time": "2021-12-27T09:23:52.746Z"
   },
   {
    "duration": 28,
    "start_time": "2021-12-27T09:23:52.771Z"
   },
   {
    "duration": 30,
    "start_time": "2021-12-27T09:23:52.802Z"
   },
   {
    "duration": 7,
    "start_time": "2021-12-27T09:23:52.834Z"
   },
   {
    "duration": 17,
    "start_time": "2021-12-27T09:23:52.843Z"
   },
   {
    "duration": 39,
    "start_time": "2021-12-27T09:23:52.862Z"
   },
   {
    "duration": 18,
    "start_time": "2021-12-27T09:23:52.904Z"
   },
   {
    "duration": 7,
    "start_time": "2021-12-27T09:23:52.923Z"
   },
   {
    "duration": 24,
    "start_time": "2021-12-27T09:23:52.931Z"
   },
   {
    "duration": 8,
    "start_time": "2021-12-27T09:23:52.956Z"
   },
   {
    "duration": 45,
    "start_time": "2021-12-27T09:23:52.966Z"
   },
   {
    "duration": 7,
    "start_time": "2021-12-27T09:23:53.013Z"
   },
   {
    "duration": 14,
    "start_time": "2021-12-27T09:23:53.022Z"
   },
   {
    "duration": 10,
    "start_time": "2021-12-27T09:23:53.038Z"
   },
   {
    "duration": 42,
    "start_time": "2021-12-27T09:23:53.050Z"
   },
   {
    "duration": 23,
    "start_time": "2021-12-27T09:23:53.094Z"
   },
   {
    "duration": 396,
    "start_time": "2021-12-27T09:23:53.119Z"
   },
   {
    "duration": -286,
    "start_time": "2021-12-27T09:23:53.803Z"
   },
   {
    "duration": -287,
    "start_time": "2021-12-27T09:23:53.805Z"
   },
   {
    "duration": -287,
    "start_time": "2021-12-27T09:23:53.806Z"
   },
   {
    "duration": 10,
    "start_time": "2021-12-27T09:24:09.096Z"
   },
   {
    "duration": 5,
    "start_time": "2021-12-27T09:24:13.142Z"
   },
   {
    "duration": 11,
    "start_time": "2021-12-27T09:24:15.837Z"
   },
   {
    "duration": 6,
    "start_time": "2021-12-27T09:24:20.319Z"
   },
   {
    "duration": 11,
    "start_time": "2021-12-27T09:24:41.199Z"
   },
   {
    "duration": 4,
    "start_time": "2021-12-27T09:25:21.981Z"
   },
   {
    "duration": 247,
    "start_time": "2021-12-27T09:26:10.495Z"
   },
   {
    "duration": 5465,
    "start_time": "2021-12-27T09:26:15.445Z"
   },
   {
    "duration": 5,
    "start_time": "2021-12-27T09:27:52.436Z"
   },
   {
    "duration": 6132,
    "start_time": "2021-12-27T09:27:59.756Z"
   },
   {
    "duration": 5,
    "start_time": "2021-12-27T09:29:01.956Z"
   },
   {
    "duration": 2879,
    "start_time": "2021-12-27T09:29:04.339Z"
   },
   {
    "duration": 12,
    "start_time": "2021-12-27T09:29:23.882Z"
   },
   {
    "duration": 6,
    "start_time": "2021-12-27T09:30:10.509Z"
   },
   {
    "duration": 2861,
    "start_time": "2021-12-27T09:30:11.073Z"
   },
   {
    "duration": 10,
    "start_time": "2021-12-27T09:30:13.936Z"
   },
   {
    "duration": 11,
    "start_time": "2021-12-27T09:30:45.153Z"
   },
   {
    "duration": 209,
    "start_time": "2021-12-27T09:31:35.010Z"
   },
   {
    "duration": 8,
    "start_time": "2021-12-27T09:31:47.234Z"
   },
   {
    "duration": 67,
    "start_time": "2021-12-27T09:34:52.055Z"
   },
   {
    "duration": 387,
    "start_time": "2021-12-27T09:54:26.699Z"
   },
   {
    "duration": 34,
    "start_time": "2021-12-27T09:59:12.903Z"
   },
   {
    "duration": 77,
    "start_time": "2021-12-27T10:05:53.904Z"
   },
   {
    "duration": 279,
    "start_time": "2021-12-27T10:06:29.549Z"
   },
   {
    "duration": 8,
    "start_time": "2021-12-27T10:06:59.288Z"
   },
   {
    "duration": 7,
    "start_time": "2021-12-27T10:07:11.112Z"
   },
   {
    "duration": 378,
    "start_time": "2021-12-27T10:07:26.532Z"
   },
   {
    "duration": 9,
    "start_time": "2021-12-27T10:07:58.379Z"
   },
   {
    "duration": 3,
    "start_time": "2021-12-27T10:15:33.864Z"
   },
   {
    "duration": 1088,
    "start_time": "2021-12-27T10:15:39.395Z"
   },
   {
    "duration": 6,
    "start_time": "2021-12-27T10:15:40.486Z"
   },
   {
    "duration": 5,
    "start_time": "2021-12-27T10:15:40.494Z"
   },
   {
    "duration": 429,
    "start_time": "2021-12-27T10:15:40.501Z"
   },
   {
    "duration": 14,
    "start_time": "2021-12-27T10:15:40.931Z"
   },
   {
    "duration": 8,
    "start_time": "2021-12-27T10:15:40.946Z"
   },
   {
    "duration": 10,
    "start_time": "2021-12-27T10:15:40.956Z"
   },
   {
    "duration": 30,
    "start_time": "2021-12-27T10:15:40.967Z"
   },
   {
    "duration": 7,
    "start_time": "2021-12-27T10:15:41.000Z"
   },
   {
    "duration": 15,
    "start_time": "2021-12-27T10:15:41.009Z"
   },
   {
    "duration": 7,
    "start_time": "2021-12-27T10:15:41.026Z"
   },
   {
    "duration": 20,
    "start_time": "2021-12-27T10:15:41.035Z"
   },
   {
    "duration": 37,
    "start_time": "2021-12-27T10:15:41.056Z"
   },
   {
    "duration": 7,
    "start_time": "2021-12-27T10:15:41.095Z"
   },
   {
    "duration": 8,
    "start_time": "2021-12-27T10:15:41.104Z"
   },
   {
    "duration": 14,
    "start_time": "2021-12-27T10:15:41.114Z"
   },
   {
    "duration": 33,
    "start_time": "2021-12-27T10:15:41.130Z"
   },
   {
    "duration": 42,
    "start_time": "2021-12-27T10:15:41.164Z"
   },
   {
    "duration": 5,
    "start_time": "2021-12-27T10:15:41.208Z"
   },
   {
    "duration": 8,
    "start_time": "2021-12-27T10:15:41.215Z"
   },
   {
    "duration": 13,
    "start_time": "2021-12-27T10:15:41.225Z"
   },
   {
    "duration": 14,
    "start_time": "2021-12-27T10:15:41.240Z"
   },
   {
    "duration": 45,
    "start_time": "2021-12-27T10:15:41.256Z"
   },
   {
    "duration": 7,
    "start_time": "2021-12-27T10:15:41.302Z"
   },
   {
    "duration": 17,
    "start_time": "2021-12-27T10:15:41.311Z"
   },
   {
    "duration": 22,
    "start_time": "2021-12-27T10:15:41.329Z"
   },
   {
    "duration": 12,
    "start_time": "2021-12-27T10:15:41.354Z"
   },
   {
    "duration": 42,
    "start_time": "2021-12-27T10:15:41.368Z"
   },
   {
    "duration": 9,
    "start_time": "2021-12-27T10:15:41.412Z"
   },
   {
    "duration": 30,
    "start_time": "2021-12-27T10:15:41.422Z"
   },
   {
    "duration": 7,
    "start_time": "2021-12-27T10:15:41.453Z"
   },
   {
    "duration": 43,
    "start_time": "2021-12-27T10:15:41.462Z"
   },
   {
    "duration": 7,
    "start_time": "2021-12-27T10:15:41.507Z"
   },
   {
    "duration": 15,
    "start_time": "2021-12-27T10:15:41.516Z"
   },
   {
    "duration": 6,
    "start_time": "2021-12-27T10:15:41.532Z"
   },
   {
    "duration": 20,
    "start_time": "2021-12-27T10:15:41.539Z"
   },
   {
    "duration": 37,
    "start_time": "2021-12-27T10:15:41.560Z"
   },
   {
    "duration": 16,
    "start_time": "2021-12-27T10:15:41.599Z"
   },
   {
    "duration": 6,
    "start_time": "2021-12-27T10:15:41.617Z"
   },
   {
    "duration": 14,
    "start_time": "2021-12-27T10:15:41.625Z"
   },
   {
    "duration": 11,
    "start_time": "2021-12-27T10:15:41.641Z"
   },
   {
    "duration": 43,
    "start_time": "2021-12-27T10:15:41.654Z"
   },
   {
    "duration": 13,
    "start_time": "2021-12-27T10:15:41.699Z"
   },
   {
    "duration": 6,
    "start_time": "2021-12-27T10:15:41.714Z"
   },
   {
    "duration": 4,
    "start_time": "2021-12-27T10:15:41.722Z"
   },
   {
    "duration": 10,
    "start_time": "2021-12-27T10:15:41.727Z"
   },
   {
    "duration": 7,
    "start_time": "2021-12-27T10:15:41.739Z"
   },
   {
    "duration": 43,
    "start_time": "2021-12-27T10:15:41.748Z"
   },
   {
    "duration": 6,
    "start_time": "2021-12-27T10:15:41.793Z"
   },
   {
    "duration": 2646,
    "start_time": "2021-12-27T10:15:41.801Z"
   },
   {
    "duration": 10,
    "start_time": "2021-12-27T10:15:44.448Z"
   },
   {
    "duration": 396,
    "start_time": "2021-12-27T10:15:44.460Z"
   },
   {
    "duration": 44,
    "start_time": "2021-12-27T10:15:44.858Z"
   },
   {
    "duration": 7,
    "start_time": "2021-12-27T10:15:44.903Z"
   },
   {
    "duration": 401,
    "start_time": "2021-12-27T10:15:44.911Z"
   },
   {
    "duration": 6,
    "start_time": "2021-12-27T10:15:45.314Z"
   },
   {
    "duration": 16,
    "start_time": "2021-12-27T10:16:38.043Z"
   },
   {
    "duration": 72,
    "start_time": "2021-12-27T10:17:35.073Z"
   },
   {
    "duration": 14,
    "start_time": "2021-12-27T10:18:05.634Z"
   },
   {
    "duration": 67,
    "start_time": "2021-12-27T10:18:46.105Z"
   },
   {
    "duration": 5,
    "start_time": "2021-12-27T10:21:50.572Z"
   },
   {
    "duration": 5,
    "start_time": "2021-12-27T10:21:57.749Z"
   },
   {
    "duration": 29,
    "start_time": "2021-12-27T10:22:16.102Z"
   },
   {
    "duration": 16,
    "start_time": "2021-12-27T10:24:43.267Z"
   },
   {
    "duration": 18,
    "start_time": "2021-12-27T10:25:09.604Z"
   },
   {
    "duration": 30,
    "start_time": "2021-12-27T10:25:43.792Z"
   },
   {
    "duration": 72,
    "start_time": "2021-12-27T10:26:07.394Z"
   },
   {
    "duration": 702,
    "start_time": "2021-12-27T10:27:35.357Z"
   },
   {
    "duration": 140,
    "start_time": "2021-12-27T10:28:03.073Z"
   },
   {
    "duration": 1096,
    "start_time": "2021-12-27T10:28:08.164Z"
   },
   {
    "duration": 3,
    "start_time": "2021-12-27T10:28:09.262Z"
   },
   {
    "duration": 5,
    "start_time": "2021-12-27T10:28:09.266Z"
   },
   {
    "duration": 430,
    "start_time": "2021-12-27T10:28:09.273Z"
   },
   {
    "duration": 13,
    "start_time": "2021-12-27T10:28:09.705Z"
   },
   {
    "duration": 13,
    "start_time": "2021-12-27T10:28:09.719Z"
   },
   {
    "duration": 12,
    "start_time": "2021-12-27T10:28:09.733Z"
   },
   {
    "duration": 30,
    "start_time": "2021-12-27T10:28:09.747Z"
   },
   {
    "duration": 6,
    "start_time": "2021-12-27T10:28:09.780Z"
   },
   {
    "duration": 14,
    "start_time": "2021-12-27T10:28:09.792Z"
   },
   {
    "duration": 7,
    "start_time": "2021-12-27T10:28:09.808Z"
   },
   {
    "duration": 19,
    "start_time": "2021-12-27T10:28:09.816Z"
   },
   {
    "duration": 7,
    "start_time": "2021-12-27T10:28:09.837Z"
   },
   {
    "duration": 7,
    "start_time": "2021-12-27T10:28:09.846Z"
   },
   {
    "duration": 38,
    "start_time": "2021-12-27T10:28:09.854Z"
   },
   {
    "duration": 13,
    "start_time": "2021-12-27T10:28:09.894Z"
   },
   {
    "duration": 33,
    "start_time": "2021-12-27T10:28:09.909Z"
   },
   {
    "duration": 23,
    "start_time": "2021-12-27T10:28:09.944Z"
   },
   {
    "duration": 23,
    "start_time": "2021-12-27T10:28:09.969Z"
   },
   {
    "duration": 13,
    "start_time": "2021-12-27T10:28:09.994Z"
   },
   {
    "duration": 17,
    "start_time": "2021-12-27T10:28:10.009Z"
   },
   {
    "duration": 15,
    "start_time": "2021-12-27T10:28:10.028Z"
   },
   {
    "duration": 29,
    "start_time": "2021-12-27T10:28:10.045Z"
   },
   {
    "duration": 16,
    "start_time": "2021-12-27T10:28:10.075Z"
   },
   {
    "duration": 18,
    "start_time": "2021-12-27T10:28:10.093Z"
   },
   {
    "duration": 22,
    "start_time": "2021-12-27T10:28:10.113Z"
   },
   {
    "duration": 12,
    "start_time": "2021-12-27T10:28:10.139Z"
   },
   {
    "duration": 50,
    "start_time": "2021-12-27T10:28:10.154Z"
   },
   {
    "duration": 8,
    "start_time": "2021-12-27T10:28:10.206Z"
   },
   {
    "duration": 29,
    "start_time": "2021-12-27T10:28:10.215Z"
   },
   {
    "duration": 7,
    "start_time": "2021-12-27T10:28:10.245Z"
   },
   {
    "duration": 41,
    "start_time": "2021-12-27T10:28:10.253Z"
   },
   {
    "duration": 8,
    "start_time": "2021-12-27T10:28:10.296Z"
   },
   {
    "duration": 14,
    "start_time": "2021-12-27T10:28:10.305Z"
   },
   {
    "duration": 6,
    "start_time": "2021-12-27T10:28:10.321Z"
   },
   {
    "duration": 19,
    "start_time": "2021-12-27T10:28:10.328Z"
   },
   {
    "duration": 8,
    "start_time": "2021-12-27T10:28:10.348Z"
   },
   {
    "duration": 47,
    "start_time": "2021-12-27T10:28:10.358Z"
   },
   {
    "duration": 6,
    "start_time": "2021-12-27T10:28:10.407Z"
   },
   {
    "duration": 13,
    "start_time": "2021-12-27T10:28:10.414Z"
   },
   {
    "duration": 10,
    "start_time": "2021-12-27T10:28:10.429Z"
   },
   {
    "duration": 12,
    "start_time": "2021-12-27T10:28:10.441Z"
   },
   {
    "duration": 42,
    "start_time": "2021-12-27T10:28:10.455Z"
   },
   {
    "duration": 6,
    "start_time": "2021-12-27T10:28:10.499Z"
   },
   {
    "duration": 4,
    "start_time": "2021-12-27T10:28:10.507Z"
   },
   {
    "duration": 13,
    "start_time": "2021-12-27T10:28:10.512Z"
   },
   {
    "duration": 8,
    "start_time": "2021-12-27T10:28:10.526Z"
   },
   {
    "duration": 8,
    "start_time": "2021-12-27T10:28:10.535Z"
   },
   {
    "duration": 5,
    "start_time": "2021-12-27T10:28:10.544Z"
   },
   {
    "duration": 2694,
    "start_time": "2021-12-27T10:28:10.551Z"
   },
   {
    "duration": 10,
    "start_time": "2021-12-27T10:28:13.246Z"
   },
   {
    "duration": 394,
    "start_time": "2021-12-27T10:28:13.258Z"
   },
   {
    "duration": 49,
    "start_time": "2021-12-27T10:28:13.653Z"
   },
   {
    "duration": 7,
    "start_time": "2021-12-27T10:28:13.704Z"
   },
   {
    "duration": 413,
    "start_time": "2021-12-27T10:28:13.713Z"
   },
   {
    "duration": 7,
    "start_time": "2021-12-27T10:28:14.127Z"
   },
   {
    "duration": 29,
    "start_time": "2021-12-27T10:28:14.135Z"
   },
   {
    "duration": 15,
    "start_time": "2021-12-27T10:28:14.166Z"
   },
   {
    "duration": 43,
    "start_time": "2021-12-27T10:28:14.183Z"
   },
   {
    "duration": 14,
    "start_time": "2021-12-27T10:28:14.228Z"
   },
   {
    "duration": 20,
    "start_time": "2021-12-27T10:28:14.244Z"
   },
   {
    "duration": 41,
    "start_time": "2021-12-27T10:28:14.266Z"
   },
   {
    "duration": 87,
    "start_time": "2021-12-27T10:28:14.309Z"
   },
   {
    "duration": 1413,
    "start_time": "2021-12-27T10:28:14.398Z"
   },
   {
    "duration": 69,
    "start_time": "2021-12-27T10:30:03.226Z"
   },
   {
    "duration": 8,
    "start_time": "2021-12-27T10:34:14.506Z"
   },
   {
    "duration": 11,
    "start_time": "2021-12-27T10:34:25.409Z"
   },
   {
    "duration": 5,
    "start_time": "2021-12-27T10:35:34.031Z"
   },
   {
    "duration": 13,
    "start_time": "2021-12-27T10:36:39.104Z"
   },
   {
    "duration": 6,
    "start_time": "2021-12-27T10:38:33.408Z"
   },
   {
    "duration": 7,
    "start_time": "2021-12-27T10:38:45.287Z"
   },
   {
    "duration": 272,
    "start_time": "2021-12-27T10:38:54.922Z"
   },
   {
    "duration": 10,
    "start_time": "2021-12-27T10:39:03.519Z"
   },
   {
    "duration": 183,
    "start_time": "2021-12-27T10:39:58.564Z"
   },
   {
    "duration": 5,
    "start_time": "2021-12-27T10:40:03.714Z"
   },
   {
    "duration": 175,
    "start_time": "2021-12-27T10:40:35.308Z"
   },
   {
    "duration": 5,
    "start_time": "2021-12-27T10:40:41.019Z"
   },
   {
    "duration": 1104,
    "start_time": "2021-12-27T10:45:53.140Z"
   },
   {
    "duration": 2,
    "start_time": "2021-12-27T10:45:54.246Z"
   },
   {
    "duration": 8,
    "start_time": "2021-12-27T10:45:54.250Z"
   },
   {
    "duration": 443,
    "start_time": "2021-12-27T10:45:54.260Z"
   },
   {
    "duration": 14,
    "start_time": "2021-12-27T10:45:54.705Z"
   },
   {
    "duration": 8,
    "start_time": "2021-12-27T10:45:54.721Z"
   },
   {
    "duration": 9,
    "start_time": "2021-12-27T10:45:54.731Z"
   },
   {
    "duration": 22,
    "start_time": "2021-12-27T10:45:54.743Z"
   },
   {
    "duration": 28,
    "start_time": "2021-12-27T10:45:54.768Z"
   },
   {
    "duration": 16,
    "start_time": "2021-12-27T10:45:54.798Z"
   },
   {
    "duration": 9,
    "start_time": "2021-12-27T10:45:54.816Z"
   },
   {
    "duration": 32,
    "start_time": "2021-12-27T10:45:54.827Z"
   },
   {
    "duration": 8,
    "start_time": "2021-12-27T10:45:54.861Z"
   },
   {
    "duration": 9,
    "start_time": "2021-12-27T10:45:54.891Z"
   },
   {
    "duration": 17,
    "start_time": "2021-12-27T10:45:54.902Z"
   },
   {
    "duration": 30,
    "start_time": "2021-12-27T10:45:54.920Z"
   },
   {
    "duration": 44,
    "start_time": "2021-12-27T10:45:54.952Z"
   },
   {
    "duration": 24,
    "start_time": "2021-12-27T10:45:54.998Z"
   },
   {
    "duration": 18,
    "start_time": "2021-12-27T10:45:55.024Z"
   },
   {
    "duration": 17,
    "start_time": "2021-12-27T10:45:55.044Z"
   },
   {
    "duration": 25,
    "start_time": "2021-12-27T10:45:55.063Z"
   },
   {
    "duration": 16,
    "start_time": "2021-12-27T10:45:55.091Z"
   },
   {
    "duration": 25,
    "start_time": "2021-12-27T10:45:55.109Z"
   },
   {
    "duration": 19,
    "start_time": "2021-12-27T10:45:55.136Z"
   },
   {
    "duration": 17,
    "start_time": "2021-12-27T10:45:55.157Z"
   },
   {
    "duration": 31,
    "start_time": "2021-12-27T10:45:55.178Z"
   },
   {
    "duration": 11,
    "start_time": "2021-12-27T10:45:55.212Z"
   },
   {
    "duration": 22,
    "start_time": "2021-12-27T10:45:55.224Z"
   },
   {
    "duration": 8,
    "start_time": "2021-12-27T10:45:55.248Z"
   },
   {
    "duration": 50,
    "start_time": "2021-12-27T10:45:55.258Z"
   },
   {
    "duration": 8,
    "start_time": "2021-12-27T10:45:55.310Z"
   },
   {
    "duration": 25,
    "start_time": "2021-12-27T10:45:55.320Z"
   },
   {
    "duration": 8,
    "start_time": "2021-12-27T10:45:55.347Z"
   },
   {
    "duration": 21,
    "start_time": "2021-12-27T10:45:55.357Z"
   },
   {
    "duration": 12,
    "start_time": "2021-12-27T10:45:55.380Z"
   },
   {
    "duration": 23,
    "start_time": "2021-12-27T10:45:55.394Z"
   },
   {
    "duration": 13,
    "start_time": "2021-12-27T10:45:55.418Z"
   },
   {
    "duration": 23,
    "start_time": "2021-12-27T10:45:55.432Z"
   },
   {
    "duration": 6,
    "start_time": "2021-12-27T10:45:55.457Z"
   },
   {
    "duration": 29,
    "start_time": "2021-12-27T10:45:55.465Z"
   },
   {
    "duration": 13,
    "start_time": "2021-12-27T10:45:55.495Z"
   },
   {
    "duration": 15,
    "start_time": "2021-12-27T10:45:55.510Z"
   },
   {
    "duration": 14,
    "start_time": "2021-12-27T10:45:55.527Z"
   },
   {
    "duration": 15,
    "start_time": "2021-12-27T10:45:55.542Z"
   },
   {
    "duration": 4,
    "start_time": "2021-12-27T10:45:55.558Z"
   },
   {
    "duration": 32,
    "start_time": "2021-12-27T10:45:55.564Z"
   },
   {
    "duration": 14,
    "start_time": "2021-12-27T10:45:55.597Z"
   },
   {
    "duration": 15,
    "start_time": "2021-12-27T10:45:55.613Z"
   },
   {
    "duration": 17,
    "start_time": "2021-12-27T10:45:55.630Z"
   },
   {
    "duration": 2693,
    "start_time": "2021-12-27T10:45:55.649Z"
   },
   {
    "duration": 10,
    "start_time": "2021-12-27T10:45:58.344Z"
   },
   {
    "duration": 393,
    "start_time": "2021-12-27T10:45:58.356Z"
   },
   {
    "duration": 47,
    "start_time": "2021-12-27T10:45:58.751Z"
   },
   {
    "duration": 7,
    "start_time": "2021-12-27T10:45:58.800Z"
   },
   {
    "duration": 399,
    "start_time": "2021-12-27T10:45:58.808Z"
   },
   {
    "duration": 7,
    "start_time": "2021-12-27T10:45:59.208Z"
   },
   {
    "duration": 15,
    "start_time": "2021-12-27T10:45:59.216Z"
   },
   {
    "duration": 11,
    "start_time": "2021-12-27T10:45:59.233Z"
   },
   {
    "duration": 56,
    "start_time": "2021-12-27T10:45:59.246Z"
   },
   {
    "duration": 14,
    "start_time": "2021-12-27T10:45:59.303Z"
   },
   {
    "duration": 17,
    "start_time": "2021-12-27T10:45:59.318Z"
   },
   {
    "duration": 29,
    "start_time": "2021-12-27T10:45:59.336Z"
   },
   {
    "duration": 97,
    "start_time": "2021-12-27T10:45:59.366Z"
   },
   {
    "duration": 1424,
    "start_time": "2021-12-27T10:45:59.464Z"
   },
   {
    "duration": 70,
    "start_time": "2021-12-27T10:46:00.890Z"
   },
   {
    "duration": 29,
    "start_time": "2021-12-27T10:46:00.962Z"
   },
   {
    "duration": 11,
    "start_time": "2021-12-27T10:46:00.993Z"
   },
   {
    "duration": 11,
    "start_time": "2021-12-27T10:46:01.006Z"
   },
   {
    "duration": 17,
    "start_time": "2021-12-27T10:46:01.019Z"
   },
   {
    "duration": 9,
    "start_time": "2021-12-27T10:46:01.038Z"
   },
   {
    "duration": 12,
    "start_time": "2021-12-27T10:46:01.048Z"
   },
   {
    "duration": 32,
    "start_time": "2021-12-27T10:46:01.062Z"
   },
   {
    "duration": 5,
    "start_time": "2021-12-27T10:46:01.096Z"
   },
   {
    "duration": 12,
    "start_time": "2021-12-27T10:46:01.103Z"
   },
   {
    "duration": 1620,
    "start_time": "2021-12-28T08:45:05.437Z"
   },
   {
    "duration": 4,
    "start_time": "2021-12-28T08:45:07.063Z"
   },
   {
    "duration": 7,
    "start_time": "2021-12-28T08:45:07.070Z"
   },
   {
    "duration": 541,
    "start_time": "2021-12-28T08:45:07.080Z"
   },
   {
    "duration": 19,
    "start_time": "2021-12-28T08:45:07.623Z"
   },
   {
    "duration": 13,
    "start_time": "2021-12-28T08:45:07.644Z"
   },
   {
    "duration": 11,
    "start_time": "2021-12-28T08:45:07.663Z"
   },
   {
    "duration": 30,
    "start_time": "2021-12-28T08:45:07.678Z"
   },
   {
    "duration": 10,
    "start_time": "2021-12-28T08:45:07.711Z"
   },
   {
    "duration": 54,
    "start_time": "2021-12-28T08:45:07.724Z"
   },
   {
    "duration": 20,
    "start_time": "2021-12-28T08:45:07.780Z"
   },
   {
    "duration": 30,
    "start_time": "2021-12-28T08:45:07.802Z"
   },
   {
    "duration": 11,
    "start_time": "2021-12-28T08:45:07.835Z"
   },
   {
    "duration": 9,
    "start_time": "2021-12-28T08:45:07.862Z"
   },
   {
    "duration": 16,
    "start_time": "2021-12-28T08:45:07.874Z"
   },
   {
    "duration": 19,
    "start_time": "2021-12-28T08:45:07.893Z"
   },
   {
    "duration": 65,
    "start_time": "2021-12-28T08:45:07.915Z"
   },
   {
    "duration": 33,
    "start_time": "2021-12-28T08:45:07.983Z"
   },
   {
    "duration": 6,
    "start_time": "2021-12-28T08:45:08.019Z"
   },
   {
    "duration": 36,
    "start_time": "2021-12-28T08:45:08.028Z"
   },
   {
    "duration": 16,
    "start_time": "2021-12-28T08:45:08.067Z"
   },
   {
    "duration": 22,
    "start_time": "2021-12-28T08:45:08.085Z"
   },
   {
    "duration": 55,
    "start_time": "2021-12-28T08:45:08.114Z"
   },
   {
    "duration": 11,
    "start_time": "2021-12-28T08:45:08.174Z"
   },
   {
    "duration": 25,
    "start_time": "2021-12-28T08:45:08.187Z"
   },
   {
    "duration": 57,
    "start_time": "2021-12-28T08:45:08.215Z"
   },
   {
    "duration": 15,
    "start_time": "2021-12-28T08:45:08.274Z"
   },
   {
    "duration": 30,
    "start_time": "2021-12-28T08:45:08.291Z"
   },
   {
    "duration": 11,
    "start_time": "2021-12-28T08:45:08.324Z"
   },
   {
    "duration": 58,
    "start_time": "2021-12-28T08:45:08.338Z"
   },
   {
    "duration": 10,
    "start_time": "2021-12-28T08:45:08.399Z"
   },
   {
    "duration": 22,
    "start_time": "2021-12-28T08:45:08.411Z"
   },
   {
    "duration": 12,
    "start_time": "2021-12-28T08:45:08.463Z"
   },
   {
    "duration": 19,
    "start_time": "2021-12-28T08:45:08.477Z"
   },
   {
    "duration": 10,
    "start_time": "2021-12-28T08:45:08.498Z"
   },
   {
    "duration": 58,
    "start_time": "2021-12-28T08:45:08.511Z"
   },
   {
    "duration": 13,
    "start_time": "2021-12-28T08:45:08.571Z"
   },
   {
    "duration": 24,
    "start_time": "2021-12-28T08:45:08.586Z"
   },
   {
    "duration": 10,
    "start_time": "2021-12-28T08:45:08.612Z"
   },
   {
    "duration": 53,
    "start_time": "2021-12-28T08:45:08.625Z"
   },
   {
    "duration": 17,
    "start_time": "2021-12-28T08:45:08.680Z"
   },
   {
    "duration": 19,
    "start_time": "2021-12-28T08:45:08.699Z"
   },
   {
    "duration": 52,
    "start_time": "2021-12-28T08:45:08.720Z"
   },
   {
    "duration": 8,
    "start_time": "2021-12-28T08:45:08.775Z"
   },
   {
    "duration": 6,
    "start_time": "2021-12-28T08:45:08.785Z"
   },
   {
    "duration": 17,
    "start_time": "2021-12-28T08:45:08.793Z"
   },
   {
    "duration": 7,
    "start_time": "2021-12-28T08:45:08.812Z"
   },
   {
    "duration": 49,
    "start_time": "2021-12-28T08:45:08.822Z"
   },
   {
    "duration": 8,
    "start_time": "2021-12-28T08:45:08.873Z"
   },
   {
    "duration": 4694,
    "start_time": "2021-12-28T08:45:08.883Z"
   },
   {
    "duration": 16,
    "start_time": "2021-12-28T08:45:13.579Z"
   },
   {
    "duration": 615,
    "start_time": "2021-12-28T08:45:13.598Z"
   },
   {
    "duration": 82,
    "start_time": "2021-12-28T08:45:14.215Z"
   },
   {
    "duration": 20,
    "start_time": "2021-12-28T08:45:14.300Z"
   },
   {
    "duration": 659,
    "start_time": "2021-12-28T08:45:14.323Z"
   },
   {
    "duration": 9,
    "start_time": "2021-12-28T08:45:14.985Z"
   },
   {
    "duration": 36,
    "start_time": "2021-12-28T08:45:14.996Z"
   },
   {
    "duration": 36,
    "start_time": "2021-12-28T08:45:15.034Z"
   },
   {
    "duration": 51,
    "start_time": "2021-12-28T08:45:15.072Z"
   },
   {
    "duration": 39,
    "start_time": "2021-12-28T08:45:15.125Z"
   },
   {
    "duration": 37,
    "start_time": "2021-12-28T08:45:15.167Z"
   },
   {
    "duration": 70,
    "start_time": "2021-12-28T08:45:15.207Z"
   },
   {
    "duration": 135,
    "start_time": "2021-12-28T08:45:15.279Z"
   },
   {
    "duration": 2093,
    "start_time": "2021-12-28T08:45:15.417Z"
   },
   {
    "duration": 121,
    "start_time": "2021-12-28T08:45:17.512Z"
   },
   {
    "duration": 28,
    "start_time": "2021-12-28T08:45:17.635Z"
   },
   {
    "duration": 31,
    "start_time": "2021-12-28T08:45:17.665Z"
   },
   {
    "duration": 44,
    "start_time": "2021-12-28T08:45:17.704Z"
   },
   {
    "duration": 43,
    "start_time": "2021-12-28T08:45:17.750Z"
   },
   {
    "duration": 30,
    "start_time": "2021-12-28T08:45:17.796Z"
   },
   {
    "duration": 42,
    "start_time": "2021-12-28T08:45:17.829Z"
   },
   {
    "duration": 36,
    "start_time": "2021-12-28T08:45:17.873Z"
   },
   {
    "duration": 40,
    "start_time": "2021-12-28T08:45:17.912Z"
   },
   {
    "duration": 44,
    "start_time": "2021-12-28T08:45:17.954Z"
   },
   {
    "duration": 430,
    "start_time": "2021-12-28T19:14:44.341Z"
   },
   {
    "duration": 297,
    "start_time": "2021-12-28T19:15:20.293Z"
   },
   {
    "duration": 269,
    "start_time": "2021-12-28T19:15:54.596Z"
   },
   {
    "duration": 1768,
    "start_time": "2021-12-28T19:17:03.835Z"
   },
   {
    "duration": 3,
    "start_time": "2021-12-28T19:17:05.606Z"
   },
   {
    "duration": 7,
    "start_time": "2021-12-28T19:17:05.612Z"
   },
   {
    "duration": 677,
    "start_time": "2021-12-28T19:17:05.622Z"
   },
   {
    "duration": 19,
    "start_time": "2021-12-28T19:17:06.302Z"
   },
   {
    "duration": 14,
    "start_time": "2021-12-28T19:17:06.325Z"
   },
   {
    "duration": 17,
    "start_time": "2021-12-28T19:17:06.342Z"
   },
   {
    "duration": 39,
    "start_time": "2021-12-28T19:17:06.373Z"
   },
   {
    "duration": 11,
    "start_time": "2021-12-28T19:17:06.417Z"
   },
   {
    "duration": 58,
    "start_time": "2021-12-28T19:17:06.431Z"
   },
   {
    "duration": 14,
    "start_time": "2021-12-28T19:17:06.492Z"
   },
   {
    "duration": 31,
    "start_time": "2021-12-28T19:17:06.509Z"
   },
   {
    "duration": 45,
    "start_time": "2021-12-28T19:17:06.543Z"
   },
   {
    "duration": 27,
    "start_time": "2021-12-28T19:17:06.592Z"
   },
   {
    "duration": 35,
    "start_time": "2021-12-28T19:17:06.622Z"
   },
   {
    "duration": 44,
    "start_time": "2021-12-28T19:17:06.660Z"
   },
   {
    "duration": 47,
    "start_time": "2021-12-28T19:17:06.707Z"
   },
   {
    "duration": 59,
    "start_time": "2021-12-28T19:17:06.757Z"
   },
   {
    "duration": 8,
    "start_time": "2021-12-28T19:17:06.819Z"
   },
   {
    "duration": 41,
    "start_time": "2021-12-28T19:17:06.830Z"
   },
   {
    "duration": 25,
    "start_time": "2021-12-28T19:17:06.874Z"
   },
   {
    "duration": 23,
    "start_time": "2021-12-28T19:17:06.902Z"
   },
   {
    "duration": 65,
    "start_time": "2021-12-28T19:17:06.933Z"
   },
   {
    "duration": 12,
    "start_time": "2021-12-28T19:17:07.004Z"
   },
   {
    "duration": 53,
    "start_time": "2021-12-28T19:17:07.018Z"
   },
   {
    "duration": 39,
    "start_time": "2021-12-28T19:17:07.074Z"
   },
   {
    "duration": 15,
    "start_time": "2021-12-28T19:17:07.115Z"
   },
   {
    "duration": 61,
    "start_time": "2021-12-28T19:17:07.132Z"
   },
   {
    "duration": 13,
    "start_time": "2021-12-28T19:17:07.195Z"
   },
   {
    "duration": 71,
    "start_time": "2021-12-28T19:17:07.210Z"
   },
   {
    "duration": 14,
    "start_time": "2021-12-28T19:17:07.286Z"
   },
   {
    "duration": 23,
    "start_time": "2021-12-28T19:17:07.303Z"
   },
   {
    "duration": 39,
    "start_time": "2021-12-28T19:17:07.329Z"
   },
   {
    "duration": 25,
    "start_time": "2021-12-28T19:17:07.371Z"
   },
   {
    "duration": 11,
    "start_time": "2021-12-28T19:17:07.399Z"
   },
   {
    "duration": 69,
    "start_time": "2021-12-28T19:17:07.413Z"
   },
   {
    "duration": 13,
    "start_time": "2021-12-28T19:17:07.488Z"
   },
   {
    "duration": 26,
    "start_time": "2021-12-28T19:17:07.503Z"
   },
   {
    "duration": 44,
    "start_time": "2021-12-28T19:17:07.532Z"
   },
   {
    "duration": 29,
    "start_time": "2021-12-28T19:17:07.579Z"
   },
   {
    "duration": 19,
    "start_time": "2021-12-28T19:17:07.610Z"
   },
   {
    "duration": 48,
    "start_time": "2021-12-28T19:17:07.632Z"
   },
   {
    "duration": 26,
    "start_time": "2021-12-28T19:17:07.682Z"
   },
   {
    "duration": 8,
    "start_time": "2021-12-28T19:17:07.710Z"
   },
   {
    "duration": 6,
    "start_time": "2021-12-28T19:17:07.721Z"
   },
   {
    "duration": 47,
    "start_time": "2021-12-28T19:17:07.729Z"
   },
   {
    "duration": 19,
    "start_time": "2021-12-28T19:17:07.778Z"
   },
   {
    "duration": 11,
    "start_time": "2021-12-28T19:17:07.799Z"
   },
   {
    "duration": 8,
    "start_time": "2021-12-28T19:17:07.812Z"
   },
   {
    "duration": 5271,
    "start_time": "2021-12-28T19:17:07.822Z"
   },
   {
    "duration": 17,
    "start_time": "2021-12-28T19:17:13.096Z"
   },
   {
    "duration": 710,
    "start_time": "2021-12-28T19:17:13.116Z"
   },
   {
    "duration": 75,
    "start_time": "2021-12-28T19:17:13.829Z"
   },
   {
    "duration": 448,
    "start_time": "2021-12-28T19:17:13.906Z"
   },
   {
    "duration": 361355,
    "start_time": "2021-12-28T19:11:13.002Z"
   },
   {
    "duration": 361340,
    "start_time": "2021-12-28T19:11:13.019Z"
   },
   {
    "duration": 361330,
    "start_time": "2021-12-28T19:11:13.031Z"
   },
   {
    "duration": 361326,
    "start_time": "2021-12-28T19:11:13.039Z"
   },
   {
    "duration": 361322,
    "start_time": "2021-12-28T19:11:13.045Z"
   },
   {
    "duration": 361310,
    "start_time": "2021-12-28T19:11:13.058Z"
   },
   {
    "duration": 361303,
    "start_time": "2021-12-28T19:11:13.066Z"
   },
   {
    "duration": 361294,
    "start_time": "2021-12-28T19:11:13.077Z"
   },
   {
    "duration": 361290,
    "start_time": "2021-12-28T19:11:13.083Z"
   },
   {
    "duration": 361287,
    "start_time": "2021-12-28T19:11:13.093Z"
   },
   {
    "duration": 361283,
    "start_time": "2021-12-28T19:11:13.100Z"
   },
   {
    "duration": 361278,
    "start_time": "2021-12-28T19:11:13.109Z"
   },
   {
    "duration": 361274,
    "start_time": "2021-12-28T19:11:13.115Z"
   },
   {
    "duration": 361267,
    "start_time": "2021-12-28T19:11:13.125Z"
   },
   {
    "duration": 361265,
    "start_time": "2021-12-28T19:11:13.131Z"
   },
   {
    "duration": 361260,
    "start_time": "2021-12-28T19:11:13.139Z"
   },
   {
    "duration": 361255,
    "start_time": "2021-12-28T19:11:13.146Z"
   },
   {
    "duration": 420,
    "start_time": "2021-12-28T19:17:36.290Z"
   },
   {
    "duration": 552,
    "start_time": "2021-12-28T19:17:45.091Z"
   },
   {
    "duration": 287,
    "start_time": "2021-12-28T19:22:32.158Z"
   },
   {
    "duration": 296,
    "start_time": "2021-12-28T19:29:19.064Z"
   },
   {
    "duration": 511,
    "start_time": "2021-12-28T19:33:31.448Z"
   },
   {
    "duration": 291,
    "start_time": "2021-12-28T19:33:52.901Z"
   },
   {
    "duration": 33,
    "start_time": "2021-12-28T19:34:00.148Z"
   },
   {
    "duration": 35,
    "start_time": "2021-12-28T19:34:21.556Z"
   },
   {
    "duration": 371,
    "start_time": "2021-12-28T19:34:51.908Z"
   },
   {
    "duration": 295,
    "start_time": "2021-12-28T19:34:59.544Z"
   },
   {
    "duration": 51,
    "start_time": "2021-12-28T19:35:18.143Z"
   },
   {
    "duration": 31,
    "start_time": "2021-12-28T19:35:47.466Z"
   },
   {
    "duration": 29,
    "start_time": "2021-12-28T19:36:14.528Z"
   },
   {
    "duration": 69,
    "start_time": "2021-12-28T19:36:53.367Z"
   },
   {
    "duration": 123,
    "start_time": "2021-12-28T19:37:02.599Z"
   },
   {
    "duration": 1577,
    "start_time": "2021-12-28T19:38:31.160Z"
   },
   {
    "duration": 3,
    "start_time": "2021-12-28T19:38:32.740Z"
   },
   {
    "duration": 15,
    "start_time": "2021-12-28T19:38:32.747Z"
   },
   {
    "duration": 581,
    "start_time": "2021-12-28T19:38:32.765Z"
   },
   {
    "duration": 24,
    "start_time": "2021-12-28T19:38:33.348Z"
   },
   {
    "duration": 15,
    "start_time": "2021-12-28T19:38:33.374Z"
   },
   {
    "duration": 24,
    "start_time": "2021-12-28T19:38:33.392Z"
   },
   {
    "duration": 64,
    "start_time": "2021-12-28T19:38:33.421Z"
   },
   {
    "duration": 12,
    "start_time": "2021-12-28T19:38:33.488Z"
   },
   {
    "duration": 21,
    "start_time": "2021-12-28T19:38:33.503Z"
   },
   {
    "duration": 46,
    "start_time": "2021-12-28T19:38:33.528Z"
   },
   {
    "duration": 38,
    "start_time": "2021-12-28T19:38:33.577Z"
   },
   {
    "duration": 12,
    "start_time": "2021-12-28T19:38:33.617Z"
   },
   {
    "duration": 38,
    "start_time": "2021-12-28T19:38:33.631Z"
   },
   {
    "duration": 14,
    "start_time": "2021-12-28T19:38:33.671Z"
   },
   {
    "duration": 13,
    "start_time": "2021-12-28T19:38:33.687Z"
   },
   {
    "duration": 62,
    "start_time": "2021-12-28T19:38:33.702Z"
   },
   {
    "duration": 49,
    "start_time": "2021-12-28T19:38:33.769Z"
   },
   {
    "duration": 6,
    "start_time": "2021-12-28T19:38:33.820Z"
   },
   {
    "duration": 46,
    "start_time": "2021-12-28T19:38:33.829Z"
   },
   {
    "duration": 20,
    "start_time": "2021-12-28T19:38:33.879Z"
   },
   {
    "duration": 43,
    "start_time": "2021-12-28T19:38:33.902Z"
   },
   {
    "duration": 34,
    "start_time": "2021-12-28T19:38:33.963Z"
   },
   {
    "duration": 10,
    "start_time": "2021-12-28T19:38:34.002Z"
   },
   {
    "duration": 56,
    "start_time": "2021-12-28T19:38:34.014Z"
   },
   {
    "duration": 39,
    "start_time": "2021-12-28T19:38:34.073Z"
   },
   {
    "duration": 16,
    "start_time": "2021-12-28T19:38:34.115Z"
   },
   {
    "duration": 59,
    "start_time": "2021-12-28T19:38:34.133Z"
   },
   {
    "duration": 15,
    "start_time": "2021-12-28T19:38:34.194Z"
   },
   {
    "duration": 54,
    "start_time": "2021-12-28T19:38:34.211Z"
   },
   {
    "duration": 21,
    "start_time": "2021-12-28T19:38:34.276Z"
   },
   {
    "duration": 22,
    "start_time": "2021-12-28T19:38:34.301Z"
   },
   {
    "duration": 12,
    "start_time": "2021-12-28T19:38:34.325Z"
   },
   {
    "duration": 54,
    "start_time": "2021-12-28T19:38:34.340Z"
   },
   {
    "duration": 13,
    "start_time": "2021-12-28T19:38:34.397Z"
   },
   {
    "duration": 30,
    "start_time": "2021-12-28T19:38:34.412Z"
   },
   {
    "duration": 27,
    "start_time": "2021-12-28T19:38:34.444Z"
   },
   {
    "duration": 35,
    "start_time": "2021-12-28T19:38:34.474Z"
   },
   {
    "duration": 10,
    "start_time": "2021-12-28T19:38:34.512Z"
   },
   {
    "duration": 53,
    "start_time": "2021-12-28T19:38:34.524Z"
   },
   {
    "duration": 20,
    "start_time": "2021-12-28T19:38:34.580Z"
   },
   {
    "duration": 23,
    "start_time": "2021-12-28T19:38:34.603Z"
   },
   {
    "duration": 60,
    "start_time": "2021-12-28T19:38:34.629Z"
   },
   {
    "duration": 9,
    "start_time": "2021-12-28T19:38:34.692Z"
   },
   {
    "duration": 6,
    "start_time": "2021-12-28T19:38:34.703Z"
   },
   {
    "duration": 15,
    "start_time": "2021-12-28T19:38:34.711Z"
   },
   {
    "duration": 42,
    "start_time": "2021-12-28T19:38:34.728Z"
   },
   {
    "duration": 17,
    "start_time": "2021-12-28T19:38:34.781Z"
   },
   {
    "duration": 8,
    "start_time": "2021-12-28T19:38:34.801Z"
   },
   {
    "duration": 5794,
    "start_time": "2021-12-28T19:38:34.811Z"
   },
   {
    "duration": 20,
    "start_time": "2021-12-28T19:38:40.608Z"
   },
   {
    "duration": 871,
    "start_time": "2021-12-28T19:38:40.631Z"
   },
   {
    "duration": 71,
    "start_time": "2021-12-28T19:38:41.506Z"
   },
   {
    "duration": 45,
    "start_time": "2021-12-28T19:38:41.581Z"
   },
   {
    "duration": 19,
    "start_time": "2021-12-28T19:38:41.629Z"
   },
   {
    "duration": 65,
    "start_time": "2021-12-28T19:38:41.651Z"
   },
   {
    "duration": 52,
    "start_time": "2021-12-28T19:38:41.719Z"
   },
   {
    "duration": 38,
    "start_time": "2021-12-28T19:38:41.782Z"
   },
   {
    "duration": 75,
    "start_time": "2021-12-28T19:38:41.823Z"
   },
   {
    "duration": 130,
    "start_time": "2021-12-28T19:38:41.908Z"
   },
   {
    "duration": 1249,
    "start_time": "2021-12-28T19:38:42.041Z"
   },
   {
    "duration": 361365,
    "start_time": "2021-12-28T19:32:41.929Z"
   },
   {
    "duration": 361358,
    "start_time": "2021-12-28T19:32:41.937Z"
   },
   {
    "duration": 361352,
    "start_time": "2021-12-28T19:32:41.945Z"
   },
   {
    "duration": 361305,
    "start_time": "2021-12-28T19:32:41.994Z"
   },
   {
    "duration": 361295,
    "start_time": "2021-12-28T19:32:42.006Z"
   },
   {
    "duration": 361290,
    "start_time": "2021-12-28T19:32:42.013Z"
   },
   {
    "duration": 361284,
    "start_time": "2021-12-28T19:32:42.020Z"
   },
   {
    "duration": 361277,
    "start_time": "2021-12-28T19:32:42.028Z"
   },
   {
    "duration": 361271,
    "start_time": "2021-12-28T19:32:42.036Z"
   },
   {
    "duration": 361265,
    "start_time": "2021-12-28T19:32:42.043Z"
   },
   {
    "duration": 2414,
    "start_time": "2021-12-28T19:39:25.190Z"
   },
   {
    "duration": 1208,
    "start_time": "2022-03-24T10:03:59.125Z"
   },
   {
    "duration": 3,
    "start_time": "2022-03-24T10:04:00.340Z"
   },
   {
    "duration": 15,
    "start_time": "2022-03-24T10:04:00.345Z"
   },
   {
    "duration": 529,
    "start_time": "2022-03-24T10:04:00.363Z"
   },
   {
    "duration": 22,
    "start_time": "2022-03-24T10:04:00.894Z"
   },
   {
    "duration": 12,
    "start_time": "2022-03-24T10:04:00.917Z"
   },
   {
    "duration": 59,
    "start_time": "2022-03-24T10:04:00.930Z"
   },
   {
    "duration": 36,
    "start_time": "2022-03-24T10:04:00.991Z"
   },
   {
    "duration": 8,
    "start_time": "2022-03-24T10:04:01.029Z"
   },
   {
    "duration": 46,
    "start_time": "2022-03-24T10:04:01.040Z"
   },
   {
    "duration": 13,
    "start_time": "2022-03-24T10:04:01.088Z"
   },
   {
    "duration": 34,
    "start_time": "2022-03-24T10:04:01.103Z"
   },
   {
    "duration": 17,
    "start_time": "2022-03-24T10:04:01.139Z"
   },
   {
    "duration": 20,
    "start_time": "2022-03-24T10:04:01.157Z"
   },
   {
    "duration": 21,
    "start_time": "2022-03-24T10:04:01.179Z"
   },
   {
    "duration": 19,
    "start_time": "2022-03-24T10:04:01.202Z"
   },
   {
    "duration": 50,
    "start_time": "2022-03-24T10:04:01.223Z"
   },
   {
    "duration": 23,
    "start_time": "2022-03-24T10:04:01.275Z"
   },
   {
    "duration": 6,
    "start_time": "2022-03-24T10:04:01.300Z"
   },
   {
    "duration": 11,
    "start_time": "2022-03-24T10:04:01.307Z"
   },
   {
    "duration": 30,
    "start_time": "2022-03-24T10:04:01.319Z"
   },
   {
    "duration": 35,
    "start_time": "2022-03-24T10:04:01.351Z"
   },
   {
    "duration": 47,
    "start_time": "2022-03-24T10:04:01.388Z"
   },
   {
    "duration": 51,
    "start_time": "2022-03-24T10:04:01.437Z"
   },
   {
    "duration": 22,
    "start_time": "2022-03-24T10:04:01.490Z"
   },
   {
    "duration": 42,
    "start_time": "2022-03-24T10:04:01.514Z"
   },
   {
    "duration": 15,
    "start_time": "2022-03-24T10:04:01.558Z"
   },
   {
    "duration": 33,
    "start_time": "2022-03-24T10:04:01.578Z"
   },
   {
    "duration": 8,
    "start_time": "2022-03-24T10:04:01.613Z"
   },
   {
    "duration": 227,
    "start_time": "2022-03-24T10:04:01.624Z"
   },
   {
    "duration": 0,
    "start_time": "2022-03-24T10:04:01.853Z"
   },
   {
    "duration": 0,
    "start_time": "2022-03-24T10:04:01.854Z"
   },
   {
    "duration": 0,
    "start_time": "2022-03-24T10:04:01.856Z"
   },
   {
    "duration": 0,
    "start_time": "2022-03-24T10:04:01.857Z"
   },
   {
    "duration": 0,
    "start_time": "2022-03-24T10:04:01.858Z"
   },
   {
    "duration": 0,
    "start_time": "2022-03-24T10:04:01.859Z"
   },
   {
    "duration": 0,
    "start_time": "2022-03-24T10:04:01.861Z"
   },
   {
    "duration": 0,
    "start_time": "2022-03-24T10:04:01.862Z"
   },
   {
    "duration": 0,
    "start_time": "2022-03-24T10:04:01.863Z"
   },
   {
    "duration": 0,
    "start_time": "2022-03-24T10:04:01.864Z"
   },
   {
    "duration": 0,
    "start_time": "2022-03-24T10:04:01.866Z"
   },
   {
    "duration": 0,
    "start_time": "2022-03-24T10:04:01.867Z"
   },
   {
    "duration": 0,
    "start_time": "2022-03-24T10:04:01.868Z"
   },
   {
    "duration": 0,
    "start_time": "2022-03-24T10:04:01.870Z"
   },
   {
    "duration": 0,
    "start_time": "2022-03-24T10:04:01.871Z"
   },
   {
    "duration": 0,
    "start_time": "2022-03-24T10:04:01.872Z"
   },
   {
    "duration": 0,
    "start_time": "2022-03-24T10:04:01.873Z"
   },
   {
    "duration": 0,
    "start_time": "2022-03-24T10:04:01.875Z"
   },
   {
    "duration": 0,
    "start_time": "2022-03-24T10:04:01.876Z"
   },
   {
    "duration": 0,
    "start_time": "2022-03-24T10:04:01.878Z"
   },
   {
    "duration": 0,
    "start_time": "2022-03-24T10:04:01.878Z"
   },
   {
    "duration": 0,
    "start_time": "2022-03-24T10:04:01.880Z"
   },
   {
    "duration": 0,
    "start_time": "2022-03-24T10:04:01.881Z"
   },
   {
    "duration": 0,
    "start_time": "2022-03-24T10:04:01.882Z"
   },
   {
    "duration": 0,
    "start_time": "2022-03-24T10:04:01.883Z"
   },
   {
    "duration": 0,
    "start_time": "2022-03-24T10:04:01.884Z"
   },
   {
    "duration": 0,
    "start_time": "2022-03-24T10:04:01.886Z"
   },
   {
    "duration": 0,
    "start_time": "2022-03-24T10:04:01.887Z"
   },
   {
    "duration": 0,
    "start_time": "2022-03-24T10:04:01.887Z"
   },
   {
    "duration": 0,
    "start_time": "2022-03-24T10:04:01.888Z"
   },
   {
    "duration": 0,
    "start_time": "2022-03-24T10:04:01.890Z"
   },
   {
    "duration": 0,
    "start_time": "2022-03-24T10:04:01.891Z"
   },
   {
    "duration": 0,
    "start_time": "2022-03-24T10:04:01.892Z"
   },
   {
    "duration": 0,
    "start_time": "2022-03-24T10:04:01.934Z"
   },
   {
    "duration": 0,
    "start_time": "2022-03-24T10:04:01.935Z"
   },
   {
    "duration": 0,
    "start_time": "2022-03-24T10:04:01.937Z"
   },
   {
    "duration": 0,
    "start_time": "2022-03-24T10:04:01.940Z"
   },
   {
    "duration": 0,
    "start_time": "2022-03-24T10:04:01.941Z"
   },
   {
    "duration": 0,
    "start_time": "2022-03-24T10:04:01.942Z"
   },
   {
    "duration": 0,
    "start_time": "2022-03-24T10:04:01.942Z"
   },
   {
    "duration": 0,
    "start_time": "2022-03-24T10:04:01.943Z"
   },
   {
    "duration": 1407,
    "start_time": "2022-03-24T10:05:40.376Z"
   },
   {
    "duration": 3,
    "start_time": "2022-03-24T10:05:41.786Z"
   },
   {
    "duration": 14,
    "start_time": "2022-03-24T10:05:41.791Z"
   },
   {
    "duration": 395,
    "start_time": "2022-03-24T10:05:41.807Z"
   },
   {
    "duration": 15,
    "start_time": "2022-03-24T10:05:42.203Z"
   },
   {
    "duration": 29,
    "start_time": "2022-03-24T10:05:42.220Z"
   },
   {
    "duration": 18,
    "start_time": "2022-03-24T10:05:42.251Z"
   },
   {
    "duration": 36,
    "start_time": "2022-03-24T10:05:42.270Z"
   },
   {
    "duration": 6,
    "start_time": "2022-03-24T10:05:42.308Z"
   },
   {
    "duration": 32,
    "start_time": "2022-03-24T10:05:42.317Z"
   },
   {
    "duration": 12,
    "start_time": "2022-03-24T10:05:42.351Z"
   },
   {
    "duration": 31,
    "start_time": "2022-03-24T10:05:42.364Z"
   },
   {
    "duration": 13,
    "start_time": "2022-03-24T10:05:42.397Z"
   },
   {
    "duration": 30,
    "start_time": "2022-03-24T10:05:42.412Z"
   },
   {
    "duration": 20,
    "start_time": "2022-03-24T10:05:42.443Z"
   },
   {
    "duration": 20,
    "start_time": "2022-03-24T10:05:42.464Z"
   },
   {
    "duration": 37,
    "start_time": "2022-03-24T10:05:42.486Z"
   },
   {
    "duration": 30,
    "start_time": "2022-03-24T10:05:42.524Z"
   },
   {
    "duration": 24,
    "start_time": "2022-03-24T10:05:42.556Z"
   },
   {
    "duration": 19,
    "start_time": "2022-03-24T10:05:42.582Z"
   },
   {
    "duration": 21,
    "start_time": "2022-03-24T10:05:42.603Z"
   },
   {
    "duration": 25,
    "start_time": "2022-03-24T10:05:42.626Z"
   },
   {
    "duration": 20,
    "start_time": "2022-03-24T10:05:42.653Z"
   },
   {
    "duration": 11,
    "start_time": "2022-03-24T10:05:42.674Z"
   },
   {
    "duration": 16,
    "start_time": "2022-03-24T10:05:42.687Z"
   },
   {
    "duration": 56,
    "start_time": "2022-03-24T10:05:42.704Z"
   },
   {
    "duration": 10,
    "start_time": "2022-03-24T10:05:42.763Z"
   },
   {
    "duration": 22,
    "start_time": "2022-03-24T10:05:42.778Z"
   },
   {
    "duration": 9,
    "start_time": "2022-03-24T10:05:42.802Z"
   },
   {
    "duration": 160,
    "start_time": "2022-03-24T10:05:42.812Z"
   },
   {
    "duration": 0,
    "start_time": "2022-03-24T10:05:42.973Z"
   },
   {
    "duration": 0,
    "start_time": "2022-03-24T10:05:42.975Z"
   },
   {
    "duration": 0,
    "start_time": "2022-03-24T10:05:42.976Z"
   },
   {
    "duration": 0,
    "start_time": "2022-03-24T10:05:42.977Z"
   },
   {
    "duration": 0,
    "start_time": "2022-03-24T10:05:42.978Z"
   },
   {
    "duration": 0,
    "start_time": "2022-03-24T10:05:42.979Z"
   },
   {
    "duration": 0,
    "start_time": "2022-03-24T10:05:42.980Z"
   },
   {
    "duration": 0,
    "start_time": "2022-03-24T10:05:42.981Z"
   },
   {
    "duration": 0,
    "start_time": "2022-03-24T10:05:42.982Z"
   },
   {
    "duration": 0,
    "start_time": "2022-03-24T10:05:42.983Z"
   },
   {
    "duration": 0,
    "start_time": "2022-03-24T10:05:42.984Z"
   },
   {
    "duration": 0,
    "start_time": "2022-03-24T10:05:42.985Z"
   },
   {
    "duration": 0,
    "start_time": "2022-03-24T10:05:42.986Z"
   },
   {
    "duration": 0,
    "start_time": "2022-03-24T10:05:42.988Z"
   },
   {
    "duration": 0,
    "start_time": "2022-03-24T10:05:42.989Z"
   },
   {
    "duration": 0,
    "start_time": "2022-03-24T10:05:42.990Z"
   },
   {
    "duration": 0,
    "start_time": "2022-03-24T10:05:42.991Z"
   },
   {
    "duration": 0,
    "start_time": "2022-03-24T10:05:42.992Z"
   },
   {
    "duration": 0,
    "start_time": "2022-03-24T10:05:42.993Z"
   },
   {
    "duration": 0,
    "start_time": "2022-03-24T10:05:42.994Z"
   },
   {
    "duration": 0,
    "start_time": "2022-03-24T10:05:42.995Z"
   },
   {
    "duration": 0,
    "start_time": "2022-03-24T10:05:42.996Z"
   },
   {
    "duration": 0,
    "start_time": "2022-03-24T10:05:42.997Z"
   },
   {
    "duration": 0,
    "start_time": "2022-03-24T10:05:42.998Z"
   },
   {
    "duration": 0,
    "start_time": "2022-03-24T10:05:42.999Z"
   },
   {
    "duration": 0,
    "start_time": "2022-03-24T10:05:43.000Z"
   },
   {
    "duration": 0,
    "start_time": "2022-03-24T10:05:43.001Z"
   },
   {
    "duration": 0,
    "start_time": "2022-03-24T10:05:43.002Z"
   },
   {
    "duration": 0,
    "start_time": "2022-03-24T10:05:43.003Z"
   },
   {
    "duration": 0,
    "start_time": "2022-03-24T10:05:43.003Z"
   },
   {
    "duration": 0,
    "start_time": "2022-03-24T10:05:43.004Z"
   },
   {
    "duration": 0,
    "start_time": "2022-03-24T10:05:43.005Z"
   },
   {
    "duration": 0,
    "start_time": "2022-03-24T10:05:43.006Z"
   },
   {
    "duration": 0,
    "start_time": "2022-03-24T10:05:43.007Z"
   },
   {
    "duration": 0,
    "start_time": "2022-03-24T10:05:43.008Z"
   },
   {
    "duration": 0,
    "start_time": "2022-03-24T10:05:43.009Z"
   },
   {
    "duration": 0,
    "start_time": "2022-03-24T10:05:43.010Z"
   },
   {
    "duration": 0,
    "start_time": "2022-03-24T10:05:43.010Z"
   },
   {
    "duration": 0,
    "start_time": "2022-03-24T10:05:43.011Z"
   },
   {
    "duration": 0,
    "start_time": "2022-03-24T10:05:43.012Z"
   },
   {
    "duration": 0,
    "start_time": "2022-03-24T10:05:43.013Z"
   },
   {
    "duration": 25,
    "start_time": "2022-03-24T10:06:41.876Z"
   },
   {
    "duration": 1140,
    "start_time": "2022-03-24T10:08:54.778Z"
   },
   {
    "duration": 3,
    "start_time": "2022-03-24T10:08:55.920Z"
   },
   {
    "duration": 22,
    "start_time": "2022-03-24T10:08:55.924Z"
   },
   {
    "duration": 523,
    "start_time": "2022-03-24T10:08:55.949Z"
   },
   {
    "duration": 17,
    "start_time": "2022-03-24T10:08:56.474Z"
   },
   {
    "duration": 15,
    "start_time": "2022-03-24T10:08:56.493Z"
   },
   {
    "duration": 32,
    "start_time": "2022-03-24T10:08:56.510Z"
   },
   {
    "duration": 59,
    "start_time": "2022-03-24T10:08:56.544Z"
   },
   {
    "duration": 8,
    "start_time": "2022-03-24T10:08:56.606Z"
   },
   {
    "duration": 22,
    "start_time": "2022-03-24T10:08:56.618Z"
   },
   {
    "duration": 15,
    "start_time": "2022-03-24T10:08:56.643Z"
   },
   {
    "duration": 29,
    "start_time": "2022-03-24T10:08:56.659Z"
   },
   {
    "duration": 8,
    "start_time": "2022-03-24T10:08:56.689Z"
   },
   {
    "duration": 15,
    "start_time": "2022-03-24T10:08:56.698Z"
   },
   {
    "duration": 18,
    "start_time": "2022-03-24T10:08:56.715Z"
   },
   {
    "duration": 26,
    "start_time": "2022-03-24T10:08:56.737Z"
   },
   {
    "duration": 38,
    "start_time": "2022-03-24T10:08:56.765Z"
   },
   {
    "duration": 22,
    "start_time": "2022-03-24T10:08:56.805Z"
   },
   {
    "duration": 36,
    "start_time": "2022-03-24T10:08:56.828Z"
   },
   {
    "duration": 14,
    "start_time": "2022-03-24T10:08:56.865Z"
   },
   {
    "duration": 16,
    "start_time": "2022-03-24T10:08:56.881Z"
   },
   {
    "duration": 17,
    "start_time": "2022-03-24T10:08:56.898Z"
   },
   {
    "duration": 25,
    "start_time": "2022-03-24T10:08:56.917Z"
   },
   {
    "duration": 18,
    "start_time": "2022-03-24T10:08:56.944Z"
   },
   {
    "duration": 17,
    "start_time": "2022-03-24T10:08:56.964Z"
   },
   {
    "duration": 31,
    "start_time": "2022-03-24T10:08:56.982Z"
   },
   {
    "duration": 20,
    "start_time": "2022-03-24T10:08:57.015Z"
   },
   {
    "duration": 24,
    "start_time": "2022-03-24T10:08:57.043Z"
   },
   {
    "duration": 8,
    "start_time": "2022-03-24T10:08:57.068Z"
   },
   {
    "duration": 41,
    "start_time": "2022-03-24T10:08:57.078Z"
   },
   {
    "duration": 20,
    "start_time": "2022-03-24T10:08:57.121Z"
   },
   {
    "duration": 42,
    "start_time": "2022-03-24T10:08:57.143Z"
   },
   {
    "duration": 8,
    "start_time": "2022-03-24T10:08:57.186Z"
   },
   {
    "duration": 19,
    "start_time": "2022-03-24T10:08:57.195Z"
   },
   {
    "duration": 9,
    "start_time": "2022-03-24T10:08:57.215Z"
   },
   {
    "duration": 23,
    "start_time": "2022-03-24T10:08:57.225Z"
   },
   {
    "duration": 11,
    "start_time": "2022-03-24T10:08:57.250Z"
   },
   {
    "duration": 22,
    "start_time": "2022-03-24T10:08:57.263Z"
   },
   {
    "duration": 6,
    "start_time": "2022-03-24T10:08:57.287Z"
   },
   {
    "duration": 20,
    "start_time": "2022-03-24T10:08:57.295Z"
   },
   {
    "duration": 18,
    "start_time": "2022-03-24T10:08:57.332Z"
   },
   {
    "duration": 21,
    "start_time": "2022-03-24T10:08:57.352Z"
   },
   {
    "duration": 18,
    "start_time": "2022-03-24T10:08:57.374Z"
   },
   {
    "duration": 9,
    "start_time": "2022-03-24T10:08:57.394Z"
   },
   {
    "duration": 34,
    "start_time": "2022-03-24T10:08:57.404Z"
   },
   {
    "duration": 26,
    "start_time": "2022-03-24T10:08:57.440Z"
   },
   {
    "duration": 12,
    "start_time": "2022-03-24T10:08:57.468Z"
   },
   {
    "duration": 14,
    "start_time": "2022-03-24T10:08:57.482Z"
   },
   {
    "duration": 6,
    "start_time": "2022-03-24T10:08:57.498Z"
   },
   {
    "duration": 1672,
    "start_time": "2022-03-24T10:08:57.505Z"
   },
   {
    "duration": 10,
    "start_time": "2022-03-24T10:08:59.179Z"
   },
   {
    "duration": 286,
    "start_time": "2022-03-24T10:08:59.191Z"
   },
   {
    "duration": 30,
    "start_time": "2022-03-24T10:08:59.479Z"
   },
   {
    "duration": 41,
    "start_time": "2022-03-24T10:08:59.510Z"
   },
   {
    "duration": 13,
    "start_time": "2022-03-24T10:08:59.553Z"
   },
   {
    "duration": 25,
    "start_time": "2022-03-24T10:08:59.568Z"
   },
   {
    "duration": 42,
    "start_time": "2022-03-24T10:08:59.595Z"
   },
   {
    "duration": 23,
    "start_time": "2022-03-24T10:08:59.639Z"
   },
   {
    "duration": 36,
    "start_time": "2022-03-24T10:08:59.664Z"
   },
   {
    "duration": 98,
    "start_time": "2022-03-24T10:08:59.702Z"
   },
   {
    "duration": 998,
    "start_time": "2022-03-24T10:08:59.802Z"
   },
   {
    "duration": 114,
    "start_time": "2022-03-24T10:09:00.802Z"
   },
   {
    "duration": 0,
    "start_time": "2022-03-24T10:09:00.917Z"
   },
   {
    "duration": 0,
    "start_time": "2022-03-24T10:09:00.918Z"
   },
   {
    "duration": 0,
    "start_time": "2022-03-24T10:09:00.920Z"
   },
   {
    "duration": 0,
    "start_time": "2022-03-24T10:09:00.921Z"
   },
   {
    "duration": 0,
    "start_time": "2022-03-24T10:09:00.933Z"
   },
   {
    "duration": 0,
    "start_time": "2022-03-24T10:09:00.934Z"
   },
   {
    "duration": 0,
    "start_time": "2022-03-24T10:09:00.934Z"
   },
   {
    "duration": 0,
    "start_time": "2022-03-24T10:09:00.935Z"
   },
   {
    "duration": 0,
    "start_time": "2022-03-24T10:09:00.936Z"
   },
   {
    "duration": 141,
    "start_time": "2022-03-24T10:09:38.763Z"
   },
   {
    "duration": 1174,
    "start_time": "2022-03-24T10:09:47.338Z"
   },
   {
    "duration": 3,
    "start_time": "2022-03-24T10:09:48.514Z"
   },
   {
    "duration": 13,
    "start_time": "2022-03-24T10:09:48.521Z"
   },
   {
    "duration": 524,
    "start_time": "2022-03-24T10:09:48.541Z"
   },
   {
    "duration": 19,
    "start_time": "2022-03-24T10:09:49.066Z"
   },
   {
    "duration": 16,
    "start_time": "2022-03-24T10:09:49.087Z"
   },
   {
    "duration": 35,
    "start_time": "2022-03-24T10:09:49.105Z"
   },
   {
    "duration": 34,
    "start_time": "2022-03-24T10:09:49.145Z"
   },
   {
    "duration": 7,
    "start_time": "2022-03-24T10:09:49.181Z"
   },
   {
    "duration": 29,
    "start_time": "2022-03-24T10:09:49.190Z"
   },
   {
    "duration": 8,
    "start_time": "2022-03-24T10:09:49.221Z"
   },
   {
    "duration": 40,
    "start_time": "2022-03-24T10:09:49.231Z"
   },
   {
    "duration": 10,
    "start_time": "2022-03-24T10:09:49.274Z"
   },
   {
    "duration": 28,
    "start_time": "2022-03-24T10:09:49.287Z"
   },
   {
    "duration": 18,
    "start_time": "2022-03-24T10:09:49.317Z"
   },
   {
    "duration": 42,
    "start_time": "2022-03-24T10:09:49.336Z"
   },
   {
    "duration": 41,
    "start_time": "2022-03-24T10:09:49.380Z"
   },
   {
    "duration": 62,
    "start_time": "2022-03-24T10:09:49.423Z"
   },
   {
    "duration": 13,
    "start_time": "2022-03-24T10:09:49.487Z"
   },
   {
    "duration": 21,
    "start_time": "2022-03-24T10:09:49.501Z"
   },
   {
    "duration": 23,
    "start_time": "2022-03-24T10:09:49.524Z"
   },
   {
    "duration": 26,
    "start_time": "2022-03-24T10:09:49.550Z"
   },
   {
    "duration": 25,
    "start_time": "2022-03-24T10:09:49.578Z"
   },
   {
    "duration": 10,
    "start_time": "2022-03-24T10:09:49.605Z"
   },
   {
    "duration": 25,
    "start_time": "2022-03-24T10:09:49.617Z"
   },
   {
    "duration": 36,
    "start_time": "2022-03-24T10:09:49.643Z"
   },
   {
    "duration": 17,
    "start_time": "2022-03-24T10:09:49.681Z"
   },
   {
    "duration": 24,
    "start_time": "2022-03-24T10:09:49.700Z"
   },
   {
    "duration": 12,
    "start_time": "2022-03-24T10:09:49.734Z"
   },
   {
    "duration": 66,
    "start_time": "2022-03-24T10:09:49.748Z"
   },
   {
    "duration": 7,
    "start_time": "2022-03-24T10:09:49.816Z"
   },
   {
    "duration": 37,
    "start_time": "2022-03-24T10:09:49.825Z"
   },
   {
    "duration": 8,
    "start_time": "2022-03-24T10:09:49.863Z"
   },
   {
    "duration": 26,
    "start_time": "2022-03-24T10:09:49.873Z"
   },
   {
    "duration": 10,
    "start_time": "2022-03-24T10:09:49.901Z"
   },
   {
    "duration": 38,
    "start_time": "2022-03-24T10:09:49.913Z"
   },
   {
    "duration": 11,
    "start_time": "2022-03-24T10:09:49.953Z"
   },
   {
    "duration": 38,
    "start_time": "2022-03-24T10:09:49.966Z"
   },
   {
    "duration": 7,
    "start_time": "2022-03-24T10:09:50.006Z"
   },
   {
    "duration": 29,
    "start_time": "2022-03-24T10:09:50.019Z"
   },
   {
    "duration": 24,
    "start_time": "2022-03-24T10:09:50.050Z"
   },
   {
    "duration": 15,
    "start_time": "2022-03-24T10:09:50.076Z"
   },
   {
    "duration": 28,
    "start_time": "2022-03-24T10:09:50.093Z"
   },
   {
    "duration": 19,
    "start_time": "2022-03-24T10:09:50.122Z"
   },
   {
    "duration": 26,
    "start_time": "2022-03-24T10:09:50.143Z"
   },
   {
    "duration": 16,
    "start_time": "2022-03-24T10:09:50.171Z"
   },
   {
    "duration": 20,
    "start_time": "2022-03-24T10:09:50.189Z"
   },
   {
    "duration": 14,
    "start_time": "2022-03-24T10:09:50.210Z"
   },
   {
    "duration": 9,
    "start_time": "2022-03-24T10:09:50.226Z"
   },
   {
    "duration": 1767,
    "start_time": "2022-03-24T10:09:50.238Z"
   },
   {
    "duration": 10,
    "start_time": "2022-03-24T10:09:52.007Z"
   },
   {
    "duration": 392,
    "start_time": "2022-03-24T10:09:52.019Z"
   },
   {
    "duration": 46,
    "start_time": "2022-03-24T10:09:52.414Z"
   },
   {
    "duration": 17,
    "start_time": "2022-03-24T10:09:52.462Z"
   },
   {
    "duration": 15,
    "start_time": "2022-03-24T10:09:52.481Z"
   },
   {
    "duration": 59,
    "start_time": "2022-03-24T10:09:52.498Z"
   },
   {
    "duration": 31,
    "start_time": "2022-03-24T10:09:52.559Z"
   },
   {
    "duration": 22,
    "start_time": "2022-03-24T10:09:52.592Z"
   },
   {
    "duration": 50,
    "start_time": "2022-03-24T10:09:52.617Z"
   },
   {
    "duration": 122,
    "start_time": "2022-03-24T10:09:52.669Z"
   },
   {
    "duration": 971,
    "start_time": "2022-03-24T10:09:52.793Z"
   },
   {
    "duration": 109,
    "start_time": "2022-03-24T10:09:53.765Z"
   },
   {
    "duration": 0,
    "start_time": "2022-03-24T10:09:53.876Z"
   },
   {
    "duration": 1,
    "start_time": "2022-03-24T10:09:53.877Z"
   },
   {
    "duration": 0,
    "start_time": "2022-03-24T10:09:53.878Z"
   },
   {
    "duration": 0,
    "start_time": "2022-03-24T10:09:53.879Z"
   },
   {
    "duration": 0,
    "start_time": "2022-03-24T10:09:53.880Z"
   },
   {
    "duration": 0,
    "start_time": "2022-03-24T10:09:53.881Z"
   },
   {
    "duration": 0,
    "start_time": "2022-03-24T10:09:53.882Z"
   },
   {
    "duration": 0,
    "start_time": "2022-03-24T10:09:53.883Z"
   },
   {
    "duration": 0,
    "start_time": "2022-03-24T10:09:53.884Z"
   }
  ],
  "kernelspec": {
   "display_name": "Python 3 (ipykernel)",
   "language": "python",
   "name": "python3"
  },
  "language_info": {
   "codemirror_mode": {
    "name": "ipython",
    "version": 3
   },
   "file_extension": ".py",
   "mimetype": "text/x-python",
   "name": "python",
   "nbconvert_exporter": "python",
   "pygments_lexer": "ipython3",
   "version": "3.9.7"
  },
  "toc": {
   "base_numbering": 1,
   "nav_menu": {},
   "number_sections": false,
   "sideBar": true,
   "skip_h1_title": false,
   "title_cell": "Table of Contents",
   "title_sidebar": "Contents",
   "toc_cell": false,
   "toc_position": {},
   "toc_section_display": true,
   "toc_window_display": true
  }
 },
 "nbformat": 4,
 "nbformat_minor": 2
}
