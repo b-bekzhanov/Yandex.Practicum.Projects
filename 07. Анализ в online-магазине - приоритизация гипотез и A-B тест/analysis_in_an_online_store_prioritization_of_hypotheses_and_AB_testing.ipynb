{
 "cells": [
  {
   "cell_type": "markdown",
   "metadata": {},
   "source": [
    "# Аналитика в интернет-магазине. A/B тесты. "
   ]
  },
  {
   "cell_type": "markdown",
   "metadata": {},
   "source": [
    "**Принятие решений в бизнесе на основе данных**"
   ]
  },
  {
   "cell_type": "markdown",
   "metadata": {},
   "source": [
    "**Описание проекта**\n",
    "Вы — аналитик крупного интернет-магазина. Вместе с отделом маркетинга вы подготовили список гипотез для увеличения выручки. Приоритизируйте гипотезы, запустите A/B-тест и проанализируйте результаты."
   ]
  },
  {
   "cell_type": "markdown",
   "metadata": {},
   "source": [
    "**Ход исследования**\n",
    "\n",
    "Изучим 3 файла: `hypothesis.csv`, `orders.csv`, `visitors.csv`\n",
    "\n",
    "О качестве данных ничего не известно. Поэтому понадобится обзор данных.\n",
    "\n",
    "Далее проведём приоритезацию гипотез и анализ А/В теста.\n",
    "\n",
    "Таким образом, исследование будет состоять из 3 частей:\n",
    "\n",
    "1. Обзор данных.\n",
    "2. Приоритезация гипотез.\n",
    "3. Анализ А/В теста."
   ]
  },
  {
   "cell_type": "markdown",
   "metadata": {},
   "source": [
    "## Шаг 1. Обзор данных."
   ]
  },
  {
   "cell_type": "markdown",
   "metadata": {},
   "source": [
    "Загрузим данные о гипотезах, заказах и визитах. Исправим регистр, тип данных в каждой колонке, пропуски и дубликаты при необходимости. \n",
    "\n",
    "Путь к файлам:\n",
    "\n",
    " -   /datasets/hypothesis.csv \n",
    " -   /datasets/orders.csv\n",
    " -   /datasets/visitors.csv"
   ]
  },
  {
   "cell_type": "code",
   "execution_count": 1,
   "metadata": {},
   "outputs": [],
   "source": [
    "#импортируем необходимые для работы библиотеки:\n",
    "\n",
    "import pandas as pd\n",
    "import numpy as np\n",
    "import datetime as dt\n",
    "import math\n",
    "\n",
    "\n",
    "import matplotlib.pyplot as plt\n",
    "import matplotlib.colors as mcolors\n",
    "\n",
    "import seaborn as sns\n",
    "sns.set(rc={'figure.figsize':(10, 8)})\n",
    "\n",
    "import scipy.stats as stats\n",
    "from scipy import stats as st\n",
    "\n",
    "import warnings\n",
    "warnings.filterwarnings(\"ignore\")"
   ]
  },
  {
   "cell_type": "code",
   "execution_count": 2,
   "metadata": {},
   "outputs": [],
   "source": [
    "#для удобства отобразим все колонки таблицы и приведем данные к формату двух знаков после запятой:\n",
    "\n",
    "pd.set_option('display.max_columns', None)\n",
    "pd.set_option('max_colwidth', 1)\n",
    "pd.options.display.float_format = '{:,.2f}'.format"
   ]
  },
  {
   "cell_type": "code",
   "execution_count": 3,
   "metadata": {},
   "outputs": [],
   "source": [
    "#прочитаем таблицы:\n",
    "\n",
    "hypothesis = pd.read_csv('/datasets/hypothesis.csv')\n",
    "orders = pd.read_csv('/datasets/orders.csv')\n",
    "visitors = pd.read_csv('/datasets/visitors.csv')"
   ]
  },
  {
   "cell_type": "markdown",
   "metadata": {},
   "source": [
    "**Посмотрим на таблицы**"
   ]
  },
  {
   "cell_type": "markdown",
   "metadata": {},
   "source": [
    "### Таблица hypothesis:"
   ]
  },
  {
   "cell_type": "code",
   "execution_count": 4,
   "metadata": {},
   "outputs": [
    {
     "data": {
      "text/html": [
       "<div>\n",
       "<style scoped>\n",
       "    .dataframe tbody tr th:only-of-type {\n",
       "        vertical-align: middle;\n",
       "    }\n",
       "\n",
       "    .dataframe tbody tr th {\n",
       "        vertical-align: top;\n",
       "    }\n",
       "\n",
       "    .dataframe thead th {\n",
       "        text-align: right;\n",
       "    }\n",
       "</style>\n",
       "<table border=\"1\" class=\"dataframe\">\n",
       "  <thead>\n",
       "    <tr style=\"text-align: right;\">\n",
       "      <th></th>\n",
       "      <th>Hypothesis</th>\n",
       "      <th>Reach</th>\n",
       "      <th>Impact</th>\n",
       "      <th>Confidence</th>\n",
       "      <th>Efforts</th>\n",
       "    </tr>\n",
       "  </thead>\n",
       "  <tbody>\n",
       "    <tr>\n",
       "      <th>0</th>\n",
       "      <td>Добавить два новых канала привлечения трафика, что позволит привлекать на 30% больше пользователей</td>\n",
       "      <td>3</td>\n",
       "      <td>10</td>\n",
       "      <td>8</td>\n",
       "      <td>6</td>\n",
       "    </tr>\n",
       "    <tr>\n",
       "      <th>1</th>\n",
       "      <td>Запустить собственную службу доставки, что сократит срок доставки заказов</td>\n",
       "      <td>2</td>\n",
       "      <td>5</td>\n",
       "      <td>4</td>\n",
       "      <td>10</td>\n",
       "    </tr>\n",
       "    <tr>\n",
       "      <th>2</th>\n",
       "      <td>Добавить блоки рекомендаций товаров на сайт интернет магазина, чтобы повысить конверсию и средний чек заказа</td>\n",
       "      <td>8</td>\n",
       "      <td>3</td>\n",
       "      <td>7</td>\n",
       "      <td>3</td>\n",
       "    </tr>\n",
       "    <tr>\n",
       "      <th>3</th>\n",
       "      <td>Изменить структура категорий, что увеличит конверсию, т.к. пользователи быстрее найдут нужный товар</td>\n",
       "      <td>8</td>\n",
       "      <td>3</td>\n",
       "      <td>3</td>\n",
       "      <td>8</td>\n",
       "    </tr>\n",
       "    <tr>\n",
       "      <th>4</th>\n",
       "      <td>Изменить цвет фона главной страницы, чтобы увеличить вовлеченность пользователей</td>\n",
       "      <td>3</td>\n",
       "      <td>1</td>\n",
       "      <td>1</td>\n",
       "      <td>1</td>\n",
       "    </tr>\n",
       "    <tr>\n",
       "      <th>5</th>\n",
       "      <td>Добавить страницу отзывов клиентов о магазине, что позволит увеличить количество заказов</td>\n",
       "      <td>3</td>\n",
       "      <td>2</td>\n",
       "      <td>2</td>\n",
       "      <td>3</td>\n",
       "    </tr>\n",
       "    <tr>\n",
       "      <th>6</th>\n",
       "      <td>Показать на главной странице баннеры с актуальными акциями и распродажами, чтобы увеличить конверсию</td>\n",
       "      <td>5</td>\n",
       "      <td>3</td>\n",
       "      <td>8</td>\n",
       "      <td>3</td>\n",
       "    </tr>\n",
       "    <tr>\n",
       "      <th>7</th>\n",
       "      <td>Добавить форму подписки на все основные страницы, чтобы собрать базу клиентов для email-рассылок</td>\n",
       "      <td>10</td>\n",
       "      <td>7</td>\n",
       "      <td>8</td>\n",
       "      <td>5</td>\n",
       "    </tr>\n",
       "    <tr>\n",
       "      <th>8</th>\n",
       "      <td>Запустить акцию, дающую скидку на товар в день рождения</td>\n",
       "      <td>1</td>\n",
       "      <td>9</td>\n",
       "      <td>9</td>\n",
       "      <td>5</td>\n",
       "    </tr>\n",
       "  </tbody>\n",
       "</table>\n",
       "</div>"
      ],
      "text/plain": [
       "                                                                                                     Hypothesis  \\\n",
       "0  Добавить два новых канала привлечения трафика, что позволит привлекать на 30% больше пользователей             \n",
       "1  Запустить собственную службу доставки, что сократит срок доставки заказов                                      \n",
       "2  Добавить блоки рекомендаций товаров на сайт интернет магазина, чтобы повысить конверсию и средний чек заказа   \n",
       "3  Изменить структура категорий, что увеличит конверсию, т.к. пользователи быстрее найдут нужный товар            \n",
       "4  Изменить цвет фона главной страницы, чтобы увеличить вовлеченность пользователей                               \n",
       "5  Добавить страницу отзывов клиентов о магазине, что позволит увеличить количество заказов                       \n",
       "6  Показать на главной странице баннеры с актуальными акциями и распродажами, чтобы увеличить конверсию           \n",
       "7  Добавить форму подписки на все основные страницы, чтобы собрать базу клиентов для email-рассылок               \n",
       "8  Запустить акцию, дающую скидку на товар в день рождения                                                        \n",
       "\n",
       "   Reach  Impact  Confidence  Efforts  \n",
       "0  3      10      8           6        \n",
       "1  2      5       4           10       \n",
       "2  8      3       7           3        \n",
       "3  8      3       3           8        \n",
       "4  3      1       1           1        \n",
       "5  3      2       2           3        \n",
       "6  5      3       8           3        \n",
       "7  10     7       8           5        \n",
       "8  1      9       9           5        "
      ]
     },
     "execution_count": 4,
     "metadata": {},
     "output_type": "execute_result"
    }
   ],
   "source": [
    "#начнём с таблицы hypothesis:\n",
    "\n",
    "hypothesis"
   ]
  },
  {
   "cell_type": "markdown",
   "metadata": {},
   "source": [
    "В файле `hypothesis.csv` 9 гипотез по увеличению выручки интернет-магазина с указанными параметрами Reach, Impact, Confidence, Effort.\n",
    "\n",
    "- Hypothesis — краткое описание гипотезы;\n",
    "- Reach — охват пользователей по 10-балльной шкале;\n",
    "- Impact — влияние на пользователей по 10-балльной шкале;\n",
    "- Confidence — уверенность в гипотезе по 10-балльной шкале;\n",
    "- Efforts — затраты ресурсов на проверку гипотезы по 10-балльной шкале. Чем больше значение Efforts, тем дороже проверка гипотезы."
   ]
  },
  {
   "cell_type": "code",
   "execution_count": 5,
   "metadata": {},
   "outputs": [],
   "source": [
    "#приведем названия стобцов к нижнем регистру:\n",
    "\n",
    "hypothesis.columns = hypothesis.columns.str.lower()"
   ]
  },
  {
   "cell_type": "code",
   "execution_count": 6,
   "metadata": {},
   "outputs": [
    {
     "name": "stdout",
     "output_type": "stream",
     "text": [
      "<class 'pandas.core.frame.DataFrame'>\n",
      "RangeIndex: 9 entries, 0 to 8\n",
      "Data columns (total 5 columns):\n",
      " #   Column      Non-Null Count  Dtype \n",
      "---  ------      --------------  ----- \n",
      " 0   hypothesis  9 non-null      object\n",
      " 1   reach       9 non-null      int64 \n",
      " 2   impact      9 non-null      int64 \n",
      " 3   confidence  9 non-null      int64 \n",
      " 4   efforts     9 non-null      int64 \n",
      "dtypes: int64(4), object(1)\n",
      "memory usage: 488.0+ bytes\n"
     ]
    }
   ],
   "source": [
    "#посмотрим информацию о датафрейме:\n",
    "\n",
    "hypothesis.info()"
   ]
  },
  {
   "cell_type": "markdown",
   "metadata": {},
   "source": [
    "С таблицей hypothesis все в порядке."
   ]
  },
  {
   "cell_type": "markdown",
   "metadata": {},
   "source": [
    "### Таблица orders:"
   ]
  },
  {
   "cell_type": "code",
   "execution_count": 7,
   "metadata": {},
   "outputs": [
    {
     "data": {
      "text/html": [
       "<div>\n",
       "<style scoped>\n",
       "    .dataframe tbody tr th:only-of-type {\n",
       "        vertical-align: middle;\n",
       "    }\n",
       "\n",
       "    .dataframe tbody tr th {\n",
       "        vertical-align: top;\n",
       "    }\n",
       "\n",
       "    .dataframe thead th {\n",
       "        text-align: right;\n",
       "    }\n",
       "</style>\n",
       "<table border=\"1\" class=\"dataframe\">\n",
       "  <thead>\n",
       "    <tr style=\"text-align: right;\">\n",
       "      <th></th>\n",
       "      <th>transactionId</th>\n",
       "      <th>visitorId</th>\n",
       "      <th>date</th>\n",
       "      <th>revenue</th>\n",
       "      <th>group</th>\n",
       "    </tr>\n",
       "  </thead>\n",
       "  <tbody>\n",
       "    <tr>\n",
       "      <th>0</th>\n",
       "      <td>3667963787</td>\n",
       "      <td>3312258926</td>\n",
       "      <td>2019-08-15</td>\n",
       "      <td>1650</td>\n",
       "      <td>B</td>\n",
       "    </tr>\n",
       "    <tr>\n",
       "      <th>1</th>\n",
       "      <td>2804400009</td>\n",
       "      <td>3642806036</td>\n",
       "      <td>2019-08-15</td>\n",
       "      <td>730</td>\n",
       "      <td>B</td>\n",
       "    </tr>\n",
       "    <tr>\n",
       "      <th>2</th>\n",
       "      <td>2961555356</td>\n",
       "      <td>4069496402</td>\n",
       "      <td>2019-08-15</td>\n",
       "      <td>400</td>\n",
       "      <td>A</td>\n",
       "    </tr>\n",
       "    <tr>\n",
       "      <th>3</th>\n",
       "      <td>3797467345</td>\n",
       "      <td>1196621759</td>\n",
       "      <td>2019-08-15</td>\n",
       "      <td>9759</td>\n",
       "      <td>B</td>\n",
       "    </tr>\n",
       "    <tr>\n",
       "      <th>4</th>\n",
       "      <td>2282983706</td>\n",
       "      <td>2322279887</td>\n",
       "      <td>2019-08-15</td>\n",
       "      <td>2308</td>\n",
       "      <td>B</td>\n",
       "    </tr>\n",
       "  </tbody>\n",
       "</table>\n",
       "</div>"
      ],
      "text/plain": [
       "   transactionId   visitorId        date  revenue group\n",
       "0  3667963787     3312258926  2019-08-15  1650     B   \n",
       "1  2804400009     3642806036  2019-08-15  730      B   \n",
       "2  2961555356     4069496402  2019-08-15  400      A   \n",
       "3  3797467345     1196621759  2019-08-15  9759     B   \n",
       "4  2282983706     2322279887  2019-08-15  2308     B   "
      ]
     },
     "execution_count": 7,
     "metadata": {},
     "output_type": "execute_result"
    }
   ],
   "source": [
    "#посмотрим на таблицу orders:\n",
    "\n",
    "orders.head()"
   ]
  },
  {
   "cell_type": "markdown",
   "metadata": {},
   "source": [
    "- transactionId — идентификатор заказа;\n",
    "- visitorId — идентификатор пользователя, совершившего заказ;\n",
    "- date — дата, когда был совершён заказ;\n",
    "- revenue — выручка заказа;\n",
    "- group — группа A/B-теста, в которую попал заказ."
   ]
  },
  {
   "cell_type": "code",
   "execution_count": 8,
   "metadata": {},
   "outputs": [],
   "source": [
    "#приведем названия стобцов к нижнем регистру:\n",
    "\n",
    "orders.columns = ['transaction_id', 'visitor_id', 'date', 'revenue', 'group']"
   ]
  },
  {
   "cell_type": "code",
   "execution_count": 9,
   "metadata": {},
   "outputs": [
    {
     "name": "stdout",
     "output_type": "stream",
     "text": [
      "<class 'pandas.core.frame.DataFrame'>\n",
      "RangeIndex: 1197 entries, 0 to 1196\n",
      "Data columns (total 5 columns):\n",
      " #   Column          Non-Null Count  Dtype \n",
      "---  ------          --------------  ----- \n",
      " 0   transaction_id  1197 non-null   int64 \n",
      " 1   visitor_id      1197 non-null   int64 \n",
      " 2   date            1197 non-null   object\n",
      " 3   revenue         1197 non-null   int64 \n",
      " 4   group           1197 non-null   object\n",
      "dtypes: int64(3), object(2)\n",
      "memory usage: 46.9+ KB\n"
     ]
    }
   ],
   "source": [
    "#посмотрим информацию о датафрейме:\n",
    "\n",
    "orders.info()"
   ]
  },
  {
   "cell_type": "code",
   "execution_count": 11,
   "metadata": {},
   "outputs": [
    {
     "data": {
      "text/plain": [
       "1031"
      ]
     },
     "execution_count": 11,
     "metadata": {},
     "output_type": "execute_result"
    }
   ],
   "source": [
    "orders['visitor_id'].nunique()"
   ]
  },
  {
   "cell_type": "code",
   "execution_count": 12,
   "metadata": {},
   "outputs": [
    {
     "data": {
      "text/plain": [
       "count   1,197.00    \n",
       "mean    8,348.01    \n",
       "std     39,191.13   \n",
       "min     50.00       \n",
       "25%     1,220.00    \n",
       "50%     2,978.00    \n",
       "75%     8,290.00    \n",
       "max     1,294,500.00\n",
       "Name: revenue, dtype: float64"
      ]
     },
     "execution_count": 12,
     "metadata": {},
     "output_type": "execute_result"
    }
   ],
   "source": [
    "# Посмотрим распределение численных значений колонки revenue:\n",
    "\n",
    "orders['revenue'].describe()"
   ]
  },
  {
   "cell_type": "code",
   "execution_count": 13,
   "metadata": {},
   "outputs": [],
   "source": [
    "#в таблице orders неверный тип данных в столбце с датами, приведем его к нужному типу:\n",
    "\n",
    "orders['date'] = orders['date'].map(\n",
    "    lambda x: dt.datetime.strptime(x, '%Y-%m-%d')\n",
    ")"
   ]
  },
  {
   "cell_type": "code",
   "execution_count": 14,
   "metadata": {},
   "outputs": [
    {
     "data": {
      "text/plain": [
       "0"
      ]
     },
     "execution_count": 14,
     "metadata": {},
     "output_type": "execute_result"
    }
   ],
   "source": [
    "#проверим на дубликаты:\n",
    "\n",
    "orders.duplicated().sum()"
   ]
  },
  {
   "cell_type": "markdown",
   "metadata": {},
   "source": [
    "### Таблица visitors:"
   ]
  },
  {
   "cell_type": "code",
   "execution_count": 15,
   "metadata": {},
   "outputs": [
    {
     "data": {
      "text/html": [
       "<div>\n",
       "<style scoped>\n",
       "    .dataframe tbody tr th:only-of-type {\n",
       "        vertical-align: middle;\n",
       "    }\n",
       "\n",
       "    .dataframe tbody tr th {\n",
       "        vertical-align: top;\n",
       "    }\n",
       "\n",
       "    .dataframe thead th {\n",
       "        text-align: right;\n",
       "    }\n",
       "</style>\n",
       "<table border=\"1\" class=\"dataframe\">\n",
       "  <thead>\n",
       "    <tr style=\"text-align: right;\">\n",
       "      <th></th>\n",
       "      <th>date</th>\n",
       "      <th>group</th>\n",
       "      <th>visitors</th>\n",
       "    </tr>\n",
       "  </thead>\n",
       "  <tbody>\n",
       "    <tr>\n",
       "      <th>0</th>\n",
       "      <td>2019-08-01</td>\n",
       "      <td>A</td>\n",
       "      <td>719</td>\n",
       "    </tr>\n",
       "    <tr>\n",
       "      <th>1</th>\n",
       "      <td>2019-08-02</td>\n",
       "      <td>A</td>\n",
       "      <td>619</td>\n",
       "    </tr>\n",
       "    <tr>\n",
       "      <th>2</th>\n",
       "      <td>2019-08-03</td>\n",
       "      <td>A</td>\n",
       "      <td>507</td>\n",
       "    </tr>\n",
       "    <tr>\n",
       "      <th>3</th>\n",
       "      <td>2019-08-04</td>\n",
       "      <td>A</td>\n",
       "      <td>717</td>\n",
       "    </tr>\n",
       "    <tr>\n",
       "      <th>4</th>\n",
       "      <td>2019-08-05</td>\n",
       "      <td>A</td>\n",
       "      <td>756</td>\n",
       "    </tr>\n",
       "  </tbody>\n",
       "</table>\n",
       "</div>"
      ],
      "text/plain": [
       "         date group  visitors\n",
       "0  2019-08-01  A     719     \n",
       "1  2019-08-02  A     619     \n",
       "2  2019-08-03  A     507     \n",
       "3  2019-08-04  A     717     \n",
       "4  2019-08-05  A     756     "
      ]
     },
     "execution_count": 15,
     "metadata": {},
     "output_type": "execute_result"
    }
   ],
   "source": [
    "#посмотрим на таблицу visitors:\n",
    "\n",
    "visitors.head()"
   ]
  },
  {
   "cell_type": "markdown",
   "metadata": {},
   "source": [
    "- date — дата;\n",
    "- group — группа A/B-теста;\n",
    "- visitors — количество пользователей в указанную дату в указанной группе A/B-теста"
   ]
  },
  {
   "cell_type": "code",
   "execution_count": 16,
   "metadata": {},
   "outputs": [
    {
     "name": "stdout",
     "output_type": "stream",
     "text": [
      "<class 'pandas.core.frame.DataFrame'>\n",
      "RangeIndex: 62 entries, 0 to 61\n",
      "Data columns (total 3 columns):\n",
      " #   Column    Non-Null Count  Dtype \n",
      "---  ------    --------------  ----- \n",
      " 0   date      62 non-null     object\n",
      " 1   group     62 non-null     object\n",
      " 2   visitors  62 non-null     int64 \n",
      "dtypes: int64(1), object(2)\n",
      "memory usage: 1.6+ KB\n"
     ]
    }
   ],
   "source": [
    "#посмотрим информацию о датафрейме:\n",
    "\n",
    "visitors.info()"
   ]
  },
  {
   "cell_type": "code",
   "execution_count": 17,
   "metadata": {},
   "outputs": [],
   "source": [
    "#в таблице visitors неверный тип данных в столбце с датами, приведем его к нужному типу:\n",
    "\n",
    "visitors['date'] = visitors['date'].map(\n",
    "    lambda x: dt.datetime.strptime(x, '%Y-%m-%d')\n",
    ")"
   ]
  },
  {
   "cell_type": "code",
   "execution_count": 18,
   "metadata": {},
   "outputs": [
    {
     "data": {
      "text/plain": [
       "A    31\n",
       "B    31\n",
       "Name: group, dtype: int64"
      ]
     },
     "execution_count": 18,
     "metadata": {},
     "output_type": "execute_result"
    }
   ],
   "source": [
    "#проверим, что нет \"лишних\" групп и распределение по группам\n",
    "\n",
    "visitors['group'].value_counts()"
   ]
  },
  {
   "cell_type": "code",
   "execution_count": 19,
   "metadata": {},
   "outputs": [
    {
     "data": {
      "text/plain": [
       "58"
      ]
     },
     "execution_count": 19,
     "metadata": {},
     "output_type": "execute_result"
    }
   ],
   "source": [
    "#проверим, есть ли значения, которые встречаются в обеих группах:\n",
    "\n",
    "len(np.intersect1d(orders.query('group == \"A\"')['visitor_id'].unique(), orders.query('group == \"B\"')['visitor_id'].unique()))"
   ]
  },
  {
   "cell_type": "markdown",
   "metadata": {},
   "source": [
    "В данных есть 58 значений, встречающихся в обеих группах. 58 значений от 1031 пользователей — допустимо, но мы удалим их, чтобы не было дополнительных искажений при проведении тестирования."
   ]
  },
  {
   "cell_type": "code",
   "execution_count": 20,
   "metadata": {},
   "outputs": [
    {
     "data": {
      "text/plain": [
       "array([   8300375,  199603092,  232979603,  237748145,  276558944,\n",
       "        351125977,  393266494,  457167155,  471551937,  477780734,\n",
       "        818047933,  963407295, 1230306981, 1294878855, 1316129916,\n",
       "       1333886533, 1404934699, 1602967004, 1614305549, 1648269707,\n",
       "       1668030113, 1738359350, 1801183820, 1959144690, 2038680547,\n",
       "       2044997962, 2378935119, 2458001652, 2579882178, 2587333274,\n",
       "       2600415354, 2654030115, 2686716486, 2712142231, 2716752286,\n",
       "       2780786433, 2927087541, 2949041841, 2954449915, 3062433592,\n",
       "       3202540741, 3234906277, 3656415546, 3717692402, 3766097110,\n",
       "       3803269165, 3891541246, 3941795274, 3951559397, 3957174400,\n",
       "       3963646447, 3972127743, 3984495233, 4069496402, 4120364173,\n",
       "       4186807279, 4256040402, 4266935830])"
      ]
     },
     "execution_count": 20,
     "metadata": {},
     "output_type": "execute_result"
    }
   ],
   "source": [
    "#посмотрим на id тех, кто попал в обе группы:\n",
    "\n",
    "list_id = np.intersect1d(orders.query('group == \"A\"')['visitor_id'].unique(), \n",
    "                         orders.query('group == \"B\"')['visitor_id'].unique())\n",
    "list_id"
   ]
  },
  {
   "cell_type": "code",
   "execution_count": 21,
   "metadata": {},
   "outputs": [],
   "source": [
    "#переведем массив в список:\n",
    "\n",
    "list_id = list_id.tolist()"
   ]
  },
  {
   "cell_type": "code",
   "execution_count": 22,
   "metadata": {},
   "outputs": [],
   "source": [
    "orders = orders[~orders.visitor_id.isin(list_id)]"
   ]
  },
  {
   "cell_type": "code",
   "execution_count": 23,
   "metadata": {},
   "outputs": [
    {
     "data": {
      "text/plain": [
       "0"
      ]
     },
     "execution_count": 23,
     "metadata": {},
     "output_type": "execute_result"
    }
   ],
   "source": [
    "#снова проверим, есть ли значения, которые встречаются в обеих группах:\n",
    "\n",
    "len(np.intersect1d(orders.query('group == \"A\"')['visitor_id'].unique(), orders.query('group == \"B\"')['visitor_id'].unique()))"
   ]
  },
  {
   "cell_type": "markdown",
   "metadata": {},
   "source": [
    "**Вывод по таблицам**"
   ]
  },
  {
   "cell_type": "markdown",
   "metadata": {},
   "source": [
    "В двух таблицах были неверные типы данных в столбцах со временем. Мы привели их к нужному типу. Дубликаты и пропуски не обнаружены. Очистили данные от значений, повторяющихся в обеих группах. Данные готовы к дальнейшему исследованию"
   ]
  },
  {
   "cell_type": "markdown",
   "metadata": {},
   "source": [
    "## Шаг 2. Приоритизация гипотез."
   ]
  },
  {
   "cell_type": "markdown",
   "metadata": {},
   "source": [
    "Задачи:\n",
    "- Примените фреймворк ICE для приоритизации гипотез. Отсортируйте их по убыванию приоритета.\n",
    "- Примените фреймворк RICE для приоритизации гипотез. Отсортируйте их по убыванию приоритета.\n",
    "- Укажите, как изменилась приоритизация гипотез при применении RICE вместо ICE. Объясните, почему так произошло."
   ]
  },
  {
   "cell_type": "markdown",
   "metadata": {},
   "source": [
    "### Фреймворк ICE "
   ]
  },
  {
   "cell_type": "code",
   "execution_count": 24,
   "metadata": {},
   "outputs": [],
   "source": [
    "hypothesis['ICE'] = hypothesis['impact'] * hypothesis['confidence'] / hypothesis['efforts']"
   ]
  },
  {
   "cell_type": "code",
   "execution_count": 25,
   "metadata": {},
   "outputs": [
    {
     "data": {
      "text/html": [
       "<div>\n",
       "<style scoped>\n",
       "    .dataframe tbody tr th:only-of-type {\n",
       "        vertical-align: middle;\n",
       "    }\n",
       "\n",
       "    .dataframe tbody tr th {\n",
       "        vertical-align: top;\n",
       "    }\n",
       "\n",
       "    .dataframe thead th {\n",
       "        text-align: right;\n",
       "    }\n",
       "</style>\n",
       "<table border=\"1\" class=\"dataframe\">\n",
       "  <thead>\n",
       "    <tr style=\"text-align: right;\">\n",
       "      <th></th>\n",
       "      <th>hypothesis</th>\n",
       "      <th>reach</th>\n",
       "      <th>impact</th>\n",
       "      <th>confidence</th>\n",
       "      <th>efforts</th>\n",
       "      <th>ICE</th>\n",
       "    </tr>\n",
       "  </thead>\n",
       "  <tbody>\n",
       "    <tr>\n",
       "      <th>8</th>\n",
       "      <td>Запустить акцию, дающую скидку на товар в день рождения</td>\n",
       "      <td>1</td>\n",
       "      <td>9</td>\n",
       "      <td>9</td>\n",
       "      <td>5</td>\n",
       "      <td>16.20</td>\n",
       "    </tr>\n",
       "    <tr>\n",
       "      <th>0</th>\n",
       "      <td>Добавить два новых канала привлечения трафика, что позволит привлекать на 30% больше пользователей</td>\n",
       "      <td>3</td>\n",
       "      <td>10</td>\n",
       "      <td>8</td>\n",
       "      <td>6</td>\n",
       "      <td>13.33</td>\n",
       "    </tr>\n",
       "    <tr>\n",
       "      <th>7</th>\n",
       "      <td>Добавить форму подписки на все основные страницы, чтобы собрать базу клиентов для email-рассылок</td>\n",
       "      <td>10</td>\n",
       "      <td>7</td>\n",
       "      <td>8</td>\n",
       "      <td>5</td>\n",
       "      <td>11.20</td>\n",
       "    </tr>\n",
       "    <tr>\n",
       "      <th>6</th>\n",
       "      <td>Показать на главной странице баннеры с актуальными акциями и распродажами, чтобы увеличить конверсию</td>\n",
       "      <td>5</td>\n",
       "      <td>3</td>\n",
       "      <td>8</td>\n",
       "      <td>3</td>\n",
       "      <td>8.00</td>\n",
       "    </tr>\n",
       "    <tr>\n",
       "      <th>2</th>\n",
       "      <td>Добавить блоки рекомендаций товаров на сайт интернет магазина, чтобы повысить конверсию и средний чек заказа</td>\n",
       "      <td>8</td>\n",
       "      <td>3</td>\n",
       "      <td>7</td>\n",
       "      <td>3</td>\n",
       "      <td>7.00</td>\n",
       "    </tr>\n",
       "    <tr>\n",
       "      <th>1</th>\n",
       "      <td>Запустить собственную службу доставки, что сократит срок доставки заказов</td>\n",
       "      <td>2</td>\n",
       "      <td>5</td>\n",
       "      <td>4</td>\n",
       "      <td>10</td>\n",
       "      <td>2.00</td>\n",
       "    </tr>\n",
       "    <tr>\n",
       "      <th>5</th>\n",
       "      <td>Добавить страницу отзывов клиентов о магазине, что позволит увеличить количество заказов</td>\n",
       "      <td>3</td>\n",
       "      <td>2</td>\n",
       "      <td>2</td>\n",
       "      <td>3</td>\n",
       "      <td>1.33</td>\n",
       "    </tr>\n",
       "    <tr>\n",
       "      <th>3</th>\n",
       "      <td>Изменить структура категорий, что увеличит конверсию, т.к. пользователи быстрее найдут нужный товар</td>\n",
       "      <td>8</td>\n",
       "      <td>3</td>\n",
       "      <td>3</td>\n",
       "      <td>8</td>\n",
       "      <td>1.12</td>\n",
       "    </tr>\n",
       "    <tr>\n",
       "      <th>4</th>\n",
       "      <td>Изменить цвет фона главной страницы, чтобы увеличить вовлеченность пользователей</td>\n",
       "      <td>3</td>\n",
       "      <td>1</td>\n",
       "      <td>1</td>\n",
       "      <td>1</td>\n",
       "      <td>1.00</td>\n",
       "    </tr>\n",
       "  </tbody>\n",
       "</table>\n",
       "</div>"
      ],
      "text/plain": [
       "                                                                                                     hypothesis  \\\n",
       "8  Запустить акцию, дающую скидку на товар в день рождения                                                        \n",
       "0  Добавить два новых канала привлечения трафика, что позволит привлекать на 30% больше пользователей             \n",
       "7  Добавить форму подписки на все основные страницы, чтобы собрать базу клиентов для email-рассылок               \n",
       "6  Показать на главной странице баннеры с актуальными акциями и распродажами, чтобы увеличить конверсию           \n",
       "2  Добавить блоки рекомендаций товаров на сайт интернет магазина, чтобы повысить конверсию и средний чек заказа   \n",
       "1  Запустить собственную службу доставки, что сократит срок доставки заказов                                      \n",
       "5  Добавить страницу отзывов клиентов о магазине, что позволит увеличить количество заказов                       \n",
       "3  Изменить структура категорий, что увеличит конверсию, т.к. пользователи быстрее найдут нужный товар            \n",
       "4  Изменить цвет фона главной страницы, чтобы увеличить вовлеченность пользователей                               \n",
       "\n",
       "   reach  impact  confidence  efforts   ICE  \n",
       "8  1      9       9           5       16.20  \n",
       "0  3      10      8           6       13.33  \n",
       "7  10     7       8           5       11.20  \n",
       "6  5      3       8           3       8.00   \n",
       "2  8      3       7           3       7.00   \n",
       "1  2      5       4           10      2.00   \n",
       "5  3      2       2           3       1.33   \n",
       "3  8      3       3           8       1.12   \n",
       "4  3      1       1           1       1.00   "
      ]
     },
     "execution_count": 25,
     "metadata": {},
     "output_type": "execute_result"
    }
   ],
   "source": [
    "hypothesis.sort_values('ICE', ascending=False)"
   ]
  },
  {
   "cell_type": "code",
   "execution_count": 26,
   "metadata": {},
   "outputs": [
    {
     "data": {
      "image/png": "[encoded data removed]",
      "text/plain": [
       "<Figure size 720x576 with 1 Axes>"
      ]
     },
     "metadata": {},
     "output_type": "display_data"
    }
   ],
   "source": [
    "ax = hypothesis[['hypothesis', 'ICE']].set_index('hypothesis').sort_values('ICE', ascending=True).plot(kind='barh')\n",
    "ax.set_xlabel('Приоритет')\n",
    "ax.set_ylabel('Гипотеза')\n",
    "ax.set_title('ICE приоритет гипотез')\n",
    "plt.show()"
   ]
  },
  {
   "cell_type": "markdown",
   "metadata": {},
   "source": [
    "Как мы видим, наиболее приоритетной является гипотеза номер 8 - **Запустить акцию, дающую скидку на товар** в день рождения. \n",
    "\n",
    "На втором месте стоит гипотеза 0 - **Добавить два новых канала привлечения трафика, что позволит привлекать на 30% больше пользователей**.\n",
    "\n",
    "За ней следует гипотеза 7 - **Добавить форму подписки на все основные страницы, чтобы собрать базу клиентов для email-рассылок**."
   ]
  },
  {
   "cell_type": "markdown",
   "metadata": {},
   "source": [
    "### Фреймворк RICE"
   ]
  },
  {
   "cell_type": "code",
   "execution_count": 27,
   "metadata": {},
   "outputs": [],
   "source": [
    "hypothesis['RICE'] = hypothesis['reach'] * hypothesis['impact'] * hypothesis['confidence'] / hypothesis['efforts']"
   ]
  },
  {
   "cell_type": "code",
   "execution_count": 28,
   "metadata": {},
   "outputs": [
    {
     "data": {
      "text/html": [
       "<div>\n",
       "<style scoped>\n",
       "    .dataframe tbody tr th:only-of-type {\n",
       "        vertical-align: middle;\n",
       "    }\n",
       "\n",
       "    .dataframe tbody tr th {\n",
       "        vertical-align: top;\n",
       "    }\n",
       "\n",
       "    .dataframe thead th {\n",
       "        text-align: right;\n",
       "    }\n",
       "</style>\n",
       "<table border=\"1\" class=\"dataframe\">\n",
       "  <thead>\n",
       "    <tr style=\"text-align: right;\">\n",
       "      <th></th>\n",
       "      <th>hypothesis</th>\n",
       "      <th>reach</th>\n",
       "      <th>impact</th>\n",
       "      <th>confidence</th>\n",
       "      <th>efforts</th>\n",
       "      <th>ICE</th>\n",
       "      <th>RICE</th>\n",
       "    </tr>\n",
       "  </thead>\n",
       "  <tbody>\n",
       "    <tr>\n",
       "      <th>7</th>\n",
       "      <td>Добавить форму подписки на все основные страницы, чтобы собрать базу клиентов для email-рассылок</td>\n",
       "      <td>10</td>\n",
       "      <td>7</td>\n",
       "      <td>8</td>\n",
       "      <td>5</td>\n",
       "      <td>11.20</td>\n",
       "      <td>112.00</td>\n",
       "    </tr>\n",
       "    <tr>\n",
       "      <th>2</th>\n",
       "      <td>Добавить блоки рекомендаций товаров на сайт интернет магазина, чтобы повысить конверсию и средний чек заказа</td>\n",
       "      <td>8</td>\n",
       "      <td>3</td>\n",
       "      <td>7</td>\n",
       "      <td>3</td>\n",
       "      <td>7.00</td>\n",
       "      <td>56.00</td>\n",
       "    </tr>\n",
       "    <tr>\n",
       "      <th>0</th>\n",
       "      <td>Добавить два новых канала привлечения трафика, что позволит привлекать на 30% больше пользователей</td>\n",
       "      <td>3</td>\n",
       "      <td>10</td>\n",
       "      <td>8</td>\n",
       "      <td>6</td>\n",
       "      <td>13.33</td>\n",
       "      <td>40.00</td>\n",
       "    </tr>\n",
       "    <tr>\n",
       "      <th>6</th>\n",
       "      <td>Показать на главной странице баннеры с актуальными акциями и распродажами, чтобы увеличить конверсию</td>\n",
       "      <td>5</td>\n",
       "      <td>3</td>\n",
       "      <td>8</td>\n",
       "      <td>3</td>\n",
       "      <td>8.00</td>\n",
       "      <td>40.00</td>\n",
       "    </tr>\n",
       "    <tr>\n",
       "      <th>8</th>\n",
       "      <td>Запустить акцию, дающую скидку на товар в день рождения</td>\n",
       "      <td>1</td>\n",
       "      <td>9</td>\n",
       "      <td>9</td>\n",
       "      <td>5</td>\n",
       "      <td>16.20</td>\n",
       "      <td>16.20</td>\n",
       "    </tr>\n",
       "    <tr>\n",
       "      <th>3</th>\n",
       "      <td>Изменить структура категорий, что увеличит конверсию, т.к. пользователи быстрее найдут нужный товар</td>\n",
       "      <td>8</td>\n",
       "      <td>3</td>\n",
       "      <td>3</td>\n",
       "      <td>8</td>\n",
       "      <td>1.12</td>\n",
       "      <td>9.00</td>\n",
       "    </tr>\n",
       "    <tr>\n",
       "      <th>1</th>\n",
       "      <td>Запустить собственную службу доставки, что сократит срок доставки заказов</td>\n",
       "      <td>2</td>\n",
       "      <td>5</td>\n",
       "      <td>4</td>\n",
       "      <td>10</td>\n",
       "      <td>2.00</td>\n",
       "      <td>4.00</td>\n",
       "    </tr>\n",
       "    <tr>\n",
       "      <th>5</th>\n",
       "      <td>Добавить страницу отзывов клиентов о магазине, что позволит увеличить количество заказов</td>\n",
       "      <td>3</td>\n",
       "      <td>2</td>\n",
       "      <td>2</td>\n",
       "      <td>3</td>\n",
       "      <td>1.33</td>\n",
       "      <td>4.00</td>\n",
       "    </tr>\n",
       "    <tr>\n",
       "      <th>4</th>\n",
       "      <td>Изменить цвет фона главной страницы, чтобы увеличить вовлеченность пользователей</td>\n",
       "      <td>3</td>\n",
       "      <td>1</td>\n",
       "      <td>1</td>\n",
       "      <td>1</td>\n",
       "      <td>1.00</td>\n",
       "      <td>3.00</td>\n",
       "    </tr>\n",
       "  </tbody>\n",
       "</table>\n",
       "</div>"
      ],
      "text/plain": [
       "                                                                                                     hypothesis  \\\n",
       "7  Добавить форму подписки на все основные страницы, чтобы собрать базу клиентов для email-рассылок               \n",
       "2  Добавить блоки рекомендаций товаров на сайт интернет магазина, чтобы повысить конверсию и средний чек заказа   \n",
       "0  Добавить два новых канала привлечения трафика, что позволит привлекать на 30% больше пользователей             \n",
       "6  Показать на главной странице баннеры с актуальными акциями и распродажами, чтобы увеличить конверсию           \n",
       "8  Запустить акцию, дающую скидку на товар в день рождения                                                        \n",
       "3  Изменить структура категорий, что увеличит конверсию, т.к. пользователи быстрее найдут нужный товар            \n",
       "1  Запустить собственную службу доставки, что сократит срок доставки заказов                                      \n",
       "5  Добавить страницу отзывов клиентов о магазине, что позволит увеличить количество заказов                       \n",
       "4  Изменить цвет фона главной страницы, чтобы увеличить вовлеченность пользователей                               \n",
       "\n",
       "   reach  impact  confidence  efforts   ICE   RICE  \n",
       "7  10     7       8           5       11.20 112.00  \n",
       "2  8      3       7           3       7.00  56.00   \n",
       "0  3      10      8           6       13.33 40.00   \n",
       "6  5      3       8           3       8.00  40.00   \n",
       "8  1      9       9           5       16.20 16.20   \n",
       "3  8      3       3           8       1.12  9.00    \n",
       "1  2      5       4           10      2.00  4.00    \n",
       "5  3      2       2           3       1.33  4.00    \n",
       "4  3      1       1           1       1.00  3.00    "
      ]
     },
     "execution_count": 28,
     "metadata": {},
     "output_type": "execute_result"
    }
   ],
   "source": [
    "hypothesis.sort_values('RICE', ascending=False)"
   ]
  },
  {
   "cell_type": "code",
   "execution_count": 29,
   "metadata": {},
   "outputs": [
    {
     "data": {
      "image/png": "[encoded data removed]",
      "text/plain": [
       "<Figure size 720x576 with 1 Axes>"
      ]
     },
     "metadata": {},
     "output_type": "display_data"
    }
   ],
   "source": [
    "ax = hypothesis[['hypothesis', 'RICE']].set_index('hypothesis').sort_values('RICE', ascending=True).plot(kind='barh')\n",
    "ax.set_xlabel('Приоритет')\n",
    "ax.set_ylabel('Гипотеза')\n",
    "ax.set_title('RICE приоритет гипотез')\n",
    "plt.show()"
   ]
  },
  {
   "cell_type": "markdown",
   "metadata": {},
   "source": [
    "Тут мы видим совершенно другую картину. Гипотеза 9, которая была в топе в ICE находится аж на 5 месте."
   ]
  },
  {
   "cell_type": "markdown",
   "metadata": {},
   "source": [
    "### Приоритизация гипотез при применении RICE и ICE"
   ]
  },
  {
   "cell_type": "markdown",
   "metadata": {},
   "source": [
    "Помотрим как изменилась приоритизация гипотез при применении RICE вместо ICE и объясним, почему так произошло."
   ]
  },
  {
   "cell_type": "code",
   "execution_count": 32,
   "metadata": {},
   "outputs": [
    {
     "data": {
      "text/html": [
       "<div>\n",
       "<style scoped>\n",
       "    .dataframe tbody tr th:only-of-type {\n",
       "        vertical-align: middle;\n",
       "    }\n",
       "\n",
       "    .dataframe tbody tr th {\n",
       "        vertical-align: top;\n",
       "    }\n",
       "\n",
       "    .dataframe thead th {\n",
       "        text-align: right;\n",
       "    }\n",
       "</style>\n",
       "<table border=\"1\" class=\"dataframe\">\n",
       "  <thead>\n",
       "    <tr style=\"text-align: right;\">\n",
       "      <th></th>\n",
       "      <th>index</th>\n",
       "      <th>index</th>\n",
       "    </tr>\n",
       "  </thead>\n",
       "  <tbody>\n",
       "    <tr>\n",
       "      <th>0</th>\n",
       "      <td>8</td>\n",
       "      <td>7</td>\n",
       "    </tr>\n",
       "    <tr>\n",
       "      <th>1</th>\n",
       "      <td>0</td>\n",
       "      <td>2</td>\n",
       "    </tr>\n",
       "    <tr>\n",
       "      <th>2</th>\n",
       "      <td>7</td>\n",
       "      <td>0</td>\n",
       "    </tr>\n",
       "    <tr>\n",
       "      <th>3</th>\n",
       "      <td>6</td>\n",
       "      <td>6</td>\n",
       "    </tr>\n",
       "    <tr>\n",
       "      <th>4</th>\n",
       "      <td>2</td>\n",
       "      <td>8</td>\n",
       "    </tr>\n",
       "    <tr>\n",
       "      <th>5</th>\n",
       "      <td>1</td>\n",
       "      <td>3</td>\n",
       "    </tr>\n",
       "    <tr>\n",
       "      <th>6</th>\n",
       "      <td>5</td>\n",
       "      <td>1</td>\n",
       "    </tr>\n",
       "    <tr>\n",
       "      <th>7</th>\n",
       "      <td>3</td>\n",
       "      <td>5</td>\n",
       "    </tr>\n",
       "    <tr>\n",
       "      <th>8</th>\n",
       "      <td>4</td>\n",
       "      <td>4</td>\n",
       "    </tr>\n",
       "  </tbody>\n",
       "</table>\n",
       "</div>"
      ],
      "text/plain": [
       "   index  index\n",
       "0  8      7    \n",
       "1  0      2    \n",
       "2  7      0    \n",
       "3  6      6    \n",
       "4  2      8    \n",
       "5  1      3    \n",
       "6  5      1    \n",
       "7  3      5    \n",
       "8  4      4    "
      ]
     },
     "execution_count": 32,
     "metadata": {},
     "output_type": "execute_result"
    }
   ],
   "source": [
    "i = hypothesis['ICE'].sort_values(ascending = False).reset_index()['index']\n",
    "r = hypothesis['RICE'].sort_values(ascending = False).reset_index()['index']\n",
    "pd.concat([i, r], axis = 1)"
   ]
  },
  {
   "cell_type": "code",
   "execution_count": 33,
   "metadata": {},
   "outputs": [
    {
     "data": {
      "text/html": [
       "<style  type=\"text/css\" >\n",
       "#T_ab6cf_row0_col1{\n",
       "            background-color:  #1561a9;\n",
       "            color:  #f1f1f1;\n",
       "        }#T_ab6cf_row0_col2,#T_ab6cf_row6_col2{\n",
       "            background-color:  #aacfe5;\n",
       "            color:  #000000;\n",
       "        }#T_ab6cf_row1_col1{\n",
       "            background-color:  #eaf3fb;\n",
       "            color:  #000000;\n",
       "        }#T_ab6cf_row1_col2,#T_ab6cf_row3_col1,#T_ab6cf_row5_col2{\n",
       "            background-color:  #f5fafe;\n",
       "            color:  #000000;\n",
       "        }#T_ab6cf_row2_col1{\n",
       "            background-color:  #95c5df;\n",
       "            color:  #000000;\n",
       "        }#T_ab6cf_row2_col2{\n",
       "            background-color:  #71b1d7;\n",
       "            color:  #000000;\n",
       "        }#T_ab6cf_row3_col2{\n",
       "            background-color:  #ecf4fb;\n",
       "            color:  #000000;\n",
       "        }#T_ab6cf_row4_col1,#T_ab6cf_row4_col2{\n",
       "            background-color:  #f7fbff;\n",
       "            color:  #000000;\n",
       "        }#T_ab6cf_row5_col1{\n",
       "            background-color:  #f3f8fe;\n",
       "            color:  #000000;\n",
       "        }#T_ab6cf_row6_col1{\n",
       "            background-color:  #7cb7da;\n",
       "            color:  #000000;\n",
       "        }#T_ab6cf_row7_col1{\n",
       "            background-color:  #3686c0;\n",
       "            color:  #000000;\n",
       "        }#T_ab6cf_row7_col2,#T_ab6cf_row8_col1{\n",
       "            background-color:  #08306b;\n",
       "            color:  #f1f1f1;\n",
       "        }#T_ab6cf_row8_col2{\n",
       "            background-color:  #dfebf7;\n",
       "            color:  #000000;\n",
       "        }</style><table id=\"T_ab6cf_\" ><thead>    <tr>        <th class=\"blank level0\" ></th>        <th class=\"col_heading level0 col0\" >hypothesis</th>        <th class=\"col_heading level0 col1\" >ICE</th>        <th class=\"col_heading level0 col2\" >RICE</th>    </tr></thead><tbody>\n",
       "                <tr>\n",
       "                        <th id=\"T_ab6cf_level0_row0\" class=\"row_heading level0 row0\" >0</th>\n",
       "                        <td id=\"T_ab6cf_row0_col0\" class=\"data row0 col0\" >Добавить два новых канала привлечения трафика, что позволит привлекать на 30% больше пользователей</td>\n",
       "                        <td id=\"T_ab6cf_row0_col1\" class=\"data row0 col1\" >13.333333</td>\n",
       "                        <td id=\"T_ab6cf_row0_col2\" class=\"data row0 col2\" >40.000000</td>\n",
       "            </tr>\n",
       "            <tr>\n",
       "                        <th id=\"T_ab6cf_level0_row1\" class=\"row_heading level0 row1\" >1</th>\n",
       "                        <td id=\"T_ab6cf_row1_col0\" class=\"data row1 col0\" >Запустить собственную службу доставки, что сократит срок доставки заказов</td>\n",
       "                        <td id=\"T_ab6cf_row1_col1\" class=\"data row1 col1\" >2.000000</td>\n",
       "                        <td id=\"T_ab6cf_row1_col2\" class=\"data row1 col2\" >4.000000</td>\n",
       "            </tr>\n",
       "            <tr>\n",
       "                        <th id=\"T_ab6cf_level0_row2\" class=\"row_heading level0 row2\" >2</th>\n",
       "                        <td id=\"T_ab6cf_row2_col0\" class=\"data row2 col0\" >Добавить блоки рекомендаций товаров на сайт интернет магазина, чтобы повысить конверсию и средний чек заказа</td>\n",
       "                        <td id=\"T_ab6cf_row2_col1\" class=\"data row2 col1\" >7.000000</td>\n",
       "                        <td id=\"T_ab6cf_row2_col2\" class=\"data row2 col2\" >56.000000</td>\n",
       "            </tr>\n",
       "            <tr>\n",
       "                        <th id=\"T_ab6cf_level0_row3\" class=\"row_heading level0 row3\" >3</th>\n",
       "                        <td id=\"T_ab6cf_row3_col0\" class=\"data row3 col0\" >Изменить структура категорий, что увеличит конверсию, т.к. пользователи быстрее найдут нужный товар</td>\n",
       "                        <td id=\"T_ab6cf_row3_col1\" class=\"data row3 col1\" >1.125000</td>\n",
       "                        <td id=\"T_ab6cf_row3_col2\" class=\"data row3 col2\" >9.000000</td>\n",
       "            </tr>\n",
       "            <tr>\n",
       "                        <th id=\"T_ab6cf_level0_row4\" class=\"row_heading level0 row4\" >4</th>\n",
       "                        <td id=\"T_ab6cf_row4_col0\" class=\"data row4 col0\" >Изменить цвет фона главной страницы, чтобы увеличить вовлеченность пользователей</td>\n",
       "                        <td id=\"T_ab6cf_row4_col1\" class=\"data row4 col1\" >1.000000</td>\n",
       "                        <td id=\"T_ab6cf_row4_col2\" class=\"data row4 col2\" >3.000000</td>\n",
       "            </tr>\n",
       "            <tr>\n",
       "                        <th id=\"T_ab6cf_level0_row5\" class=\"row_heading level0 row5\" >5</th>\n",
       "                        <td id=\"T_ab6cf_row5_col0\" class=\"data row5 col0\" >Добавить страницу отзывов клиентов о магазине, что позволит увеличить количество заказов</td>\n",
       "                        <td id=\"T_ab6cf_row5_col1\" class=\"data row5 col1\" >1.333333</td>\n",
       "                        <td id=\"T_ab6cf_row5_col2\" class=\"data row5 col2\" >4.000000</td>\n",
       "            </tr>\n",
       "            <tr>\n",
       "                        <th id=\"T_ab6cf_level0_row6\" class=\"row_heading level0 row6\" >6</th>\n",
       "                        <td id=\"T_ab6cf_row6_col0\" class=\"data row6 col0\" >Показать на главной странице баннеры с актуальными акциями и распродажами, чтобы увеличить конверсию</td>\n",
       "                        <td id=\"T_ab6cf_row6_col1\" class=\"data row6 col1\" >8.000000</td>\n",
       "                        <td id=\"T_ab6cf_row6_col2\" class=\"data row6 col2\" >40.000000</td>\n",
       "            </tr>\n",
       "            <tr>\n",
       "                        <th id=\"T_ab6cf_level0_row7\" class=\"row_heading level0 row7\" >7</th>\n",
       "                        <td id=\"T_ab6cf_row7_col0\" class=\"data row7 col0\" >Добавить форму подписки на все основные страницы, чтобы собрать базу клиентов для email-рассылок</td>\n",
       "                        <td id=\"T_ab6cf_row7_col1\" class=\"data row7 col1\" >11.200000</td>\n",
       "                        <td id=\"T_ab6cf_row7_col2\" class=\"data row7 col2\" >112.000000</td>\n",
       "            </tr>\n",
       "            <tr>\n",
       "                        <th id=\"T_ab6cf_level0_row8\" class=\"row_heading level0 row8\" >8</th>\n",
       "                        <td id=\"T_ab6cf_row8_col0\" class=\"data row8 col0\" >Запустить акцию, дающую скидку на товар в день рождения</td>\n",
       "                        <td id=\"T_ab6cf_row8_col1\" class=\"data row8 col1\" >16.200000</td>\n",
       "                        <td id=\"T_ab6cf_row8_col2\" class=\"data row8 col2\" >16.200000</td>\n",
       "            </tr>\n",
       "    </tbody></table>"
      ],
      "text/plain": [
       "<pandas.io.formats.style.Styler at 0x7f06d6b0b490>"
      ]
     },
     "execution_count": 33,
     "metadata": {},
     "output_type": "execute_result"
    }
   ],
   "source": [
    "hypothesis[['hypothesis', 'ICE', 'RICE']].style.background_gradient(cmap='Blues')"
   ]
  },
  {
   "cell_type": "markdown",
   "metadata": {},
   "source": [
    "**Вывод**\n",
    "\n",
    "Результаты преоритизации ICE и RICE сильно отличаются друг от друга. Так происходит потому, что что формулы разные - одна учитывает охват, а другая нет."
   ]
  },
  {
   "cell_type": "markdown",
   "metadata": {},
   "source": [
    "## Анализ A/B-теста"
   ]
  },
  {
   "cell_type": "markdown",
   "metadata": {},
   "source": [
    "Проанализируем A/B-тест. Перед нами стоят следующие задачи:\n",
    "1. Постройте график кумулятивной выручки по группам. Сделайте выводы и предположения.\n",
    "2. Постройте график кумулятивного среднего чека по группам. Сделайте выводы и предположения.\n",
    "3. Постройте график относительного изменения кумулятивного среднего чека группы B к группе A. Сделайте выводы и предположения.\n",
    "4. Постройте график кумулятивной конверсии по группам. Сделайте выводы и предположения.\n",
    "5. Постройте график относительного изменения кумулятивной конверсии группы B к группе A. Сделайте выводы и предположения.\n",
    "6. Постройте точечный график количества заказов по пользователям. Сделайте выводы и предположения.\n",
    "7. Посчитайте 95-й и 99-й перцентили количества заказов на пользователя. Выберите границу для определения аномальных пользователей.\n",
    "8. Постройте точечный график стоимостей заказов. Сделайте выводы и предположения.\n",
    "9. Посчитайте 95-й и 99-й перцентили стоимости заказов. Выберите границу для определения аномальных заказов.\n",
    "10. Посчитайте статистическую значимость различий в конверсии между группами по «сырым» данным. Сделайте выводы и предположения.\n",
    "11. Посчитайте статистическую значимость различий в среднем чеке заказа между группами по «сырым» данным. Сделайте выводы и предположения.\n",
    "12. Посчитайте статистическую значимость различий в конверсии между группами по «очищенным» данным. Сделайте выводы и предположения.\n",
    "13. Посчитайте статистическую значимость различий в среднем чеке заказа между группами по «очищенным» данным. Сделайте выводы и предположения.\n",
    "14. Примите решение по результатам теста и объясните его. Варианты решений: 1. Остановить тест, зафиксировать победу одной из групп. 2. Остановить тест, зафиксировать отсутствие различий между группами. 3. Продолжить тест."
   ]
  },
  {
   "cell_type": "markdown",
   "metadata": {},
   "source": [
    "**Соберем все коммулятивные данные.** Объединим таблицы и добавим в новую таблицу: дату, группу A/B-теста, число уникальных заказов в группе теста по указанную дату включительно, число уникальных пользователей, совершивших хотя бы 1 заказ в группе теста по указанную дату включительно, суммарную выручку заказов в группе теста по указанную дату включительно."
   ]
  },
  {
   "cell_type": "code",
   "execution_count": 39,
   "metadata": {},
   "outputs": [],
   "source": [
    "datesGroups = orders[['date', 'group']].drop_duplicates()\n",
    "\n",
    "ordersAggregated = datesGroups.apply(\n",
    "    lambda x: orders[\n",
    "        np.logical_and(\n",
    "            orders['date'] <= x['date'], orders['group'] == x['group']\n",
    "        )\n",
    "    ].agg(\n",
    "        {\n",
    "            'date': 'max',\n",
    "            'group': 'max',\n",
    "            'transaction_id': 'nunique',\n",
    "            'visitor_id': 'nunique',\n",
    "            'revenue': 'sum',\n",
    "        }\n",
    "    ),\n",
    "    axis=1,\n",
    ").sort_values(by=['date', 'group'])\n",
    "\n",
    "visitorsAggregated = datesGroups.apply(\n",
    "    lambda x: visitors[\n",
    "        np.logical_and(\n",
    "            visitors['date'] <= x['date'], visitors['group'] == x['group']\n",
    "        )\n",
    "    ].agg({'date': 'max', 'group': 'max', 'visitors': 'sum'}),\n",
    "    axis=1,\n",
    ").sort_values(by=['date', 'group'])\n",
    "\n",
    "cumulativeData = ordersAggregated.merge(\n",
    "    visitorsAggregated, left_on=['date', 'group'], right_on=['date', 'group']\n",
    ")\n",
    "cumulativeData.columns = [\n",
    "    'date',\n",
    "    'group',\n",
    "    'orders',\n",
    "    'buyers',\n",
    "    'revenue',\n",
    "    'visitors',\n",
    "]"
   ]
  },
  {
   "cell_type": "code",
   "execution_count": 40,
   "metadata": {},
   "outputs": [
    {
     "data": {
      "text/html": [
       "<div>\n",
       "<style scoped>\n",
       "    .dataframe tbody tr th:only-of-type {\n",
       "        vertical-align: middle;\n",
       "    }\n",
       "\n",
       "    .dataframe tbody tr th {\n",
       "        vertical-align: top;\n",
       "    }\n",
       "\n",
       "    .dataframe thead th {\n",
       "        text-align: right;\n",
       "    }\n",
       "</style>\n",
       "<table border=\"1\" class=\"dataframe\">\n",
       "  <thead>\n",
       "    <tr style=\"text-align: right;\">\n",
       "      <th></th>\n",
       "      <th>date</th>\n",
       "      <th>group</th>\n",
       "      <th>orders</th>\n",
       "      <th>buyers</th>\n",
       "      <th>revenue</th>\n",
       "      <th>visitors</th>\n",
       "    </tr>\n",
       "  </thead>\n",
       "  <tbody>\n",
       "    <tr>\n",
       "      <th>0</th>\n",
       "      <td>2019-08-01</td>\n",
       "      <td>A</td>\n",
       "      <td>23</td>\n",
       "      <td>19</td>\n",
       "      <td>142779</td>\n",
       "      <td>719</td>\n",
       "    </tr>\n",
       "    <tr>\n",
       "      <th>1</th>\n",
       "      <td>2019-08-01</td>\n",
       "      <td>B</td>\n",
       "      <td>17</td>\n",
       "      <td>17</td>\n",
       "      <td>59758</td>\n",
       "      <td>713</td>\n",
       "    </tr>\n",
       "    <tr>\n",
       "      <th>2</th>\n",
       "      <td>2019-08-02</td>\n",
       "      <td>A</td>\n",
       "      <td>42</td>\n",
       "      <td>36</td>\n",
       "      <td>234381</td>\n",
       "      <td>1338</td>\n",
       "    </tr>\n",
       "    <tr>\n",
       "      <th>3</th>\n",
       "      <td>2019-08-02</td>\n",
       "      <td>B</td>\n",
       "      <td>40</td>\n",
       "      <td>39</td>\n",
       "      <td>221801</td>\n",
       "      <td>1294</td>\n",
       "    </tr>\n",
       "    <tr>\n",
       "      <th>4</th>\n",
       "      <td>2019-08-03</td>\n",
       "      <td>A</td>\n",
       "      <td>66</td>\n",
       "      <td>60</td>\n",
       "      <td>346854</td>\n",
       "      <td>1845</td>\n",
       "    </tr>\n",
       "  </tbody>\n",
       "</table>\n",
       "</div>"
      ],
      "text/plain": [
       "        date group  orders  buyers  revenue  visitors\n",
       "0 2019-08-01  A     23      19      142779   719     \n",
       "1 2019-08-01  B     17      17      59758    713     \n",
       "2 2019-08-02  A     42      36      234381   1338    \n",
       "3 2019-08-02  B     40      39      221801   1294    \n",
       "4 2019-08-03  A     66      60      346854   1845    "
      ]
     },
     "execution_count": 40,
     "metadata": {},
     "output_type": "execute_result"
    }
   ],
   "source": [
    "cumulativeData.head(5)"
   ]
  },
  {
   "cell_type": "markdown",
   "metadata": {},
   "source": [
    "### Построим график кумулятивной выручки по группам."
   ]
  },
  {
   "cell_type": "code",
   "execution_count": 42,
   "metadata": {},
   "outputs": [
    {
     "data": {
      "image/png": "[encoded data removed]",
      "text/plain": [
       "<Figure size 720x576 with 1 Axes>"
      ]
     },
     "metadata": {},
     "output_type": "display_data"
    }
   ],
   "source": [
    "# датафрейм с кумулятивным количеством заказов и кумулятивной выручкой по дням в группе А\n",
    "cumulativeRevenueA = cumulativeData[cumulativeData['group']=='A'][['date','revenue', 'orders']]\n",
    "\n",
    "# датафрейм с кумулятивным количеством заказов и кумулятивной выручкой по дням в группе B\n",
    "cumulativeRevenueB = cumulativeData[cumulativeData['group']=='B'][['date','revenue', 'orders']]\n",
    "\n",
    "# Строим график выручки группы А\n",
    "plt.plot(cumulativeRevenueA['date'], cumulativeRevenueA['revenue'], label='A')\n",
    "\n",
    "# Строим график выручки группы B\n",
    "plt.plot(cumulativeRevenueB['date'], cumulativeRevenueB['revenue'], label='B')\n",
    "\n",
    "plt.title('График кумулятивной выручки по группам')\n",
    "plt.ylabel(\"Выручка\")\n",
    "plt.xticks(rotation=45)\n",
    "plt.legend() \n",
    "plt.show()"
   ]
  },
  {
   "cell_type": "markdown",
   "metadata": {},
   "source": [
    "**Вывод:**\n",
    "\n",
    "Группа А растет линейно, а у группы В резкий скачек 17-18 числа, что может говорить о выбросе в данных."
   ]
  },
  {
   "cell_type": "markdown",
   "metadata": {},
   "source": [
    "### Построим график кумулятивного среднего чека по группам."
   ]
  },
  {
   "cell_type": "code",
   "execution_count": 44,
   "metadata": {},
   "outputs": [
    {
     "data": {
      "image/png": "[encoded data removed]",
      "text/plain": [
       "<Figure size 720x576 with 1 Axes>"
      ]
     },
     "metadata": {},
     "output_type": "display_data"
    }
   ],
   "source": [
    "#построим график:\n",
    "plt.plot(cumulativeRevenueA['date'], cumulativeRevenueA['revenue']/cumulativeRevenueA['orders'], label='A')\n",
    "plt.plot(cumulativeRevenueB['date'], cumulativeRevenueB['revenue']/cumulativeRevenueB['orders'], label='B')\n",
    "plt.title('График кумулятивного среднего чека по группам')\n",
    "plt.ylabel(\"Выручка\")\n",
    "plt.xticks(rotation=45)\n",
    "plt.legend()\n",
    "plt.show()"
   ]
  },
  {
   "cell_type": "markdown",
   "metadata": {},
   "source": [
    "**Вывод:**\n",
    "\n",
    "Кумулятивное значение среднего чека по сегментам колеблется. Особенно заметен резкий скачок у группы В. Принимать решения по данной метрике рано и требуется анализ выбросов, которые сильно влияют на данные."
   ]
  },
  {
   "cell_type": "markdown",
   "metadata": {},
   "source": [
    "### Построим график относительного изменения кумулятивного среднего чека группы B к группе A."
   ]
  },
  {
   "cell_type": "code",
   "execution_count": 46,
   "metadata": {},
   "outputs": [
    {
     "data": {
      "image/png": "[encoded data removed]",
      "text/plain": [
       "<Figure size 720x576 with 1 Axes>"
      ]
     },
     "metadata": {},
     "output_type": "display_data"
    }
   ],
   "source": [
    "# собираем данные в одном датафрейме\n",
    "mergedCumulativeRevenue = cumulativeRevenueA.merge(\n",
    "    cumulativeRevenueB, left_on='date', right_on='date', how='left', suffixes=['A', 'B']\n",
    ")\n",
    "\n",
    "# cтроим отношение средних чеков\n",
    "plt.plot(mergedCumulativeRevenue['date'],\n",
    "         (mergedCumulativeRevenue['revenueB']/mergedCumulativeRevenue['ordersB'])/\n",
    "         (mergedCumulativeRevenue['revenueA']/mergedCumulativeRevenue['ordersA'])-1)\n",
    "\n",
    "# добавляем ось X\n",
    "plt.axhline(y=0, color='black', linestyle='--') \n",
    "\n",
    "plt.title('График относительного изменения кумулятивного среднего чека группы B к группе A')\n",
    "plt.xticks(rotation=45)\n",
    "plt.show()"
   ]
  },
  {
   "cell_type": "markdown",
   "metadata": {},
   "source": [
    "**Вывод**\n",
    "\n",
    "Результаты теста значительно меняются в разные даты. Похоже, что именно в эти даты совершены аномальные заказы."
   ]
  },
  {
   "cell_type": "markdown",
   "metadata": {},
   "source": [
    "### Построим график кумулятивной конверсии по группам."
   ]
  },
  {
   "cell_type": "code",
   "execution_count": 48,
   "metadata": {},
   "outputs": [
    {
     "data": {
      "image/png": "[encoded data removed]",
      "text/plain": [
       "<Figure size 720x576 with 1 Axes>"
      ]
     },
     "metadata": {},
     "output_type": "display_data"
    }
   ],
   "source": [
    "# считаем кумулятивную конверсию\n",
    "cumulativeData['conversion'] = cumulativeData['orders']/cumulativeData['visitors']\n",
    "\n",
    "# отделяем данные по группе A\n",
    "cumulativeDataA = cumulativeData[cumulativeData['group']=='A']\n",
    "\n",
    "# отделяем данные по группе B\n",
    "cumulativeDataB = cumulativeData[cumulativeData['group']=='B']\n",
    "\n",
    "# строим графики\n",
    "plt.plot(cumulativeDataA['date'], cumulativeDataA['conversion'], label='A')\n",
    "plt.plot(cumulativeDataB['date'], cumulativeDataB['conversion'], label='B')\n",
    "plt.title('График кумулятивной конверсии по группам')\n",
    "plt.ylabel('Conversion')\n",
    "plt.xticks(rotation=45)\n",
    "plt.legend()\n",
    "plt.show()"
   ]
  },
  {
   "cell_type": "markdown",
   "metadata": {},
   "source": [
    "**Вывод:**\n",
    "\n",
    "У обеих групп наблюдается пик 2-3 числа, после чего у обеих групп идет резкое снижение. У группы А снижение более серьезное, в то время как у группы В показатели выглядят лучше. Однако, смотреть на предварительные результаты в первую неделю теста не стоит, так как группы эксперимента малы, и каждый новый пользователь сильно меняет картину, в последующие недели когда метрики начинают стабилизироваться, можно оценивать тренды, динамику и прочее."
   ]
  },
  {
   "cell_type": "markdown",
   "metadata": {},
   "source": [
    "### Построим график относительного изменения кумулятивной конверсии группы B к группе A."
   ]
  },
  {
   "cell_type": "code",
   "execution_count": 50,
   "metadata": {},
   "outputs": [
    {
     "data": {
      "image/png": "[encoded data removed]",
      "text/plain": [
       "<Figure size 720x576 with 1 Axes>"
      ]
     },
     "metadata": {},
     "output_type": "display_data"
    }
   ],
   "source": [
    "mergedCumulativeConversions = cumulativeDataA[['date','conversion']].merge(\n",
    "    cumulativeDataB[['date','conversion']], left_on='date', right_on='date', how='left', suffixes=['A', 'B']\n",
    ")\n",
    "\n",
    "plt.plot(\n",
    "    mergedCumulativeConversions['date'], mergedCumulativeConversions['conversionB']/\n",
    "    mergedCumulativeConversions['conversionA']-1, label=\"Относительный прирост конверсии группы B относительно группы A\")\n",
    "\n",
    "plt.legend()\n",
    "plt.axhline(y=0, color='black', linestyle='--')\n",
    "plt.axhline(y=-0.1, color='grey', linestyle='--')\n",
    "plt.title('График относительного изменения кумулятивной конверсии группы B к группе A')\n",
    "plt.xticks(rotation=45)\n",
    "plt.show()"
   ]
  },
  {
   "cell_type": "markdown",
   "metadata": {},
   "source": [
    "**Вывод:**\n",
    "\n",
    "Конверсия группы В показывает себя намного лучше, достигая прироста до 20% относительно группы А."
   ]
  },
  {
   "cell_type": "markdown",
   "metadata": {},
   "source": [
    "### Построим точечный график количества заказов по пользователям."
   ]
  },
  {
   "cell_type": "code",
   "execution_count": 51,
   "metadata": {},
   "outputs": [
    {
     "data": {
      "text/html": [
       "<div>\n",
       "<style scoped>\n",
       "    .dataframe tbody tr th:only-of-type {\n",
       "        vertical-align: middle;\n",
       "    }\n",
       "\n",
       "    .dataframe tbody tr th {\n",
       "        vertical-align: top;\n",
       "    }\n",
       "\n",
       "    .dataframe thead th {\n",
       "        text-align: right;\n",
       "    }\n",
       "</style>\n",
       "<table border=\"1\" class=\"dataframe\">\n",
       "  <thead>\n",
       "    <tr style=\"text-align: right;\">\n",
       "      <th></th>\n",
       "      <th>visitor_id</th>\n",
       "      <th>orders</th>\n",
       "    </tr>\n",
       "  </thead>\n",
       "  <tbody>\n",
       "    <tr>\n",
       "      <th>0</th>\n",
       "      <td>5114589</td>\n",
       "      <td>1</td>\n",
       "    </tr>\n",
       "    <tr>\n",
       "      <th>1</th>\n",
       "      <td>6958315</td>\n",
       "      <td>1</td>\n",
       "    </tr>\n",
       "    <tr>\n",
       "      <th>2</th>\n",
       "      <td>11685486</td>\n",
       "      <td>1</td>\n",
       "    </tr>\n",
       "    <tr>\n",
       "      <th>3</th>\n",
       "      <td>39475350</td>\n",
       "      <td>1</td>\n",
       "    </tr>\n",
       "    <tr>\n",
       "      <th>4</th>\n",
       "      <td>47206413</td>\n",
       "      <td>1</td>\n",
       "    </tr>\n",
       "  </tbody>\n",
       "</table>\n",
       "</div>"
      ],
      "text/plain": [
       "   visitor_id  orders\n",
       "0  5114589     1     \n",
       "1  6958315     1     \n",
       "2  11685486    1     \n",
       "3  39475350    1     \n",
       "4  47206413    1     "
      ]
     },
     "execution_count": 51,
     "metadata": {},
     "output_type": "execute_result"
    }
   ],
   "source": [
    "#создадим таблицу по заказам:\n",
    "\n",
    "orders_per_user = orders.groupby('visitor_id', as_index=False).agg({'transaction_id':pd.Series.nunique})\\\n",
    "                         .rename(columns={'transaction_id':'orders'})\n",
    "orders_per_user.head()"
   ]
  },
  {
   "cell_type": "code",
   "execution_count": 52,
   "metadata": {},
   "outputs": [
    {
     "data": {
      "image/png": "[encoded data removed]",
      "text/plain": [
       "<Figure size 720x576 with 1 Axes>"
      ]
     },
     "metadata": {},
     "output_type": "display_data"
    }
   ],
   "source": [
    "#построим график:\n",
    "\n",
    "x_values = pd.Series(range(0,len(orders_per_user['orders'])))\n",
    "plt.title('Точечный график количества заказов по пользователям')\n",
    "plt.scatter(x_values, orders_per_user['orders'], color='red')\n",
    "plt.show()"
   ]
  },
  {
   "cell_type": "markdown",
   "metadata": {},
   "source": [
    "**Вывод:**\n",
    "\n",
    "Как мы видим по графику, большая часть людей совершает покупку один раз, но есть те, кто совершают 2-3 покупки."
   ]
  },
  {
   "cell_type": "markdown",
   "metadata": {},
   "source": [
    "### Посчитаем 95-й и 99-й перцентили количества заказов на пользователя и выберем границу для определения аномальных пользователей."
   ]
  },
  {
   "cell_type": "code",
   "execution_count": 53,
   "metadata": {},
   "outputs": [
    {
     "name": "stdout",
     "output_type": "stream",
     "text": [
      "90 перцентиль: 1.00\n",
      "95 перцентиль: 1.00\n",
      "99 перцентиль: 2.00\n"
     ]
    }
   ],
   "source": [
    "print('90 перцентиль: %.2f' % (np.percentile(orders_per_user['orders'], [90])))\n",
    "print('95 перцентиль: %.2f' % (np.percentile(orders_per_user['orders'], [95])))\n",
    "print('99 перцентиль: %.2f' % (np.percentile(orders_per_user['orders'], [99])))"
   ]
  },
  {
   "cell_type": "code",
   "execution_count": 54,
   "metadata": {},
   "outputs": [
    {
     "data": {
      "text/plain": [
       "3"
      ]
     },
     "execution_count": 54,
     "metadata": {},
     "output_type": "execute_result"
    }
   ],
   "source": [
    "#посмотрим максимальное значение числа покупок:\n",
    "\n",
    "orders_per_user['orders'].max()"
   ]
  },
  {
   "cell_type": "code",
   "execution_count": 55,
   "metadata": {},
   "outputs": [
    {
     "data": {
      "text/plain": [
       "36"
      ]
     },
     "execution_count": 55,
     "metadata": {},
     "output_type": "execute_result"
    }
   ],
   "source": [
    "#посмотрим, сколько покупателей, выходящих за 99 процентиль, т.е. являющимися выбросами:\n",
    "\n",
    "len(orders_per_user[orders_per_user['orders'] >= 2]['visitor_id'])"
   ]
  },
  {
   "cell_type": "code",
   "execution_count": 56,
   "metadata": {},
   "outputs": [],
   "source": [
    "#добавим аномальные значения в список, они понадобятся нам дальше для дальнейшего исследования:\n",
    "\n",
    "outlaws = orders_per_user[orders_per_user['orders'] >= 2]['visitor_id'].to_list()"
   ]
  },
  {
   "cell_type": "markdown",
   "metadata": {},
   "source": [
    "**Вывод:**\n",
    "\n",
    "Все значения за пределами 99 процентиля являются аномальными."
   ]
  },
  {
   "cell_type": "markdown",
   "metadata": {},
   "source": [
    "### Построим точечный график стоимостей заказов."
   ]
  },
  {
   "cell_type": "code",
   "execution_count": 57,
   "metadata": {},
   "outputs": [
    {
     "data": {
      "image/png": "[encoded data removed]",
      "text/plain": [
       "<Figure size 720x576 with 1 Axes>"
      ]
     },
     "metadata": {},
     "output_type": "display_data"
    }
   ],
   "source": [
    "x_values = pd.Series(range(0,len(orders['revenue'])))\n",
    "\n",
    "plt.scatter(x_values, orders['revenue'], color='red')\n",
    "plt.title('Точечный график стоимостей заказов');\n",
    "plt.show()"
   ]
  },
  {
   "cell_type": "markdown",
   "metadata": {},
   "source": [
    "**Вывод:**\n",
    "\n",
    "На графике отчетливо видно 2 выброса. Это могут быть единичные заказы, совершенные какими-то предприятиями, которые закупали товр в очень болих объемах."
   ]
  },
  {
   "cell_type": "code",
   "execution_count": 58,
   "metadata": {},
   "outputs": [
    {
     "data": {
      "image/png": "[encoded data removed]",
      "text/plain": [
       "<Figure size 720x720 with 1 Axes>"
      ]
     },
     "metadata": {},
     "output_type": "display_data"
    }
   ],
   "source": [
    "orders_clean = orders.query('revenue<200000')\n",
    "\n",
    "x_values = pd.Series(range(0,orders_clean['revenue'].count()))\n",
    "plt.figure(figsize=(10, 10))\n",
    "sns.scatterplot(x=x_values, y=\"revenue\", hue=\"group\",\n",
    "                     data=orders_clean)\n",
    "plt.title('Точечный график стоимостей заказов');"
   ]
  },
  {
   "cell_type": "markdown",
   "metadata": {},
   "source": [
    "### Посчитаем 95-й и 99-й перцентили стоимости заказов и выберем границу для определения аномальных заказов."
   ]
  },
  {
   "cell_type": "code",
   "execution_count": 59,
   "metadata": {},
   "outputs": [
    {
     "name": "stdout",
     "output_type": "stream",
     "text": [
      "90 перцентиль: 17990.00\n",
      "95 перцентиль: 26785.00\n",
      "99 перцентиль: 53904.00\n"
     ]
    }
   ],
   "source": [
    "print('90 перцентиль: %.2f' % (np.percentile(orders['revenue'], [90])))\n",
    "print('95 перцентиль: %.2f' % (np.percentile(orders['revenue'], [95])))\n",
    "print('99 перцентиль: %.2f' % (np.percentile(orders['revenue'], [99])))"
   ]
  },
  {
   "cell_type": "code",
   "execution_count": 60,
   "metadata": {},
   "outputs": [
    {
     "data": {
      "text/plain": [
       "1294500"
      ]
     },
     "execution_count": 60,
     "metadata": {},
     "output_type": "execute_result"
    }
   ],
   "source": [
    "#посмотрим максимальную сумму выручки заказа:\n",
    "\n",
    "orders['revenue'].max()"
   ]
  },
  {
   "cell_type": "code",
   "execution_count": 61,
   "metadata": {},
   "outputs": [
    {
     "data": {
      "text/plain": [
       "2955.0"
      ]
     },
     "execution_count": 61,
     "metadata": {},
     "output_type": "execute_result"
    }
   ],
   "source": [
    "#посмотрим на медианное значение:\n",
    "\n",
    "orders['revenue'].median()"
   ]
  },
  {
   "cell_type": "code",
   "execution_count": 62,
   "metadata": {},
   "outputs": [
    {
     "data": {
      "text/html": [
       "<div>\n",
       "<style scoped>\n",
       "    .dataframe tbody tr th:only-of-type {\n",
       "        vertical-align: middle;\n",
       "    }\n",
       "\n",
       "    .dataframe tbody tr th {\n",
       "        vertical-align: top;\n",
       "    }\n",
       "\n",
       "    .dataframe thead th {\n",
       "        text-align: right;\n",
       "    }\n",
       "</style>\n",
       "<table border=\"1\" class=\"dataframe\">\n",
       "  <thead>\n",
       "    <tr style=\"text-align: right;\">\n",
       "      <th></th>\n",
       "      <th>transaction_id</th>\n",
       "      <th>visitor_id</th>\n",
       "      <th>date</th>\n",
       "      <th>revenue</th>\n",
       "      <th>group</th>\n",
       "    </tr>\n",
       "  </thead>\n",
       "  <tbody>\n",
       "    <tr>\n",
       "      <th>425</th>\n",
       "      <td>590470918</td>\n",
       "      <td>1920142716</td>\n",
       "      <td>2019-08-19</td>\n",
       "      <td>1294500</td>\n",
       "      <td>B</td>\n",
       "    </tr>\n",
       "  </tbody>\n",
       "</table>\n",
       "</div>"
      ],
      "text/plain": [
       "     transaction_id  visitor_id       date  revenue group\n",
       "425  590470918       1920142716 2019-08-19  1294500  B   "
      ]
     },
     "execution_count": 62,
     "metadata": {},
     "output_type": "execute_result"
    }
   ],
   "source": [
    "#посмотрим на этот заказ:\n",
    "\n",
    "orders[orders['revenue'] == 1294500]"
   ]
  },
  {
   "cell_type": "code",
   "execution_count": 63,
   "metadata": {},
   "outputs": [
    {
     "data": {
      "text/html": [
       "<div>\n",
       "<style scoped>\n",
       "    .dataframe tbody tr th:only-of-type {\n",
       "        vertical-align: middle;\n",
       "    }\n",
       "\n",
       "    .dataframe tbody tr th {\n",
       "        vertical-align: top;\n",
       "    }\n",
       "\n",
       "    .dataframe thead th {\n",
       "        text-align: right;\n",
       "    }\n",
       "</style>\n",
       "<table border=\"1\" class=\"dataframe\">\n",
       "  <thead>\n",
       "    <tr style=\"text-align: right;\">\n",
       "      <th></th>\n",
       "      <th>transaction_id</th>\n",
       "      <th>visitor_id</th>\n",
       "      <th>date</th>\n",
       "      <th>revenue</th>\n",
       "      <th>group</th>\n",
       "    </tr>\n",
       "  </thead>\n",
       "  <tbody>\n",
       "    <tr>\n",
       "      <th>425</th>\n",
       "      <td>590470918</td>\n",
       "      <td>1920142716</td>\n",
       "      <td>2019-08-19</td>\n",
       "      <td>1294500</td>\n",
       "      <td>B</td>\n",
       "    </tr>\n",
       "  </tbody>\n",
       "</table>\n",
       "</div>"
      ],
      "text/plain": [
       "     transaction_id  visitor_id       date  revenue group\n",
       "425  590470918       1920142716 2019-08-19  1294500  B   "
      ]
     },
     "execution_count": 63,
     "metadata": {},
     "output_type": "execute_result"
    }
   ],
   "source": [
    "#посмотрим на историю заказов этого покупателя:\n",
    "\n",
    "orders[orders['visitor_id'] == 1920142716]"
   ]
  },
  {
   "cell_type": "markdown",
   "metadata": {},
   "source": [
    "**Вывод:**\n",
    "\n",
    "Похоже, что это была единоразовая, но очень крупная покупка на сумму 1 294 500 денежных единиц, в то время как медианное значение составляет 2 955 единиц.\n",
    "\n",
    "Все что за пределами 99 процентиля - является аномальными значениями.\n",
    "\n",
    "Аномалиями по числу заказов являются более 2 заказов, а аномалиями по стоимости заказов единоразовые покупки в размере все, что больше 53 900."
   ]
  },
  {
   "cell_type": "markdown",
   "metadata": {},
   "source": [
    "### Посчитаем статистическую значимость различий в конверсии между группами по «сырым» данным."
   ]
  },
  {
   "cell_type": "code",
   "execution_count": 67,
   "metadata": {},
   "outputs": [],
   "source": [
    "visitorsADaily = visitors[visitors['group'] == 'A'][['date', 'visitors']]\n",
    "visitorsADaily.columns = ['date', 'visitorsPerDateA']\n",
    "\n",
    "visitorsACummulative = visitorsADaily.apply(\n",
    "    lambda x: visitorsADaily[visitorsADaily['date'] <= x['date']].agg(\n",
    "        {'date': 'max', 'visitorsPerDateA': 'sum'}\n",
    "    ),\n",
    "    axis=1,\n",
    ")\n",
    "visitorsACummulative.columns = ['date', 'visitorsCummulativeA']\n",
    "\n",
    "visitorsBDaily = visitors[visitors['group'] == 'B'][['date', 'visitors']]\n",
    "visitorsBDaily.columns = ['date', 'visitorsPerDateB']\n",
    "\n",
    "visitorsBCummulative = visitorsBDaily.apply(\n",
    "    lambda x: visitorsBDaily[visitorsBDaily['date'] <= x['date']].agg(\n",
    "        {'date': 'max', 'visitorsPerDateB': 'sum'}\n",
    "    ),\n",
    "    axis=1,\n",
    ")\n",
    "visitorsBCummulative.columns = ['date', 'visitorsCummulativeB']\n",
    "\n",
    "ordersADaily = (\n",
    "    orders[orders['group'] == 'A'][['date', 'transaction_id', 'visitor_id', 'revenue']]\n",
    "    .groupby('date', as_index=False)\n",
    "    .agg({'transaction_id': pd.Series.nunique, 'revenue': 'sum'})\n",
    ")\n",
    "ordersADaily.columns = ['date', 'ordersPerDateA', 'revenuePerDateA']\n",
    "\n",
    "ordersACummulative = ordersADaily.apply(\n",
    "    lambda x: ordersADaily[ordersADaily['date'] <= x['date']].agg(\n",
    "        {'date': 'max', 'ordersPerDateA': 'sum', 'revenuePerDateA': 'sum'}\n",
    "    ),\n",
    "    axis=1,\n",
    ").sort_values(by=['date'])\n",
    "ordersACummulative.columns = [\n",
    "    'date',\n",
    "    'ordersCummulativeA',\n",
    "    'revenueCummulativeA',\n",
    "]\n",
    "\n",
    "ordersBDaily = (\n",
    "    orders[orders['group'] == 'B'][['date', 'transaction_id', 'visitor_id', 'revenue']]\n",
    "    .groupby('date', as_index=False)\n",
    "    .agg({'transaction_id': pd.Series.nunique, 'revenue': 'sum'})\n",
    ")\n",
    "ordersBDaily.columns = ['date', 'ordersPerDateB', 'revenuePerDateB']\n",
    "\n",
    "ordersBCummulative = ordersBDaily.apply(\n",
    "    lambda x: ordersBDaily[ordersBDaily['date'] <= x['date']].agg(\n",
    "        {'date': 'max', 'ordersPerDateB': 'sum', 'revenuePerDateB': 'sum'}\n",
    "    ),\n",
    "    axis=1,\n",
    ").sort_values(by=['date'])\n",
    "ordersBCummulative.columns = [\n",
    "    'date',\n",
    "    'ordersCummulativeB',\n",
    "    'revenueCummulativeB',\n",
    "]\n",
    "\n",
    "cummulative = (\n",
    "    ordersADaily.merge(\n",
    "        ordersBDaily, left_on='date', right_on='date', how='left'\n",
    "    )\n",
    "    .merge(ordersACummulative, left_on='date', right_on='date', how='left')\n",
    "    .merge(ordersBCummulative, left_on='date', right_on='date', how='left')\n",
    "    .merge(visitorsADaily, left_on='date', right_on='date', how='left')\n",
    "    .merge(visitorsBDaily, left_on='date', right_on='date', how='left')\n",
    "    .merge(visitorsACummulative, left_on='date', right_on='date', how='left')\n",
    "    .merge(visitorsBCummulative, left_on='date', right_on='date', how='left')\n",
    ")"
   ]
  },
  {
   "cell_type": "code",
   "execution_count": 68,
   "metadata": {},
   "outputs": [],
   "source": [
    "ordersByUsersA = (\n",
    "    orders[orders['group'] == 'A']\n",
    "    .groupby('visitor_id', as_index=False)\n",
    "    .agg({'transaction_id': pd.Series.nunique})\n",
    ")\n",
    "ordersByUsersA.columns = ['userId', 'orders']\n",
    "\n",
    "ordersByUsersB = (\n",
    "    orders[orders['group'] == 'B']\n",
    "    .groupby('visitor_id', as_index=False)\n",
    "    .agg({'transaction_id': pd.Series.nunique})\n",
    ")\n",
    "ordersByUsersB.columns = ['userId', 'orders']\n",
    "\n",
    "sampleA = pd.concat(\n",
    "    [\n",
    "        ordersByUsersA['orders'],\n",
    "        pd.Series(\n",
    "            0,\n",
    "            index=np.arange(\n",
    "                cummulative['visitorsPerDateA'].sum() - len(ordersByUsersA['orders'])\n",
    "            ),\n",
    "            name='orders',\n",
    "        ),\n",
    "    ],\n",
    "    axis=0,\n",
    ")\n",
    "\n",
    "sampleB = pd.concat(\n",
    "    [\n",
    "        ordersByUsersB['orders'],\n",
    "        pd.Series(\n",
    "            0,\n",
    "            index=np.arange(\n",
    "                cummulative['visitorsPerDateB'].sum() - len(ordersByUsersB['orders'])\n",
    "            ),\n",
    "            name='orders',\n",
    "        ),\n",
    "    ],\n",
    "    axis=0,\n",
    ")"
   ]
  },
  {
   "cell_type": "markdown",
   "metadata": {},
   "source": [
    "Воспользуемся **критерием Манна-Уитни** для разности двух долей. Сформулируем гипотезы.\n",
    "\n",
    "**H0:** Конверсия в группе A равна конверсии в группе B\n",
    "\n",
    "**H1:** Конверсия в группе A не равна конверсии в группе B"
   ]
  },
  {
   "cell_type": "code",
   "execution_count": 69,
   "metadata": {},
   "outputs": [
    {
     "name": "stdout",
     "output_type": "stream",
     "text": [
      "0.011\n",
      "0.160\n"
     ]
    }
   ],
   "source": [
    "print(\"{0:.3f}\".format(stats.mannwhitneyu(sampleA, sampleB)[1]))\n",
    "\n",
    "print(\"{0:.3f}\".format(sampleB.mean() / sampleA.mean() - 1))"
   ]
  },
  {
   "cell_type": "markdown",
   "metadata": {},
   "source": [
    "Подтвердилась гипотеза, что конверсия в группе A не равна конверсии в группе B."
   ]
  },
  {
   "cell_type": "markdown",
   "metadata": {},
   "source": [
    "**Вывод**\n",
    "\n",
    "Как мы видим, конверсия группы В действительно больше. Статистическая значимость присутствует."
   ]
  },
  {
   "cell_type": "markdown",
   "metadata": {},
   "source": [
    "### Посчитаем статистическую значимость различий в среднем чеке заказа между группами по «сырым» данным."
   ]
  },
  {
   "cell_type": "markdown",
   "metadata": {},
   "source": [
    "Воспользуемся критерием Манна-Уитни. Сформулируем гипотезы.\n",
    "\n",
    "**H0:** Средний чек заказов для групп A и В совпадает\n",
    "\n",
    "**H1:** Средний чек заказов для групп A и В различаются"
   ]
  },
  {
   "cell_type": "code",
   "execution_count": 70,
   "metadata": {},
   "outputs": [
    {
     "name": "stdout",
     "output_type": "stream",
     "text": [
      "0.829\n",
      "0.287\n"
     ]
    }
   ],
   "source": [
    "print('{0:.3f}'.format(stats.mannwhitneyu(orders[orders['group']=='A']['revenue'], orders[orders['group']=='B']['revenue'])[1]))\n",
    "print('{0:.3f}'.format(orders[orders['group']=='B']['revenue'].mean()/orders[orders['group']=='A']['revenue'].mean()-1)) "
   ]
  },
  {
   "cell_type": "code",
   "execution_count": 71,
   "metadata": {},
   "outputs": [
    {
     "name": "stdout",
     "output_type": "stream",
     "text": [
      "0.287\n",
      "-0.062\n"
     ]
    }
   ],
   "source": [
    "# относительное различие средних\n",
    "print(\"{0:.3f}\".format(orders[orders['group']=='B']['revenue'].mean()/orders[orders['group']=='A']['revenue'].mean()-1))\n",
    "\n",
    "# относительное различие медиан\n",
    "print(\"{0:.3f}\".format(orders[orders['group']=='B']['revenue'].median()/orders[orders['group']=='A']['revenue'].median()-1))"
   ]
  },
  {
   "cell_type": "markdown",
   "metadata": {},
   "source": [
    "**Вывод**\n",
    "\n",
    "Средний чек группы В оказался больше. Но в данном случае мы не можем говорить о статистически-значимой разнице."
   ]
  },
  {
   "cell_type": "markdown",
   "metadata": {},
   "source": [
    "### Посчитаем статистическую значимость различий в конверсии между группами по «очищенным» данным."
   ]
  },
  {
   "cell_type": "code",
   "execution_count": 73,
   "metadata": {},
   "outputs": [],
   "source": [
    "usersWithManyOrders = pd.concat(\n",
    "    [\n",
    "        ordersByUsersA[ordersByUsersA['orders'] > 2]['userId'],\n",
    "        ordersByUsersB[ordersByUsersB['orders'] > 2]['userId'],\n",
    "    ],\n",
    "    axis=0,\n",
    ")\n",
    "\n",
    "#usersWithExpensiveOrders = orders[orders['revenue'] > np.percentile(orders['revenue'], [99])]['visitor_id']\n",
    "usersWithExpensiveOrders = orders[orders['revenue'] > 53904]['visitor_id']\n",
    "abnormalUsers = (\n",
    "    pd.concat([usersWithManyOrders, usersWithExpensiveOrders], axis=0)\n",
    "    .drop_duplicates()\n",
    "    .sort_values()\n",
    ")"
   ]
  },
  {
   "cell_type": "code",
   "execution_count": 74,
   "metadata": {},
   "outputs": [],
   "source": [
    "sampleAFiltered = pd.concat(\n",
    "    [\n",
    "        ordersByUsersA[\n",
    "            np.logical_not(ordersByUsersA['userId'].isin(abnormalUsers))\n",
    "        ]['orders'],\n",
    "        pd.Series(\n",
    "            0,\n",
    "            index=np.arange(\n",
    "                cummulative['visitorsPerDateA'].sum() - len(ordersByUsersA['orders'])\n",
    "            ),\n",
    "            name='orders',\n",
    "        ),\n",
    "    ],\n",
    "    axis=0,\n",
    ")\n",
    "\n",
    "sampleBFiltered = pd.concat(\n",
    "    [\n",
    "        ordersByUsersB[\n",
    "            np.logical_not(ordersByUsersB['userId'].isin(abnormalUsers))\n",
    "        ]['orders'],\n",
    "        pd.Series(\n",
    "            0,\n",
    "            index=np.arange(\n",
    "                cummulative['visitorsPerDateB'].sum() - len(ordersByUsersB['orders'])\n",
    "            ),\n",
    "            name='orders',\n",
    "        ),\n",
    "    ],\n",
    "    axis=0,\n",
    ") "
   ]
  },
  {
   "cell_type": "markdown",
   "metadata": {},
   "source": [
    "Воспользуемся **критерием Манна-Уитни** для разности двух долей. Сформулируем гипотезы.\n",
    "\n",
    "**H0:** Конверсия в группе A равна конверсии в группе B\n",
    "\n",
    "**H1:** Конверсия в группе A не равна конверсии в группе B"
   ]
  },
  {
   "cell_type": "code",
   "execution_count": 75,
   "metadata": {},
   "outputs": [
    {
     "name": "stdout",
     "output_type": "stream",
     "text": [
      "0.007\n",
      "0.189\n"
     ]
    }
   ],
   "source": [
    "print('{0:.3f}'.format(stats.mannwhitneyu(sampleAFiltered, sampleBFiltered)[1]))\n",
    "print('{0:.3f}'.format(sampleBFiltered.mean()/sampleAFiltered.mean()-1)) "
   ]
  },
  {
   "cell_type": "markdown",
   "metadata": {},
   "source": [
    "**Вывод:**\n",
    "\n",
    "В отчищенных данных конверсия группы В снова превышает конверсию группы А со стататистической значимостью."
   ]
  },
  {
   "cell_type": "markdown",
   "metadata": {},
   "source": [
    "### Посчитаем статистическую значимость различий в среднем чеке заказа между группами по «очищенным» данным."
   ]
  },
  {
   "cell_type": "markdown",
   "metadata": {},
   "source": [
    "Воспользуемся критерием Манна-Уитни. Сформулируем гипотезы.\n",
    "\n",
    "**H0:** Средний чек заказов для групп A и В совпадает\n",
    "\n",
    "**H1:** Средний чек заказов для групп A и В различаются"
   ]
  },
  {
   "cell_type": "code",
   "execution_count": 77,
   "metadata": {},
   "outputs": [
    {
     "name": "stdout",
     "output_type": "stream",
     "text": [
      "0.788\n",
      "-0.032\n"
     ]
    }
   ],
   "source": [
    "print(\n",
    "    '{0:.3f}'.format(\n",
    "        stats.mannwhitneyu(\n",
    "            orders[\n",
    "                np.logical_and(\n",
    "                    orders['group'] == 'A',\n",
    "                    np.logical_not(orders['visitor_id'].isin(abnormalUsers)),\n",
    "                )\n",
    "            ]['revenue'],\n",
    "            orders[\n",
    "                np.logical_and(\n",
    "                    orders['group'] == 'B',\n",
    "                    np.logical_not(orders['visitor_id'].isin(abnormalUsers)),\n",
    "                )\n",
    "            ]['revenue'],\n",
    "        )[1]\n",
    "    )\n",
    ")\n",
    "\n",
    "print(\n",
    "    \"{0:.3f}\".format(\n",
    "        orders[\n",
    "            np.logical_and(\n",
    "                orders['group'] == 'B',\n",
    "                np.logical_not(orders['visitor_id'].isin(abnormalUsers)),\n",
    "            )\n",
    "        ]['revenue'].mean()\n",
    "        / orders[\n",
    "            np.logical_and(\n",
    "                orders['group'] == 'A',\n",
    "                np.logical_not(orders['visitor_id'].isin(abnormalUsers)),\n",
    "            )\n",
    "        ]['revenue'].mean()\n",
    "        - 1\n",
    "    )\n",
    ")"
   ]
  },
  {
   "cell_type": "markdown",
   "metadata": {},
   "source": [
    "**Вывод:**\n",
    "\n",
    "0.321 это явно больше, чем уровень значимости, значит статистически значимых отличий нет (Н0 не отвергается)"
   ]
  },
  {
   "cell_type": "markdown",
   "metadata": {},
   "source": [
    "## Решение по результатам теста."
   ]
  },
  {
   "cell_type": "markdown",
   "metadata": {},
   "source": [
    "**Новый вывод**\n",
    "\n",
    "Данный тест можно остановить и считать успешно проведенным. \n",
    "\n",
    "Конверсия из пользователя в покупателя у группы B статистически значимо выше, чем у группы A. При этом средний чек между группами не отличается.\n",
    "\n",
    "Помимо этого, в процессе работы с данными было выяснено, что некоторые пользователи от сессии к сессии могли видеть как одну версию сайта, так и другую, что нарушает один из основных принцип работы A/B-теста - один пользователь видит только одну версию на всём протяжении теста.\n",
    "\n",
    "В связи с этим, нам необходимо проверить корректность отработки метода показа пользователям одной или другой версии сайта и поправить его, чтобы одному и тому же пользователю показывалась только та версия сайта, которую он увидел при первом визите."
   ]
  }
 ],
 "metadata": {
  "ExecuteTimeLog": [
   {
    "duration": 1122,
    "start_time": "2022-02-23T08:20:00.219Z"
   },
   {
    "duration": 4,
    "start_time": "2022-02-23T08:20:38.373Z"
   },
   {
    "duration": 41,
    "start_time": "2022-02-23T08:21:33.353Z"
   },
   {
    "duration": 13,
    "start_time": "2022-02-23T08:25:07.338Z"
   },
   {
    "duration": 8,
    "start_time": "2022-02-23T08:25:45.862Z"
   },
   {
    "duration": 3,
    "start_time": "2022-02-23T08:27:59.478Z"
   },
   {
    "duration": 8,
    "start_time": "2022-02-23T08:28:59.077Z"
   },
   {
    "duration": 6,
    "start_time": "2022-02-23T08:29:08.079Z"
   },
   {
    "duration": 17,
    "start_time": "2022-02-23T08:29:43.028Z"
   },
   {
    "duration": 9,
    "start_time": "2022-02-23T08:30:27.044Z"
   },
   {
    "duration": 261,
    "start_time": "2022-02-23T08:31:14.506Z"
   },
   {
    "duration": 6,
    "start_time": "2022-02-23T08:31:26.779Z"
   },
   {
    "duration": 6,
    "start_time": "2022-02-23T08:32:58.090Z"
   },
   {
    "duration": 8,
    "start_time": "2022-02-23T08:34:47.886Z"
   },
   {
    "duration": 8,
    "start_time": "2022-02-23T08:34:54.567Z"
   },
   {
    "duration": 6,
    "start_time": "2022-02-23T09:01:14.079Z"
   },
   {
    "duration": 6,
    "start_time": "2022-02-23T09:01:17.950Z"
   },
   {
    "duration": 6,
    "start_time": "2022-02-23T09:01:26.254Z"
   },
   {
    "duration": 5,
    "start_time": "2022-02-23T09:06:15.409Z"
   },
   {
    "duration": 7,
    "start_time": "2022-02-23T09:06:16.971Z"
   },
   {
    "duration": 4,
    "start_time": "2022-02-23T09:07:15.307Z"
   },
   {
    "duration": 8,
    "start_time": "2022-02-23T09:09:26.368Z"
   },
   {
    "duration": 7,
    "start_time": "2022-02-23T09:10:06.960Z"
   },
   {
    "duration": 5,
    "start_time": "2022-02-23T09:12:12.336Z"
   },
   {
    "duration": 6,
    "start_time": "2022-02-23T09:13:04.819Z"
   },
   {
    "duration": 11,
    "start_time": "2022-02-23T09:27:53.253Z"
   },
   {
    "duration": 14,
    "start_time": "2022-02-23T09:29:10.171Z"
   },
   {
    "duration": 8,
    "start_time": "2022-02-23T09:29:24.654Z"
   },
   {
    "duration": 6,
    "start_time": "2022-02-23T09:30:07.098Z"
   },
   {
    "duration": 5,
    "start_time": "2022-02-23T09:30:25.874Z"
   },
   {
    "duration": 3,
    "start_time": "2022-02-23T09:35:39.639Z"
   },
   {
    "duration": 8,
    "start_time": "2022-02-23T09:36:25.878Z"
   },
   {
    "duration": 3,
    "start_time": "2022-02-23T09:36:51.096Z"
   },
   {
    "duration": 12,
    "start_time": "2022-02-23T09:36:52.372Z"
   },
   {
    "duration": 6,
    "start_time": "2022-02-23T09:38:00.077Z"
   },
   {
    "duration": 7,
    "start_time": "2022-02-23T09:39:48.403Z"
   },
   {
    "duration": 5,
    "start_time": "2022-02-23T09:40:30.996Z"
   },
   {
    "duration": 10,
    "start_time": "2022-02-23T09:43:50.040Z"
   },
   {
    "duration": 11,
    "start_time": "2022-02-23T09:44:02.422Z"
   },
   {
    "duration": 3,
    "start_time": "2022-02-23T09:45:12.855Z"
   },
   {
    "duration": 5,
    "start_time": "2022-02-23T09:45:19.151Z"
   },
   {
    "duration": 11,
    "start_time": "2022-02-23T09:45:28.472Z"
   },
   {
    "duration": 8,
    "start_time": "2022-02-23T09:55:18.592Z"
   },
   {
    "duration": 71,
    "start_time": "2022-02-23T10:06:58.689Z"
   },
   {
    "duration": 53,
    "start_time": "2022-02-23T10:07:43.007Z"
   },
   {
    "duration": 6,
    "start_time": "2022-02-23T10:09:25.341Z"
   },
   {
    "duration": 11,
    "start_time": "2022-02-23T10:09:29.693Z"
   },
   {
    "duration": 473,
    "start_time": "2022-02-23T10:09:52.807Z"
   },
   {
    "duration": 5,
    "start_time": "2022-02-23T10:20:44.796Z"
   },
   {
    "duration": 11,
    "start_time": "2022-02-23T10:20:50.213Z"
   },
   {
    "duration": 454,
    "start_time": "2022-02-23T10:21:09.830Z"
   },
   {
    "duration": 11,
    "start_time": "2022-02-23T10:25:50.523Z"
   },
   {
    "duration": 204,
    "start_time": "2022-02-24T05:43:45.690Z"
   },
   {
    "duration": 1204,
    "start_time": "2022-02-24T05:43:51.366Z"
   },
   {
    "duration": 3,
    "start_time": "2022-02-24T05:43:52.572Z"
   },
   {
    "duration": 79,
    "start_time": "2022-02-24T05:43:52.577Z"
   },
   {
    "duration": 11,
    "start_time": "2022-02-24T05:43:52.658Z"
   },
   {
    "duration": 8,
    "start_time": "2022-02-24T05:43:52.671Z"
   },
   {
    "duration": 14,
    "start_time": "2022-02-24T05:43:52.680Z"
   },
   {
    "duration": 11,
    "start_time": "2022-02-24T05:43:52.696Z"
   },
   {
    "duration": 9,
    "start_time": "2022-02-24T05:43:52.711Z"
   },
   {
    "duration": 9,
    "start_time": "2022-02-24T05:43:52.722Z"
   },
   {
    "duration": 6,
    "start_time": "2022-02-24T05:43:52.733Z"
   },
   {
    "duration": 9,
    "start_time": "2022-02-24T05:43:52.759Z"
   },
   {
    "duration": 5,
    "start_time": "2022-02-24T05:43:52.770Z"
   },
   {
    "duration": 9,
    "start_time": "2022-02-24T05:43:52.777Z"
   },
   {
    "duration": 7,
    "start_time": "2022-02-24T05:43:52.788Z"
   },
   {
    "duration": 7,
    "start_time": "2022-02-24T05:43:52.796Z"
   },
   {
    "duration": 5,
    "start_time": "2022-02-24T05:43:52.805Z"
   },
   {
    "duration": 11,
    "start_time": "2022-02-24T05:43:52.812Z"
   },
   {
    "duration": 44,
    "start_time": "2022-02-24T05:43:52.825Z"
   },
   {
    "duration": 8,
    "start_time": "2022-02-24T05:43:52.871Z"
   },
   {
    "duration": 3,
    "start_time": "2022-02-24T05:43:52.881Z"
   },
   {
    "duration": 6,
    "start_time": "2022-02-24T05:43:52.885Z"
   },
   {
    "duration": 11,
    "start_time": "2022-02-24T05:43:52.893Z"
   },
   {
    "duration": 5,
    "start_time": "2022-02-24T05:43:52.907Z"
   },
   {
    "duration": 15,
    "start_time": "2022-02-24T05:43:52.913Z"
   },
   {
    "duration": 532,
    "start_time": "2022-02-24T05:43:52.929Z"
   },
   {
    "duration": 5,
    "start_time": "2022-02-24T05:43:53.462Z"
   },
   {
    "duration": 13,
    "start_time": "2022-02-24T05:43:53.468Z"
   },
   {
    "duration": 467,
    "start_time": "2022-02-24T05:43:53.482Z"
   },
   {
    "duration": 11,
    "start_time": "2022-02-24T05:43:53.951Z"
   },
   {
    "duration": 21,
    "start_time": "2022-02-24T05:43:53.964Z"
   },
   {
    "duration": 13,
    "start_time": "2022-02-24T05:45:25.027Z"
   },
   {
    "duration": 10,
    "start_time": "2022-02-24T05:45:34.261Z"
   },
   {
    "duration": 5,
    "start_time": "2022-02-24T05:45:41.579Z"
   },
   {
    "duration": 5,
    "start_time": "2022-02-24T05:45:49.250Z"
   },
   {
    "duration": 14,
    "start_time": "2022-02-24T05:46:42.610Z"
   },
   {
    "duration": 8,
    "start_time": "2022-02-24T05:47:32.093Z"
   },
   {
    "duration": 356,
    "start_time": "2022-02-24T05:47:41.811Z"
   },
   {
    "duration": 7,
    "start_time": "2022-02-24T05:53:03.344Z"
   },
   {
    "duration": 8,
    "start_time": "2022-02-24T05:53:11.933Z"
   },
   {
    "duration": 369,
    "start_time": "2022-02-24T05:53:14.839Z"
   },
   {
    "duration": 9,
    "start_time": "2022-02-24T05:54:30.109Z"
   },
   {
    "duration": 476,
    "start_time": "2022-02-24T05:54:39.268Z"
   },
   {
    "duration": 7,
    "start_time": "2022-02-24T05:55:35.725Z"
   },
   {
    "duration": 366,
    "start_time": "2022-02-24T05:56:05.637Z"
   },
   {
    "duration": 8,
    "start_time": "2022-02-24T05:57:45.883Z"
   },
   {
    "duration": 464,
    "start_time": "2022-02-24T05:57:55.555Z"
   },
   {
    "duration": 12,
    "start_time": "2022-02-24T05:59:21.745Z"
   },
   {
    "duration": 484,
    "start_time": "2022-02-24T05:59:43.337Z"
   },
   {
    "duration": 6,
    "start_time": "2022-02-24T06:01:46.857Z"
   },
   {
    "duration": 5,
    "start_time": "2022-02-24T06:01:56.464Z"
   },
   {
    "duration": 6,
    "start_time": "2022-02-24T06:02:05.874Z"
   },
   {
    "duration": 4,
    "start_time": "2022-02-24T06:02:40.897Z"
   },
   {
    "duration": 424,
    "start_time": "2022-02-24T06:03:38.135Z"
   },
   {
    "duration": 7,
    "start_time": "2022-02-24T06:04:52.966Z"
   },
   {
    "duration": 5,
    "start_time": "2022-02-24T06:05:02.167Z"
   },
   {
    "duration": 5,
    "start_time": "2022-02-24T06:05:24.446Z"
   },
   {
    "duration": 9,
    "start_time": "2022-02-24T06:05:35.224Z"
   },
   {
    "duration": 9,
    "start_time": "2022-02-24T06:05:58.598Z"
   },
   {
    "duration": 11,
    "start_time": "2022-02-24T06:07:17.212Z"
   },
   {
    "duration": 4,
    "start_time": "2022-02-24T06:07:25.916Z"
   },
   {
    "duration": 8,
    "start_time": "2022-02-24T06:07:30.173Z"
   },
   {
    "duration": 10,
    "start_time": "2022-02-24T06:08:30.332Z"
   },
   {
    "duration": 9,
    "start_time": "2022-02-24T06:08:47.323Z"
   },
   {
    "duration": 9,
    "start_time": "2022-02-24T06:10:53.113Z"
   },
   {
    "duration": 7,
    "start_time": "2022-02-24T06:11:06.195Z"
   },
   {
    "duration": 8,
    "start_time": "2022-02-24T06:11:35.128Z"
   },
   {
    "duration": 12,
    "start_time": "2022-02-24T06:12:48.841Z"
   },
   {
    "duration": 7,
    "start_time": "2022-02-24T06:13:32.313Z"
   },
   {
    "duration": 6,
    "start_time": "2022-02-24T06:14:33.304Z"
   },
   {
    "duration": 9,
    "start_time": "2022-02-24T06:15:11.607Z"
   },
   {
    "duration": 8,
    "start_time": "2022-02-24T06:15:21.103Z"
   },
   {
    "duration": 7,
    "start_time": "2022-02-24T06:18:14.957Z"
   },
   {
    "duration": 1149,
    "start_time": "2022-02-24T06:18:38.265Z"
   },
   {
    "duration": 3,
    "start_time": "2022-02-24T06:18:39.416Z"
   },
   {
    "duration": 71,
    "start_time": "2022-02-24T06:18:39.421Z"
   },
   {
    "duration": 11,
    "start_time": "2022-02-24T06:18:39.494Z"
   },
   {
    "duration": 5,
    "start_time": "2022-02-24T06:18:39.506Z"
   },
   {
    "duration": 9,
    "start_time": "2022-02-24T06:18:39.512Z"
   },
   {
    "duration": 11,
    "start_time": "2022-02-24T06:18:39.522Z"
   },
   {
    "duration": 10,
    "start_time": "2022-02-24T06:18:39.535Z"
   },
   {
    "duration": 14,
    "start_time": "2022-02-24T06:18:39.547Z"
   },
   {
    "duration": 4,
    "start_time": "2022-02-24T06:18:39.563Z"
   },
   {
    "duration": 9,
    "start_time": "2022-02-24T06:18:39.569Z"
   },
   {
    "duration": 13,
    "start_time": "2022-02-24T06:18:39.579Z"
   },
   {
    "duration": 12,
    "start_time": "2022-02-24T06:18:39.594Z"
   },
   {
    "duration": 14,
    "start_time": "2022-02-24T06:18:39.608Z"
   },
   {
    "duration": 11,
    "start_time": "2022-02-24T06:18:39.624Z"
   },
   {
    "duration": 11,
    "start_time": "2022-02-24T06:18:39.637Z"
   },
   {
    "duration": 9,
    "start_time": "2022-02-24T06:18:39.650Z"
   },
   {
    "duration": 11,
    "start_time": "2022-02-24T06:18:39.661Z"
   },
   {
    "duration": 9,
    "start_time": "2022-02-24T06:18:39.674Z"
   },
   {
    "duration": 4,
    "start_time": "2022-02-24T06:18:39.684Z"
   },
   {
    "duration": 6,
    "start_time": "2022-02-24T06:18:39.690Z"
   },
   {
    "duration": 11,
    "start_time": "2022-02-24T06:18:39.698Z"
   },
   {
    "duration": 5,
    "start_time": "2022-02-24T06:18:39.711Z"
   },
   {
    "duration": 47,
    "start_time": "2022-02-24T06:18:39.718Z"
   },
   {
    "duration": 507,
    "start_time": "2022-02-24T06:18:39.767Z"
   },
   {
    "duration": 5,
    "start_time": "2022-02-24T06:18:40.276Z"
   },
   {
    "duration": 10,
    "start_time": "2022-02-24T06:18:40.285Z"
   },
   {
    "duration": 489,
    "start_time": "2022-02-24T06:18:40.298Z"
   },
   {
    "duration": 8,
    "start_time": "2022-02-24T06:18:40.789Z"
   },
   {
    "duration": 23,
    "start_time": "2022-02-24T06:18:40.799Z"
   },
   {
    "duration": 10,
    "start_time": "2022-02-24T06:18:40.824Z"
   },
   {
    "duration": 30,
    "start_time": "2022-02-24T06:18:40.836Z"
   },
   {
    "duration": 5,
    "start_time": "2022-02-24T06:18:40.867Z"
   },
   {
    "duration": 19,
    "start_time": "2022-02-24T06:18:40.874Z"
   },
   {
    "duration": 16,
    "start_time": "2022-02-24T06:18:40.895Z"
   },
   {
    "duration": 8,
    "start_time": "2022-02-24T06:18:40.913Z"
   },
   {
    "duration": 378,
    "start_time": "2022-02-24T06:18:40.923Z"
   },
   {
    "duration": 9,
    "start_time": "2022-02-24T06:18:41.303Z"
   },
   {
    "duration": 383,
    "start_time": "2022-02-24T06:18:41.313Z"
   },
   {
    "duration": 8,
    "start_time": "2022-02-24T06:18:41.698Z"
   },
   {
    "duration": 431,
    "start_time": "2022-02-24T06:18:41.707Z"
   },
   {
    "duration": 7,
    "start_time": "2022-02-24T06:18:42.140Z"
   },
   {
    "duration": 367,
    "start_time": "2022-02-24T06:18:42.148Z"
   },
   {
    "duration": 8,
    "start_time": "2022-02-24T06:18:42.517Z"
   },
   {
    "duration": 476,
    "start_time": "2022-02-24T06:18:42.526Z"
   },
   {
    "duration": 11,
    "start_time": "2022-02-24T06:18:43.004Z"
   },
   {
    "duration": 519,
    "start_time": "2022-02-24T06:18:43.017Z"
   },
   {
    "duration": 6,
    "start_time": "2022-02-24T06:18:43.538Z"
   },
   {
    "duration": 15,
    "start_time": "2022-02-24T06:18:43.545Z"
   },
   {
    "duration": 8,
    "start_time": "2022-02-24T06:18:43.562Z"
   },
   {
    "duration": 9,
    "start_time": "2022-02-24T06:18:43.572Z"
   },
   {
    "duration": 432,
    "start_time": "2022-02-24T06:18:43.583Z"
   },
   {
    "duration": 7,
    "start_time": "2022-02-24T06:18:44.017Z"
   },
   {
    "duration": 6,
    "start_time": "2022-02-24T06:18:44.025Z"
   },
   {
    "duration": 26,
    "start_time": "2022-02-24T06:18:44.033Z"
   },
   {
    "duration": 8,
    "start_time": "2022-02-24T06:18:44.061Z"
   },
   {
    "duration": 10,
    "start_time": "2022-02-24T06:18:44.071Z"
   },
   {
    "duration": 10,
    "start_time": "2022-02-24T06:18:44.082Z"
   },
   {
    "duration": 6,
    "start_time": "2022-02-24T06:18:44.094Z"
   },
   {
    "duration": 17,
    "start_time": "2022-02-24T06:18:44.101Z"
   },
   {
    "duration": 9,
    "start_time": "2022-02-24T06:18:44.120Z"
   },
   {
    "duration": 30,
    "start_time": "2022-02-24T06:18:44.130Z"
   },
   {
    "duration": 8,
    "start_time": "2022-02-24T06:18:44.162Z"
   },
   {
    "duration": 10,
    "start_time": "2022-02-24T06:18:44.171Z"
   },
   {
    "duration": 14,
    "start_time": "2022-02-24T06:18:44.183Z"
   },
   {
    "duration": 7,
    "start_time": "2022-02-24T06:18:44.199Z"
   },
   {
    "duration": 12,
    "start_time": "2022-02-24T06:18:44.207Z"
   },
   {
    "duration": 9,
    "start_time": "2022-02-24T06:18:44.220Z"
   },
   {
    "duration": 28,
    "start_time": "2022-02-24T06:18:44.231Z"
   },
   {
    "duration": 1495,
    "start_time": "2022-02-24T14:12:11.654Z"
   },
   {
    "duration": 5,
    "start_time": "2022-02-24T14:12:13.151Z"
   },
   {
    "duration": 48,
    "start_time": "2022-02-24T14:12:13.161Z"
   },
   {
    "duration": 16,
    "start_time": "2022-02-24T14:12:13.211Z"
   },
   {
    "duration": 5,
    "start_time": "2022-02-24T14:12:13.229Z"
   },
   {
    "duration": 10,
    "start_time": "2022-02-24T14:12:13.236Z"
   },
   {
    "duration": 17,
    "start_time": "2022-02-24T14:12:13.248Z"
   },
   {
    "duration": 12,
    "start_time": "2022-02-24T14:12:13.271Z"
   },
   {
    "duration": 21,
    "start_time": "2022-02-24T14:12:13.286Z"
   },
   {
    "duration": 5,
    "start_time": "2022-02-24T14:12:13.310Z"
   },
   {
    "duration": 16,
    "start_time": "2022-02-24T14:12:13.317Z"
   },
   {
    "duration": 29,
    "start_time": "2022-02-24T14:12:13.336Z"
   },
   {
    "duration": 12,
    "start_time": "2022-02-24T14:12:13.368Z"
   },
   {
    "duration": 12,
    "start_time": "2022-02-24T14:12:13.382Z"
   },
   {
    "duration": 18,
    "start_time": "2022-02-24T14:12:13.396Z"
   },
   {
    "duration": 13,
    "start_time": "2022-02-24T14:12:13.416Z"
   },
   {
    "duration": 30,
    "start_time": "2022-02-24T14:12:13.432Z"
   },
   {
    "duration": 18,
    "start_time": "2022-02-24T14:12:13.465Z"
   },
   {
    "duration": 13,
    "start_time": "2022-02-24T14:12:13.485Z"
   },
   {
    "duration": 7,
    "start_time": "2022-02-24T14:12:13.500Z"
   },
   {
    "duration": 9,
    "start_time": "2022-02-24T14:12:13.509Z"
   },
   {
    "duration": 49,
    "start_time": "2022-02-24T14:12:13.521Z"
   },
   {
    "duration": 6,
    "start_time": "2022-02-24T14:12:13.573Z"
   },
   {
    "duration": 14,
    "start_time": "2022-02-24T14:12:13.581Z"
   },
   {
    "duration": 769,
    "start_time": "2022-02-24T14:12:13.597Z"
   },
   {
    "duration": 6,
    "start_time": "2022-02-24T14:12:14.373Z"
   },
   {
    "duration": 15,
    "start_time": "2022-02-24T14:12:14.383Z"
   },
   {
    "duration": 778,
    "start_time": "2022-02-24T14:12:14.401Z"
   },
   {
    "duration": 11,
    "start_time": "2022-02-24T14:12:15.182Z"
   },
   {
    "duration": 42,
    "start_time": "2022-02-24T14:12:15.195Z"
   },
   {
    "duration": 29,
    "start_time": "2022-02-24T14:12:15.239Z"
   },
   {
    "duration": 17,
    "start_time": "2022-02-24T14:12:15.270Z"
   },
   {
    "duration": 24,
    "start_time": "2022-02-24T14:12:15.289Z"
   },
   {
    "duration": 22,
    "start_time": "2022-02-24T14:12:15.316Z"
   },
   {
    "duration": 34,
    "start_time": "2022-02-24T14:12:15.341Z"
   },
   {
    "duration": 12,
    "start_time": "2022-02-24T14:12:15.377Z"
   },
   {
    "duration": 599,
    "start_time": "2022-02-24T14:12:15.391Z"
   },
   {
    "duration": 11,
    "start_time": "2022-02-24T14:12:15.992Z"
   },
   {
    "duration": 572,
    "start_time": "2022-02-24T14:12:16.005Z"
   },
   {
    "duration": 12,
    "start_time": "2022-02-24T14:12:16.580Z"
   },
   {
    "duration": 654,
    "start_time": "2022-02-24T14:12:16.594Z"
   },
   {
    "duration": 14,
    "start_time": "2022-02-24T14:12:17.250Z"
   },
   {
    "duration": 585,
    "start_time": "2022-02-24T14:12:17.267Z"
   },
   {
    "duration": 16,
    "start_time": "2022-02-24T14:12:17.855Z"
   },
   {
    "duration": 651,
    "start_time": "2022-02-24T14:12:17.874Z"
   },
   {
    "duration": 15,
    "start_time": "2022-02-24T14:12:18.527Z"
   },
   {
    "duration": 727,
    "start_time": "2022-02-24T14:12:18.561Z"
   },
   {
    "duration": 7,
    "start_time": "2022-02-24T14:12:19.290Z"
   },
   {
    "duration": 11,
    "start_time": "2022-02-24T14:12:19.300Z"
   },
   {
    "duration": 10,
    "start_time": "2022-02-24T14:12:19.314Z"
   },
   {
    "duration": 34,
    "start_time": "2022-02-24T14:12:19.327Z"
   },
   {
    "duration": 659,
    "start_time": "2022-02-24T14:12:19.364Z"
   },
   {
    "duration": 8,
    "start_time": "2022-02-24T14:12:20.026Z"
   },
   {
    "duration": 41,
    "start_time": "2022-02-24T14:12:20.037Z"
   },
   {
    "duration": 31,
    "start_time": "2022-02-24T14:12:20.086Z"
   },
   {
    "duration": 147,
    "start_time": "2022-02-24T14:12:20.120Z"
   },
   {
    "duration": 107,
    "start_time": "2022-02-24T14:12:20.270Z"
   },
   {
    "duration": 15,
    "start_time": "2022-02-24T14:12:20.380Z"
   },
   {
    "duration": 14,
    "start_time": "2022-02-24T14:12:20.397Z"
   },
   {
    "duration": 13,
    "start_time": "2022-02-24T14:12:20.413Z"
   },
   {
    "duration": 12,
    "start_time": "2022-02-24T14:12:20.428Z"
   },
   {
    "duration": 14,
    "start_time": "2022-02-24T14:12:20.462Z"
   },
   {
    "duration": 12,
    "start_time": "2022-02-24T14:12:20.479Z"
   },
   {
    "duration": 10,
    "start_time": "2022-02-24T14:12:20.494Z"
   },
   {
    "duration": 64,
    "start_time": "2022-02-24T14:12:20.507Z"
   },
   {
    "duration": 13,
    "start_time": "2022-02-24T14:12:20.574Z"
   },
   {
    "duration": 14,
    "start_time": "2022-02-24T14:12:20.590Z"
   },
   {
    "duration": 13,
    "start_time": "2022-02-24T14:12:20.606Z"
   },
   {
    "duration": 10,
    "start_time": "2022-02-24T14:12:20.663Z"
   },
   {
    "duration": 1591,
    "start_time": "2022-02-24T14:22:57.225Z"
   },
   {
    "duration": 5,
    "start_time": "2022-02-24T14:22:58.819Z"
   },
   {
    "duration": 57,
    "start_time": "2022-02-24T14:22:58.832Z"
   },
   {
    "duration": 17,
    "start_time": "2022-02-24T14:23:01.022Z"
   },
   {
    "duration": 1492,
    "start_time": "2022-02-24T14:23:55.357Z"
   },
   {
    "duration": 6,
    "start_time": "2022-02-24T14:23:59.494Z"
   },
   {
    "duration": 4,
    "start_time": "2022-02-24T14:24:01.479Z"
   },
   {
    "duration": 42,
    "start_time": "2022-02-24T14:24:04.778Z"
   },
   {
    "duration": 17,
    "start_time": "2022-02-24T14:24:10.320Z"
   },
   {
    "duration": 5,
    "start_time": "2022-02-24T14:24:29.923Z"
   },
   {
    "duration": 12,
    "start_time": "2022-02-24T14:24:32.265Z"
   },
   {
    "duration": 5,
    "start_time": "2022-02-24T14:31:24.271Z"
   },
   {
    "duration": 43,
    "start_time": "2022-02-24T14:31:27.163Z"
   },
   {
    "duration": 12,
    "start_time": "2022-02-24T14:31:31.117Z"
   },
   {
    "duration": 5,
    "start_time": "2022-02-24T14:33:57.962Z"
   },
   {
    "duration": 12,
    "start_time": "2022-02-24T14:34:03.393Z"
   },
   {
    "duration": 425,
    "start_time": "2022-02-24T14:34:13.794Z"
   },
   {
    "duration": 4,
    "start_time": "2022-02-24T14:34:20.064Z"
   },
   {
    "duration": 11,
    "start_time": "2022-02-24T14:34:23.041Z"
   },
   {
    "duration": 3,
    "start_time": "2022-02-24T14:34:27.405Z"
   },
   {
    "duration": 12,
    "start_time": "2022-02-24T14:34:30.017Z"
   },
   {
    "duration": 4,
    "start_time": "2022-02-24T14:34:39.323Z"
   },
   {
    "duration": 4,
    "start_time": "2022-02-24T14:35:29.268Z"
   },
   {
    "duration": 12,
    "start_time": "2022-02-24T14:35:31.669Z"
   },
   {
    "duration": 4,
    "start_time": "2022-02-24T14:35:42.073Z"
   },
   {
    "duration": 12,
    "start_time": "2022-02-24T14:35:44.627Z"
   },
   {
    "duration": 4,
    "start_time": "2022-02-24T14:35:54.588Z"
   },
   {
    "duration": 11,
    "start_time": "2022-02-24T14:35:57.088Z"
   },
   {
    "duration": 4,
    "start_time": "2022-02-24T14:36:02.691Z"
   },
   {
    "duration": 13,
    "start_time": "2022-02-24T14:36:04.990Z"
   },
   {
    "duration": 4,
    "start_time": "2022-02-24T14:36:10.806Z"
   },
   {
    "duration": 13,
    "start_time": "2022-02-24T14:36:12.972Z"
   },
   {
    "duration": 4,
    "start_time": "2022-02-24T14:36:30.109Z"
   },
   {
    "duration": 12,
    "start_time": "2022-02-24T14:36:32.616Z"
   },
   {
    "duration": 4,
    "start_time": "2022-02-24T14:36:38.884Z"
   },
   {
    "duration": 14,
    "start_time": "2022-02-24T14:36:41.240Z"
   },
   {
    "duration": 1502,
    "start_time": "2022-02-24T15:43:37.522Z"
   },
   {
    "duration": 4,
    "start_time": "2022-02-24T15:43:39.027Z"
   },
   {
    "duration": 55,
    "start_time": "2022-02-24T15:43:39.036Z"
   },
   {
    "duration": 15,
    "start_time": "2022-02-24T15:43:39.093Z"
   },
   {
    "duration": 10,
    "start_time": "2022-02-24T15:43:39.111Z"
   },
   {
    "duration": 11,
    "start_time": "2022-02-24T15:43:39.123Z"
   },
   {
    "duration": 11,
    "start_time": "2022-02-24T15:43:39.138Z"
   },
   {
    "duration": 4,
    "start_time": "2022-02-24T15:43:39.161Z"
   },
   {
    "duration": 13,
    "start_time": "2022-02-24T15:43:39.168Z"
   },
   {
    "duration": 11,
    "start_time": "2022-02-24T15:43:39.184Z"
   },
   {
    "duration": 10,
    "start_time": "2022-02-24T15:43:39.197Z"
   },
   {
    "duration": 6,
    "start_time": "2022-02-24T15:43:39.210Z"
   },
   {
    "duration": 47,
    "start_time": "2022-02-24T15:43:39.219Z"
   },
   {
    "duration": 11,
    "start_time": "2022-02-24T15:43:39.268Z"
   },
   {
    "duration": 14,
    "start_time": "2022-02-24T15:43:39.281Z"
   },
   {
    "duration": 10,
    "start_time": "2022-02-24T15:43:39.298Z"
   },
   {
    "duration": 27,
    "start_time": "2022-02-24T15:43:39.311Z"
   },
   {
    "duration": 33,
    "start_time": "2022-02-24T15:43:39.341Z"
   },
   {
    "duration": 18,
    "start_time": "2022-02-24T15:43:39.377Z"
   },
   {
    "duration": 23,
    "start_time": "2022-02-24T15:43:39.398Z"
   },
   {
    "duration": 17,
    "start_time": "2022-02-24T15:43:39.423Z"
   },
   {
    "duration": 40,
    "start_time": "2022-02-24T15:43:39.443Z"
   },
   {
    "duration": 6,
    "start_time": "2022-02-24T15:43:39.486Z"
   },
   {
    "duration": 27,
    "start_time": "2022-02-24T15:43:39.495Z"
   },
   {
    "duration": 787,
    "start_time": "2022-02-24T15:43:39.530Z"
   },
   {
    "duration": 7,
    "start_time": "2022-02-24T15:43:40.323Z"
   },
   {
    "duration": 43,
    "start_time": "2022-02-24T15:43:40.333Z"
   },
   {
    "duration": 753,
    "start_time": "2022-02-24T15:43:40.379Z"
   },
   {
    "duration": 11,
    "start_time": "2022-02-24T15:43:41.135Z"
   },
   {
    "duration": 32,
    "start_time": "2022-02-24T15:43:41.162Z"
   },
   {
    "duration": 14,
    "start_time": "2022-02-24T15:43:41.197Z"
   },
   {
    "duration": 27,
    "start_time": "2022-02-24T15:43:41.214Z"
   },
   {
    "duration": 6,
    "start_time": "2022-02-24T15:43:41.262Z"
   },
   {
    "duration": 6,
    "start_time": "2022-02-24T15:43:41.270Z"
   },
   {
    "duration": 23,
    "start_time": "2022-02-24T15:43:41.279Z"
   },
   {
    "duration": 9,
    "start_time": "2022-02-24T15:43:41.304Z"
   },
   {
    "duration": 599,
    "start_time": "2022-02-24T15:43:41.316Z"
   },
   {
    "duration": 12,
    "start_time": "2022-02-24T15:43:41.918Z"
   },
   {
    "duration": 590,
    "start_time": "2022-02-24T15:43:41.932Z"
   },
   {
    "duration": 11,
    "start_time": "2022-02-24T15:43:42.525Z"
   },
   {
    "duration": 667,
    "start_time": "2022-02-24T15:43:42.539Z"
   },
   {
    "duration": 10,
    "start_time": "2022-02-24T15:43:43.208Z"
   },
   {
    "duration": 576,
    "start_time": "2022-02-24T15:43:43.220Z"
   },
   {
    "duration": 12,
    "start_time": "2022-02-24T15:43:43.798Z"
   },
   {
    "duration": 662,
    "start_time": "2022-02-24T15:43:43.812Z"
   },
   {
    "duration": 14,
    "start_time": "2022-02-24T15:43:44.476Z"
   },
   {
    "duration": 695,
    "start_time": "2022-02-24T15:43:44.492Z"
   },
   {
    "duration": 8,
    "start_time": "2022-02-24T15:43:45.189Z"
   },
   {
    "duration": 7,
    "start_time": "2022-02-24T15:43:45.200Z"
   },
   {
    "duration": 7,
    "start_time": "2022-02-24T15:43:45.209Z"
   },
   {
    "duration": 46,
    "start_time": "2022-02-24T15:43:45.219Z"
   },
   {
    "duration": 622,
    "start_time": "2022-02-24T15:43:45.267Z"
   },
   {
    "duration": 10,
    "start_time": "2022-02-24T15:43:45.892Z"
   },
   {
    "duration": 7,
    "start_time": "2022-02-24T15:43:45.905Z"
   },
   {
    "duration": 46,
    "start_time": "2022-02-24T15:43:45.915Z"
   },
   {
    "duration": 14,
    "start_time": "2022-02-24T15:43:45.964Z"
   },
   {
    "duration": 15,
    "start_time": "2022-02-24T15:43:45.981Z"
   },
   {
    "duration": 19,
    "start_time": "2022-02-24T15:43:45.998Z"
   },
   {
    "duration": 42,
    "start_time": "2022-02-24T15:43:46.019Z"
   },
   {
    "duration": 15,
    "start_time": "2022-02-24T15:43:46.065Z"
   },
   {
    "duration": 10,
    "start_time": "2022-02-24T15:43:46.082Z"
   },
   {
    "duration": 15,
    "start_time": "2022-02-24T15:43:46.094Z"
   },
   {
    "duration": 11,
    "start_time": "2022-02-24T15:43:46.111Z"
   },
   {
    "duration": 43,
    "start_time": "2022-02-24T15:43:46.125Z"
   },
   {
    "duration": 21,
    "start_time": "2022-02-24T15:43:46.171Z"
   },
   {
    "duration": 11,
    "start_time": "2022-02-24T15:43:46.194Z"
   },
   {
    "duration": 9,
    "start_time": "2022-02-24T15:43:46.207Z"
   },
   {
    "duration": 46,
    "start_time": "2022-02-24T15:43:46.218Z"
   },
   {
    "duration": 22,
    "start_time": "2022-02-24T15:43:46.267Z"
   },
   {
    "duration": 10,
    "start_time": "2022-02-24T15:53:53.489Z"
   },
   {
    "duration": 5,
    "start_time": "2022-02-24T15:54:00.526Z"
   },
   {
    "duration": 7,
    "start_time": "2022-02-24T15:54:33.022Z"
   },
   {
    "duration": 1439,
    "start_time": "2022-02-24T15:55:24.502Z"
   },
   {
    "duration": 7,
    "start_time": "2022-02-24T15:55:28.633Z"
   },
   {
    "duration": 6,
    "start_time": "2022-02-24T15:55:30.439Z"
   },
   {
    "duration": 40,
    "start_time": "2022-02-24T15:55:32.956Z"
   },
   {
    "duration": 17,
    "start_time": "2022-02-24T15:55:35.531Z"
   },
   {
    "duration": 4,
    "start_time": "2022-02-24T15:55:41.657Z"
   },
   {
    "duration": 9,
    "start_time": "2022-02-24T15:55:44.014Z"
   },
   {
    "duration": 13,
    "start_time": "2022-02-24T15:55:47.923Z"
   },
   {
    "duration": 3,
    "start_time": "2022-02-24T15:55:51.392Z"
   },
   {
    "duration": 10,
    "start_time": "2022-02-24T15:55:52.212Z"
   },
   {
    "duration": 6,
    "start_time": "2022-02-24T15:55:55.326Z"
   },
   {
    "duration": 7,
    "start_time": "2022-02-24T15:56:06.018Z"
   },
   {
    "duration": 852,
    "start_time": "2022-02-24T16:03:58.260Z"
   },
   {
    "duration": 274,
    "start_time": "2022-02-24T16:04:09.249Z"
   },
   {
    "duration": 5,
    "start_time": "2022-02-24T16:04:16.153Z"
   },
   {
    "duration": 12,
    "start_time": "2022-02-24T16:04:19.246Z"
   },
   {
    "duration": 6,
    "start_time": "2022-02-24T16:04:24.058Z"
   },
   {
    "duration": 12,
    "start_time": "2022-02-24T16:04:26.627Z"
   },
   {
    "duration": 5,
    "start_time": "2022-02-24T16:04:31.444Z"
   },
   {
    "duration": 11,
    "start_time": "2022-02-24T16:04:38.121Z"
   },
   {
    "duration": 5,
    "start_time": "2022-02-24T16:04:44.574Z"
   },
   {
    "duration": 12,
    "start_time": "2022-02-24T16:04:48.117Z"
   },
   {
    "duration": 1452,
    "start_time": "2022-02-24T16:12:23.413Z"
   },
   {
    "duration": 5,
    "start_time": "2022-02-24T16:12:24.868Z"
   },
   {
    "duration": 52,
    "start_time": "2022-02-24T16:12:24.877Z"
   },
   {
    "duration": 18,
    "start_time": "2022-02-24T16:12:24.931Z"
   },
   {
    "duration": 5,
    "start_time": "2022-02-24T16:12:24.951Z"
   },
   {
    "duration": 11,
    "start_time": "2022-02-24T16:12:24.958Z"
   },
   {
    "duration": 15,
    "start_time": "2022-02-24T16:12:24.972Z"
   },
   {
    "duration": 4,
    "start_time": "2022-02-24T16:12:24.993Z"
   },
   {
    "duration": 22,
    "start_time": "2022-02-24T16:12:25.001Z"
   },
   {
    "duration": 36,
    "start_time": "2022-02-24T16:12:25.025Z"
   },
   {
    "duration": 11,
    "start_time": "2022-02-24T16:12:25.063Z"
   },
   {
    "duration": 9,
    "start_time": "2022-02-24T16:12:25.076Z"
   },
   {
    "duration": 9,
    "start_time": "2022-02-24T16:12:25.088Z"
   },
   {
    "duration": 11,
    "start_time": "2022-02-24T16:12:25.099Z"
   },
   {
    "duration": 52,
    "start_time": "2022-02-24T16:12:25.113Z"
   },
   {
    "duration": 12,
    "start_time": "2022-02-24T16:12:25.168Z"
   },
   {
    "duration": 17,
    "start_time": "2022-02-24T16:12:25.183Z"
   },
   {
    "duration": 24,
    "start_time": "2022-02-24T16:12:25.202Z"
   },
   {
    "duration": 13,
    "start_time": "2022-02-24T16:12:25.228Z"
   },
   {
    "duration": 4,
    "start_time": "2022-02-24T16:12:25.262Z"
   },
   {
    "duration": 11,
    "start_time": "2022-02-24T16:12:25.269Z"
   },
   {
    "duration": 16,
    "start_time": "2022-02-24T16:12:25.283Z"
   },
   {
    "duration": 7,
    "start_time": "2022-02-24T16:12:25.301Z"
   },
   {
    "duration": 52,
    "start_time": "2022-02-24T16:12:25.310Z"
   },
   {
    "duration": 765,
    "start_time": "2022-02-24T16:12:25.365Z"
   },
   {
    "duration": 6,
    "start_time": "2022-02-24T16:12:26.136Z"
   },
   {
    "duration": 23,
    "start_time": "2022-02-24T16:12:26.146Z"
   },
   {
    "duration": 744,
    "start_time": "2022-02-24T16:12:26.171Z"
   },
   {
    "duration": 11,
    "start_time": "2022-02-24T16:12:26.917Z"
   },
   {
    "duration": 57,
    "start_time": "2022-02-24T16:12:26.931Z"
   },
   {
    "duration": 15,
    "start_time": "2022-02-24T16:12:26.991Z"
   },
   {
    "duration": 17,
    "start_time": "2022-02-24T16:12:27.008Z"
   },
   {
    "duration": 16,
    "start_time": "2022-02-24T16:12:27.027Z"
   },
   {
    "duration": 18,
    "start_time": "2022-02-24T16:12:27.045Z"
   },
   {
    "duration": 28,
    "start_time": "2022-02-24T16:12:27.065Z"
   },
   {
    "duration": 11,
    "start_time": "2022-02-24T16:12:27.095Z"
   },
   {
    "duration": 611,
    "start_time": "2022-02-24T16:12:27.109Z"
   },
   {
    "duration": 11,
    "start_time": "2022-02-24T16:12:27.722Z"
   },
   {
    "duration": 598,
    "start_time": "2022-02-24T16:12:27.735Z"
   },
   {
    "duration": 12,
    "start_time": "2022-02-24T16:12:28.336Z"
   },
   {
    "duration": 665,
    "start_time": "2022-02-24T16:12:28.361Z"
   },
   {
    "duration": 10,
    "start_time": "2022-02-24T16:12:29.029Z"
   },
   {
    "duration": 597,
    "start_time": "2022-02-24T16:12:29.042Z"
   },
   {
    "duration": 23,
    "start_time": "2022-02-24T16:12:29.642Z"
   },
   {
    "duration": 647,
    "start_time": "2022-02-24T16:12:29.668Z"
   },
   {
    "duration": 15,
    "start_time": "2022-02-24T16:12:30.317Z"
   },
   {
    "duration": 741,
    "start_time": "2022-02-24T16:12:30.335Z"
   },
   {
    "duration": 8,
    "start_time": "2022-02-24T16:12:31.079Z"
   },
   {
    "duration": 21,
    "start_time": "2022-02-24T16:12:31.089Z"
   },
   {
    "duration": 9,
    "start_time": "2022-02-24T16:12:31.113Z"
   },
   {
    "duration": 14,
    "start_time": "2022-02-24T16:12:31.125Z"
   },
   {
    "duration": 628,
    "start_time": "2022-02-24T16:12:31.141Z"
   },
   {
    "duration": 8,
    "start_time": "2022-02-24T16:12:31.771Z"
   },
   {
    "duration": 14,
    "start_time": "2022-02-24T16:12:31.783Z"
   },
   {
    "duration": 18,
    "start_time": "2022-02-24T16:12:31.799Z"
   },
   {
    "duration": 23,
    "start_time": "2022-02-24T16:12:31.819Z"
   },
   {
    "duration": 12,
    "start_time": "2022-02-24T16:12:31.862Z"
   },
   {
    "duration": 13,
    "start_time": "2022-02-24T16:12:31.877Z"
   },
   {
    "duration": 5,
    "start_time": "2022-02-24T16:12:31.892Z"
   },
   {
    "duration": 13,
    "start_time": "2022-02-24T16:12:31.900Z"
   },
   {
    "duration": 47,
    "start_time": "2022-02-24T16:12:31.915Z"
   },
   {
    "duration": 14,
    "start_time": "2022-02-24T16:12:31.967Z"
   },
   {
    "duration": 11,
    "start_time": "2022-02-24T16:12:31.983Z"
   },
   {
    "duration": 8,
    "start_time": "2022-02-24T16:12:31.996Z"
   },
   {
    "duration": 55,
    "start_time": "2022-02-24T16:12:32.006Z"
   },
   {
    "duration": 10,
    "start_time": "2022-02-24T16:12:32.063Z"
   },
   {
    "duration": 14,
    "start_time": "2022-02-24T16:12:32.076Z"
   },
   {
    "duration": 16,
    "start_time": "2022-02-24T16:12:32.093Z"
   },
   {
    "duration": 10,
    "start_time": "2022-02-24T16:12:32.112Z"
   },
   {
    "duration": 14,
    "start_time": "2022-02-24T16:18:35.735Z"
   },
   {
    "duration": 8,
    "start_time": "2022-02-24T17:21:22.657Z"
   },
   {
    "duration": 6,
    "start_time": "2022-02-24T17:21:52.046Z"
   },
   {
    "duration": 7,
    "start_time": "2022-02-24T17:22:01.041Z"
   },
   {
    "duration": 13,
    "start_time": "2022-02-24T17:23:08.931Z"
   },
   {
    "duration": 22,
    "start_time": "2022-02-24T17:23:22.825Z"
   },
   {
    "duration": 17,
    "start_time": "2022-02-24T17:24:28.025Z"
   },
   {
    "duration": 479,
    "start_time": "2022-02-24T17:24:52.493Z"
   },
   {
    "duration": 15,
    "start_time": "2022-02-24T17:25:02.778Z"
   },
   {
    "duration": 16,
    "start_time": "2022-02-24T17:25:17.879Z"
   },
   {
    "duration": 12,
    "start_time": "2022-02-24T17:25:44.614Z"
   },
   {
    "duration": 289,
    "start_time": "2022-02-24T17:27:06.630Z"
   },
   {
    "duration": 14,
    "start_time": "2022-02-24T17:27:28.468Z"
   },
   {
    "duration": 14,
    "start_time": "2022-02-24T17:28:35.215Z"
   },
   {
    "duration": 10,
    "start_time": "2022-02-24T17:29:02.762Z"
   },
   {
    "duration": 13,
    "start_time": "2022-02-24T17:29:12.658Z"
   },
   {
    "duration": 16,
    "start_time": "2022-02-24T17:29:19.216Z"
   },
   {
    "duration": 514,
    "start_time": "2022-02-24T17:32:20.677Z"
   },
   {
    "duration": 374,
    "start_time": "2022-02-24T17:32:33.978Z"
   },
   {
    "duration": 8,
    "start_time": "2022-02-24T17:32:43.206Z"
   },
   {
    "duration": 8,
    "start_time": "2022-02-24T17:33:01.857Z"
   },
   {
    "duration": 8,
    "start_time": "2022-02-24T17:33:05.904Z"
   },
   {
    "duration": 7,
    "start_time": "2022-02-24T17:33:09.426Z"
   },
   {
    "duration": 11,
    "start_time": "2022-02-24T17:34:38.534Z"
   },
   {
    "duration": 9,
    "start_time": "2022-02-24T17:35:35.068Z"
   },
   {
    "duration": 39499,
    "start_time": "2022-02-24T17:43:18.325Z"
   },
   {
    "duration": 1528,
    "start_time": "2022-02-24T17:46:11.712Z"
   },
   {
    "duration": 4,
    "start_time": "2022-02-24T17:46:13.243Z"
   },
   {
    "duration": 50,
    "start_time": "2022-02-24T17:46:13.261Z"
   },
   {
    "duration": 16,
    "start_time": "2022-02-24T17:46:13.314Z"
   },
   {
    "duration": 5,
    "start_time": "2022-02-24T17:46:13.333Z"
   },
   {
    "duration": 16,
    "start_time": "2022-02-24T17:46:13.341Z"
   },
   {
    "duration": 11,
    "start_time": "2022-02-24T17:46:13.359Z"
   },
   {
    "duration": 3,
    "start_time": "2022-02-24T17:46:13.373Z"
   },
   {
    "duration": 8,
    "start_time": "2022-02-24T17:46:13.380Z"
   },
   {
    "duration": 5,
    "start_time": "2022-02-24T17:46:13.391Z"
   },
   {
    "duration": 11,
    "start_time": "2022-02-24T17:46:13.398Z"
   },
   {
    "duration": 51,
    "start_time": "2022-02-24T17:46:13.411Z"
   },
   {
    "duration": 16,
    "start_time": "2022-02-24T17:46:13.465Z"
   },
   {
    "duration": 10,
    "start_time": "2022-02-24T17:46:13.483Z"
   },
   {
    "duration": 10,
    "start_time": "2022-02-24T17:46:13.495Z"
   },
   {
    "duration": 7,
    "start_time": "2022-02-24T17:46:13.508Z"
   },
   {
    "duration": 45,
    "start_time": "2022-02-24T17:46:13.517Z"
   },
   {
    "duration": 14,
    "start_time": "2022-02-24T17:46:13.565Z"
   },
   {
    "duration": 13,
    "start_time": "2022-02-24T17:46:13.581Z"
   },
   {
    "duration": 8,
    "start_time": "2022-02-24T17:46:13.596Z"
   },
   {
    "duration": 8,
    "start_time": "2022-02-24T17:46:13.606Z"
   },
   {
    "duration": 52,
    "start_time": "2022-02-24T17:46:13.616Z"
   },
   {
    "duration": 7,
    "start_time": "2022-02-24T17:46:13.671Z"
   },
   {
    "duration": 17,
    "start_time": "2022-02-24T17:46:13.681Z"
   },
   {
    "duration": 804,
    "start_time": "2022-02-24T17:46:13.701Z"
   },
   {
    "duration": 6,
    "start_time": "2022-02-24T17:46:14.508Z"
   },
   {
    "duration": 15,
    "start_time": "2022-02-24T17:46:14.520Z"
   },
   {
    "duration": 826,
    "start_time": "2022-02-24T17:46:14.539Z"
   },
   {
    "duration": 12,
    "start_time": "2022-02-24T17:46:15.367Z"
   },
   {
    "duration": 410,
    "start_time": "2022-02-24T17:46:15.382Z"
   },
   {
    "duration": -1146,
    "start_time": "2022-02-24T17:46:16.940Z"
   },
   {
    "duration": -1148,
    "start_time": "2022-02-24T17:46:16.944Z"
   },
   {
    "duration": -1152,
    "start_time": "2022-02-24T17:46:16.949Z"
   },
   {
    "duration": -1155,
    "start_time": "2022-02-24T17:46:16.953Z"
   },
   {
    "duration": -1158,
    "start_time": "2022-02-24T17:46:16.957Z"
   },
   {
    "duration": -1162,
    "start_time": "2022-02-24T17:46:16.963Z"
   },
   {
    "duration": -1165,
    "start_time": "2022-02-24T17:46:16.967Z"
   },
   {
    "duration": -1168,
    "start_time": "2022-02-24T17:46:16.972Z"
   },
   {
    "duration": -1170,
    "start_time": "2022-02-24T17:46:16.976Z"
   },
   {
    "duration": -1172,
    "start_time": "2022-02-24T17:46:16.981Z"
   },
   {
    "duration": -1174,
    "start_time": "2022-02-24T17:46:16.985Z"
   },
   {
    "duration": -1176,
    "start_time": "2022-02-24T17:46:16.989Z"
   },
   {
    "duration": -1178,
    "start_time": "2022-02-24T17:46:16.993Z"
   },
   {
    "duration": -1182,
    "start_time": "2022-02-24T17:46:16.998Z"
   },
   {
    "duration": -1184,
    "start_time": "2022-02-24T17:46:17.002Z"
   },
   {
    "duration": -1187,
    "start_time": "2022-02-24T17:46:17.006Z"
   },
   {
    "duration": -1190,
    "start_time": "2022-02-24T17:46:17.011Z"
   },
   {
    "duration": -1192,
    "start_time": "2022-02-24T17:46:17.015Z"
   },
   {
    "duration": -1194,
    "start_time": "2022-02-24T17:46:17.019Z"
   },
   {
    "duration": -1196,
    "start_time": "2022-02-24T17:46:17.023Z"
   },
   {
    "duration": -1200,
    "start_time": "2022-02-24T17:46:17.028Z"
   },
   {
    "duration": -1217,
    "start_time": "2022-02-24T17:46:17.047Z"
   },
   {
    "duration": -1220,
    "start_time": "2022-02-24T17:46:17.052Z"
   },
   {
    "duration": -1223,
    "start_time": "2022-02-24T17:46:17.056Z"
   },
   {
    "duration": -1225,
    "start_time": "2022-02-24T17:46:17.060Z"
   },
   {
    "duration": -1228,
    "start_time": "2022-02-24T17:46:17.064Z"
   },
   {
    "duration": -1206,
    "start_time": "2022-02-24T17:46:17.068Z"
   },
   {
    "duration": -1209,
    "start_time": "2022-02-24T17:46:17.072Z"
   },
   {
    "duration": -1213,
    "start_time": "2022-02-24T17:46:17.078Z"
   },
   {
    "duration": -1215,
    "start_time": "2022-02-24T17:46:17.082Z"
   },
   {
    "duration": -1218,
    "start_time": "2022-02-24T17:46:17.086Z"
   },
   {
    "duration": -1221,
    "start_time": "2022-02-24T17:46:17.090Z"
   },
   {
    "duration": -1224,
    "start_time": "2022-02-24T17:46:17.094Z"
   },
   {
    "duration": -1227,
    "start_time": "2022-02-24T17:46:17.098Z"
   },
   {
    "duration": -1229,
    "start_time": "2022-02-24T17:46:17.102Z"
   },
   {
    "duration": -1231,
    "start_time": "2022-02-24T17:46:17.105Z"
   },
   {
    "duration": -1234,
    "start_time": "2022-02-24T17:46:17.109Z"
   },
   {
    "duration": -1235,
    "start_time": "2022-02-24T17:46:17.112Z"
   },
   {
    "duration": -1238,
    "start_time": "2022-02-24T17:46:17.116Z"
   },
   {
    "duration": -1239,
    "start_time": "2022-02-24T17:46:17.119Z"
   },
   {
    "duration": 57955,
    "start_time": "2022-02-24T17:46:39.582Z"
   },
   {
    "duration": 96102,
    "start_time": "2022-02-24T17:49:16.945Z"
   },
   {
    "duration": 1492,
    "start_time": "2022-02-24T18:00:30.849Z"
   },
   {
    "duration": 5,
    "start_time": "2022-02-24T18:00:32.345Z"
   },
   {
    "duration": 44,
    "start_time": "2022-02-24T18:00:32.363Z"
   },
   {
    "duration": 19,
    "start_time": "2022-02-24T18:00:32.410Z"
   },
   {
    "duration": 10,
    "start_time": "2022-02-24T18:00:32.431Z"
   },
   {
    "duration": 21,
    "start_time": "2022-02-24T18:00:32.443Z"
   },
   {
    "duration": 18,
    "start_time": "2022-02-24T18:00:32.471Z"
   },
   {
    "duration": 11,
    "start_time": "2022-02-24T18:00:32.492Z"
   },
   {
    "duration": 12,
    "start_time": "2022-02-24T18:00:32.505Z"
   },
   {
    "duration": 11,
    "start_time": "2022-02-24T18:00:32.519Z"
   },
   {
    "duration": 36,
    "start_time": "2022-02-24T18:00:32.533Z"
   },
   {
    "duration": 8,
    "start_time": "2022-02-24T18:00:32.571Z"
   },
   {
    "duration": 11,
    "start_time": "2022-02-24T18:00:32.581Z"
   },
   {
    "duration": 10,
    "start_time": "2022-02-24T18:00:32.594Z"
   },
   {
    "duration": 9,
    "start_time": "2022-02-24T18:00:32.607Z"
   },
   {
    "duration": 8,
    "start_time": "2022-02-24T18:00:32.662Z"
   },
   {
    "duration": 15,
    "start_time": "2022-02-24T18:00:32.672Z"
   },
   {
    "duration": 20,
    "start_time": "2022-02-24T18:00:32.691Z"
   },
   {
    "duration": 13,
    "start_time": "2022-02-24T18:00:32.713Z"
   },
   {
    "duration": 3,
    "start_time": "2022-02-24T18:00:32.729Z"
   },
   {
    "duration": 6,
    "start_time": "2022-02-24T18:00:32.762Z"
   },
   {
    "duration": 21,
    "start_time": "2022-02-24T18:00:32.771Z"
   },
   {
    "duration": 6,
    "start_time": "2022-02-24T18:00:32.795Z"
   },
   {
    "duration": 15,
    "start_time": "2022-02-24T18:00:32.803Z"
   },
   {
    "duration": 782,
    "start_time": "2022-02-24T18:00:32.864Z"
   },
   {
    "duration": 15,
    "start_time": "2022-02-24T18:00:33.650Z"
   },
   {
    "duration": 19,
    "start_time": "2022-02-24T18:00:33.668Z"
   },
   {
    "duration": 737,
    "start_time": "2022-02-24T18:00:33.689Z"
   },
   {
    "duration": 11,
    "start_time": "2022-02-24T18:00:34.429Z"
   },
   {
    "duration": 35,
    "start_time": "2022-02-24T18:00:34.461Z"
   },
   {
    "duration": 16,
    "start_time": "2022-02-24T18:00:34.498Z"
   },
   {
    "duration": 16,
    "start_time": "2022-02-24T18:00:34.517Z"
   },
   {
    "duration": 7,
    "start_time": "2022-02-24T18:00:34.562Z"
   },
   {
    "duration": 8,
    "start_time": "2022-02-24T18:00:34.571Z"
   },
   {
    "duration": 27,
    "start_time": "2022-02-24T18:00:34.581Z"
   },
   {
    "duration": 11,
    "start_time": "2022-02-24T18:00:34.610Z"
   },
   {
    "duration": 639,
    "start_time": "2022-02-24T18:00:34.624Z"
   },
   {
    "duration": 10,
    "start_time": "2022-02-24T18:00:35.265Z"
   },
   {
    "duration": 610,
    "start_time": "2022-02-24T18:00:35.278Z"
   },
   {
    "duration": 12,
    "start_time": "2022-02-24T18:00:35.890Z"
   },
   {
    "duration": 656,
    "start_time": "2022-02-24T18:00:35.905Z"
   },
   {
    "duration": 10,
    "start_time": "2022-02-24T18:00:36.563Z"
   },
   {
    "duration": 589,
    "start_time": "2022-02-24T18:00:36.575Z"
   },
   {
    "duration": 12,
    "start_time": "2022-02-24T18:00:37.167Z"
   },
   {
    "duration": 647,
    "start_time": "2022-02-24T18:00:37.182Z"
   },
   {
    "duration": 30,
    "start_time": "2022-02-24T18:00:37.832Z"
   },
   {
    "duration": 712,
    "start_time": "2022-02-24T18:00:37.865Z"
   },
   {
    "duration": 7,
    "start_time": "2022-02-24T18:00:38.580Z"
   },
   {
    "duration": 9,
    "start_time": "2022-02-24T18:00:38.589Z"
   },
   {
    "duration": 16,
    "start_time": "2022-02-24T18:00:38.600Z"
   },
   {
    "duration": 23,
    "start_time": "2022-02-24T18:00:38.618Z"
   },
   {
    "duration": 633,
    "start_time": "2022-02-24T18:00:38.643Z"
   },
   {
    "duration": 8,
    "start_time": "2022-02-24T18:00:39.279Z"
   },
   {
    "duration": 6,
    "start_time": "2022-02-24T18:00:39.290Z"
   },
   {
    "duration": 6,
    "start_time": "2022-02-24T18:00:39.298Z"
   },
   {
    "duration": 56,
    "start_time": "2022-02-24T18:00:39.307Z"
   },
   {
    "duration": 12,
    "start_time": "2022-02-24T18:00:39.365Z"
   },
   {
    "duration": 17,
    "start_time": "2022-02-24T18:00:39.380Z"
   },
   {
    "duration": 11,
    "start_time": "2022-02-24T18:00:39.399Z"
   },
   {
    "duration": 12,
    "start_time": "2022-02-24T18:00:39.412Z"
   },
   {
    "duration": 38,
    "start_time": "2022-02-24T18:00:39.426Z"
   },
   {
    "duration": 17,
    "start_time": "2022-02-24T18:00:39.466Z"
   },
   {
    "duration": 12,
    "start_time": "2022-02-24T18:00:39.486Z"
   },
   {
    "duration": 9,
    "start_time": "2022-02-24T18:00:39.501Z"
   },
   {
    "duration": 59,
    "start_time": "2022-02-24T18:00:39.512Z"
   },
   {
    "duration": 11,
    "start_time": "2022-02-24T18:00:39.573Z"
   },
   {
    "duration": 9,
    "start_time": "2022-02-24T18:00:39.587Z"
   },
   {
    "duration": 11,
    "start_time": "2022-02-24T18:00:39.599Z"
   },
   {
    "duration": 9,
    "start_time": "2022-02-24T18:00:39.612Z"
   },
   {
    "duration": 18,
    "start_time": "2022-02-24T18:05:08.244Z"
   },
   {
    "duration": 153,
    "start_time": "2022-02-24T19:04:08.770Z"
   },
   {
    "duration": 89,
    "start_time": "2022-02-24T19:05:50.212Z"
   },
   {
    "duration": 8,
    "start_time": "2022-02-24T19:39:28.852Z"
   },
   {
    "duration": 7,
    "start_time": "2022-02-24T19:39:33.842Z"
   },
   {
    "duration": 5,
    "start_time": "2022-02-24T19:42:24.383Z"
   },
   {
    "duration": 86,
    "start_time": "2022-02-24T19:48:15.376Z"
   },
   {
    "duration": 111,
    "start_time": "2022-02-24T20:50:20.795Z"
   },
   {
    "duration": 93,
    "start_time": "2022-02-24T21:13:15.611Z"
   },
   {
    "duration": 93,
    "start_time": "2022-02-24T21:22:23.145Z"
   },
   {
    "duration": 12,
    "start_time": "2022-02-24T21:23:09.685Z"
   },
   {
    "duration": 6,
    "start_time": "2022-02-24T21:23:17.750Z"
   },
   {
    "duration": 1456,
    "start_time": "2022-02-24T22:10:39.484Z"
   },
   {
    "duration": 4,
    "start_time": "2022-02-24T22:10:40.943Z"
   },
   {
    "duration": 40,
    "start_time": "2022-02-24T22:10:40.961Z"
   },
   {
    "duration": 15,
    "start_time": "2022-02-24T22:10:41.004Z"
   },
   {
    "duration": 4,
    "start_time": "2022-02-24T22:10:41.022Z"
   },
   {
    "duration": 14,
    "start_time": "2022-02-24T22:10:41.028Z"
   },
   {
    "duration": 20,
    "start_time": "2022-02-24T22:10:41.044Z"
   },
   {
    "duration": 7,
    "start_time": "2022-02-24T22:10:41.067Z"
   },
   {
    "duration": 9,
    "start_time": "2022-02-24T22:10:41.078Z"
   },
   {
    "duration": 7,
    "start_time": "2022-02-24T22:10:41.090Z"
   },
   {
    "duration": 11,
    "start_time": "2022-02-24T22:10:41.099Z"
   },
   {
    "duration": 51,
    "start_time": "2022-02-24T22:10:41.112Z"
   },
   {
    "duration": 11,
    "start_time": "2022-02-24T22:10:41.166Z"
   },
   {
    "duration": 10,
    "start_time": "2022-02-24T22:10:41.180Z"
   },
   {
    "duration": 8,
    "start_time": "2022-02-24T22:10:41.192Z"
   },
   {
    "duration": 7,
    "start_time": "2022-02-24T22:10:41.203Z"
   },
   {
    "duration": 53,
    "start_time": "2022-02-24T22:10:41.212Z"
   },
   {
    "duration": 15,
    "start_time": "2022-02-24T22:10:41.267Z"
   },
   {
    "duration": 14,
    "start_time": "2022-02-24T22:10:41.285Z"
   },
   {
    "duration": 3,
    "start_time": "2022-02-24T22:10:41.301Z"
   },
   {
    "duration": 9,
    "start_time": "2022-02-24T22:10:41.307Z"
   },
   {
    "duration": 15,
    "start_time": "2022-02-24T22:10:41.361Z"
   },
   {
    "duration": 9,
    "start_time": "2022-02-24T22:10:41.379Z"
   },
   {
    "duration": 20,
    "start_time": "2022-02-24T22:10:41.390Z"
   },
   {
    "duration": 815,
    "start_time": "2022-02-24T22:10:41.413Z"
   },
   {
    "duration": 7,
    "start_time": "2022-02-24T22:10:42.230Z"
   },
   {
    "duration": 29,
    "start_time": "2022-02-24T22:10:42.245Z"
   },
   {
    "duration": 769,
    "start_time": "2022-02-24T22:10:42.278Z"
   },
   {
    "duration": 20,
    "start_time": "2022-02-24T22:10:43.050Z"
   },
   {
    "duration": 30,
    "start_time": "2022-02-24T22:10:43.073Z"
   },
   {
    "duration": 15,
    "start_time": "2022-02-24T22:10:43.105Z"
   },
   {
    "duration": 48,
    "start_time": "2022-02-24T22:10:43.123Z"
   },
   {
    "duration": 8,
    "start_time": "2022-02-24T22:10:43.174Z"
   },
   {
    "duration": 7,
    "start_time": "2022-02-24T22:10:43.184Z"
   },
   {
    "duration": 25,
    "start_time": "2022-02-24T22:10:43.193Z"
   },
   {
    "duration": 44,
    "start_time": "2022-02-24T22:10:43.220Z"
   },
   {
    "duration": 588,
    "start_time": "2022-02-24T22:10:43.267Z"
   },
   {
    "duration": 12,
    "start_time": "2022-02-24T22:10:43.857Z"
   },
   {
    "duration": 666,
    "start_time": "2022-02-24T22:10:43.872Z"
   },
   {
    "duration": 22,
    "start_time": "2022-02-24T22:10:44.540Z"
   },
   {
    "duration": 683,
    "start_time": "2022-02-24T22:10:44.565Z"
   },
   {
    "duration": 17,
    "start_time": "2022-02-24T22:10:45.251Z"
   },
   {
    "duration": 565,
    "start_time": "2022-02-24T22:10:45.271Z"
   },
   {
    "duration": 22,
    "start_time": "2022-02-24T22:10:45.839Z"
   },
   {
    "duration": 654,
    "start_time": "2022-02-24T22:10:45.864Z"
   },
   {
    "duration": 17,
    "start_time": "2022-02-24T22:10:46.520Z"
   },
   {
    "duration": 760,
    "start_time": "2022-02-24T22:10:46.560Z"
   },
   {
    "duration": 9,
    "start_time": "2022-02-24T22:10:47.323Z"
   },
   {
    "duration": 28,
    "start_time": "2022-02-24T22:10:47.334Z"
   },
   {
    "duration": 7,
    "start_time": "2022-02-24T22:10:47.365Z"
   },
   {
    "duration": 7,
    "start_time": "2022-02-24T22:10:47.375Z"
   },
   {
    "duration": 601,
    "start_time": "2022-02-24T22:10:47.385Z"
   },
   {
    "duration": 8,
    "start_time": "2022-02-24T22:10:47.988Z"
   },
   {
    "duration": 6,
    "start_time": "2022-02-24T22:10:47.999Z"
   },
   {
    "duration": 9,
    "start_time": "2022-02-24T22:10:48.008Z"
   },
   {
    "duration": 47,
    "start_time": "2022-02-24T22:10:48.019Z"
   },
   {
    "duration": 12,
    "start_time": "2022-02-24T22:10:48.069Z"
   },
   {
    "duration": 13,
    "start_time": "2022-02-24T22:10:48.083Z"
   },
   {
    "duration": 6,
    "start_time": "2022-02-24T22:10:48.098Z"
   },
   {
    "duration": 10,
    "start_time": "2022-02-24T22:10:48.106Z"
   },
   {
    "duration": 51,
    "start_time": "2022-02-24T22:10:48.118Z"
   },
   {
    "duration": 13,
    "start_time": "2022-02-24T22:10:48.171Z"
   },
   {
    "duration": 11,
    "start_time": "2022-02-24T22:10:48.186Z"
   },
   {
    "duration": 9,
    "start_time": "2022-02-24T22:10:48.200Z"
   },
   {
    "duration": 60,
    "start_time": "2022-02-24T22:10:48.212Z"
   },
   {
    "duration": 10,
    "start_time": "2022-02-24T22:10:48.274Z"
   },
   {
    "duration": 10,
    "start_time": "2022-02-24T22:10:48.286Z"
   },
   {
    "duration": 10,
    "start_time": "2022-02-24T22:10:48.298Z"
   },
   {
    "duration": 9,
    "start_time": "2022-02-24T22:10:48.311Z"
   },
   {
    "duration": 1291,
    "start_time": "2022-02-25T03:23:17.471Z"
   },
   {
    "duration": 5,
    "start_time": "2022-02-25T03:23:18.764Z"
   },
   {
    "duration": 66,
    "start_time": "2022-02-25T03:23:18.772Z"
   },
   {
    "duration": 11,
    "start_time": "2022-02-25T03:23:18.840Z"
   },
   {
    "duration": 5,
    "start_time": "2022-02-25T03:23:18.853Z"
   },
   {
    "duration": 10,
    "start_time": "2022-02-25T03:23:18.859Z"
   },
   {
    "duration": 10,
    "start_time": "2022-02-25T03:23:18.871Z"
   },
   {
    "duration": 4,
    "start_time": "2022-02-25T03:23:18.883Z"
   },
   {
    "duration": 9,
    "start_time": "2022-02-25T03:23:18.890Z"
   },
   {
    "duration": 6,
    "start_time": "2022-02-25T03:23:18.901Z"
   },
   {
    "duration": 9,
    "start_time": "2022-02-25T03:23:18.909Z"
   },
   {
    "duration": 4,
    "start_time": "2022-02-25T03:23:18.920Z"
   },
   {
    "duration": 11,
    "start_time": "2022-02-25T03:23:18.926Z"
   },
   {
    "duration": 37,
    "start_time": "2022-02-25T03:23:18.938Z"
   },
   {
    "duration": 6,
    "start_time": "2022-02-25T03:23:18.976Z"
   },
   {
    "duration": 9,
    "start_time": "2022-02-25T03:23:18.984Z"
   },
   {
    "duration": 7,
    "start_time": "2022-02-25T03:23:18.995Z"
   },
   {
    "duration": 12,
    "start_time": "2022-02-25T03:23:19.005Z"
   },
   {
    "duration": 10,
    "start_time": "2022-02-25T03:23:19.018Z"
   },
   {
    "duration": 39,
    "start_time": "2022-02-25T03:23:19.030Z"
   },
   {
    "duration": 7,
    "start_time": "2022-02-25T03:23:19.072Z"
   },
   {
    "duration": 11,
    "start_time": "2022-02-25T03:23:19.081Z"
   },
   {
    "duration": 6,
    "start_time": "2022-02-25T03:23:19.094Z"
   },
   {
    "duration": 12,
    "start_time": "2022-02-25T03:23:19.102Z"
   },
   {
    "duration": 581,
    "start_time": "2022-02-25T03:23:19.116Z"
   },
   {
    "duration": 5,
    "start_time": "2022-02-25T03:23:19.699Z"
   },
   {
    "duration": 17,
    "start_time": "2022-02-25T03:23:19.708Z"
   },
   {
    "duration": 530,
    "start_time": "2022-02-25T03:23:19.728Z"
   },
   {
    "duration": 14,
    "start_time": "2022-02-25T03:23:20.260Z"
   },
   {
    "duration": 25,
    "start_time": "2022-02-25T03:23:20.276Z"
   },
   {
    "duration": 11,
    "start_time": "2022-02-25T03:23:20.303Z"
   },
   {
    "duration": 23,
    "start_time": "2022-02-25T03:23:20.316Z"
   },
   {
    "duration": 9,
    "start_time": "2022-02-25T03:23:20.341Z"
   },
   {
    "duration": 17,
    "start_time": "2022-02-25T03:23:20.352Z"
   },
   {
    "duration": 27,
    "start_time": "2022-02-25T03:23:20.371Z"
   },
   {
    "duration": 7,
    "start_time": "2022-02-25T03:23:20.400Z"
   },
   {
    "duration": 426,
    "start_time": "2022-02-25T03:23:20.408Z"
   },
   {
    "duration": 7,
    "start_time": "2022-02-25T03:23:20.835Z"
   },
   {
    "duration": 418,
    "start_time": "2022-02-25T03:23:20.844Z"
   },
   {
    "duration": 12,
    "start_time": "2022-02-25T03:23:21.263Z"
   },
   {
    "duration": 504,
    "start_time": "2022-02-25T03:23:21.277Z"
   },
   {
    "duration": 7,
    "start_time": "2022-02-25T03:23:21.783Z"
   },
   {
    "duration": 430,
    "start_time": "2022-02-25T03:23:21.792Z"
   },
   {
    "duration": 8,
    "start_time": "2022-02-25T03:23:22.224Z"
   },
   {
    "duration": 514,
    "start_time": "2022-02-25T03:23:22.234Z"
   },
   {
    "duration": 20,
    "start_time": "2022-02-25T03:23:22.750Z"
   },
   {
    "duration": 532,
    "start_time": "2022-02-25T03:23:22.772Z"
   },
   {
    "duration": 5,
    "start_time": "2022-02-25T03:23:23.306Z"
   },
   {
    "duration": 13,
    "start_time": "2022-02-25T03:23:23.312Z"
   },
   {
    "duration": 12,
    "start_time": "2022-02-25T03:23:23.326Z"
   },
   {
    "duration": 20,
    "start_time": "2022-02-25T03:23:23.339Z"
   },
   {
    "duration": 490,
    "start_time": "2022-02-25T03:23:23.361Z"
   },
   {
    "duration": 5,
    "start_time": "2022-02-25T03:23:23.853Z"
   },
   {
    "duration": 22,
    "start_time": "2022-02-25T03:23:23.859Z"
   },
   {
    "duration": 24,
    "start_time": "2022-02-25T03:23:23.882Z"
   },
   {
    "duration": 16,
    "start_time": "2022-02-25T03:23:23.908Z"
   },
   {
    "duration": 20,
    "start_time": "2022-02-25T03:23:23.925Z"
   },
   {
    "duration": 18,
    "start_time": "2022-02-25T03:23:23.947Z"
   },
   {
    "duration": 14,
    "start_time": "2022-02-25T03:23:23.966Z"
   },
   {
    "duration": 16,
    "start_time": "2022-02-25T03:23:23.982Z"
   },
   {
    "duration": 12,
    "start_time": "2022-02-25T03:23:24.000Z"
   },
   {
    "duration": 30,
    "start_time": "2022-02-25T03:23:24.014Z"
   },
   {
    "duration": 18,
    "start_time": "2022-02-25T03:23:24.046Z"
   },
   {
    "duration": 12,
    "start_time": "2022-02-25T03:23:24.067Z"
   },
   {
    "duration": 29,
    "start_time": "2022-02-25T03:23:24.081Z"
   },
   {
    "duration": 9,
    "start_time": "2022-02-25T03:23:24.112Z"
   },
   {
    "duration": 24,
    "start_time": "2022-02-25T03:23:24.123Z"
   },
   {
    "duration": 29,
    "start_time": "2022-02-25T03:23:24.150Z"
   },
   {
    "duration": 22,
    "start_time": "2022-02-25T03:23:24.181Z"
   },
   {
    "duration": 3,
    "start_time": "2022-02-25T03:36:03.235Z"
   },
   {
    "duration": 5,
    "start_time": "2022-02-25T03:36:29.423Z"
   },
   {
    "duration": 97,
    "start_time": "2022-02-25T04:24:53.132Z"
   },
   {
    "duration": 356,
    "start_time": "2022-02-25T04:26:58.402Z"
   },
   {
    "duration": 269,
    "start_time": "2022-02-25T04:34:28.939Z"
   },
   {
    "duration": 410,
    "start_time": "2022-02-25T04:35:57.760Z"
   },
   {
    "duration": 6666,
    "start_time": "2022-02-25T04:36:37.309Z"
   },
   {
    "duration": 6476,
    "start_time": "2022-02-25T04:36:52.876Z"
   },
   {
    "duration": 300,
    "start_time": "2022-02-25T04:40:51.730Z"
   },
   {
    "duration": 272,
    "start_time": "2022-02-25T04:41:10.145Z"
   },
   {
    "duration": 280,
    "start_time": "2022-02-25T04:43:20.832Z"
   },
   {
    "duration": 280,
    "start_time": "2022-02-25T04:46:44.981Z"
   },
   {
    "duration": 1216,
    "start_time": "2022-02-25T04:46:55.546Z"
   },
   {
    "duration": 4,
    "start_time": "2022-02-25T04:46:56.764Z"
   },
   {
    "duration": 73,
    "start_time": "2022-02-25T04:46:56.770Z"
   },
   {
    "duration": 13,
    "start_time": "2022-02-25T04:46:56.845Z"
   },
   {
    "duration": 7,
    "start_time": "2022-02-25T04:46:56.860Z"
   },
   {
    "duration": 11,
    "start_time": "2022-02-25T04:46:56.868Z"
   },
   {
    "duration": 10,
    "start_time": "2022-02-25T04:46:56.880Z"
   },
   {
    "duration": 3,
    "start_time": "2022-02-25T04:46:56.893Z"
   },
   {
    "duration": 11,
    "start_time": "2022-02-25T04:46:56.898Z"
   },
   {
    "duration": 4,
    "start_time": "2022-02-25T04:46:56.911Z"
   },
   {
    "duration": 9,
    "start_time": "2022-02-25T04:46:56.917Z"
   },
   {
    "duration": 7,
    "start_time": "2022-02-25T04:46:56.928Z"
   },
   {
    "duration": 35,
    "start_time": "2022-02-25T04:46:56.936Z"
   },
   {
    "duration": 11,
    "start_time": "2022-02-25T04:46:56.972Z"
   },
   {
    "duration": 14,
    "start_time": "2022-02-25T04:46:56.985Z"
   },
   {
    "duration": 7,
    "start_time": "2022-02-25T04:46:57.001Z"
   },
   {
    "duration": 11,
    "start_time": "2022-02-25T04:46:57.010Z"
   },
   {
    "duration": 12,
    "start_time": "2022-02-25T04:46:57.023Z"
   },
   {
    "duration": 36,
    "start_time": "2022-02-25T04:46:57.037Z"
   },
   {
    "duration": 3,
    "start_time": "2022-02-25T04:46:57.075Z"
   },
   {
    "duration": 8,
    "start_time": "2022-02-25T04:46:57.079Z"
   },
   {
    "duration": 12,
    "start_time": "2022-02-25T04:46:57.089Z"
   },
   {
    "duration": 4,
    "start_time": "2022-02-25T04:46:57.105Z"
   },
   {
    "duration": 17,
    "start_time": "2022-02-25T04:46:57.112Z"
   },
   {
    "duration": 563,
    "start_time": "2022-02-25T04:46:57.130Z"
   },
   {
    "duration": 7,
    "start_time": "2022-02-25T04:46:57.695Z"
   },
   {
    "duration": 14,
    "start_time": "2022-02-25T04:46:57.703Z"
   },
   {
    "duration": 536,
    "start_time": "2022-02-25T04:46:57.719Z"
   },
   {
    "duration": 19,
    "start_time": "2022-02-25T04:46:58.257Z"
   },
   {
    "duration": 25,
    "start_time": "2022-02-25T04:46:58.278Z"
   },
   {
    "duration": 40,
    "start_time": "2022-02-25T04:46:58.305Z"
   },
   {
    "duration": 17,
    "start_time": "2022-02-25T04:46:58.347Z"
   },
   {
    "duration": 22,
    "start_time": "2022-02-25T04:46:58.367Z"
   },
   {
    "duration": 22,
    "start_time": "2022-02-25T04:46:58.391Z"
   },
   {
    "duration": 21,
    "start_time": "2022-02-25T04:46:58.415Z"
   },
   {
    "duration": 32,
    "start_time": "2022-02-25T04:46:58.438Z"
   },
   {
    "duration": 20,
    "start_time": "2022-02-25T04:46:58.472Z"
   },
   {
    "duration": 420,
    "start_time": "2022-02-25T04:46:58.494Z"
   },
   {
    "duration": 9,
    "start_time": "2022-02-25T04:46:58.916Z"
   },
   {
    "duration": 420,
    "start_time": "2022-02-25T04:46:58.927Z"
   },
   {
    "duration": 8,
    "start_time": "2022-02-25T04:46:59.349Z"
   },
   {
    "duration": 503,
    "start_time": "2022-02-25T04:46:59.368Z"
   },
   {
    "duration": 8,
    "start_time": "2022-02-25T04:46:59.873Z"
   },
   {
    "duration": 423,
    "start_time": "2022-02-25T04:46:59.883Z"
   },
   {
    "duration": 9,
    "start_time": "2022-02-25T04:47:00.308Z"
   },
   {
    "duration": 477,
    "start_time": "2022-02-25T04:47:00.318Z"
   },
   {
    "duration": 12,
    "start_time": "2022-02-25T04:47:00.797Z"
   },
   {
    "duration": 579,
    "start_time": "2022-02-25T04:47:00.811Z"
   },
   {
    "duration": 7,
    "start_time": "2022-02-25T04:47:01.392Z"
   },
   {
    "duration": 13,
    "start_time": "2022-02-25T04:47:01.402Z"
   },
   {
    "duration": 10,
    "start_time": "2022-02-25T04:47:01.417Z"
   },
   {
    "duration": 6,
    "start_time": "2022-02-25T04:47:01.429Z"
   },
   {
    "duration": 539,
    "start_time": "2022-02-25T04:47:01.437Z"
   },
   {
    "duration": 7,
    "start_time": "2022-02-25T04:47:01.978Z"
   },
   {
    "duration": 18,
    "start_time": "2022-02-25T04:47:01.986Z"
   },
   {
    "duration": 14,
    "start_time": "2022-02-25T04:47:02.006Z"
   },
   {
    "duration": 13,
    "start_time": "2022-02-25T04:47:02.022Z"
   },
   {
    "duration": 32,
    "start_time": "2022-02-25T04:47:02.036Z"
   },
   {
    "duration": 17,
    "start_time": "2022-02-25T04:47:02.070Z"
   },
   {
    "duration": 16,
    "start_time": "2022-02-25T04:47:02.089Z"
   },
   {
    "duration": 13,
    "start_time": "2022-02-25T04:47:02.108Z"
   },
   {
    "duration": 8,
    "start_time": "2022-02-25T04:47:02.123Z"
   },
   {
    "duration": 14,
    "start_time": "2022-02-25T04:47:02.133Z"
   },
   {
    "duration": 20,
    "start_time": "2022-02-25T04:47:02.150Z"
   },
   {
    "duration": 16,
    "start_time": "2022-02-25T04:47:02.173Z"
   },
   {
    "duration": 15,
    "start_time": "2022-02-25T04:47:02.191Z"
   },
   {
    "duration": 8,
    "start_time": "2022-02-25T04:47:02.208Z"
   },
   {
    "duration": 12,
    "start_time": "2022-02-25T04:47:02.222Z"
   },
   {
    "duration": 11,
    "start_time": "2022-02-25T04:47:02.236Z"
   },
   {
    "duration": 24,
    "start_time": "2022-02-25T04:47:02.249Z"
   },
   {
    "duration": 700,
    "start_time": "2022-02-25T04:47:16.159Z"
   },
   {
    "duration": 45,
    "start_time": "2022-02-25T04:47:22.030Z"
   },
   {
    "duration": 8,
    "start_time": "2022-02-25T04:48:38.654Z"
   },
   {
    "duration": 19,
    "start_time": "2022-02-25T04:49:18.356Z"
   },
   {
    "duration": 24,
    "start_time": "2022-02-25T04:52:36.156Z"
   },
   {
    "duration": 17,
    "start_time": "2022-02-25T04:52:47.435Z"
   },
   {
    "duration": 308,
    "start_time": "2022-02-25T04:53:01.299Z"
   },
   {
    "duration": 17,
    "start_time": "2022-02-25T04:53:20.698Z"
   },
   {
    "duration": 274,
    "start_time": "2022-02-25T04:55:10.376Z"
   },
   {
    "duration": 14,
    "start_time": "2022-02-25T04:55:29.032Z"
   },
   {
    "duration": 262,
    "start_time": "2022-02-25T04:55:59.564Z"
   },
   {
    "duration": 12,
    "start_time": "2022-02-25T04:56:05.170Z"
   },
   {
    "duration": 19,
    "start_time": "2022-02-25T04:56:21.688Z"
   },
   {
    "duration": 83,
    "start_time": "2022-02-25T04:57:24.935Z"
   },
   {
    "duration": 20,
    "start_time": "2022-02-25T04:57:54.031Z"
   },
   {
    "duration": 19,
    "start_time": "2022-02-25T04:59:33.620Z"
   },
   {
    "duration": 21,
    "start_time": "2022-02-25T04:59:48.807Z"
   },
   {
    "duration": 18,
    "start_time": "2022-02-25T05:00:38.656Z"
   },
   {
    "duration": 277,
    "start_time": "2022-02-25T05:15:40.811Z"
   },
   {
    "duration": 14,
    "start_time": "2022-02-25T05:15:45.339Z"
   },
   {
    "duration": 11,
    "start_time": "2022-02-25T05:16:25.097Z"
   },
   {
    "duration": 283,
    "start_time": "2022-02-25T05:17:31.296Z"
   },
   {
    "duration": 8,
    "start_time": "2022-02-25T05:18:46.104Z"
   },
   {
    "duration": 3,
    "start_time": "2022-02-25T05:18:52.959Z"
   },
   {
    "duration": 7,
    "start_time": "2022-02-25T05:33:54.435Z"
   },
   {
    "duration": 6,
    "start_time": "2022-02-25T05:33:57.444Z"
   },
   {
    "duration": 16,
    "start_time": "2022-02-25T05:34:09.020Z"
   },
   {
    "duration": 106,
    "start_time": "2022-02-25T05:34:23.453Z"
   },
   {
    "duration": 13,
    "start_time": "2022-02-25T05:34:28.827Z"
   },
   {
    "duration": 12,
    "start_time": "2022-02-25T05:34:53.435Z"
   },
   {
    "duration": 269,
    "start_time": "2022-02-25T05:34:59.500Z"
   },
   {
    "duration": 10,
    "start_time": "2022-02-25T05:35:12.719Z"
   },
   {
    "duration": 5,
    "start_time": "2022-02-25T05:45:21.237Z"
   },
   {
    "duration": 87,
    "start_time": "2022-02-25T05:45:35.140Z"
   },
   {
    "duration": 706,
    "start_time": "2022-02-25T05:45:51.721Z"
   },
   {
    "duration": 7,
    "start_time": "2022-02-25T05:46:00.429Z"
   },
   {
    "duration": 4,
    "start_time": "2022-02-25T05:46:04.653Z"
   },
   {
    "duration": 4,
    "start_time": "2022-02-25T05:46:08.587Z"
   },
   {
    "duration": 685,
    "start_time": "2022-02-25T05:46:18.874Z"
   },
   {
    "duration": 9,
    "start_time": "2022-02-25T05:46:31.947Z"
   },
   {
    "duration": 6,
    "start_time": "2022-02-25T05:48:06.674Z"
   },
   {
    "duration": 11,
    "start_time": "2022-02-25T05:48:10.134Z"
   },
   {
    "duration": 10,
    "start_time": "2022-02-25T05:48:27.419Z"
   },
   {
    "duration": 12,
    "start_time": "2022-02-25T05:49:32.402Z"
   },
   {
    "duration": 11,
    "start_time": "2022-02-25T05:49:57.554Z"
   },
   {
    "duration": 13,
    "start_time": "2022-02-25T05:50:02.394Z"
   },
   {
    "duration": 11,
    "start_time": "2022-02-25T05:50:10.777Z"
   },
   {
    "duration": 13,
    "start_time": "2022-02-25T05:50:22.435Z"
   },
   {
    "duration": 12,
    "start_time": "2022-02-25T05:50:28.266Z"
   },
   {
    "duration": 8,
    "start_time": "2022-02-25T05:50:50.969Z"
   },
   {
    "duration": 12,
    "start_time": "2022-02-25T05:50:53.737Z"
   },
   {
    "duration": 12,
    "start_time": "2022-02-25T05:51:00.346Z"
   },
   {
    "duration": 271,
    "start_time": "2022-02-25T05:51:51.152Z"
   },
   {
    "duration": 273,
    "start_time": "2022-02-25T05:52:13.064Z"
   },
   {
    "duration": 7,
    "start_time": "2022-02-25T05:52:23.561Z"
   },
   {
    "duration": 262,
    "start_time": "2022-02-25T05:52:27.234Z"
   },
   {
    "duration": 258,
    "start_time": "2022-02-25T06:26:22.384Z"
   },
   {
    "duration": 9,
    "start_time": "2022-02-25T06:26:36.672Z"
   },
   {
    "duration": 9,
    "start_time": "2022-02-25T06:31:29.669Z"
   },
   {
    "duration": 277,
    "start_time": "2022-02-25T06:32:00.747Z"
   },
   {
    "duration": 8,
    "start_time": "2022-02-25T06:32:08.548Z"
   },
   {
    "duration": 676,
    "start_time": "2022-02-25T06:42:00.829Z"
   },
   {
    "duration": 11,
    "start_time": "2022-02-25T06:42:16.645Z"
   },
   {
    "duration": -2332,
    "start_time": "2022-02-25T06:42:39.408Z"
   },
   {
    "duration": 267,
    "start_time": "2022-02-25T06:42:50.934Z"
   },
   {
    "duration": 9,
    "start_time": "2022-02-25T06:43:11.237Z"
   },
   {
    "duration": 276,
    "start_time": "2022-02-25T06:43:23.387Z"
   },
   {
    "duration": 7,
    "start_time": "2022-02-25T06:43:38.069Z"
   },
   {
    "duration": 91,
    "start_time": "2022-02-25T06:47:27.233Z"
   },
   {
    "duration": 11,
    "start_time": "2022-02-25T06:47:31.529Z"
   },
   {
    "duration": 12,
    "start_time": "2022-02-25T06:47:45.104Z"
   },
   {
    "duration": 10,
    "start_time": "2022-02-25T06:47:54.490Z"
   },
   {
    "duration": 11,
    "start_time": "2022-02-25T06:48:57.112Z"
   },
   {
    "duration": 6945,
    "start_time": "2022-02-25T06:49:01.688Z"
   },
   {
    "duration": 11,
    "start_time": "2022-02-25T06:51:32.383Z"
   },
   {
    "duration": 10,
    "start_time": "2022-02-25T06:53:05.733Z"
   },
   {
    "duration": 261,
    "start_time": "2022-02-25T06:59:26.346Z"
   },
   {
    "duration": 87,
    "start_time": "2022-02-25T07:01:49.271Z"
   },
   {
    "duration": 10,
    "start_time": "2022-02-25T07:01:59.183Z"
   },
   {
    "duration": 85,
    "start_time": "2022-02-25T07:02:09.911Z"
   },
   {
    "duration": 8,
    "start_time": "2022-02-25T07:02:14.182Z"
   },
   {
    "duration": 420,
    "start_time": "2022-02-25T07:32:35.523Z"
   },
   {
    "duration": 441,
    "start_time": "2022-02-25T07:34:43.944Z"
   },
   {
    "duration": 585,
    "start_time": "2022-02-25T08:07:33.264Z"
   },
   {
    "duration": 524,
    "start_time": "2022-02-25T08:09:25.471Z"
   },
   {
    "duration": 521,
    "start_time": "2022-02-25T08:09:40.367Z"
   },
   {
    "duration": 1200,
    "start_time": "2022-02-25T08:26:18.751Z"
   },
   {
    "duration": 3,
    "start_time": "2022-02-25T08:26:19.953Z"
   },
   {
    "duration": 105,
    "start_time": "2022-02-25T08:26:19.958Z"
   },
   {
    "duration": 12,
    "start_time": "2022-02-25T08:26:20.065Z"
   },
   {
    "duration": 8,
    "start_time": "2022-02-25T08:26:20.078Z"
   },
   {
    "duration": 12,
    "start_time": "2022-02-25T08:26:20.088Z"
   },
   {
    "duration": 11,
    "start_time": "2022-02-25T08:26:20.102Z"
   },
   {
    "duration": 6,
    "start_time": "2022-02-25T08:26:20.115Z"
   },
   {
    "duration": 11,
    "start_time": "2022-02-25T08:26:20.124Z"
   },
   {
    "duration": 6,
    "start_time": "2022-02-25T08:26:20.137Z"
   },
   {
    "duration": 28,
    "start_time": "2022-02-25T08:26:20.145Z"
   },
   {
    "duration": 6,
    "start_time": "2022-02-25T08:26:20.175Z"
   },
   {
    "duration": 12,
    "start_time": "2022-02-25T08:26:20.183Z"
   },
   {
    "duration": 9,
    "start_time": "2022-02-25T08:26:20.196Z"
   },
   {
    "duration": 9,
    "start_time": "2022-02-25T08:26:20.207Z"
   },
   {
    "duration": 7,
    "start_time": "2022-02-25T08:26:20.218Z"
   },
   {
    "duration": 12,
    "start_time": "2022-02-25T08:26:20.227Z"
   },
   {
    "duration": 39,
    "start_time": "2022-02-25T08:26:20.241Z"
   },
   {
    "duration": 14,
    "start_time": "2022-02-25T08:26:20.282Z"
   },
   {
    "duration": 4,
    "start_time": "2022-02-25T08:26:20.298Z"
   },
   {
    "duration": 8,
    "start_time": "2022-02-25T08:26:20.304Z"
   },
   {
    "duration": 16,
    "start_time": "2022-02-25T08:26:20.313Z"
   },
   {
    "duration": 9,
    "start_time": "2022-02-25T08:26:20.330Z"
   },
   {
    "duration": 30,
    "start_time": "2022-02-25T08:26:20.340Z"
   },
   {
    "duration": 555,
    "start_time": "2022-02-25T08:26:20.372Z"
   },
   {
    "duration": 4,
    "start_time": "2022-02-25T08:26:20.929Z"
   },
   {
    "duration": 11,
    "start_time": "2022-02-25T08:26:20.937Z"
   },
   {
    "duration": 539,
    "start_time": "2022-02-25T08:26:20.951Z"
   },
   {
    "duration": 2,
    "start_time": "2022-02-25T08:26:21.492Z"
   },
   {
    "duration": 12,
    "start_time": "2022-02-25T08:26:21.496Z"
   },
   {
    "duration": 386,
    "start_time": "2022-02-25T08:26:21.510Z"
   },
   {
    "duration": 25,
    "start_time": "2022-02-25T08:26:21.899Z"
   },
   {
    "duration": 11,
    "start_time": "2022-02-25T08:26:21.925Z"
   },
   {
    "duration": 32,
    "start_time": "2022-02-25T08:26:21.937Z"
   },
   {
    "duration": 5,
    "start_time": "2022-02-25T08:26:21.971Z"
   },
   {
    "duration": 7,
    "start_time": "2022-02-25T08:26:21.978Z"
   },
   {
    "duration": 20,
    "start_time": "2022-02-25T08:26:21.987Z"
   },
   {
    "duration": 7,
    "start_time": "2022-02-25T08:26:22.009Z"
   },
   {
    "duration": 461,
    "start_time": "2022-02-25T08:26:22.018Z"
   },
   {
    "duration": 8,
    "start_time": "2022-02-25T08:26:22.481Z"
   },
   {
    "duration": 434,
    "start_time": "2022-02-25T08:26:22.491Z"
   },
   {
    "duration": 8,
    "start_time": "2022-02-25T08:26:22.927Z"
   },
   {
    "duration": 643,
    "start_time": "2022-02-25T08:26:22.937Z"
   },
   {
    "duration": 8,
    "start_time": "2022-02-25T08:26:23.582Z"
   },
   {
    "duration": 414,
    "start_time": "2022-02-25T08:26:23.592Z"
   },
   {
    "duration": 8,
    "start_time": "2022-02-25T08:26:24.008Z"
   },
   {
    "duration": 462,
    "start_time": "2022-02-25T08:26:24.018Z"
   },
   {
    "duration": 10,
    "start_time": "2022-02-25T08:26:24.482Z"
   },
   {
    "duration": 501,
    "start_time": "2022-02-25T08:26:24.494Z"
   },
   {
    "duration": 7,
    "start_time": "2022-02-25T08:26:24.997Z"
   },
   {
    "duration": 14,
    "start_time": "2022-02-25T08:26:25.006Z"
   },
   {
    "duration": 10,
    "start_time": "2022-02-25T08:26:25.021Z"
   },
   {
    "duration": 8,
    "start_time": "2022-02-25T08:26:25.033Z"
   },
   {
    "duration": 521,
    "start_time": "2022-02-25T08:26:25.043Z"
   },
   {
    "duration": 7,
    "start_time": "2022-02-25T08:26:25.566Z"
   },
   {
    "duration": 7,
    "start_time": "2022-02-25T08:26:25.575Z"
   },
   {
    "duration": 8,
    "start_time": "2022-02-25T08:26:25.583Z"
   },
   {
    "duration": 12,
    "start_time": "2022-02-25T08:26:25.593Z"
   },
   {
    "duration": 11,
    "start_time": "2022-02-25T08:26:25.607Z"
   },
   {
    "duration": 11,
    "start_time": "2022-02-25T08:26:25.621Z"
   },
   {
    "duration": 42,
    "start_time": "2022-02-25T08:26:25.634Z"
   },
   {
    "duration": 12,
    "start_time": "2022-02-25T08:26:25.678Z"
   },
   {
    "duration": 11,
    "start_time": "2022-02-25T08:26:25.692Z"
   },
   {
    "duration": 13,
    "start_time": "2022-02-25T08:26:25.705Z"
   },
   {
    "duration": 13,
    "start_time": "2022-02-25T08:26:25.720Z"
   },
   {
    "duration": 37,
    "start_time": "2022-02-25T08:26:25.735Z"
   },
   {
    "duration": 13,
    "start_time": "2022-02-25T08:26:25.773Z"
   },
   {
    "duration": 10,
    "start_time": "2022-02-25T08:26:25.788Z"
   },
   {
    "duration": 10,
    "start_time": "2022-02-25T08:26:25.800Z"
   },
   {
    "duration": 13,
    "start_time": "2022-02-25T08:26:25.812Z"
   },
   {
    "duration": 7,
    "start_time": "2022-02-25T08:26:25.827Z"
   },
   {
    "duration": 1268,
    "start_time": "2022-02-25T09:43:42.704Z"
   },
   {
    "duration": 4,
    "start_time": "2022-02-25T09:43:43.974Z"
   },
   {
    "duration": 84,
    "start_time": "2022-02-25T09:43:43.980Z"
   },
   {
    "duration": 13,
    "start_time": "2022-02-25T09:43:44.066Z"
   },
   {
    "duration": 8,
    "start_time": "2022-02-25T09:43:44.081Z"
   },
   {
    "duration": 11,
    "start_time": "2022-02-25T09:43:44.091Z"
   },
   {
    "duration": 10,
    "start_time": "2022-02-25T09:43:44.104Z"
   },
   {
    "duration": 7,
    "start_time": "2022-02-25T09:43:44.117Z"
   },
   {
    "duration": 10,
    "start_time": "2022-02-25T09:43:44.126Z"
   },
   {
    "duration": 10,
    "start_time": "2022-02-25T09:43:44.138Z"
   },
   {
    "duration": 10,
    "start_time": "2022-02-25T09:43:44.169Z"
   },
   {
    "duration": 8,
    "start_time": "2022-02-25T09:43:44.180Z"
   },
   {
    "duration": 10,
    "start_time": "2022-02-25T09:43:44.190Z"
   },
   {
    "duration": 9,
    "start_time": "2022-02-25T09:43:44.202Z"
   },
   {
    "duration": 9,
    "start_time": "2022-02-25T09:43:44.212Z"
   },
   {
    "duration": 6,
    "start_time": "2022-02-25T09:43:44.222Z"
   },
   {
    "duration": 39,
    "start_time": "2022-02-25T09:43:44.230Z"
   },
   {
    "duration": 12,
    "start_time": "2022-02-25T09:43:44.271Z"
   },
   {
    "duration": 21,
    "start_time": "2022-02-25T09:43:44.284Z"
   },
   {
    "duration": 51,
    "start_time": "2022-02-25T09:43:44.308Z"
   },
   {
    "duration": 7,
    "start_time": "2022-02-25T09:43:44.361Z"
   },
   {
    "duration": 12,
    "start_time": "2022-02-25T09:43:44.370Z"
   },
   {
    "duration": 5,
    "start_time": "2022-02-25T09:43:44.386Z"
   },
   {
    "duration": 10,
    "start_time": "2022-02-25T09:43:44.393Z"
   },
   {
    "duration": 576,
    "start_time": "2022-02-25T09:43:44.405Z"
   },
   {
    "duration": 4,
    "start_time": "2022-02-25T09:43:44.983Z"
   },
   {
    "duration": 15,
    "start_time": "2022-02-25T09:43:44.989Z"
   },
   {
    "duration": 538,
    "start_time": "2022-02-25T09:43:45.006Z"
   },
   {
    "duration": 2,
    "start_time": "2022-02-25T09:43:45.546Z"
   },
   {
    "duration": 20,
    "start_time": "2022-02-25T09:43:45.550Z"
   },
   {
    "duration": 393,
    "start_time": "2022-02-25T09:43:45.572Z"
   },
   {
    "duration": 26,
    "start_time": "2022-02-25T09:43:45.967Z"
   },
   {
    "duration": 12,
    "start_time": "2022-02-25T09:43:45.995Z"
   },
   {
    "duration": 14,
    "start_time": "2022-02-25T09:43:46.009Z"
   },
   {
    "duration": 9,
    "start_time": "2022-02-25T09:43:46.024Z"
   },
   {
    "duration": 11,
    "start_time": "2022-02-25T09:43:46.036Z"
   },
   {
    "duration": 33,
    "start_time": "2022-02-25T09:43:46.049Z"
   },
   {
    "duration": 9,
    "start_time": "2022-02-25T09:43:46.083Z"
   },
   {
    "duration": 442,
    "start_time": "2022-02-25T09:43:46.094Z"
   },
   {
    "duration": 7,
    "start_time": "2022-02-25T09:43:46.538Z"
   },
   {
    "duration": 423,
    "start_time": "2022-02-25T09:43:46.546Z"
   },
   {
    "duration": 9,
    "start_time": "2022-02-25T09:43:46.971Z"
   },
   {
    "duration": 635,
    "start_time": "2022-02-25T09:43:46.981Z"
   },
   {
    "duration": 7,
    "start_time": "2022-02-25T09:43:47.618Z"
   },
   {
    "duration": 443,
    "start_time": "2022-02-25T09:43:47.627Z"
   },
   {
    "duration": 8,
    "start_time": "2022-02-25T09:43:48.072Z"
   },
   {
    "duration": 493,
    "start_time": "2022-02-25T09:43:48.082Z"
   },
   {
    "duration": 11,
    "start_time": "2022-02-25T09:43:48.577Z"
   },
   {
    "duration": 483,
    "start_time": "2022-02-25T09:43:48.589Z"
   },
   {
    "duration": 5,
    "start_time": "2022-02-25T09:43:49.074Z"
   },
   {
    "duration": 7,
    "start_time": "2022-02-25T09:43:49.081Z"
   },
   {
    "duration": 6,
    "start_time": "2022-02-25T09:43:49.090Z"
   },
   {
    "duration": 10,
    "start_time": "2022-02-25T09:43:49.098Z"
   },
   {
    "duration": 480,
    "start_time": "2022-02-25T09:43:49.110Z"
   },
   {
    "duration": 6,
    "start_time": "2022-02-25T09:43:49.593Z"
   },
   {
    "duration": 11,
    "start_time": "2022-02-25T09:43:49.601Z"
   },
   {
    "duration": 30,
    "start_time": "2022-02-25T09:43:49.614Z"
   },
   {
    "duration": 43,
    "start_time": "2022-02-25T09:43:49.645Z"
   },
   {
    "duration": 31,
    "start_time": "2022-02-25T09:43:49.690Z"
   },
   {
    "duration": 27,
    "start_time": "2022-02-25T09:43:49.723Z"
   },
   {
    "duration": 36,
    "start_time": "2022-02-25T09:43:49.751Z"
   },
   {
    "duration": 28,
    "start_time": "2022-02-25T09:43:49.789Z"
   },
   {
    "duration": 34,
    "start_time": "2022-02-25T09:43:49.819Z"
   },
   {
    "duration": 32,
    "start_time": "2022-02-25T09:43:49.855Z"
   },
   {
    "duration": 20,
    "start_time": "2022-02-25T09:43:49.889Z"
   },
   {
    "duration": 42,
    "start_time": "2022-02-25T09:43:49.911Z"
   },
   {
    "duration": 38,
    "start_time": "2022-02-25T09:43:49.955Z"
   },
   {
    "duration": 11,
    "start_time": "2022-02-25T09:43:49.998Z"
   },
   {
    "duration": 55,
    "start_time": "2022-02-25T09:43:50.011Z"
   },
   {
    "duration": 17,
    "start_time": "2022-02-25T09:43:50.068Z"
   },
   {
    "duration": 38,
    "start_time": "2022-02-25T09:43:50.086Z"
   },
   {
    "duration": 545,
    "start_time": "2022-02-25T09:47:08.768Z"
   },
   {
    "duration": 516,
    "start_time": "2022-02-25T09:47:22.991Z"
   },
   {
    "duration": 413,
    "start_time": "2022-02-25T09:47:55.707Z"
   },
   {
    "duration": 557,
    "start_time": "2022-02-25T09:48:03.743Z"
   },
   {
    "duration": 617,
    "start_time": "2022-02-25T09:49:59.148Z"
   },
   {
    "duration": 736,
    "start_time": "2022-02-25T09:50:51.357Z"
   },
   {
    "duration": 523,
    "start_time": "2022-02-25T09:54:23.803Z"
   },
   {
    "duration": 656,
    "start_time": "2022-02-25T09:54:53.258Z"
   },
   {
    "duration": 746,
    "start_time": "2022-02-25T09:55:23.241Z"
   },
   {
    "duration": 515,
    "start_time": "2022-02-25T09:55:32.676Z"
   },
   {
    "duration": 82,
    "start_time": "2022-02-25T09:55:49.266Z"
   },
   {
    "duration": 486,
    "start_time": "2022-02-25T09:55:56.546Z"
   },
   {
    "duration": 92,
    "start_time": "2022-02-25T09:55:59.989Z"
   },
   {
    "duration": 492,
    "start_time": "2022-02-25T09:56:07.297Z"
   },
   {
    "duration": 606,
    "start_time": "2022-02-25T09:57:06.523Z"
   },
   {
    "duration": 596,
    "start_time": "2022-02-25T09:58:15.874Z"
   },
   {
    "duration": 1555,
    "start_time": "2022-02-25T13:57:50.395Z"
   },
   {
    "duration": 11,
    "start_time": "2022-02-25T13:57:51.953Z"
   },
   {
    "duration": 77,
    "start_time": "2022-02-25T13:57:51.968Z"
   },
   {
    "duration": 17,
    "start_time": "2022-02-25T13:57:52.048Z"
   },
   {
    "duration": 6,
    "start_time": "2022-02-25T13:57:52.068Z"
   },
   {
    "duration": 14,
    "start_time": "2022-02-25T13:57:52.076Z"
   },
   {
    "duration": 18,
    "start_time": "2022-02-25T13:57:52.093Z"
   },
   {
    "duration": 5,
    "start_time": "2022-02-25T13:57:52.115Z"
   },
   {
    "duration": 51,
    "start_time": "2022-02-25T13:57:52.124Z"
   },
   {
    "duration": 9,
    "start_time": "2022-02-25T13:57:52.178Z"
   },
   {
    "duration": 15,
    "start_time": "2022-02-25T13:57:52.190Z"
   },
   {
    "duration": 8,
    "start_time": "2022-02-25T13:57:52.207Z"
   },
   {
    "duration": 50,
    "start_time": "2022-02-25T13:57:52.218Z"
   },
   {
    "duration": 15,
    "start_time": "2022-02-25T13:57:52.272Z"
   },
   {
    "duration": 10,
    "start_time": "2022-02-25T13:57:52.290Z"
   },
   {
    "duration": 7,
    "start_time": "2022-02-25T13:57:52.302Z"
   },
   {
    "duration": 53,
    "start_time": "2022-02-25T13:57:52.312Z"
   },
   {
    "duration": 21,
    "start_time": "2022-02-25T13:57:52.367Z"
   },
   {
    "duration": 14,
    "start_time": "2022-02-25T13:57:52.390Z"
   },
   {
    "duration": 4,
    "start_time": "2022-02-25T13:57:52.407Z"
   },
   {
    "duration": 6,
    "start_time": "2022-02-25T13:57:52.414Z"
   },
   {
    "duration": 49,
    "start_time": "2022-02-25T13:57:52.423Z"
   },
   {
    "duration": 7,
    "start_time": "2022-02-25T13:57:52.479Z"
   },
   {
    "duration": 22,
    "start_time": "2022-02-25T13:57:52.490Z"
   },
   {
    "duration": 904,
    "start_time": "2022-02-25T13:57:52.515Z"
   },
   {
    "duration": 5,
    "start_time": "2022-02-25T13:57:53.422Z"
   },
   {
    "duration": 33,
    "start_time": "2022-02-25T13:57:53.430Z"
   },
   {
    "duration": 756,
    "start_time": "2022-02-25T13:57:53.466Z"
   },
   {
    "duration": 3,
    "start_time": "2022-02-25T13:57:54.224Z"
   },
   {
    "duration": 33,
    "start_time": "2022-02-25T13:57:54.230Z"
   },
   {
    "duration": 680,
    "start_time": "2022-02-25T13:57:54.267Z"
   },
   {
    "duration": 65,
    "start_time": "2022-02-25T13:57:54.950Z"
   },
   {
    "duration": 20,
    "start_time": "2022-02-25T13:57:55.019Z"
   },
   {
    "duration": 35,
    "start_time": "2022-02-25T13:57:55.042Z"
   },
   {
    "duration": 11,
    "start_time": "2022-02-25T13:57:55.080Z"
   },
   {
    "duration": 12,
    "start_time": "2022-02-25T13:57:55.093Z"
   },
   {
    "duration": 25,
    "start_time": "2022-02-25T13:57:55.108Z"
   },
   {
    "duration": 28,
    "start_time": "2022-02-25T13:57:55.135Z"
   },
   {
    "duration": 654,
    "start_time": "2022-02-25T13:57:55.168Z"
   },
   {
    "duration": 11,
    "start_time": "2022-02-25T13:57:55.825Z"
   },
   {
    "duration": 785,
    "start_time": "2022-02-25T13:57:55.839Z"
   },
   {
    "duration": 12,
    "start_time": "2022-02-25T13:57:56.627Z"
   },
   {
    "duration": 912,
    "start_time": "2022-02-25T13:57:56.642Z"
   },
   {
    "duration": 10,
    "start_time": "2022-02-25T13:57:57.561Z"
   },
   {
    "duration": 642,
    "start_time": "2022-02-25T13:57:57.574Z"
   },
   {
    "duration": 12,
    "start_time": "2022-02-25T13:57:58.219Z"
   },
   {
    "duration": 787,
    "start_time": "2022-02-25T13:57:58.233Z"
   },
   {
    "duration": 18,
    "start_time": "2022-02-25T13:57:59.022Z"
   },
   {
    "duration": 873,
    "start_time": "2022-02-25T13:57:59.043Z"
   },
   {
    "duration": 9,
    "start_time": "2022-02-25T13:57:59.919Z"
   },
   {
    "duration": 31,
    "start_time": "2022-02-25T13:57:59.930Z"
   },
   {
    "duration": 9,
    "start_time": "2022-02-25T13:57:59.964Z"
   },
   {
    "duration": 11,
    "start_time": "2022-02-25T13:57:59.976Z"
   },
   {
    "duration": 722,
    "start_time": "2022-02-25T13:57:59.990Z"
   },
   {
    "duration": 991,
    "start_time": "2022-02-25T13:58:00.714Z"
   },
   {
    "duration": 8,
    "start_time": "2022-02-25T13:58:01.707Z"
   },
   {
    "duration": 9,
    "start_time": "2022-02-25T13:58:01.717Z"
   },
   {
    "duration": 36,
    "start_time": "2022-02-25T13:58:01.729Z"
   },
   {
    "duration": 17,
    "start_time": "2022-02-25T13:58:01.768Z"
   },
   {
    "duration": 18,
    "start_time": "2022-02-25T13:58:01.787Z"
   },
   {
    "duration": 32,
    "start_time": "2022-02-25T13:58:01.807Z"
   },
   {
    "duration": 19,
    "start_time": "2022-02-25T13:58:01.842Z"
   },
   {
    "duration": 14,
    "start_time": "2022-02-25T13:58:01.864Z"
   },
   {
    "duration": 19,
    "start_time": "2022-02-25T13:58:01.881Z"
   },
   {
    "duration": 17,
    "start_time": "2022-02-25T13:58:01.905Z"
   },
   {
    "duration": 40,
    "start_time": "2022-02-25T13:58:01.925Z"
   },
   {
    "duration": 12,
    "start_time": "2022-02-25T13:58:01.969Z"
   },
   {
    "duration": 16,
    "start_time": "2022-02-25T13:58:01.990Z"
   },
   {
    "duration": 14,
    "start_time": "2022-02-25T13:58:02.009Z"
   },
   {
    "duration": 7,
    "start_time": "2022-02-25T13:58:02.062Z"
   },
   {
    "duration": 16,
    "start_time": "2022-02-25T13:58:02.072Z"
   },
   {
    "duration": 10,
    "start_time": "2022-02-25T13:58:02.092Z"
   },
   {
    "duration": 108,
    "start_time": "2022-02-25T14:02:51.921Z"
   },
   {
    "duration": 1515,
    "start_time": "2022-02-25T14:03:03.129Z"
   },
   {
    "duration": 8,
    "start_time": "2022-02-25T14:03:24.923Z"
   },
   {
    "duration": 1648,
    "start_time": "2022-02-25T14:03:31.159Z"
   },
   {
    "duration": 4,
    "start_time": "2022-02-25T14:03:32.811Z"
   },
   {
    "duration": 47,
    "start_time": "2022-02-25T14:03:32.818Z"
   },
   {
    "duration": 19,
    "start_time": "2022-02-25T14:03:32.868Z"
   },
   {
    "duration": 12,
    "start_time": "2022-02-25T14:03:32.891Z"
   },
   {
    "duration": 19,
    "start_time": "2022-02-25T14:03:32.906Z"
   },
   {
    "duration": 40,
    "start_time": "2022-02-25T14:03:32.928Z"
   },
   {
    "duration": 7,
    "start_time": "2022-02-25T14:03:32.973Z"
   },
   {
    "duration": 16,
    "start_time": "2022-02-25T14:03:32.984Z"
   },
   {
    "duration": 8,
    "start_time": "2022-02-25T14:03:33.002Z"
   },
   {
    "duration": 20,
    "start_time": "2022-02-25T14:03:33.013Z"
   },
   {
    "duration": 34,
    "start_time": "2022-02-25T14:03:33.036Z"
   },
   {
    "duration": 11,
    "start_time": "2022-02-25T14:03:33.072Z"
   },
   {
    "duration": 11,
    "start_time": "2022-02-25T14:03:33.086Z"
   },
   {
    "duration": 11,
    "start_time": "2022-02-25T14:03:33.102Z"
   },
   {
    "duration": 7,
    "start_time": "2022-02-25T14:03:33.116Z"
   },
   {
    "duration": 22,
    "start_time": "2022-02-25T14:03:33.125Z"
   },
   {
    "duration": 19,
    "start_time": "2022-02-25T14:03:33.150Z"
   },
   {
    "duration": 16,
    "start_time": "2022-02-25T14:03:33.173Z"
   },
   {
    "duration": 4,
    "start_time": "2022-02-25T14:03:33.192Z"
   },
   {
    "duration": 17,
    "start_time": "2022-02-25T14:03:33.199Z"
   },
   {
    "duration": 19,
    "start_time": "2022-02-25T14:03:33.219Z"
   },
   {
    "duration": 12,
    "start_time": "2022-02-25T14:03:33.245Z"
   },
   {
    "duration": 28,
    "start_time": "2022-02-25T14:03:33.261Z"
   },
   {
    "duration": 845,
    "start_time": "2022-02-25T14:03:33.292Z"
   },
   {
    "duration": 6,
    "start_time": "2022-02-25T14:03:34.140Z"
   },
   {
    "duration": 19,
    "start_time": "2022-02-25T14:03:34.149Z"
   },
   {
    "duration": 1242,
    "start_time": "2022-02-25T14:03:34.171Z"
   },
   {
    "duration": 3,
    "start_time": "2022-02-25T14:03:35.416Z"
   },
   {
    "duration": 50,
    "start_time": "2022-02-25T14:03:35.421Z"
   },
   {
    "duration": 646,
    "start_time": "2022-02-25T14:03:35.474Z"
   },
   {
    "duration": 47,
    "start_time": "2022-02-25T14:03:36.123Z"
   },
   {
    "duration": 23,
    "start_time": "2022-02-25T14:03:36.172Z"
   },
   {
    "duration": 33,
    "start_time": "2022-02-25T14:03:36.198Z"
   },
   {
    "duration": 16,
    "start_time": "2022-02-25T14:03:36.234Z"
   },
   {
    "duration": 19,
    "start_time": "2022-02-25T14:03:36.252Z"
   },
   {
    "duration": 43,
    "start_time": "2022-02-25T14:03:36.274Z"
   },
   {
    "duration": 12,
    "start_time": "2022-02-25T14:03:36.320Z"
   },
   {
    "duration": 593,
    "start_time": "2022-02-25T14:03:36.335Z"
   },
   {
    "duration": 11,
    "start_time": "2022-02-25T14:03:36.931Z"
   },
   {
    "duration": 628,
    "start_time": "2022-02-25T14:03:36.944Z"
   },
   {
    "duration": 12,
    "start_time": "2022-02-25T14:03:37.575Z"
   },
   {
    "duration": 864,
    "start_time": "2022-02-25T14:03:37.590Z"
   },
   {
    "duration": 14,
    "start_time": "2022-02-25T14:03:38.457Z"
   },
   {
    "duration": 634,
    "start_time": "2022-02-25T14:03:38.474Z"
   },
   {
    "duration": 24,
    "start_time": "2022-02-25T14:03:39.111Z"
   },
   {
    "duration": 692,
    "start_time": "2022-02-25T14:03:39.139Z"
   },
   {
    "duration": 29,
    "start_time": "2022-02-25T14:03:39.834Z"
   },
   {
    "duration": 949,
    "start_time": "2022-02-25T14:03:39.866Z"
   },
   {
    "duration": 9,
    "start_time": "2022-02-25T14:03:40.818Z"
   },
   {
    "duration": 35,
    "start_time": "2022-02-25T14:03:40.829Z"
   },
   {
    "duration": 10,
    "start_time": "2022-02-25T14:03:40.868Z"
   },
   {
    "duration": 8,
    "start_time": "2022-02-25T14:03:40.882Z"
   },
   {
    "duration": 648,
    "start_time": "2022-02-25T14:03:40.893Z"
   },
   {
    "duration": 826,
    "start_time": "2022-02-25T14:03:41.545Z"
   },
   {
    "duration": 10,
    "start_time": "2022-02-25T14:03:42.374Z"
   },
   {
    "duration": 12,
    "start_time": "2022-02-25T14:03:42.387Z"
   },
   {
    "duration": 12,
    "start_time": "2022-02-25T14:03:42.402Z"
   },
   {
    "duration": 52,
    "start_time": "2022-02-25T14:03:42.417Z"
   },
   {
    "duration": 16,
    "start_time": "2022-02-25T14:03:42.472Z"
   },
   {
    "duration": 16,
    "start_time": "2022-02-25T14:03:42.491Z"
   },
   {
    "duration": 12,
    "start_time": "2022-02-25T14:03:42.510Z"
   },
   {
    "duration": 42,
    "start_time": "2022-02-25T14:03:42.525Z"
   },
   {
    "duration": 12,
    "start_time": "2022-02-25T14:03:42.569Z"
   },
   {
    "duration": 16,
    "start_time": "2022-02-25T14:03:42.584Z"
   },
   {
    "duration": 19,
    "start_time": "2022-02-25T14:03:42.603Z"
   },
   {
    "duration": 46,
    "start_time": "2022-02-25T14:03:42.625Z"
   },
   {
    "duration": 17,
    "start_time": "2022-02-25T14:03:42.679Z"
   },
   {
    "duration": 11,
    "start_time": "2022-02-25T14:03:42.699Z"
   },
   {
    "duration": 50,
    "start_time": "2022-02-25T14:03:42.714Z"
   },
   {
    "duration": 13,
    "start_time": "2022-02-25T14:03:42.767Z"
   },
   {
    "duration": 14,
    "start_time": "2022-02-25T14:03:42.783Z"
   },
   {
    "duration": 1688,
    "start_time": "2022-02-25T14:04:10.147Z"
   },
   {
    "duration": 1540,
    "start_time": "2022-02-25T14:06:58.263Z"
   },
   {
    "duration": 1477,
    "start_time": "2022-02-25T14:07:29.880Z"
   },
   {
    "duration": 8,
    "start_time": "2022-02-25T14:08:00.023Z"
   },
   {
    "duration": 1377,
    "start_time": "2022-02-25T14:08:27.447Z"
   },
   {
    "duration": 1514,
    "start_time": "2022-02-25T14:13:45.316Z"
   },
   {
    "duration": 5,
    "start_time": "2022-02-25T14:13:46.833Z"
   },
   {
    "duration": 49,
    "start_time": "2022-02-25T14:13:46.841Z"
   },
   {
    "duration": 17,
    "start_time": "2022-02-25T14:13:46.893Z"
   },
   {
    "duration": 5,
    "start_time": "2022-02-25T14:13:46.912Z"
   },
   {
    "duration": 11,
    "start_time": "2022-02-25T14:13:46.919Z"
   },
   {
    "duration": 13,
    "start_time": "2022-02-25T14:13:46.932Z"
   },
   {
    "duration": 4,
    "start_time": "2022-02-25T14:13:46.963Z"
   },
   {
    "duration": 11,
    "start_time": "2022-02-25T14:13:46.971Z"
   },
   {
    "duration": 5,
    "start_time": "2022-02-25T14:13:46.985Z"
   },
   {
    "duration": 8,
    "start_time": "2022-02-25T14:13:46.993Z"
   },
   {
    "duration": 9,
    "start_time": "2022-02-25T14:13:47.004Z"
   },
   {
    "duration": 21,
    "start_time": "2022-02-25T14:13:47.062Z"
   },
   {
    "duration": 8,
    "start_time": "2022-02-25T14:13:47.085Z"
   },
   {
    "duration": 9,
    "start_time": "2022-02-25T14:13:47.096Z"
   },
   {
    "duration": 53,
    "start_time": "2022-02-25T14:13:47.108Z"
   },
   {
    "duration": 1434,
    "start_time": "2022-02-25T14:13:47.164Z"
   },
   {
    "duration": 50,
    "start_time": "2022-02-25T14:13:48.553Z"
   },
   {
    "duration": 40,
    "start_time": "2022-02-25T14:13:48.565Z"
   },
   {
    "duration": 30,
    "start_time": "2022-02-25T14:13:48.576Z"
   },
   {
    "duration": 24,
    "start_time": "2022-02-25T14:13:48.584Z"
   },
   {
    "duration": 17,
    "start_time": "2022-02-25T14:13:48.593Z"
   },
   {
    "duration": 10,
    "start_time": "2022-02-25T14:13:48.601Z"
   },
   {
    "duration": 3,
    "start_time": "2022-02-25T14:13:48.610Z"
   },
   {
    "duration": -2,
    "start_time": "2022-02-25T14:13:48.616Z"
   },
   {
    "duration": -10,
    "start_time": "2022-02-25T14:13:48.626Z"
   },
   {
    "duration": -16,
    "start_time": "2022-02-25T14:13:48.633Z"
   },
   {
    "duration": -24,
    "start_time": "2022-02-25T14:13:48.642Z"
   },
   {
    "duration": -29,
    "start_time": "2022-02-25T14:13:48.649Z"
   },
   {
    "duration": -38,
    "start_time": "2022-02-25T14:13:48.659Z"
   },
   {
    "duration": -44,
    "start_time": "2022-02-25T14:13:48.666Z"
   },
   {
    "duration": -52,
    "start_time": "2022-02-25T14:13:48.676Z"
   },
   {
    "duration": -58,
    "start_time": "2022-02-25T14:13:48.683Z"
   },
   {
    "duration": -68,
    "start_time": "2022-02-25T14:13:48.694Z"
   },
   {
    "duration": -73,
    "start_time": "2022-02-25T14:13:48.700Z"
   },
   {
    "duration": -120,
    "start_time": "2022-02-25T14:13:48.749Z"
   },
   {
    "duration": -129,
    "start_time": "2022-02-25T14:13:48.759Z"
   },
   {
    "duration": -136,
    "start_time": "2022-02-25T14:13:48.767Z"
   },
   {
    "duration": -144,
    "start_time": "2022-02-25T14:13:48.776Z"
   },
   {
    "duration": -148,
    "start_time": "2022-02-25T14:13:48.782Z"
   },
   {
    "duration": -156,
    "start_time": "2022-02-25T14:13:48.791Z"
   },
   {
    "duration": -162,
    "start_time": "2022-02-25T14:13:48.798Z"
   },
   {
    "duration": -171,
    "start_time": "2022-02-25T14:13:48.808Z"
   },
   {
    "duration": -177,
    "start_time": "2022-02-25T14:13:48.815Z"
   },
   {
    "duration": -164,
    "start_time": "2022-02-25T14:13:48.824Z"
   },
   {
    "duration": -169,
    "start_time": "2022-02-25T14:13:48.830Z"
   },
   {
    "duration": -176,
    "start_time": "2022-02-25T14:13:48.839Z"
   },
   {
    "duration": -182,
    "start_time": "2022-02-25T14:13:48.846Z"
   },
   {
    "duration": -189,
    "start_time": "2022-02-25T14:13:48.855Z"
   },
   {
    "duration": -194,
    "start_time": "2022-02-25T14:13:48.861Z"
   },
   {
    "duration": -202,
    "start_time": "2022-02-25T14:13:48.870Z"
   },
   {
    "duration": -207,
    "start_time": "2022-02-25T14:13:48.877Z"
   },
   {
    "duration": -211,
    "start_time": "2022-02-25T14:13:48.883Z"
   },
   {
    "duration": -219,
    "start_time": "2022-02-25T14:13:48.892Z"
   },
   {
    "duration": -224,
    "start_time": "2022-02-25T14:13:48.899Z"
   },
   {
    "duration": -232,
    "start_time": "2022-02-25T14:13:48.908Z"
   },
   {
    "duration": -238,
    "start_time": "2022-02-25T14:13:48.916Z"
   },
   {
    "duration": -247,
    "start_time": "2022-02-25T14:13:48.926Z"
   },
   {
    "duration": -250,
    "start_time": "2022-02-25T14:13:48.931Z"
   },
   {
    "duration": -259,
    "start_time": "2022-02-25T14:13:48.941Z"
   },
   {
    "duration": -264,
    "start_time": "2022-02-25T14:13:48.948Z"
   },
   {
    "duration": -273,
    "start_time": "2022-02-25T14:13:48.958Z"
   },
   {
    "duration": -278,
    "start_time": "2022-02-25T14:13:48.965Z"
   },
   {
    "duration": -286,
    "start_time": "2022-02-25T14:13:48.974Z"
   },
   {
    "duration": -291,
    "start_time": "2022-02-25T14:13:48.981Z"
   },
   {
    "duration": -300,
    "start_time": "2022-02-25T14:13:48.991Z"
   },
   {
    "duration": -305,
    "start_time": "2022-02-25T14:13:48.998Z"
   },
   {
    "duration": -313,
    "start_time": "2022-02-25T14:13:49.007Z"
   },
   {
    "duration": -318,
    "start_time": "2022-02-25T14:13:49.014Z"
   },
   {
    "duration": -327,
    "start_time": "2022-02-25T14:13:49.024Z"
   },
   {
    "duration": -266,
    "start_time": "2022-02-25T14:13:49.031Z"
   },
   {
    "duration": -276,
    "start_time": "2022-02-25T14:13:49.042Z"
   },
   {
    "duration": -281,
    "start_time": "2022-02-25T14:13:49.049Z"
   },
   {
    "duration": 6,
    "start_time": "2022-02-25T14:17:59.802Z"
   },
   {
    "duration": 1479,
    "start_time": "2022-02-25T14:18:23.752Z"
   },
   {
    "duration": 5,
    "start_time": "2022-02-25T14:18:25.235Z"
   },
   {
    "duration": 41,
    "start_time": "2022-02-25T14:18:25.261Z"
   },
   {
    "duration": 18,
    "start_time": "2022-02-25T14:18:25.304Z"
   },
   {
    "duration": 4,
    "start_time": "2022-02-25T14:18:25.325Z"
   },
   {
    "duration": 15,
    "start_time": "2022-02-25T14:18:25.333Z"
   },
   {
    "duration": 18,
    "start_time": "2022-02-25T14:18:25.351Z"
   },
   {
    "duration": 3,
    "start_time": "2022-02-25T14:18:25.373Z"
   },
   {
    "duration": 13,
    "start_time": "2022-02-25T14:18:25.379Z"
   },
   {
    "duration": 4,
    "start_time": "2022-02-25T14:18:25.394Z"
   },
   {
    "duration": 6,
    "start_time": "2022-02-25T14:18:25.401Z"
   },
   {
    "duration": 53,
    "start_time": "2022-02-25T14:18:25.409Z"
   },
   {
    "duration": 19,
    "start_time": "2022-02-25T14:18:25.465Z"
   },
   {
    "duration": 11,
    "start_time": "2022-02-25T14:18:25.486Z"
   },
   {
    "duration": 9,
    "start_time": "2022-02-25T14:18:25.500Z"
   },
   {
    "duration": 8,
    "start_time": "2022-02-25T14:18:25.511Z"
   },
   {
    "duration": 39,
    "start_time": "2022-02-25T14:18:25.522Z"
   },
   {
    "duration": 9,
    "start_time": "2022-02-25T14:18:25.564Z"
   },
   {
    "duration": 19,
    "start_time": "2022-02-25T14:18:25.575Z"
   },
   {
    "duration": 13,
    "start_time": "2022-02-25T14:18:25.597Z"
   },
   {
    "duration": 3,
    "start_time": "2022-02-25T14:18:25.613Z"
   },
   {
    "duration": 7,
    "start_time": "2022-02-25T14:18:25.661Z"
   },
   {
    "duration": 15,
    "start_time": "2022-02-25T14:18:25.674Z"
   },
   {
    "duration": 6,
    "start_time": "2022-02-25T14:18:25.693Z"
   },
   {
    "duration": 14,
    "start_time": "2022-02-25T14:18:25.701Z"
   },
   {
    "duration": 779,
    "start_time": "2022-02-25T14:18:25.717Z"
   },
   {
    "duration": 6,
    "start_time": "2022-02-25T14:18:26.499Z"
   },
   {
    "duration": 18,
    "start_time": "2022-02-25T14:18:26.508Z"
   },
   {
    "duration": 746,
    "start_time": "2022-02-25T14:18:26.529Z"
   },
   {
    "duration": 3,
    "start_time": "2022-02-25T14:18:27.279Z"
   },
   {
    "duration": 15,
    "start_time": "2022-02-25T14:18:27.285Z"
   },
   {
    "duration": 661,
    "start_time": "2022-02-25T14:18:27.304Z"
   },
   {
    "duration": 35,
    "start_time": "2022-02-25T14:18:27.969Z"
   },
   {
    "duration": 17,
    "start_time": "2022-02-25T14:18:28.007Z"
   },
   {
    "duration": 44,
    "start_time": "2022-02-25T14:18:28.026Z"
   },
   {
    "duration": 13,
    "start_time": "2022-02-25T14:18:28.073Z"
   },
   {
    "duration": 8,
    "start_time": "2022-02-25T14:18:28.089Z"
   },
   {
    "duration": 26,
    "start_time": "2022-02-25T14:18:28.100Z"
   },
   {
    "duration": 38,
    "start_time": "2022-02-25T14:18:28.129Z"
   },
   {
    "duration": 624,
    "start_time": "2022-02-25T14:18:28.169Z"
   },
   {
    "duration": 11,
    "start_time": "2022-02-25T14:18:28.796Z"
   },
   {
    "duration": 603,
    "start_time": "2022-02-25T14:18:28.811Z"
   },
   {
    "duration": 11,
    "start_time": "2022-02-25T14:18:29.417Z"
   },
   {
    "duration": 839,
    "start_time": "2022-02-25T14:18:29.431Z"
   },
   {
    "duration": 11,
    "start_time": "2022-02-25T14:18:30.273Z"
   },
   {
    "duration": 605,
    "start_time": "2022-02-25T14:18:30.287Z"
   },
   {
    "duration": 11,
    "start_time": "2022-02-25T14:18:30.894Z"
   },
   {
    "duration": 694,
    "start_time": "2022-02-25T14:18:30.908Z"
   },
   {
    "duration": 16,
    "start_time": "2022-02-25T14:18:31.604Z"
   },
   {
    "duration": 688,
    "start_time": "2022-02-25T14:18:31.622Z"
   },
   {
    "duration": 9,
    "start_time": "2022-02-25T14:18:32.312Z"
   },
   {
    "duration": 11,
    "start_time": "2022-02-25T14:18:32.323Z"
   },
   {
    "duration": 26,
    "start_time": "2022-02-25T14:18:32.337Z"
   },
   {
    "duration": 8,
    "start_time": "2022-02-25T14:18:32.366Z"
   },
   {
    "duration": 635,
    "start_time": "2022-02-25T14:18:32.377Z"
   },
   {
    "duration": 1114,
    "start_time": "2022-02-25T14:18:33.014Z"
   },
   {
    "duration": 11,
    "start_time": "2022-02-25T14:18:34.131Z"
   },
   {
    "duration": 7,
    "start_time": "2022-02-25T14:18:34.163Z"
   },
   {
    "duration": 7,
    "start_time": "2022-02-25T14:18:34.173Z"
   },
   {
    "duration": 16,
    "start_time": "2022-02-25T14:18:34.183Z"
   },
   {
    "duration": 14,
    "start_time": "2022-02-25T14:18:34.202Z"
   },
   {
    "duration": 15,
    "start_time": "2022-02-25T14:18:34.261Z"
   },
   {
    "duration": 10,
    "start_time": "2022-02-25T14:18:34.279Z"
   },
   {
    "duration": 13,
    "start_time": "2022-02-25T14:18:34.292Z"
   },
   {
    "duration": 12,
    "start_time": "2022-02-25T14:18:34.308Z"
   },
   {
    "duration": 46,
    "start_time": "2022-02-25T14:18:34.323Z"
   },
   {
    "duration": 13,
    "start_time": "2022-02-25T14:18:34.372Z"
   },
   {
    "duration": 10,
    "start_time": "2022-02-25T14:18:34.392Z"
   },
   {
    "duration": 58,
    "start_time": "2022-02-25T14:18:34.404Z"
   },
   {
    "duration": 11,
    "start_time": "2022-02-25T14:18:34.464Z"
   },
   {
    "duration": 8,
    "start_time": "2022-02-25T14:18:34.477Z"
   },
   {
    "duration": 11,
    "start_time": "2022-02-25T14:18:34.488Z"
   },
   {
    "duration": 10,
    "start_time": "2022-02-25T14:18:34.502Z"
   },
   {
    "duration": 614,
    "start_time": "2022-02-25T14:20:49.067Z"
   },
   {
    "duration": 727,
    "start_time": "2022-02-25T14:22:10.057Z"
   },
   {
    "duration": 8152,
    "start_time": "2022-02-25T14:23:28.570Z"
   },
   {
    "duration": 9646,
    "start_time": "2022-02-25T14:24:28.132Z"
   },
   {
    "duration": 473,
    "start_time": "2022-02-25T14:25:11.749Z"
   },
   {
    "duration": 462,
    "start_time": "2022-02-25T14:25:21.482Z"
   },
   {
    "duration": 26,
    "start_time": "2022-02-25T14:25:23.403Z"
   },
   {
    "duration": 17,
    "start_time": "2022-02-25T14:25:39.085Z"
   },
   {
    "duration": 1599,
    "start_time": "2022-02-25T14:29:32.155Z"
   },
   {
    "duration": 5,
    "start_time": "2022-02-25T14:29:33.757Z"
   },
   {
    "duration": 46,
    "start_time": "2022-02-25T14:29:33.765Z"
   },
   {
    "duration": 15,
    "start_time": "2022-02-25T14:29:33.814Z"
   },
   {
    "duration": 4,
    "start_time": "2022-02-25T14:29:33.832Z"
   },
   {
    "duration": 10,
    "start_time": "2022-02-25T14:29:33.839Z"
   },
   {
    "duration": 12,
    "start_time": "2022-02-25T14:29:33.852Z"
   },
   {
    "duration": 6,
    "start_time": "2022-02-25T14:29:33.868Z"
   },
   {
    "duration": 8,
    "start_time": "2022-02-25T14:29:33.877Z"
   },
   {
    "duration": 4,
    "start_time": "2022-02-25T14:29:33.888Z"
   },
   {
    "duration": 8,
    "start_time": "2022-02-25T14:29:33.894Z"
   },
   {
    "duration": 12,
    "start_time": "2022-02-25T14:29:33.904Z"
   },
   {
    "duration": 21,
    "start_time": "2022-02-25T14:29:33.918Z"
   },
   {
    "duration": 15,
    "start_time": "2022-02-25T14:29:33.941Z"
   },
   {
    "duration": 10,
    "start_time": "2022-02-25T14:29:33.958Z"
   },
   {
    "duration": 11,
    "start_time": "2022-02-25T14:29:33.971Z"
   },
   {
    "duration": 6,
    "start_time": "2022-02-25T14:29:33.984Z"
   },
   {
    "duration": 10,
    "start_time": "2022-02-25T14:29:33.993Z"
   },
   {
    "duration": 14,
    "start_time": "2022-02-25T14:29:34.005Z"
   },
   {
    "duration": 13,
    "start_time": "2022-02-25T14:29:34.022Z"
   },
   {
    "duration": 6,
    "start_time": "2022-02-25T14:29:34.037Z"
   },
   {
    "duration": 10,
    "start_time": "2022-02-25T14:29:34.046Z"
   },
   {
    "duration": 13,
    "start_time": "2022-02-25T14:29:34.065Z"
   },
   {
    "duration": 6,
    "start_time": "2022-02-25T14:29:34.082Z"
   },
   {
    "duration": 14,
    "start_time": "2022-02-25T14:29:34.090Z"
   },
   {
    "duration": 1374,
    "start_time": "2022-02-25T14:29:34.106Z"
   },
   {
    "duration": 6,
    "start_time": "2022-02-25T14:29:35.482Z"
   },
   {
    "duration": 18,
    "start_time": "2022-02-25T14:29:35.491Z"
   },
   {
    "duration": 753,
    "start_time": "2022-02-25T14:29:35.512Z"
   },
   {
    "duration": 3,
    "start_time": "2022-02-25T14:29:36.268Z"
   },
   {
    "duration": 12,
    "start_time": "2022-02-25T14:29:36.273Z"
   },
   {
    "duration": 646,
    "start_time": "2022-02-25T14:29:36.287Z"
   },
   {
    "duration": 4,
    "start_time": "2022-02-25T14:29:36.935Z"
   },
   {
    "duration": 22,
    "start_time": "2022-02-25T14:29:36.941Z"
   },
   {
    "duration": 11,
    "start_time": "2022-02-25T14:29:36.965Z"
   },
   {
    "duration": 8,
    "start_time": "2022-02-25T14:29:36.979Z"
   },
   {
    "duration": 11,
    "start_time": "2022-02-25T14:29:36.990Z"
   },
   {
    "duration": 496,
    "start_time": "2022-02-25T14:29:37.003Z"
   },
   {
    "duration": 19,
    "start_time": "2022-02-25T14:29:37.501Z"
   },
   {
    "duration": 7590,
    "start_time": "2022-02-25T14:29:37.522Z"
   },
   {
    "duration": 72,
    "start_time": "2022-02-25T14:29:45.043Z"
   },
   {
    "duration": 62,
    "start_time": "2022-02-25T14:29:45.054Z"
   },
   {
    "duration": 54,
    "start_time": "2022-02-25T14:29:45.064Z"
   },
   {
    "duration": 41,
    "start_time": "2022-02-25T14:29:45.078Z"
   },
   {
    "duration": 33,
    "start_time": "2022-02-25T14:29:45.088Z"
   },
   {
    "duration": 28,
    "start_time": "2022-02-25T14:29:45.095Z"
   },
   {
    "duration": 18,
    "start_time": "2022-02-25T14:29:45.106Z"
   },
   {
    "duration": 10,
    "start_time": "2022-02-25T14:29:45.116Z"
   },
   {
    "duration": 4,
    "start_time": "2022-02-25T14:29:45.123Z"
   },
   {
    "duration": -4,
    "start_time": "2022-02-25T14:29:45.133Z"
   },
   {
    "duration": -9,
    "start_time": "2022-02-25T14:29:45.139Z"
   },
   {
    "duration": -18,
    "start_time": "2022-02-25T14:29:45.150Z"
   },
   {
    "duration": -22,
    "start_time": "2022-02-25T14:29:45.156Z"
   },
   {
    "duration": -31,
    "start_time": "2022-02-25T14:29:45.166Z"
   },
   {
    "duration": -35,
    "start_time": "2022-02-25T14:29:45.172Z"
   },
   {
    "duration": -45,
    "start_time": "2022-02-25T14:29:45.183Z"
   },
   {
    "duration": -50,
    "start_time": "2022-02-25T14:29:45.190Z"
   },
   {
    "duration": -59,
    "start_time": "2022-02-25T14:29:45.200Z"
   },
   {
    "duration": -64,
    "start_time": "2022-02-25T14:29:45.207Z"
   },
   {
    "duration": -73,
    "start_time": "2022-02-25T14:29:45.217Z"
   },
   {
    "duration": -79,
    "start_time": "2022-02-25T14:29:45.225Z"
   },
   {
    "duration": -87,
    "start_time": "2022-02-25T14:29:45.234Z"
   },
   {
    "duration": -93,
    "start_time": "2022-02-25T14:29:45.241Z"
   },
   {
    "duration": -101,
    "start_time": "2022-02-25T14:29:45.251Z"
   },
   {
    "duration": -107,
    "start_time": "2022-02-25T14:29:45.258Z"
   },
   {
    "duration": -106,
    "start_time": "2022-02-25T14:29:45.267Z"
   },
   {
    "duration": -112,
    "start_time": "2022-02-25T14:29:45.274Z"
   },
   {
    "duration": -121,
    "start_time": "2022-02-25T14:29:45.285Z"
   },
   {
    "duration": -125,
    "start_time": "2022-02-25T14:29:45.291Z"
   },
   {
    "duration": -133,
    "start_time": "2022-02-25T14:29:45.301Z"
   },
   {
    "duration": -138,
    "start_time": "2022-02-25T14:29:45.308Z"
   },
   {
    "duration": -146,
    "start_time": "2022-02-25T14:29:45.318Z"
   },
   {
    "duration": -152,
    "start_time": "2022-02-25T14:29:45.325Z"
   },
   {
    "duration": -162,
    "start_time": "2022-02-25T14:29:45.336Z"
   },
   {
    "duration": 3,
    "start_time": "2022-02-25T14:34:05.803Z"
   },
   {
    "duration": 1563,
    "start_time": "2022-02-26T14:12:48.075Z"
   },
   {
    "duration": 4,
    "start_time": "2022-02-26T14:12:49.641Z"
   },
   {
    "duration": 196,
    "start_time": "2022-02-26T14:12:49.650Z"
   },
   {
    "duration": 21,
    "start_time": "2022-02-26T14:12:49.849Z"
   },
   {
    "duration": 18,
    "start_time": "2022-02-26T14:12:49.872Z"
   },
   {
    "duration": 16,
    "start_time": "2022-02-26T14:12:49.892Z"
   },
   {
    "duration": 24,
    "start_time": "2022-02-26T14:12:49.910Z"
   },
   {
    "duration": 24,
    "start_time": "2022-02-26T14:12:49.937Z"
   },
   {
    "duration": 11,
    "start_time": "2022-02-26T14:12:49.965Z"
   },
   {
    "duration": 8,
    "start_time": "2022-02-26T14:12:49.979Z"
   },
   {
    "duration": 10,
    "start_time": "2022-02-26T14:12:49.989Z"
   },
   {
    "duration": 26,
    "start_time": "2022-02-26T14:12:50.002Z"
   },
   {
    "duration": 30,
    "start_time": "2022-02-26T14:12:50.030Z"
   },
   {
    "duration": 23,
    "start_time": "2022-02-26T14:12:50.063Z"
   },
   {
    "duration": 20,
    "start_time": "2022-02-26T14:12:50.088Z"
   },
   {
    "duration": 19,
    "start_time": "2022-02-26T14:12:50.110Z"
   },
   {
    "duration": 32,
    "start_time": "2022-02-26T14:12:50.132Z"
   },
   {
    "duration": 16,
    "start_time": "2022-02-26T14:12:50.166Z"
   },
   {
    "duration": 21,
    "start_time": "2022-02-26T14:12:50.184Z"
   },
   {
    "duration": 11,
    "start_time": "2022-02-26T14:12:50.208Z"
   },
   {
    "duration": 4,
    "start_time": "2022-02-26T14:12:50.221Z"
   },
   {
    "duration": 36,
    "start_time": "2022-02-26T14:12:50.227Z"
   },
   {
    "duration": 17,
    "start_time": "2022-02-26T14:12:50.265Z"
   },
   {
    "duration": 14,
    "start_time": "2022-02-26T14:12:50.284Z"
   },
   {
    "duration": 16,
    "start_time": "2022-02-26T14:12:50.300Z"
   },
   {
    "duration": 847,
    "start_time": "2022-02-26T14:12:50.318Z"
   },
   {
    "duration": 6,
    "start_time": "2022-02-26T14:12:51.172Z"
   },
   {
    "duration": 14,
    "start_time": "2022-02-26T14:12:51.181Z"
   },
   {
    "duration": 767,
    "start_time": "2022-02-26T14:12:51.198Z"
   },
   {
    "duration": 3,
    "start_time": "2022-02-26T14:12:51.967Z"
   },
   {
    "duration": 12,
    "start_time": "2022-02-26T14:12:51.973Z"
   },
   {
    "duration": 581,
    "start_time": "2022-02-26T14:12:51.988Z"
   },
   {
    "duration": 4,
    "start_time": "2022-02-26T14:12:52.571Z"
   },
   {
    "duration": 5,
    "start_time": "2022-02-26T14:12:52.577Z"
   },
   {
    "duration": 4,
    "start_time": "2022-02-26T14:12:52.584Z"
   },
   {
    "duration": 6,
    "start_time": "2022-02-26T14:12:52.590Z"
   },
   {
    "duration": 6,
    "start_time": "2022-02-26T14:12:52.599Z"
   },
   {
    "duration": 449,
    "start_time": "2022-02-26T14:12:52.608Z"
   },
   {
    "duration": 18,
    "start_time": "2022-02-26T14:12:53.060Z"
   },
   {
    "duration": 3,
    "start_time": "2022-02-26T14:12:53.080Z"
   },
   {
    "duration": 511,
    "start_time": "2022-02-26T14:12:53.085Z"
   },
   {
    "duration": -31,
    "start_time": "2022-02-26T14:12:53.630Z"
   },
   {
    "duration": -36,
    "start_time": "2022-02-26T14:12:53.636Z"
   },
   {
    "duration": -41,
    "start_time": "2022-02-26T14:12:53.643Z"
   },
   {
    "duration": -46,
    "start_time": "2022-02-26T14:12:53.649Z"
   },
   {
    "duration": -49,
    "start_time": "2022-02-26T14:12:53.654Z"
   },
   {
    "duration": -55,
    "start_time": "2022-02-26T14:12:53.661Z"
   },
   {
    "duration": -59,
    "start_time": "2022-02-26T14:12:53.667Z"
   },
   {
    "duration": -64,
    "start_time": "2022-02-26T14:12:53.673Z"
   },
   {
    "duration": -68,
    "start_time": "2022-02-26T14:12:53.679Z"
   },
   {
    "duration": -73,
    "start_time": "2022-02-26T14:12:53.686Z"
   },
   {
    "duration": -78,
    "start_time": "2022-02-26T14:12:53.692Z"
   },
   {
    "duration": -82,
    "start_time": "2022-02-26T14:12:53.697Z"
   },
   {
    "duration": -88,
    "start_time": "2022-02-26T14:12:53.704Z"
   },
   {
    "duration": -92,
    "start_time": "2022-02-26T14:12:53.710Z"
   },
   {
    "duration": -96,
    "start_time": "2022-02-26T14:12:53.715Z"
   },
   {
    "duration": -101,
    "start_time": "2022-02-26T14:12:53.721Z"
   },
   {
    "duration": -106,
    "start_time": "2022-02-26T14:12:53.728Z"
   },
   {
    "duration": -110,
    "start_time": "2022-02-26T14:12:53.733Z"
   },
   {
    "duration": -115,
    "start_time": "2022-02-26T14:12:53.739Z"
   },
   {
    "duration": -120,
    "start_time": "2022-02-26T14:12:53.745Z"
   },
   {
    "duration": -125,
    "start_time": "2022-02-26T14:12:53.751Z"
   },
   {
    "duration": -128,
    "start_time": "2022-02-26T14:12:53.756Z"
   },
   {
    "duration": -133,
    "start_time": "2022-02-26T14:12:53.762Z"
   },
   {
    "duration": -137,
    "start_time": "2022-02-26T14:12:53.768Z"
   },
   {
    "duration": -137,
    "start_time": "2022-02-26T14:12:53.773Z"
   },
   {
    "duration": -141,
    "start_time": "2022-02-26T14:12:53.779Z"
   },
   {
    "duration": -143,
    "start_time": "2022-02-26T14:12:53.785Z"
   },
   {
    "duration": -148,
    "start_time": "2022-02-26T14:12:53.791Z"
   },
   {
    "duration": -151,
    "start_time": "2022-02-26T14:12:53.796Z"
   },
   {
    "duration": -156,
    "start_time": "2022-02-26T14:12:53.802Z"
   },
   {
    "duration": -161,
    "start_time": "2022-02-26T14:12:53.808Z"
   },
   {
    "duration": -166,
    "start_time": "2022-02-26T14:12:53.814Z"
   },
   {
    "duration": -170,
    "start_time": "2022-02-26T14:12:53.820Z"
   },
   {
    "duration": 6873,
    "start_time": "2022-02-26T14:14:06.622Z"
   },
   {
    "duration": -111,
    "start_time": "2022-02-26T14:14:13.608Z"
   },
   {
    "duration": 285,
    "start_time": "2022-02-26T14:20:36.764Z"
   },
   {
    "duration": 7538,
    "start_time": "2022-02-26T14:25:27.174Z"
   },
   {
    "duration": 7584,
    "start_time": "2022-02-26T14:26:52.104Z"
   },
   {
    "duration": 541,
    "start_time": "2022-02-26T14:27:32.948Z"
   },
   {
    "duration": 17,
    "start_time": "2022-02-26T14:27:41.855Z"
   },
   {
    "duration": 579,
    "start_time": "2022-02-26T14:27:55.210Z"
   },
   {
    "duration": 12,
    "start_time": "2022-02-26T14:29:17.465Z"
   },
   {
    "duration": 3,
    "start_time": "2022-02-26T14:29:52.764Z"
   },
   {
    "duration": 547,
    "start_time": "2022-02-26T14:29:58.904Z"
   },
   {
    "duration": 307,
    "start_time": "2022-02-26T14:30:30.530Z"
   },
   {
    "duration": 655,
    "start_time": "2022-02-26T14:32:22.453Z"
   },
   {
    "duration": 591,
    "start_time": "2022-02-26T14:32:48.317Z"
   },
   {
    "duration": 673,
    "start_time": "2022-02-26T14:35:38.170Z"
   },
   {
    "duration": 653,
    "start_time": "2022-02-26T14:36:38.420Z"
   },
   {
    "duration": 714,
    "start_time": "2022-02-26T14:37:00.398Z"
   },
   {
    "duration": 673,
    "start_time": "2022-02-26T14:37:39.917Z"
   },
   {
    "duration": 8104,
    "start_time": "2022-02-26T14:39:10.076Z"
   },
   {
    "duration": -39,
    "start_time": "2022-02-26T14:39:18.222Z"
   },
   {
    "duration": 3,
    "start_time": "2022-02-26T14:39:48.207Z"
   },
   {
    "duration": 500,
    "start_time": "2022-02-26T14:39:57.177Z"
   },
   {
    "duration": 612,
    "start_time": "2022-02-26T14:41:09.691Z"
   },
   {
    "duration": 596,
    "start_time": "2022-02-26T14:41:38.948Z"
   },
   {
    "duration": 669,
    "start_time": "2022-02-26T14:42:57.146Z"
   },
   {
    "duration": 664,
    "start_time": "2022-02-26T14:43:50.827Z"
   },
   {
    "duration": 819,
    "start_time": "2022-02-26T14:45:49.071Z"
   },
   {
    "duration": 763,
    "start_time": "2022-02-26T14:45:57.327Z"
   },
   {
    "duration": 16,
    "start_time": "2022-02-26T14:57:14.571Z"
   },
   {
    "duration": 600,
    "start_time": "2022-02-26T14:57:15.956Z"
   },
   {
    "duration": 222,
    "start_time": "2022-02-26T14:59:39.726Z"
   },
   {
    "duration": 623,
    "start_time": "2022-02-26T14:59:45.493Z"
   },
   {
    "duration": 204,
    "start_time": "2022-02-26T15:00:00.966Z"
   },
   {
    "duration": 7,
    "start_time": "2022-02-26T15:00:18.558Z"
   },
   {
    "duration": 6,
    "start_time": "2022-02-26T15:00:19.618Z"
   },
   {
    "duration": 6,
    "start_time": "2022-02-26T15:00:20.773Z"
   },
   {
    "duration": 5,
    "start_time": "2022-02-26T15:00:29.454Z"
   },
   {
    "duration": 605,
    "start_time": "2022-02-26T15:00:38.627Z"
   },
   {
    "duration": 793,
    "start_time": "2022-02-26T15:00:45.005Z"
   },
   {
    "duration": 1653,
    "start_time": "2022-02-26T15:02:26.944Z"
   },
   {
    "duration": 4,
    "start_time": "2022-02-26T15:02:28.600Z"
   },
   {
    "duration": 75,
    "start_time": "2022-02-26T15:02:28.608Z"
   },
   {
    "duration": 15,
    "start_time": "2022-02-26T15:02:28.686Z"
   },
   {
    "duration": 4,
    "start_time": "2022-02-26T15:02:28.703Z"
   },
   {
    "duration": 10,
    "start_time": "2022-02-26T15:02:28.709Z"
   },
   {
    "duration": 13,
    "start_time": "2022-02-26T15:02:28.721Z"
   },
   {
    "duration": 12,
    "start_time": "2022-02-26T15:02:28.738Z"
   },
   {
    "duration": 11,
    "start_time": "2022-02-26T15:02:28.755Z"
   },
   {
    "duration": 3,
    "start_time": "2022-02-26T15:02:28.768Z"
   },
   {
    "duration": 8,
    "start_time": "2022-02-26T15:02:28.774Z"
   },
   {
    "duration": 10,
    "start_time": "2022-02-26T15:02:28.784Z"
   },
   {
    "duration": 55,
    "start_time": "2022-02-26T15:02:28.796Z"
   },
   {
    "duration": 14,
    "start_time": "2022-02-26T15:02:28.853Z"
   },
   {
    "duration": 13,
    "start_time": "2022-02-26T15:02:28.869Z"
   },
   {
    "duration": 11,
    "start_time": "2022-02-26T15:02:28.884Z"
   },
   {
    "duration": 38,
    "start_time": "2022-02-26T15:02:28.897Z"
   },
   {
    "duration": 17,
    "start_time": "2022-02-26T15:02:28.939Z"
   },
   {
    "duration": 15,
    "start_time": "2022-02-26T15:02:28.959Z"
   },
   {
    "duration": 14,
    "start_time": "2022-02-26T15:02:28.977Z"
   },
   {
    "duration": 46,
    "start_time": "2022-02-26T15:02:28.993Z"
   },
   {
    "duration": 8,
    "start_time": "2022-02-26T15:02:29.042Z"
   },
   {
    "duration": 12,
    "start_time": "2022-02-26T15:02:29.056Z"
   },
   {
    "duration": 6,
    "start_time": "2022-02-26T15:02:29.072Z"
   },
   {
    "duration": 54,
    "start_time": "2022-02-26T15:02:29.080Z"
   },
   {
    "duration": 846,
    "start_time": "2022-02-26T15:02:29.136Z"
   },
   {
    "duration": 6,
    "start_time": "2022-02-26T15:02:29.985Z"
   },
   {
    "duration": 18,
    "start_time": "2022-02-26T15:02:29.993Z"
   },
   {
    "duration": 954,
    "start_time": "2022-02-26T15:02:30.013Z"
   },
   {
    "duration": 3,
    "start_time": "2022-02-26T15:02:30.969Z"
   },
   {
    "duration": 18,
    "start_time": "2022-02-26T15:02:30.975Z"
   },
   {
    "duration": 499,
    "start_time": "2022-02-26T15:02:30.996Z"
   },
   {
    "duration": 4,
    "start_time": "2022-02-26T15:02:31.497Z"
   },
   {
    "duration": 8,
    "start_time": "2022-02-26T15:02:31.503Z"
   },
   {
    "duration": 20,
    "start_time": "2022-02-26T15:02:31.513Z"
   },
   {
    "duration": 12,
    "start_time": "2022-02-26T15:02:31.536Z"
   },
   {
    "duration": 8,
    "start_time": "2022-02-26T15:02:31.552Z"
   },
   {
    "duration": 669,
    "start_time": "2022-02-26T15:02:31.563Z"
   },
   {
    "duration": 13,
    "start_time": "2022-02-26T15:02:32.235Z"
   },
   {
    "duration": 13,
    "start_time": "2022-02-26T15:02:32.250Z"
   },
   {
    "duration": 601,
    "start_time": "2022-02-26T15:02:32.266Z"
   },
   {
    "duration": 3,
    "start_time": "2022-02-26T15:02:32.870Z"
   },
   {
    "duration": 585,
    "start_time": "2022-02-26T15:02:32.875Z"
   },
   {
    "duration": 3,
    "start_time": "2022-02-26T15:02:33.463Z"
   },
   {
    "duration": 891,
    "start_time": "2022-02-26T15:02:33.469Z"
   },
   {
    "duration": 3,
    "start_time": "2022-02-26T15:02:34.363Z"
   },
   {
    "duration": 591,
    "start_time": "2022-02-26T15:02:34.368Z"
   },
   {
    "duration": 3,
    "start_time": "2022-02-26T15:02:34.962Z"
   },
   {
    "duration": 679,
    "start_time": "2022-02-26T15:02:34.968Z"
   },
   {
    "duration": 248,
    "start_time": "2022-02-26T15:02:35.650Z"
   },
   {
    "duration": 659,
    "start_time": "2022-02-26T15:02:35.900Z"
   },
   {
    "duration": 7,
    "start_time": "2022-02-26T15:02:36.561Z"
   },
   {
    "duration": 8,
    "start_time": "2022-02-26T15:02:36.570Z"
   },
   {
    "duration": 10,
    "start_time": "2022-02-26T15:02:36.580Z"
   },
   {
    "duration": 39,
    "start_time": "2022-02-26T15:02:36.593Z"
   },
   {
    "duration": 628,
    "start_time": "2022-02-26T15:02:36.635Z"
   },
   {
    "duration": 805,
    "start_time": "2022-02-26T15:02:37.265Z"
   },
   {
    "duration": 7,
    "start_time": "2022-02-26T15:02:38.073Z"
   },
   {
    "duration": 9,
    "start_time": "2022-02-26T15:02:38.082Z"
   },
   {
    "duration": 9,
    "start_time": "2022-02-26T15:02:38.093Z"
   },
   {
    "duration": 13,
    "start_time": "2022-02-26T15:02:38.133Z"
   },
   {
    "duration": 12,
    "start_time": "2022-02-26T15:02:38.148Z"
   },
   {
    "duration": 16,
    "start_time": "2022-02-26T15:02:38.163Z"
   },
   {
    "duration": 6,
    "start_time": "2022-02-26T15:02:38.183Z"
   },
   {
    "duration": 49,
    "start_time": "2022-02-26T15:02:38.191Z"
   },
   {
    "duration": 15,
    "start_time": "2022-02-26T15:02:38.243Z"
   },
   {
    "duration": 16,
    "start_time": "2022-02-26T15:02:38.260Z"
   },
   {
    "duration": 11,
    "start_time": "2022-02-26T15:02:38.284Z"
   },
   {
    "duration": 42,
    "start_time": "2022-02-26T15:02:38.298Z"
   },
   {
    "duration": 20,
    "start_time": "2022-02-26T15:02:38.343Z"
   },
   {
    "duration": 11,
    "start_time": "2022-02-26T15:02:38.365Z"
   },
   {
    "duration": 13,
    "start_time": "2022-02-26T15:02:38.378Z"
   },
   {
    "duration": 16,
    "start_time": "2022-02-26T15:02:38.393Z"
   },
   {
    "duration": 9,
    "start_time": "2022-02-26T15:02:38.434Z"
   },
   {
    "duration": 1508,
    "start_time": "2022-02-26T19:48:40.512Z"
   },
   {
    "duration": 4,
    "start_time": "2022-02-26T19:48:42.022Z"
   },
   {
    "duration": 48,
    "start_time": "2022-02-26T19:48:42.029Z"
   },
   {
    "duration": 17,
    "start_time": "2022-02-26T19:48:42.079Z"
   },
   {
    "duration": 15,
    "start_time": "2022-02-26T19:48:42.098Z"
   },
   {
    "duration": 19,
    "start_time": "2022-02-26T19:48:42.114Z"
   },
   {
    "duration": 23,
    "start_time": "2022-02-26T19:48:42.135Z"
   },
   {
    "duration": 13,
    "start_time": "2022-02-26T19:48:42.161Z"
   },
   {
    "duration": 16,
    "start_time": "2022-02-26T19:48:42.176Z"
   },
   {
    "duration": 8,
    "start_time": "2022-02-26T19:48:42.194Z"
   },
   {
    "duration": 15,
    "start_time": "2022-02-26T19:48:42.204Z"
   },
   {
    "duration": 17,
    "start_time": "2022-02-26T19:48:42.221Z"
   },
   {
    "duration": 23,
    "start_time": "2022-02-26T19:48:42.240Z"
   },
   {
    "duration": 29,
    "start_time": "2022-02-26T19:48:42.264Z"
   },
   {
    "duration": 11,
    "start_time": "2022-02-26T19:48:42.295Z"
   },
   {
    "duration": 14,
    "start_time": "2022-02-26T19:48:42.308Z"
   },
   {
    "duration": 6,
    "start_time": "2022-02-26T19:48:42.324Z"
   },
   {
    "duration": 8,
    "start_time": "2022-02-26T19:48:42.332Z"
   },
   {
    "duration": 12,
    "start_time": "2022-02-26T19:48:42.342Z"
   },
   {
    "duration": 10,
    "start_time": "2022-02-26T19:48:42.355Z"
   },
   {
    "duration": 6,
    "start_time": "2022-02-26T19:48:42.366Z"
   },
   {
    "duration": 7,
    "start_time": "2022-02-26T19:48:42.373Z"
   },
   {
    "duration": 8,
    "start_time": "2022-02-26T19:48:42.383Z"
   },
   {
    "duration": 5,
    "start_time": "2022-02-26T19:48:42.394Z"
   },
   {
    "duration": 11,
    "start_time": "2022-02-26T19:48:42.401Z"
   },
   {
    "duration": 470,
    "start_time": "2022-02-26T19:48:42.414Z"
   },
   {
    "duration": 4,
    "start_time": "2022-02-26T19:48:42.886Z"
   },
   {
    "duration": 12,
    "start_time": "2022-02-26T19:48:42.891Z"
   },
   {
    "duration": 458,
    "start_time": "2022-02-26T19:48:42.905Z"
   },
   {
    "duration": 2,
    "start_time": "2022-02-26T19:48:43.365Z"
   },
   {
    "duration": 13,
    "start_time": "2022-02-26T19:48:43.369Z"
   },
   {
    "duration": 382,
    "start_time": "2022-02-26T19:48:43.383Z"
   },
   {
    "duration": 3,
    "start_time": "2022-02-26T19:48:43.768Z"
   },
   {
    "duration": 7,
    "start_time": "2022-02-26T19:48:43.772Z"
   },
   {
    "duration": 7,
    "start_time": "2022-02-26T19:48:43.780Z"
   },
   {
    "duration": 7,
    "start_time": "2022-02-26T19:48:43.788Z"
   },
   {
    "duration": 9,
    "start_time": "2022-02-26T19:48:43.797Z"
   },
   {
    "duration": 538,
    "start_time": "2022-02-26T19:48:43.808Z"
   },
   {
    "duration": 18,
    "start_time": "2022-02-26T19:48:44.348Z"
   },
   {
    "duration": 4,
    "start_time": "2022-02-26T19:48:44.368Z"
   },
   {
    "duration": 560,
    "start_time": "2022-02-26T19:48:44.374Z"
   },
   {
    "duration": 2,
    "start_time": "2022-02-26T19:48:44.937Z"
   },
   {
    "duration": 366,
    "start_time": "2022-02-26T19:48:44.941Z"
   },
   {
    "duration": 3,
    "start_time": "2022-02-26T19:48:45.309Z"
   },
   {
    "duration": 593,
    "start_time": "2022-02-26T19:48:45.313Z"
   },
   {
    "duration": 2,
    "start_time": "2022-02-26T19:48:45.908Z"
   },
   {
    "duration": 356,
    "start_time": "2022-02-26T19:48:45.912Z"
   },
   {
    "duration": 3,
    "start_time": "2022-02-26T19:48:46.269Z"
   },
   {
    "duration": 593,
    "start_time": "2022-02-26T19:48:46.274Z"
   },
   {
    "duration": 195,
    "start_time": "2022-02-26T19:48:46.869Z"
   },
   {
    "duration": 577,
    "start_time": "2022-02-26T19:48:47.067Z"
   },
   {
    "duration": 7,
    "start_time": "2022-02-26T19:48:47.646Z"
   },
   {
    "duration": 5,
    "start_time": "2022-02-26T19:48:47.663Z"
   },
   {
    "duration": 8,
    "start_time": "2022-02-26T19:48:47.669Z"
   },
   {
    "duration": 8,
    "start_time": "2022-02-26T19:48:47.679Z"
   },
   {
    "duration": 405,
    "start_time": "2022-02-26T19:48:47.688Z"
   },
   {
    "duration": 501,
    "start_time": "2022-02-26T19:48:48.095Z"
   },
   {
    "duration": 7,
    "start_time": "2022-02-26T19:48:48.598Z"
   },
   {
    "duration": 5,
    "start_time": "2022-02-26T19:48:48.607Z"
   },
   {
    "duration": 6,
    "start_time": "2022-02-26T19:48:48.614Z"
   },
   {
    "duration": 41,
    "start_time": "2022-02-26T19:48:48.622Z"
   },
   {
    "duration": 9,
    "start_time": "2022-02-26T19:48:48.665Z"
   },
   {
    "duration": 12,
    "start_time": "2022-02-26T19:48:48.675Z"
   },
   {
    "duration": 5,
    "start_time": "2022-02-26T19:48:48.689Z"
   },
   {
    "duration": 9,
    "start_time": "2022-02-26T19:48:48.695Z"
   },
   {
    "duration": 10,
    "start_time": "2022-02-26T19:48:48.706Z"
   },
   {
    "duration": 11,
    "start_time": "2022-02-26T19:48:48.718Z"
   },
   {
    "duration": 35,
    "start_time": "2022-02-26T19:48:48.733Z"
   },
   {
    "duration": 9,
    "start_time": "2022-02-26T19:48:48.769Z"
   },
   {
    "duration": 10,
    "start_time": "2022-02-26T19:48:48.780Z"
   },
   {
    "duration": 8,
    "start_time": "2022-02-26T19:48:48.791Z"
   },
   {
    "duration": 8,
    "start_time": "2022-02-26T19:48:48.800Z"
   },
   {
    "duration": 8,
    "start_time": "2022-02-26T19:48:48.809Z"
   },
   {
    "duration": 6,
    "start_time": "2022-02-26T19:48:48.819Z"
   },
   {
    "duration": 9,
    "start_time": "2022-02-26T20:46:25.384Z"
   },
   {
    "duration": 5,
    "start_time": "2022-02-26T20:47:30.278Z"
   },
   {
    "duration": 9,
    "start_time": "2022-02-26T20:47:37.912Z"
   },
   {
    "duration": 8,
    "start_time": "2022-02-26T20:47:47.087Z"
   },
   {
    "duration": 8,
    "start_time": "2022-02-26T20:48:12.626Z"
   },
   {
    "duration": 271,
    "start_time": "2022-02-26T20:50:10.864Z"
   },
   {
    "duration": 330,
    "start_time": "2022-02-26T20:51:00.318Z"
   },
   {
    "duration": 103,
    "start_time": "2022-02-26T20:51:30.937Z"
   },
   {
    "duration": 290,
    "start_time": "2022-02-26T20:52:39.424Z"
   },
   {
    "duration": 131,
    "start_time": "2022-02-26T20:53:21.459Z"
   },
   {
    "duration": 8,
    "start_time": "2022-02-26T20:55:28.636Z"
   },
   {
    "duration": 3,
    "start_time": "2022-02-26T20:56:36.587Z"
   },
   {
    "duration": 117,
    "start_time": "2022-02-26T20:59:40.586Z"
   },
   {
    "duration": 312,
    "start_time": "2022-02-26T20:59:49.594Z"
   },
   {
    "duration": 389,
    "start_time": "2022-02-26T21:00:06.322Z"
   },
   {
    "duration": 106,
    "start_time": "2022-02-26T21:00:26.787Z"
   },
   {
    "duration": 128,
    "start_time": "2022-02-26T21:00:49.690Z"
   },
   {
    "duration": 98,
    "start_time": "2022-02-26T21:01:23.469Z"
   },
   {
    "duration": 6,
    "start_time": "2022-02-26T21:01:42.779Z"
   },
   {
    "duration": 123,
    "start_time": "2022-02-26T21:01:51.772Z"
   },
   {
    "duration": 194,
    "start_time": "2022-02-26T21:02:43.725Z"
   },
   {
    "duration": 246,
    "start_time": "2022-02-26T21:03:03.140Z"
   },
   {
    "duration": 430,
    "start_time": "2022-02-26T21:03:23.271Z"
   },
   {
    "duration": 7,
    "start_time": "2022-02-26T21:03:50.670Z"
   },
   {
    "duration": 546,
    "start_time": "2022-02-26T21:03:57.031Z"
   },
   {
    "duration": 511,
    "start_time": "2022-02-26T21:04:02.592Z"
   },
   {
    "duration": 206,
    "start_time": "2022-02-26T21:04:10.671Z"
   },
   {
    "duration": 248,
    "start_time": "2022-02-26T21:04:59.984Z"
   },
   {
    "duration": 8,
    "start_time": "2022-02-26T21:05:09.121Z"
   },
   {
    "duration": 67,
    "start_time": "2022-02-26T21:09:07.357Z"
   },
   {
    "duration": 70,
    "start_time": "2022-02-26T21:09:20.772Z"
   },
   {
    "duration": 61,
    "start_time": "2022-02-26T21:09:27.398Z"
   },
   {
    "duration": 10,
    "start_time": "2022-02-26T21:09:42.742Z"
   },
   {
    "duration": 8,
    "start_time": "2022-02-26T21:10:10.681Z"
   },
   {
    "duration": 8,
    "start_time": "2022-02-26T21:14:20.435Z"
   },
   {
    "duration": 10,
    "start_time": "2022-02-26T21:15:19.931Z"
   },
   {
    "duration": 7,
    "start_time": "2022-02-26T21:19:53.675Z"
   },
   {
    "duration": 2,
    "start_time": "2022-02-26T21:20:34.322Z"
   },
   {
    "duration": 5060,
    "start_time": "2022-02-26T21:22:54.602Z"
   },
   {
    "duration": 4829,
    "start_time": "2022-02-26T21:23:31.388Z"
   },
   {
    "duration": 5383,
    "start_time": "2022-02-26T21:24:50.941Z"
   },
   {
    "duration": 9,
    "start_time": "2022-02-26T21:25:30.838Z"
   },
   {
    "duration": 10,
    "start_time": "2022-02-26T21:26:03.917Z"
   },
   {
    "duration": 11,
    "start_time": "2022-02-26T21:26:29.757Z"
   },
   {
    "duration": 8,
    "start_time": "2022-02-26T21:26:43.703Z"
   },
   {
    "duration": 196,
    "start_time": "2022-02-26T21:27:57.871Z"
   },
   {
    "duration": 200,
    "start_time": "2022-02-26T21:28:23.176Z"
   },
   {
    "duration": 9,
    "start_time": "2022-02-26T21:28:31.657Z"
   },
   {
    "duration": 7,
    "start_time": "2022-02-26T21:29:00.428Z"
   },
   {
    "duration": 80,
    "start_time": "2022-02-26T21:30:29.403Z"
   },
   {
    "duration": 20,
    "start_time": "2022-02-26T21:31:33.369Z"
   },
   {
    "duration": 2,
    "start_time": "2022-02-26T21:33:12.671Z"
   },
   {
    "duration": 5346,
    "start_time": "2022-02-26T21:33:38.656Z"
   },
   {
    "duration": 15,
    "start_time": "2022-02-26T21:34:43.394Z"
   },
   {
    "duration": 69,
    "start_time": "2022-02-26T21:39:32.543Z"
   },
   {
    "duration": 81,
    "start_time": "2022-02-27T21:37:55.999Z"
   },
   {
    "duration": 314,
    "start_time": "2022-02-27T21:39:00.988Z"
   },
   {
    "duration": 1473,
    "start_time": "2022-02-27T21:39:06.829Z"
   },
   {
    "duration": 5,
    "start_time": "2022-02-27T21:39:08.305Z"
   },
   {
    "duration": 78,
    "start_time": "2022-02-27T21:39:08.313Z"
   },
   {
    "duration": 15,
    "start_time": "2022-02-27T21:39:08.394Z"
   },
   {
    "duration": 4,
    "start_time": "2022-02-27T21:39:08.412Z"
   },
   {
    "duration": 11,
    "start_time": "2022-02-27T21:39:08.419Z"
   },
   {
    "duration": 13,
    "start_time": "2022-02-27T21:39:08.433Z"
   },
   {
    "duration": 27,
    "start_time": "2022-02-27T21:39:08.448Z"
   },
   {
    "duration": 13,
    "start_time": "2022-02-27T21:39:08.480Z"
   },
   {
    "duration": 5,
    "start_time": "2022-02-27T21:39:08.497Z"
   },
   {
    "duration": 7,
    "start_time": "2022-02-27T21:39:08.505Z"
   },
   {
    "duration": 17,
    "start_time": "2022-02-27T21:39:08.514Z"
   },
   {
    "duration": 62,
    "start_time": "2022-02-27T21:39:08.534Z"
   },
   {
    "duration": 13,
    "start_time": "2022-02-27T21:39:08.599Z"
   },
   {
    "duration": 12,
    "start_time": "2022-02-27T21:39:08.614Z"
   },
   {
    "duration": 8,
    "start_time": "2022-02-27T21:39:08.628Z"
   },
   {
    "duration": 35,
    "start_time": "2022-02-27T21:39:08.639Z"
   },
   {
    "duration": 12,
    "start_time": "2022-02-27T21:39:08.677Z"
   },
   {
    "duration": 16,
    "start_time": "2022-02-27T21:39:08.692Z"
   },
   {
    "duration": 14,
    "start_time": "2022-02-27T21:39:08.711Z"
   },
   {
    "duration": 5,
    "start_time": "2022-02-27T21:39:08.727Z"
   },
   {
    "duration": 41,
    "start_time": "2022-02-27T21:39:08.734Z"
   },
   {
    "duration": 18,
    "start_time": "2022-02-27T21:39:08.778Z"
   },
   {
    "duration": 8,
    "start_time": "2022-02-27T21:39:08.799Z"
   },
   {
    "duration": 25,
    "start_time": "2022-02-27T21:39:08.810Z"
   },
   {
    "duration": 801,
    "start_time": "2022-02-27T21:39:08.837Z"
   },
   {
    "duration": 5,
    "start_time": "2022-02-27T21:39:09.643Z"
   },
   {
    "duration": 32,
    "start_time": "2022-02-27T21:39:09.651Z"
   },
   {
    "duration": 739,
    "start_time": "2022-02-27T21:39:09.686Z"
   },
   {
    "duration": 3,
    "start_time": "2022-02-27T21:39:10.427Z"
   },
   {
    "duration": 13,
    "start_time": "2022-02-27T21:39:10.432Z"
   },
   {
    "duration": 6,
    "start_time": "2022-02-27T21:39:14.071Z"
   },
   {
    "duration": 12,
    "start_time": "2022-02-27T21:39:24.856Z"
   },
   {
    "duration": 6,
    "start_time": "2022-02-27T21:39:31.484Z"
   },
   {
    "duration": 8,
    "start_time": "2022-02-27T21:39:34.483Z"
   },
   {
    "duration": 10,
    "start_time": "2022-02-27T21:40:02.741Z"
   },
   {
    "duration": 9,
    "start_time": "2022-02-27T21:40:24.636Z"
   },
   {
    "duration": 314,
    "start_time": "2022-02-27T21:41:44.282Z"
   },
   {
    "duration": 7,
    "start_time": "2022-02-27T21:41:48.848Z"
   },
   {
    "duration": 12,
    "start_time": "2022-02-27T21:42:06.300Z"
   },
   {
    "duration": 11,
    "start_time": "2022-02-27T21:42:17.568Z"
   },
   {
    "duration": 6,
    "start_time": "2022-02-27T21:43:29.617Z"
   },
   {
    "duration": 226,
    "start_time": "2022-02-27T21:43:40.298Z"
   },
   {
    "duration": 8,
    "start_time": "2022-02-27T21:43:59.558Z"
   },
   {
    "duration": 10,
    "start_time": "2022-02-27T21:44:09.108Z"
   },
   {
    "duration": 10,
    "start_time": "2022-02-27T21:44:23.695Z"
   },
   {
    "duration": 11,
    "start_time": "2022-02-27T21:44:27.586Z"
   },
   {
    "duration": 11,
    "start_time": "2022-02-27T21:45:03.020Z"
   },
   {
    "duration": 17,
    "start_time": "2022-02-27T21:45:16.054Z"
   },
   {
    "duration": 9,
    "start_time": "2022-02-27T21:45:56.609Z"
   },
   {
    "duration": 269,
    "start_time": "2022-02-27T21:49:02.764Z"
   },
   {
    "duration": 15,
    "start_time": "2022-02-27T21:49:32.622Z"
   },
   {
    "duration": 74,
    "start_time": "2022-02-27T21:52:26.761Z"
   },
   {
    "duration": 1525,
    "start_time": "2022-02-27T21:53:26.844Z"
   },
   {
    "duration": 5,
    "start_time": "2022-02-27T21:53:28.372Z"
   },
   {
    "duration": 53,
    "start_time": "2022-02-27T21:53:28.382Z"
   },
   {
    "duration": 18,
    "start_time": "2022-02-27T21:53:28.438Z"
   },
   {
    "duration": 4,
    "start_time": "2022-02-27T21:53:28.460Z"
   },
   {
    "duration": 17,
    "start_time": "2022-02-27T21:53:28.467Z"
   },
   {
    "duration": 18,
    "start_time": "2022-02-27T21:53:28.487Z"
   },
   {
    "duration": 4,
    "start_time": "2022-02-27T21:53:28.508Z"
   },
   {
    "duration": 8,
    "start_time": "2022-02-27T21:53:28.516Z"
   },
   {
    "duration": 4,
    "start_time": "2022-02-27T21:53:28.528Z"
   },
   {
    "duration": 7,
    "start_time": "2022-02-27T21:53:28.574Z"
   },
   {
    "duration": 13,
    "start_time": "2022-02-27T21:53:28.584Z"
   },
   {
    "duration": 21,
    "start_time": "2022-02-27T21:53:28.599Z"
   },
   {
    "duration": 12,
    "start_time": "2022-02-27T21:53:28.622Z"
   },
   {
    "duration": 45,
    "start_time": "2022-02-27T21:53:28.637Z"
   },
   {
    "duration": 9,
    "start_time": "2022-02-27T21:53:28.685Z"
   },
   {
    "duration": 8,
    "start_time": "2022-02-27T21:53:28.696Z"
   },
   {
    "duration": 12,
    "start_time": "2022-02-27T21:53:28.706Z"
   },
   {
    "duration": 60,
    "start_time": "2022-02-27T21:53:28.720Z"
   },
   {
    "duration": 13,
    "start_time": "2022-02-27T21:53:28.783Z"
   },
   {
    "duration": 5,
    "start_time": "2022-02-27T21:53:28.799Z"
   },
   {
    "duration": 8,
    "start_time": "2022-02-27T21:53:28.806Z"
   },
   {
    "duration": 13,
    "start_time": "2022-02-27T21:53:28.816Z"
   },
   {
    "duration": 45,
    "start_time": "2022-02-27T21:53:28.832Z"
   },
   {
    "duration": 14,
    "start_time": "2022-02-27T21:53:28.879Z"
   },
   {
    "duration": 784,
    "start_time": "2022-02-27T21:53:28.895Z"
   },
   {
    "duration": 6,
    "start_time": "2022-02-27T21:53:29.686Z"
   },
   {
    "duration": 18,
    "start_time": "2022-02-27T21:53:29.697Z"
   },
   {
    "duration": 765,
    "start_time": "2022-02-27T21:53:29.718Z"
   },
   {
    "duration": 3,
    "start_time": "2022-02-27T21:53:30.486Z"
   },
   {
    "duration": 21,
    "start_time": "2022-02-27T21:53:30.492Z"
   },
   {
    "duration": 562,
    "start_time": "2022-02-27T21:53:30.516Z"
   },
   {
    "duration": 3,
    "start_time": "2022-02-27T21:53:31.082Z"
   },
   {
    "duration": 14,
    "start_time": "2022-02-27T21:53:31.088Z"
   },
   {
    "duration": 23,
    "start_time": "2022-02-27T21:53:31.105Z"
   },
   {
    "duration": 8,
    "start_time": "2022-02-27T21:53:31.130Z"
   },
   {
    "duration": 19,
    "start_time": "2022-02-27T21:53:31.141Z"
   },
   {
    "duration": 580,
    "start_time": "2022-02-27T21:53:31.162Z"
   },
   {
    "duration": 13,
    "start_time": "2022-02-27T21:53:31.744Z"
   },
   {
    "duration": 3,
    "start_time": "2022-02-27T21:53:31.773Z"
   },
   {
    "duration": 624,
    "start_time": "2022-02-27T21:53:31.778Z"
   },
   {
    "duration": 3,
    "start_time": "2022-02-27T21:53:32.405Z"
   },
   {
    "duration": 615,
    "start_time": "2022-02-27T21:53:32.410Z"
   },
   {
    "duration": 3,
    "start_time": "2022-02-27T21:53:33.027Z"
   },
   {
    "duration": 851,
    "start_time": "2022-02-27T21:53:33.033Z"
   },
   {
    "duration": 3,
    "start_time": "2022-02-27T21:53:33.886Z"
   },
   {
    "duration": 602,
    "start_time": "2022-02-27T21:53:33.892Z"
   },
   {
    "duration": 3,
    "start_time": "2022-02-27T21:53:34.497Z"
   },
   {
    "duration": 678,
    "start_time": "2022-02-27T21:53:34.502Z"
   },
   {
    "duration": 254,
    "start_time": "2022-02-27T21:53:35.182Z"
   },
   {
    "duration": 662,
    "start_time": "2022-02-27T21:53:35.439Z"
   },
   {
    "duration": 9,
    "start_time": "2022-02-27T21:53:36.104Z"
   },
   {
    "duration": 9,
    "start_time": "2022-02-27T21:53:36.115Z"
   },
   {
    "duration": 11,
    "start_time": "2022-02-27T21:53:36.126Z"
   },
   {
    "duration": 35,
    "start_time": "2022-02-27T21:53:36.139Z"
   },
   {
    "duration": 622,
    "start_time": "2022-02-27T21:53:36.176Z"
   },
   {
    "duration": 777,
    "start_time": "2022-02-27T21:53:36.801Z"
   },
   {
    "duration": 7,
    "start_time": "2022-02-27T21:53:37.581Z"
   },
   {
    "duration": 7,
    "start_time": "2022-02-27T21:53:37.591Z"
   },
   {
    "duration": 9,
    "start_time": "2022-02-27T21:53:37.600Z"
   },
   {
    "duration": 14,
    "start_time": "2022-02-27T21:53:37.611Z"
   },
   {
    "duration": 50,
    "start_time": "2022-02-27T21:53:37.627Z"
   },
   {
    "duration": 71,
    "start_time": "2022-02-27T21:53:37.680Z"
   },
   {
    "duration": -38,
    "start_time": "2022-02-27T21:53:37.791Z"
   },
   {
    "duration": -41,
    "start_time": "2022-02-27T21:53:37.795Z"
   },
   {
    "duration": -62,
    "start_time": "2022-02-27T21:53:37.818Z"
   },
   {
    "duration": -68,
    "start_time": "2022-02-27T21:53:37.825Z"
   },
   {
    "duration": -70,
    "start_time": "2022-02-27T21:53:37.829Z"
   },
   {
    "duration": -74,
    "start_time": "2022-02-27T21:53:37.834Z"
   },
   {
    "duration": -76,
    "start_time": "2022-02-27T21:53:37.838Z"
   },
   {
    "duration": -82,
    "start_time": "2022-02-27T21:53:37.845Z"
   },
   {
    "duration": -86,
    "start_time": "2022-02-27T21:53:37.850Z"
   },
   {
    "duration": -88,
    "start_time": "2022-02-27T21:53:37.854Z"
   },
   {
    "duration": -91,
    "start_time": "2022-02-27T21:53:37.859Z"
   },
   {
    "duration": -98,
    "start_time": "2022-02-27T21:53:37.867Z"
   },
   {
    "duration": -100,
    "start_time": "2022-02-27T21:53:37.871Z"
   },
   {
    "duration": 3,
    "start_time": "2022-02-27T21:54:56.416Z"
   },
   {
    "duration": 4,
    "start_time": "2022-02-27T21:55:01.801Z"
   },
   {
    "duration": 30,
    "start_time": "2022-02-27T21:55:01.808Z"
   },
   {
    "duration": 452,
    "start_time": "2022-02-27T21:55:01.842Z"
   },
   {
    "duration": 251,
    "start_time": "2022-02-27T21:55:02.297Z"
   },
   {
    "duration": 25,
    "start_time": "2022-02-27T21:55:02.550Z"
   },
   {
    "duration": 14,
    "start_time": "2022-02-27T21:55:02.578Z"
   },
   {
    "duration": 9,
    "start_time": "2022-02-27T21:55:02.595Z"
   },
   {
    "duration": 15,
    "start_time": "2022-02-27T21:55:02.607Z"
   },
   {
    "duration": 35,
    "start_time": "2022-02-27T21:55:02.624Z"
   },
   {
    "duration": 34,
    "start_time": "2022-02-27T21:55:02.662Z"
   },
   {
    "duration": 24,
    "start_time": "2022-02-27T21:55:02.698Z"
   },
   {
    "duration": 18,
    "start_time": "2022-02-27T21:55:02.725Z"
   },
   {
    "duration": 56,
    "start_time": "2022-02-27T21:55:02.745Z"
   },
   {
    "duration": 6,
    "start_time": "2022-02-27T22:01:24.285Z"
   },
   {
    "duration": 1583,
    "start_time": "2022-02-27T22:32:23.472Z"
   },
   {
    "duration": 4,
    "start_time": "2022-02-27T22:32:25.058Z"
   },
   {
    "duration": 51,
    "start_time": "2022-02-27T22:32:25.065Z"
   },
   {
    "duration": 18,
    "start_time": "2022-02-27T22:32:25.119Z"
   },
   {
    "duration": 8,
    "start_time": "2022-02-27T22:32:25.139Z"
   },
   {
    "duration": 12,
    "start_time": "2022-02-27T22:32:25.150Z"
   },
   {
    "duration": 14,
    "start_time": "2022-02-27T22:32:25.164Z"
   },
   {
    "duration": 5,
    "start_time": "2022-02-27T22:32:25.181Z"
   },
   {
    "duration": 11,
    "start_time": "2022-02-27T22:32:25.189Z"
   },
   {
    "duration": 6,
    "start_time": "2022-02-27T22:32:25.202Z"
   },
   {
    "duration": 12,
    "start_time": "2022-02-27T22:32:25.210Z"
   },
   {
    "duration": 48,
    "start_time": "2022-02-27T22:32:25.225Z"
   },
   {
    "duration": 22,
    "start_time": "2022-02-27T22:32:25.275Z"
   },
   {
    "duration": 11,
    "start_time": "2022-02-27T22:32:25.299Z"
   },
   {
    "duration": 10,
    "start_time": "2022-02-27T22:32:25.312Z"
   },
   {
    "duration": 8,
    "start_time": "2022-02-27T22:32:25.324Z"
   },
   {
    "duration": 6,
    "start_time": "2022-02-27T22:32:25.373Z"
   },
   {
    "duration": 12,
    "start_time": "2022-02-27T22:32:25.381Z"
   },
   {
    "duration": 15,
    "start_time": "2022-02-27T22:32:25.395Z"
   },
   {
    "duration": 13,
    "start_time": "2022-02-27T22:32:25.412Z"
   },
   {
    "duration": 3,
    "start_time": "2022-02-27T22:32:25.427Z"
   },
   {
    "duration": 44,
    "start_time": "2022-02-27T22:32:25.432Z"
   },
   {
    "duration": 13,
    "start_time": "2022-02-27T22:32:25.482Z"
   },
   {
    "duration": 5,
    "start_time": "2022-02-27T22:32:25.499Z"
   },
   {
    "duration": 14,
    "start_time": "2022-02-27T22:32:25.506Z"
   },
   {
    "duration": 793,
    "start_time": "2022-02-27T22:32:25.522Z"
   },
   {
    "duration": 6,
    "start_time": "2022-02-27T22:32:26.317Z"
   },
   {
    "duration": 18,
    "start_time": "2022-02-27T22:32:26.325Z"
   },
   {
    "duration": 745,
    "start_time": "2022-02-27T22:32:26.345Z"
   },
   {
    "duration": 3,
    "start_time": "2022-02-27T22:32:27.092Z"
   },
   {
    "duration": 24,
    "start_time": "2022-02-27T22:32:27.097Z"
   },
   {
    "duration": 496,
    "start_time": "2022-02-27T22:32:27.123Z"
   },
   {
    "duration": 3,
    "start_time": "2022-02-27T22:32:27.622Z"
   },
   {
    "duration": 8,
    "start_time": "2022-02-27T22:32:27.627Z"
   },
   {
    "duration": 6,
    "start_time": "2022-02-27T22:32:27.638Z"
   },
   {
    "duration": 27,
    "start_time": "2022-02-27T22:32:27.646Z"
   },
   {
    "duration": 3,
    "start_time": "2022-02-27T22:32:27.676Z"
   },
   {
    "duration": 577,
    "start_time": "2022-02-27T22:32:27.681Z"
   },
   {
    "duration": 23,
    "start_time": "2022-02-27T22:32:28.260Z"
   },
   {
    "duration": 5,
    "start_time": "2022-02-27T22:32:28.285Z"
   },
   {
    "duration": 610,
    "start_time": "2022-02-27T22:32:28.292Z"
   },
   {
    "duration": 3,
    "start_time": "2022-02-27T22:32:28.904Z"
   },
   {
    "duration": 601,
    "start_time": "2022-02-27T22:32:28.909Z"
   },
   {
    "duration": 4,
    "start_time": "2022-02-27T22:32:29.513Z"
   },
   {
    "duration": 857,
    "start_time": "2022-02-27T22:32:29.520Z"
   },
   {
    "duration": 3,
    "start_time": "2022-02-27T22:32:30.381Z"
   },
   {
    "duration": 616,
    "start_time": "2022-02-27T22:32:30.387Z"
   },
   {
    "duration": 3,
    "start_time": "2022-02-27T22:32:31.006Z"
   },
   {
    "duration": 727,
    "start_time": "2022-02-27T22:32:31.012Z"
   },
   {
    "duration": 190,
    "start_time": "2022-02-27T22:32:31.742Z"
   },
   {
    "duration": 710,
    "start_time": "2022-02-27T22:32:31.936Z"
   },
   {
    "duration": 8,
    "start_time": "2022-02-27T22:32:32.648Z"
   },
   {
    "duration": 6,
    "start_time": "2022-02-27T22:32:32.673Z"
   },
   {
    "duration": 11,
    "start_time": "2022-02-27T22:32:32.681Z"
   },
   {
    "duration": 6,
    "start_time": "2022-02-27T22:32:32.695Z"
   },
   {
    "duration": 636,
    "start_time": "2022-02-27T22:32:32.704Z"
   },
   {
    "duration": 818,
    "start_time": "2022-02-27T22:32:33.343Z"
   },
   {
    "duration": 12,
    "start_time": "2022-02-27T22:32:34.163Z"
   },
   {
    "duration": 5,
    "start_time": "2022-02-27T22:32:34.177Z"
   },
   {
    "duration": 10,
    "start_time": "2022-02-27T22:32:34.184Z"
   },
   {
    "duration": 13,
    "start_time": "2022-02-27T22:32:34.196Z"
   },
   {
    "duration": 14,
    "start_time": "2022-02-27T22:32:34.211Z"
   },
   {
    "duration": 51,
    "start_time": "2022-02-27T22:32:34.227Z"
   },
   {
    "duration": 7,
    "start_time": "2022-02-27T22:32:34.281Z"
   },
   {
    "duration": 7,
    "start_time": "2022-02-27T22:32:34.290Z"
   },
   {
    "duration": 483,
    "start_time": "2022-02-27T22:32:34.299Z"
   },
   {
    "duration": 203,
    "start_time": "2022-02-27T22:32:34.784Z"
   },
   {
    "duration": 10,
    "start_time": "2022-02-27T22:32:34.997Z"
   },
   {
    "duration": 21,
    "start_time": "2022-02-27T22:32:35.009Z"
   },
   {
    "duration": 3,
    "start_time": "2022-02-27T22:32:35.033Z"
   },
   {
    "duration": 24,
    "start_time": "2022-02-27T22:32:35.038Z"
   },
   {
    "duration": 19,
    "start_time": "2022-02-27T22:32:35.073Z"
   },
   {
    "duration": 25,
    "start_time": "2022-02-27T22:32:35.094Z"
   },
   {
    "duration": 16,
    "start_time": "2022-02-27T22:32:35.121Z"
   },
   {
    "duration": 9,
    "start_time": "2022-02-27T22:32:35.139Z"
   },
   {
    "duration": 34,
    "start_time": "2022-02-27T22:32:35.150Z"
   },
   {
    "duration": 1052,
    "start_time": "2022-02-28T02:46:47.341Z"
   },
   {
    "duration": 3,
    "start_time": "2022-02-28T02:46:48.395Z"
   },
   {
    "duration": 41,
    "start_time": "2022-02-28T02:46:48.400Z"
   },
   {
    "duration": 10,
    "start_time": "2022-02-28T02:46:48.442Z"
   },
   {
    "duration": 2,
    "start_time": "2022-02-28T02:46:48.453Z"
   },
   {
    "duration": 10,
    "start_time": "2022-02-28T02:46:48.457Z"
   },
   {
    "duration": 9,
    "start_time": "2022-02-28T02:46:48.468Z"
   },
   {
    "duration": 7,
    "start_time": "2022-02-28T02:46:48.479Z"
   },
   {
    "duration": 7,
    "start_time": "2022-02-28T02:46:48.488Z"
   },
   {
    "duration": 3,
    "start_time": "2022-02-28T02:46:48.497Z"
   },
   {
    "duration": 6,
    "start_time": "2022-02-28T02:46:48.501Z"
   },
   {
    "duration": 32,
    "start_time": "2022-02-28T02:46:48.509Z"
   },
   {
    "duration": 11,
    "start_time": "2022-02-28T02:46:48.543Z"
   },
   {
    "duration": 15,
    "start_time": "2022-02-28T02:46:48.555Z"
   },
   {
    "duration": 6,
    "start_time": "2022-02-28T02:46:48.571Z"
   },
   {
    "duration": 7,
    "start_time": "2022-02-28T02:46:48.578Z"
   },
   {
    "duration": 5,
    "start_time": "2022-02-28T02:46:48.587Z"
   },
   {
    "duration": 9,
    "start_time": "2022-02-28T02:46:48.593Z"
   },
   {
    "duration": 10,
    "start_time": "2022-02-28T02:46:48.603Z"
   },
   {
    "duration": 8,
    "start_time": "2022-02-28T02:46:48.637Z"
   },
   {
    "duration": 4,
    "start_time": "2022-02-28T02:46:48.647Z"
   },
   {
    "duration": 6,
    "start_time": "2022-02-28T02:46:48.653Z"
   },
   {
    "duration": 12,
    "start_time": "2022-02-28T02:46:48.662Z"
   },
   {
    "duration": 5,
    "start_time": "2022-02-28T02:46:48.676Z"
   },
   {
    "duration": 11,
    "start_time": "2022-02-28T02:46:48.682Z"
   },
   {
    "duration": 468,
    "start_time": "2022-02-28T02:46:48.694Z"
   },
   {
    "duration": 4,
    "start_time": "2022-02-28T02:46:49.164Z"
   },
   {
    "duration": 12,
    "start_time": "2022-02-28T02:46:49.169Z"
   },
   {
    "duration": 444,
    "start_time": "2022-02-28T02:46:49.183Z"
   },
   {
    "duration": 2,
    "start_time": "2022-02-28T02:46:49.637Z"
   },
   {
    "duration": 11,
    "start_time": "2022-02-28T02:46:49.641Z"
   },
   {
    "duration": 276,
    "start_time": "2022-02-28T02:46:49.654Z"
   },
   {
    "duration": 3,
    "start_time": "2022-02-28T02:46:49.931Z"
   },
   {
    "duration": 7,
    "start_time": "2022-02-28T02:46:49.935Z"
   },
   {
    "duration": 5,
    "start_time": "2022-02-28T02:46:49.944Z"
   },
   {
    "duration": 5,
    "start_time": "2022-02-28T02:46:49.951Z"
   },
   {
    "duration": 7,
    "start_time": "2022-02-28T02:46:49.958Z"
   },
   {
    "duration": 317,
    "start_time": "2022-02-28T02:46:49.966Z"
   },
   {
    "duration": 9,
    "start_time": "2022-02-28T02:46:50.285Z"
   },
   {
    "duration": 8,
    "start_time": "2022-02-28T02:46:50.295Z"
   },
   {
    "duration": 363,
    "start_time": "2022-02-28T02:46:50.304Z"
   },
   {
    "duration": 2,
    "start_time": "2022-02-28T02:46:50.669Z"
   },
   {
    "duration": 351,
    "start_time": "2022-02-28T02:46:50.672Z"
   },
   {
    "duration": 2,
    "start_time": "2022-02-28T02:46:51.024Z"
   },
   {
    "duration": 599,
    "start_time": "2022-02-28T02:46:51.028Z"
   },
   {
    "duration": 10,
    "start_time": "2022-02-28T02:46:51.628Z"
   },
   {
    "duration": 347,
    "start_time": "2022-02-28T02:46:51.640Z"
   },
   {
    "duration": 2,
    "start_time": "2022-02-28T02:46:51.988Z"
   },
   {
    "duration": 446,
    "start_time": "2022-02-28T02:46:51.992Z"
   },
   {
    "duration": 124,
    "start_time": "2022-02-28T02:46:52.439Z"
   },
   {
    "duration": 422,
    "start_time": "2022-02-28T02:46:52.564Z"
   },
   {
    "duration": 5,
    "start_time": "2022-02-28T02:46:52.988Z"
   },
   {
    "duration": 5,
    "start_time": "2022-02-28T02:46:52.994Z"
   },
   {
    "duration": 6,
    "start_time": "2022-02-28T02:46:53.001Z"
   },
   {
    "duration": 5,
    "start_time": "2022-02-28T02:46:53.008Z"
   },
   {
    "duration": 442,
    "start_time": "2022-02-28T02:46:53.015Z"
   },
   {
    "duration": 494,
    "start_time": "2022-02-28T02:46:53.458Z"
   },
   {
    "duration": 6,
    "start_time": "2022-02-28T02:46:53.954Z"
   },
   {
    "duration": 7,
    "start_time": "2022-02-28T02:46:53.961Z"
   },
   {
    "duration": 6,
    "start_time": "2022-02-28T02:46:53.969Z"
   },
   {
    "duration": 8,
    "start_time": "2022-02-28T02:46:53.976Z"
   },
   {
    "duration": 8,
    "start_time": "2022-02-28T02:46:53.986Z"
   },
   {
    "duration": 3,
    "start_time": "2022-02-28T02:46:53.996Z"
   },
   {
    "duration": 5,
    "start_time": "2022-02-28T02:46:54.000Z"
   },
   {
    "duration": 32,
    "start_time": "2022-02-28T02:46:54.006Z"
   },
   {
    "duration": 248,
    "start_time": "2022-02-28T02:46:54.040Z"
   },
   {
    "duration": 112,
    "start_time": "2022-02-28T02:46:54.289Z"
   },
   {
    "duration": 7,
    "start_time": "2022-02-28T02:46:54.406Z"
   },
   {
    "duration": 31,
    "start_time": "2022-02-28T02:46:54.415Z"
   },
   {
    "duration": 2,
    "start_time": "2022-02-28T02:46:54.448Z"
   },
   {
    "duration": 6,
    "start_time": "2022-02-28T02:46:54.452Z"
   },
   {
    "duration": 9,
    "start_time": "2022-02-28T02:46:54.460Z"
   },
   {
    "duration": 8,
    "start_time": "2022-02-28T02:46:54.471Z"
   },
   {
    "duration": 8,
    "start_time": "2022-02-28T02:46:54.480Z"
   },
   {
    "duration": 3,
    "start_time": "2022-02-28T02:46:54.489Z"
   },
   {
    "duration": 52,
    "start_time": "2022-02-28T02:46:54.494Z"
   },
   {
    "duration": 13,
    "start_time": "2022-02-28T02:47:52.024Z"
   },
   {
    "duration": 5,
    "start_time": "2022-02-28T02:50:44.628Z"
   },
   {
    "duration": 275,
    "start_time": "2022-02-28T03:02:33.636Z"
   },
   {
    "duration": 193,
    "start_time": "2022-02-28T03:06:37.619Z"
   },
   {
    "duration": 59,
    "start_time": "2022-02-28T03:29:31.224Z"
   },
   {
    "duration": 205,
    "start_time": "2022-02-28T03:29:52.823Z"
   },
   {
    "duration": 181,
    "start_time": "2022-02-28T03:30:35.866Z"
   },
   {
    "duration": 8,
    "start_time": "2022-02-28T03:31:02.450Z"
   },
   {
    "duration": 71,
    "start_time": "2022-02-28T03:31:22.169Z"
   },
   {
    "duration": 8,
    "start_time": "2022-02-28T03:31:34.679Z"
   },
   {
    "duration": 8,
    "start_time": "2022-02-28T03:32:14.038Z"
   },
   {
    "duration": 1069,
    "start_time": "2022-02-28T03:40:32.529Z"
   },
   {
    "duration": 2,
    "start_time": "2022-02-28T03:40:33.600Z"
   },
   {
    "duration": 51,
    "start_time": "2022-02-28T03:40:33.604Z"
   },
   {
    "duration": 11,
    "start_time": "2022-02-28T03:40:33.656Z"
   },
   {
    "duration": 3,
    "start_time": "2022-02-28T03:40:33.668Z"
   },
   {
    "duration": 8,
    "start_time": "2022-02-28T03:40:33.672Z"
   },
   {
    "duration": 11,
    "start_time": "2022-02-28T03:40:33.682Z"
   },
   {
    "duration": 3,
    "start_time": "2022-02-28T03:40:33.695Z"
   },
   {
    "duration": 7,
    "start_time": "2022-02-28T03:40:33.700Z"
   },
   {
    "duration": 4,
    "start_time": "2022-02-28T03:40:33.708Z"
   },
   {
    "duration": 6,
    "start_time": "2022-02-28T03:40:33.713Z"
   },
   {
    "duration": 17,
    "start_time": "2022-02-28T03:40:33.721Z"
   },
   {
    "duration": 14,
    "start_time": "2022-02-28T03:40:33.740Z"
   },
   {
    "duration": 10,
    "start_time": "2022-02-28T03:40:33.755Z"
   },
   {
    "duration": 6,
    "start_time": "2022-02-28T03:40:33.767Z"
   },
   {
    "duration": 7,
    "start_time": "2022-02-28T03:40:33.774Z"
   },
   {
    "duration": 7,
    "start_time": "2022-02-28T03:40:33.782Z"
   },
   {
    "duration": 9,
    "start_time": "2022-02-28T03:40:33.790Z"
   },
   {
    "duration": 38,
    "start_time": "2022-02-28T03:40:33.801Z"
   },
   {
    "duration": 8,
    "start_time": "2022-02-28T03:40:33.840Z"
   },
   {
    "duration": 3,
    "start_time": "2022-02-28T03:40:33.850Z"
   },
   {
    "duration": 6,
    "start_time": "2022-02-28T03:40:33.854Z"
   },
   {
    "duration": 8,
    "start_time": "2022-02-28T03:40:33.863Z"
   },
   {
    "duration": 4,
    "start_time": "2022-02-28T03:40:33.873Z"
   },
   {
    "duration": 10,
    "start_time": "2022-02-28T03:40:33.879Z"
   },
   {
    "duration": 480,
    "start_time": "2022-02-28T03:40:33.890Z"
   },
   {
    "duration": 4,
    "start_time": "2022-02-28T03:40:34.371Z"
   },
   {
    "duration": 12,
    "start_time": "2022-02-28T03:40:34.377Z"
   },
   {
    "duration": 474,
    "start_time": "2022-02-28T03:40:34.391Z"
   },
   {
    "duration": 2,
    "start_time": "2022-02-28T03:40:34.866Z"
   },
   {
    "duration": 10,
    "start_time": "2022-02-28T03:40:34.869Z"
   },
   {
    "duration": 11,
    "start_time": "2022-02-28T03:40:34.880Z"
   },
   {
    "duration": 418,
    "start_time": "2022-02-28T03:40:34.892Z"
   },
   {
    "duration": 3,
    "start_time": "2022-02-28T03:40:35.312Z"
   },
   {
    "duration": 10,
    "start_time": "2022-02-28T03:40:35.316Z"
   },
   {
    "duration": 12,
    "start_time": "2022-02-28T03:40:35.327Z"
   },
   {
    "duration": 7,
    "start_time": "2022-02-28T03:40:35.341Z"
   },
   {
    "duration": 6,
    "start_time": "2022-02-28T03:40:35.349Z"
   },
   {
    "duration": 411,
    "start_time": "2022-02-28T03:40:35.357Z"
   },
   {
    "duration": 8,
    "start_time": "2022-02-28T03:40:35.770Z"
   },
   {
    "duration": 5,
    "start_time": "2022-02-28T03:40:35.780Z"
   },
   {
    "duration": 430,
    "start_time": "2022-02-28T03:40:35.787Z"
   },
   {
    "duration": 2,
    "start_time": "2022-02-28T03:40:36.219Z"
   },
   {
    "duration": 351,
    "start_time": "2022-02-28T03:40:36.223Z"
   },
   {
    "duration": 2,
    "start_time": "2022-02-28T03:40:36.576Z"
   },
   {
    "duration": 545,
    "start_time": "2022-02-28T03:40:36.579Z"
   },
   {
    "duration": 2,
    "start_time": "2022-02-28T03:40:37.126Z"
   },
   {
    "duration": 346,
    "start_time": "2022-02-28T03:40:37.129Z"
   },
   {
    "duration": 2,
    "start_time": "2022-02-28T03:40:37.477Z"
   },
   {
    "duration": 435,
    "start_time": "2022-02-28T03:40:37.481Z"
   },
   {
    "duration": 125,
    "start_time": "2022-02-28T03:40:37.918Z"
   },
   {
    "duration": 430,
    "start_time": "2022-02-28T03:40:38.044Z"
   },
   {
    "duration": 5,
    "start_time": "2022-02-28T03:40:38.476Z"
   },
   {
    "duration": 6,
    "start_time": "2022-02-28T03:40:38.483Z"
   },
   {
    "duration": 8,
    "start_time": "2022-02-28T03:40:38.490Z"
   },
   {
    "duration": 5,
    "start_time": "2022-02-28T03:40:38.499Z"
   },
   {
    "duration": 446,
    "start_time": "2022-02-28T03:40:38.506Z"
   },
   {
    "duration": 502,
    "start_time": "2022-02-28T03:40:38.953Z"
   },
   {
    "duration": 5,
    "start_time": "2022-02-28T03:40:39.456Z"
   },
   {
    "duration": 5,
    "start_time": "2022-02-28T03:40:39.463Z"
   },
   {
    "duration": 8,
    "start_time": "2022-02-28T03:40:39.469Z"
   },
   {
    "duration": 10,
    "start_time": "2022-02-28T03:40:39.478Z"
   },
   {
    "duration": 8,
    "start_time": "2022-02-28T03:40:39.489Z"
   },
   {
    "duration": 4,
    "start_time": "2022-02-28T03:40:39.499Z"
   },
   {
    "duration": 7,
    "start_time": "2022-02-28T03:40:39.505Z"
   },
   {
    "duration": 24,
    "start_time": "2022-02-28T03:40:39.514Z"
   },
   {
    "duration": 252,
    "start_time": "2022-02-28T03:40:39.540Z"
   },
   {
    "duration": 115,
    "start_time": "2022-02-28T03:40:39.796Z"
   },
   {
    "duration": 28,
    "start_time": "2022-02-28T03:40:39.913Z"
   },
   {
    "duration": 10,
    "start_time": "2022-02-28T03:40:39.943Z"
   },
   {
    "duration": 3,
    "start_time": "2022-02-28T03:40:39.954Z"
   },
   {
    "duration": 9,
    "start_time": "2022-02-28T03:40:39.958Z"
   },
   {
    "duration": 277,
    "start_time": "2022-02-28T03:40:39.969Z"
   },
   {
    "duration": -3978,
    "start_time": "2022-02-28T03:40:44.226Z"
   },
   {
    "duration": -3980,
    "start_time": "2022-02-28T03:40:44.229Z"
   },
   {
    "duration": -3990,
    "start_time": "2022-02-28T03:40:44.240Z"
   },
   {
    "duration": -3993,
    "start_time": "2022-02-28T03:40:44.243Z"
   },
   {
    "duration": 11,
    "start_time": "2022-02-28T05:05:27.745Z"
   },
   {
    "duration": 458,
    "start_time": "2022-02-28T05:07:47.929Z"
   },
   {
    "duration": 182,
    "start_time": "2022-02-28T05:11:02.192Z"
   },
   {
    "duration": 215,
    "start_time": "2022-02-28T05:11:08.679Z"
   },
   {
    "duration": 5006,
    "start_time": "2022-02-28T05:24:39.348Z"
   },
   {
    "duration": 8,
    "start_time": "2022-02-28T05:25:10.414Z"
   },
   {
    "duration": 186,
    "start_time": "2022-02-28T05:26:44.581Z"
   },
   {
    "duration": 209,
    "start_time": "2022-02-28T05:26:59.387Z"
   },
   {
    "duration": 70,
    "start_time": "2022-02-28T05:27:13.868Z"
   },
   {
    "duration": 194,
    "start_time": "2022-02-28T05:27:28.747Z"
   },
   {
    "duration": 73,
    "start_time": "2022-02-28T05:28:25.396Z"
   },
   {
    "duration": 73,
    "start_time": "2022-02-28T05:28:30.466Z"
   },
   {
    "duration": 193,
    "start_time": "2022-02-28T05:28:41.459Z"
   },
   {
    "duration": 9,
    "start_time": "2022-02-28T05:29:19.913Z"
   },
   {
    "duration": 181,
    "start_time": "2022-02-28T05:38:54.162Z"
   },
   {
    "duration": 8,
    "start_time": "2022-02-28T05:39:19.754Z"
   },
   {
    "duration": 1094,
    "start_time": "2022-02-28T05:39:36.592Z"
   },
   {
    "duration": 3,
    "start_time": "2022-02-28T05:39:37.688Z"
   },
   {
    "duration": 46,
    "start_time": "2022-02-28T05:39:37.693Z"
   },
   {
    "duration": 10,
    "start_time": "2022-02-28T05:39:37.741Z"
   },
   {
    "duration": 8,
    "start_time": "2022-02-28T05:39:37.753Z"
   },
   {
    "duration": 18,
    "start_time": "2022-02-28T05:39:37.763Z"
   },
   {
    "duration": 11,
    "start_time": "2022-02-28T05:39:37.783Z"
   },
   {
    "duration": 3,
    "start_time": "2022-02-28T05:39:37.796Z"
   },
   {
    "duration": 6,
    "start_time": "2022-02-28T05:39:37.802Z"
   },
   {
    "duration": 3,
    "start_time": "2022-02-28T05:39:37.810Z"
   },
   {
    "duration": 7,
    "start_time": "2022-02-28T05:39:37.814Z"
   },
   {
    "duration": 18,
    "start_time": "2022-02-28T05:39:37.823Z"
   },
   {
    "duration": 13,
    "start_time": "2022-02-28T05:39:37.842Z"
   },
   {
    "duration": 8,
    "start_time": "2022-02-28T05:39:37.856Z"
   },
   {
    "duration": 10,
    "start_time": "2022-02-28T05:39:37.865Z"
   },
   {
    "duration": 12,
    "start_time": "2022-02-28T05:39:37.876Z"
   },
   {
    "duration": 6,
    "start_time": "2022-02-28T05:39:37.889Z"
   },
   {
    "duration": 10,
    "start_time": "2022-02-28T05:39:37.897Z"
   },
   {
    "duration": 10,
    "start_time": "2022-02-28T05:39:37.909Z"
   },
   {
    "duration": 10,
    "start_time": "2022-02-28T05:39:37.938Z"
   },
   {
    "duration": 2,
    "start_time": "2022-02-28T05:39:37.950Z"
   },
   {
    "duration": 6,
    "start_time": "2022-02-28T05:39:37.954Z"
   },
   {
    "duration": 10,
    "start_time": "2022-02-28T05:39:37.961Z"
   },
   {
    "duration": 5,
    "start_time": "2022-02-28T05:39:37.972Z"
   },
   {
    "duration": 13,
    "start_time": "2022-02-28T05:39:37.978Z"
   },
   {
    "duration": 483,
    "start_time": "2022-02-28T05:39:37.992Z"
   },
   {
    "duration": 4,
    "start_time": "2022-02-28T05:39:38.479Z"
   },
   {
    "duration": 12,
    "start_time": "2022-02-28T05:39:38.485Z"
   },
   {
    "duration": 438,
    "start_time": "2022-02-28T05:39:38.499Z"
   },
   {
    "duration": 2,
    "start_time": "2022-02-28T05:39:38.939Z"
   },
   {
    "duration": 12,
    "start_time": "2022-02-28T05:39:38.943Z"
   },
   {
    "duration": 12,
    "start_time": "2022-02-28T05:39:38.956Z"
   },
   {
    "duration": 284,
    "start_time": "2022-02-28T05:39:38.970Z"
   },
   {
    "duration": 2,
    "start_time": "2022-02-28T05:39:39.256Z"
   },
   {
    "duration": 6,
    "start_time": "2022-02-28T05:39:39.260Z"
   },
   {
    "duration": 7,
    "start_time": "2022-02-28T05:39:39.267Z"
   },
   {
    "duration": 6,
    "start_time": "2022-02-28T05:39:39.275Z"
   },
   {
    "duration": 6,
    "start_time": "2022-02-28T05:39:39.282Z"
   },
   {
    "duration": 318,
    "start_time": "2022-02-28T05:39:39.289Z"
   },
   {
    "duration": 9,
    "start_time": "2022-02-28T05:39:39.608Z"
   },
   {
    "duration": 5,
    "start_time": "2022-02-28T05:39:39.618Z"
   },
   {
    "duration": 359,
    "start_time": "2022-02-28T05:39:39.624Z"
   },
   {
    "duration": 2,
    "start_time": "2022-02-28T05:39:39.985Z"
   },
   {
    "duration": 351,
    "start_time": "2022-02-28T05:39:39.989Z"
   },
   {
    "duration": 2,
    "start_time": "2022-02-28T05:39:40.342Z"
   },
   {
    "duration": 575,
    "start_time": "2022-02-28T05:39:40.345Z"
   },
   {
    "duration": 2,
    "start_time": "2022-02-28T05:39:40.922Z"
   },
   {
    "duration": 358,
    "start_time": "2022-02-28T05:39:40.926Z"
   },
   {
    "duration": 2,
    "start_time": "2022-02-28T05:39:41.286Z"
   },
   {
    "duration": 451,
    "start_time": "2022-02-28T05:39:41.290Z"
   },
   {
    "duration": 111,
    "start_time": "2022-02-28T05:39:41.743Z"
   },
   {
    "duration": 424,
    "start_time": "2022-02-28T05:39:41.856Z"
   },
   {
    "duration": 5,
    "start_time": "2022-02-28T05:39:42.282Z"
   },
   {
    "duration": 6,
    "start_time": "2022-02-28T05:39:42.289Z"
   },
   {
    "duration": 6,
    "start_time": "2022-02-28T05:39:42.296Z"
   },
   {
    "duration": 6,
    "start_time": "2022-02-28T05:39:42.304Z"
   },
   {
    "duration": 441,
    "start_time": "2022-02-28T05:39:42.311Z"
   },
   {
    "duration": 494,
    "start_time": "2022-02-28T05:39:42.754Z"
   },
   {
    "duration": 7,
    "start_time": "2022-02-28T05:39:43.250Z"
   },
   {
    "duration": 6,
    "start_time": "2022-02-28T05:39:43.258Z"
   },
   {
    "duration": 5,
    "start_time": "2022-02-28T05:39:43.266Z"
   },
   {
    "duration": 10,
    "start_time": "2022-02-28T05:39:43.272Z"
   },
   {
    "duration": 10,
    "start_time": "2022-02-28T05:39:43.284Z"
   },
   {
    "duration": 6,
    "start_time": "2022-02-28T05:39:43.295Z"
   },
   {
    "duration": 34,
    "start_time": "2022-02-28T05:39:43.303Z"
   },
   {
    "duration": 5,
    "start_time": "2022-02-28T05:39:43.339Z"
   },
   {
    "duration": 250,
    "start_time": "2022-02-28T05:39:43.346Z"
   },
   {
    "duration": 107,
    "start_time": "2022-02-28T05:39:43.598Z"
   },
   {
    "duration": 7,
    "start_time": "2022-02-28T05:39:43.707Z"
   },
   {
    "duration": 31,
    "start_time": "2022-02-28T05:39:43.715Z"
   },
   {
    "duration": 10,
    "start_time": "2022-02-28T05:39:43.747Z"
   },
   {
    "duration": 4,
    "start_time": "2022-02-28T05:39:43.759Z"
   },
   {
    "duration": 11,
    "start_time": "2022-02-28T05:39:43.765Z"
   },
   {
    "duration": 9,
    "start_time": "2022-02-28T05:39:43.777Z"
   },
   {
    "duration": 8,
    "start_time": "2022-02-28T05:39:43.787Z"
   },
   {
    "duration": 2,
    "start_time": "2022-02-28T05:39:43.797Z"
   },
   {
    "duration": 42,
    "start_time": "2022-02-28T05:39:43.800Z"
   },
   {
    "duration": 290,
    "start_time": "2022-02-28T07:50:42.041Z"
   },
   {
    "duration": 1423,
    "start_time": "2022-02-28T07:50:47.203Z"
   },
   {
    "duration": 5,
    "start_time": "2022-02-28T07:50:48.628Z"
   },
   {
    "duration": 48,
    "start_time": "2022-02-28T07:50:48.636Z"
   },
   {
    "duration": 14,
    "start_time": "2022-02-28T07:50:48.686Z"
   },
   {
    "duration": 7,
    "start_time": "2022-02-28T07:50:48.702Z"
   },
   {
    "duration": 9,
    "start_time": "2022-02-28T07:50:48.712Z"
   },
   {
    "duration": 11,
    "start_time": "2022-02-28T07:50:48.724Z"
   },
   {
    "duration": 7,
    "start_time": "2022-02-28T07:50:48.737Z"
   },
   {
    "duration": 40,
    "start_time": "2022-02-28T07:50:48.748Z"
   },
   {
    "duration": 6,
    "start_time": "2022-02-28T07:50:48.792Z"
   },
   {
    "duration": 9,
    "start_time": "2022-02-28T07:50:48.800Z"
   },
   {
    "duration": 10,
    "start_time": "2022-02-28T07:50:48.812Z"
   },
   {
    "duration": 20,
    "start_time": "2022-02-28T07:50:48.824Z"
   },
   {
    "duration": 13,
    "start_time": "2022-02-28T07:50:48.883Z"
   },
   {
    "duration": 11,
    "start_time": "2022-02-28T07:50:48.898Z"
   },
   {
    "duration": 10,
    "start_time": "2022-02-28T07:50:48.911Z"
   },
   {
    "duration": 8,
    "start_time": "2022-02-28T07:50:48.924Z"
   },
   {
    "duration": 51,
    "start_time": "2022-02-28T07:50:48.935Z"
   },
   {
    "duration": 18,
    "start_time": "2022-02-28T07:50:48.989Z"
   },
   {
    "duration": 15,
    "start_time": "2022-02-28T07:50:49.009Z"
   },
   {
    "duration": 4,
    "start_time": "2022-02-28T07:50:49.026Z"
   },
   {
    "duration": 51,
    "start_time": "2022-02-28T07:50:49.033Z"
   },
   {
    "duration": 15,
    "start_time": "2022-02-28T07:50:49.087Z"
   },
   {
    "duration": 7,
    "start_time": "2022-02-28T07:50:49.105Z"
   },
   {
    "duration": 15,
    "start_time": "2022-02-28T07:50:49.114Z"
   },
   {
    "duration": 874,
    "start_time": "2022-02-28T07:50:49.131Z"
   },
   {
    "duration": 6,
    "start_time": "2022-02-28T07:50:50.011Z"
   },
   {
    "duration": 21,
    "start_time": "2022-02-28T07:50:50.020Z"
   },
   {
    "duration": 708,
    "start_time": "2022-02-28T07:50:50.044Z"
   },
   {
    "duration": 3,
    "start_time": "2022-02-28T07:50:50.754Z"
   },
   {
    "duration": 28,
    "start_time": "2022-02-28T07:50:50.760Z"
   },
   {
    "duration": 17,
    "start_time": "2022-02-28T07:50:50.790Z"
   },
   {
    "duration": 495,
    "start_time": "2022-02-28T07:50:50.809Z"
   },
   {
    "duration": 3,
    "start_time": "2022-02-28T07:50:51.307Z"
   },
   {
    "duration": 7,
    "start_time": "2022-02-28T07:50:51.313Z"
   },
   {
    "duration": 6,
    "start_time": "2022-02-28T07:50:51.323Z"
   },
   {
    "duration": 18,
    "start_time": "2022-02-28T07:50:51.331Z"
   },
   {
    "duration": 10,
    "start_time": "2022-02-28T07:50:51.351Z"
   },
   {
    "duration": 557,
    "start_time": "2022-02-28T07:50:51.363Z"
   },
   {
    "duration": 12,
    "start_time": "2022-02-28T07:50:51.923Z"
   },
   {
    "duration": 6,
    "start_time": "2022-02-28T07:50:51.938Z"
   },
   {
    "duration": 586,
    "start_time": "2022-02-28T07:50:51.946Z"
   },
   {
    "duration": 3,
    "start_time": "2022-02-28T07:50:52.534Z"
   },
   {
    "duration": 561,
    "start_time": "2022-02-28T07:50:52.539Z"
   },
   {
    "duration": 3,
    "start_time": "2022-02-28T07:50:53.102Z"
   },
   {
    "duration": 752,
    "start_time": "2022-02-28T07:50:53.108Z"
   },
   {
    "duration": 3,
    "start_time": "2022-02-28T07:50:53.862Z"
   },
   {
    "duration": 586,
    "start_time": "2022-02-28T07:50:53.868Z"
   },
   {
    "duration": 3,
    "start_time": "2022-02-28T07:50:54.456Z"
   },
   {
    "duration": 673,
    "start_time": "2022-02-28T07:50:54.461Z"
   },
   {
    "duration": 215,
    "start_time": "2022-02-28T07:50:55.137Z"
   },
   {
    "duration": 648,
    "start_time": "2022-02-28T07:50:55.355Z"
   },
   {
    "duration": 9,
    "start_time": "2022-02-28T07:50:56.007Z"
   },
   {
    "duration": 9,
    "start_time": "2022-02-28T07:50:56.019Z"
   },
   {
    "duration": 15,
    "start_time": "2022-02-28T07:50:56.031Z"
   },
   {
    "duration": 6,
    "start_time": "2022-02-28T07:50:56.084Z"
   },
   {
    "duration": 612,
    "start_time": "2022-02-28T07:50:56.092Z"
   },
   {
    "duration": 737,
    "start_time": "2022-02-28T07:50:56.707Z"
   },
   {
    "duration": 9,
    "start_time": "2022-02-28T07:50:57.448Z"
   },
   {
    "duration": 7,
    "start_time": "2022-02-28T07:50:57.483Z"
   },
   {
    "duration": 8,
    "start_time": "2022-02-28T07:50:57.493Z"
   },
   {
    "duration": 12,
    "start_time": "2022-02-28T07:50:57.504Z"
   },
   {
    "duration": 12,
    "start_time": "2022-02-28T07:50:57.518Z"
   },
   {
    "duration": 5,
    "start_time": "2022-02-28T07:50:57.533Z"
   },
   {
    "duration": 3,
    "start_time": "2022-02-28T07:50:57.583Z"
   },
   {
    "duration": 6,
    "start_time": "2022-02-28T07:50:57.589Z"
   },
   {
    "duration": 485,
    "start_time": "2022-02-28T07:50:57.597Z"
   },
   {
    "duration": 215,
    "start_time": "2022-02-28T07:50:58.085Z"
   },
   {
    "duration": 9,
    "start_time": "2022-02-28T07:50:58.303Z"
   },
   {
    "duration": 24,
    "start_time": "2022-02-28T07:50:58.314Z"
   },
   {
    "duration": 16,
    "start_time": "2022-02-28T07:50:58.340Z"
   },
   {
    "duration": 25,
    "start_time": "2022-02-28T07:50:58.359Z"
   },
   {
    "duration": 25,
    "start_time": "2022-02-28T07:50:58.387Z"
   },
   {
    "duration": 7,
    "start_time": "2022-02-28T07:51:13.532Z"
   },
   {
    "duration": 315,
    "start_time": "2022-02-28T07:51:19.548Z"
   },
   {
    "duration": 6,
    "start_time": "2022-02-28T07:51:24.834Z"
   },
   {
    "duration": 11,
    "start_time": "2022-02-28T07:51:37.145Z"
   },
   {
    "duration": 100,
    "start_time": "2022-02-28T07:54:27.504Z"
   },
   {
    "duration": 1410,
    "start_time": "2022-02-28T07:55:06.826Z"
   },
   {
    "duration": 4,
    "start_time": "2022-02-28T07:55:08.239Z"
   },
   {
    "duration": 63,
    "start_time": "2022-02-28T07:55:08.246Z"
   },
   {
    "duration": 15,
    "start_time": "2022-02-28T07:55:08.312Z"
   },
   {
    "duration": 11,
    "start_time": "2022-02-28T07:55:08.330Z"
   },
   {
    "duration": 15,
    "start_time": "2022-02-28T07:55:08.343Z"
   },
   {
    "duration": 15,
    "start_time": "2022-02-28T07:55:08.360Z"
   },
   {
    "duration": 10,
    "start_time": "2022-02-28T07:55:08.377Z"
   },
   {
    "duration": 11,
    "start_time": "2022-02-28T07:55:08.391Z"
   },
   {
    "duration": 5,
    "start_time": "2022-02-28T07:55:08.405Z"
   },
   {
    "duration": 8,
    "start_time": "2022-02-28T07:55:08.412Z"
   },
   {
    "duration": 12,
    "start_time": "2022-02-28T07:55:08.422Z"
   },
   {
    "duration": 51,
    "start_time": "2022-02-28T07:55:08.436Z"
   },
   {
    "duration": 8,
    "start_time": "2022-02-28T07:55:08.490Z"
   },
   {
    "duration": 10,
    "start_time": "2022-02-28T07:55:08.500Z"
   },
   {
    "duration": 9,
    "start_time": "2022-02-28T07:55:08.512Z"
   },
   {
    "duration": 9,
    "start_time": "2022-02-28T07:55:08.523Z"
   },
   {
    "duration": 51,
    "start_time": "2022-02-28T07:55:08.535Z"
   },
   {
    "duration": 14,
    "start_time": "2022-02-28T07:55:08.588Z"
   },
   {
    "duration": 12,
    "start_time": "2022-02-28T07:55:08.604Z"
   },
   {
    "duration": 3,
    "start_time": "2022-02-28T07:55:08.619Z"
   },
   {
    "duration": 8,
    "start_time": "2022-02-28T07:55:08.625Z"
   },
   {
    "duration": 54,
    "start_time": "2022-02-28T07:55:08.635Z"
   },
   {
    "duration": 5,
    "start_time": "2022-02-28T07:55:08.692Z"
   },
   {
    "duration": 14,
    "start_time": "2022-02-28T07:55:08.700Z"
   },
   {
    "duration": 751,
    "start_time": "2022-02-28T07:55:08.717Z"
   },
   {
    "duration": 6,
    "start_time": "2022-02-28T07:55:09.483Z"
   },
   {
    "duration": 17,
    "start_time": "2022-02-28T07:55:09.494Z"
   },
   {
    "duration": 698,
    "start_time": "2022-02-28T07:55:09.514Z"
   },
   {
    "duration": 4,
    "start_time": "2022-02-28T07:55:10.215Z"
   },
   {
    "duration": 14,
    "start_time": "2022-02-28T07:55:10.222Z"
   },
   {
    "duration": 50,
    "start_time": "2022-02-28T07:55:10.239Z"
   },
   {
    "duration": 554,
    "start_time": "2022-02-28T07:55:10.292Z"
   },
   {
    "duration": 3,
    "start_time": "2022-02-28T07:55:10.849Z"
   },
   {
    "duration": 7,
    "start_time": "2022-02-28T07:55:10.855Z"
   },
   {
    "duration": 19,
    "start_time": "2022-02-28T07:55:10.864Z"
   },
   {
    "duration": 10,
    "start_time": "2022-02-28T07:55:10.886Z"
   },
   {
    "duration": 6,
    "start_time": "2022-02-28T07:55:10.898Z"
   },
   {
    "duration": 556,
    "start_time": "2022-02-28T07:55:10.906Z"
   },
   {
    "duration": 17,
    "start_time": "2022-02-28T07:55:11.465Z"
   },
   {
    "duration": 4,
    "start_time": "2022-02-28T07:55:11.484Z"
   },
   {
    "duration": 567,
    "start_time": "2022-02-28T07:55:11.490Z"
   },
   {
    "duration": 3,
    "start_time": "2022-02-28T07:55:12.060Z"
   },
   {
    "duration": 662,
    "start_time": "2022-02-28T07:55:12.065Z"
   },
   {
    "duration": 3,
    "start_time": "2022-02-28T07:55:12.730Z"
   },
   {
    "duration": 815,
    "start_time": "2022-02-28T07:55:12.735Z"
   },
   {
    "duration": 3,
    "start_time": "2022-02-28T07:55:13.553Z"
   },
   {
    "duration": 582,
    "start_time": "2022-02-28T07:55:13.559Z"
   },
   {
    "duration": 3,
    "start_time": "2022-02-28T07:55:14.144Z"
   },
   {
    "duration": 673,
    "start_time": "2022-02-28T07:55:14.150Z"
   },
   {
    "duration": 192,
    "start_time": "2022-02-28T07:55:14.826Z"
   },
   {
    "duration": 604,
    "start_time": "2022-02-28T07:55:15.021Z"
   },
   {
    "duration": 9,
    "start_time": "2022-02-28T07:55:15.628Z"
   },
   {
    "duration": 9,
    "start_time": "2022-02-28T07:55:15.640Z"
   },
   {
    "duration": 34,
    "start_time": "2022-02-28T07:55:15.652Z"
   },
   {
    "duration": 9,
    "start_time": "2022-02-28T07:55:15.689Z"
   },
   {
    "duration": 646,
    "start_time": "2022-02-28T07:55:15.701Z"
   },
   {
    "duration": 902,
    "start_time": "2022-02-28T07:55:16.351Z"
   },
   {
    "duration": 9,
    "start_time": "2022-02-28T07:55:17.255Z"
   },
   {
    "duration": 8,
    "start_time": "2022-02-28T07:55:17.282Z"
   },
   {
    "duration": 10,
    "start_time": "2022-02-28T07:55:17.292Z"
   },
   {
    "duration": 14,
    "start_time": "2022-02-28T07:55:17.305Z"
   },
   {
    "duration": 19,
    "start_time": "2022-02-28T07:55:17.322Z"
   },
   {
    "duration": 4,
    "start_time": "2022-02-28T07:55:17.344Z"
   },
   {
    "duration": 3,
    "start_time": "2022-02-28T07:55:17.384Z"
   },
   {
    "duration": 9,
    "start_time": "2022-02-28T07:55:17.391Z"
   },
   {
    "duration": 536,
    "start_time": "2022-02-28T07:55:17.403Z"
   },
   {
    "duration": 219,
    "start_time": "2022-02-28T07:55:17.942Z"
   },
   {
    "duration": 19,
    "start_time": "2022-02-28T07:55:18.163Z"
   },
   {
    "duration": 15,
    "start_time": "2022-02-28T07:55:18.184Z"
   },
   {
    "duration": 18,
    "start_time": "2022-02-28T07:55:18.202Z"
   },
   {
    "duration": 6,
    "start_time": "2022-02-28T07:55:18.223Z"
   },
   {
    "duration": 53,
    "start_time": "2022-02-28T07:55:18.232Z"
   },
   {
    "duration": 16,
    "start_time": "2022-02-28T07:55:18.289Z"
   },
   {
    "duration": 13,
    "start_time": "2022-02-28T07:55:18.308Z"
   },
   {
    "duration": 4,
    "start_time": "2022-02-28T07:55:18.324Z"
   },
   {
    "duration": 60,
    "start_time": "2022-02-28T07:55:18.330Z"
   },
   {
    "duration": 1406,
    "start_time": "2022-02-28T09:17:04.825Z"
   },
   {
    "duration": 4,
    "start_time": "2022-02-28T09:17:06.234Z"
   },
   {
    "duration": 64,
    "start_time": "2022-02-28T09:17:06.241Z"
   },
   {
    "duration": 30,
    "start_time": "2022-02-28T09:17:06.308Z"
   },
   {
    "duration": 9,
    "start_time": "2022-02-28T09:17:06.340Z"
   },
   {
    "duration": 31,
    "start_time": "2022-02-28T09:17:06.351Z"
   },
   {
    "duration": 26,
    "start_time": "2022-02-28T09:17:06.385Z"
   },
   {
    "duration": 20,
    "start_time": "2022-02-28T09:17:06.415Z"
   },
   {
    "duration": 27,
    "start_time": "2022-02-28T09:17:06.439Z"
   },
   {
    "duration": 10,
    "start_time": "2022-02-28T09:17:06.468Z"
   },
   {
    "duration": 33,
    "start_time": "2022-02-28T09:17:06.480Z"
   },
   {
    "duration": 30,
    "start_time": "2022-02-28T09:17:06.515Z"
   },
   {
    "duration": 36,
    "start_time": "2022-02-28T09:17:06.548Z"
   },
   {
    "duration": 27,
    "start_time": "2022-02-28T09:17:06.587Z"
   },
   {
    "duration": 18,
    "start_time": "2022-02-28T09:17:06.617Z"
   },
   {
    "duration": 26,
    "start_time": "2022-02-28T09:17:06.637Z"
   },
   {
    "duration": 37,
    "start_time": "2022-02-28T09:17:06.666Z"
   },
   {
    "duration": 32,
    "start_time": "2022-02-28T09:17:06.706Z"
   },
   {
    "duration": 54,
    "start_time": "2022-02-28T09:17:06.740Z"
   },
   {
    "duration": 29,
    "start_time": "2022-02-28T09:17:06.797Z"
   },
   {
    "duration": 18,
    "start_time": "2022-02-28T09:17:06.829Z"
   },
   {
    "duration": 30,
    "start_time": "2022-02-28T09:17:06.849Z"
   },
   {
    "duration": 21,
    "start_time": "2022-02-28T09:17:06.884Z"
   },
   {
    "duration": 22,
    "start_time": "2022-02-28T09:17:06.909Z"
   },
   {
    "duration": 27,
    "start_time": "2022-02-28T09:17:06.933Z"
   },
   {
    "duration": 753,
    "start_time": "2022-02-28T09:17:06.963Z"
   },
   {
    "duration": 7,
    "start_time": "2022-02-28T09:17:07.720Z"
   },
   {
    "duration": 27,
    "start_time": "2022-02-28T09:17:07.729Z"
   },
   {
    "duration": 698,
    "start_time": "2022-02-28T09:17:07.758Z"
   },
   {
    "duration": 4,
    "start_time": "2022-02-28T09:17:08.458Z"
   },
   {
    "duration": 27,
    "start_time": "2022-02-28T09:17:08.464Z"
   },
   {
    "duration": 42,
    "start_time": "2022-02-28T09:17:08.494Z"
   },
   {
    "duration": 546,
    "start_time": "2022-02-28T09:17:08.538Z"
   },
   {
    "duration": 3,
    "start_time": "2022-02-28T09:17:09.088Z"
   },
   {
    "duration": 29,
    "start_time": "2022-02-28T09:17:09.094Z"
   },
   {
    "duration": 25,
    "start_time": "2022-02-28T09:17:09.125Z"
   },
   {
    "duration": 31,
    "start_time": "2022-02-28T09:17:09.152Z"
   },
   {
    "duration": 23,
    "start_time": "2022-02-28T09:17:09.185Z"
   },
   {
    "duration": 545,
    "start_time": "2022-02-28T09:17:09.210Z"
   },
   {
    "duration": 25,
    "start_time": "2022-02-28T09:17:09.757Z"
   },
   {
    "duration": 3,
    "start_time": "2022-02-28T09:17:09.785Z"
   },
   {
    "duration": 695,
    "start_time": "2022-02-28T09:17:09.790Z"
   },
   {
    "duration": 3,
    "start_time": "2022-02-28T09:17:10.487Z"
   },
   {
    "duration": 563,
    "start_time": "2022-02-28T09:17:10.492Z"
   },
   {
    "duration": 3,
    "start_time": "2022-02-28T09:17:11.057Z"
   },
   {
    "duration": 789,
    "start_time": "2022-02-28T09:17:11.063Z"
   },
   {
    "duration": 4,
    "start_time": "2022-02-28T09:17:11.855Z"
   },
   {
    "duration": 561,
    "start_time": "2022-02-28T09:17:11.861Z"
   },
   {
    "duration": 3,
    "start_time": "2022-02-28T09:17:12.425Z"
   },
   {
    "duration": 734,
    "start_time": "2022-02-28T09:17:12.431Z"
   },
   {
    "duration": 206,
    "start_time": "2022-02-28T09:17:13.168Z"
   },
   {
    "duration": 648,
    "start_time": "2022-02-28T09:17:13.377Z"
   },
   {
    "duration": 9,
    "start_time": "2022-02-28T09:17:14.027Z"
   },
   {
    "duration": 8,
    "start_time": "2022-02-28T09:17:14.039Z"
   },
   {
    "duration": 34,
    "start_time": "2022-02-28T09:17:14.049Z"
   },
   {
    "duration": 6,
    "start_time": "2022-02-28T09:17:14.086Z"
   },
   {
    "duration": 604,
    "start_time": "2022-02-28T09:17:14.094Z"
   },
   {
    "duration": 737,
    "start_time": "2022-02-28T09:17:14.701Z"
   },
   {
    "duration": 8,
    "start_time": "2022-02-28T09:17:15.441Z"
   },
   {
    "duration": 32,
    "start_time": "2022-02-28T09:17:15.452Z"
   },
   {
    "duration": 9,
    "start_time": "2022-02-28T09:17:15.486Z"
   },
   {
    "duration": 15,
    "start_time": "2022-02-28T09:17:15.497Z"
   },
   {
    "duration": 14,
    "start_time": "2022-02-28T09:17:15.514Z"
   },
   {
    "duration": 8,
    "start_time": "2022-02-28T09:17:15.530Z"
   },
   {
    "duration": 8,
    "start_time": "2022-02-28T09:17:15.540Z"
   },
   {
    "duration": 33,
    "start_time": "2022-02-28T09:17:15.550Z"
   },
   {
    "duration": 470,
    "start_time": "2022-02-28T09:17:15.586Z"
   },
   {
    "duration": 235,
    "start_time": "2022-02-28T09:17:16.065Z"
   },
   {
    "duration": 10,
    "start_time": "2022-02-28T09:17:16.303Z"
   },
   {
    "duration": 24,
    "start_time": "2022-02-28T09:17:16.315Z"
   },
   {
    "duration": 23,
    "start_time": "2022-02-28T09:17:16.342Z"
   },
   {
    "duration": 14,
    "start_time": "2022-02-28T09:17:16.368Z"
   },
   {
    "duration": 33,
    "start_time": "2022-02-28T09:17:16.384Z"
   },
   {
    "duration": 22,
    "start_time": "2022-02-28T09:17:16.420Z"
   },
   {
    "duration": 18,
    "start_time": "2022-02-28T09:17:16.445Z"
   },
   {
    "duration": 29,
    "start_time": "2022-02-28T09:17:16.466Z"
   },
   {
    "duration": 30,
    "start_time": "2022-02-28T09:17:16.498Z"
   },
   {
    "duration": 1343,
    "start_time": "2022-03-24T10:58:06.075Z"
   },
   {
    "duration": 4,
    "start_time": "2022-03-24T10:58:07.420Z"
   },
   {
    "duration": 53,
    "start_time": "2022-03-24T10:58:07.433Z"
   },
   {
    "duration": 13,
    "start_time": "2022-03-24T10:58:07.488Z"
   },
   {
    "duration": 4,
    "start_time": "2022-03-24T10:58:07.503Z"
   },
   {
    "duration": 21,
    "start_time": "2022-03-24T10:58:07.509Z"
   },
   {
    "duration": 25,
    "start_time": "2022-03-24T10:58:07.532Z"
   },
   {
    "duration": 25,
    "start_time": "2022-03-24T10:58:07.558Z"
   },
   {
    "duration": 20,
    "start_time": "2022-03-24T10:58:07.585Z"
   },
   {
    "duration": 8,
    "start_time": "2022-03-24T10:58:07.607Z"
   },
   {
    "duration": 11,
    "start_time": "2022-03-24T10:58:07.616Z"
   },
   {
    "duration": 31,
    "start_time": "2022-03-24T10:58:07.629Z"
   },
   {
    "duration": 21,
    "start_time": "2022-03-24T10:58:07.661Z"
   },
   {
    "duration": 12,
    "start_time": "2022-03-24T10:58:07.685Z"
   },
   {
    "duration": 10,
    "start_time": "2022-03-24T10:58:07.698Z"
   },
   {
    "duration": 20,
    "start_time": "2022-03-24T10:58:07.709Z"
   },
   {
    "duration": 21,
    "start_time": "2022-03-24T10:58:07.730Z"
   },
   {
    "duration": 33,
    "start_time": "2022-03-24T10:58:07.753Z"
   },
   {
    "duration": 35,
    "start_time": "2022-03-24T10:58:07.788Z"
   },
   {
    "duration": 16,
    "start_time": "2022-03-24T10:58:07.825Z"
   },
   {
    "duration": 16,
    "start_time": "2022-03-24T10:58:07.843Z"
   },
   {
    "duration": 14,
    "start_time": "2022-03-24T10:58:07.861Z"
   },
   {
    "duration": 37,
    "start_time": "2022-03-24T10:58:07.877Z"
   },
   {
    "duration": 44,
    "start_time": "2022-03-24T10:58:07.916Z"
   },
   {
    "duration": 23,
    "start_time": "2022-03-24T10:58:07.962Z"
   },
   {
    "duration": 364,
    "start_time": "2022-03-24T10:58:07.986Z"
   },
   {
    "duration": 5,
    "start_time": "2022-03-24T10:58:08.352Z"
   },
   {
    "duration": 16,
    "start_time": "2022-03-24T10:58:08.358Z"
   },
   {
    "duration": 335,
    "start_time": "2022-03-24T10:58:08.376Z"
   },
   {
    "duration": 3,
    "start_time": "2022-03-24T10:58:08.713Z"
   },
   {
    "duration": 44,
    "start_time": "2022-03-24T10:58:08.717Z"
   },
   {
    "duration": 27,
    "start_time": "2022-03-24T10:58:08.763Z"
   },
   {
    "duration": 59,
    "start_time": "2022-03-24T10:58:08.792Z"
   },
   {
    "duration": 2,
    "start_time": "2022-03-24T10:58:08.853Z"
   },
   {
    "duration": 26,
    "start_time": "2022-03-24T10:58:08.857Z"
   },
   {
    "duration": 7,
    "start_time": "2022-03-24T10:58:08.885Z"
   },
   {
    "duration": 12,
    "start_time": "2022-03-24T10:58:08.894Z"
   },
   {
    "duration": 12,
    "start_time": "2022-03-24T10:58:08.908Z"
   },
   {
    "duration": 288,
    "start_time": "2022-03-24T10:58:08.922Z"
   },
   {
    "duration": 10,
    "start_time": "2022-03-24T10:58:09.212Z"
   },
   {
    "duration": 7,
    "start_time": "2022-03-24T10:58:09.236Z"
   },
   {
    "duration": 452,
    "start_time": "2022-03-24T10:58:09.245Z"
   },
   {
    "duration": 2,
    "start_time": "2022-03-24T10:58:09.699Z"
   },
   {
    "duration": 297,
    "start_time": "2022-03-24T10:58:09.703Z"
   },
   {
    "duration": 4,
    "start_time": "2022-03-24T10:58:10.001Z"
   },
   {
    "duration": 395,
    "start_time": "2022-03-24T10:58:10.006Z"
   },
   {
    "duration": 3,
    "start_time": "2022-03-24T10:58:10.402Z"
   },
   {
    "duration": 286,
    "start_time": "2022-03-24T10:58:10.406Z"
   },
   {
    "duration": 3,
    "start_time": "2022-03-24T10:58:10.693Z"
   },
   {
    "duration": 491,
    "start_time": "2022-03-24T10:58:10.697Z"
   },
   {
    "duration": 128,
    "start_time": "2022-03-24T10:58:11.190Z"
   },
   {
    "duration": 182,
    "start_time": "2022-03-24T10:58:11.319Z"
   },
   {
    "duration": 6,
    "start_time": "2022-03-24T10:58:11.502Z"
   },
   {
    "duration": 18,
    "start_time": "2022-03-24T10:58:11.510Z"
   },
   {
    "duration": 25,
    "start_time": "2022-03-24T10:58:11.529Z"
   },
   {
    "duration": 17,
    "start_time": "2022-03-24T10:58:11.555Z"
   },
   {
    "duration": 180,
    "start_time": "2022-03-24T10:58:11.573Z"
   },
   {
    "duration": 259,
    "start_time": "2022-03-24T10:58:11.755Z"
   },
   {
    "duration": 16,
    "start_time": "2022-03-24T10:58:12.017Z"
   },
   {
    "duration": 16,
    "start_time": "2022-03-24T10:58:12.041Z"
   },
   {
    "duration": 11,
    "start_time": "2022-03-24T10:58:12.059Z"
   },
   {
    "duration": 11,
    "start_time": "2022-03-24T10:58:12.072Z"
   },
   {
    "duration": 21,
    "start_time": "2022-03-24T10:58:12.085Z"
   },
   {
    "duration": 14,
    "start_time": "2022-03-24T10:58:12.108Z"
   },
   {
    "duration": 14,
    "start_time": "2022-03-24T10:58:12.124Z"
   },
   {
    "duration": 21,
    "start_time": "2022-03-24T10:58:12.139Z"
   },
   {
    "duration": 294,
    "start_time": "2022-03-24T10:58:12.162Z"
   },
   {
    "duration": 190,
    "start_time": "2022-03-24T10:58:12.458Z"
   },
   {
    "duration": 22,
    "start_time": "2022-03-24T10:58:12.650Z"
   },
   {
    "duration": 10,
    "start_time": "2022-03-24T10:58:12.674Z"
   },
   {
    "duration": 16,
    "start_time": "2022-03-24T10:58:12.686Z"
   },
   {
    "duration": 18,
    "start_time": "2022-03-24T10:58:12.703Z"
   },
   {
    "duration": 29,
    "start_time": "2022-03-24T10:58:12.723Z"
   },
   {
    "duration": 14,
    "start_time": "2022-03-24T10:58:12.754Z"
   },
   {
    "duration": 38,
    "start_time": "2022-03-24T10:58:12.769Z"
   },
   {
    "duration": 2,
    "start_time": "2022-03-24T10:58:12.809Z"
   },
   {
    "duration": 17,
    "start_time": "2022-03-24T10:58:12.813Z"
   }
  ],
  "kernelspec": {
   "display_name": "Python 3 (ipykernel)",
   "language": "python",
   "name": "python3"
  },
  "language_info": {
   "codemirror_mode": {
    "name": "ipython",
    "version": 3
   },
   "file_extension": ".py",
   "mimetype": "text/x-python",
   "name": "python",
   "nbconvert_exporter": "python",
   "pygments_lexer": "ipython3",
   "version": "3.9.7"
  },
  "toc": {
   "base_numbering": 1,
   "nav_menu": {},
   "number_sections": true,
   "sideBar": true,
   "skip_h1_title": true,
   "title_cell": "Table of Contents",
   "title_sidebar": "Contents",
   "toc_cell": false,
   "toc_position": {
    "height": "calc(100% - 180px)",
    "left": "10px",
    "top": "150px",
    "width": "375.391px"
   },
   "toc_section_display": true,
   "toc_window_display": false
  }
 },
 "nbformat": 4,
 "nbformat_minor": 2
}
