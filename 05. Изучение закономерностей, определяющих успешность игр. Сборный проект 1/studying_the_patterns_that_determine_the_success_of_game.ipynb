{
 "cells": [
  {
   "cell_type": "markdown",
   "metadata": {},
   "source": [
    "# Описание проекта Сборного проекта 1"
   ]
  },
  {
   "cell_type": "markdown",
   "metadata": {},
   "source": [
    "Вы работаете в интернет-магазине «Стримчик», который продаёт по всему миру компьютерные игры. Из открытых источников доступны исторические данные о продажах игр, оценки пользователей и экспертов, жанры и платформы (например, Xbox или PlayStation). Вам нужно выявить определяющие успешность игры закономерности. Это позволит сделать ставку на потенциально популярный продукт и спланировать рекламные кампании.\n",
    "\n",
    "Перед вами данные до 2016 года. Представим, что сейчас декабрь 2016 г., и вы планируете кампанию на 2017-й. Нужно отработать принцип работы с данными. Неважно, прогнозируете ли вы продажи на 2017 год по данным 2016-го или же 2027-й — по данным 2026 года.\n",
    "\n",
    "В наборе данных попадается аббревиатура ESRB (Entertainment Software Rating Board) — это ассоциация, определяющая возрастной рейтинг компьютерных игр. ESRB оценивает игровой контент и присваивает ему подходящую возрастную категорию, например, «Для взрослых», «Для детей младшего возраста» или «Для подростков»."
   ]
  },
  {
   "cell_type": "markdown",
   "metadata": {},
   "source": [
    "## Шаг 1. Откроем файл с данными и изучим общую информацию"
   ]
  },
  {
   "cell_type": "markdown",
   "metadata": {},
   "source": [
    "- Импортируем библиотеки\n",
    "- Изучим общую информацию\n",
    "- Посмотрим на оформление"
   ]
  },
  {
   "cell_type": "code",
   "execution_count": 1,
   "metadata": {},
   "outputs": [],
   "source": [
    "import pandas as pd\n",
    "import numpy as np\n",
    "import matplotlib.pyplot as plt\n",
    "import seaborn as sns\n",
    "\n",
    "from datetime import datetime as dt\n",
    "from scipy import stats as st"
   ]
  },
  {
   "cell_type": "code",
   "execution_count": 2,
   "metadata": {},
   "outputs": [],
   "source": [
    "font = {'family': 'sans-serif',\n",
    "        'color':  '#a72693',\n",
    "        'weight': 'normal',\n",
    "        'size': 20,\n",
    "        }"
   ]
  },
  {
   "cell_type": "code",
   "execution_count": 3,
   "metadata": {},
   "outputs": [],
   "source": [
    "pd.set_option('display.max_columns', None)\n",
    "pd.options.display.float_format = '{:,.2f}'.format"
   ]
  },
  {
   "cell_type": "code",
   "execution_count": 4,
   "metadata": {},
   "outputs": [
    {
     "data": {
      "text/html": [
       "<div>\n",
       "<style scoped>\n",
       "    .dataframe tbody tr th:only-of-type {\n",
       "        vertical-align: middle;\n",
       "    }\n",
       "\n",
       "    .dataframe tbody tr th {\n",
       "        vertical-align: top;\n",
       "    }\n",
       "\n",
       "    .dataframe thead th {\n",
       "        text-align: right;\n",
       "    }\n",
       "</style>\n",
       "<table border=\"1\" class=\"dataframe\">\n",
       "  <thead>\n",
       "    <tr style=\"text-align: right;\">\n",
       "      <th></th>\n",
       "      <th>Name</th>\n",
       "      <th>Platform</th>\n",
       "      <th>Year_of_Release</th>\n",
       "      <th>Genre</th>\n",
       "      <th>NA_sales</th>\n",
       "      <th>EU_sales</th>\n",
       "      <th>JP_sales</th>\n",
       "      <th>Other_sales</th>\n",
       "      <th>Critic_Score</th>\n",
       "      <th>User_Score</th>\n",
       "      <th>Rating</th>\n",
       "    </tr>\n",
       "  </thead>\n",
       "  <tbody>\n",
       "    <tr>\n",
       "      <th>0</th>\n",
       "      <td>Wii Sports</td>\n",
       "      <td>Wii</td>\n",
       "      <td>2,006.00</td>\n",
       "      <td>Sports</td>\n",
       "      <td>41.36</td>\n",
       "      <td>28.96</td>\n",
       "      <td>3.77</td>\n",
       "      <td>8.45</td>\n",
       "      <td>76.00</td>\n",
       "      <td>8</td>\n",
       "      <td>E</td>\n",
       "    </tr>\n",
       "    <tr>\n",
       "      <th>1</th>\n",
       "      <td>Super Mario Bros.</td>\n",
       "      <td>NES</td>\n",
       "      <td>1,985.00</td>\n",
       "      <td>Platform</td>\n",
       "      <td>29.08</td>\n",
       "      <td>3.58</td>\n",
       "      <td>6.81</td>\n",
       "      <td>0.77</td>\n",
       "      <td>NaN</td>\n",
       "      <td>NaN</td>\n",
       "      <td>NaN</td>\n",
       "    </tr>\n",
       "    <tr>\n",
       "      <th>2</th>\n",
       "      <td>Mario Kart Wii</td>\n",
       "      <td>Wii</td>\n",
       "      <td>2,008.00</td>\n",
       "      <td>Racing</td>\n",
       "      <td>15.68</td>\n",
       "      <td>12.76</td>\n",
       "      <td>3.79</td>\n",
       "      <td>3.29</td>\n",
       "      <td>82.00</td>\n",
       "      <td>8.3</td>\n",
       "      <td>E</td>\n",
       "    </tr>\n",
       "    <tr>\n",
       "      <th>3</th>\n",
       "      <td>Wii Sports Resort</td>\n",
       "      <td>Wii</td>\n",
       "      <td>2,009.00</td>\n",
       "      <td>Sports</td>\n",
       "      <td>15.61</td>\n",
       "      <td>10.93</td>\n",
       "      <td>3.28</td>\n",
       "      <td>2.95</td>\n",
       "      <td>80.00</td>\n",
       "      <td>8</td>\n",
       "      <td>E</td>\n",
       "    </tr>\n",
       "    <tr>\n",
       "      <th>4</th>\n",
       "      <td>Pokemon Red/Pokemon Blue</td>\n",
       "      <td>GB</td>\n",
       "      <td>1,996.00</td>\n",
       "      <td>Role-Playing</td>\n",
       "      <td>11.27</td>\n",
       "      <td>8.89</td>\n",
       "      <td>10.22</td>\n",
       "      <td>1.00</td>\n",
       "      <td>NaN</td>\n",
       "      <td>NaN</td>\n",
       "      <td>NaN</td>\n",
       "    </tr>\n",
       "  </tbody>\n",
       "</table>\n",
       "</div>"
      ],
      "text/plain": [
       "                       Name Platform  Year_of_Release         Genre  NA_sales  \\\n",
       "0                Wii Sports      Wii         2,006.00        Sports     41.36   \n",
       "1         Super Mario Bros.      NES         1,985.00      Platform     29.08   \n",
       "2            Mario Kart Wii      Wii         2,008.00        Racing     15.68   \n",
       "3         Wii Sports Resort      Wii         2,009.00        Sports     15.61   \n",
       "4  Pokemon Red/Pokemon Blue       GB         1,996.00  Role-Playing     11.27   \n",
       "\n",
       "   EU_sales  JP_sales  Other_sales  Critic_Score User_Score Rating  \n",
       "0     28.96      3.77         8.45         76.00          8      E  \n",
       "1      3.58      6.81         0.77           NaN        NaN    NaN  \n",
       "2     12.76      3.79         3.29         82.00        8.3      E  \n",
       "3     10.93      3.28         2.95         80.00          8      E  \n",
       "4      8.89     10.22         1.00           NaN        NaN    NaN  "
      ]
     },
     "execution_count": 4,
     "metadata": {},
     "output_type": "execute_result"
    }
   ],
   "source": [
    "games = pd.read_csv('/datasets/games.csv')\n",
    "games.head()"
   ]
  },
  {
   "cell_type": "code",
   "execution_count": 5,
   "metadata": {},
   "outputs": [
    {
     "data": {
      "text/html": [
       "<div>\n",
       "<style scoped>\n",
       "    .dataframe tbody tr th:only-of-type {\n",
       "        vertical-align: middle;\n",
       "    }\n",
       "\n",
       "    .dataframe tbody tr th {\n",
       "        vertical-align: top;\n",
       "    }\n",
       "\n",
       "    .dataframe thead th {\n",
       "        text-align: right;\n",
       "    }\n",
       "</style>\n",
       "<table border=\"1\" class=\"dataframe\">\n",
       "  <thead>\n",
       "    <tr style=\"text-align: right;\">\n",
       "      <th></th>\n",
       "      <th>Year_of_Release</th>\n",
       "      <th>NA_sales</th>\n",
       "      <th>EU_sales</th>\n",
       "      <th>JP_sales</th>\n",
       "      <th>Other_sales</th>\n",
       "      <th>Critic_Score</th>\n",
       "    </tr>\n",
       "  </thead>\n",
       "  <tbody>\n",
       "    <tr>\n",
       "      <th>count</th>\n",
       "      <td>16,446.00</td>\n",
       "      <td>16,715.00</td>\n",
       "      <td>16,715.00</td>\n",
       "      <td>16,715.00</td>\n",
       "      <td>16,715.00</td>\n",
       "      <td>8,137.00</td>\n",
       "    </tr>\n",
       "    <tr>\n",
       "      <th>mean</th>\n",
       "      <td>2,006.48</td>\n",
       "      <td>0.26</td>\n",
       "      <td>0.15</td>\n",
       "      <td>0.08</td>\n",
       "      <td>0.05</td>\n",
       "      <td>68.97</td>\n",
       "    </tr>\n",
       "    <tr>\n",
       "      <th>std</th>\n",
       "      <td>5.88</td>\n",
       "      <td>0.81</td>\n",
       "      <td>0.50</td>\n",
       "      <td>0.31</td>\n",
       "      <td>0.19</td>\n",
       "      <td>13.94</td>\n",
       "    </tr>\n",
       "    <tr>\n",
       "      <th>min</th>\n",
       "      <td>1,980.00</td>\n",
       "      <td>0.00</td>\n",
       "      <td>0.00</td>\n",
       "      <td>0.00</td>\n",
       "      <td>0.00</td>\n",
       "      <td>13.00</td>\n",
       "    </tr>\n",
       "    <tr>\n",
       "      <th>25%</th>\n",
       "      <td>2,003.00</td>\n",
       "      <td>0.00</td>\n",
       "      <td>0.00</td>\n",
       "      <td>0.00</td>\n",
       "      <td>0.00</td>\n",
       "      <td>60.00</td>\n",
       "    </tr>\n",
       "    <tr>\n",
       "      <th>50%</th>\n",
       "      <td>2,007.00</td>\n",
       "      <td>0.08</td>\n",
       "      <td>0.02</td>\n",
       "      <td>0.00</td>\n",
       "      <td>0.01</td>\n",
       "      <td>71.00</td>\n",
       "    </tr>\n",
       "    <tr>\n",
       "      <th>75%</th>\n",
       "      <td>2,010.00</td>\n",
       "      <td>0.24</td>\n",
       "      <td>0.11</td>\n",
       "      <td>0.04</td>\n",
       "      <td>0.03</td>\n",
       "      <td>79.00</td>\n",
       "    </tr>\n",
       "    <tr>\n",
       "      <th>max</th>\n",
       "      <td>2,016.00</td>\n",
       "      <td>41.36</td>\n",
       "      <td>28.96</td>\n",
       "      <td>10.22</td>\n",
       "      <td>10.57</td>\n",
       "      <td>98.00</td>\n",
       "    </tr>\n",
       "  </tbody>\n",
       "</table>\n",
       "</div>"
      ],
      "text/plain": [
       "       Year_of_Release  NA_sales  EU_sales  JP_sales  Other_sales  \\\n",
       "count        16,446.00 16,715.00 16,715.00 16,715.00    16,715.00   \n",
       "mean          2,006.48      0.26      0.15      0.08         0.05   \n",
       "std               5.88      0.81      0.50      0.31         0.19   \n",
       "min           1,980.00      0.00      0.00      0.00         0.00   \n",
       "25%           2,003.00      0.00      0.00      0.00         0.00   \n",
       "50%           2,007.00      0.08      0.02      0.00         0.01   \n",
       "75%           2,010.00      0.24      0.11      0.04         0.03   \n",
       "max           2,016.00     41.36     28.96     10.22        10.57   \n",
       "\n",
       "       Critic_Score  \n",
       "count      8,137.00  \n",
       "mean          68.97  \n",
       "std           13.94  \n",
       "min           13.00  \n",
       "25%           60.00  \n",
       "50%           71.00  \n",
       "75%           79.00  \n",
       "max           98.00  "
      ]
     },
     "execution_count": 5,
     "metadata": {},
     "output_type": "execute_result"
    }
   ],
   "source": [
    "games.describe()"
   ]
  },
  {
   "cell_type": "code",
   "execution_count": 6,
   "metadata": {},
   "outputs": [
    {
     "name": "stdout",
     "output_type": "stream",
     "text": [
      "<class 'pandas.core.frame.DataFrame'>\n",
      "RangeIndex: 16715 entries, 0 to 16714\n",
      "Data columns (total 11 columns):\n",
      " #   Column           Non-Null Count  Dtype  \n",
      "---  ------           --------------  -----  \n",
      " 0   Name             16713 non-null  object \n",
      " 1   Platform         16715 non-null  object \n",
      " 2   Year_of_Release  16446 non-null  float64\n",
      " 3   Genre            16713 non-null  object \n",
      " 4   NA_sales         16715 non-null  float64\n",
      " 5   EU_sales         16715 non-null  float64\n",
      " 6   JP_sales         16715 non-null  float64\n",
      " 7   Other_sales      16715 non-null  float64\n",
      " 8   Critic_Score     8137 non-null   float64\n",
      " 9   User_Score       10014 non-null  object \n",
      " 10  Rating           9949 non-null   object \n",
      "dtypes: float64(6), object(5)\n",
      "memory usage: 1.4+ MB\n"
     ]
    }
   ],
   "source": [
    "games.info()"
   ]
  },
  {
   "cell_type": "markdown",
   "metadata": {},
   "source": [
    "**ВЫВОД**"
   ]
  },
  {
   "cell_type": "markdown",
   "metadata": {},
   "source": [
    "Из таблицы датасета мы видим данные, состоящие из 11 столбцов и 16715 строк!\n",
    "\n",
    "- Необходимо изменить на нижний регистр названия столбцов;\n",
    "- Изменить тип данных в столбце User_Score на float, Year_of_Release на int;\n",
    "- Есть пропуски в столбце Name, Year_of_Release, Genre, Critic_Score, User_Score, Rating."
   ]
  },
  {
   "cell_type": "markdown",
   "metadata": {},
   "source": [
    "## Шаг 2. Подготовим данные"
   ]
  },
  {
   "cell_type": "markdown",
   "metadata": {},
   "source": [
    "- Заменим названия столбцов (приведём к нижнему регистру);\n",
    "\n",
    "\n",
    "- Преобразуем данные в нужные типы. Опишем, в каких столбцах заменили тип данных и почему;\n",
    "\n",
    "\n",
    "- Обработаем пропуски при необходимости:\n",
    "  - Объясним, почему заполнили пропуски определённым образом или почему не стали это делать;\n",
    "  \n",
    "  - Опишем причины, которые могли привести к пропускам;\n",
    "  \n",
    "  - Обратим внимание на аббревиатуру 'tbd' в столбце с оценкой пользователей. Отдельно разберём это значение и опишем, как его обработать;\n",
    "  \n",
    "  \n",
    "- Посчитаем суммарные продажи во всех регионах и запишем их в отдельный столбец."
   ]
  },
  {
   "cell_type": "markdown",
   "metadata": {},
   "source": [
    "### Меняем регистр в названии колонок на нижний и проверяем результат"
   ]
  },
  {
   "cell_type": "code",
   "execution_count": 7,
   "metadata": {},
   "outputs": [
    {
     "data": {
      "text/plain": [
       "Index(['name', 'platform', 'year_of_release', 'genre', 'na_sales', 'eu_sales',\n",
       "       'jp_sales', 'other_sales', 'critic_score', 'user_score', 'rating'],\n",
       "      dtype='object')"
      ]
     },
     "execution_count": 7,
     "metadata": {},
     "output_type": "execute_result"
    }
   ],
   "source": [
    "games.columns=games.columns.str.lower()\n",
    "games.columns"
   ]
  },
  {
   "cell_type": "markdown",
   "metadata": {},
   "source": [
    "### Изменение типа данных"
   ]
  },
  {
   "cell_type": "markdown",
   "metadata": {},
   "source": [
    "Посмотрим столбец user_score - его формат 'object, что очень странно, ведь если бы там были только числа и NaN'ы, то формат был бы 'float':"
   ]
  },
  {
   "cell_type": "code",
   "execution_count": 8,
   "metadata": {},
   "outputs": [
    {
     "data": {
      "text/plain": [
       "array(['8', nan, '8.3', '8.5', '6.6', '8.4', '8.6', '7.7', '6.3', '7.4',\n",
       "       '8.2', '9', '7.9', '8.1', '8.7', '7.1', '3.4', '5.3', '4.8', '3.2',\n",
       "       '8.9', '6.4', '7.8', '7.5', '2.6', '7.2', '9.2', '7', '7.3', '4.3',\n",
       "       '7.6', '5.7', '5', '9.1', '6.5', 'tbd', '8.8', '6.9', '9.4', '6.8',\n",
       "       '6.1', '6.7', '5.4', '4', '4.9', '4.5', '9.3', '6.2', '4.2', '6',\n",
       "       '3.7', '4.1', '5.8', '5.6', '5.5', '4.4', '4.6', '5.9', '3.9',\n",
       "       '3.1', '2.9', '5.2', '3.3', '4.7', '5.1', '3.5', '2.5', '1.9', '3',\n",
       "       '2.7', '2.2', '2', '9.5', '2.1', '3.6', '2.8', '1.8', '3.8', '0',\n",
       "       '1.6', '9.6', '2.4', '1.7', '1.1', '0.3', '1.5', '0.7', '1.2',\n",
       "       '2.3', '0.5', '1.3', '0.2', '0.6', '1.4', '0.9', '1', '9.7'],\n",
       "      dtype=object)"
      ]
     },
     "execution_count": 8,
     "metadata": {},
     "output_type": "execute_result"
    }
   ],
   "source": [
    "games['user_score'].unique()"
   ]
  },
  {
   "cell_type": "markdown",
   "metadata": {},
   "source": [
    "Видим \"tbd\". tbd это to be defined (предстоит определить). Посмотрим, сколько их там таких:"
   ]
  },
  {
   "cell_type": "code",
   "execution_count": 9,
   "metadata": {},
   "outputs": [
    {
     "data": {
      "text/html": [
       "<div>\n",
       "<style scoped>\n",
       "    .dataframe tbody tr th:only-of-type {\n",
       "        vertical-align: middle;\n",
       "    }\n",
       "\n",
       "    .dataframe tbody tr th {\n",
       "        vertical-align: top;\n",
       "    }\n",
       "\n",
       "    .dataframe thead th {\n",
       "        text-align: right;\n",
       "    }\n",
       "</style>\n",
       "<table border=\"1\" class=\"dataframe\">\n",
       "  <thead>\n",
       "    <tr style=\"text-align: right;\">\n",
       "      <th></th>\n",
       "      <th>name</th>\n",
       "      <th>platform</th>\n",
       "      <th>year_of_release</th>\n",
       "      <th>genre</th>\n",
       "      <th>na_sales</th>\n",
       "      <th>eu_sales</th>\n",
       "      <th>jp_sales</th>\n",
       "      <th>other_sales</th>\n",
       "      <th>critic_score</th>\n",
       "      <th>user_score</th>\n",
       "      <th>rating</th>\n",
       "    </tr>\n",
       "  </thead>\n",
       "  <tbody>\n",
       "    <tr>\n",
       "      <th>119</th>\n",
       "      <td>Zumba Fitness</td>\n",
       "      <td>Wii</td>\n",
       "      <td>2,010.00</td>\n",
       "      <td>Sports</td>\n",
       "      <td>3.45</td>\n",
       "      <td>2.59</td>\n",
       "      <td>0.00</td>\n",
       "      <td>0.66</td>\n",
       "      <td>NaN</td>\n",
       "      <td>tbd</td>\n",
       "      <td>E</td>\n",
       "    </tr>\n",
       "    <tr>\n",
       "      <th>301</th>\n",
       "      <td>Namco Museum: 50th Anniversary</td>\n",
       "      <td>PS2</td>\n",
       "      <td>2,005.00</td>\n",
       "      <td>Misc</td>\n",
       "      <td>2.08</td>\n",
       "      <td>1.35</td>\n",
       "      <td>0.00</td>\n",
       "      <td>0.54</td>\n",
       "      <td>61.00</td>\n",
       "      <td>tbd</td>\n",
       "      <td>E10+</td>\n",
       "    </tr>\n",
       "    <tr>\n",
       "      <th>520</th>\n",
       "      <td>Zumba Fitness 2</td>\n",
       "      <td>Wii</td>\n",
       "      <td>2,011.00</td>\n",
       "      <td>Sports</td>\n",
       "      <td>1.51</td>\n",
       "      <td>1.03</td>\n",
       "      <td>0.00</td>\n",
       "      <td>0.27</td>\n",
       "      <td>NaN</td>\n",
       "      <td>tbd</td>\n",
       "      <td>T</td>\n",
       "    </tr>\n",
       "    <tr>\n",
       "      <th>645</th>\n",
       "      <td>uDraw Studio</td>\n",
       "      <td>Wii</td>\n",
       "      <td>2,010.00</td>\n",
       "      <td>Misc</td>\n",
       "      <td>1.65</td>\n",
       "      <td>0.57</td>\n",
       "      <td>0.00</td>\n",
       "      <td>0.20</td>\n",
       "      <td>71.00</td>\n",
       "      <td>tbd</td>\n",
       "      <td>E</td>\n",
       "    </tr>\n",
       "    <tr>\n",
       "      <th>657</th>\n",
       "      <td>Frogger's Adventures: Temple of the Frog</td>\n",
       "      <td>GBA</td>\n",
       "      <td>NaN</td>\n",
       "      <td>Adventure</td>\n",
       "      <td>2.15</td>\n",
       "      <td>0.18</td>\n",
       "      <td>0.00</td>\n",
       "      <td>0.07</td>\n",
       "      <td>73.00</td>\n",
       "      <td>tbd</td>\n",
       "      <td>E</td>\n",
       "    </tr>\n",
       "    <tr>\n",
       "      <th>...</th>\n",
       "      <td>...</td>\n",
       "      <td>...</td>\n",
       "      <td>...</td>\n",
       "      <td>...</td>\n",
       "      <td>...</td>\n",
       "      <td>...</td>\n",
       "      <td>...</td>\n",
       "      <td>...</td>\n",
       "      <td>...</td>\n",
       "      <td>...</td>\n",
       "      <td>...</td>\n",
       "    </tr>\n",
       "    <tr>\n",
       "      <th>16695</th>\n",
       "      <td>Planet Monsters</td>\n",
       "      <td>GBA</td>\n",
       "      <td>2,001.00</td>\n",
       "      <td>Action</td>\n",
       "      <td>0.01</td>\n",
       "      <td>0.00</td>\n",
       "      <td>0.00</td>\n",
       "      <td>0.00</td>\n",
       "      <td>67.00</td>\n",
       "      <td>tbd</td>\n",
       "      <td>E</td>\n",
       "    </tr>\n",
       "    <tr>\n",
       "      <th>16697</th>\n",
       "      <td>Bust-A-Move 3000</td>\n",
       "      <td>GC</td>\n",
       "      <td>2,003.00</td>\n",
       "      <td>Puzzle</td>\n",
       "      <td>0.01</td>\n",
       "      <td>0.00</td>\n",
       "      <td>0.00</td>\n",
       "      <td>0.00</td>\n",
       "      <td>53.00</td>\n",
       "      <td>tbd</td>\n",
       "      <td>E</td>\n",
       "    </tr>\n",
       "    <tr>\n",
       "      <th>16698</th>\n",
       "      <td>Mega Brain Boost</td>\n",
       "      <td>DS</td>\n",
       "      <td>2,008.00</td>\n",
       "      <td>Puzzle</td>\n",
       "      <td>0.01</td>\n",
       "      <td>0.00</td>\n",
       "      <td>0.00</td>\n",
       "      <td>0.00</td>\n",
       "      <td>48.00</td>\n",
       "      <td>tbd</td>\n",
       "      <td>E</td>\n",
       "    </tr>\n",
       "    <tr>\n",
       "      <th>16704</th>\n",
       "      <td>Plushees</td>\n",
       "      <td>DS</td>\n",
       "      <td>2,008.00</td>\n",
       "      <td>Simulation</td>\n",
       "      <td>0.01</td>\n",
       "      <td>0.00</td>\n",
       "      <td>0.00</td>\n",
       "      <td>0.00</td>\n",
       "      <td>NaN</td>\n",
       "      <td>tbd</td>\n",
       "      <td>E</td>\n",
       "    </tr>\n",
       "    <tr>\n",
       "      <th>16706</th>\n",
       "      <td>Men in Black II: Alien Escape</td>\n",
       "      <td>GC</td>\n",
       "      <td>2,003.00</td>\n",
       "      <td>Shooter</td>\n",
       "      <td>0.01</td>\n",
       "      <td>0.00</td>\n",
       "      <td>0.00</td>\n",
       "      <td>0.00</td>\n",
       "      <td>NaN</td>\n",
       "      <td>tbd</td>\n",
       "      <td>T</td>\n",
       "    </tr>\n",
       "  </tbody>\n",
       "</table>\n",
       "<p>2424 rows × 11 columns</p>\n",
       "</div>"
      ],
      "text/plain": [
       "                                           name platform  year_of_release  \\\n",
       "119                               Zumba Fitness      Wii         2,010.00   \n",
       "301              Namco Museum: 50th Anniversary      PS2         2,005.00   \n",
       "520                             Zumba Fitness 2      Wii         2,011.00   \n",
       "645                                uDraw Studio      Wii         2,010.00   \n",
       "657    Frogger's Adventures: Temple of the Frog      GBA              NaN   \n",
       "...                                         ...      ...              ...   \n",
       "16695                           Planet Monsters      GBA         2,001.00   \n",
       "16697                          Bust-A-Move 3000       GC         2,003.00   \n",
       "16698                          Mega Brain Boost       DS         2,008.00   \n",
       "16704                                  Plushees       DS         2,008.00   \n",
       "16706             Men in Black II: Alien Escape       GC         2,003.00   \n",
       "\n",
       "            genre  na_sales  eu_sales  jp_sales  other_sales  critic_score  \\\n",
       "119        Sports      3.45      2.59      0.00         0.66           NaN   \n",
       "301          Misc      2.08      1.35      0.00         0.54         61.00   \n",
       "520        Sports      1.51      1.03      0.00         0.27           NaN   \n",
       "645          Misc      1.65      0.57      0.00         0.20         71.00   \n",
       "657     Adventure      2.15      0.18      0.00         0.07         73.00   \n",
       "...           ...       ...       ...       ...          ...           ...   \n",
       "16695      Action      0.01      0.00      0.00         0.00         67.00   \n",
       "16697      Puzzle      0.01      0.00      0.00         0.00         53.00   \n",
       "16698      Puzzle      0.01      0.00      0.00         0.00         48.00   \n",
       "16704  Simulation      0.01      0.00      0.00         0.00           NaN   \n",
       "16706     Shooter      0.01      0.00      0.00         0.00           NaN   \n",
       "\n",
       "      user_score rating  \n",
       "119          tbd      E  \n",
       "301          tbd   E10+  \n",
       "520          tbd      T  \n",
       "645          tbd      E  \n",
       "657          tbd      E  \n",
       "...          ...    ...  \n",
       "16695        tbd      E  \n",
       "16697        tbd      E  \n",
       "16698        tbd      E  \n",
       "16704        tbd      E  \n",
       "16706        tbd      T  \n",
       "\n",
       "[2424 rows x 11 columns]"
      ]
     },
     "execution_count": 9,
     "metadata": {},
     "output_type": "execute_result"
    }
   ],
   "source": [
    "games[games['user_score'] == 'tbd']"
   ]
  },
  {
   "cell_type": "markdown",
   "metadata": {},
   "source": [
    "2424 строк с данным значением. Его нужно заменить на пропуски вот так:"
   ]
  },
  {
   "cell_type": "code",
   "execution_count": 10,
   "metadata": {},
   "outputs": [],
   "source": [
    "games['user_score'] = games['user_score'].replace('tbd', np.nan)\n",
    "games['user_score'] = games['user_score'].astype('float')"
   ]
  },
  {
   "cell_type": "markdown",
   "metadata": {},
   "source": [
    "Изменим тип данных в столбце year_of_release, т.к. все года целочисленны."
   ]
  },
  {
   "cell_type": "code",
   "execution_count": 11,
   "metadata": {},
   "outputs": [],
   "source": [
    "games['year_of_release'] = games['year_of_release'].astype('Int64')"
   ]
  },
  {
   "cell_type": "markdown",
   "metadata": {},
   "source": [
    "Проверим изменения"
   ]
  },
  {
   "cell_type": "code",
   "execution_count": 12,
   "metadata": {},
   "outputs": [
    {
     "data": {
      "text/html": [
       "<div>\n",
       "<style scoped>\n",
       "    .dataframe tbody tr th:only-of-type {\n",
       "        vertical-align: middle;\n",
       "    }\n",
       "\n",
       "    .dataframe tbody tr th {\n",
       "        vertical-align: top;\n",
       "    }\n",
       "\n",
       "    .dataframe thead th {\n",
       "        text-align: right;\n",
       "    }\n",
       "</style>\n",
       "<table border=\"1\" class=\"dataframe\">\n",
       "  <thead>\n",
       "    <tr style=\"text-align: right;\">\n",
       "      <th></th>\n",
       "      <th>name</th>\n",
       "      <th>platform</th>\n",
       "      <th>year_of_release</th>\n",
       "      <th>genre</th>\n",
       "      <th>na_sales</th>\n",
       "      <th>eu_sales</th>\n",
       "      <th>jp_sales</th>\n",
       "      <th>other_sales</th>\n",
       "      <th>critic_score</th>\n",
       "      <th>user_score</th>\n",
       "      <th>rating</th>\n",
       "    </tr>\n",
       "  </thead>\n",
       "  <tbody>\n",
       "    <tr>\n",
       "      <th>0</th>\n",
       "      <td>Wii Sports</td>\n",
       "      <td>Wii</td>\n",
       "      <td>2006</td>\n",
       "      <td>Sports</td>\n",
       "      <td>41.36</td>\n",
       "      <td>28.96</td>\n",
       "      <td>3.77</td>\n",
       "      <td>8.45</td>\n",
       "      <td>76.00</td>\n",
       "      <td>8.00</td>\n",
       "      <td>E</td>\n",
       "    </tr>\n",
       "    <tr>\n",
       "      <th>1</th>\n",
       "      <td>Super Mario Bros.</td>\n",
       "      <td>NES</td>\n",
       "      <td>1985</td>\n",
       "      <td>Platform</td>\n",
       "      <td>29.08</td>\n",
       "      <td>3.58</td>\n",
       "      <td>6.81</td>\n",
       "      <td>0.77</td>\n",
       "      <td>NaN</td>\n",
       "      <td>NaN</td>\n",
       "      <td>NaN</td>\n",
       "    </tr>\n",
       "    <tr>\n",
       "      <th>2</th>\n",
       "      <td>Mario Kart Wii</td>\n",
       "      <td>Wii</td>\n",
       "      <td>2008</td>\n",
       "      <td>Racing</td>\n",
       "      <td>15.68</td>\n",
       "      <td>12.76</td>\n",
       "      <td>3.79</td>\n",
       "      <td>3.29</td>\n",
       "      <td>82.00</td>\n",
       "      <td>8.30</td>\n",
       "      <td>E</td>\n",
       "    </tr>\n",
       "    <tr>\n",
       "      <th>3</th>\n",
       "      <td>Wii Sports Resort</td>\n",
       "      <td>Wii</td>\n",
       "      <td>2009</td>\n",
       "      <td>Sports</td>\n",
       "      <td>15.61</td>\n",
       "      <td>10.93</td>\n",
       "      <td>3.28</td>\n",
       "      <td>2.95</td>\n",
       "      <td>80.00</td>\n",
       "      <td>8.00</td>\n",
       "      <td>E</td>\n",
       "    </tr>\n",
       "    <tr>\n",
       "      <th>4</th>\n",
       "      <td>Pokemon Red/Pokemon Blue</td>\n",
       "      <td>GB</td>\n",
       "      <td>1996</td>\n",
       "      <td>Role-Playing</td>\n",
       "      <td>11.27</td>\n",
       "      <td>8.89</td>\n",
       "      <td>10.22</td>\n",
       "      <td>1.00</td>\n",
       "      <td>NaN</td>\n",
       "      <td>NaN</td>\n",
       "      <td>NaN</td>\n",
       "    </tr>\n",
       "  </tbody>\n",
       "</table>\n",
       "</div>"
      ],
      "text/plain": [
       "                       name platform  year_of_release         genre  na_sales  \\\n",
       "0                Wii Sports      Wii             2006        Sports     41.36   \n",
       "1         Super Mario Bros.      NES             1985      Platform     29.08   \n",
       "2            Mario Kart Wii      Wii             2008        Racing     15.68   \n",
       "3         Wii Sports Resort      Wii             2009        Sports     15.61   \n",
       "4  Pokemon Red/Pokemon Blue       GB             1996  Role-Playing     11.27   \n",
       "\n",
       "   eu_sales  jp_sales  other_sales  critic_score  user_score rating  \n",
       "0     28.96      3.77         8.45         76.00        8.00      E  \n",
       "1      3.58      6.81         0.77           NaN         NaN    NaN  \n",
       "2     12.76      3.79         3.29         82.00        8.30      E  \n",
       "3     10.93      3.28         2.95         80.00        8.00      E  \n",
       "4      8.89     10.22         1.00           NaN         NaN    NaN  "
      ]
     },
     "execution_count": 12,
     "metadata": {},
     "output_type": "execute_result"
    }
   ],
   "source": [
    "games.head()"
   ]
  },
  {
   "cell_type": "code",
   "execution_count": 13,
   "metadata": {},
   "outputs": [
    {
     "name": "stdout",
     "output_type": "stream",
     "text": [
      "<class 'pandas.core.frame.DataFrame'>\n",
      "RangeIndex: 16715 entries, 0 to 16714\n",
      "Data columns (total 11 columns):\n",
      " #   Column           Non-Null Count  Dtype  \n",
      "---  ------           --------------  -----  \n",
      " 0   name             16713 non-null  object \n",
      " 1   platform         16715 non-null  object \n",
      " 2   year_of_release  16446 non-null  Int64  \n",
      " 3   genre            16713 non-null  object \n",
      " 4   na_sales         16715 non-null  float64\n",
      " 5   eu_sales         16715 non-null  float64\n",
      " 6   jp_sales         16715 non-null  float64\n",
      " 7   other_sales      16715 non-null  float64\n",
      " 8   critic_score     8137 non-null   float64\n",
      " 9   user_score       7590 non-null   float64\n",
      " 10  rating           9949 non-null   object \n",
      "dtypes: Int64(1), float64(6), object(4)\n",
      "memory usage: 1.4+ MB\n"
     ]
    }
   ],
   "source": [
    "games.info()"
   ]
  },
  {
   "cell_type": "markdown",
   "metadata": {},
   "source": [
    "### Посчитаем количество продаж во всех регионах и запишите в отдельный столбец"
   ]
  },
  {
   "cell_type": "code",
   "execution_count": 14,
   "metadata": {},
   "outputs": [],
   "source": [
    "games['total_sales'] = games['na_sales'] + games['eu_sales'] + games['jp_sales'] + games['other_sales']"
   ]
  },
  {
   "cell_type": "markdown",
   "metadata": {},
   "source": [
    "Проверим"
   ]
  },
  {
   "cell_type": "code",
   "execution_count": 15,
   "metadata": {},
   "outputs": [
    {
     "data": {
      "text/html": [
       "<div>\n",
       "<style scoped>\n",
       "    .dataframe tbody tr th:only-of-type {\n",
       "        vertical-align: middle;\n",
       "    }\n",
       "\n",
       "    .dataframe tbody tr th {\n",
       "        vertical-align: top;\n",
       "    }\n",
       "\n",
       "    .dataframe thead th {\n",
       "        text-align: right;\n",
       "    }\n",
       "</style>\n",
       "<table border=\"1\" class=\"dataframe\">\n",
       "  <thead>\n",
       "    <tr style=\"text-align: right;\">\n",
       "      <th></th>\n",
       "      <th>name</th>\n",
       "      <th>platform</th>\n",
       "      <th>year_of_release</th>\n",
       "      <th>genre</th>\n",
       "      <th>na_sales</th>\n",
       "      <th>eu_sales</th>\n",
       "      <th>jp_sales</th>\n",
       "      <th>other_sales</th>\n",
       "      <th>critic_score</th>\n",
       "      <th>user_score</th>\n",
       "      <th>rating</th>\n",
       "      <th>total_sales</th>\n",
       "    </tr>\n",
       "  </thead>\n",
       "  <tbody>\n",
       "    <tr>\n",
       "      <th>0</th>\n",
       "      <td>Wii Sports</td>\n",
       "      <td>Wii</td>\n",
       "      <td>2006</td>\n",
       "      <td>Sports</td>\n",
       "      <td>41.36</td>\n",
       "      <td>28.96</td>\n",
       "      <td>3.77</td>\n",
       "      <td>8.45</td>\n",
       "      <td>76.00</td>\n",
       "      <td>8.00</td>\n",
       "      <td>E</td>\n",
       "      <td>82.54</td>\n",
       "    </tr>\n",
       "    <tr>\n",
       "      <th>1</th>\n",
       "      <td>Super Mario Bros.</td>\n",
       "      <td>NES</td>\n",
       "      <td>1985</td>\n",
       "      <td>Platform</td>\n",
       "      <td>29.08</td>\n",
       "      <td>3.58</td>\n",
       "      <td>6.81</td>\n",
       "      <td>0.77</td>\n",
       "      <td>NaN</td>\n",
       "      <td>NaN</td>\n",
       "      <td>NaN</td>\n",
       "      <td>40.24</td>\n",
       "    </tr>\n",
       "    <tr>\n",
       "      <th>2</th>\n",
       "      <td>Mario Kart Wii</td>\n",
       "      <td>Wii</td>\n",
       "      <td>2008</td>\n",
       "      <td>Racing</td>\n",
       "      <td>15.68</td>\n",
       "      <td>12.76</td>\n",
       "      <td>3.79</td>\n",
       "      <td>3.29</td>\n",
       "      <td>82.00</td>\n",
       "      <td>8.30</td>\n",
       "      <td>E</td>\n",
       "      <td>35.52</td>\n",
       "    </tr>\n",
       "    <tr>\n",
       "      <th>3</th>\n",
       "      <td>Wii Sports Resort</td>\n",
       "      <td>Wii</td>\n",
       "      <td>2009</td>\n",
       "      <td>Sports</td>\n",
       "      <td>15.61</td>\n",
       "      <td>10.93</td>\n",
       "      <td>3.28</td>\n",
       "      <td>2.95</td>\n",
       "      <td>80.00</td>\n",
       "      <td>8.00</td>\n",
       "      <td>E</td>\n",
       "      <td>32.77</td>\n",
       "    </tr>\n",
       "    <tr>\n",
       "      <th>4</th>\n",
       "      <td>Pokemon Red/Pokemon Blue</td>\n",
       "      <td>GB</td>\n",
       "      <td>1996</td>\n",
       "      <td>Role-Playing</td>\n",
       "      <td>11.27</td>\n",
       "      <td>8.89</td>\n",
       "      <td>10.22</td>\n",
       "      <td>1.00</td>\n",
       "      <td>NaN</td>\n",
       "      <td>NaN</td>\n",
       "      <td>NaN</td>\n",
       "      <td>31.38</td>\n",
       "    </tr>\n",
       "  </tbody>\n",
       "</table>\n",
       "</div>"
      ],
      "text/plain": [
       "                       name platform  year_of_release         genre  na_sales  \\\n",
       "0                Wii Sports      Wii             2006        Sports     41.36   \n",
       "1         Super Mario Bros.      NES             1985      Platform     29.08   \n",
       "2            Mario Kart Wii      Wii             2008        Racing     15.68   \n",
       "3         Wii Sports Resort      Wii             2009        Sports     15.61   \n",
       "4  Pokemon Red/Pokemon Blue       GB             1996  Role-Playing     11.27   \n",
       "\n",
       "   eu_sales  jp_sales  other_sales  critic_score  user_score rating  \\\n",
       "0     28.96      3.77         8.45         76.00        8.00      E   \n",
       "1      3.58      6.81         0.77           NaN         NaN    NaN   \n",
       "2     12.76      3.79         3.29         82.00        8.30      E   \n",
       "3     10.93      3.28         2.95         80.00        8.00      E   \n",
       "4      8.89     10.22         1.00           NaN         NaN    NaN   \n",
       "\n",
       "   total_sales  \n",
       "0        82.54  \n",
       "1        40.24  \n",
       "2        35.52  \n",
       "3        32.77  \n",
       "4        31.38  "
      ]
     },
     "execution_count": 15,
     "metadata": {},
     "output_type": "execute_result"
    }
   ],
   "source": [
    "games.head()"
   ]
  },
  {
   "cell_type": "markdown",
   "metadata": {},
   "source": [
    "**ВЫВОД**"
   ]
  },
  {
   "cell_type": "markdown",
   "metadata": {},
   "source": [
    "Изменил тип данных в столбцах user_score и year_of_release, для дальнейшего анализа нужен числовой тип данных. Пропуски заполнять не стал, так как это бы дало не верный анализ, здесь нет каких либо совпадений или закономерностей, поэтому решил оставить пропуски как есть. Значения tbd - это пропуски, я их убрал преобразовав столбец в тип float, для анализа они не понадобятся.\n",
    "\n",
    "Добавил столбец total_sales и посчитал количество продаж во всех регионах."
   ]
  },
  {
   "cell_type": "markdown",
   "metadata": {},
   "source": [
    "## Шаг 3. Проведём исследовательский анализ данных"
   ]
  },
  {
   "cell_type": "markdown",
   "metadata": {},
   "source": [
    "- Посмотрите, сколько игр выпускалось в разные годы.\n",
    "- Посмотрите, как менялись продажи по платформам. Выберите платформы с наибольшими суммарными продажами и постройте распределение по годам.\n",
    "- Возьмите данные за соответствующий актуальный период. Актуальный период определите самостоятельно в результате исследования предыдущих вопросов. Основной фактор — эти данные помогут построить прогноз на 2017 год.\n",
    "- Не учитывайте в работе данные за предыдущие годы.\n",
    "- Какие платформы лидируют по продажам, растут или падают? Выберите несколько потенциально прибыльных платформ.\n",
    "- Постройте график «ящик с усами» по глобальным продажам игр в разбивке по платформам. Опишите результат.\n",
    "- Посмотрите, как влияют на продажи внутри одной популярной платформы отзывы пользователей и критиков. Постройте диаграмму рассеяния и посчитайте корреляцию между отзывами и продажами. Сформулируйте выводы.\n",
    "- Соотнесите выводы с продажами игр на других платформах.\n",
    "- Посмотрите на общее распределение игр по жанрам. Что можно сказать о самых прибыльных жанрах? Выделяются ли жанры с высокими и низкими продажами?"
   ]
  },
  {
   "cell_type": "markdown",
   "metadata": {},
   "source": [
    "### Посмотрим, сколько игр выпускалось в разные годы."
   ]
  },
  {
   "cell_type": "code",
   "execution_count": 16,
   "metadata": {},
   "outputs": [
    {
     "data": {
      "image/png": "[encoded data removed]",
      "text/plain": [
       "<Figure size 864x432 with 1 Axes>"
      ]
     },
     "metadata": {
      "needs_background": "light"
     },
     "output_type": "display_data"
    }
   ],
   "source": [
    "games_by_each_year = games.pivot_table(index='year_of_release', values='name', aggfunc='count')\n",
    "plt.figure(figsize=(12,6))\n",
    "sns.lineplot(data=games_by_each_year)\n",
    "sns.set_style('darkgrid')\n",
    "plt.title(\"Количество игр по годам\")\n",
    "plt.xlabel(\"Год выпуска\")\n",
    "plt.ylabel(\"Количество выпущенных игр\")\n",
    "plt.legend('')\n",
    "plt.show()"
   ]
  },
  {
   "cell_type": "code",
   "execution_count": 17,
   "metadata": {},
   "outputs": [
    {
     "data": {
      "text/plain": [
       "2008    1427\n",
       "2009    1426\n",
       "2010    1255\n",
       "2007    1197\n",
       "2011    1136\n",
       "2006    1006\n",
       "2005     939\n",
       "2002     829\n",
       "2003     775\n",
       "2004     762\n",
       "2012     653\n",
       "2015     606\n",
       "2014     581\n",
       "2013     544\n",
       "2016     502\n",
       "2001     482\n",
       "1998     379\n",
       "2000     350\n",
       "1999     338\n",
       "1997     289\n",
       "1996     263\n",
       "1995     219\n",
       "1994     121\n",
       "1993      62\n",
       "1981      46\n",
       "1992      43\n",
       "1991      41\n",
       "1982      36\n",
       "1986      21\n",
       "1983      17\n",
       "1989      17\n",
       "1990      16\n",
       "1987      16\n",
       "1988      15\n",
       "1985      14\n",
       "1984      14\n",
       "1980       9\n",
       "Name: year_of_release, dtype: Int64"
      ]
     },
     "execution_count": 17,
     "metadata": {},
     "output_type": "execute_result"
    }
   ],
   "source": [
    "games.year_of_release.value_counts()"
   ]
  },
  {
   "cell_type": "markdown",
   "metadata": {},
   "source": [
    "- Из графика видно, что количество игр на игровые приставки и компьютеры начало расти с большой скоростью с 90х годов и достигают максимум в 2008 году. \n",
    "- С 2008 года, после того как массово начали создавать мобильные приложения и мобильные игры, виден резкий спад консольных игр."
   ]
  },
  {
   "cell_type": "markdown",
   "metadata": {},
   "source": [
    "### Посмотрим, как менялись продажи по платформам."
   ]
  },
  {
   "cell_type": "code",
   "execution_count": 18,
   "metadata": {},
   "outputs": [
    {
     "data": {
      "image/png": "[encoded data removed]",
      "text/plain": [
       "<Figure size 936x432 with 1 Axes>"
      ]
     },
     "metadata": {},
     "output_type": "display_data"
    }
   ],
   "source": [
    "platform_on_sales = games.pivot_table(\n",
    "    index='platform', values='total_sales', aggfunc='sum').sort_values(by='total_sales', ascending=False)\n",
    "\n",
    "plt.figure(figsize=(13,6))\n",
    "sns.barplot(x=platform_on_sales.index,y=platform_on_sales['total_sales'])\n",
    "plt.title(\"Продажи по платформам за весь период\")\n",
    "plt.xlabel(\"Название платформы\")\n",
    "plt.ylabel(\"Количество продаж\")\n",
    "plt.show()"
   ]
  },
  {
   "cell_type": "markdown",
   "metadata": {},
   "source": [
    "Из графика видно, что самые популярные игровые платформы за весь период это PS2, X360, PS3, WII, DS, PS."
   ]
  },
  {
   "cell_type": "markdown",
   "metadata": {},
   "source": [
    "Напишем функцию, которая будет возвращать нужную сводную таблицу и выводить данные с 2005 года"
   ]
  },
  {
   "cell_type": "code",
   "execution_count": 19,
   "metadata": {},
   "outputs": [],
   "source": [
    "def year_total_sale_for_platform(name, data):\n",
    "    slicee = data[(data['platform'] == name) & (data['year_of_release'] > 2005)]\n",
    "    total = slicee.pivot_table(index='year_of_release', values='total_sales', aggfunc='sum').sort_values('year_of_release', ascending=False)\n",
    "    return total"
   ]
  },
  {
   "cell_type": "markdown",
   "metadata": {},
   "source": [
    "Создадим свою таблицу по платформам и их обшим продажам. отсортируем их по убыванию и оставим только топ 5."
   ]
  },
  {
   "cell_type": "code",
   "execution_count": 20,
   "metadata": {},
   "outputs": [],
   "source": [
    "top_5_platforms = games.pivot_table(\n",
    "    index='platform', values='total_sales', aggfunc='sum').sort_values(by='total_sales', ascending=False).head(5)\n",
    "top_5_platforms = top_5_platforms.reset_index().rename_axis(None, axis=1)"
   ]
  },
  {
   "cell_type": "markdown",
   "metadata": {},
   "source": [
    "Выведем топ 5 продаваемых платформ"
   ]
  },
  {
   "cell_type": "code",
   "execution_count": 21,
   "metadata": {},
   "outputs": [
    {
     "data": {
      "text/html": [
       "<div>\n",
       "<style scoped>\n",
       "    .dataframe tbody tr th:only-of-type {\n",
       "        vertical-align: middle;\n",
       "    }\n",
       "\n",
       "    .dataframe tbody tr th {\n",
       "        vertical-align: top;\n",
       "    }\n",
       "\n",
       "    .dataframe thead th {\n",
       "        text-align: right;\n",
       "    }\n",
       "</style>\n",
       "<table border=\"1\" class=\"dataframe\">\n",
       "  <thead>\n",
       "    <tr style=\"text-align: right;\">\n",
       "      <th></th>\n",
       "      <th>platform</th>\n",
       "      <th>total_sales</th>\n",
       "    </tr>\n",
       "  </thead>\n",
       "  <tbody>\n",
       "    <tr>\n",
       "      <th>0</th>\n",
       "      <td>PS2</td>\n",
       "      <td>1,255.77</td>\n",
       "    </tr>\n",
       "    <tr>\n",
       "      <th>1</th>\n",
       "      <td>X360</td>\n",
       "      <td>971.42</td>\n",
       "    </tr>\n",
       "    <tr>\n",
       "      <th>2</th>\n",
       "      <td>PS3</td>\n",
       "      <td>939.65</td>\n",
       "    </tr>\n",
       "    <tr>\n",
       "      <th>3</th>\n",
       "      <td>Wii</td>\n",
       "      <td>907.51</td>\n",
       "    </tr>\n",
       "    <tr>\n",
       "      <th>4</th>\n",
       "      <td>DS</td>\n",
       "      <td>806.12</td>\n",
       "    </tr>\n",
       "  </tbody>\n",
       "</table>\n",
       "</div>"
      ],
      "text/plain": [
       "  platform  total_sales\n",
       "0      PS2     1,255.77\n",
       "1     X360       971.42\n",
       "2      PS3       939.65\n",
       "3      Wii       907.51\n",
       "4       DS       806.12"
      ]
     },
     "execution_count": 21,
     "metadata": {},
     "output_type": "execute_result"
    }
   ],
   "source": [
    "top_5_platforms"
   ]
  },
  {
   "cell_type": "markdown",
   "metadata": {},
   "source": [
    "Отрисуем все игровые платформы и их поведение за последние 10 лет"
   ]
  },
  {
   "cell_type": "code",
   "execution_count": 22,
   "metadata": {},
   "outputs": [
    {
     "data": {
      "image/png": "[encoded data removed]",
      "text/plain": [
       "<Figure size 864x432 with 1 Axes>"
      ]
     },
     "metadata": {},
     "output_type": "display_data"
    }
   ],
   "source": [
    "plt.figure(figsize=(12,6))\n",
    "plt.title('Количество продаж популярных игровых платформ')\n",
    "plt.xlabel('Годы игровых релизов')\n",
    "plt.ylabel('Продажи')\n",
    "\n",
    "for i in list(top_5_platforms['platform']):\n",
    "    sns.lineplot(data=year_total_sale_for_platform(i,games)['total_sales'], label=i)\n",
    "    plt.legend()"
   ]
  },
  {
   "cell_type": "markdown",
   "metadata": {},
   "source": [
    "- Практически все игровые платформы в среднем существуют по 10 лет. \n",
    "- Cамые продаваемые это Sony Play Station 3 и XBOX 360 \n",
    "- Самый пик наступает примерно через 5 лет после выхода приставки\n",
    "- у Nintento WII был быстрый скачок в 2009 году и такой же резкий провал"
   ]
  },
  {
   "cell_type": "markdown",
   "metadata": {},
   "source": [
    "### Построим график «ящик с усами» по глобальным продажам игр в разбивке по платформам"
   ]
  },
  {
   "cell_type": "markdown",
   "metadata": {},
   "source": [
    "Определим период, за который нужно взять данные для дальнейшего исследования."
   ]
  },
  {
   "cell_type": "code",
   "execution_count": 23,
   "metadata": {},
   "outputs": [
    {
     "data": {
      "text/html": [
       "<div>\n",
       "<style scoped>\n",
       "    .dataframe tbody tr th:only-of-type {\n",
       "        vertical-align: middle;\n",
       "    }\n",
       "\n",
       "    .dataframe tbody tr th {\n",
       "        vertical-align: top;\n",
       "    }\n",
       "\n",
       "    .dataframe thead th {\n",
       "        text-align: right;\n",
       "    }\n",
       "</style>\n",
       "<table border=\"1\" class=\"dataframe\">\n",
       "  <thead>\n",
       "    <tr style=\"text-align: right;\">\n",
       "      <th></th>\n",
       "      <th>name</th>\n",
       "      <th>platform</th>\n",
       "      <th>year_of_release</th>\n",
       "      <th>genre</th>\n",
       "      <th>na_sales</th>\n",
       "      <th>eu_sales</th>\n",
       "      <th>jp_sales</th>\n",
       "      <th>other_sales</th>\n",
       "      <th>critic_score</th>\n",
       "      <th>user_score</th>\n",
       "      <th>rating</th>\n",
       "      <th>total_sales</th>\n",
       "    </tr>\n",
       "  </thead>\n",
       "  <tbody>\n",
       "    <tr>\n",
       "      <th>14</th>\n",
       "      <td>Kinect Adventures!</td>\n",
       "      <td>X360</td>\n",
       "      <td>2010</td>\n",
       "      <td>Misc</td>\n",
       "      <td>15.00</td>\n",
       "      <td>4.89</td>\n",
       "      <td>0.24</td>\n",
       "      <td>1.69</td>\n",
       "      <td>61.00</td>\n",
       "      <td>6.30</td>\n",
       "      <td>E</td>\n",
       "      <td>21.82</td>\n",
       "    </tr>\n",
       "    <tr>\n",
       "      <th>16</th>\n",
       "      <td>Grand Theft Auto V</td>\n",
       "      <td>PS3</td>\n",
       "      <td>2013</td>\n",
       "      <td>Action</td>\n",
       "      <td>7.02</td>\n",
       "      <td>9.09</td>\n",
       "      <td>0.98</td>\n",
       "      <td>3.96</td>\n",
       "      <td>97.00</td>\n",
       "      <td>8.20</td>\n",
       "      <td>M</td>\n",
       "      <td>21.05</td>\n",
       "    </tr>\n",
       "    <tr>\n",
       "      <th>23</th>\n",
       "      <td>Grand Theft Auto V</td>\n",
       "      <td>X360</td>\n",
       "      <td>2013</td>\n",
       "      <td>Action</td>\n",
       "      <td>9.66</td>\n",
       "      <td>5.14</td>\n",
       "      <td>0.06</td>\n",
       "      <td>1.41</td>\n",
       "      <td>97.00</td>\n",
       "      <td>8.10</td>\n",
       "      <td>M</td>\n",
       "      <td>16.27</td>\n",
       "    </tr>\n",
       "    <tr>\n",
       "      <th>27</th>\n",
       "      <td>Pokemon Black/Pokemon White</td>\n",
       "      <td>DS</td>\n",
       "      <td>2010</td>\n",
       "      <td>Role-Playing</td>\n",
       "      <td>5.51</td>\n",
       "      <td>3.17</td>\n",
       "      <td>5.65</td>\n",
       "      <td>0.80</td>\n",
       "      <td>NaN</td>\n",
       "      <td>NaN</td>\n",
       "      <td>NaN</td>\n",
       "      <td>15.13</td>\n",
       "    </tr>\n",
       "    <tr>\n",
       "      <th>29</th>\n",
       "      <td>Call of Duty: Modern Warfare 3</td>\n",
       "      <td>X360</td>\n",
       "      <td>2011</td>\n",
       "      <td>Shooter</td>\n",
       "      <td>9.04</td>\n",
       "      <td>4.24</td>\n",
       "      <td>0.13</td>\n",
       "      <td>1.32</td>\n",
       "      <td>88.00</td>\n",
       "      <td>3.40</td>\n",
       "      <td>M</td>\n",
       "      <td>14.73</td>\n",
       "    </tr>\n",
       "    <tr>\n",
       "      <th>...</th>\n",
       "      <td>...</td>\n",
       "      <td>...</td>\n",
       "      <td>...</td>\n",
       "      <td>...</td>\n",
       "      <td>...</td>\n",
       "      <td>...</td>\n",
       "      <td>...</td>\n",
       "      <td>...</td>\n",
       "      <td>...</td>\n",
       "      <td>...</td>\n",
       "      <td>...</td>\n",
       "      <td>...</td>\n",
       "    </tr>\n",
       "    <tr>\n",
       "      <th>16703</th>\n",
       "      <td>Strawberry Nauts</td>\n",
       "      <td>PSV</td>\n",
       "      <td>2016</td>\n",
       "      <td>Adventure</td>\n",
       "      <td>0.00</td>\n",
       "      <td>0.00</td>\n",
       "      <td>0.01</td>\n",
       "      <td>0.00</td>\n",
       "      <td>NaN</td>\n",
       "      <td>NaN</td>\n",
       "      <td>NaN</td>\n",
       "      <td>0.01</td>\n",
       "    </tr>\n",
       "    <tr>\n",
       "      <th>16707</th>\n",
       "      <td>Aiyoku no Eustia</td>\n",
       "      <td>PSV</td>\n",
       "      <td>2014</td>\n",
       "      <td>Misc</td>\n",
       "      <td>0.00</td>\n",
       "      <td>0.00</td>\n",
       "      <td>0.01</td>\n",
       "      <td>0.00</td>\n",
       "      <td>NaN</td>\n",
       "      <td>NaN</td>\n",
       "      <td>NaN</td>\n",
       "      <td>0.01</td>\n",
       "    </tr>\n",
       "    <tr>\n",
       "      <th>16710</th>\n",
       "      <td>Samurai Warriors: Sanada Maru</td>\n",
       "      <td>PS3</td>\n",
       "      <td>2016</td>\n",
       "      <td>Action</td>\n",
       "      <td>0.00</td>\n",
       "      <td>0.00</td>\n",
       "      <td>0.01</td>\n",
       "      <td>0.00</td>\n",
       "      <td>NaN</td>\n",
       "      <td>NaN</td>\n",
       "      <td>NaN</td>\n",
       "      <td>0.01</td>\n",
       "    </tr>\n",
       "    <tr>\n",
       "      <th>16712</th>\n",
       "      <td>Haitaka no Psychedelica</td>\n",
       "      <td>PSV</td>\n",
       "      <td>2016</td>\n",
       "      <td>Adventure</td>\n",
       "      <td>0.00</td>\n",
       "      <td>0.00</td>\n",
       "      <td>0.01</td>\n",
       "      <td>0.00</td>\n",
       "      <td>NaN</td>\n",
       "      <td>NaN</td>\n",
       "      <td>NaN</td>\n",
       "      <td>0.01</td>\n",
       "    </tr>\n",
       "    <tr>\n",
       "      <th>16714</th>\n",
       "      <td>Winning Post 8 2016</td>\n",
       "      <td>PSV</td>\n",
       "      <td>2016</td>\n",
       "      <td>Simulation</td>\n",
       "      <td>0.00</td>\n",
       "      <td>0.00</td>\n",
       "      <td>0.01</td>\n",
       "      <td>0.00</td>\n",
       "      <td>NaN</td>\n",
       "      <td>NaN</td>\n",
       "      <td>NaN</td>\n",
       "      <td>0.01</td>\n",
       "    </tr>\n",
       "  </tbody>\n",
       "</table>\n",
       "<p>5277 rows × 12 columns</p>\n",
       "</div>"
      ],
      "text/plain": [
       "                                 name platform  year_of_release         genre  \\\n",
       "14                 Kinect Adventures!     X360             2010          Misc   \n",
       "16                 Grand Theft Auto V      PS3             2013        Action   \n",
       "23                 Grand Theft Auto V     X360             2013        Action   \n",
       "27        Pokemon Black/Pokemon White       DS             2010  Role-Playing   \n",
       "29     Call of Duty: Modern Warfare 3     X360             2011       Shooter   \n",
       "...                               ...      ...              ...           ...   \n",
       "16703                Strawberry Nauts      PSV             2016     Adventure   \n",
       "16707                Aiyoku no Eustia      PSV             2014          Misc   \n",
       "16710   Samurai Warriors: Sanada Maru      PS3             2016        Action   \n",
       "16712         Haitaka no Psychedelica      PSV             2016     Adventure   \n",
       "16714             Winning Post 8 2016      PSV             2016    Simulation   \n",
       "\n",
       "       na_sales  eu_sales  jp_sales  other_sales  critic_score  user_score  \\\n",
       "14        15.00      4.89      0.24         1.69         61.00        6.30   \n",
       "16         7.02      9.09      0.98         3.96         97.00        8.20   \n",
       "23         9.66      5.14      0.06         1.41         97.00        8.10   \n",
       "27         5.51      3.17      5.65         0.80           NaN         NaN   \n",
       "29         9.04      4.24      0.13         1.32         88.00        3.40   \n",
       "...         ...       ...       ...          ...           ...         ...   \n",
       "16703      0.00      0.00      0.01         0.00           NaN         NaN   \n",
       "16707      0.00      0.00      0.01         0.00           NaN         NaN   \n",
       "16710      0.00      0.00      0.01         0.00           NaN         NaN   \n",
       "16712      0.00      0.00      0.01         0.00           NaN         NaN   \n",
       "16714      0.00      0.00      0.01         0.00           NaN         NaN   \n",
       "\n",
       "      rating  total_sales  \n",
       "14         E        21.82  \n",
       "16         M        21.05  \n",
       "23         M        16.27  \n",
       "27       NaN        15.13  \n",
       "29         M        14.73  \n",
       "...      ...          ...  \n",
       "16703    NaN         0.01  \n",
       "16707    NaN         0.01  \n",
       "16710    NaN         0.01  \n",
       "16712    NaN         0.01  \n",
       "16714    NaN         0.01  \n",
       "\n",
       "[5277 rows x 12 columns]"
      ]
     },
     "execution_count": 23,
     "metadata": {},
     "output_type": "execute_result"
    }
   ],
   "source": [
    "decline_period_data = games[games['year_of_release'] > 2009]\n",
    "decline_period_data"
   ]
  },
  {
   "cell_type": "code",
   "execution_count": 24,
   "metadata": {},
   "outputs": [
    {
     "data": {
      "text/plain": [
       "array(['Wii', 'NES', 'GB', 'DS', 'X360', 'PS3', 'PS2', 'SNES', 'GBA',\n",
       "       'PS4', '3DS', 'N64', 'PS', 'XB', 'PC', '2600', 'PSP', 'XOne',\n",
       "       'WiiU', 'GC', 'GEN', 'DC', 'PSV', 'SAT', 'SCD', 'WS', 'NG', 'TG16',\n",
       "       '3DO', 'GG', 'PCFX'], dtype=object)"
      ]
     },
     "execution_count": 24,
     "metadata": {},
     "output_type": "execute_result"
    }
   ],
   "source": [
    "games['platform'].unique()"
   ]
  },
  {
   "cell_type": "markdown",
   "metadata": {},
   "source": [
    "Сохраним в переменной games_top_5_platforms топ 5 платформ и избавимся от выбросов"
   ]
  },
  {
   "cell_type": "code",
   "execution_count": 25,
   "metadata": {},
   "outputs": [],
   "source": [
    "list_of_top5 = ['PS4','XOne','PC','WiiU','3DS',]\n",
    "games_top_5_platforms = decline_period_data[decline_period_data['platform'].isin(['PS4','XOne','PC','WiiU','3DS'])]\n",
    "games_top_5_platforms = games_top_5_platforms[games_top_5_platforms['total_sales']<1.4]"
   ]
  },
  {
   "cell_type": "code",
   "execution_count": 26,
   "metadata": {},
   "outputs": [
    {
     "data": {
      "text/plain": [
       "count   1,614.00\n",
       "mean        0.23\n",
       "std         0.29\n",
       "min         0.01\n",
       "25%         0.04\n",
       "50%         0.11\n",
       "75%         0.31\n",
       "max         1.39\n",
       "Name: total_sales, dtype: float64"
      ]
     },
     "execution_count": 26,
     "metadata": {},
     "output_type": "execute_result"
    }
   ],
   "source": [
    "games_top_5_platforms['total_sales'].describe()"
   ]
  },
  {
   "cell_type": "code",
   "execution_count": 27,
   "metadata": {},
   "outputs": [
    {
     "data": {
      "text/html": [
       "<div>\n",
       "<style scoped>\n",
       "    .dataframe tbody tr th:only-of-type {\n",
       "        vertical-align: middle;\n",
       "    }\n",
       "\n",
       "    .dataframe tbody tr th {\n",
       "        vertical-align: top;\n",
       "    }\n",
       "\n",
       "    .dataframe thead th {\n",
       "        text-align: right;\n",
       "    }\n",
       "</style>\n",
       "<table border=\"1\" class=\"dataframe\">\n",
       "  <thead>\n",
       "    <tr style=\"text-align: right;\">\n",
       "      <th></th>\n",
       "      <th>count</th>\n",
       "      <th>mean</th>\n",
       "      <th>std</th>\n",
       "      <th>min</th>\n",
       "      <th>25%</th>\n",
       "      <th>50%</th>\n",
       "      <th>75%</th>\n",
       "      <th>max</th>\n",
       "    </tr>\n",
       "    <tr>\n",
       "      <th>platform</th>\n",
       "      <th></th>\n",
       "      <th></th>\n",
       "      <th></th>\n",
       "      <th></th>\n",
       "      <th></th>\n",
       "      <th></th>\n",
       "      <th></th>\n",
       "      <th></th>\n",
       "    </tr>\n",
       "  </thead>\n",
       "  <tbody>\n",
       "    <tr>\n",
       "      <th>3DS</th>\n",
       "      <td>477.00</td>\n",
       "      <td>0.21</td>\n",
       "      <td>0.27</td>\n",
       "      <td>0.01</td>\n",
       "      <td>0.04</td>\n",
       "      <td>0.11</td>\n",
       "      <td>0.26</td>\n",
       "      <td>1.39</td>\n",
       "    </tr>\n",
       "    <tr>\n",
       "      <th>PC</th>\n",
       "      <td>461.00</td>\n",
       "      <td>0.17</td>\n",
       "      <td>0.24</td>\n",
       "      <td>0.01</td>\n",
       "      <td>0.03</td>\n",
       "      <td>0.07</td>\n",
       "      <td>0.20</td>\n",
       "      <td>1.36</td>\n",
       "    </tr>\n",
       "    <tr>\n",
       "      <th>PS4</th>\n",
       "      <td>326.00</td>\n",
       "      <td>0.26</td>\n",
       "      <td>0.30</td>\n",
       "      <td>0.01</td>\n",
       "      <td>0.05</td>\n",
       "      <td>0.12</td>\n",
       "      <td>0.36</td>\n",
       "      <td>1.32</td>\n",
       "    </tr>\n",
       "    <tr>\n",
       "      <th>WiiU</th>\n",
       "      <td>135.00</td>\n",
       "      <td>0.29</td>\n",
       "      <td>0.30</td>\n",
       "      <td>0.01</td>\n",
       "      <td>0.07</td>\n",
       "      <td>0.19</td>\n",
       "      <td>0.42</td>\n",
       "      <td>1.30</td>\n",
       "    </tr>\n",
       "    <tr>\n",
       "      <th>XOne</th>\n",
       "      <td>215.00</td>\n",
       "      <td>0.32</td>\n",
       "      <td>0.36</td>\n",
       "      <td>0.01</td>\n",
       "      <td>0.05</td>\n",
       "      <td>0.16</td>\n",
       "      <td>0.45</td>\n",
       "      <td>1.39</td>\n",
       "    </tr>\n",
       "  </tbody>\n",
       "</table>\n",
       "</div>"
      ],
      "text/plain": [
       "          count  mean  std  min  25%  50%  75%  max\n",
       "platform                                           \n",
       "3DS      477.00  0.21 0.27 0.01 0.04 0.11 0.26 1.39\n",
       "PC       461.00  0.17 0.24 0.01 0.03 0.07 0.20 1.36\n",
       "PS4      326.00  0.26 0.30 0.01 0.05 0.12 0.36 1.32\n",
       "WiiU     135.00  0.29 0.30 0.01 0.07 0.19 0.42 1.30\n",
       "XOne     215.00  0.32 0.36 0.01 0.05 0.16 0.45 1.39"
      ]
     },
     "execution_count": 27,
     "metadata": {},
     "output_type": "execute_result"
    }
   ],
   "source": [
    "games_top_5_platforms.groupby('platform')['total_sales'].describe()"
   ]
  },
  {
   "cell_type": "markdown",
   "metadata": {},
   "source": [
    "Отрисуем ящики с усами "
   ]
  },
  {
   "cell_type": "code",
   "execution_count": 28,
   "metadata": {},
   "outputs": [
    {
     "data": {
      "image/png": "[encoded data removed]",
      "text/plain": [
       "<Figure size 864x432 with 1 Axes>"
      ]
     },
     "metadata": {},
     "output_type": "display_data"
    }
   ],
   "source": [
    "plt.figure(figsize=(12,6))\n",
    "sns.boxplot(data=games_top_5_platforms, x='platform', y='total_sales')\n",
    "plt.title('Ящик с усами', fontsize=15)\n",
    "plt.xlabel('Платформа', fontsize=12)\n",
    "plt.ylabel('Глобальные продажи',fontsize=12)\n",
    "plt.show()"
   ]
  },
  {
   "cell_type": "markdown",
   "metadata": {},
   "source": [
    "- Провели срез данных для того, чтоыб отрисовать ящики с усами. \n",
    "- Исходя из графиков видно, что медиана протекает у всех по разному\n",
    "- Больше всех продаж у 3DS, затем PC, после PS4, WII и XOne на последнем месте."
   ]
  },
  {
   "cell_type": "markdown",
   "metadata": {},
   "source": [
    "### Посмотрим, как влияют на продажи внутри одной популярной платформы отзывы пользователей и критиков"
   ]
  },
  {
   "cell_type": "code",
   "execution_count": 29,
   "metadata": {},
   "outputs": [
    {
     "name": "stdout",
     "output_type": "stream",
     "text": [
      "Корреляция между оценками пользователей и продажами -0.031957110204556424\n"
     ]
    }
   ],
   "source": [
    "sony_play_station4 = games[games['platform']=='PS4']\n",
    "print('Корреляция между оценками пользователей и продажами', \n",
    "      sony_play_station4['user_score'].corr(sony_play_station4['total_sales'])\n",
    ")"
   ]
  },
  {
   "cell_type": "markdown",
   "metadata": {},
   "source": [
    "Построим диаграмму рассеяния и посчитаем корреляцию между отзывами и продажами"
   ]
  },
  {
   "cell_type": "code",
   "execution_count": 30,
   "metadata": {},
   "outputs": [
    {
     "data": {
      "image/png": "[encoded data removed]",
      "text/plain": [
       "<Figure size 864x432 with 1 Axes>"
      ]
     },
     "metadata": {},
     "output_type": "display_data"
    }
   ],
   "source": [
    "plt.figure(figsize=(12,6))\n",
    "sns.scatterplot(x='user_score', y='total_sales', data=sony_play_station4)\n",
    "plt.title('test')\n",
    "plt.show()"
   ]
  },
  {
   "cell_type": "markdown",
   "metadata": {},
   "source": [
    "Построим диаграмму рассеяния по оценкам критиков"
   ]
  },
  {
   "cell_type": "code",
   "execution_count": 31,
   "metadata": {},
   "outputs": [
    {
     "data": {
      "image/png": "[encoded data removed]",
      "text/plain": [
       "<Figure size 864x432 with 1 Axes>"
      ]
     },
     "metadata": {},
     "output_type": "display_data"
    }
   ],
   "source": [
    "plt.figure(figsize=(12,6))\n",
    "sns.scatterplot(x='critic_score', y='total_sales', data=sony_play_station4)\n",
    "plt.title('test')\n",
    "plt.show()"
   ]
  },
  {
   "cell_type": "markdown",
   "metadata": {},
   "source": [
    "Корреляция между оценкой критиков и продажам"
   ]
  },
  {
   "cell_type": "code",
   "execution_count": 32,
   "metadata": {},
   "outputs": [
    {
     "name": "stdout",
     "output_type": "stream",
     "text": [
      "Корреляция между оценкой критиков и продажам 0.40656790206178095\n"
     ]
    }
   ],
   "source": [
    "print('Корреляция между оценкой критиков и продажам', \n",
    "      sony_play_station4['critic_score'].corr(sony_play_station4['total_sales'])\n",
    ")"
   ]
  },
  {
   "cell_type": "markdown",
   "metadata": {},
   "source": [
    "Напишем функцию, которая будет отрисовывать графики рассеивания и считать корреляции"
   ]
  },
  {
   "cell_type": "code",
   "execution_count": 33,
   "metadata": {},
   "outputs": [],
   "source": [
    "def other_platform_matrix(name_of_platform):\n",
    "    platform = games[games['platform']==name_of_platform]\n",
    "    fig, ax = plt.subplots(1 ,2, figsize=(15,5))\n",
    "    sns.scatterplot(x='user_score', y='total_sales', data=platform, ax=ax[0])\n",
    "    sns.scatterplot(x='critic_score', y='total_sales', data=platform, ax=ax[1])\n",
    "    fig.suptitle(name_of_platform, fontsize=15)\n",
    "    ax[0].set(xlabel='Оценка пользователей')\n",
    "    ax[1].set(xlabel='Оценка критиков')\n",
    "    ax[0].set(ylabel='Количество продаж')\n",
    "    ax[1].set(ylabel='Количество продаж')\n",
    "    plt.show()\n",
    "    \n",
    "    correl = platform['user_score'].corr(platform['total_sales'])\n",
    "    critic_correl = platform['critic_score'].corr(platform['total_sales'])\n",
    "    \n",
    "    \n",
    "    if 0.3 >= critic_correl >= 0.1:\n",
    "        print('Корреляция между отзывами критиков и игровой платформой ', name_of_platform.upper(), ': Слабая', critic_correl)\n",
    "    if 0.5 >= critic_correl >= 0.3:\n",
    "        print('Корреляция между отзывами критиков и игровой платформой ', name_of_platform.upper(), ': Умеренная', critic_correl)\n",
    "    if 0.7 >= critic_correl >= 0.5:\n",
    "        print('Корреляция между отзывами критиков и игровой платформой ', name_of_platform.upper(), ': Высокая', critic_correl)\n",
    "    if 0.9 >= critic_correl >= 0.7:\n",
    "        print('Корреляция между отзывами критиков и игровой платформой ', name_of_platform.upper(), ': Весьма высокая', critic_correl)\n",
    "    if 1 >= critic_correl >= 0.9:\n",
    "        print('Корреляция между отзывами критиков и игровой платформой ', name_of_platform.upper(), ': Сильная', critic_correl)\n",
    "    \n",
    "    if 0.3 >= correl >= 0.1:\n",
    "        print('Корреляция между отзывами пользователей и продажами ', name_of_platform.upper(), ': Слабая', correl)\n",
    "    if 0.5 >= correl >= 0.3:\n",
    "        print('Корреляция между отзывами пользователей и продажами ', name_of_platform.upper(), ': Умеренная', correl)\n",
    "    if 0.7 >= correl >= 0.5:\n",
    "        print('Корреляция между отзывами пользователей и продажами ', name_of_platform.upper(), ': Высокая', correl)\n",
    "    if 0.9 >= correl >= 0.7:\n",
    "        print('Корреляция между отзывами пользователей и продажами ', name_of_platform.upper(), ': Весьма высокая', correl)\n",
    "    if 1 >= correl >= 0.9:\n",
    "        print('Корреляция между отзывами пользователей и продажами ', name_of_platform.upper(), ': Сильная', correl)\n",
    "    print('\\n')"
   ]
  },
  {
   "cell_type": "markdown",
   "metadata": {},
   "source": [
    "С помощью цикла выведем все 5 графиков"
   ]
  },
  {
   "cell_type": "code",
   "execution_count": 34,
   "metadata": {},
   "outputs": [
    {
     "data": {
      "image/png": "[encoded data removed]",
      "text/plain": [
       "<Figure size 1080x360 with 2 Axes>"
      ]
     },
     "metadata": {},
     "output_type": "display_data"
    },
    {
     "name": "stdout",
     "output_type": "stream",
     "text": [
      "Корреляция между отзывами критиков и игровой платформой  PS4 : Умеренная 0.40656790206178095\n",
      "\n",
      "\n"
     ]
    },
    {
     "data": {
      "image/png": "[encoded data removed]",
      "text/plain": [
       "<Figure size 1080x360 with 2 Axes>"
      ]
     },
     "metadata": {},
     "output_type": "display_data"
    },
    {
     "name": "stdout",
     "output_type": "stream",
     "text": [
      "Корреляция между отзывами критиков и игровой платформой  XONE : Умеренная 0.4169983280084017\n",
      "\n",
      "\n"
     ]
    },
    {
     "data": {
      "image/png": "[encoded data removed]",
      "text/plain": [
       "<Figure size 1080x360 with 2 Axes>"
      ]
     },
     "metadata": {},
     "output_type": "display_data"
    },
    {
     "name": "stdout",
     "output_type": "stream",
     "text": [
      "Корреляция между отзывами критиков и игровой платформой  PC : Слабая 0.2568867378948215\n",
      "\n",
      "\n"
     ]
    },
    {
     "data": {
      "image/png": "[encoded data removed]",
      "text/plain": [
       "<Figure size 1080x360 with 2 Axes>"
      ]
     },
     "metadata": {},
     "output_type": "display_data"
    },
    {
     "name": "stdout",
     "output_type": "stream",
     "text": [
      "Корреляция между отзывами критиков и игровой платформой  WIIU : Умеренная 0.34837976012017485\n",
      "Корреляция между отзывами пользователей и продажами  WIIU : Умеренная 0.4002190202148617\n",
      "\n",
      "\n"
     ]
    },
    {
     "data": {
      "image/png": "[encoded data removed]",
      "text/plain": [
       "<Figure size 1080x360 with 2 Axes>"
      ]
     },
     "metadata": {},
     "output_type": "display_data"
    },
    {
     "name": "stdout",
     "output_type": "stream",
     "text": [
      "Корреляция между отзывами критиков и игровой платформой  3DS : Умеренная 0.3494009303924131\n",
      "Корреляция между отзывами пользователей и продажами  3DS : Слабая 0.22480798039571082\n",
      "\n",
      "\n"
     ]
    }
   ],
   "source": [
    "for platform in list_of_top5:\n",
    "    other_platform_matrix(platform)"
   ]
  },
  {
   "cell_type": "markdown",
   "metadata": {},
   "source": [
    "Посчитаем дисперсию, стандартное отклонение, среднее и медиану у топ 5 платформ к оценкам пользователей"
   ]
  },
  {
   "cell_type": "code",
   "execution_count": 35,
   "metadata": {},
   "outputs": [
    {
     "name": "stdout",
     "output_type": "stream",
     "text": [
      "Дисперсия PS4 : 2.121796544989326\n",
      "Стандартное отклонение PS4 : 1.4566387832916319\n",
      "Среднее PS4 : 6.748249027237354\n",
      "Медиана PS4 : 7.0\n",
      "\n",
      "\n",
      "Дисперсия XONE : 1.8965188383045526\n",
      "Стандартное отклонение XONE : 1.377141546212499\n",
      "Среднее XONE : 6.521428571428572\n",
      "Медиана XONE : 6.8\n",
      "\n",
      "\n",
      "Дисперсия PC : 2.3377471580367684\n",
      "Стандартное отклонение PC : 1.5289693123266956\n",
      "Среднее PC : 7.062467532467533\n",
      "Медиана PC : 7.5\n",
      "\n",
      "\n",
      "Дисперсия WIIU : 2.039784\n",
      "Стандартное отклонение WIIU : 1.4282100685823498\n",
      "Среднее WIIU : 6.904\n",
      "Медиана WIIU : 7.1\n",
      "\n",
      "\n",
      "Дисперсия 3DS : 2.0189433875016514\n",
      "Стандартное отклонение 3DS : 1.4208952767539385\n",
      "Среднее 3DS : 6.831609195402299\n",
      "Медиана 3DS : 7.1\n",
      "\n",
      "\n"
     ]
    }
   ],
   "source": [
    "for platform in list_of_top5:\n",
    "    print('Дисперсия', platform.upper(),':', np.var(games[games['platform']==platform]['user_score']))\n",
    "    print('Стандартное отклонение', platform.upper(),':', np.std(games[games['platform']==platform]['user_score']))\n",
    "    print('Среднее',platform.upper(),':',  games[games['platform']==platform]['user_score'].mean())\n",
    "    print('Медиана',platform.upper(),':',  games[games['platform']==platform]['user_score'].median())\n",
    "    print('\\n')"
   ]
  },
  {
   "cell_type": "markdown",
   "metadata": {},
   "source": [
    "Посчитаем дисперсию, стандартное отклонение, среднее и медиану у топ 5 платформ к оценкам критиков"
   ]
  },
  {
   "cell_type": "code",
   "execution_count": 36,
   "metadata": {},
   "outputs": [
    {
     "name": "stdout",
     "output_type": "stream",
     "text": [
      "Дисперсия PS4 : 155.28135235575712\n",
      "Стандартное отклонение PS4 : 12.46119385756265\n",
      "Среднее PS4 : 72.09126984126983\n",
      "Медиана PS4 : 73.0\n",
      "\n",
      "\n",
      "Дисперсия XONE : 166.7994117853016\n",
      "Стандартное отклонение XONE : 12.915084660400085\n",
      "Среднее XONE : 73.32544378698225\n",
      "Медиана XONE : 76.0\n",
      "\n",
      "\n",
      "Дисперсия PC : 124.61169543742969\n",
      "Стандартное отклонение PC : 11.162960872341607\n",
      "Среднее PC : 75.92867132867133\n",
      "Медиана PC : 78.0\n",
      "\n",
      "\n",
      "Дисперсия WIIU : 213.39555555555555\n",
      "Стандартное отклонение WIIU : 14.608064743680305\n",
      "Среднее WIIU : 70.73333333333333\n",
      "Медиана WIIU : 73.5\n",
      "\n",
      "\n",
      "Дисперсия 3DS : 153.49571286848072\n",
      "Стандартное отклонение 3DS : 12.38933867760829\n",
      "Среднее 3DS : 67.10119047619048\n",
      "Медиана 3DS : 68.0\n",
      "\n",
      "\n"
     ]
    }
   ],
   "source": [
    "for platform in list_of_top5:\n",
    "    print('Дисперсия', platform.upper(),':', np.var(games[games['platform']==platform]['critic_score']))\n",
    "    print('Стандартное отклонение', platform.upper(),':', np.std(games[games['platform']==platform]['critic_score']))\n",
    "    print('Среднее',platform.upper(),':',  games[games['platform']==platform]['critic_score'].mean())\n",
    "    print('Медиана',platform.upper(),':',  games[games['platform']==platform]['critic_score'].median())\n",
    "    print('\\n')"
   ]
  },
  {
   "cell_type": "markdown",
   "metadata": {},
   "source": [
    "- У PS4, Xbox One, WiiU, 3DS наблюдается не сильная связь между оценками критиков и продажами. \n",
    "- Cвязь между оценками пользователей и продажами слабая у всех платформ, либо её совсем нет. \n",
    "- У WiiU корреляция между отзывами пользователей и продажами - уверенная и даже выше, чем корреляция между отзывами критиков и игровой платформой. \n",
    "\n",
    "Это говорит о том, что покупатели прислушиваются больше к критикам, нежели к оценкам других пользователей."
   ]
  },
  {
   "cell_type": "markdown",
   "metadata": {},
   "source": [
    "### Посмотрим на общее распределение игр по жанрам. "
   ]
  },
  {
   "cell_type": "markdown",
   "metadata": {},
   "source": [
    "Методом сводных таблиц выведем жанры и их продажи.  Отсортируем по убыванию."
   ]
  },
  {
   "cell_type": "code",
   "execution_count": 37,
   "metadata": {},
   "outputs": [
    {
     "data": {
      "text/html": [
       "<div>\n",
       "<style scoped>\n",
       "    .dataframe tbody tr th:only-of-type {\n",
       "        vertical-align: middle;\n",
       "    }\n",
       "\n",
       "    .dataframe tbody tr th {\n",
       "        vertical-align: top;\n",
       "    }\n",
       "\n",
       "    .dataframe thead th {\n",
       "        text-align: right;\n",
       "    }\n",
       "</style>\n",
       "<table border=\"1\" class=\"dataframe\">\n",
       "  <thead>\n",
       "    <tr style=\"text-align: right;\">\n",
       "      <th></th>\n",
       "      <th>genre</th>\n",
       "      <th>total_sales</th>\n",
       "    </tr>\n",
       "  </thead>\n",
       "  <tbody>\n",
       "    <tr>\n",
       "      <th>0</th>\n",
       "      <td>Action</td>\n",
       "      <td>124.13</td>\n",
       "    </tr>\n",
       "    <tr>\n",
       "      <th>1</th>\n",
       "      <td>Role-Playing</td>\n",
       "      <td>52.48</td>\n",
       "    </tr>\n",
       "    <tr>\n",
       "      <th>2</th>\n",
       "      <td>Shooter</td>\n",
       "      <td>42.67</td>\n",
       "    </tr>\n",
       "    <tr>\n",
       "      <th>3</th>\n",
       "      <td>Sports</td>\n",
       "      <td>39.10</td>\n",
       "    </tr>\n",
       "    <tr>\n",
       "      <th>4</th>\n",
       "      <td>Misc</td>\n",
       "      <td>23.23</td>\n",
       "    </tr>\n",
       "    <tr>\n",
       "      <th>5</th>\n",
       "      <td>Simulation</td>\n",
       "      <td>17.22</td>\n",
       "    </tr>\n",
       "    <tr>\n",
       "      <th>6</th>\n",
       "      <td>Platform</td>\n",
       "      <td>15.39</td>\n",
       "    </tr>\n",
       "    <tr>\n",
       "      <th>7</th>\n",
       "      <td>Adventure</td>\n",
       "      <td>14.38</td>\n",
       "    </tr>\n",
       "    <tr>\n",
       "      <th>8</th>\n",
       "      <td>Racing</td>\n",
       "      <td>14.04</td>\n",
       "    </tr>\n",
       "    <tr>\n",
       "      <th>9</th>\n",
       "      <td>Fighting</td>\n",
       "      <td>12.86</td>\n",
       "    </tr>\n",
       "    <tr>\n",
       "      <th>10</th>\n",
       "      <td>Strategy</td>\n",
       "      <td>12.16</td>\n",
       "    </tr>\n",
       "    <tr>\n",
       "      <th>11</th>\n",
       "      <td>Puzzle</td>\n",
       "      <td>5.78</td>\n",
       "    </tr>\n",
       "  </tbody>\n",
       "</table>\n",
       "</div>"
      ],
      "text/plain": [
       "           genre  total_sales\n",
       "0         Action       124.13\n",
       "1   Role-Playing        52.48\n",
       "2        Shooter        42.67\n",
       "3         Sports        39.10\n",
       "4           Misc        23.23\n",
       "5     Simulation        17.22\n",
       "6       Platform        15.39\n",
       "7      Adventure        14.38\n",
       "8         Racing        14.04\n",
       "9       Fighting        12.86\n",
       "10      Strategy        12.16\n",
       "11        Puzzle         5.78"
      ]
     },
     "execution_count": 37,
     "metadata": {},
     "output_type": "execute_result"
    }
   ],
   "source": [
    "distr_genre = games_top_5_platforms.pivot_table(\n",
    "    index='genre', values='total_sales', aggfunc='sum').sort_values(by='total_sales', ascending=False)\n",
    "distr_genre = distr_genre.reset_index().rename_axis(None, axis=1)\n",
    "distr_genre"
   ]
  },
  {
   "cell_type": "markdown",
   "metadata": {},
   "source": [
    "Отрисуем барплот чтобы наглядно посмотреть какие жанры лидирует, а какие остаются внизу"
   ]
  },
  {
   "cell_type": "code",
   "execution_count": 38,
   "metadata": {},
   "outputs": [
    {
     "data": {
      "image/png": "[encoded data removed]",
      "text/plain": [
       "<Figure size 864x432 with 1 Axes>"
      ]
     },
     "metadata": {},
     "output_type": "display_data"
    }
   ],
   "source": [
    "plt.figure(figsize=(12,6))\n",
    "plt.title('Распределение игр по жанрам ',fontsize=15)\n",
    "sns.barplot(data=distr_genre, x='genre', y='total_sales')\n",
    "plt.xlabel('Жанр игр',fontsize=12)\n",
    "plt.ylabel('Продажи',fontsize=12)\n",
    "plt.show()"
   ]
  },
  {
   "cell_type": "markdown",
   "metadata": {},
   "source": [
    "- Лучше всего продаются жанры Экшн. Стратегии как ни странно держутся на последнем месте."
   ]
  },
  {
   "cell_type": "markdown",
   "metadata": {},
   "source": [
    "**ВЫВОД**"
   ]
  },
  {
   "cell_type": "markdown",
   "metadata": {},
   "source": [
    "- Количество игр на игровые приставки и компьютеры начало расти с большой скоростью с 90х годов до 2008 года. С 2008 года, после того как массово начали создавать мобильные приложения и мобильные игры, произошел резкий спад разработок игр на игровые платформы.\n",
    "- Самые популярные игровые платформы за весь период : Sony PlayStation 2, Xbox 360, Sony Playstation 3, Nintendo WII, Nintendo DS, Sony Playstation.\n",
    "- Средняя жизнь игровой платформы составляет 10 лет. Пик продаж наступает примерно через 5 лет после выхода приставки.\n",
    "- Больше всего продаются игры на Sony Playstation и Xbox 360\n",
    "- Nintendo WII как быстро появился также быстро и потух. Возможно потому что появился прям перед выходом мобильных приложений и игр.\n",
    "- У всех платформ наблюдается взаимосвязь между продажами и оценками критиков и пользователей. Заметнее всего корреляция между оценками критиков и продажами. Это значит для людей мнение критиков важнее мнения других пользователей"
   ]
  },
  {
   "cell_type": "markdown",
   "metadata": {},
   "source": [
    "## Шаг 4. Составим портрет пользователя каждого региона"
   ]
  },
  {
   "cell_type": "markdown",
   "metadata": {},
   "source": [
    "- Определим для пользователя каждого региона (NA, EU, JP):\n",
    " - Самые популярные платформы (топ-5). Опишем различия в долях продаж.\n",
    " - Самые популярные жанры (топ-5). Поясним разницу.\n",
    " - Влияет ли рейтинг ESRB на продажи в отдельном регионе?"
   ]
  },
  {
   "cell_type": "markdown",
   "metadata": {},
   "source": [
    "Напишем функции для создания сводных таблиц и отсривоки барплотов"
   ]
  },
  {
   "cell_type": "code",
   "execution_count": 39,
   "metadata": {},
   "outputs": [],
   "source": [
    "# Функция для создания сводбных таблиц за весь период\n",
    "\n",
    "def forpivot(row, title):\n",
    "    fig, axes = plt.subplots(1, 3, figsize=(20, 4))\n",
    "    for pivot, ax in zip(list(['platform','genre','rating']),axes.flatten()[:3]):\n",
    "        ppivot = games_top_5_platforms.pivot_table(index=pivot, values=row, aggfunc='sum'\n",
    "                  ).sort_values(by=row, ascending=False).reset_index().rename_axis(None, axis=1).head(5)\n",
    "        print(ppivot)\n",
    "        print('\\n\\n') \n",
    "        sns.set_palette(\"Blues\")\n",
    "        sns.barplot(data=ppivot, x=pivot, y=row, ax=ax)\n",
    "        fig.suptitle(title, fontsize=15)\n",
    "        \n",
    "\n",
    "plt.show()\n",
    "sns.set()\n",
    "\n",
    "#Функция для создания сводных таблиц за последний год\n",
    "\n",
    "def for_pivot_2016(row, title):\n",
    "    temp = games[games['year_of_release']>2015]\n",
    "    fig, axes = plt.subplots(1, 3, figsize=(20, 4))\n",
    "    for pivot, ax in zip(list(['platform','genre','rating']), axes.flatten()[:3]):\n",
    "        ppivot = temp.pivot_table(index=pivot, values=row, aggfunc='sum').sort_values(\n",
    "            by=row, ascending=False).reset_index().rename_axis(None, axis=1).head(5)\n",
    "        print(ppivot)\n",
    "        print('\\n\\n')\n",
    "        sns.set_palette(\"BuGn_r\")\n",
    "        sns.barplot(data=ppivot, x=pivot, y=row, ax=ax)\n",
    "        fig.suptitle(title, fontsize=15)"
   ]
  },
  {
   "cell_type": "markdown",
   "metadata": {},
   "source": [
    "### Портрет пользователя North America:"
   ]
  },
  {
   "cell_type": "code",
   "execution_count": 40,
   "metadata": {},
   "outputs": [
    {
     "name": "stdout",
     "output_type": "stream",
     "text": [
      "  platform  na_sales\n",
      "0     XOne     39.44\n",
      "1      3DS     32.58\n",
      "2      PS4     28.39\n",
      "3       PC     21.03\n",
      "4     WiiU     18.84\n",
      "\n",
      "\n",
      "\n",
      "          genre  na_sales\n",
      "0        Action     48.56\n",
      "1       Shooter     18.39\n",
      "2  Role-Playing     18.07\n",
      "3        Sports     15.82\n",
      "4          Misc      9.37\n",
      "\n",
      "\n",
      "\n",
      "  rating  na_sales\n",
      "0      M     36.96\n",
      "1   E10+     30.41\n",
      "2      E     24.54\n",
      "3      T     22.94\n",
      "4     EC      0.09\n",
      "\n",
      "\n",
      "\n"
     ]
    },
    {
     "data": {
      "image/png": "[encoded data removed]",
      "text/plain": [
       "<Figure size 1440x288 with 3 Axes>"
      ]
     },
     "metadata": {},
     "output_type": "display_data"
    }
   ],
   "source": [
    "# Выведем топ 5 платформ, жанров и рейтингов за весь период\n",
    "\n",
    "forpivot('na_sales','Топ 5 платформ, жанров и рейтингов за весь период')"
   ]
  },
  {
   "cell_type": "code",
   "execution_count": 41,
   "metadata": {},
   "outputs": [
    {
     "name": "stdout",
     "output_type": "stream",
     "text": [
      "  platform  na_sales\n",
      "0      PS4     21.49\n",
      "1     XOne     14.27\n",
      "2      3DS      4.14\n",
      "3     WiiU      2.10\n",
      "4       PC      1.36\n",
      "\n",
      "\n",
      "\n",
      "          genre  na_sales\n",
      "0       Shooter     16.24\n",
      "1        Action      9.29\n",
      "2        Sports      7.54\n",
      "3  Role-Playing      5.89\n",
      "4      Fighting      1.84\n",
      "\n",
      "\n",
      "\n",
      "  rating  na_sales\n",
      "0      M     15.67\n",
      "1      T      8.95\n",
      "2      E      7.97\n",
      "3   E10+      3.81\n",
      "\n",
      "\n",
      "\n"
     ]
    },
    {
     "data": {
      "image/png": "[encoded data removed]",
      "text/plain": [
       "<Figure size 1440x288 with 3 Axes>"
      ]
     },
     "metadata": {},
     "output_type": "display_data"
    }
   ],
   "source": [
    "# Выведем топ 5 платформ, жанров и рейтингов за последний год\n",
    "\n",
    "for_pivot_2016('na_sales','Топ 5 платформ, жанров и рейтингов за последний год')"
   ]
  },
  {
   "cell_type": "markdown",
   "metadata": {},
   "source": [
    "- Самые популярные игровые платформы в северной америке за все время это: XOne, 3DS, PS4, PC, WiiU\n",
    "- Топ 5 жанров в северной америке за все время: action, shooter, role-playing, sports, misc\n",
    "- По рейтингам видно, что больше всего продаж за все время у игр с рейтингом \"для всех\", на втором месте игры с рейтингом \"от 13 и выше\" и на третьем месте игры с рейтингом \"от 17 и выше\"\n",
    "\n",
    "\n",
    "- Если посмотреть с 2015 по 2016 года, то мы видим как интерес кардинально меняется:\n",
    "- Топ игровых приставок выглядит таким образом : PS4, Xone, DS3\n",
    "- Топ жанров игр: Shooter, Action, Sports\n",
    "- Топ рейтингов игр : \"От 17 и выше\" , \"от 13 и выше\" и \"для всех\""
   ]
  },
  {
   "cell_type": "markdown",
   "metadata": {},
   "source": [
    "### Портрет пользователя European Union:"
   ]
  },
  {
   "cell_type": "code",
   "execution_count": 42,
   "metadata": {},
   "outputs": [
    {
     "name": "stdout",
     "output_type": "stream",
     "text": [
      "  platform  eu_sales\n",
      "0       PC     49.19\n",
      "1      PS4     34.67\n",
      "2      3DS     22.66\n",
      "3     XOne     22.33\n",
      "4     WiiU     13.36\n",
      "\n",
      "\n",
      "\n",
      "          genre  eu_sales\n",
      "0        Action     44.92\n",
      "1       Shooter     19.27\n",
      "2        Sports     15.67\n",
      "3  Role-Playing     14.85\n",
      "4    Simulation      9.39\n",
      "\n",
      "\n",
      "\n",
      "  rating  eu_sales\n",
      "0      M     39.26\n",
      "1      E     24.38\n",
      "2   E10+     24.29\n",
      "3      T     23.94\n",
      "4     RP      0.03\n",
      "\n",
      "\n",
      "\n"
     ]
    },
    {
     "data": {
      "image/png": "[encoded data removed]",
      "text/plain": [
       "<Figure size 1440x288 with 3 Axes>"
      ]
     },
     "metadata": {},
     "output_type": "display_data"
    }
   ],
   "source": [
    "# Выведем топ 5 платформ, жанров и рейтингов за весь период для Европейского союза\n",
    "\n",
    "forpivot('eu_sales','Топ 5 платформ, жанров и рейтингов за весь период для Европейского союза')"
   ]
  },
  {
   "cell_type": "code",
   "execution_count": 43,
   "metadata": {},
   "outputs": [
    {
     "name": "stdout",
     "output_type": "stream",
     "text": [
      "  platform  eu_sales\n",
      "0      PS4     31.78\n",
      "1     XOne      9.63\n",
      "2       PC      3.53\n",
      "3      3DS      2.33\n",
      "4     WiiU      1.48\n",
      "\n",
      "\n",
      "\n",
      "          genre  eu_sales\n",
      "0       Shooter     15.90\n",
      "1        Sports     12.01\n",
      "2        Action     10.68\n",
      "3  Role-Playing      4.28\n",
      "4        Racing      1.77\n",
      "\n",
      "\n",
      "\n",
      "  rating  eu_sales\n",
      "0      M     16.54\n",
      "1      E     13.61\n",
      "2      T      9.79\n",
      "3   E10+      3.81\n",
      "\n",
      "\n",
      "\n"
     ]
    },
    {
     "data": {
      "image/png": "[encoded data removed]",
      "text/plain": [
       "<Figure size 1440x288 with 3 Axes>"
      ]
     },
     "metadata": {},
     "output_type": "display_data"
    }
   ],
   "source": [
    "# Выведем топ 5 платформ, жанров и рейтингов за последний год для европейского союза\n",
    "\n",
    "for_pivot_2016('eu_sales','Топ 5 платформ, жанров и рейтингов за последний год для европейского союза')"
   ]
  },
  {
   "cell_type": "markdown",
   "metadata": {},
   "source": [
    "- Самые популярные игровые платформы в Европе это: PC, PS4, 3DS, XOne, WiiU\n",
    "- Топ 5 жанров в Европе : action, shooter, sports,  role-playing, simulation\n",
    "- По рейтингам видно, что больше всего продаж у игр с рейтингом \"для всех\", на втором месте игры с рейтингом \"от 17 и выше\" и на третьем месте игры с рейтингом \"от 13 и выше\"\n",
    "\n",
    "\n",
    "- За последний год интерес у пользователя кардинально изменился:\n",
    "- Топ жанров стал: shooter, sports, action\n",
    "- Топ платформ: PS4, Xone, PC\n",
    "- Топ рейтингов: \"От 17 и выше\" , \"Для всех\" и \"от 13 и выше\""
   ]
  },
  {
   "cell_type": "markdown",
   "metadata": {},
   "source": [
    "### Портрет пользователя Japanese:"
   ]
  },
  {
   "cell_type": "code",
   "execution_count": 44,
   "metadata": {},
   "outputs": [
    {
     "name": "stdout",
     "output_type": "stream",
     "text": [
      "  platform  jp_sales\n",
      "0      3DS     42.32\n",
      "1      PS4      8.98\n",
      "2     WiiU      4.50\n",
      "3     XOne      0.12\n",
      "4       PC      0.00\n",
      "\n",
      "\n",
      "\n",
      "          genre  jp_sales\n",
      "0        Action     19.16\n",
      "1  Role-Playing     15.56\n",
      "2          Misc      6.16\n",
      "3     Adventure      3.19\n",
      "4        Sports      3.12\n",
      "\n",
      "\n",
      "\n",
      "  rating  jp_sales\n",
      "0      E      6.65\n",
      "1      T      6.52\n",
      "2   E10+      4.75\n",
      "3      M      2.81\n",
      "4     EC      0.00\n",
      "\n",
      "\n",
      "\n"
     ]
    },
    {
     "data": {
      "image/png": "[encoded data removed]",
      "text/plain": [
       "<Figure size 1440x288 with 3 Axes>"
      ]
     },
     "metadata": {},
     "output_type": "display_data"
    }
   ],
   "source": [
    "# Выведем топ 5 платформ, жанров и рейтингов за весь период для Японии\n",
    "\n",
    "forpivot('jp_sales','Топ 5 платформ, жанров и рейтингов за весь период для Японии')"
   ]
  },
  {
   "cell_type": "code",
   "execution_count": 45,
   "metadata": {},
   "outputs": [
    {
     "name": "stdout",
     "output_type": "stream",
     "text": [
      "  platform  jp_sales\n",
      "0      3DS      8.03\n",
      "1      PS4      5.74\n",
      "2      PSV      3.56\n",
      "3      PS3      1.30\n",
      "4     WiiU      0.67\n",
      "\n",
      "\n",
      "\n",
      "          genre  jp_sales\n",
      "0        Action      7.07\n",
      "1  Role-Playing      6.61\n",
      "2     Adventure      1.18\n",
      "3       Shooter      1.06\n",
      "4          Misc      1.04\n",
      "\n",
      "\n",
      "\n",
      "  rating  jp_sales\n",
      "0      T      2.27\n",
      "1      M      1.20\n",
      "2      E      1.07\n",
      "3   E10+      0.45\n",
      "\n",
      "\n",
      "\n"
     ]
    },
    {
     "data": {
      "image/png": "[encoded data removed]",
      "text/plain": [
       "<Figure size 1440x288 with 3 Axes>"
      ]
     },
     "metadata": {},
     "output_type": "display_data"
    }
   ],
   "source": [
    "# Выведем топ 5 платформ, жанров и рейтингов за последний год для японии\n",
    "\n",
    "for_pivot_2016('jp_sales','Топ 5 платформ, жанров и рейтингов за последний год для японии')"
   ]
  },
  {
   "cell_type": "markdown",
   "metadata": {},
   "source": [
    "- Самые популярные игровые платформы в Японии это: 3DS, PS4, WiiU, XOne,  PC\n",
    "- Топ 5 жанров в Японии : action, Role-Playing, misc, adventure, sports\n",
    "- По рейтингам видно, что больше всего продаж у игр с рейтингом \"для всех\", на втором месте игры с рейтингом \"от 13 и выше\" и на третьем месте игры с рейтингом \"от 17 и выше\"\n",
    "\n",
    "\n",
    "- За последний год интерес у пользователя кардинально изменился\n",
    "- Топ Жанров: action, role-playing, adventure\n",
    "- топ платформ: 3ds, ps4, psv\n",
    "- топ рейтингов: \"от 13 и выше\", \"от 17 и выше\" и \"для всех"
   ]
  },
  {
   "cell_type": "markdown",
   "metadata": {},
   "source": [
    "**ВЫВОД**"
   ]
  },
  {
   "cell_type": "markdown",
   "metadata": {},
   "source": [
    "Самые популярные игровые платформы в северной америке это: XOne, 3DS, PS4, PC, WiiU Топ 5 жанров в северной америке : action, shooter, role-playing, sports, misc. По рейтингам видно, что больше всего продаж у игр с рейтингом \"для всех\", на втором месте игры с рейтингом \"от 13 и выше\" и на третьем месте игры с рейтингом \"от 17 и выше\"\n",
    "\n",
    "Самые популярные игровые платформы в Европе это: PC, PS4, 3DS, XOne, WiiU Топ 5 жанров в Европе : aaction, shooter, sports,  role-playing, simulation. По рейтингам видно, что больше всего продаж у игр с рейтингом \"для всех\", на втором месте игры с рейтингом \"от 17 и выше\" и на третьем месте игры с рейтингом \"от 13 и выше\"\n",
    "\n",
    "Самые популярные игровые платформы в Японии это: 3DS, PS4, WiiU, XOne,  PC Топ 5 жанров в Японии : action, Role-Playing, misc, adventure, sports. По рейтингам видно, что больше всего продаж у игр с рейтингом \"для всех\", на втором месте игры с рейтингом \"от 13 и выше\" и на третьем месте игры с рейтингом \"от 17 и выше\"\n",
    "\n",
    "Если брать данные за последний год:\n",
    "\n",
    "То в Северной Америке:\n",
    "\n",
    "- топ игровых платформ выглядит так: PS4, Xone, DS3\n",
    "- Топ Жанров игр: Shooter, Action, Sports\n",
    "- Топ Рейтингов игр: \"От 17 и выше\" , \"от 13 и выше\" и \"для всех\"\n",
    "\n",
    "\n",
    "В Европейском союзе:\n",
    "\n",
    "- Топ игровых платформ : PS4, Xone, PC\n",
    "- Топ жанров: Shooter, Sports, Action\n",
    "- Топ рейтингов: \"От 17 и выше\", \"для всех\", \"от 13 и выше\"\n",
    "\n",
    "\n",
    "В Японии:\n",
    "\n",
    "- Топ игровых платформ : 3DS, PS4, PSV\n",
    "- Топ жанров: Action, Role-playing, Adventure\n",
    "- Топ рейтингов: \"От 13 и выше\", \"от 17 и выше\", \"для всех\"\n",
    "\n",
    "\n",
    "Для прогноза будущих продаж лучше брать данные за последний год, так как технологии меняются с оч быстрыми темпами, и вкусы людей также могут меняться оч быстро. Соответственно, для 2017 года большую часть прибыли будут приносить игры жанра Shooter, для платформы PS4 и с рейтингом от 17 и выше"
   ]
  },
  {
   "cell_type": "markdown",
   "metadata": {},
   "source": [
    "## Шаг 5. Проверим гипотезы"
   ]
  },
  {
   "cell_type": "markdown",
   "metadata": {},
   "source": [
    "- Средние пользовательские рейтинги платформ Xbox One и PC одинаковые;\n",
    "- Средние пользовательские рейтинги жанров Action (англ. «действие», экшен-игры) и \n",
    "Sports (англ. «спортивные соревнования») разные.\n",
    "- Пороговое значение alpha зададим самостоятельно.\n",
    "- Поясним:\n",
    "    - Как мы сформулировали нулевую и альтернативную гипотезы;\n",
    "    - Какой критерий применили для проверки гипотез и почему."
   ]
  },
  {
   "cell_type": "markdown",
   "metadata": {},
   "source": [
    "### Средние пользовательские рейтинги платформ Xbox One и PC одинаковые"
   ]
  },
  {
   "cell_type": "markdown",
   "metadata": {},
   "source": [
    "Сформулируем нулевые гипотезы:\n",
    "\n",
    "- Нулевая гипотеза H₀: Средние пользовательские рейтинги платформ Xbox One и PC одинаковые;\n",
    "- Альтернативная гипотеза H₁: Средние пользовательские рейтинги платформ Xbox One и PC различаются"
   ]
  },
  {
   "cell_type": "markdown",
   "metadata": {},
   "source": [
    "Сохраним в переменных xbox_hyp и pc_hyp соответствующие данные (актуальные данные за последние 10 лет)"
   ]
  },
  {
   "cell_type": "code",
   "execution_count": 46,
   "metadata": {},
   "outputs": [],
   "source": [
    "xone_hyp = games[(games['platform']=='XOne') & (games['year_of_release']>2006)]['user_score']\n",
    "\n",
    "pc_hyp = games[(games['platform']=='PC') & (games['year_of_release']>2006)]['user_score']"
   ]
  },
  {
   "cell_type": "markdown",
   "metadata": {},
   "source": [
    "Посчитаем средний рейтинг пользователя для xbox платформ"
   ]
  },
  {
   "cell_type": "code",
   "execution_count": 47,
   "metadata": {},
   "outputs": [
    {
     "data": {
      "text/plain": [
       "6.521428571428572"
      ]
     },
     "execution_count": 47,
     "metadata": {},
     "output_type": "execute_result"
    }
   ],
   "source": [
    "xone_hyp.mean()"
   ]
  },
  {
   "cell_type": "markdown",
   "metadata": {},
   "source": [
    "Посчитаем средний рейтинг пользователя для PC платформ"
   ]
  },
  {
   "cell_type": "code",
   "execution_count": 48,
   "metadata": {},
   "outputs": [
    {
     "data": {
      "text/plain": [
       "6.765499124343257"
      ]
     },
     "execution_count": 48,
     "metadata": {},
     "output_type": "execute_result"
    }
   ],
   "source": [
    "pc_hyp.mean()"
   ]
  },
  {
   "cell_type": "markdown",
   "metadata": {},
   "source": [
    "Выполним проверку гипотезы. Будем использовать метод ttest_ind"
   ]
  },
  {
   "cell_type": "code",
   "execution_count": 49,
   "metadata": {},
   "outputs": [
    {
     "name": "stdout",
     "output_type": "stream",
     "text": [
      "p-значение: 0.04401892858926169\n",
      "Отвергаем нулевую гипотезу\n"
     ]
    }
   ],
   "source": [
    "alpha = 0.05\n",
    "\n",
    "results = st.ttest_ind(xone_hyp.dropna(), pc_hyp.dropna(), equal_var=False)\n",
    "\n",
    "print('p-значение:', results.pvalue)\n",
    "\n",
    "\n",
    "if (results.pvalue < alpha):\n",
    "    print(\"Отвергаем нулевую гипотезу\")\n",
    "else:\n",
    "    print(\"Не получилось отвергнуть нулевую гипотезу\")"
   ]
  },
  {
   "cell_type": "markdown",
   "metadata": {},
   "source": [
    "**Вывод:** Значение p-value равно чуть больше 4%. Таким образом, не получилось опровергнуть Нулевую гипотезу. То есть, с вероятностью в 4% можно получить различность рейтингов двух платформ"
   ]
  },
  {
   "cell_type": "markdown",
   "metadata": {},
   "source": [
    "### Средние пользовательские рейтинги жанров Action (англ. «действие», экшен-игры) и Sports (англ. «спортивные соревнования») разные"
   ]
  },
  {
   "cell_type": "markdown",
   "metadata": {},
   "source": [
    "Сформулируем нулевые гипотезы:\n",
    "\n",
    "- Нулевая гипотеза H₀: Средние пользовательские рейтинги жанров Action и Sports одинаковые\n",
    "- Альтернативная гипотеза H₁: Средние пользовательские рейтинги жанров Action и Sports различаются"
   ]
  },
  {
   "cell_type": "markdown",
   "metadata": {},
   "source": [
    "Сохраним в переменных genre_action_hyp и genre_sports_hyp соответствующие данные с пользовательскими оценками"
   ]
  },
  {
   "cell_type": "code",
   "execution_count": 50,
   "metadata": {},
   "outputs": [],
   "source": [
    "genre_action_hyp = games[(games['genre']=='Action') & (games['year_of_release']>2006)]['user_score']\n",
    "\n",
    "genre_sports_hyp = games[(games['genre']=='Sports') & (games['year_of_release']>2006)]['user_score']"
   ]
  },
  {
   "cell_type": "markdown",
   "metadata": {},
   "source": [
    "Выведем среднюю оценку по жанру Action"
   ]
  },
  {
   "cell_type": "code",
   "execution_count": 51,
   "metadata": {},
   "outputs": [
    {
     "data": {
      "text/plain": [
       "6.836079077429983"
      ]
     },
     "execution_count": 51,
     "metadata": {},
     "output_type": "execute_result"
    }
   ],
   "source": [
    "genre_action_hyp.mean()"
   ]
  },
  {
   "cell_type": "markdown",
   "metadata": {},
   "source": [
    "Выведем среднюю оценку по жанру Sports"
   ]
  },
  {
   "cell_type": "code",
   "execution_count": 52,
   "metadata": {},
   "outputs": [
    {
     "data": {
      "text/plain": [
       "6.307979626485569"
      ]
     },
     "execution_count": 52,
     "metadata": {},
     "output_type": "execute_result"
    }
   ],
   "source": [
    "genre_sports_hyp.mean()"
   ]
  },
  {
   "cell_type": "markdown",
   "metadata": {},
   "source": [
    "Выполним проверку гипотезы. Будем использовать метод ttest_ind"
   ]
  },
  {
   "cell_type": "code",
   "execution_count": 53,
   "metadata": {},
   "outputs": [
    {
     "name": "stdout",
     "output_type": "stream",
     "text": [
      "p-значение: 4.540665510055229e-11\n",
      "Отвергаем нулевую гипотезу\n"
     ]
    }
   ],
   "source": [
    "alpha = 0.05\n",
    "\n",
    "results = st.ttest_ind(genre_action_hyp.dropna(), genre_sports_hyp.dropna(), equal_var=False)\n",
    "\n",
    "print('p-значение:', results.pvalue)\n",
    "\n",
    "\n",
    "if (results.pvalue < alpha):\n",
    "    print(\"Отвергаем нулевую гипотезу\")\n",
    "else:\n",
    "    print(\"Не получилось отвергнуть нулевую гипотезу\")"
   ]
  },
  {
   "cell_type": "markdown",
   "metadata": {},
   "source": [
    "**Вывод:** Получив p-value, мы отвергли Нулевую гипотезу. Таким образом, у нас практически нет вероятности получить одинакове средние рейнтинги по двум жанрам."
   ]
  },
  {
   "cell_type": "markdown",
   "metadata": {},
   "source": [
    "**ВЫВОД**"
   ]
  },
  {
   "cell_type": "markdown",
   "metadata": {},
   "source": [
    "Проверили гипотезы по ТЗ:\n",
    "\n",
    "- Гипотеза: \"Средние пользовательские рейтинги платформ Xbox one и PC одинаковые\". Нулевую гипотезу не удалось опровергнуть.\n",
    "- Гипотеза: \"Средние пользовательские рейтинги жанров Action и Sports разные\". Отвергаем нулевую гипотезу."
   ]
  },
  {
   "cell_type": "markdown",
   "metadata": {},
   "source": [
    "## Общий вывод"
   ]
  },
  {
   "cell_type": "markdown",
   "metadata": {},
   "source": [
    "- Перед анализом данных, мы подготовили наши данные, привели к правильным данным столбцы, привели к нижнему регистру таблицы и сами названия колонок и Привели к правильным типам данных необходимые столбцы.\n",
    "- Определили, что аббревиатура TBD значит to be determined, to be done. То есть данные были нарочно не заполнены. Поэтому заменили tbd на nan для проведения дальнейшего анализа\n",
    "- Проведя анализ, мы выявили, что количество игр на игровые приставки и компьютеры начало расти с большой скоростью с 90х до 2008 года. С 2008 года после того как массово начали создавать мобильные приложения и мобильные игры, произошел резкий спад разработок консольных игр\n",
    "- За весь период консольных приставок самые популярные оказались: PS2, X360, PS3, WII, DS, PS\n",
    "- Также мы выявили, что средняя продолжительность жизни игровой приставки составляет порядка 10 лет. Самый пик продаж наступает примерно через 5 лет после выпуска консоли\n",
    "- Исходя из анализа мы увидели, что у Nintendo WII был резкий скачок в 2009 году и такой же резкий провал. Скорее всего потому что у людей не было особого интереса к приставке, когда как под рукой всегда был смартфон с любыми играми на вкус\n",
    "- Проведя анализ оценок пользователей и критиков. Мы выявили, что оценки критиков и пользователей взаимосвязаны с продажами самих игр. То есть чем больше оценка критиков или пользователей, тем лучше продажа игры.\n",
    "- Так же определили, что самый популярный жанр за все время это Экшн. На последнем месте стратегии\n",
    "\n",
    "**После мы составили портреты пользователей каждого региона.**\n",
    "- Выяснили, что в Северной америке самые популярные жанры это action, sports, shooter. Игровые приставки : XBOX, PS2 и WII. А по рейтингу игр люди предпочитают игры с рейтингами: \"для всех\", \"от 13 и выше\" и \"от 17 и выше\".\n",
    "- В Европе же, популярные жанры точно такие же как и в Северной Америке. Но приставки по предпочитают по следующей очередности: PS2, PS3, XBOX. Рейтинг игр отличается лишь вторым местом, на втором месте у них от 17 и выше, а на третьем 13 и выше.\n",
    "- В японии люди предпочитают игровые приставки: DS, PS, PS2. А жанры игры : Role-playing, action и sports. Рейтинг игр аналогичный Северной Америке.\n",
    "\n",
    "Исходя из всех данных предполагаем, что лучше всего продавать игры для таких приставок как Sony Playstation 4.\n",
    "\n",
    "Жанр необходимо выбирать Shooter и выбирать игры с рейтингом \"от 17 и выше\", тогда продажи будут значительно больше, чем если продавать другие игры."
   ]
  }
 ],
 "metadata": {
  "ExecuteTimeLog": [
   {
    "duration": 216,
    "start_time": "2021-12-31T04:25:27.349Z"
   },
   {
    "duration": 1086,
    "start_time": "2021-12-31T04:25:59.776Z"
   },
   {
    "duration": 2,
    "start_time": "2021-12-31T04:26:12.142Z"
   },
   {
    "duration": 3,
    "start_time": "2021-12-31T04:26:18.165Z"
   },
   {
    "duration": 46,
    "start_time": "2021-12-31T04:26:22.901Z"
   },
   {
    "duration": 28,
    "start_time": "2021-12-31T04:26:32.518Z"
   },
   {
    "duration": 10,
    "start_time": "2021-12-31T04:26:38.109Z"
   },
   {
    "duration": 19,
    "start_time": "2021-12-31T04:27:25.541Z"
   },
   {
    "duration": 3,
    "start_time": "2021-12-31T05:27:51.870Z"
   },
   {
    "duration": 11,
    "start_time": "2021-12-31T05:28:03.999Z"
   },
   {
    "duration": 10,
    "start_time": "2021-12-31T05:28:17.959Z"
   },
   {
    "duration": 9623,
    "start_time": "2021-12-31T05:29:32.368Z"
   },
   {
    "duration": 5,
    "start_time": "2021-12-31T05:30:19.471Z"
   },
   {
    "duration": 11,
    "start_time": "2021-12-31T05:30:40.350Z"
   },
   {
    "duration": 180,
    "start_time": "2021-12-31T05:31:56.557Z"
   },
   {
    "duration": 4,
    "start_time": "2021-12-31T05:33:09.652Z"
   },
   {
    "duration": 4,
    "start_time": "2021-12-31T05:33:25.964Z"
   },
   {
    "duration": 11,
    "start_time": "2021-12-31T05:33:35.020Z"
   },
   {
    "duration": 1024,
    "start_time": "2022-01-02T15:45:57.519Z"
   },
   {
    "duration": 3,
    "start_time": "2022-01-02T15:45:58.545Z"
   },
   {
    "duration": 11,
    "start_time": "2022-01-02T15:45:58.550Z"
   },
   {
    "duration": 49,
    "start_time": "2022-01-02T15:45:58.563Z"
   },
   {
    "duration": 30,
    "start_time": "2022-01-02T15:45:58.614Z"
   },
   {
    "duration": 23,
    "start_time": "2022-01-02T15:45:58.646Z"
   },
   {
    "duration": 4,
    "start_time": "2022-01-02T15:45:58.671Z"
   },
   {
    "duration": 10,
    "start_time": "2022-01-02T15:45:58.677Z"
   },
   {
    "duration": 11,
    "start_time": "2022-01-02T15:45:58.689Z"
   },
   {
    "duration": 9,
    "start_time": "2022-01-02T15:46:56.254Z"
   },
   {
    "duration": 5,
    "start_time": "2022-01-02T15:51:12.451Z"
   },
   {
    "duration": 19,
    "start_time": "2022-01-02T15:52:26.181Z"
   },
   {
    "duration": 7,
    "start_time": "2022-01-02T15:53:56.518Z"
   },
   {
    "duration": 5,
    "start_time": "2022-01-02T15:54:30.840Z"
   },
   {
    "duration": 7,
    "start_time": "2022-01-02T15:54:46.959Z"
   },
   {
    "duration": 9,
    "start_time": "2022-01-02T15:55:04.617Z"
   },
   {
    "duration": 6,
    "start_time": "2022-01-02T15:55:30.074Z"
   },
   {
    "duration": 11,
    "start_time": "2022-01-02T15:55:31.241Z"
   },
   {
    "duration": 8,
    "start_time": "2022-01-02T15:56:03.378Z"
   },
   {
    "duration": 8,
    "start_time": "2022-01-02T15:56:06.721Z"
   },
   {
    "duration": 3,
    "start_time": "2022-01-02T15:56:11.817Z"
   },
   {
    "duration": 8,
    "start_time": "2022-01-02T15:56:13.363Z"
   },
   {
    "duration": 8,
    "start_time": "2022-01-02T15:56:15.105Z"
   },
   {
    "duration": 1076,
    "start_time": "2022-01-02T15:56:26.688Z"
   },
   {
    "duration": 4,
    "start_time": "2022-01-02T15:56:27.768Z"
   },
   {
    "duration": 27,
    "start_time": "2022-01-02T15:56:27.775Z"
   },
   {
    "duration": 52,
    "start_time": "2022-01-02T15:56:27.804Z"
   },
   {
    "duration": 35,
    "start_time": "2022-01-02T15:56:27.858Z"
   },
   {
    "duration": 9,
    "start_time": "2022-01-02T15:56:27.894Z"
   },
   {
    "duration": 26,
    "start_time": "2022-01-02T15:56:27.905Z"
   },
   {
    "duration": 31,
    "start_time": "2022-01-02T15:56:27.933Z"
   },
   {
    "duration": 35,
    "start_time": "2022-01-02T15:56:27.968Z"
   },
   {
    "duration": 32,
    "start_time": "2022-01-02T15:56:28.005Z"
   },
   {
    "duration": 52,
    "start_time": "2022-01-02T15:56:28.039Z"
   },
   {
    "duration": 15,
    "start_time": "2022-01-02T15:56:28.092Z"
   },
   {
    "duration": 11,
    "start_time": "2022-01-02T15:56:28.108Z"
   },
   {
    "duration": 11,
    "start_time": "2022-01-02T16:00:45.591Z"
   },
   {
    "duration": 410,
    "start_time": "2022-01-02T16:01:04.734Z"
   },
   {
    "duration": 292,
    "start_time": "2022-01-02T16:01:28.160Z"
   },
   {
    "duration": 4,
    "start_time": "2022-01-02T16:03:43.297Z"
   },
   {
    "duration": 11,
    "start_time": "2022-01-02T16:03:44.634Z"
   },
   {
    "duration": 96,
    "start_time": "2022-01-02T16:07:18.431Z"
   },
   {
    "duration": 406,
    "start_time": "2022-01-02T16:12:30.239Z"
   },
   {
    "duration": 386,
    "start_time": "2022-01-02T16:12:38.118Z"
   },
   {
    "duration": 783,
    "start_time": "2022-01-02T16:12:45.040Z"
   },
   {
    "duration": 364,
    "start_time": "2022-01-02T16:12:50.873Z"
   },
   {
    "duration": 445,
    "start_time": "2022-01-02T16:12:56.647Z"
   },
   {
    "duration": 397,
    "start_time": "2022-01-02T16:13:30.271Z"
   },
   {
    "duration": 81,
    "start_time": "2022-01-02T16:18:35.414Z"
   },
   {
    "duration": 1143,
    "start_time": "2022-01-02T16:18:41.880Z"
   },
   {
    "duration": 3,
    "start_time": "2022-01-02T16:18:43.025Z"
   },
   {
    "duration": 12,
    "start_time": "2022-01-02T16:18:43.029Z"
   },
   {
    "duration": 53,
    "start_time": "2022-01-02T16:18:43.044Z"
   },
   {
    "duration": 27,
    "start_time": "2022-01-02T16:18:43.099Z"
   },
   {
    "duration": 32,
    "start_time": "2022-01-02T16:18:43.129Z"
   },
   {
    "duration": 3,
    "start_time": "2022-01-02T16:18:43.163Z"
   },
   {
    "duration": 8,
    "start_time": "2022-01-02T16:18:43.169Z"
   },
   {
    "duration": 18,
    "start_time": "2022-01-02T16:18:43.179Z"
   },
   {
    "duration": 5,
    "start_time": "2022-01-02T16:18:43.199Z"
   },
   {
    "duration": 21,
    "start_time": "2022-01-02T16:18:43.207Z"
   },
   {
    "duration": 39,
    "start_time": "2022-01-02T16:18:43.231Z"
   },
   {
    "duration": 12,
    "start_time": "2022-01-02T16:18:43.272Z"
   },
   {
    "duration": 319,
    "start_time": "2022-01-02T16:18:43.285Z"
   },
   {
    "duration": 467,
    "start_time": "2022-01-02T16:19:01.089Z"
   },
   {
    "duration": 3,
    "start_time": "2022-01-02T16:19:18.505Z"
   },
   {
    "duration": 1113,
    "start_time": "2022-01-02T16:19:24.441Z"
   },
   {
    "duration": 5,
    "start_time": "2022-01-02T16:19:25.556Z"
   },
   {
    "duration": 4,
    "start_time": "2022-01-02T16:19:25.563Z"
   },
   {
    "duration": 52,
    "start_time": "2022-01-02T16:19:25.569Z"
   },
   {
    "duration": 30,
    "start_time": "2022-01-02T16:19:25.623Z"
   },
   {
    "duration": 13,
    "start_time": "2022-01-02T16:19:25.654Z"
   },
   {
    "duration": 3,
    "start_time": "2022-01-02T16:19:25.670Z"
   },
   {
    "duration": 7,
    "start_time": "2022-01-02T16:19:25.676Z"
   },
   {
    "duration": 19,
    "start_time": "2022-01-02T16:19:25.685Z"
   },
   {
    "duration": 7,
    "start_time": "2022-01-02T16:19:25.706Z"
   },
   {
    "duration": 47,
    "start_time": "2022-01-02T16:19:25.715Z"
   },
   {
    "duration": 9,
    "start_time": "2022-01-02T16:19:25.764Z"
   },
   {
    "duration": 12,
    "start_time": "2022-01-02T16:19:25.775Z"
   },
   {
    "duration": 326,
    "start_time": "2022-01-02T16:19:25.790Z"
   },
   {
    "duration": 1145,
    "start_time": "2022-01-04T15:38:33.396Z"
   },
   {
    "duration": 2,
    "start_time": "2022-01-04T15:38:34.543Z"
   },
   {
    "duration": 4,
    "start_time": "2022-01-04T15:38:34.547Z"
   },
   {
    "duration": 45,
    "start_time": "2022-01-04T15:38:34.553Z"
   },
   {
    "duration": 28,
    "start_time": "2022-01-04T15:38:34.599Z"
   },
   {
    "duration": 8,
    "start_time": "2022-01-04T15:38:34.628Z"
   },
   {
    "duration": 3,
    "start_time": "2022-01-04T15:38:34.638Z"
   },
   {
    "duration": 5,
    "start_time": "2022-01-04T15:38:34.643Z"
   },
   {
    "duration": 17,
    "start_time": "2022-01-04T15:38:34.649Z"
   },
   {
    "duration": 5,
    "start_time": "2022-01-04T15:38:34.667Z"
   },
   {
    "duration": 9,
    "start_time": "2022-01-04T15:38:34.673Z"
   },
   {
    "duration": 6,
    "start_time": "2022-01-04T15:38:34.684Z"
   },
   {
    "duration": 37,
    "start_time": "2022-01-04T15:38:34.691Z"
   },
   {
    "duration": 274,
    "start_time": "2022-01-04T15:38:34.730Z"
   },
   {
    "duration": 4,
    "start_time": "2022-01-04T15:42:06.527Z"
   },
   {
    "duration": 4,
    "start_time": "2022-01-04T15:42:07.647Z"
   },
   {
    "duration": 10,
    "start_time": "2022-01-04T15:42:09.205Z"
   },
   {
    "duration": 4,
    "start_time": "2022-01-04T15:45:29.379Z"
   },
   {
    "duration": 9,
    "start_time": "2022-01-04T15:47:33.185Z"
   },
   {
    "duration": 10,
    "start_time": "2022-01-04T15:47:34.379Z"
   },
   {
    "duration": 9,
    "start_time": "2022-01-04T15:48:34.710Z"
   },
   {
    "duration": 11,
    "start_time": "2022-01-04T15:48:42.557Z"
   },
   {
    "duration": 10,
    "start_time": "2022-01-04T15:48:50.917Z"
   },
   {
    "duration": 8,
    "start_time": "2022-01-04T15:49:09.446Z"
   },
   {
    "duration": 8,
    "start_time": "2022-01-04T15:49:35.655Z"
   },
   {
    "duration": 416,
    "start_time": "2022-01-04T15:53:17.853Z"
   },
   {
    "duration": 1115,
    "start_time": "2022-01-04T15:53:46.145Z"
   },
   {
    "duration": 3,
    "start_time": "2022-01-04T15:53:47.262Z"
   },
   {
    "duration": 3,
    "start_time": "2022-01-04T15:53:47.267Z"
   },
   {
    "duration": 47,
    "start_time": "2022-01-04T15:53:47.272Z"
   },
   {
    "duration": 29,
    "start_time": "2022-01-04T15:53:47.321Z"
   },
   {
    "duration": 10,
    "start_time": "2022-01-04T15:53:47.352Z"
   },
   {
    "duration": 5,
    "start_time": "2022-01-04T15:53:47.364Z"
   },
   {
    "duration": 7,
    "start_time": "2022-01-04T15:53:47.372Z"
   },
   {
    "duration": 20,
    "start_time": "2022-01-04T15:53:47.380Z"
   },
   {
    "duration": 31,
    "start_time": "2022-01-04T15:53:47.401Z"
   },
   {
    "duration": 5,
    "start_time": "2022-01-04T15:53:47.433Z"
   },
   {
    "duration": 11,
    "start_time": "2022-01-04T15:53:47.440Z"
   },
   {
    "duration": 13,
    "start_time": "2022-01-04T15:53:47.452Z"
   },
   {
    "duration": 5,
    "start_time": "2022-01-04T15:53:47.467Z"
   },
   {
    "duration": 22,
    "start_time": "2022-01-04T15:53:47.474Z"
   },
   {
    "duration": 271,
    "start_time": "2022-01-04T15:53:47.527Z"
   },
   {
    "duration": 314,
    "start_time": "2022-01-04T15:54:12.065Z"
   },
   {
    "duration": 7,
    "start_time": "2022-01-04T15:56:55.093Z"
   },
   {
    "duration": 412,
    "start_time": "2022-01-04T16:11:19.057Z"
   },
   {
    "duration": 407,
    "start_time": "2022-01-04T16:12:05.265Z"
   },
   {
    "duration": 109,
    "start_time": "2022-01-05T04:22:03.965Z"
   },
   {
    "duration": 5,
    "start_time": "2022-01-05T04:22:16.482Z"
   },
   {
    "duration": 4,
    "start_time": "2022-01-05T04:22:27.443Z"
   },
   {
    "duration": 4,
    "start_time": "2022-01-05T04:22:33.133Z"
   },
   {
    "duration": 326,
    "start_time": "2022-01-05T04:23:08.045Z"
   },
   {
    "duration": 264,
    "start_time": "2022-01-05T04:23:21.525Z"
   },
   {
    "duration": 718,
    "start_time": "2022-01-05T04:26:01.595Z"
   },
   {
    "duration": 1571,
    "start_time": "2022-01-05T04:26:15.756Z"
   },
   {
    "duration": 3,
    "start_time": "2022-01-05T04:26:17.330Z"
   },
   {
    "duration": 7,
    "start_time": "2022-01-05T04:26:17.336Z"
   },
   {
    "duration": 148,
    "start_time": "2022-01-05T04:26:17.345Z"
   },
   {
    "duration": 40,
    "start_time": "2022-01-05T04:26:17.496Z"
   },
   {
    "duration": 13,
    "start_time": "2022-01-05T04:26:17.539Z"
   },
   {
    "duration": 6,
    "start_time": "2022-01-05T04:26:17.555Z"
   },
   {
    "duration": 9,
    "start_time": "2022-01-05T04:26:17.564Z"
   },
   {
    "duration": 61,
    "start_time": "2022-01-05T04:26:17.575Z"
   },
   {
    "duration": 8,
    "start_time": "2022-01-05T04:26:17.639Z"
   },
   {
    "duration": 11,
    "start_time": "2022-01-05T04:26:17.649Z"
   },
   {
    "duration": 18,
    "start_time": "2022-01-05T04:26:17.663Z"
   },
   {
    "duration": 40,
    "start_time": "2022-01-05T04:26:17.683Z"
   },
   {
    "duration": 11,
    "start_time": "2022-01-05T04:26:17.726Z"
   },
   {
    "duration": 18,
    "start_time": "2022-01-05T04:26:17.739Z"
   },
   {
    "duration": 475,
    "start_time": "2022-01-05T04:26:17.759Z"
   },
   {
    "duration": 10,
    "start_time": "2022-01-05T04:26:18.236Z"
   },
   {
    "duration": 887,
    "start_time": "2022-01-05T04:26:18.248Z"
   },
   {
    "duration": 4,
    "start_time": "2022-01-05T04:26:19.137Z"
   },
   {
    "duration": 20,
    "start_time": "2022-01-05T04:26:19.144Z"
   },
   {
    "duration": 9,
    "start_time": "2022-01-05T04:26:36.083Z"
   },
   {
    "duration": 859,
    "start_time": "2022-01-05T04:27:38.077Z"
   },
   {
    "duration": 704,
    "start_time": "2022-01-05T04:27:59.163Z"
   },
   {
    "duration": 9,
    "start_time": "2022-01-05T04:32:09.945Z"
   },
   {
    "duration": 8,
    "start_time": "2022-01-05T04:32:13.281Z"
   },
   {
    "duration": 1247,
    "start_time": "2022-01-05T04:32:22.231Z"
   },
   {
    "duration": 9,
    "start_time": "2022-01-05T04:32:28.327Z"
   },
   {
    "duration": 9,
    "start_time": "2022-01-05T04:32:36.535Z"
   },
   {
    "duration": 9,
    "start_time": "2022-01-05T04:32:37.367Z"
   },
   {
    "duration": 280,
    "start_time": "2022-01-05T04:33:42.087Z"
   },
   {
    "duration": 285,
    "start_time": "2022-01-05T04:34:19.632Z"
   },
   {
    "duration": 8,
    "start_time": "2022-01-05T04:34:28.491Z"
   },
   {
    "duration": 9,
    "start_time": "2022-01-05T04:34:30.166Z"
   },
   {
    "duration": 8,
    "start_time": "2022-01-05T04:36:21.183Z"
   },
   {
    "duration": 10,
    "start_time": "2022-01-05T04:36:21.918Z"
   },
   {
    "duration": 9,
    "start_time": "2022-01-05T04:36:52.492Z"
   },
   {
    "duration": 9,
    "start_time": "2022-01-05T04:36:53.492Z"
   },
   {
    "duration": 8,
    "start_time": "2022-01-05T04:37:17.916Z"
   },
   {
    "duration": 10,
    "start_time": "2022-01-05T04:37:18.635Z"
   },
   {
    "duration": 18,
    "start_time": "2022-01-05T04:38:52.323Z"
   },
   {
    "duration": 11,
    "start_time": "2022-01-05T04:38:55.401Z"
   },
   {
    "duration": 17,
    "start_time": "2022-01-05T04:39:01.603Z"
   },
   {
    "duration": 10,
    "start_time": "2022-01-05T04:39:02.819Z"
   },
   {
    "duration": 740,
    "start_time": "2022-01-05T04:39:08.306Z"
   },
   {
    "duration": 8,
    "start_time": "2022-01-05T04:39:18.458Z"
   },
   {
    "duration": 10,
    "start_time": "2022-01-05T04:39:19.178Z"
   },
   {
    "duration": 585,
    "start_time": "2022-01-05T04:40:56.737Z"
   },
   {
    "duration": 277,
    "start_time": "2022-01-05T04:41:24.592Z"
   },
   {
    "duration": 8,
    "start_time": "2022-01-05T04:42:18.400Z"
   },
   {
    "duration": 9,
    "start_time": "2022-01-05T04:42:19.427Z"
   },
   {
    "duration": 8,
    "start_time": "2022-01-05T04:43:04.184Z"
   },
   {
    "duration": 1472,
    "start_time": "2022-01-05T04:43:14.373Z"
   },
   {
    "duration": 4,
    "start_time": "2022-01-05T04:43:15.847Z"
   },
   {
    "duration": 6,
    "start_time": "2022-01-05T04:43:15.854Z"
   },
   {
    "duration": 68,
    "start_time": "2022-01-05T04:43:15.863Z"
   },
   {
    "duration": 39,
    "start_time": "2022-01-05T04:43:15.934Z"
   },
   {
    "duration": 13,
    "start_time": "2022-01-05T04:43:15.975Z"
   },
   {
    "duration": 35,
    "start_time": "2022-01-05T04:43:15.991Z"
   },
   {
    "duration": 9,
    "start_time": "2022-01-05T04:43:16.028Z"
   },
   {
    "duration": 26,
    "start_time": "2022-01-05T04:43:16.041Z"
   },
   {
    "duration": 8,
    "start_time": "2022-01-05T04:43:16.069Z"
   },
   {
    "duration": 44,
    "start_time": "2022-01-05T04:43:16.079Z"
   },
   {
    "duration": 16,
    "start_time": "2022-01-05T04:43:16.125Z"
   },
   {
    "duration": 17,
    "start_time": "2022-01-05T04:43:16.143Z"
   },
   {
    "duration": 7,
    "start_time": "2022-01-05T04:43:16.162Z"
   },
   {
    "duration": 52,
    "start_time": "2022-01-05T04:43:16.171Z"
   },
   {
    "duration": 430,
    "start_time": "2022-01-05T04:43:16.226Z"
   },
   {
    "duration": 10,
    "start_time": "2022-01-05T04:43:16.658Z"
   },
   {
    "duration": 819,
    "start_time": "2022-01-05T04:43:16.670Z"
   },
   {
    "duration": 5,
    "start_time": "2022-01-05T04:43:17.491Z"
   },
   {
    "duration": 34,
    "start_time": "2022-01-05T04:43:17.498Z"
   },
   {
    "duration": 8,
    "start_time": "2022-01-05T04:43:17.535Z"
   },
   {
    "duration": 758,
    "start_time": "2022-01-05T04:43:17.545Z"
   },
   {
    "duration": 21,
    "start_time": "2022-01-05T04:43:18.306Z"
   },
   {
    "duration": 11,
    "start_time": "2022-01-05T04:43:18.329Z"
   },
   {
    "duration": 8,
    "start_time": "2022-01-05T04:45:51.850Z"
   },
   {
    "duration": 9,
    "start_time": "2022-01-05T04:45:57.688Z"
   },
   {
    "duration": 8,
    "start_time": "2022-01-05T04:51:26.999Z"
   },
   {
    "duration": 9,
    "start_time": "2022-01-05T04:51:27.604Z"
   },
   {
    "duration": 101,
    "start_time": "2022-01-05T04:56:25.913Z"
   },
   {
    "duration": 86,
    "start_time": "2022-01-05T04:56:32.125Z"
   },
   {
    "duration": 424,
    "start_time": "2022-01-05T04:57:15.217Z"
   },
   {
    "duration": 7,
    "start_time": "2022-01-05T04:57:43.976Z"
   },
   {
    "duration": 8,
    "start_time": "2022-01-05T04:57:44.720Z"
   },
   {
    "duration": 11,
    "start_time": "2022-01-05T04:58:13.136Z"
   },
   {
    "duration": 9,
    "start_time": "2022-01-05T04:59:10.136Z"
   },
   {
    "duration": 6732,
    "start_time": "2022-01-05T04:59:11.038Z"
   },
   {
    "duration": 6,
    "start_time": "2022-01-05T04:59:41.927Z"
   },
   {
    "duration": 14,
    "start_time": "2022-01-05T04:59:43.215Z"
   },
   {
    "duration": 8,
    "start_time": "2022-01-05T04:59:55.224Z"
   },
   {
    "duration": 10,
    "start_time": "2022-01-05T04:59:56.150Z"
   },
   {
    "duration": 287,
    "start_time": "2022-01-05T05:04:52.563Z"
   },
   {
    "duration": 17,
    "start_time": "2022-01-05T05:07:42.897Z"
   },
   {
    "duration": 10,
    "start_time": "2022-01-05T05:07:44.494Z"
   },
   {
    "duration": 756,
    "start_time": "2022-01-05T05:07:48.234Z"
   },
   {
    "duration": 9,
    "start_time": "2022-01-05T05:07:52.761Z"
   },
   {
    "duration": 9,
    "start_time": "2022-01-05T05:07:53.464Z"
   },
   {
    "duration": 5,
    "start_time": "2022-01-05T05:08:29.017Z"
   },
   {
    "duration": 1375,
    "start_time": "2022-01-05T05:08:35.072Z"
   },
   {
    "duration": 3,
    "start_time": "2022-01-05T05:08:36.449Z"
   },
   {
    "duration": 7,
    "start_time": "2022-01-05T05:08:36.455Z"
   },
   {
    "duration": 64,
    "start_time": "2022-01-05T05:08:36.464Z"
   },
   {
    "duration": 38,
    "start_time": "2022-01-05T05:08:36.530Z"
   },
   {
    "duration": 13,
    "start_time": "2022-01-05T05:08:36.571Z"
   },
   {
    "duration": 6,
    "start_time": "2022-01-05T05:08:36.586Z"
   },
   {
    "duration": 7,
    "start_time": "2022-01-05T05:08:36.625Z"
   },
   {
    "duration": 25,
    "start_time": "2022-01-05T05:08:36.635Z"
   },
   {
    "duration": 10,
    "start_time": "2022-01-05T05:08:36.663Z"
   },
   {
    "duration": 8,
    "start_time": "2022-01-05T05:08:36.675Z"
   },
   {
    "duration": 17,
    "start_time": "2022-01-05T05:08:36.722Z"
   },
   {
    "duration": 15,
    "start_time": "2022-01-05T05:08:36.741Z"
   },
   {
    "duration": 6,
    "start_time": "2022-01-05T05:08:36.759Z"
   },
   {
    "duration": 17,
    "start_time": "2022-01-05T05:08:36.767Z"
   },
   {
    "duration": 455,
    "start_time": "2022-01-05T05:08:36.787Z"
   },
   {
    "duration": 9,
    "start_time": "2022-01-05T05:08:37.244Z"
   },
   {
    "duration": 759,
    "start_time": "2022-01-05T05:08:37.256Z"
   },
   {
    "duration": 5,
    "start_time": "2022-01-05T05:08:38.022Z"
   },
   {
    "duration": 22,
    "start_time": "2022-01-05T05:08:38.030Z"
   },
   {
    "duration": 10,
    "start_time": "2022-01-05T05:08:38.054Z"
   },
   {
    "duration": 730,
    "start_time": "2022-01-05T05:08:38.067Z"
   },
   {
    "duration": 22,
    "start_time": "2022-01-05T05:08:38.803Z"
   },
   {
    "duration": 12,
    "start_time": "2022-01-05T05:08:38.828Z"
   },
   {
    "duration": 10,
    "start_time": "2022-01-05T05:09:09.249Z"
   },
   {
    "duration": 8,
    "start_time": "2022-01-05T05:09:20.336Z"
   },
   {
    "duration": 10,
    "start_time": "2022-01-05T05:09:47.535Z"
   },
   {
    "duration": 410,
    "start_time": "2022-01-05T05:14:57.035Z"
   },
   {
    "duration": 273,
    "start_time": "2022-01-05T05:15:13.664Z"
   },
   {
    "duration": 267,
    "start_time": "2022-01-05T05:15:20.235Z"
   },
   {
    "duration": 9,
    "start_time": "2022-01-05T05:15:26.194Z"
   },
   {
    "duration": 9,
    "start_time": "2022-01-05T05:15:29.338Z"
   },
   {
    "duration": 10,
    "start_time": "2022-01-05T05:15:47.858Z"
   },
   {
    "duration": 10,
    "start_time": "2022-01-05T05:15:54.610Z"
   },
   {
    "duration": 10,
    "start_time": "2022-01-05T05:18:13.041Z"
   },
   {
    "duration": 10,
    "start_time": "2022-01-05T05:18:14.250Z"
   },
   {
    "duration": 7,
    "start_time": "2022-01-05T05:20:30.624Z"
   },
   {
    "duration": 10,
    "start_time": "2022-01-05T05:20:31.591Z"
   },
   {
    "duration": 10,
    "start_time": "2022-01-05T05:20:33.608Z"
   },
   {
    "duration": 8,
    "start_time": "2022-01-05T05:20:46.256Z"
   },
   {
    "duration": 9,
    "start_time": "2022-01-05T05:20:47.824Z"
   },
   {
    "duration": 1376,
    "start_time": "2022-01-05T05:28:18.283Z"
   },
   {
    "duration": 430,
    "start_time": "2022-01-05T05:28:40.468Z"
   },
   {
    "duration": 9,
    "start_time": "2022-01-05T05:29:02.027Z"
   },
   {
    "duration": 9,
    "start_time": "2022-01-05T05:29:02.684Z"
   },
   {
    "duration": 5731,
    "start_time": "2022-01-05T05:30:22.138Z"
   },
   {
    "duration": -191,
    "start_time": "2022-01-05T05:30:28.063Z"
   },
   {
    "duration": 9,
    "start_time": "2022-01-05T05:30:37.530Z"
   },
   {
    "duration": 9,
    "start_time": "2022-01-05T05:31:31.074Z"
   },
   {
    "duration": 11880,
    "start_time": "2022-01-05T05:31:31.624Z"
   },
   {
    "duration": 7,
    "start_time": "2022-01-05T05:31:48.169Z"
   },
   {
    "duration": 9,
    "start_time": "2022-01-05T05:31:50.737Z"
   },
   {
    "duration": 4,
    "start_time": "2022-01-05T05:34:23.426Z"
   },
   {
    "duration": 11,
    "start_time": "2022-01-05T05:34:24.135Z"
   },
   {
    "duration": 9,
    "start_time": "2022-01-05T05:34:25.705Z"
   },
   {
    "duration": 10,
    "start_time": "2022-01-05T05:41:28.571Z"
   },
   {
    "duration": 11,
    "start_time": "2022-01-05T05:41:29.417Z"
   },
   {
    "duration": 10,
    "start_time": "2022-01-05T05:42:01.468Z"
   },
   {
    "duration": 295,
    "start_time": "2022-01-05T05:42:25.357Z"
   },
   {
    "duration": 407,
    "start_time": "2022-01-05T05:42:52.394Z"
   },
   {
    "duration": 11,
    "start_time": "2022-01-05T05:43:17.409Z"
   },
   {
    "duration": 11,
    "start_time": "2022-01-05T05:43:18.033Z"
   },
   {
    "duration": 455,
    "start_time": "2022-01-05T05:43:21.731Z"
   },
   {
    "duration": 10,
    "start_time": "2022-01-05T05:43:36.235Z"
   },
   {
    "duration": 11,
    "start_time": "2022-01-05T05:43:36.984Z"
   },
   {
    "duration": 447,
    "start_time": "2022-01-05T05:43:38.443Z"
   },
   {
    "duration": 105,
    "start_time": "2022-01-05T05:43:58.122Z"
   },
   {
    "duration": 121,
    "start_time": "2022-01-05T05:44:04.758Z"
   },
   {
    "duration": 11,
    "start_time": "2022-01-05T05:44:28.913Z"
   },
   {
    "duration": 136,
    "start_time": "2022-01-05T05:51:17.092Z"
   },
   {
    "duration": 263,
    "start_time": "2022-01-05T05:51:33.867Z"
   },
   {
    "duration": 136,
    "start_time": "2022-01-05T05:51:41.171Z"
   },
   {
    "duration": 279,
    "start_time": "2022-01-05T05:51:45.691Z"
   },
   {
    "duration": 13,
    "start_time": "2022-01-05T05:52:03.138Z"
   },
   {
    "duration": 9,
    "start_time": "2022-01-05T05:52:06.780Z"
   },
   {
    "duration": 10,
    "start_time": "2022-01-05T05:52:28.363Z"
   },
   {
    "duration": 10,
    "start_time": "2022-01-05T05:53:00.075Z"
   },
   {
    "duration": 10,
    "start_time": "2022-01-05T05:53:08.993Z"
   },
   {
    "duration": 10,
    "start_time": "2022-01-05T05:53:15.913Z"
   },
   {
    "duration": 602,
    "start_time": "2022-01-05T05:54:08.528Z"
   },
   {
    "duration": 653,
    "start_time": "2022-01-05T05:54:35.495Z"
   },
   {
    "duration": 8,
    "start_time": "2022-01-05T05:54:52.912Z"
   },
   {
    "duration": 6,
    "start_time": "2022-01-05T05:55:31.495Z"
   },
   {
    "duration": 6,
    "start_time": "2022-01-05T05:55:41.833Z"
   },
   {
    "duration": 13,
    "start_time": "2022-01-05T05:57:03.534Z"
   },
   {
    "duration": 4873,
    "start_time": "2022-01-05T05:57:22.598Z"
   },
   {
    "duration": 286,
    "start_time": "2022-01-05T05:58:20.205Z"
   },
   {
    "duration": 294,
    "start_time": "2022-01-05T05:58:47.741Z"
   },
   {
    "duration": 75,
    "start_time": "2022-01-05T05:59:08.245Z"
   },
   {
    "duration": 272,
    "start_time": "2022-01-05T06:00:04.501Z"
   },
   {
    "duration": 78,
    "start_time": "2022-01-05T06:00:16.091Z"
   },
   {
    "duration": 23,
    "start_time": "2022-01-05T06:01:53.273Z"
   },
   {
    "duration": 476,
    "start_time": "2022-01-05T06:02:16.418Z"
   },
   {
    "duration": 10,
    "start_time": "2022-01-05T06:08:04.471Z"
   },
   {
    "duration": 11,
    "start_time": "2022-01-05T06:08:12.280Z"
   },
   {
    "duration": 109,
    "start_time": "2022-01-05T06:08:50.616Z"
   },
   {
    "duration": 97,
    "start_time": "2022-01-05T06:08:58.389Z"
   },
   {
    "duration": 12,
    "start_time": "2022-01-05T06:09:09.541Z"
   },
   {
    "duration": 1507,
    "start_time": "2022-01-05T06:09:32.595Z"
   },
   {
    "duration": 11,
    "start_time": "2022-01-05T06:09:56.516Z"
   },
   {
    "duration": 804,
    "start_time": "2022-01-05T06:09:58.316Z"
   },
   {
    "duration": 564,
    "start_time": "2022-01-05T06:10:18.971Z"
   },
   {
    "duration": 12,
    "start_time": "2022-01-05T06:10:40.684Z"
   },
   {
    "duration": 827,
    "start_time": "2022-01-05T06:10:42.722Z"
   },
   {
    "duration": 874,
    "start_time": "2022-01-05T06:10:49.251Z"
   },
   {
    "duration": 843,
    "start_time": "2022-01-05T06:13:56.056Z"
   },
   {
    "duration": 819,
    "start_time": "2022-01-05T06:14:08.544Z"
   },
   {
    "duration": 848,
    "start_time": "2022-01-05T06:15:24.656Z"
   },
   {
    "duration": 788,
    "start_time": "2022-01-05T06:15:39.968Z"
   },
   {
    "duration": 1682,
    "start_time": "2022-01-05T07:14:12.295Z"
   },
   {
    "duration": 5,
    "start_time": "2022-01-05T07:14:13.980Z"
   },
   {
    "duration": 5,
    "start_time": "2022-01-05T07:14:13.989Z"
   },
   {
    "duration": 75,
    "start_time": "2022-01-05T07:14:13.997Z"
   },
   {
    "duration": 51,
    "start_time": "2022-01-05T07:14:14.075Z"
   },
   {
    "duration": 13,
    "start_time": "2022-01-05T07:14:14.128Z"
   },
   {
    "duration": 8,
    "start_time": "2022-01-05T07:14:14.143Z"
   },
   {
    "duration": 10,
    "start_time": "2022-01-05T07:14:14.154Z"
   },
   {
    "duration": 63,
    "start_time": "2022-01-05T07:14:14.168Z"
   },
   {
    "duration": 8,
    "start_time": "2022-01-05T07:14:14.234Z"
   },
   {
    "duration": 6,
    "start_time": "2022-01-05T07:14:14.245Z"
   },
   {
    "duration": 20,
    "start_time": "2022-01-05T07:14:14.253Z"
   },
   {
    "duration": 15,
    "start_time": "2022-01-05T07:14:14.275Z"
   },
   {
    "duration": 12,
    "start_time": "2022-01-05T07:14:14.323Z"
   },
   {
    "duration": 16,
    "start_time": "2022-01-05T07:14:14.337Z"
   },
   {
    "duration": 439,
    "start_time": "2022-01-05T07:14:14.356Z"
   },
   {
    "duration": 10,
    "start_time": "2022-01-05T07:14:14.798Z"
   },
   {
    "duration": 770,
    "start_time": "2022-01-05T07:14:14.824Z"
   },
   {
    "duration": 6,
    "start_time": "2022-01-05T07:14:15.596Z"
   },
   {
    "duration": 34,
    "start_time": "2022-01-05T07:14:15.605Z"
   },
   {
    "duration": 10,
    "start_time": "2022-01-05T07:14:15.641Z"
   },
   {
    "duration": 760,
    "start_time": "2022-01-05T07:14:15.654Z"
   },
   {
    "duration": 11,
    "start_time": "2022-01-05T07:14:16.424Z"
   },
   {
    "duration": 15,
    "start_time": "2022-01-05T07:14:16.437Z"
   },
   {
    "duration": 459,
    "start_time": "2022-01-05T07:14:16.454Z"
   },
   {
    "duration": 9,
    "start_time": "2022-01-05T07:14:16.924Z"
   },
   {
    "duration": 617,
    "start_time": "2022-01-05T07:14:16.939Z"
   },
   {
    "duration": 707,
    "start_time": "2022-01-05T07:14:17.559Z"
   },
   {
    "duration": 6,
    "start_time": "2022-01-05T07:14:18.268Z"
   },
   {
    "duration": 12,
    "start_time": "2022-01-05T07:14:18.277Z"
   },
   {
    "duration": 434,
    "start_time": "2022-01-05T07:14:18.292Z"
   },
   {
    "duration": 389,
    "start_time": "2022-01-05T07:14:18.339Z"
   },
   {
    "duration": 388,
    "start_time": "2022-01-05T07:14:18.341Z"
   },
   {
    "duration": 389,
    "start_time": "2022-01-05T07:14:18.342Z"
   },
   {
    "duration": 386,
    "start_time": "2022-01-05T07:14:18.346Z"
   },
   {
    "duration": 385,
    "start_time": "2022-01-05T07:14:18.348Z"
   },
   {
    "duration": 386,
    "start_time": "2022-01-05T07:14:18.349Z"
   },
   {
    "duration": 385,
    "start_time": "2022-01-05T07:14:18.351Z"
   },
   {
    "duration": 385,
    "start_time": "2022-01-05T07:14:18.352Z"
   },
   {
    "duration": 385,
    "start_time": "2022-01-05T07:14:18.354Z"
   },
   {
    "duration": 385,
    "start_time": "2022-01-05T07:14:18.355Z"
   },
   {
    "duration": 384,
    "start_time": "2022-01-05T07:14:18.357Z"
   },
   {
    "duration": 324,
    "start_time": "2022-01-05T07:55:33.259Z"
   },
   {
    "duration": 14,
    "start_time": "2022-01-05T07:56:00.075Z"
   },
   {
    "duration": 15,
    "start_time": "2022-01-05T07:56:27.850Z"
   },
   {
    "duration": 15,
    "start_time": "2022-01-05T07:56:53.554Z"
   },
   {
    "duration": 13,
    "start_time": "2022-01-05T07:57:33.178Z"
   },
   {
    "duration": 6,
    "start_time": "2022-01-05T07:57:38.973Z"
   },
   {
    "duration": 7,
    "start_time": "2022-01-05T07:57:59.017Z"
   },
   {
    "duration": 12,
    "start_time": "2022-01-05T07:58:26.873Z"
   },
   {
    "duration": 275,
    "start_time": "2022-01-05T08:00:48.785Z"
   },
   {
    "duration": 13,
    "start_time": "2022-01-05T08:00:56.744Z"
   },
   {
    "duration": 12,
    "start_time": "2022-01-05T08:01:06.112Z"
   },
   {
    "duration": 6,
    "start_time": "2022-01-05T08:01:42.288Z"
   },
   {
    "duration": 13,
    "start_time": "2022-01-05T08:02:02.385Z"
   },
   {
    "duration": 6,
    "start_time": "2022-01-05T08:02:05.023Z"
   },
   {
    "duration": 6,
    "start_time": "2022-01-05T08:02:40.288Z"
   },
   {
    "duration": 9,
    "start_time": "2022-01-05T08:02:57.151Z"
   },
   {
    "duration": 1126,
    "start_time": "2022-01-06T09:43:35.546Z"
   },
   {
    "duration": 3,
    "start_time": "2022-01-06T09:43:36.674Z"
   },
   {
    "duration": 6,
    "start_time": "2022-01-06T09:43:36.679Z"
   },
   {
    "duration": 49,
    "start_time": "2022-01-06T09:43:36.687Z"
   },
   {
    "duration": 26,
    "start_time": "2022-01-06T09:43:36.738Z"
   },
   {
    "duration": 10,
    "start_time": "2022-01-06T09:43:36.766Z"
   },
   {
    "duration": 5,
    "start_time": "2022-01-06T09:43:36.778Z"
   },
   {
    "duration": 6,
    "start_time": "2022-01-06T09:43:36.786Z"
   },
   {
    "duration": 53,
    "start_time": "2022-01-06T09:43:36.795Z"
   },
   {
    "duration": 7,
    "start_time": "2022-01-06T09:43:36.850Z"
   },
   {
    "duration": 7,
    "start_time": "2022-01-06T09:43:36.859Z"
   },
   {
    "duration": 15,
    "start_time": "2022-01-06T09:43:36.867Z"
   },
   {
    "duration": 10,
    "start_time": "2022-01-06T09:43:36.883Z"
   },
   {
    "duration": 8,
    "start_time": "2022-01-06T09:43:36.894Z"
   },
   {
    "duration": 10,
    "start_time": "2022-01-06T09:43:36.903Z"
   },
   {
    "duration": 265,
    "start_time": "2022-01-06T09:43:36.942Z"
   },
   {
    "duration": 7,
    "start_time": "2022-01-06T09:43:37.208Z"
   },
   {
    "duration": 450,
    "start_time": "2022-01-06T09:43:37.216Z"
   },
   {
    "duration": 3,
    "start_time": "2022-01-06T09:43:37.668Z"
   },
   {
    "duration": 16,
    "start_time": "2022-01-06T09:43:37.672Z"
   },
   {
    "duration": 6,
    "start_time": "2022-01-06T09:43:37.690Z"
   },
   {
    "duration": 434,
    "start_time": "2022-01-06T09:43:37.697Z"
   },
   {
    "duration": 11,
    "start_time": "2022-01-06T09:43:38.134Z"
   },
   {
    "duration": 7,
    "start_time": "2022-01-06T09:43:38.146Z"
   },
   {
    "duration": 272,
    "start_time": "2022-01-06T09:43:38.155Z"
   },
   {
    "duration": 7,
    "start_time": "2022-01-06T09:43:38.428Z"
   },
   {
    "duration": 422,
    "start_time": "2022-01-06T09:43:38.441Z"
   },
   {
    "duration": 505,
    "start_time": "2022-01-06T09:43:38.865Z"
   },
   {
    "duration": 4,
    "start_time": "2022-01-06T09:43:39.372Z"
   },
   {
    "duration": 9,
    "start_time": "2022-01-06T09:43:39.378Z"
   },
   {
    "duration": 327,
    "start_time": "2022-01-06T09:43:39.388Z"
   },
   {
    "duration": -9,
    "start_time": "2022-01-06T09:43:39.725Z"
   },
   {
    "duration": -10,
    "start_time": "2022-01-06T09:43:39.727Z"
   },
   {
    "duration": -11,
    "start_time": "2022-01-06T09:43:39.729Z"
   },
   {
    "duration": -11,
    "start_time": "2022-01-06T09:43:39.730Z"
   },
   {
    "duration": -12,
    "start_time": "2022-01-06T09:43:39.732Z"
   },
   {
    "duration": -12,
    "start_time": "2022-01-06T09:43:39.733Z"
   },
   {
    "duration": -16,
    "start_time": "2022-01-06T09:43:39.738Z"
   },
   {
    "duration": -16,
    "start_time": "2022-01-06T09:43:39.739Z"
   },
   {
    "duration": -17,
    "start_time": "2022-01-06T09:43:39.741Z"
   },
   {
    "duration": -16,
    "start_time": "2022-01-06T09:43:39.742Z"
   },
   {
    "duration": -17,
    "start_time": "2022-01-06T09:43:39.743Z"
   },
   {
    "duration": -18,
    "start_time": "2022-01-06T09:43:39.745Z"
   },
   {
    "duration": -18,
    "start_time": "2022-01-06T09:43:39.746Z"
   },
   {
    "duration": -19,
    "start_time": "2022-01-06T09:43:39.748Z"
   },
   {
    "duration": -19,
    "start_time": "2022-01-06T09:43:39.749Z"
   },
   {
    "duration": -19,
    "start_time": "2022-01-06T09:43:39.750Z"
   },
   {
    "duration": -19,
    "start_time": "2022-01-06T09:43:39.751Z"
   },
   {
    "duration": -19,
    "start_time": "2022-01-06T09:43:39.752Z"
   },
   {
    "duration": -20,
    "start_time": "2022-01-06T09:43:39.754Z"
   },
   {
    "duration": 1004,
    "start_time": "2022-01-08T04:25:04.060Z"
   },
   {
    "duration": 2,
    "start_time": "2022-01-08T04:25:05.065Z"
   },
   {
    "duration": 5,
    "start_time": "2022-01-08T04:25:05.069Z"
   },
   {
    "duration": 46,
    "start_time": "2022-01-08T04:25:05.075Z"
   },
   {
    "duration": 22,
    "start_time": "2022-01-08T04:25:05.123Z"
   },
   {
    "duration": 8,
    "start_time": "2022-01-08T04:25:05.146Z"
   },
   {
    "duration": 4,
    "start_time": "2022-01-08T04:25:05.155Z"
   },
   {
    "duration": 5,
    "start_time": "2022-01-08T04:25:05.161Z"
   },
   {
    "duration": 17,
    "start_time": "2022-01-08T04:25:05.167Z"
   },
   {
    "duration": 5,
    "start_time": "2022-01-08T04:25:05.185Z"
   },
   {
    "duration": 4,
    "start_time": "2022-01-08T04:25:05.191Z"
   },
   {
    "duration": 35,
    "start_time": "2022-01-08T04:25:05.197Z"
   },
   {
    "duration": 11,
    "start_time": "2022-01-08T04:25:05.234Z"
   },
   {
    "duration": 7,
    "start_time": "2022-01-08T04:25:05.246Z"
   },
   {
    "duration": 9,
    "start_time": "2022-01-08T04:25:05.254Z"
   },
   {
    "duration": 255,
    "start_time": "2022-01-08T04:25:05.264Z"
   },
   {
    "duration": 9,
    "start_time": "2022-01-08T04:25:05.521Z"
   },
   {
    "duration": 404,
    "start_time": "2022-01-08T04:25:05.532Z"
   },
   {
    "duration": 3,
    "start_time": "2022-01-08T04:25:05.938Z"
   },
   {
    "duration": 15,
    "start_time": "2022-01-08T04:25:05.942Z"
   },
   {
    "duration": 5,
    "start_time": "2022-01-08T04:25:05.958Z"
   },
   {
    "duration": 410,
    "start_time": "2022-01-08T04:25:05.964Z"
   },
   {
    "duration": 7,
    "start_time": "2022-01-08T04:25:06.377Z"
   },
   {
    "duration": 5,
    "start_time": "2022-01-08T04:25:06.386Z"
   },
   {
    "duration": 259,
    "start_time": "2022-01-08T04:25:06.393Z"
   },
   {
    "duration": 6,
    "start_time": "2022-01-08T04:25:06.654Z"
   },
   {
    "duration": 379,
    "start_time": "2022-01-08T04:25:06.661Z"
   },
   {
    "duration": 446,
    "start_time": "2022-01-08T04:25:07.041Z"
   },
   {
    "duration": 4,
    "start_time": "2022-01-08T04:25:07.488Z"
   },
   {
    "duration": 7,
    "start_time": "2022-01-08T04:25:07.494Z"
   },
   {
    "duration": 395,
    "start_time": "2022-01-08T04:25:07.502Z"
   },
   {
    "duration": 369465,
    "start_time": "2022-01-08T04:18:58.434Z"
   },
   {
    "duration": 369406,
    "start_time": "2022-01-08T04:18:58.494Z"
   },
   {
    "duration": 369397,
    "start_time": "2022-01-08T04:18:58.503Z"
   },
   {
    "duration": 369394,
    "start_time": "2022-01-08T04:18:58.507Z"
   },
   {
    "duration": 369389,
    "start_time": "2022-01-08T04:18:58.513Z"
   },
   {
    "duration": 369385,
    "start_time": "2022-01-08T04:18:58.518Z"
   },
   {
    "duration": 369380,
    "start_time": "2022-01-08T04:18:58.524Z"
   },
   {
    "duration": 369369,
    "start_time": "2022-01-08T04:18:58.536Z"
   },
   {
    "duration": 369360,
    "start_time": "2022-01-08T04:18:58.546Z"
   },
   {
    "duration": 369356,
    "start_time": "2022-01-08T04:18:58.551Z"
   },
   {
    "duration": 369329,
    "start_time": "2022-01-08T04:18:58.579Z"
   },
   {
    "duration": 369324,
    "start_time": "2022-01-08T04:18:58.585Z"
   },
   {
    "duration": 369320,
    "start_time": "2022-01-08T04:18:58.590Z"
   },
   {
    "duration": 369312,
    "start_time": "2022-01-08T04:18:58.599Z"
   },
   {
    "duration": 369308,
    "start_time": "2022-01-08T04:18:58.604Z"
   },
   {
    "duration": 369301,
    "start_time": "2022-01-08T04:18:58.612Z"
   },
   {
    "duration": 369297,
    "start_time": "2022-01-08T04:18:58.617Z"
   },
   {
    "duration": 369293,
    "start_time": "2022-01-08T04:18:58.622Z"
   },
   {
    "duration": 369284,
    "start_time": "2022-01-08T04:18:58.632Z"
   },
   {
    "duration": 1056,
    "start_time": "2022-01-08T04:25:51.396Z"
   },
   {
    "duration": 2,
    "start_time": "2022-01-08T04:25:52.454Z"
   },
   {
    "duration": 4,
    "start_time": "2022-01-08T04:25:52.458Z"
   },
   {
    "duration": 46,
    "start_time": "2022-01-08T04:25:52.463Z"
   },
   {
    "duration": 26,
    "start_time": "2022-01-08T04:25:52.511Z"
   },
   {
    "duration": 7,
    "start_time": "2022-01-08T04:25:52.539Z"
   },
   {
    "duration": 4,
    "start_time": "2022-01-08T04:25:52.548Z"
   },
   {
    "duration": 6,
    "start_time": "2022-01-08T04:25:52.554Z"
   },
   {
    "duration": 15,
    "start_time": "2022-01-08T04:25:52.562Z"
   },
   {
    "duration": 5,
    "start_time": "2022-01-08T04:25:52.578Z"
   },
   {
    "duration": 4,
    "start_time": "2022-01-08T04:25:52.584Z"
   },
   {
    "duration": 39,
    "start_time": "2022-01-08T04:25:52.589Z"
   },
   {
    "duration": 8,
    "start_time": "2022-01-08T04:25:52.629Z"
   },
   {
    "duration": 4,
    "start_time": "2022-01-08T04:25:52.638Z"
   },
   {
    "duration": 11,
    "start_time": "2022-01-08T04:25:52.643Z"
   },
   {
    "duration": 351,
    "start_time": "2022-01-08T04:25:52.655Z"
   },
   {
    "duration": 6,
    "start_time": "2022-01-08T04:25:53.007Z"
   },
   {
    "duration": 415,
    "start_time": "2022-01-08T04:25:53.015Z"
   },
   {
    "duration": 4,
    "start_time": "2022-01-08T04:25:53.431Z"
   },
   {
    "duration": 12,
    "start_time": "2022-01-08T04:25:53.436Z"
   },
   {
    "duration": 5,
    "start_time": "2022-01-08T04:25:53.449Z"
   },
   {
    "duration": 414,
    "start_time": "2022-01-08T04:25:53.455Z"
   },
   {
    "duration": 7,
    "start_time": "2022-01-08T04:25:53.872Z"
   },
   {
    "duration": 7,
    "start_time": "2022-01-08T04:25:53.881Z"
   },
   {
    "duration": 293,
    "start_time": "2022-01-08T04:25:53.889Z"
   },
   {
    "duration": 8,
    "start_time": "2022-01-08T04:25:54.184Z"
   },
   {
    "duration": 447,
    "start_time": "2022-01-08T04:25:54.194Z"
   },
   {
    "duration": 559,
    "start_time": "2022-01-08T04:25:54.642Z"
   },
   {
    "duration": 4,
    "start_time": "2022-01-08T04:25:55.202Z"
   },
   {
    "duration": 19,
    "start_time": "2022-01-08T04:25:55.208Z"
   },
   {
    "duration": 3002,
    "start_time": "2022-01-08T04:25:55.228Z"
   },
   {
    "duration": 49,
    "start_time": "2022-01-08T04:25:58.232Z"
   },
   {
    "duration": 69,
    "start_time": "2022-01-08T04:25:58.283Z"
   },
   {
    "duration": 13,
    "start_time": "2022-01-08T04:25:58.353Z"
   },
   {
    "duration": 273,
    "start_time": "2022-01-08T04:25:58.367Z"
   },
   {
    "duration": 7,
    "start_time": "2022-01-08T04:25:58.642Z"
   },
   {
    "duration": 512,
    "start_time": "2022-01-08T04:25:58.650Z"
   },
   {
    "duration": 451,
    "start_time": "2022-01-08T04:25:59.163Z"
   },
   {
    "duration": 453,
    "start_time": "2022-01-08T04:25:59.615Z"
   },
   {
    "duration": 444,
    "start_time": "2022-01-08T04:26:00.069Z"
   },
   {
    "duration": 458,
    "start_time": "2022-01-08T04:26:00.515Z"
   },
   {
    "duration": 456,
    "start_time": "2022-01-08T04:26:00.975Z"
   },
   {
    "duration": 7,
    "start_time": "2022-01-08T04:26:01.432Z"
   },
   {
    "duration": 7,
    "start_time": "2022-01-08T04:26:01.441Z"
   },
   {
    "duration": 6,
    "start_time": "2022-01-08T04:26:01.449Z"
   },
   {
    "duration": 7,
    "start_time": "2022-01-08T04:26:01.456Z"
   },
   {
    "duration": 10,
    "start_time": "2022-01-08T04:26:01.464Z"
   },
   {
    "duration": 4,
    "start_time": "2022-01-08T04:26:01.476Z"
   },
   {
    "duration": 4,
    "start_time": "2022-01-08T04:26:01.482Z"
   },
   {
    "duration": 110,
    "start_time": "2022-01-08T04:26:01.487Z"
   },
   {
    "duration": 17,
    "start_time": "2022-01-08T09:43:39.503Z"
   },
   {
    "duration": 7,
    "start_time": "2022-01-08T09:43:39.522Z"
   },
   {
    "duration": 6,
    "start_time": "2022-01-08T09:43:39.532Z"
   },
   {
    "duration": 77,
    "start_time": "2022-01-08T09:43:39.541Z"
   },
   {
    "duration": 61,
    "start_time": "2022-01-08T09:43:39.622Z"
   },
   {
    "duration": 45,
    "start_time": "2022-01-08T09:43:39.687Z"
   },
   {
    "duration": 8,
    "start_time": "2022-01-08T09:43:39.735Z"
   },
   {
    "duration": 8,
    "start_time": "2022-01-08T09:43:39.745Z"
   },
   {
    "duration": 69,
    "start_time": "2022-01-08T09:43:39.755Z"
   },
   {
    "duration": 10,
    "start_time": "2022-01-08T09:43:39.826Z"
   },
   {
    "duration": 6,
    "start_time": "2022-01-08T09:43:39.838Z"
   },
   {
    "duration": 18,
    "start_time": "2022-01-08T09:43:39.846Z"
   },
   {
    "duration": 56,
    "start_time": "2022-01-08T09:43:39.867Z"
   },
   {
    "duration": 8,
    "start_time": "2022-01-08T09:43:39.926Z"
   },
   {
    "duration": 27,
    "start_time": "2022-01-08T09:43:39.937Z"
   },
   {
    "duration": 638,
    "start_time": "2022-01-08T09:43:39.967Z"
   },
   {
    "duration": 19,
    "start_time": "2022-01-08T09:43:40.608Z"
   },
   {
    "duration": 1386,
    "start_time": "2022-01-08T09:43:40.641Z"
   },
   {
    "duration": 6,
    "start_time": "2022-01-08T09:43:42.032Z"
   },
   {
    "duration": 33,
    "start_time": "2022-01-08T09:43:42.041Z"
   },
   {
    "duration": 40,
    "start_time": "2022-01-08T09:43:42.078Z"
   },
   {
    "duration": 773,
    "start_time": "2022-01-08T09:43:42.122Z"
   },
   {
    "duration": 20,
    "start_time": "2022-01-08T09:43:42.897Z"
   },
   {
    "duration": 13,
    "start_time": "2022-01-08T09:43:42.920Z"
   },
   {
    "duration": 708,
    "start_time": "2022-01-08T09:43:42.935Z"
   },
   {
    "duration": 13,
    "start_time": "2022-01-08T09:43:43.647Z"
   },
   {
    "duration": 706,
    "start_time": "2022-01-08T09:43:43.663Z"
   },
   {
    "duration": 1061,
    "start_time": "2022-01-08T09:43:44.372Z"
   },
   {
    "duration": 7,
    "start_time": "2022-01-08T09:43:45.437Z"
   },
   {
    "duration": 20,
    "start_time": "2022-01-08T09:43:45.448Z"
   },
   {
    "duration": 7333,
    "start_time": "2022-01-08T09:43:45.471Z"
   },
   {
    "duration": 99,
    "start_time": "2022-01-08T09:43:52.818Z"
   },
   {
    "duration": 110,
    "start_time": "2022-01-08T09:43:52.919Z"
   },
   {
    "duration": 24,
    "start_time": "2022-01-08T09:43:53.031Z"
   },
   {
    "duration": 516,
    "start_time": "2022-01-08T09:43:53.057Z"
   },
   {
    "duration": 11,
    "start_time": "2022-01-08T09:43:53.575Z"
   },
   {
    "duration": 845,
    "start_time": "2022-01-08T09:43:53.589Z"
   },
   {
    "duration": 837,
    "start_time": "2022-01-08T09:43:54.436Z"
   },
   {
    "duration": 986,
    "start_time": "2022-01-08T09:43:55.276Z"
   },
   {
    "duration": 926,
    "start_time": "2022-01-08T09:43:56.264Z"
   },
   {
    "duration": 876,
    "start_time": "2022-01-08T09:43:57.192Z"
   },
   {
    "duration": 832,
    "start_time": "2022-01-08T09:43:58.070Z"
   },
   {
    "duration": 25,
    "start_time": "2022-01-08T09:43:58.904Z"
   },
   {
    "duration": 7,
    "start_time": "2022-01-08T09:43:58.932Z"
   },
   {
    "duration": 7,
    "start_time": "2022-01-08T09:43:58.941Z"
   },
   {
    "duration": 10,
    "start_time": "2022-01-08T09:43:58.951Z"
   },
   {
    "duration": 13,
    "start_time": "2022-01-08T09:43:58.963Z"
   },
   {
    "duration": 43,
    "start_time": "2022-01-08T09:43:58.978Z"
   },
   {
    "duration": 6,
    "start_time": "2022-01-08T09:43:59.024Z"
   },
   {
    "duration": 9,
    "start_time": "2022-01-08T09:43:59.032Z"
   },
   {
    "duration": 197,
    "start_time": "2022-01-08T09:49:06.247Z"
   },
   {
    "duration": 1576,
    "start_time": "2022-01-10T05:42:23.274Z"
   },
   {
    "duration": 3,
    "start_time": "2022-01-10T05:42:24.853Z"
   },
   {
    "duration": 12,
    "start_time": "2022-01-10T05:42:24.859Z"
   },
   {
    "duration": 74,
    "start_time": "2022-01-10T05:42:24.873Z"
   },
   {
    "duration": 42,
    "start_time": "2022-01-10T05:42:24.949Z"
   },
   {
    "duration": 14,
    "start_time": "2022-01-10T05:42:24.993Z"
   },
   {
    "duration": 7,
    "start_time": "2022-01-10T05:42:25.009Z"
   },
   {
    "duration": 8,
    "start_time": "2022-01-10T05:42:25.020Z"
   },
   {
    "duration": 34,
    "start_time": "2022-01-10T05:42:25.067Z"
   },
   {
    "duration": 13,
    "start_time": "2022-01-10T05:42:25.104Z"
   },
   {
    "duration": 15,
    "start_time": "2022-01-10T05:42:25.119Z"
   },
   {
    "duration": 41,
    "start_time": "2022-01-10T05:42:25.137Z"
   },
   {
    "duration": 20,
    "start_time": "2022-01-10T05:42:25.181Z"
   },
   {
    "duration": 11,
    "start_time": "2022-01-10T05:42:25.204Z"
   },
   {
    "duration": 21,
    "start_time": "2022-01-10T05:42:25.217Z"
   },
   {
    "duration": 474,
    "start_time": "2022-01-10T05:42:25.269Z"
   },
   {
    "duration": 26,
    "start_time": "2022-01-10T05:42:25.747Z"
   },
   {
    "duration": 837,
    "start_time": "2022-01-10T05:42:25.776Z"
   },
   {
    "duration": 5,
    "start_time": "2022-01-10T05:42:26.616Z"
   },
   {
    "duration": 31,
    "start_time": "2022-01-10T05:42:26.623Z"
   },
   {
    "duration": 18,
    "start_time": "2022-01-10T05:42:26.656Z"
   },
   {
    "duration": 828,
    "start_time": "2022-01-10T05:42:26.676Z"
   },
   {
    "duration": 11,
    "start_time": "2022-01-10T05:42:27.509Z"
   },
   {
    "duration": 14,
    "start_time": "2022-01-10T05:42:27.523Z"
   },
   {
    "duration": 610,
    "start_time": "2022-01-10T05:42:27.540Z"
   },
   {
    "duration": 18,
    "start_time": "2022-01-10T05:42:28.153Z"
   },
   {
    "duration": 695,
    "start_time": "2022-01-10T05:42:28.174Z"
   },
   {
    "duration": 827,
    "start_time": "2022-01-10T05:42:28.872Z"
   },
   {
    "duration": 7,
    "start_time": "2022-01-10T05:42:29.702Z"
   },
   {
    "duration": 18,
    "start_time": "2022-01-10T05:42:29.711Z"
   },
   {
    "duration": 5858,
    "start_time": "2022-01-10T05:42:29.731Z"
   },
   {
    "duration": 112,
    "start_time": "2022-01-10T05:42:35.591Z"
   },
   {
    "duration": 110,
    "start_time": "2022-01-10T05:42:35.705Z"
   },
   {
    "duration": 25,
    "start_time": "2022-01-10T05:42:35.817Z"
   },
   {
    "duration": 550,
    "start_time": "2022-01-10T05:42:35.868Z"
   },
   {
    "duration": 12,
    "start_time": "2022-01-10T05:42:36.420Z"
   },
   {
    "duration": 1016,
    "start_time": "2022-01-10T05:42:36.435Z"
   },
   {
    "duration": 916,
    "start_time": "2022-01-10T05:42:37.453Z"
   },
   {
    "duration": 918,
    "start_time": "2022-01-10T05:42:38.371Z"
   },
   {
    "duration": 919,
    "start_time": "2022-01-10T05:42:39.291Z"
   },
   {
    "duration": 945,
    "start_time": "2022-01-10T05:42:40.213Z"
   },
   {
    "duration": 890,
    "start_time": "2022-01-10T05:42:41.161Z"
   },
   {
    "duration": 22,
    "start_time": "2022-01-10T05:42:42.054Z"
   },
   {
    "duration": 7,
    "start_time": "2022-01-10T05:42:42.078Z"
   },
   {
    "duration": 8,
    "start_time": "2022-01-10T05:42:42.087Z"
   },
   {
    "duration": 11,
    "start_time": "2022-01-10T05:42:42.097Z"
   },
   {
    "duration": 56,
    "start_time": "2022-01-10T05:42:42.111Z"
   },
   {
    "duration": 8,
    "start_time": "2022-01-10T05:42:42.170Z"
   },
   {
    "duration": 11,
    "start_time": "2022-01-10T05:42:42.181Z"
   },
   {
    "duration": 154,
    "start_time": "2022-01-10T05:42:42.195Z"
   },
   {
    "duration": 32,
    "start_time": "2022-01-10T05:44:53.926Z"
   },
   {
    "duration": 7,
    "start_time": "2022-01-10T05:45:25.419Z"
   },
   {
    "duration": 447,
    "start_time": "2022-01-10T05:53:18.976Z"
   },
   {
    "duration": 12,
    "start_time": "2022-01-10T05:53:19.793Z"
   },
   {
    "duration": 289,
    "start_time": "2022-01-10T05:53:26.849Z"
   },
   {
    "duration": 9,
    "start_time": "2022-01-10T05:53:33.128Z"
   },
   {
    "duration": 12,
    "start_time": "2022-01-10T05:53:34.320Z"
   },
   {
    "duration": 9,
    "start_time": "2022-01-10T05:53:36.564Z"
   },
   {
    "duration": 12,
    "start_time": "2022-01-10T05:53:37.149Z"
   },
   {
    "duration": 482,
    "start_time": "2022-01-10T05:53:51.427Z"
   },
   {
    "duration": 10,
    "start_time": "2022-01-10T05:54:25.710Z"
   },
   {
    "duration": 10,
    "start_time": "2022-01-10T05:54:38.892Z"
   },
   {
    "duration": 31,
    "start_time": "2022-01-10T05:55:09.428Z"
   },
   {
    "duration": 668,
    "start_time": "2022-01-10T05:57:32.057Z"
   },
   {
    "duration": 671,
    "start_time": "2022-01-10T05:57:45.884Z"
   },
   {
    "duration": 6,
    "start_time": "2022-01-10T05:58:02.597Z"
   },
   {
    "duration": 13,
    "start_time": "2022-01-10T05:58:39.131Z"
   },
   {
    "duration": 5587,
    "start_time": "2022-01-10T05:58:41.167Z"
   },
   {
    "duration": 82,
    "start_time": "2022-01-10T05:58:56.793Z"
   },
   {
    "duration": 83,
    "start_time": "2022-01-10T05:59:18.707Z"
   },
   {
    "duration": 25,
    "start_time": "2022-01-10T06:01:33.917Z"
   },
   {
    "duration": 25,
    "start_time": "2022-01-10T06:01:52.607Z"
   },
   {
    "duration": 509,
    "start_time": "2022-01-10T06:01:59.888Z"
   },
   {
    "duration": 12,
    "start_time": "2022-01-10T06:02:50.888Z"
   },
   {
    "duration": 957,
    "start_time": "2022-01-10T06:02:58.774Z"
   },
   {
    "duration": 874,
    "start_time": "2022-01-10T06:03:08.279Z"
   },
   {
    "duration": 892,
    "start_time": "2022-01-10T06:03:14.675Z"
   },
   {
    "duration": 922,
    "start_time": "2022-01-10T06:03:19.448Z"
   },
   {
    "duration": 1419,
    "start_time": "2022-01-10T06:05:25.320Z"
   },
   {
    "duration": 3,
    "start_time": "2022-01-10T06:05:26.742Z"
   },
   {
    "duration": 5,
    "start_time": "2022-01-10T06:05:26.748Z"
   },
   {
    "duration": 68,
    "start_time": "2022-01-10T06:05:26.767Z"
   },
   {
    "duration": 46,
    "start_time": "2022-01-10T06:05:26.837Z"
   },
   {
    "duration": 14,
    "start_time": "2022-01-10T06:05:26.885Z"
   },
   {
    "duration": 7,
    "start_time": "2022-01-10T06:05:26.901Z"
   },
   {
    "duration": 12,
    "start_time": "2022-01-10T06:05:26.910Z"
   },
   {
    "duration": 63,
    "start_time": "2022-01-10T06:05:26.926Z"
   },
   {
    "duration": 8,
    "start_time": "2022-01-10T06:05:26.992Z"
   },
   {
    "duration": 9,
    "start_time": "2022-01-10T06:05:27.003Z"
   },
   {
    "duration": 17,
    "start_time": "2022-01-10T06:05:27.015Z"
   },
   {
    "duration": 40,
    "start_time": "2022-01-10T06:05:27.035Z"
   },
   {
    "duration": 7,
    "start_time": "2022-01-10T06:05:27.078Z"
   },
   {
    "duration": 21,
    "start_time": "2022-01-10T06:05:27.087Z"
   },
   {
    "duration": 484,
    "start_time": "2022-01-10T06:05:27.111Z"
   },
   {
    "duration": 12,
    "start_time": "2022-01-10T06:05:27.598Z"
   },
   {
    "duration": 857,
    "start_time": "2022-01-10T06:05:27.613Z"
   },
   {
    "duration": 5,
    "start_time": "2022-01-10T06:05:28.473Z"
   },
   {
    "duration": 22,
    "start_time": "2022-01-10T06:05:28.481Z"
   },
   {
    "duration": 10,
    "start_time": "2022-01-10T06:05:28.505Z"
   },
   {
    "duration": 812,
    "start_time": "2022-01-10T06:05:28.518Z"
   },
   {
    "duration": 46,
    "start_time": "2022-01-10T06:05:29.332Z"
   },
   {
    "duration": 7,
    "start_time": "2022-01-10T06:05:29.380Z"
   },
   {
    "duration": 10,
    "start_time": "2022-01-10T06:05:29.389Z"
   },
   {
    "duration": 14,
    "start_time": "2022-01-10T06:05:29.402Z"
   },
   {
    "duration": 67,
    "start_time": "2022-01-10T06:05:29.421Z"
   },
   {
    "duration": 521,
    "start_time": "2022-01-10T06:05:29.492Z"
   },
   {
    "duration": 9,
    "start_time": "2022-01-10T06:05:30.015Z"
   },
   {
    "duration": 684,
    "start_time": "2022-01-10T06:05:30.027Z"
   },
   {
    "duration": 747,
    "start_time": "2022-01-10T06:05:30.714Z"
   },
   {
    "duration": 5,
    "start_time": "2022-01-10T06:05:31.467Z"
   },
   {
    "duration": 14,
    "start_time": "2022-01-10T06:05:31.475Z"
   },
   {
    "duration": 6161,
    "start_time": "2022-01-10T06:05:31.491Z"
   },
   {
    "duration": 119,
    "start_time": "2022-01-10T06:05:37.655Z"
   },
   {
    "duration": 107,
    "start_time": "2022-01-10T06:05:37.776Z"
   },
   {
    "duration": 24,
    "start_time": "2022-01-10T06:05:37.885Z"
   },
   {
    "duration": 548,
    "start_time": "2022-01-10T06:05:37.911Z"
   },
   {
    "duration": 12,
    "start_time": "2022-01-10T06:05:38.462Z"
   },
   {
    "duration": 1006,
    "start_time": "2022-01-10T06:05:38.477Z"
   },
   {
    "duration": 890,
    "start_time": "2022-01-10T06:05:39.485Z"
   },
   {
    "duration": 904,
    "start_time": "2022-01-10T06:05:40.377Z"
   },
   {
    "duration": 906,
    "start_time": "2022-01-10T06:05:41.284Z"
   },
   {
    "duration": 931,
    "start_time": "2022-01-10T06:05:42.193Z"
   },
   {
    "duration": 860,
    "start_time": "2022-01-10T06:05:43.127Z"
   },
   {
    "duration": 12,
    "start_time": "2022-01-10T06:05:43.990Z"
   },
   {
    "duration": 7,
    "start_time": "2022-01-10T06:05:44.004Z"
   },
   {
    "duration": 6,
    "start_time": "2022-01-10T06:05:44.014Z"
   },
   {
    "duration": 48,
    "start_time": "2022-01-10T06:05:44.022Z"
   },
   {
    "duration": 19,
    "start_time": "2022-01-10T06:05:44.073Z"
   },
   {
    "duration": 8,
    "start_time": "2022-01-10T06:05:44.095Z"
   },
   {
    "duration": 7,
    "start_time": "2022-01-10T06:05:44.106Z"
   },
   {
    "duration": 154,
    "start_time": "2022-01-10T06:05:44.116Z"
   },
   {
    "duration": 13,
    "start_time": "2022-01-10T06:21:40.845Z"
   },
   {
    "duration": 10,
    "start_time": "2022-01-10T06:21:52.252Z"
   },
   {
    "duration": 10,
    "start_time": "2022-01-10T06:22:03.301Z"
   },
   {
    "duration": 10,
    "start_time": "2022-01-10T06:22:13.964Z"
   },
   {
    "duration": 1664,
    "start_time": "2022-01-10T16:45:06.296Z"
   },
   {
    "duration": 5,
    "start_time": "2022-01-10T16:45:07.962Z"
   },
   {
    "duration": 319,
    "start_time": "2022-01-10T16:45:07.971Z"
   },
   {
    "duration": 405,
    "start_time": "2022-01-10T16:45:08.293Z"
   },
   {
    "duration": 296,
    "start_time": "2022-01-10T16:45:08.700Z"
   },
   {
    "duration": 250,
    "start_time": "2022-01-10T16:45:08.998Z"
   },
   {
    "duration": 274,
    "start_time": "2022-01-10T16:45:09.251Z"
   },
   {
    "duration": 314,
    "start_time": "2022-01-10T16:45:09.529Z"
   },
   {
    "duration": 295,
    "start_time": "2022-01-10T16:45:09.846Z"
   },
   {
    "duration": 186,
    "start_time": "2022-01-10T16:45:10.143Z"
   },
   {
    "duration": 238,
    "start_time": "2022-01-10T16:45:10.332Z"
   },
   {
    "duration": 218,
    "start_time": "2022-01-10T16:45:10.573Z"
   },
   {
    "duration": 221,
    "start_time": "2022-01-10T16:45:10.793Z"
   },
   {
    "duration": 251,
    "start_time": "2022-01-10T16:45:11.017Z"
   },
   {
    "duration": 192,
    "start_time": "2022-01-10T16:45:11.271Z"
   },
   {
    "duration": 726,
    "start_time": "2022-01-10T16:45:11.465Z"
   },
   {
    "duration": 11,
    "start_time": "2022-01-10T16:45:12.193Z"
   },
   {
    "duration": 1685,
    "start_time": "2022-01-10T16:45:12.206Z"
   },
   {
    "duration": 5,
    "start_time": "2022-01-10T16:45:13.893Z"
   },
   {
    "duration": 213,
    "start_time": "2022-01-10T16:45:13.900Z"
   },
   {
    "duration": 189,
    "start_time": "2022-01-10T16:45:14.116Z"
   },
   {
    "duration": 1581,
    "start_time": "2022-01-10T16:45:14.308Z"
   },
   {
    "duration": 72,
    "start_time": "2022-01-10T16:45:15.895Z"
   },
   {
    "duration": 129,
    "start_time": "2022-01-10T16:45:15.971Z"
   },
   {
    "duration": 183,
    "start_time": "2022-01-10T16:45:16.102Z"
   },
   {
    "duration": 249,
    "start_time": "2022-01-10T16:45:16.287Z"
   },
   {
    "duration": 175,
    "start_time": "2022-01-10T16:45:16.539Z"
   },
   {
    "duration": 1064,
    "start_time": "2022-01-10T16:45:16.717Z"
   },
   {
    "duration": 9,
    "start_time": "2022-01-10T16:45:17.784Z"
   },
   {
    "duration": 2689,
    "start_time": "2022-01-10T16:45:17.796Z"
   },
   {
    "duration": 944,
    "start_time": "2022-01-10T16:45:20.487Z"
   },
   {
    "duration": 2320,
    "start_time": "2022-01-10T16:45:21.434Z"
   },
   {
    "duration": 224,
    "start_time": "2022-01-10T16:45:23.768Z"
   },
   {
    "duration": 11884,
    "start_time": "2022-01-10T16:45:23.996Z"
   },
   {
    "duration": 197,
    "start_time": "2022-01-10T16:45:35.882Z"
   },
   {
    "duration": 204,
    "start_time": "2022-01-10T16:45:36.082Z"
   },
   {
    "duration": 180,
    "start_time": "2022-01-10T16:45:36.289Z"
   },
   {
    "duration": 1133,
    "start_time": "2022-01-10T16:45:36.472Z"
   },
   {
    "duration": 66,
    "start_time": "2022-01-10T16:45:37.608Z"
   },
   {
    "duration": 2200,
    "start_time": "2022-01-10T16:45:37.677Z"
   },
   {
    "duration": 1888,
    "start_time": "2022-01-10T16:45:39.879Z"
   },
   {
    "duration": 1721,
    "start_time": "2022-01-10T16:45:41.770Z"
   },
   {
    "duration": 2473,
    "start_time": "2022-01-10T16:45:43.494Z"
   },
   {
    "duration": 2915,
    "start_time": "2022-01-10T16:45:45.970Z"
   },
   {
    "duration": 1880,
    "start_time": "2022-01-10T16:45:48.887Z"
   },
   {
    "duration": 13,
    "start_time": "2022-01-10T16:45:50.770Z"
   },
   {
    "duration": 191,
    "start_time": "2022-01-10T16:45:50.785Z"
   },
   {
    "duration": 212,
    "start_time": "2022-01-10T16:45:50.979Z"
   },
   {
    "duration": 214,
    "start_time": "2022-01-10T16:45:51.193Z"
   },
   {
    "duration": 381,
    "start_time": "2022-01-10T16:45:51.410Z"
   },
   {
    "duration": 335,
    "start_time": "2022-01-10T16:45:51.794Z"
   },
   {
    "duration": 301,
    "start_time": "2022-01-10T16:45:52.133Z"
   },
   {
    "duration": 381,
    "start_time": "2022-01-10T16:45:52.438Z"
   },
   {
    "duration": 29,
    "start_time": "2022-01-10T16:48:15.562Z"
   },
   {
    "duration": 31,
    "start_time": "2022-01-10T16:48:29.431Z"
   },
   {
    "duration": 120,
    "start_time": "2022-01-10T16:50:47.425Z"
   },
   {
    "duration": 1291,
    "start_time": "2022-03-24T10:19:23.928Z"
   },
   {
    "duration": 3,
    "start_time": "2022-03-24T10:19:25.221Z"
   },
   {
    "duration": 12,
    "start_time": "2022-03-24T10:19:25.226Z"
   },
   {
    "duration": 61,
    "start_time": "2022-03-24T10:19:25.240Z"
   },
   {
    "duration": 27,
    "start_time": "2022-03-24T10:19:25.303Z"
   },
   {
    "duration": 20,
    "start_time": "2022-03-24T10:19:25.331Z"
   },
   {
    "duration": 7,
    "start_time": "2022-03-24T10:19:25.353Z"
   },
   {
    "duration": 16,
    "start_time": "2022-03-24T10:19:25.361Z"
   },
   {
    "duration": 31,
    "start_time": "2022-03-24T10:19:25.379Z"
   },
   {
    "duration": 21,
    "start_time": "2022-03-24T10:19:25.412Z"
   },
   {
    "duration": 10,
    "start_time": "2022-03-24T10:19:25.434Z"
   },
   {
    "duration": 17,
    "start_time": "2022-03-24T10:19:25.446Z"
   },
   {
    "duration": 16,
    "start_time": "2022-03-24T10:19:25.466Z"
   },
   {
    "duration": 5,
    "start_time": "2022-03-24T10:19:25.486Z"
   },
   {
    "duration": 22,
    "start_time": "2022-03-24T10:19:25.493Z"
   },
   {
    "duration": 226,
    "start_time": "2022-03-24T10:19:25.517Z"
   },
   {
    "duration": 7,
    "start_time": "2022-03-24T10:19:25.745Z"
   },
   {
    "duration": 398,
    "start_time": "2022-03-24T10:19:25.754Z"
   },
   {
    "duration": 4,
    "start_time": "2022-03-24T10:19:26.154Z"
   },
   {
    "duration": 18,
    "start_time": "2022-03-24T10:19:26.161Z"
   },
   {
    "duration": 8,
    "start_time": "2022-03-24T10:19:26.181Z"
   },
   {
    "duration": 365,
    "start_time": "2022-03-24T10:19:26.191Z"
   },
   {
    "duration": 19,
    "start_time": "2022-03-24T10:19:26.558Z"
   },
   {
    "duration": 5,
    "start_time": "2022-03-24T10:19:26.579Z"
   },
   {
    "duration": 9,
    "start_time": "2022-03-24T10:19:26.586Z"
   },
   {
    "duration": 36,
    "start_time": "2022-03-24T10:19:26.597Z"
   },
   {
    "duration": 27,
    "start_time": "2022-03-24T10:19:26.639Z"
   },
   {
    "duration": 305,
    "start_time": "2022-03-24T10:19:26.668Z"
   },
   {
    "duration": 9,
    "start_time": "2022-03-24T10:19:26.975Z"
   },
   {
    "duration": 209,
    "start_time": "2022-03-24T10:19:26.985Z"
   },
   {
    "duration": 211,
    "start_time": "2022-03-24T10:19:27.196Z"
   },
   {
    "duration": 5,
    "start_time": "2022-03-24T10:19:27.408Z"
   },
   {
    "duration": 90,
    "start_time": "2022-03-24T10:19:27.414Z"
   },
   {
    "duration": 1893,
    "start_time": "2022-03-24T10:19:27.506Z"
   },
   {
    "duration": 73,
    "start_time": "2022-03-24T10:19:29.401Z"
   },
   {
    "duration": 80,
    "start_time": "2022-03-24T10:19:29.475Z"
   },
   {
    "duration": 13,
    "start_time": "2022-03-24T10:19:29.557Z"
   },
   {
    "duration": 226,
    "start_time": "2022-03-24T10:19:29.572Z"
   },
   {
    "duration": 7,
    "start_time": "2022-03-24T10:19:29.800Z"
   },
   {
    "duration": 388,
    "start_time": "2022-03-24T10:19:29.809Z"
   },
   {
    "duration": 392,
    "start_time": "2022-03-24T10:19:30.201Z"
   },
   {
    "duration": 508,
    "start_time": "2022-03-24T10:19:30.595Z"
   },
   {
    "duration": 405,
    "start_time": "2022-03-24T10:19:31.105Z"
   },
   {
    "duration": 416,
    "start_time": "2022-03-24T10:19:31.511Z"
   },
   {
    "duration": 387,
    "start_time": "2022-03-24T10:19:31.933Z"
   },
   {
    "duration": 14,
    "start_time": "2022-03-24T10:19:32.322Z"
   },
   {
    "duration": 22,
    "start_time": "2022-03-24T10:19:32.340Z"
   },
   {
    "duration": 14,
    "start_time": "2022-03-24T10:19:32.364Z"
   },
   {
    "duration": 11,
    "start_time": "2022-03-24T10:19:32.380Z"
   },
   {
    "duration": 14,
    "start_time": "2022-03-24T10:19:32.393Z"
   },
   {
    "duration": 5,
    "start_time": "2022-03-24T10:19:32.409Z"
   },
   {
    "duration": 27,
    "start_time": "2022-03-24T10:19:32.415Z"
   },
   {
    "duration": 20,
    "start_time": "2022-03-24T10:19:32.444Z"
   },
   {
    "duration": 233,
    "start_time": "2022-03-24T10:19:54.425Z"
   },
   {
    "duration": 392,
    "start_time": "2022-03-24T10:20:08.807Z"
   },
   {
    "duration": 280,
    "start_time": "2022-03-24T10:20:37.656Z"
   },
   {
    "duration": 279,
    "start_time": "2022-03-24T10:20:51.159Z"
   },
   {
    "duration": 195,
    "start_time": "2022-03-24T10:21:00.248Z"
   },
   {
    "duration": 292,
    "start_time": "2022-03-24T10:21:39.590Z"
   },
   {
    "duration": 206,
    "start_time": "2022-03-24T10:21:59.783Z"
   },
   {
    "duration": 1401,
    "start_time": "2022-03-24T10:22:40.178Z"
   },
   {
    "duration": 3,
    "start_time": "2022-03-24T10:22:41.582Z"
   },
   {
    "duration": 10,
    "start_time": "2022-03-24T10:22:41.587Z"
   },
   {
    "duration": 60,
    "start_time": "2022-03-24T10:22:41.600Z"
   },
   {
    "duration": 25,
    "start_time": "2022-03-24T10:22:41.662Z"
   },
   {
    "duration": 15,
    "start_time": "2022-03-24T10:22:41.688Z"
   },
   {
    "duration": 30,
    "start_time": "2022-03-24T10:22:41.704Z"
   },
   {
    "duration": 9,
    "start_time": "2022-03-24T10:22:41.737Z"
   },
   {
    "duration": 21,
    "start_time": "2022-03-24T10:22:41.748Z"
   },
   {
    "duration": 6,
    "start_time": "2022-03-24T10:22:41.773Z"
   },
   {
    "duration": 9,
    "start_time": "2022-03-24T10:22:41.780Z"
   },
   {
    "duration": 16,
    "start_time": "2022-03-24T10:22:41.790Z"
   },
   {
    "duration": 35,
    "start_time": "2022-03-24T10:22:41.808Z"
   },
   {
    "duration": 6,
    "start_time": "2022-03-24T10:22:41.848Z"
   },
   {
    "duration": 16,
    "start_time": "2022-03-24T10:22:41.855Z"
   },
   {
    "duration": 283,
    "start_time": "2022-03-24T10:22:41.873Z"
   },
   {
    "duration": 6,
    "start_time": "2022-03-24T10:22:42.158Z"
   },
   {
    "duration": 357,
    "start_time": "2022-03-24T10:22:42.166Z"
   },
   {
    "duration": 4,
    "start_time": "2022-03-24T10:22:42.532Z"
   },
   {
    "duration": 27,
    "start_time": "2022-03-24T10:22:42.537Z"
   },
   {
    "duration": 6,
    "start_time": "2022-03-24T10:22:42.566Z"
   },
   {
    "duration": 316,
    "start_time": "2022-03-24T10:22:42.573Z"
   },
   {
    "duration": 17,
    "start_time": "2022-03-24T10:22:42.891Z"
   },
   {
    "duration": 5,
    "start_time": "2022-03-24T10:22:42.909Z"
   },
   {
    "duration": 8,
    "start_time": "2022-03-24T10:22:42.933Z"
   },
   {
    "duration": 24,
    "start_time": "2022-03-24T10:22:42.944Z"
   },
   {
    "duration": 26,
    "start_time": "2022-03-24T10:22:42.969Z"
   },
   {
    "duration": 207,
    "start_time": "2022-03-24T10:22:42.999Z"
   },
   {
    "duration": 6,
    "start_time": "2022-03-24T10:22:43.208Z"
   },
   {
    "duration": 200,
    "start_time": "2022-03-24T10:22:43.216Z"
   },
   {
    "duration": 277,
    "start_time": "2022-03-24T10:22:43.418Z"
   },
   {
    "duration": 4,
    "start_time": "2022-03-24T10:22:43.697Z"
   },
   {
    "duration": 96,
    "start_time": "2022-03-24T10:22:43.703Z"
   },
   {
    "duration": 1616,
    "start_time": "2022-03-24T10:22:43.801Z"
   },
   {
    "duration": 67,
    "start_time": "2022-03-24T10:22:45.419Z"
   },
   {
    "duration": 75,
    "start_time": "2022-03-24T10:22:45.487Z"
   },
   {
    "duration": 15,
    "start_time": "2022-03-24T10:22:45.564Z"
   },
   {
    "duration": 225,
    "start_time": "2022-03-24T10:22:45.580Z"
   },
   {
    "duration": 8,
    "start_time": "2022-03-24T10:22:45.807Z"
   },
   {
    "duration": 392,
    "start_time": "2022-03-24T10:22:45.816Z"
   },
   {
    "duration": 413,
    "start_time": "2022-03-24T10:22:46.210Z"
   },
   {
    "duration": 631,
    "start_time": "2022-03-24T10:22:46.632Z"
   },
   {
    "duration": 486,
    "start_time": "2022-03-24T10:22:47.266Z"
   },
   {
    "duration": 426,
    "start_time": "2022-03-24T10:22:47.754Z"
   },
   {
    "duration": 389,
    "start_time": "2022-03-24T10:22:48.181Z"
   },
   {
    "duration": 9,
    "start_time": "2022-03-24T10:22:48.572Z"
   },
   {
    "duration": 16,
    "start_time": "2022-03-24T10:22:48.582Z"
   },
   {
    "duration": 9,
    "start_time": "2022-03-24T10:22:48.600Z"
   },
   {
    "duration": 10,
    "start_time": "2022-03-24T10:22:48.611Z"
   },
   {
    "duration": 25,
    "start_time": "2022-03-24T10:22:48.632Z"
   },
   {
    "duration": 8,
    "start_time": "2022-03-24T10:22:48.659Z"
   },
   {
    "duration": 19,
    "start_time": "2022-03-24T10:22:48.669Z"
   },
   {
    "duration": 10,
    "start_time": "2022-03-24T10:22:48.690Z"
   }
  ],
  "kernelspec": {
   "display_name": "Python 3 (ipykernel)",
   "language": "python",
   "name": "python3"
  },
  "language_info": {
   "codemirror_mode": {
    "name": "ipython",
    "version": 3
   },
   "file_extension": ".py",
   "mimetype": "text/x-python",
   "name": "python",
   "nbconvert_exporter": "python",
   "pygments_lexer": "ipython3",
   "version": "3.9.7"
  },
  "toc": {
   "base_numbering": 1,
   "nav_menu": {},
   "number_sections": true,
   "sideBar": true,
   "skip_h1_title": true,
   "title_cell": "Table of Contents",
   "title_sidebar": "Contents",
   "toc_cell": false,
   "toc_position": {},
   "toc_section_display": true,
   "toc_window_display": true
  }
 },
 "nbformat": 4,
 "nbformat_minor": 2
}
