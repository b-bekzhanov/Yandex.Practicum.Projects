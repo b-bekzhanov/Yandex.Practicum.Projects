{
 "cells": [
  {
   "cell_type": "markdown",
   "metadata": {},
   "source": [
    "# Исследование надёжности заёмщиков\n",
    "\n",
    "Заказчик — кредитный отдел банка. Нужно разобраться, влияет ли семейное положение и количество детей клиента на факт погашения кредита в срок. Входные данные от банка — статистика о платёжеспособности клиентов.\n",
    "\n",
    "Результаты исследования будут учтены при построении модели **кредитного скоринга** — специальной системы, которая оценивает способность потенциального заёмщика вернуть кредит банку."
   ]
  },
  {
   "cell_type": "markdown",
   "metadata": {},
   "source": [
    "## Шаг 1. Откройте файл с данными и изучите общую информацию"
   ]
  },
  {
   "cell_type": "code",
   "execution_count": 1,
   "metadata": {},
   "outputs": [],
   "source": [
    "import pandas as pd\n",
    "from pymystem3 import Mystem\n",
    "from collections import Counter"
   ]
  },
  {
   "cell_type": "code",
   "execution_count": 2,
   "metadata": {},
   "outputs": [],
   "source": [
    "pd.set_option('display.max_columns', None)\n",
    "pd.options.display.float_format = '{:,.2f}'.format"
   ]
  },
  {
   "cell_type": "markdown",
   "metadata": {},
   "source": [
    "Импортировал необходимые для исследования библиотеки."
   ]
  },
  {
   "cell_type": "code",
   "execution_count": 3,
   "metadata": {},
   "outputs": [],
   "source": [
    "clients_data = pd.read_csv('/datasets/data.csv')"
   ]
  },
  {
   "cell_type": "markdown",
   "metadata": {},
   "source": [
    "Прочитал файл data.csv из папки /datasets и сохранил его в переменной clients_data.\n",
    "Сразу вывел первые 15 строк из датафрейма"
   ]
  },
  {
   "cell_type": "code",
   "execution_count": 4,
   "metadata": {
    "scrolled": false
   },
   "outputs": [
    {
     "data": {
      "text/html": [
       "<div>\n",
       "<style scoped>\n",
       "    .dataframe tbody tr th:only-of-type {\n",
       "        vertical-align: middle;\n",
       "    }\n",
       "\n",
       "    .dataframe tbody tr th {\n",
       "        vertical-align: top;\n",
       "    }\n",
       "\n",
       "    .dataframe thead th {\n",
       "        text-align: right;\n",
       "    }\n",
       "</style>\n",
       "<table border=\"1\" class=\"dataframe\">\n",
       "  <thead>\n",
       "    <tr style=\"text-align: right;\">\n",
       "      <th></th>\n",
       "      <th>children</th>\n",
       "      <th>days_employed</th>\n",
       "      <th>dob_years</th>\n",
       "      <th>education</th>\n",
       "      <th>education_id</th>\n",
       "      <th>family_status</th>\n",
       "      <th>family_status_id</th>\n",
       "      <th>gender</th>\n",
       "      <th>income_type</th>\n",
       "      <th>debt</th>\n",
       "      <th>total_income</th>\n",
       "      <th>purpose</th>\n",
       "    </tr>\n",
       "  </thead>\n",
       "  <tbody>\n",
       "    <tr>\n",
       "      <th>0</th>\n",
       "      <td>1</td>\n",
       "      <td>-8,437.67</td>\n",
       "      <td>42</td>\n",
       "      <td>высшее</td>\n",
       "      <td>0</td>\n",
       "      <td>женат / замужем</td>\n",
       "      <td>0</td>\n",
       "      <td>F</td>\n",
       "      <td>сотрудник</td>\n",
       "      <td>0</td>\n",
       "      <td>253,875.64</td>\n",
       "      <td>покупка жилья</td>\n",
       "    </tr>\n",
       "    <tr>\n",
       "      <th>1</th>\n",
       "      <td>1</td>\n",
       "      <td>-4,024.80</td>\n",
       "      <td>36</td>\n",
       "      <td>среднее</td>\n",
       "      <td>1</td>\n",
       "      <td>женат / замужем</td>\n",
       "      <td>0</td>\n",
       "      <td>F</td>\n",
       "      <td>сотрудник</td>\n",
       "      <td>0</td>\n",
       "      <td>112,080.01</td>\n",
       "      <td>приобретение автомобиля</td>\n",
       "    </tr>\n",
       "    <tr>\n",
       "      <th>2</th>\n",
       "      <td>0</td>\n",
       "      <td>-5,623.42</td>\n",
       "      <td>33</td>\n",
       "      <td>Среднее</td>\n",
       "      <td>1</td>\n",
       "      <td>женат / замужем</td>\n",
       "      <td>0</td>\n",
       "      <td>M</td>\n",
       "      <td>сотрудник</td>\n",
       "      <td>0</td>\n",
       "      <td>145,885.95</td>\n",
       "      <td>покупка жилья</td>\n",
       "    </tr>\n",
       "    <tr>\n",
       "      <th>3</th>\n",
       "      <td>3</td>\n",
       "      <td>-4,124.75</td>\n",
       "      <td>32</td>\n",
       "      <td>среднее</td>\n",
       "      <td>1</td>\n",
       "      <td>женат / замужем</td>\n",
       "      <td>0</td>\n",
       "      <td>M</td>\n",
       "      <td>сотрудник</td>\n",
       "      <td>0</td>\n",
       "      <td>267,628.55</td>\n",
       "      <td>дополнительное образование</td>\n",
       "    </tr>\n",
       "    <tr>\n",
       "      <th>4</th>\n",
       "      <td>0</td>\n",
       "      <td>340,266.07</td>\n",
       "      <td>53</td>\n",
       "      <td>среднее</td>\n",
       "      <td>1</td>\n",
       "      <td>гражданский брак</td>\n",
       "      <td>1</td>\n",
       "      <td>F</td>\n",
       "      <td>пенсионер</td>\n",
       "      <td>0</td>\n",
       "      <td>158,616.08</td>\n",
       "      <td>сыграть свадьбу</td>\n",
       "    </tr>\n",
       "  </tbody>\n",
       "</table>\n",
       "</div>"
      ],
      "text/plain": [
       "   children  days_employed  dob_years education  education_id  \\\n",
       "0         1      -8,437.67         42    высшее             0   \n",
       "1         1      -4,024.80         36   среднее             1   \n",
       "2         0      -5,623.42         33   Среднее             1   \n",
       "3         3      -4,124.75         32   среднее             1   \n",
       "4         0     340,266.07         53   среднее             1   \n",
       "\n",
       "      family_status  family_status_id gender income_type  debt  total_income  \\\n",
       "0   женат / замужем                 0      F   сотрудник     0    253,875.64   \n",
       "1   женат / замужем                 0      F   сотрудник     0    112,080.01   \n",
       "2   женат / замужем                 0      M   сотрудник     0    145,885.95   \n",
       "3   женат / замужем                 0      M   сотрудник     0    267,628.55   \n",
       "4  гражданский брак                 1      F   пенсионер     0    158,616.08   \n",
       "\n",
       "                      purpose  \n",
       "0               покупка жилья  \n",
       "1     приобретение автомобиля  \n",
       "2               покупка жилья  \n",
       "3  дополнительное образование  \n",
       "4             сыграть свадьбу  "
      ]
     },
     "execution_count": 4,
     "metadata": {},
     "output_type": "execute_result"
    }
   ],
   "source": [
    "clients_data.head()"
   ]
  },
  {
   "cell_type": "markdown",
   "metadata": {},
   "source": [
    "Сразу видим некорректные значения в столбцах и пропущенные значения."
   ]
  },
  {
   "cell_type": "markdown",
   "metadata": {},
   "source": [
    "Вывел общую информацию по таблице"
   ]
  },
  {
   "cell_type": "code",
   "execution_count": 5,
   "metadata": {},
   "outputs": [
    {
     "name": "stdout",
     "output_type": "stream",
     "text": [
      "<class 'pandas.core.frame.DataFrame'>\n",
      "RangeIndex: 21525 entries, 0 to 21524\n",
      "Data columns (total 12 columns):\n",
      " #   Column            Non-Null Count  Dtype  \n",
      "---  ------            --------------  -----  \n",
      " 0   children          21525 non-null  int64  \n",
      " 1   days_employed     19351 non-null  float64\n",
      " 2   dob_years         21525 non-null  int64  \n",
      " 3   education         21525 non-null  object \n",
      " 4   education_id      21525 non-null  int64  \n",
      " 5   family_status     21525 non-null  object \n",
      " 6   family_status_id  21525 non-null  int64  \n",
      " 7   gender            21525 non-null  object \n",
      " 8   income_type       21525 non-null  object \n",
      " 9   debt              21525 non-null  int64  \n",
      " 10  total_income      19351 non-null  float64\n",
      " 11  purpose           21525 non-null  object \n",
      "dtypes: float64(2), int64(5), object(5)\n",
      "memory usage: 2.0+ MB\n"
     ]
    }
   ],
   "source": [
    "clients_data.info()"
   ]
  },
  {
   "cell_type": "markdown",
   "metadata": {},
   "source": [
    "**Вывод**"
   ]
  },
  {
   "cell_type": "markdown",
   "metadata": {},
   "source": [
    "В данных из таблицы нужно будет удалить дупликаты, заполнить пропуски, перевести отрицательные значения в положительные. В столбцах `days_employed` и `total_income` присутсвуют пропущенные значения."
   ]
  },
  {
   "cell_type": "markdown",
   "metadata": {},
   "source": [
    "## Шаг 2. Предобработка данных"
   ]
  },
  {
   "cell_type": "markdown",
   "metadata": {},
   "source": [
    "### Обработка пропусков"
   ]
  },
  {
   "cell_type": "code",
   "execution_count": 6,
   "metadata": {},
   "outputs": [],
   "source": [
    "clients_data['days_employed'] = clients_data['days_employed'].apply(abs)\n",
    "clients_data.loc[clients_data['days_employed'] > 30000, 'days_employed'] = clients_data.loc[clients_data['days_employed'] > 30000, 'days_employed'] /24"
   ]
  },
  {
   "cell_type": "markdown",
   "metadata": {},
   "source": [
    "Перевёл отрицательные значения стажа работы к положительным значениям. Аномально большие значения перевел из часов в дни."
   ]
  },
  {
   "cell_type": "code",
   "execution_count": 7,
   "metadata": {},
   "outputs": [],
   "source": [
    "total_income_median = clients_data['total_income'].median()\n",
    "days_employed_mean = clients_data['days_employed'].mean()\n",
    "\n",
    "clients_data['days_employed'] = clients_data['days_employed'].fillna(days_employed_mean)\n",
    "clients_data['total_income'] = clients_data['total_income'].fillna(total_income_median)"
   ]
  },
  {
   "cell_type": "markdown",
   "metadata": {},
   "source": [
    "В `days_employed` пропуски заменили на среднее значение. В `total_income` пропуски заменили на медианное значение."
   ]
  },
  {
   "cell_type": "code",
   "execution_count": 8,
   "metadata": {
    "scrolled": false
   },
   "outputs": [
    {
     "data": {
      "text/html": [
       "<div>\n",
       "<style scoped>\n",
       "    .dataframe tbody tr th:only-of-type {\n",
       "        vertical-align: middle;\n",
       "    }\n",
       "\n",
       "    .dataframe tbody tr th {\n",
       "        vertical-align: top;\n",
       "    }\n",
       "\n",
       "    .dataframe thead th {\n",
       "        text-align: right;\n",
       "    }\n",
       "</style>\n",
       "<table border=\"1\" class=\"dataframe\">\n",
       "  <thead>\n",
       "    <tr style=\"text-align: right;\">\n",
       "      <th></th>\n",
       "      <th>children</th>\n",
       "      <th>days_employed</th>\n",
       "      <th>dob_years</th>\n",
       "      <th>education</th>\n",
       "      <th>education_id</th>\n",
       "      <th>family_status</th>\n",
       "      <th>family_status_id</th>\n",
       "      <th>gender</th>\n",
       "      <th>income_type</th>\n",
       "      <th>debt</th>\n",
       "      <th>total_income</th>\n",
       "      <th>purpose</th>\n",
       "    </tr>\n",
       "  </thead>\n",
       "  <tbody>\n",
       "    <tr>\n",
       "      <th>0</th>\n",
       "      <td>1</td>\n",
       "      <td>8,437.67</td>\n",
       "      <td>42</td>\n",
       "      <td>высшее</td>\n",
       "      <td>0</td>\n",
       "      <td>женат / замужем</td>\n",
       "      <td>0</td>\n",
       "      <td>F</td>\n",
       "      <td>сотрудник</td>\n",
       "      <td>0</td>\n",
       "      <td>253,875.64</td>\n",
       "      <td>покупка жилья</td>\n",
       "    </tr>\n",
       "    <tr>\n",
       "      <th>1</th>\n",
       "      <td>1</td>\n",
       "      <td>4,024.80</td>\n",
       "      <td>36</td>\n",
       "      <td>среднее</td>\n",
       "      <td>1</td>\n",
       "      <td>женат / замужем</td>\n",
       "      <td>0</td>\n",
       "      <td>F</td>\n",
       "      <td>сотрудник</td>\n",
       "      <td>0</td>\n",
       "      <td>112,080.01</td>\n",
       "      <td>приобретение автомобиля</td>\n",
       "    </tr>\n",
       "    <tr>\n",
       "      <th>2</th>\n",
       "      <td>0</td>\n",
       "      <td>5,623.42</td>\n",
       "      <td>33</td>\n",
       "      <td>Среднее</td>\n",
       "      <td>1</td>\n",
       "      <td>женат / замужем</td>\n",
       "      <td>0</td>\n",
       "      <td>M</td>\n",
       "      <td>сотрудник</td>\n",
       "      <td>0</td>\n",
       "      <td>145,885.95</td>\n",
       "      <td>покупка жилья</td>\n",
       "    </tr>\n",
       "    <tr>\n",
       "      <th>3</th>\n",
       "      <td>3</td>\n",
       "      <td>4,124.75</td>\n",
       "      <td>32</td>\n",
       "      <td>среднее</td>\n",
       "      <td>1</td>\n",
       "      <td>женат / замужем</td>\n",
       "      <td>0</td>\n",
       "      <td>M</td>\n",
       "      <td>сотрудник</td>\n",
       "      <td>0</td>\n",
       "      <td>267,628.55</td>\n",
       "      <td>дополнительное образование</td>\n",
       "    </tr>\n",
       "    <tr>\n",
       "      <th>4</th>\n",
       "      <td>0</td>\n",
       "      <td>14,177.75</td>\n",
       "      <td>53</td>\n",
       "      <td>среднее</td>\n",
       "      <td>1</td>\n",
       "      <td>гражданский брак</td>\n",
       "      <td>1</td>\n",
       "      <td>F</td>\n",
       "      <td>пенсионер</td>\n",
       "      <td>0</td>\n",
       "      <td>158,616.08</td>\n",
       "      <td>сыграть свадьбу</td>\n",
       "    </tr>\n",
       "  </tbody>\n",
       "</table>\n",
       "</div>"
      ],
      "text/plain": [
       "   children  days_employed  dob_years education  education_id  \\\n",
       "0         1       8,437.67         42    высшее             0   \n",
       "1         1       4,024.80         36   среднее             1   \n",
       "2         0       5,623.42         33   Среднее             1   \n",
       "3         3       4,124.75         32   среднее             1   \n",
       "4         0      14,177.75         53   среднее             1   \n",
       "\n",
       "      family_status  family_status_id gender income_type  debt  total_income  \\\n",
       "0   женат / замужем                 0      F   сотрудник     0    253,875.64   \n",
       "1   женат / замужем                 0      F   сотрудник     0    112,080.01   \n",
       "2   женат / замужем                 0      M   сотрудник     0    145,885.95   \n",
       "3   женат / замужем                 0      M   сотрудник     0    267,628.55   \n",
       "4  гражданский брак                 1      F   пенсионер     0    158,616.08   \n",
       "\n",
       "                      purpose  \n",
       "0               покупка жилья  \n",
       "1     приобретение автомобиля  \n",
       "2               покупка жилья  \n",
       "3  дополнительное образование  \n",
       "4             сыграть свадьбу  "
      ]
     },
     "execution_count": 8,
     "metadata": {},
     "output_type": "execute_result"
    }
   ],
   "source": [
    "clients_data.head()"
   ]
  },
  {
   "cell_type": "markdown",
   "metadata": {},
   "source": [
    "Убедились, что в таблице не осталось пропусков. Для этого посчитали пропущенные значения."
   ]
  },
  {
   "cell_type": "code",
   "execution_count": 9,
   "metadata": {},
   "outputs": [
    {
     "data": {
      "text/plain": [
       "children            0\n",
       "days_employed       0\n",
       "dob_years           0\n",
       "education           0\n",
       "education_id        0\n",
       "family_status       0\n",
       "family_status_id    0\n",
       "gender              0\n",
       "income_type         0\n",
       "debt                0\n",
       "total_income        0\n",
       "purpose             0\n",
       "dtype: int64"
      ]
     },
     "execution_count": 9,
     "metadata": {},
     "output_type": "execute_result"
    }
   ],
   "source": [
    "clients_data.isna().sum()"
   ]
  },
  {
   "cell_type": "code",
   "execution_count": 10,
   "metadata": {},
   "outputs": [
    {
     "data": {
      "text/plain": [
       "array(['F', 'M', 'XNA'], dtype=object)"
      ]
     },
     "execution_count": 10,
     "metadata": {},
     "output_type": "execute_result"
    }
   ],
   "source": [
    "clients_data['gender'].unique()"
   ]
  },
  {
   "cell_type": "markdown",
   "metadata": {},
   "source": [
    "В столбце gender увидел некорректные данные по признаку пола"
   ]
  },
  {
   "cell_type": "code",
   "execution_count": 11,
   "metadata": {},
   "outputs": [
    {
     "data": {
      "text/html": [
       "<div>\n",
       "<style scoped>\n",
       "    .dataframe tbody tr th:only-of-type {\n",
       "        vertical-align: middle;\n",
       "    }\n",
       "\n",
       "    .dataframe tbody tr th {\n",
       "        vertical-align: top;\n",
       "    }\n",
       "\n",
       "    .dataframe thead th {\n",
       "        text-align: right;\n",
       "    }\n",
       "</style>\n",
       "<table border=\"1\" class=\"dataframe\">\n",
       "  <thead>\n",
       "    <tr style=\"text-align: right;\">\n",
       "      <th></th>\n",
       "      <th>children</th>\n",
       "      <th>days_employed</th>\n",
       "      <th>dob_years</th>\n",
       "      <th>education</th>\n",
       "      <th>education_id</th>\n",
       "      <th>family_status</th>\n",
       "      <th>family_status_id</th>\n",
       "      <th>gender</th>\n",
       "      <th>income_type</th>\n",
       "      <th>debt</th>\n",
       "      <th>total_income</th>\n",
       "      <th>purpose</th>\n",
       "    </tr>\n",
       "  </thead>\n",
       "  <tbody>\n",
       "    <tr>\n",
       "      <th>10701</th>\n",
       "      <td>0</td>\n",
       "      <td>2,358.60</td>\n",
       "      <td>24</td>\n",
       "      <td>неоконченное высшее</td>\n",
       "      <td>2</td>\n",
       "      <td>гражданский брак</td>\n",
       "      <td>1</td>\n",
       "      <td>XNA</td>\n",
       "      <td>компаньон</td>\n",
       "      <td>0</td>\n",
       "      <td>203,905.16</td>\n",
       "      <td>покупка недвижимости</td>\n",
       "    </tr>\n",
       "  </tbody>\n",
       "</table>\n",
       "</div>"
      ],
      "text/plain": [
       "       children  days_employed  dob_years            education  education_id  \\\n",
       "10701         0       2,358.60         24  неоконченное высшее             2   \n",
       "\n",
       "          family_status  family_status_id gender income_type  debt  \\\n",
       "10701  гражданский брак                 1    XNA   компаньон     0   \n",
       "\n",
       "       total_income               purpose  \n",
       "10701    203,905.16  покупка недвижимости  "
      ]
     },
     "execution_count": 11,
     "metadata": {},
     "output_type": "execute_result"
    }
   ],
   "source": [
    "clients_data[clients_data['gender'] == 'XNA']"
   ]
  },
  {
   "cell_type": "markdown",
   "metadata": {},
   "source": [
    "Заменил значение"
   ]
  },
  {
   "cell_type": "code",
   "execution_count": 12,
   "metadata": {},
   "outputs": [
    {
     "data": {
      "text/plain": [
       "array(['F', 'M'], dtype=object)"
      ]
     },
     "execution_count": 12,
     "metadata": {},
     "output_type": "execute_result"
    }
   ],
   "source": [
    "clients_data.loc[clients_data['gender'] == 'XNA', 'gender'] = 'M'\n",
    "clients_data['gender'].unique()"
   ]
  },
  {
   "cell_type": "code",
   "execution_count": 13,
   "metadata": {},
   "outputs": [
    {
     "data": {
      "text/html": [
       "<div>\n",
       "<style scoped>\n",
       "    .dataframe tbody tr th:only-of-type {\n",
       "        vertical-align: middle;\n",
       "    }\n",
       "\n",
       "    .dataframe tbody tr th {\n",
       "        vertical-align: top;\n",
       "    }\n",
       "\n",
       "    .dataframe thead th {\n",
       "        text-align: right;\n",
       "    }\n",
       "</style>\n",
       "<table border=\"1\" class=\"dataframe\">\n",
       "  <thead>\n",
       "    <tr style=\"text-align: right;\">\n",
       "      <th></th>\n",
       "      <th>children</th>\n",
       "      <th>days_employed</th>\n",
       "      <th>dob_years</th>\n",
       "      <th>education</th>\n",
       "      <th>education_id</th>\n",
       "      <th>family_status</th>\n",
       "      <th>family_status_id</th>\n",
       "      <th>gender</th>\n",
       "      <th>income_type</th>\n",
       "      <th>debt</th>\n",
       "      <th>total_income</th>\n",
       "      <th>purpose</th>\n",
       "    </tr>\n",
       "  </thead>\n",
       "  <tbody>\n",
       "    <tr>\n",
       "      <th>0</th>\n",
       "      <td>1</td>\n",
       "      <td>8,437.67</td>\n",
       "      <td>42.00</td>\n",
       "      <td>высшее</td>\n",
       "      <td>0</td>\n",
       "      <td>женат / замужем</td>\n",
       "      <td>0</td>\n",
       "      <td>F</td>\n",
       "      <td>сотрудник</td>\n",
       "      <td>0</td>\n",
       "      <td>253,875.64</td>\n",
       "      <td>покупка жилья</td>\n",
       "    </tr>\n",
       "    <tr>\n",
       "      <th>1</th>\n",
       "      <td>1</td>\n",
       "      <td>4,024.80</td>\n",
       "      <td>36.00</td>\n",
       "      <td>среднее</td>\n",
       "      <td>1</td>\n",
       "      <td>женат / замужем</td>\n",
       "      <td>0</td>\n",
       "      <td>F</td>\n",
       "      <td>сотрудник</td>\n",
       "      <td>0</td>\n",
       "      <td>112,080.01</td>\n",
       "      <td>приобретение автомобиля</td>\n",
       "    </tr>\n",
       "    <tr>\n",
       "      <th>2</th>\n",
       "      <td>0</td>\n",
       "      <td>5,623.42</td>\n",
       "      <td>33.00</td>\n",
       "      <td>Среднее</td>\n",
       "      <td>1</td>\n",
       "      <td>женат / замужем</td>\n",
       "      <td>0</td>\n",
       "      <td>M</td>\n",
       "      <td>сотрудник</td>\n",
       "      <td>0</td>\n",
       "      <td>145,885.95</td>\n",
       "      <td>покупка жилья</td>\n",
       "    </tr>\n",
       "    <tr>\n",
       "      <th>3</th>\n",
       "      <td>3</td>\n",
       "      <td>4,124.75</td>\n",
       "      <td>32.00</td>\n",
       "      <td>среднее</td>\n",
       "      <td>1</td>\n",
       "      <td>женат / замужем</td>\n",
       "      <td>0</td>\n",
       "      <td>M</td>\n",
       "      <td>сотрудник</td>\n",
       "      <td>0</td>\n",
       "      <td>267,628.55</td>\n",
       "      <td>дополнительное образование</td>\n",
       "    </tr>\n",
       "    <tr>\n",
       "      <th>4</th>\n",
       "      <td>0</td>\n",
       "      <td>14,177.75</td>\n",
       "      <td>53.00</td>\n",
       "      <td>среднее</td>\n",
       "      <td>1</td>\n",
       "      <td>гражданский брак</td>\n",
       "      <td>1</td>\n",
       "      <td>F</td>\n",
       "      <td>пенсионер</td>\n",
       "      <td>0</td>\n",
       "      <td>158,616.08</td>\n",
       "      <td>сыграть свадьбу</td>\n",
       "    </tr>\n",
       "    <tr>\n",
       "      <th>5</th>\n",
       "      <td>0</td>\n",
       "      <td>926.19</td>\n",
       "      <td>27.00</td>\n",
       "      <td>высшее</td>\n",
       "      <td>0</td>\n",
       "      <td>гражданский брак</td>\n",
       "      <td>1</td>\n",
       "      <td>M</td>\n",
       "      <td>компаньон</td>\n",
       "      <td>0</td>\n",
       "      <td>255,763.57</td>\n",
       "      <td>покупка жилья</td>\n",
       "    </tr>\n",
       "    <tr>\n",
       "      <th>6</th>\n",
       "      <td>0</td>\n",
       "      <td>2,879.20</td>\n",
       "      <td>43.00</td>\n",
       "      <td>высшее</td>\n",
       "      <td>0</td>\n",
       "      <td>женат / замужем</td>\n",
       "      <td>0</td>\n",
       "      <td>F</td>\n",
       "      <td>компаньон</td>\n",
       "      <td>0</td>\n",
       "      <td>240,525.97</td>\n",
       "      <td>операции с жильем</td>\n",
       "    </tr>\n",
       "    <tr>\n",
       "      <th>7</th>\n",
       "      <td>0</td>\n",
       "      <td>152.78</td>\n",
       "      <td>50.00</td>\n",
       "      <td>СРЕДНЕЕ</td>\n",
       "      <td>1</td>\n",
       "      <td>женат / замужем</td>\n",
       "      <td>0</td>\n",
       "      <td>M</td>\n",
       "      <td>сотрудник</td>\n",
       "      <td>0</td>\n",
       "      <td>135,823.93</td>\n",
       "      <td>образование</td>\n",
       "    </tr>\n",
       "    <tr>\n",
       "      <th>8</th>\n",
       "      <td>2</td>\n",
       "      <td>6,929.87</td>\n",
       "      <td>35.00</td>\n",
       "      <td>ВЫСШЕЕ</td>\n",
       "      <td>0</td>\n",
       "      <td>гражданский брак</td>\n",
       "      <td>1</td>\n",
       "      <td>F</td>\n",
       "      <td>сотрудник</td>\n",
       "      <td>0</td>\n",
       "      <td>95,856.83</td>\n",
       "      <td>на проведение свадьбы</td>\n",
       "    </tr>\n",
       "    <tr>\n",
       "      <th>9</th>\n",
       "      <td>0</td>\n",
       "      <td>2,188.76</td>\n",
       "      <td>41.00</td>\n",
       "      <td>среднее</td>\n",
       "      <td>1</td>\n",
       "      <td>женат / замужем</td>\n",
       "      <td>0</td>\n",
       "      <td>M</td>\n",
       "      <td>сотрудник</td>\n",
       "      <td>0</td>\n",
       "      <td>144,425.94</td>\n",
       "      <td>покупка жилья для семьи</td>\n",
       "    </tr>\n",
       "    <tr>\n",
       "      <th>10</th>\n",
       "      <td>2</td>\n",
       "      <td>4,171.48</td>\n",
       "      <td>36.00</td>\n",
       "      <td>высшее</td>\n",
       "      <td>0</td>\n",
       "      <td>женат / замужем</td>\n",
       "      <td>0</td>\n",
       "      <td>M</td>\n",
       "      <td>компаньон</td>\n",
       "      <td>0</td>\n",
       "      <td>113,943.49</td>\n",
       "      <td>покупка недвижимости</td>\n",
       "    </tr>\n",
       "    <tr>\n",
       "      <th>11</th>\n",
       "      <td>0</td>\n",
       "      <td>792.70</td>\n",
       "      <td>40.00</td>\n",
       "      <td>среднее</td>\n",
       "      <td>1</td>\n",
       "      <td>женат / замужем</td>\n",
       "      <td>0</td>\n",
       "      <td>F</td>\n",
       "      <td>сотрудник</td>\n",
       "      <td>0</td>\n",
       "      <td>77,069.23</td>\n",
       "      <td>покупка коммерческой недвижимости</td>\n",
       "    </tr>\n",
       "    <tr>\n",
       "      <th>12</th>\n",
       "      <td>0</td>\n",
       "      <td>4,641.64</td>\n",
       "      <td>65.00</td>\n",
       "      <td>среднее</td>\n",
       "      <td>1</td>\n",
       "      <td>гражданский брак</td>\n",
       "      <td>1</td>\n",
       "      <td>M</td>\n",
       "      <td>пенсионер</td>\n",
       "      <td>0</td>\n",
       "      <td>145,017.94</td>\n",
       "      <td>сыграть свадьбу</td>\n",
       "    </tr>\n",
       "    <tr>\n",
       "      <th>13</th>\n",
       "      <td>0</td>\n",
       "      <td>1,846.64</td>\n",
       "      <td>54.00</td>\n",
       "      <td>неоконченное высшее</td>\n",
       "      <td>2</td>\n",
       "      <td>женат / замужем</td>\n",
       "      <td>0</td>\n",
       "      <td>F</td>\n",
       "      <td>сотрудник</td>\n",
       "      <td>0</td>\n",
       "      <td>130,458.23</td>\n",
       "      <td>приобретение автомобиля</td>\n",
       "    </tr>\n",
       "    <tr>\n",
       "      <th>14</th>\n",
       "      <td>0</td>\n",
       "      <td>1,844.96</td>\n",
       "      <td>56.00</td>\n",
       "      <td>высшее</td>\n",
       "      <td>0</td>\n",
       "      <td>гражданский брак</td>\n",
       "      <td>1</td>\n",
       "      <td>F</td>\n",
       "      <td>компаньон</td>\n",
       "      <td>1</td>\n",
       "      <td>165,127.91</td>\n",
       "      <td>покупка жилой недвижимости</td>\n",
       "    </tr>\n",
       "  </tbody>\n",
       "</table>\n",
       "</div>"
      ],
      "text/plain": [
       "    children  days_employed  dob_years            education  education_id  \\\n",
       "0          1       8,437.67      42.00               высшее             0   \n",
       "1          1       4,024.80      36.00              среднее             1   \n",
       "2          0       5,623.42      33.00              Среднее             1   \n",
       "3          3       4,124.75      32.00              среднее             1   \n",
       "4          0      14,177.75      53.00              среднее             1   \n",
       "5          0         926.19      27.00               высшее             0   \n",
       "6          0       2,879.20      43.00               высшее             0   \n",
       "7          0         152.78      50.00              СРЕДНЕЕ             1   \n",
       "8          2       6,929.87      35.00               ВЫСШЕЕ             0   \n",
       "9          0       2,188.76      41.00              среднее             1   \n",
       "10         2       4,171.48      36.00               высшее             0   \n",
       "11         0         792.70      40.00              среднее             1   \n",
       "12         0       4,641.64      65.00              среднее             1   \n",
       "13         0       1,846.64      54.00  неоконченное высшее             2   \n",
       "14         0       1,844.96      56.00               высшее             0   \n",
       "\n",
       "       family_status  family_status_id gender income_type  debt  total_income  \\\n",
       "0    женат / замужем                 0      F   сотрудник     0    253,875.64   \n",
       "1    женат / замужем                 0      F   сотрудник     0    112,080.01   \n",
       "2    женат / замужем                 0      M   сотрудник     0    145,885.95   \n",
       "3    женат / замужем                 0      M   сотрудник     0    267,628.55   \n",
       "4   гражданский брак                 1      F   пенсионер     0    158,616.08   \n",
       "5   гражданский брак                 1      M   компаньон     0    255,763.57   \n",
       "6    женат / замужем                 0      F   компаньон     0    240,525.97   \n",
       "7    женат / замужем                 0      M   сотрудник     0    135,823.93   \n",
       "8   гражданский брак                 1      F   сотрудник     0     95,856.83   \n",
       "9    женат / замужем                 0      M   сотрудник     0    144,425.94   \n",
       "10   женат / замужем                 0      M   компаньон     0    113,943.49   \n",
       "11   женат / замужем                 0      F   сотрудник     0     77,069.23   \n",
       "12  гражданский брак                 1      M   пенсионер     0    145,017.94   \n",
       "13   женат / замужем                 0      F   сотрудник     0    130,458.23   \n",
       "14  гражданский брак                 1      F   компаньон     1    165,127.91   \n",
       "\n",
       "                              purpose  \n",
       "0                       покупка жилья  \n",
       "1             приобретение автомобиля  \n",
       "2                       покупка жилья  \n",
       "3          дополнительное образование  \n",
       "4                     сыграть свадьбу  \n",
       "5                       покупка жилья  \n",
       "6                   операции с жильем  \n",
       "7                         образование  \n",
       "8               на проведение свадьбы  \n",
       "9             покупка жилья для семьи  \n",
       "10               покупка недвижимости  \n",
       "11  покупка коммерческой недвижимости  \n",
       "12                    сыграть свадьбу  \n",
       "13            приобретение автомобиля  \n",
       "14         покупка жилой недвижимости  "
      ]
     },
     "execution_count": 13,
     "metadata": {},
     "output_type": "execute_result"
    }
   ],
   "source": [
    "#создаем переменные по медиане зарплаты\n",
    "\n",
    "import numpy as np\n",
    "\n",
    "med_dob_years = clients_data.groupby('family_status')['dob_years'].transform('median')\n",
    "\n",
    "clients_data['dob_years'] = clients_data['dob_years'].replace(0, np.nan)\n",
    "\n",
    "#заменяем пропуски медианой по каждой группе\n",
    "clients_data['dob_years'] = clients_data['dob_years'].fillna(med_dob_years)\n",
    "clients_data.head(15)"
   ]
  },
  {
   "cell_type": "code",
   "execution_count": 14,
   "metadata": {},
   "outputs": [
    {
     "data": {
      "text/plain": [
       "count   21,525.00\n",
       "mean        43.49\n",
       "std         12.22\n",
       "min         19.00\n",
       "25%         34.00\n",
       "50%         43.00\n",
       "75%         53.00\n",
       "max         75.00\n",
       "Name: dob_years, dtype: float64"
      ]
     },
     "execution_count": 14,
     "metadata": {},
     "output_type": "execute_result"
    }
   ],
   "source": [
    "clients_data.dob_years.describe()"
   ]
  },
  {
   "cell_type": "markdown",
   "metadata": {},
   "source": [
    "**Вывод**"
   ]
  },
  {
   "cell_type": "markdown",
   "metadata": {},
   "source": [
    "### Замена типа данных"
   ]
  },
  {
   "cell_type": "code",
   "execution_count": 15,
   "metadata": {},
   "outputs": [],
   "source": [
    "clients_data['days_employed'] = clients_data['days_employed'].astype('int')\n",
    "clients_data['total_income'] = clients_data['total_income'].astype('int')"
   ]
  },
  {
   "cell_type": "code",
   "execution_count": 16,
   "metadata": {},
   "outputs": [
    {
     "name": "stdout",
     "output_type": "stream",
     "text": [
      "<class 'pandas.core.frame.DataFrame'>\n",
      "RangeIndex: 21525 entries, 0 to 21524\n",
      "Data columns (total 12 columns):\n",
      " #   Column            Non-Null Count  Dtype  \n",
      "---  ------            --------------  -----  \n",
      " 0   children          21525 non-null  int64  \n",
      " 1   days_employed     21525 non-null  int64  \n",
      " 2   dob_years         21525 non-null  float64\n",
      " 3   education         21525 non-null  object \n",
      " 4   education_id      21525 non-null  int64  \n",
      " 5   family_status     21525 non-null  object \n",
      " 6   family_status_id  21525 non-null  int64  \n",
      " 7   gender            21525 non-null  object \n",
      " 8   income_type       21525 non-null  object \n",
      " 9   debt              21525 non-null  int64  \n",
      " 10  total_income      21525 non-null  int64  \n",
      " 11  purpose           21525 non-null  object \n",
      "dtypes: float64(1), int64(6), object(5)\n",
      "memory usage: 2.0+ MB\n"
     ]
    }
   ],
   "source": [
    "clients_data.info()"
   ]
  },
  {
   "cell_type": "markdown",
   "metadata": {},
   "source": [
    "**Вывод**"
   ]
  },
  {
   "cell_type": "markdown",
   "metadata": {},
   "source": [
    "В `days_employed` и `total_income` стояли значения типа float - заменили их на int."
   ]
  },
  {
   "cell_type": "markdown",
   "metadata": {},
   "source": [
    "### Обработка дубликатов"
   ]
  },
  {
   "cell_type": "code",
   "execution_count": 17,
   "metadata": {},
   "outputs": [],
   "source": [
    "clients_data['education'] = clients_data['education'].str.lower()"
   ]
  },
  {
   "cell_type": "code",
   "execution_count": 18,
   "metadata": {},
   "outputs": [
    {
     "name": "stdout",
     "output_type": "stream",
     "text": [
      "Количество дубликатов по датафрейму: 72\n"
     ]
    }
   ],
   "source": [
    "clients_data.duplicated().sum()\n",
    "\n",
    "print(f'Количество дубликатов по датафрейму: {clients_data.duplicated().sum()}')"
   ]
  },
  {
   "cell_type": "code",
   "execution_count": 19,
   "metadata": {},
   "outputs": [
    {
     "data": {
      "text/html": [
       "<div>\n",
       "<style scoped>\n",
       "    .dataframe tbody tr th:only-of-type {\n",
       "        vertical-align: middle;\n",
       "    }\n",
       "\n",
       "    .dataframe tbody tr th {\n",
       "        vertical-align: top;\n",
       "    }\n",
       "\n",
       "    .dataframe thead th {\n",
       "        text-align: right;\n",
       "    }\n",
       "</style>\n",
       "<table border=\"1\" class=\"dataframe\">\n",
       "  <thead>\n",
       "    <tr style=\"text-align: right;\">\n",
       "      <th></th>\n",
       "      <th>children</th>\n",
       "      <th>days_employed</th>\n",
       "      <th>dob_years</th>\n",
       "      <th>education</th>\n",
       "      <th>education_id</th>\n",
       "      <th>family_status</th>\n",
       "      <th>family_status_id</th>\n",
       "      <th>gender</th>\n",
       "      <th>income_type</th>\n",
       "      <th>debt</th>\n",
       "      <th>total_income</th>\n",
       "      <th>purpose</th>\n",
       "    </tr>\n",
       "  </thead>\n",
       "  <tbody>\n",
       "    <tr>\n",
       "      <th>120</th>\n",
       "      <td>0</td>\n",
       "      <td>4641</td>\n",
       "      <td>46.00</td>\n",
       "      <td>среднее</td>\n",
       "      <td>1</td>\n",
       "      <td>женат / замужем</td>\n",
       "      <td>0</td>\n",
       "      <td>F</td>\n",
       "      <td>сотрудник</td>\n",
       "      <td>0</td>\n",
       "      <td>145017</td>\n",
       "      <td>высшее образование</td>\n",
       "    </tr>\n",
       "    <tr>\n",
       "      <th>520</th>\n",
       "      <td>0</td>\n",
       "      <td>4641</td>\n",
       "      <td>35.00</td>\n",
       "      <td>среднее</td>\n",
       "      <td>1</td>\n",
       "      <td>гражданский брак</td>\n",
       "      <td>1</td>\n",
       "      <td>F</td>\n",
       "      <td>сотрудник</td>\n",
       "      <td>0</td>\n",
       "      <td>145017</td>\n",
       "      <td>сыграть свадьбу</td>\n",
       "    </tr>\n",
       "    <tr>\n",
       "      <th>541</th>\n",
       "      <td>0</td>\n",
       "      <td>4641</td>\n",
       "      <td>57.00</td>\n",
       "      <td>среднее</td>\n",
       "      <td>1</td>\n",
       "      <td>женат / замужем</td>\n",
       "      <td>0</td>\n",
       "      <td>F</td>\n",
       "      <td>сотрудник</td>\n",
       "      <td>0</td>\n",
       "      <td>145017</td>\n",
       "      <td>сделка с подержанным автомобилем</td>\n",
       "    </tr>\n",
       "    <tr>\n",
       "      <th>554</th>\n",
       "      <td>0</td>\n",
       "      <td>4641</td>\n",
       "      <td>60.00</td>\n",
       "      <td>среднее</td>\n",
       "      <td>1</td>\n",
       "      <td>женат / замужем</td>\n",
       "      <td>0</td>\n",
       "      <td>M</td>\n",
       "      <td>сотрудник</td>\n",
       "      <td>0</td>\n",
       "      <td>145017</td>\n",
       "      <td>покупка недвижимости</td>\n",
       "    </tr>\n",
       "    <tr>\n",
       "      <th>680</th>\n",
       "      <td>1</td>\n",
       "      <td>4641</td>\n",
       "      <td>30.00</td>\n",
       "      <td>высшее</td>\n",
       "      <td>0</td>\n",
       "      <td>женат / замужем</td>\n",
       "      <td>0</td>\n",
       "      <td>F</td>\n",
       "      <td>госслужащий</td>\n",
       "      <td>0</td>\n",
       "      <td>145017</td>\n",
       "      <td>покупка жилья для семьи</td>\n",
       "    </tr>\n",
       "    <tr>\n",
       "      <th>...</th>\n",
       "      <td>...</td>\n",
       "      <td>...</td>\n",
       "      <td>...</td>\n",
       "      <td>...</td>\n",
       "      <td>...</td>\n",
       "      <td>...</td>\n",
       "      <td>...</td>\n",
       "      <td>...</td>\n",
       "      <td>...</td>\n",
       "      <td>...</td>\n",
       "      <td>...</td>\n",
       "      <td>...</td>\n",
       "    </tr>\n",
       "    <tr>\n",
       "      <th>20702</th>\n",
       "      <td>0</td>\n",
       "      <td>4641</td>\n",
       "      <td>64.00</td>\n",
       "      <td>среднее</td>\n",
       "      <td>1</td>\n",
       "      <td>женат / замужем</td>\n",
       "      <td>0</td>\n",
       "      <td>F</td>\n",
       "      <td>пенсионер</td>\n",
       "      <td>0</td>\n",
       "      <td>145017</td>\n",
       "      <td>дополнительное образование</td>\n",
       "    </tr>\n",
       "    <tr>\n",
       "      <th>21032</th>\n",
       "      <td>0</td>\n",
       "      <td>4641</td>\n",
       "      <td>60.00</td>\n",
       "      <td>среднее</td>\n",
       "      <td>1</td>\n",
       "      <td>женат / замужем</td>\n",
       "      <td>0</td>\n",
       "      <td>F</td>\n",
       "      <td>пенсионер</td>\n",
       "      <td>0</td>\n",
       "      <td>145017</td>\n",
       "      <td>заняться образованием</td>\n",
       "    </tr>\n",
       "    <tr>\n",
       "      <th>21132</th>\n",
       "      <td>0</td>\n",
       "      <td>4641</td>\n",
       "      <td>47.00</td>\n",
       "      <td>среднее</td>\n",
       "      <td>1</td>\n",
       "      <td>женат / замужем</td>\n",
       "      <td>0</td>\n",
       "      <td>F</td>\n",
       "      <td>сотрудник</td>\n",
       "      <td>0</td>\n",
       "      <td>145017</td>\n",
       "      <td>ремонт жилью</td>\n",
       "    </tr>\n",
       "    <tr>\n",
       "      <th>21281</th>\n",
       "      <td>1</td>\n",
       "      <td>4641</td>\n",
       "      <td>30.00</td>\n",
       "      <td>высшее</td>\n",
       "      <td>0</td>\n",
       "      <td>женат / замужем</td>\n",
       "      <td>0</td>\n",
       "      <td>F</td>\n",
       "      <td>сотрудник</td>\n",
       "      <td>0</td>\n",
       "      <td>145017</td>\n",
       "      <td>покупка коммерческой недвижимости</td>\n",
       "    </tr>\n",
       "    <tr>\n",
       "      <th>21415</th>\n",
       "      <td>0</td>\n",
       "      <td>4641</td>\n",
       "      <td>54.00</td>\n",
       "      <td>среднее</td>\n",
       "      <td>1</td>\n",
       "      <td>женат / замужем</td>\n",
       "      <td>0</td>\n",
       "      <td>F</td>\n",
       "      <td>пенсионер</td>\n",
       "      <td>0</td>\n",
       "      <td>145017</td>\n",
       "      <td>операции с жильем</td>\n",
       "    </tr>\n",
       "  </tbody>\n",
       "</table>\n",
       "<p>139 rows × 12 columns</p>\n",
       "</div>"
      ],
      "text/plain": [
       "       children  days_employed  dob_years education  education_id  \\\n",
       "120           0           4641      46.00   среднее             1   \n",
       "520           0           4641      35.00   среднее             1   \n",
       "541           0           4641      57.00   среднее             1   \n",
       "554           0           4641      60.00   среднее             1   \n",
       "680           1           4641      30.00    высшее             0   \n",
       "...         ...            ...        ...       ...           ...   \n",
       "20702         0           4641      64.00   среднее             1   \n",
       "21032         0           4641      60.00   среднее             1   \n",
       "21132         0           4641      47.00   среднее             1   \n",
       "21281         1           4641      30.00    высшее             0   \n",
       "21415         0           4641      54.00   среднее             1   \n",
       "\n",
       "          family_status  family_status_id gender  income_type  debt  \\\n",
       "120     женат / замужем                 0      F    сотрудник     0   \n",
       "520    гражданский брак                 1      F    сотрудник     0   \n",
       "541     женат / замужем                 0      F    сотрудник     0   \n",
       "554     женат / замужем                 0      M    сотрудник     0   \n",
       "680     женат / замужем                 0      F  госслужащий     0   \n",
       "...                 ...               ...    ...          ...   ...   \n",
       "20702   женат / замужем                 0      F    пенсионер     0   \n",
       "21032   женат / замужем                 0      F    пенсионер     0   \n",
       "21132   женат / замужем                 0      F    сотрудник     0   \n",
       "21281   женат / замужем                 0      F    сотрудник     0   \n",
       "21415   женат / замужем                 0      F    пенсионер     0   \n",
       "\n",
       "       total_income                            purpose  \n",
       "120          145017                 высшее образование  \n",
       "520          145017                    сыграть свадьбу  \n",
       "541          145017   сделка с подержанным автомобилем  \n",
       "554          145017               покупка недвижимости  \n",
       "680          145017            покупка жилья для семьи  \n",
       "...             ...                                ...  \n",
       "20702        145017         дополнительное образование  \n",
       "21032        145017              заняться образованием  \n",
       "21132        145017                       ремонт жилью  \n",
       "21281        145017  покупка коммерческой недвижимости  \n",
       "21415        145017                  операции с жильем  \n",
       "\n",
       "[139 rows x 12 columns]"
      ]
     },
     "execution_count": 19,
     "metadata": {},
     "output_type": "execute_result"
    }
   ],
   "source": [
    "clients_data[clients_data.duplicated(keep=False)].sort_values(by=['total_income', 'days_employed'])"
   ]
  },
  {
   "cell_type": "code",
   "execution_count": 20,
   "metadata": {},
   "outputs": [],
   "source": [
    "clients_data = clients_data.drop_duplicates().reset_index(drop=True)"
   ]
  },
  {
   "cell_type": "code",
   "execution_count": 21,
   "metadata": {},
   "outputs": [
    {
     "name": "stdout",
     "output_type": "stream",
     "text": [
      "Количество дубликатов по датафрейму: 0\n"
     ]
    }
   ],
   "source": [
    "clients_data.duplicated().sum()\n",
    "\n",
    "print(f'Количество дубликатов по датафрейму: {clients_data.duplicated().sum()}')"
   ]
  },
  {
   "cell_type": "markdown",
   "metadata": {},
   "source": [
    "**Вывод**"
   ]
  },
  {
   "cell_type": "markdown",
   "metadata": {},
   "source": [
    "Привели значения `education` к единному регистру. Удалили из таблицы все дубликаты"
   ]
  },
  {
   "cell_type": "markdown",
   "metadata": {},
   "source": [
    "### Лемматизация"
   ]
  },
  {
   "cell_type": "code",
   "execution_count": 22,
   "metadata": {},
   "outputs": [
    {
     "data": {
      "text/plain": [
       "свадьба                                   791\n",
       "на проведение свадьбы                     767\n",
       "сыграть свадьбу                           765\n",
       "операции с недвижимостью                  675\n",
       "покупка коммерческой недвижимости         661\n",
       "операции с жильем                         652\n",
       "покупка жилья для сдачи                   651\n",
       "операции с коммерческой недвижимостью     650\n",
       "покупка жилья                             646\n",
       "жилье                                     646\n",
       "покупка жилья для семьи                   638\n",
       "строительство собственной недвижимости    635\n",
       "недвижимость                              633\n",
       "операции со своей недвижимостью           627\n",
       "строительство жилой недвижимости          624\n",
       "покупка недвижимости                      621\n",
       "покупка своего жилья                      620\n",
       "строительство недвижимости                619\n",
       "ремонт жилью                              607\n",
       "покупка жилой недвижимости                606\n",
       "на покупку своего автомобиля              505\n",
       "заняться высшим образованием              496\n",
       "автомобиль                                494\n",
       "сделка с подержанным автомобилем          486\n",
       "автомобили                                478\n",
       "на покупку подержанного автомобиля        478\n",
       "свой автомобиль                           478\n",
       "на покупку автомобиля                     471\n",
       "приобретение автомобиля                   461\n",
       "дополнительное образование                460\n",
       "сделка с автомобилем                      455\n",
       "высшее образование                        452\n",
       "образование                               447\n",
       "получение дополнительного образования     446\n",
       "получение образования                     442\n",
       "профильное образование                    436\n",
       "получение высшего образования             426\n",
       "заняться образованием                     408\n",
       "Name: purpose, dtype: int64"
      ]
     },
     "execution_count": 22,
     "metadata": {},
     "output_type": "execute_result"
    }
   ],
   "source": [
    "clients_data['purpose'].value_counts()"
   ]
  },
  {
   "cell_type": "markdown",
   "metadata": {},
   "source": [
    "Вывел список уникальных целей кредита"
   ]
  },
  {
   "cell_type": "markdown",
   "metadata": {},
   "source": [
    "С помощью модуля pymystem3 лемматизируем полученный выше список, получив  уникальные леммы:"
   ]
  },
  {
   "cell_type": "code",
   "execution_count": 23,
   "metadata": {},
   "outputs": [
    {
     "data": {
      "text/plain": [
       "[(' ', 33568),\n",
       " ('\\n', 21453),\n",
       " ('недвижимость', 6351),\n",
       " ('покупка', 5897),\n",
       " ('жилье', 4460),\n",
       " ('автомобиль', 4306),\n",
       " ('образование', 4013),\n",
       " ('с', 2918),\n",
       " ('операция', 2604),\n",
       " ('свадьба', 2323),\n",
       " ('свой', 2230),\n",
       " ('на', 2221),\n",
       " ('строительство', 1878),\n",
       " ('высокий', 1374),\n",
       " ('получение', 1314),\n",
       " ('коммерческий', 1311),\n",
       " ('для', 1289),\n",
       " ('жилой', 1230),\n",
       " ('сделка', 941),\n",
       " ('дополнительный', 906),\n",
       " ('заниматься', 904),\n",
       " ('проведение', 767),\n",
       " ('сыграть', 765),\n",
       " ('сдача', 651),\n",
       " ('семья', 638),\n",
       " ('собственный', 635),\n",
       " ('со', 627),\n",
       " ('ремонт', 607),\n",
       " ('подержанный', 486),\n",
       " ('подержать', 478),\n",
       " ('приобретение', 461),\n",
       " ('профильный', 436)]"
      ]
     },
     "execution_count": 23,
     "metadata": {},
     "output_type": "execute_result"
    }
   ],
   "source": [
    "m = Mystem()\n",
    "\n",
    "list_of_lemmas = []\n",
    "\n",
    "for element in clients_data['purpose']:\n",
    "    lemma = m.lemmatize(element)\n",
    "    list_of_lemmas.extend(lemma)\n",
    "\n",
    "unique_lemmas = Counter(list_of_lemmas)\n",
    "\n",
    "sorted(unique_lemmas.items(), key = lambda pair: pair[1], reverse=True)"
   ]
  },
  {
   "cell_type": "markdown",
   "metadata": {},
   "source": [
    "Среди всех возможных целей получения кредита можно выделить всего 5 ключевых слов, которые отражают главную цель."
   ]
  },
  {
   "cell_type": "code",
   "execution_count": 24,
   "metadata": {},
   "outputs": [],
   "source": [
    "categories = [\"жилье\", \"образование\", \"свадьба\", \"недвижимость\", \"автомобиль\"]\n",
    "\n",
    "def lemmatize(text):\n",
    "    lemma = m.lemmatize(text)\n",
    "    for word in categories:\n",
    "        if word in lemma:\n",
    "            lemma = word\n",
    "    return lemma\n",
    "\n",
    "clients_data['purpose_group'] = clients_data['purpose'].apply(lemmatize)    "
   ]
  },
  {
   "cell_type": "code",
   "execution_count": 25,
   "metadata": {},
   "outputs": [
    {
     "data": {
      "text/plain": [
       "недвижимость    6351\n",
       "жилье           4460\n",
       "автомобиль      4306\n",
       "образование     4013\n",
       "свадьба         2323\n",
       "Name: purpose_group, dtype: int64"
      ]
     },
     "execution_count": 25,
     "metadata": {},
     "output_type": "execute_result"
    }
   ],
   "source": [
    "clients_data['purpose_group'].value_counts()"
   ]
  },
  {
   "cell_type": "markdown",
   "metadata": {},
   "source": [
    "Объединим недвижимость и жилье, т.к жилье тоже относится к недвижимости."
   ]
  },
  {
   "cell_type": "code",
   "execution_count": 26,
   "metadata": {},
   "outputs": [
    {
     "data": {
      "text/plain": [
       "недвижимость    10811\n",
       "автомобиль       4306\n",
       "образование      4013\n",
       "свадьба          2323\n",
       "Name: purpose_group, dtype: int64"
      ]
     },
     "execution_count": 26,
     "metadata": {},
     "output_type": "execute_result"
    }
   ],
   "source": [
    "clients_data.loc[clients_data['purpose_group'] == 'жилье', 'purpose_group'] = 'недвижимость'\n",
    "clients_data['purpose_group'].value_counts()"
   ]
  },
  {
   "cell_type": "markdown",
   "metadata": {},
   "source": [
    "**Вывод**"
   ]
  },
  {
   "cell_type": "markdown",
   "metadata": {},
   "source": [
    "Подобное объединение ключевых слов из целей клиентов упрощает дальнейший анализ и сохраняет основной смысл цели получения кредита."
   ]
  },
  {
   "cell_type": "markdown",
   "metadata": {},
   "source": [
    "### Категоризация данных"
   ]
  },
  {
   "cell_type": "code",
   "execution_count": 27,
   "metadata": {},
   "outputs": [],
   "source": [
    "def categories(i):\n",
    "    if i == 'недвижимость':\n",
    "        return 0\n",
    "    elif i == 'автомобиль':\n",
    "        return 1\n",
    "    elif i == 'образование':\n",
    "        return 2\n",
    "    elif i == 'свадьба':\n",
    "        return 3"
   ]
  },
  {
   "cell_type": "code",
   "execution_count": 28,
   "metadata": {},
   "outputs": [],
   "source": [
    "clients_data.loc[:, 'categories_id'] = clients_data['purpose_group'].apply(categories)"
   ]
  },
  {
   "cell_type": "code",
   "execution_count": 29,
   "metadata": {},
   "outputs": [
    {
     "data": {
      "text/html": [
       "<div>\n",
       "<style scoped>\n",
       "    .dataframe tbody tr th:only-of-type {\n",
       "        vertical-align: middle;\n",
       "    }\n",
       "\n",
       "    .dataframe tbody tr th {\n",
       "        vertical-align: top;\n",
       "    }\n",
       "\n",
       "    .dataframe thead th {\n",
       "        text-align: right;\n",
       "    }\n",
       "</style>\n",
       "<table border=\"1\" class=\"dataframe\">\n",
       "  <thead>\n",
       "    <tr style=\"text-align: right;\">\n",
       "      <th></th>\n",
       "      <th>children</th>\n",
       "      <th>days_employed</th>\n",
       "      <th>dob_years</th>\n",
       "      <th>education</th>\n",
       "      <th>education_id</th>\n",
       "      <th>family_status</th>\n",
       "      <th>family_status_id</th>\n",
       "      <th>gender</th>\n",
       "      <th>income_type</th>\n",
       "      <th>debt</th>\n",
       "      <th>total_income</th>\n",
       "      <th>purpose</th>\n",
       "      <th>purpose_group</th>\n",
       "      <th>categories_id</th>\n",
       "    </tr>\n",
       "  </thead>\n",
       "  <tbody>\n",
       "    <tr>\n",
       "      <th>0</th>\n",
       "      <td>1</td>\n",
       "      <td>8437</td>\n",
       "      <td>42.00</td>\n",
       "      <td>высшее</td>\n",
       "      <td>0</td>\n",
       "      <td>женат / замужем</td>\n",
       "      <td>0</td>\n",
       "      <td>F</td>\n",
       "      <td>сотрудник</td>\n",
       "      <td>0</td>\n",
       "      <td>253875</td>\n",
       "      <td>покупка жилья</td>\n",
       "      <td>недвижимость</td>\n",
       "      <td>0</td>\n",
       "    </tr>\n",
       "    <tr>\n",
       "      <th>1</th>\n",
       "      <td>1</td>\n",
       "      <td>4024</td>\n",
       "      <td>36.00</td>\n",
       "      <td>среднее</td>\n",
       "      <td>1</td>\n",
       "      <td>женат / замужем</td>\n",
       "      <td>0</td>\n",
       "      <td>F</td>\n",
       "      <td>сотрудник</td>\n",
       "      <td>0</td>\n",
       "      <td>112080</td>\n",
       "      <td>приобретение автомобиля</td>\n",
       "      <td>автомобиль</td>\n",
       "      <td>1</td>\n",
       "    </tr>\n",
       "    <tr>\n",
       "      <th>2</th>\n",
       "      <td>0</td>\n",
       "      <td>5623</td>\n",
       "      <td>33.00</td>\n",
       "      <td>среднее</td>\n",
       "      <td>1</td>\n",
       "      <td>женат / замужем</td>\n",
       "      <td>0</td>\n",
       "      <td>M</td>\n",
       "      <td>сотрудник</td>\n",
       "      <td>0</td>\n",
       "      <td>145885</td>\n",
       "      <td>покупка жилья</td>\n",
       "      <td>недвижимость</td>\n",
       "      <td>0</td>\n",
       "    </tr>\n",
       "    <tr>\n",
       "      <th>3</th>\n",
       "      <td>3</td>\n",
       "      <td>4124</td>\n",
       "      <td>32.00</td>\n",
       "      <td>среднее</td>\n",
       "      <td>1</td>\n",
       "      <td>женат / замужем</td>\n",
       "      <td>0</td>\n",
       "      <td>M</td>\n",
       "      <td>сотрудник</td>\n",
       "      <td>0</td>\n",
       "      <td>267628</td>\n",
       "      <td>дополнительное образование</td>\n",
       "      <td>образование</td>\n",
       "      <td>2</td>\n",
       "    </tr>\n",
       "    <tr>\n",
       "      <th>4</th>\n",
       "      <td>0</td>\n",
       "      <td>14177</td>\n",
       "      <td>53.00</td>\n",
       "      <td>среднее</td>\n",
       "      <td>1</td>\n",
       "      <td>гражданский брак</td>\n",
       "      <td>1</td>\n",
       "      <td>F</td>\n",
       "      <td>пенсионер</td>\n",
       "      <td>0</td>\n",
       "      <td>158616</td>\n",
       "      <td>сыграть свадьбу</td>\n",
       "      <td>свадьба</td>\n",
       "      <td>3</td>\n",
       "    </tr>\n",
       "    <tr>\n",
       "      <th>5</th>\n",
       "      <td>0</td>\n",
       "      <td>926</td>\n",
       "      <td>27.00</td>\n",
       "      <td>высшее</td>\n",
       "      <td>0</td>\n",
       "      <td>гражданский брак</td>\n",
       "      <td>1</td>\n",
       "      <td>M</td>\n",
       "      <td>компаньон</td>\n",
       "      <td>0</td>\n",
       "      <td>255763</td>\n",
       "      <td>покупка жилья</td>\n",
       "      <td>недвижимость</td>\n",
       "      <td>0</td>\n",
       "    </tr>\n",
       "    <tr>\n",
       "      <th>6</th>\n",
       "      <td>0</td>\n",
       "      <td>2879</td>\n",
       "      <td>43.00</td>\n",
       "      <td>высшее</td>\n",
       "      <td>0</td>\n",
       "      <td>женат / замужем</td>\n",
       "      <td>0</td>\n",
       "      <td>F</td>\n",
       "      <td>компаньон</td>\n",
       "      <td>0</td>\n",
       "      <td>240525</td>\n",
       "      <td>операции с жильем</td>\n",
       "      <td>недвижимость</td>\n",
       "      <td>0</td>\n",
       "    </tr>\n",
       "    <tr>\n",
       "      <th>7</th>\n",
       "      <td>0</td>\n",
       "      <td>152</td>\n",
       "      <td>50.00</td>\n",
       "      <td>среднее</td>\n",
       "      <td>1</td>\n",
       "      <td>женат / замужем</td>\n",
       "      <td>0</td>\n",
       "      <td>M</td>\n",
       "      <td>сотрудник</td>\n",
       "      <td>0</td>\n",
       "      <td>135823</td>\n",
       "      <td>образование</td>\n",
       "      <td>образование</td>\n",
       "      <td>2</td>\n",
       "    </tr>\n",
       "    <tr>\n",
       "      <th>8</th>\n",
       "      <td>2</td>\n",
       "      <td>6929</td>\n",
       "      <td>35.00</td>\n",
       "      <td>высшее</td>\n",
       "      <td>0</td>\n",
       "      <td>гражданский брак</td>\n",
       "      <td>1</td>\n",
       "      <td>F</td>\n",
       "      <td>сотрудник</td>\n",
       "      <td>0</td>\n",
       "      <td>95856</td>\n",
       "      <td>на проведение свадьбы</td>\n",
       "      <td>свадьба</td>\n",
       "      <td>3</td>\n",
       "    </tr>\n",
       "    <tr>\n",
       "      <th>9</th>\n",
       "      <td>0</td>\n",
       "      <td>2188</td>\n",
       "      <td>41.00</td>\n",
       "      <td>среднее</td>\n",
       "      <td>1</td>\n",
       "      <td>женат / замужем</td>\n",
       "      <td>0</td>\n",
       "      <td>M</td>\n",
       "      <td>сотрудник</td>\n",
       "      <td>0</td>\n",
       "      <td>144425</td>\n",
       "      <td>покупка жилья для семьи</td>\n",
       "      <td>недвижимость</td>\n",
       "      <td>0</td>\n",
       "    </tr>\n",
       "  </tbody>\n",
       "</table>\n",
       "</div>"
      ],
      "text/plain": [
       "   children  days_employed  dob_years education  education_id  \\\n",
       "0         1           8437      42.00    высшее             0   \n",
       "1         1           4024      36.00   среднее             1   \n",
       "2         0           5623      33.00   среднее             1   \n",
       "3         3           4124      32.00   среднее             1   \n",
       "4         0          14177      53.00   среднее             1   \n",
       "5         0            926      27.00    высшее             0   \n",
       "6         0           2879      43.00    высшее             0   \n",
       "7         0            152      50.00   среднее             1   \n",
       "8         2           6929      35.00    высшее             0   \n",
       "9         0           2188      41.00   среднее             1   \n",
       "\n",
       "      family_status  family_status_id gender income_type  debt  total_income  \\\n",
       "0   женат / замужем                 0      F   сотрудник     0        253875   \n",
       "1   женат / замужем                 0      F   сотрудник     0        112080   \n",
       "2   женат / замужем                 0      M   сотрудник     0        145885   \n",
       "3   женат / замужем                 0      M   сотрудник     0        267628   \n",
       "4  гражданский брак                 1      F   пенсионер     0        158616   \n",
       "5  гражданский брак                 1      M   компаньон     0        255763   \n",
       "6   женат / замужем                 0      F   компаньон     0        240525   \n",
       "7   женат / замужем                 0      M   сотрудник     0        135823   \n",
       "8  гражданский брак                 1      F   сотрудник     0         95856   \n",
       "9   женат / замужем                 0      M   сотрудник     0        144425   \n",
       "\n",
       "                      purpose purpose_group  categories_id  \n",
       "0               покупка жилья  недвижимость              0  \n",
       "1     приобретение автомобиля    автомобиль              1  \n",
       "2               покупка жилья  недвижимость              0  \n",
       "3  дополнительное образование   образование              2  \n",
       "4             сыграть свадьбу       свадьба              3  \n",
       "5               покупка жилья  недвижимость              0  \n",
       "6           операции с жильем  недвижимость              0  \n",
       "7                 образование   образование              2  \n",
       "8       на проведение свадьбы       свадьба              3  \n",
       "9     покупка жилья для семьи  недвижимость              0  "
      ]
     },
     "execution_count": 29,
     "metadata": {},
     "output_type": "execute_result"
    }
   ],
   "source": [
    "clients_data.head(10)"
   ]
  },
  {
   "cell_type": "markdown",
   "metadata": {},
   "source": [
    "**Вывод**"
   ]
  },
  {
   "cell_type": "markdown",
   "metadata": {},
   "source": [
    "## Шаг 3. Ответьте на вопросы"
   ]
  },
  {
   "cell_type": "markdown",
   "metadata": {},
   "source": [
    "- Есть ли зависимость между наличием детей и возвратом кредита в срок?"
   ]
  },
  {
   "cell_type": "code",
   "execution_count": 30,
   "metadata": {},
   "outputs": [],
   "source": [
    "clients_data.loc[clients_data['children'] == 20, 'children'] = 2 # Заменим ошибочные значения вместо 20 детей укажем 2-х,\n",
    "clients_data.loc[clients_data['children'] == -1, 'children'] = 1 # вместо -1 укажем 1."
   ]
  },
  {
   "cell_type": "code",
   "execution_count": 31,
   "metadata": {},
   "outputs": [
    {
     "data": {
      "text/html": [
       "<div>\n",
       "<style scoped>\n",
       "    .dataframe tbody tr th:only-of-type {\n",
       "        vertical-align: middle;\n",
       "    }\n",
       "\n",
       "    .dataframe tbody tr th {\n",
       "        vertical-align: top;\n",
       "    }\n",
       "\n",
       "    .dataframe thead th {\n",
       "        text-align: right;\n",
       "    }\n",
       "</style>\n",
       "<table border=\"1\" class=\"dataframe\">\n",
       "  <thead>\n",
       "    <tr style=\"text-align: right;\">\n",
       "      <th></th>\n",
       "      <th>count_children</th>\n",
       "      <th>sum_children</th>\n",
       "      <th>result_children</th>\n",
       "    </tr>\n",
       "    <tr>\n",
       "      <th>children</th>\n",
       "      <th></th>\n",
       "      <th></th>\n",
       "      <th></th>\n",
       "    </tr>\n",
       "  </thead>\n",
       "  <tbody>\n",
       "    <tr>\n",
       "      <th>4</th>\n",
       "      <td>41</td>\n",
       "      <td>4</td>\n",
       "      <td>0.10</td>\n",
       "    </tr>\n",
       "    <tr>\n",
       "      <th>2</th>\n",
       "      <td>2128</td>\n",
       "      <td>202</td>\n",
       "      <td>0.09</td>\n",
       "    </tr>\n",
       "    <tr>\n",
       "      <th>1</th>\n",
       "      <td>4855</td>\n",
       "      <td>445</td>\n",
       "      <td>0.09</td>\n",
       "    </tr>\n",
       "    <tr>\n",
       "      <th>3</th>\n",
       "      <td>330</td>\n",
       "      <td>27</td>\n",
       "      <td>0.08</td>\n",
       "    </tr>\n",
       "    <tr>\n",
       "      <th>0</th>\n",
       "      <td>14090</td>\n",
       "      <td>1063</td>\n",
       "      <td>0.08</td>\n",
       "    </tr>\n",
       "    <tr>\n",
       "      <th>5</th>\n",
       "      <td>9</td>\n",
       "      <td>0</td>\n",
       "      <td>0.00</td>\n",
       "    </tr>\n",
       "  </tbody>\n",
       "</table>\n",
       "</div>"
      ],
      "text/plain": [
       "          count_children  sum_children  result_children\n",
       "children                                               \n",
       "4                     41             4             0.10\n",
       "2                   2128           202             0.09\n",
       "1                   4855           445             0.09\n",
       "3                    330            27             0.08\n",
       "0                  14090          1063             0.08\n",
       "5                      9             0             0.00"
      ]
     },
     "execution_count": 31,
     "metadata": {},
     "output_type": "execute_result"
    }
   ],
   "source": [
    "debt_from_children = pd.DataFrame()\n",
    "debt_from_children['count_children'] = clients_data.groupby('children')['debt'].count()\n",
    "debt_from_children['sum_children'] = clients_data.groupby('children')['debt'].sum()\n",
    "debt_from_children['result_children'] = debt_from_children['sum_children'] / debt_from_children['count_children'] \n",
    "debt_from_children.sort_values('result_children', ascending = False)"
   ]
  },
  {
   "cell_type": "markdown",
   "metadata": {},
   "source": [
    "**Вывод**"
   ]
  },
  {
   "cell_type": "markdown",
   "metadata": {},
   "source": [
    "С увеличением количества детей мы видим увеличение количества просроченных задолженностей, хотя люди с 3 детьми чаще платят в срок чем люди с 1 ребенком. Данные не однозначные, возможно, нужна большая выборка, чем та, которую мы имеем. Бездетные, как правило реже просрачивают оплату по кредиту, чем люди с детьми."
   ]
  },
  {
   "cell_type": "markdown",
   "metadata": {},
   "source": [
    "- Есть ли зависимость между семейным положением и возвратом кредита в срок?"
   ]
  },
  {
   "cell_type": "code",
   "execution_count": 32,
   "metadata": {},
   "outputs": [
    {
     "data": {
      "text/html": [
       "<div>\n",
       "<style scoped>\n",
       "    .dataframe tbody tr th:only-of-type {\n",
       "        vertical-align: middle;\n",
       "    }\n",
       "\n",
       "    .dataframe tbody tr th {\n",
       "        vertical-align: top;\n",
       "    }\n",
       "\n",
       "    .dataframe thead th {\n",
       "        text-align: right;\n",
       "    }\n",
       "</style>\n",
       "<table border=\"1\" class=\"dataframe\">\n",
       "  <thead>\n",
       "    <tr style=\"text-align: right;\">\n",
       "      <th></th>\n",
       "      <th>sum_family_status</th>\n",
       "      <th>count_family_status</th>\n",
       "      <th>result_family_status</th>\n",
       "    </tr>\n",
       "    <tr>\n",
       "      <th>family_status</th>\n",
       "      <th></th>\n",
       "      <th></th>\n",
       "      <th></th>\n",
       "    </tr>\n",
       "  </thead>\n",
       "  <tbody>\n",
       "    <tr>\n",
       "      <th>Не женат / не замужем</th>\n",
       "      <td>274</td>\n",
       "      <td>2810</td>\n",
       "      <td>0.10</td>\n",
       "    </tr>\n",
       "    <tr>\n",
       "      <th>гражданский брак</th>\n",
       "      <td>388</td>\n",
       "      <td>4150</td>\n",
       "      <td>0.09</td>\n",
       "    </tr>\n",
       "    <tr>\n",
       "      <th>женат / замужем</th>\n",
       "      <td>931</td>\n",
       "      <td>12339</td>\n",
       "      <td>0.08</td>\n",
       "    </tr>\n",
       "    <tr>\n",
       "      <th>в разводе</th>\n",
       "      <td>85</td>\n",
       "      <td>1195</td>\n",
       "      <td>0.07</td>\n",
       "    </tr>\n",
       "    <tr>\n",
       "      <th>вдовец / вдова</th>\n",
       "      <td>63</td>\n",
       "      <td>959</td>\n",
       "      <td>0.07</td>\n",
       "    </tr>\n",
       "  </tbody>\n",
       "</table>\n",
       "</div>"
      ],
      "text/plain": [
       "                       sum_family_status  count_family_status  \\\n",
       "family_status                                                   \n",
       "Не женат / не замужем                274                 2810   \n",
       "гражданский брак                     388                 4150   \n",
       "женат / замужем                      931                12339   \n",
       "в разводе                             85                 1195   \n",
       "вдовец / вдова                        63                  959   \n",
       "\n",
       "                       result_family_status  \n",
       "family_status                                \n",
       "Не женат / не замужем                  0.10  \n",
       "гражданский брак                       0.09  \n",
       "женат / замужем                        0.08  \n",
       "в разводе                              0.07  \n",
       "вдовец / вдова                         0.07  "
      ]
     },
     "execution_count": 32,
     "metadata": {},
     "output_type": "execute_result"
    }
   ],
   "source": [
    "debt_from_family_status = pd.DataFrame()\n",
    "debt_from_family_status['sum_family_status'] = clients_data.groupby('family_status')['debt'].sum()\n",
    "debt_from_family_status['count_family_status'] = clients_data.groupby('family_status')['debt'].count()\n",
    "debt_from_family_status['result_family_status'] = debt_from_family_status['sum_family_status'] / debt_from_family_status['count_family_status'] \n",
    "debt_from_family_status.sort_values('result_family_status', ascending = False)"
   ]
  },
  {
   "cell_type": "markdown",
   "metadata": {},
   "source": [
    "**Вывод**"
   ]
  },
  {
   "cell_type": "markdown",
   "metadata": {},
   "source": [
    "Да, зависимость есть. Люди не в браке и не бывавшие в браке имеют больший процент невозвратов в срок. Но, те кто развелись или овдовели чаще платят в срок, чем люди в браке."
   ]
  },
  {
   "cell_type": "markdown",
   "metadata": {},
   "source": [
    "- Есть ли зависимость между уровнем дохода и возвратом кредита в срок?"
   ]
  },
  {
   "cell_type": "code",
   "execution_count": 33,
   "metadata": {},
   "outputs": [
    {
     "data": {
      "text/html": [
       "<div>\n",
       "<style scoped>\n",
       "    .dataframe tbody tr th:only-of-type {\n",
       "        vertical-align: middle;\n",
       "    }\n",
       "\n",
       "    .dataframe tbody tr th {\n",
       "        vertical-align: top;\n",
       "    }\n",
       "\n",
       "    .dataframe thead th {\n",
       "        text-align: right;\n",
       "    }\n",
       "</style>\n",
       "<table border=\"1\" class=\"dataframe\">\n",
       "  <thead>\n",
       "    <tr style=\"text-align: right;\">\n",
       "      <th></th>\n",
       "      <th>debt</th>\n",
       "      <th>family_status_id</th>\n",
       "    </tr>\n",
       "    <tr>\n",
       "      <th>total_income</th>\n",
       "      <th></th>\n",
       "      <th></th>\n",
       "    </tr>\n",
       "  </thead>\n",
       "  <tbody>\n",
       "    <tr>\n",
       "      <th>(20666.999, 107620.0]</th>\n",
       "      <td>427</td>\n",
       "      <td>5364</td>\n",
       "    </tr>\n",
       "    <tr>\n",
       "      <th>(107620.0, 145017.0]</th>\n",
       "      <td>547</td>\n",
       "      <td>6414</td>\n",
       "    </tr>\n",
       "    <tr>\n",
       "      <th>(145017.0, 195818.0]</th>\n",
       "      <td>384</td>\n",
       "      <td>4312</td>\n",
       "    </tr>\n",
       "    <tr>\n",
       "      <th>(195818.0, 2265604.0]</th>\n",
       "      <td>383</td>\n",
       "      <td>5363</td>\n",
       "    </tr>\n",
       "  </tbody>\n",
       "</table>\n",
       "</div>"
      ],
      "text/plain": [
       "                       debt  family_status_id\n",
       "total_income                                 \n",
       "(20666.999, 107620.0]   427              5364\n",
       "(107620.0, 145017.0]    547              6414\n",
       "(145017.0, 195818.0]    384              4312\n",
       "(195818.0, 2265604.0]   383              5363"
      ]
     },
     "execution_count": 33,
     "metadata": {},
     "output_type": "execute_result"
    }
   ],
   "source": [
    "total_income = pd.qcut(clients_data['total_income'], 4)\n",
    "\n",
    "income_pivot = clients_data.pivot_table(index=[total_income], aggfunc={'family_status_id':len, 'debt':sum})\n",
    "\n",
    "income_pivot"
   ]
  },
  {
   "cell_type": "code",
   "execution_count": 34,
   "metadata": {},
   "outputs": [
    {
     "data": {
      "text/html": [
       "<div>\n",
       "<style scoped>\n",
       "    .dataframe tbody tr th:only-of-type {\n",
       "        vertical-align: middle;\n",
       "    }\n",
       "\n",
       "    .dataframe tbody tr th {\n",
       "        vertical-align: top;\n",
       "    }\n",
       "\n",
       "    .dataframe thead th {\n",
       "        text-align: right;\n",
       "    }\n",
       "</style>\n",
       "<table border=\"1\" class=\"dataframe\">\n",
       "  <thead>\n",
       "    <tr style=\"text-align: right;\">\n",
       "      <th></th>\n",
       "      <th>debt</th>\n",
       "      <th>family_status_id</th>\n",
       "      <th>part</th>\n",
       "    </tr>\n",
       "    <tr>\n",
       "      <th>total_income</th>\n",
       "      <th></th>\n",
       "      <th></th>\n",
       "      <th></th>\n",
       "    </tr>\n",
       "  </thead>\n",
       "  <tbody>\n",
       "    <tr>\n",
       "      <th>(145017.0, 195818.0]</th>\n",
       "      <td>384</td>\n",
       "      <td>4312</td>\n",
       "      <td>8.91</td>\n",
       "    </tr>\n",
       "    <tr>\n",
       "      <th>(107620.0, 145017.0]</th>\n",
       "      <td>547</td>\n",
       "      <td>6414</td>\n",
       "      <td>8.53</td>\n",
       "    </tr>\n",
       "    <tr>\n",
       "      <th>(20666.999, 107620.0]</th>\n",
       "      <td>427</td>\n",
       "      <td>5364</td>\n",
       "      <td>7.96</td>\n",
       "    </tr>\n",
       "    <tr>\n",
       "      <th>(195818.0, 2265604.0]</th>\n",
       "      <td>383</td>\n",
       "      <td>5363</td>\n",
       "      <td>7.14</td>\n",
       "    </tr>\n",
       "  </tbody>\n",
       "</table>\n",
       "</div>"
      ],
      "text/plain": [
       "                       debt  family_status_id  part\n",
       "total_income                                       \n",
       "(145017.0, 195818.0]    384              4312  8.91\n",
       "(107620.0, 145017.0]    547              6414  8.53\n",
       "(20666.999, 107620.0]   427              5364  7.96\n",
       "(195818.0, 2265604.0]   383              5363  7.14"
      ]
     },
     "execution_count": 34,
     "metadata": {},
     "output_type": "execute_result"
    }
   ],
   "source": [
    "income_pivot['part'] = income_pivot['debt'] / income_pivot['family_status_id'] * 100\n",
    "\n",
    "income_pivot.sort_values(by='part', ascending = False)"
   ]
  },
  {
   "cell_type": "markdown",
   "metadata": {},
   "source": [
    "**Вывод**"
   ]
  },
  {
   "cell_type": "markdown",
   "metadata": {},
   "source": [
    "Разбив квантилями столбец `total_income`, получим четыре примерно равных по численности группы. Наибольший процент должников - в группе чуть выше медианы, с доходом от медианы до примерно 200 000 руб/мес, а клиенты с наименьшими и наибольшими доходами реже остальных задерживают платежи по кредитам. Таким образом, уровень дохода практически не влияет на возврат кредита в срок. "
   ]
  },
  {
   "cell_type": "markdown",
   "metadata": {},
   "source": [
    "- Как разные цели кредита влияют на его возврат в срок?"
   ]
  },
  {
   "cell_type": "code",
   "execution_count": 35,
   "metadata": {},
   "outputs": [
    {
     "data": {
      "text/html": [
       "<div>\n",
       "<style scoped>\n",
       "    .dataframe tbody tr th:only-of-type {\n",
       "        vertical-align: middle;\n",
       "    }\n",
       "\n",
       "    .dataframe tbody tr th {\n",
       "        vertical-align: top;\n",
       "    }\n",
       "\n",
       "    .dataframe thead th {\n",
       "        text-align: right;\n",
       "    }\n",
       "</style>\n",
       "<table border=\"1\" class=\"dataframe\">\n",
       "  <thead>\n",
       "    <tr style=\"text-align: right;\">\n",
       "      <th></th>\n",
       "      <th>sum_purpose_group</th>\n",
       "      <th>count_purpose_group</th>\n",
       "      <th>result_purpose_group</th>\n",
       "    </tr>\n",
       "    <tr>\n",
       "      <th>purpose_group</th>\n",
       "      <th></th>\n",
       "      <th></th>\n",
       "      <th></th>\n",
       "    </tr>\n",
       "  </thead>\n",
       "  <tbody>\n",
       "    <tr>\n",
       "      <th>автомобиль</th>\n",
       "      <td>403</td>\n",
       "      <td>4306</td>\n",
       "      <td>0.09</td>\n",
       "    </tr>\n",
       "    <tr>\n",
       "      <th>образование</th>\n",
       "      <td>370</td>\n",
       "      <td>4013</td>\n",
       "      <td>0.09</td>\n",
       "    </tr>\n",
       "    <tr>\n",
       "      <th>свадьба</th>\n",
       "      <td>186</td>\n",
       "      <td>2323</td>\n",
       "      <td>0.08</td>\n",
       "    </tr>\n",
       "    <tr>\n",
       "      <th>недвижимость</th>\n",
       "      <td>782</td>\n",
       "      <td>10811</td>\n",
       "      <td>0.07</td>\n",
       "    </tr>\n",
       "  </tbody>\n",
       "</table>\n",
       "</div>"
      ],
      "text/plain": [
       "               sum_purpose_group  count_purpose_group  result_purpose_group\n",
       "purpose_group                                                              \n",
       "автомобиль                   403                 4306                  0.09\n",
       "образование                  370                 4013                  0.09\n",
       "свадьба                      186                 2323                  0.08\n",
       "недвижимость                 782                10811                  0.07"
      ]
     },
     "execution_count": 35,
     "metadata": {},
     "output_type": "execute_result"
    }
   ],
   "source": [
    "debt_from_purpose_category = pd.DataFrame()\n",
    "debt_from_purpose_category['sum_purpose_group'] = clients_data.groupby('purpose_group')['debt'].sum()\n",
    "debt_from_purpose_category['count_purpose_group'] = clients_data.groupby('purpose_group')['debt'].count()\n",
    "debt_from_purpose_category['result_purpose_group'] = debt_from_purpose_category['sum_purpose_group'] / debt_from_purpose_category['count_purpose_group'] \n",
    "debt_from_purpose_category.sort_values('result_purpose_group', ascending = False)"
   ]
  },
  {
   "cell_type": "markdown",
   "metadata": {},
   "source": [
    "**Вывод**"
   ]
  },
  {
   "cell_type": "markdown",
   "metadata": {},
   "source": [
    "Как видно из анализа, среди 4 категорий, чаще всего платят в срок с целью кредита недвижимость. Кредиты на свадьбу просрочивают реже - примерно как и в случае недвижимости. Чаще просрочка у тех кому нужен кредит на авто и образование. "
   ]
  },
  {
   "cell_type": "markdown",
   "metadata": {},
   "source": [
    "## Шаг 4. Общий вывод"
   ]
  },
  {
   "cell_type": "markdown",
   "metadata": {},
   "source": [
    "Проанализировав данные, видим следующее:\n",
    "\n",
    "Процент должников среди родителей заметно выше, чем среди бездетных заемщиков: в случае рождения детей вероятность стать должником по кредиту возрастает.\n",
    "\n",
    "Также есть явная зависимость между семейным положением и возвратом кредита в срок: неженатые / незамужние клиенты чаще всего становятся должниками. А вот семейные клиенты, вдовцы и в разводе - самые надежные плательщики.\n",
    "\n",
    "Между уровнем дохода и возвратом кредита в срок зависимость минимальна.\n",
    "\n",
    "Цель кредита влияет на вероятность просрочки платежей: если цель кредита - автомобиль или образование, то вероятность явно выше, чем если целью кредита являются операции с недвижимостью."
   ]
  }
 ],
 "metadata": {
  "ExecuteTimeLog": [
   {
    "duration": 737,
    "start_time": "2021-11-21T14:44:19.709Z"
   },
   {
    "duration": 58,
    "start_time": "2021-11-21T14:51:12.036Z"
   },
   {
    "duration": 69,
    "start_time": "2021-11-21T14:53:16.918Z"
   },
   {
    "duration": 74,
    "start_time": "2021-11-21T14:54:08.073Z"
   },
   {
    "duration": 673,
    "start_time": "2021-11-21T15:07:32.131Z"
   },
   {
    "duration": 59,
    "start_time": "2021-11-21T15:08:25.004Z"
   },
   {
    "duration": 62,
    "start_time": "2021-11-21T15:08:56.968Z"
   },
   {
    "duration": 651,
    "start_time": "2021-11-21T15:09:13.043Z"
   },
   {
    "duration": 49,
    "start_time": "2021-11-21T15:15:53.397Z"
   },
   {
    "duration": 408,
    "start_time": "2021-11-21T16:00:15.063Z"
   },
   {
    "duration": 357,
    "start_time": "2021-11-21T16:00:27.917Z"
   },
   {
    "duration": 1479,
    "start_time": "2021-11-21T16:00:30.070Z"
   },
   {
    "duration": 49,
    "start_time": "2021-11-21T16:00:31.551Z"
   },
   {
    "duration": 19,
    "start_time": "2021-11-21T16:00:32.348Z"
   },
   {
    "duration": 15,
    "start_time": "2021-11-21T16:01:51.879Z"
   },
   {
    "duration": 1585,
    "start_time": "2021-11-22T04:11:20.440Z"
   },
   {
    "duration": 64,
    "start_time": "2021-11-22T04:11:22.028Z"
   },
   {
    "duration": 29,
    "start_time": "2021-11-22T04:11:22.095Z"
   },
   {
    "duration": 18,
    "start_time": "2021-11-22T04:11:22.126Z"
   },
   {
    "duration": 1537,
    "start_time": "2021-11-22T05:39:30.624Z"
   },
   {
    "duration": 65,
    "start_time": "2021-11-22T05:39:32.163Z"
   },
   {
    "duration": 39,
    "start_time": "2021-11-22T05:39:32.231Z"
   },
   {
    "duration": 15,
    "start_time": "2021-11-22T05:39:32.273Z"
   },
   {
    "duration": 757,
    "start_time": "2021-11-22T06:05:47.057Z"
   },
   {
    "duration": 65,
    "start_time": "2021-11-22T06:05:47.817Z"
   },
   {
    "duration": 31,
    "start_time": "2021-11-22T06:05:47.885Z"
   },
   {
    "duration": 15,
    "start_time": "2021-11-22T06:05:47.919Z"
   },
   {
    "duration": 34,
    "start_time": "2021-11-22T06:12:37.080Z"
   },
   {
    "duration": 25,
    "start_time": "2021-11-22T06:12:57.975Z"
   },
   {
    "duration": 731,
    "start_time": "2021-11-22T06:13:30.413Z"
   },
   {
    "duration": 70,
    "start_time": "2021-11-22T06:13:31.147Z"
   },
   {
    "duration": 52,
    "start_time": "2021-11-22T06:13:31.221Z"
   },
   {
    "duration": 32,
    "start_time": "2021-11-22T06:13:31.276Z"
   },
   {
    "duration": 65,
    "start_time": "2021-11-22T07:23:19.634Z"
   },
   {
    "duration": 24,
    "start_time": "2021-11-22T07:23:35.464Z"
   },
   {
    "duration": 23,
    "start_time": "2021-11-22T07:24:27.219Z"
   },
   {
    "duration": 22,
    "start_time": "2021-11-22T07:24:36.086Z"
   },
   {
    "duration": 21,
    "start_time": "2021-11-22T07:24:43.958Z"
   },
   {
    "duration": 8,
    "start_time": "2021-11-22T07:31:28.536Z"
   },
   {
    "duration": 806,
    "start_time": "2021-11-22T07:32:22.133Z"
   },
   {
    "duration": 65,
    "start_time": "2021-11-22T07:32:22.942Z"
   },
   {
    "duration": 34,
    "start_time": "2021-11-22T07:32:23.009Z"
   },
   {
    "duration": 31,
    "start_time": "2021-11-22T07:32:23.046Z"
   },
   {
    "duration": 27,
    "start_time": "2021-11-22T07:32:23.080Z"
   },
   {
    "duration": 8,
    "start_time": "2021-11-22T07:32:23.109Z"
   },
   {
    "duration": 22,
    "start_time": "2021-11-22T07:34:38.270Z"
   },
   {
    "duration": 15,
    "start_time": "2021-11-22T07:37:08.827Z"
   },
   {
    "duration": 7,
    "start_time": "2021-11-22T07:37:34.946Z"
   },
   {
    "duration": 23,
    "start_time": "2021-11-22T07:37:35.103Z"
   },
   {
    "duration": 376,
    "start_time": "2021-11-22T07:51:33.367Z"
   },
   {
    "duration": 16,
    "start_time": "2021-11-22T07:51:44.415Z"
   },
   {
    "duration": 107,
    "start_time": "2021-11-22T07:53:23.352Z"
   },
   {
    "duration": 26,
    "start_time": "2021-11-22T07:53:46.479Z"
   },
   {
    "duration": 38,
    "start_time": "2021-11-22T07:54:32.155Z"
   },
   {
    "duration": 47,
    "start_time": "2021-11-22T07:56:18.685Z"
   },
   {
    "duration": 33,
    "start_time": "2021-11-22T08:00:45.378Z"
   },
   {
    "duration": 39,
    "start_time": "2021-11-22T08:00:45.930Z"
   },
   {
    "duration": 11,
    "start_time": "2021-11-22T08:06:47.630Z"
   },
   {
    "duration": -981,
    "start_time": "2021-11-22T08:18:48.433Z"
   },
   {
    "duration": 708,
    "start_time": "2021-11-22T08:18:52.710Z"
   },
   {
    "duration": 69,
    "start_time": "2021-11-22T08:18:53.420Z"
   },
   {
    "duration": 34,
    "start_time": "2021-11-22T08:18:53.492Z"
   },
   {
    "duration": 41,
    "start_time": "2021-11-22T08:18:53.529Z"
   },
   {
    "duration": 19,
    "start_time": "2021-11-22T08:18:53.573Z"
   },
   {
    "duration": 12,
    "start_time": "2021-11-22T08:18:53.595Z"
   },
   {
    "duration": 57,
    "start_time": "2021-11-22T08:18:53.610Z"
   },
   {
    "duration": 8,
    "start_time": "2021-11-22T08:18:53.670Z"
   },
   {
    "duration": 19,
    "start_time": "2021-11-22T08:18:53.683Z"
   },
   {
    "duration": 19,
    "start_time": "2021-11-22T08:18:53.705Z"
   },
   {
    "duration": 82,
    "start_time": "2021-11-22T08:18:53.726Z"
   },
   {
    "duration": 73,
    "start_time": "2021-11-22T08:18:53.811Z"
   },
   {
    "duration": 23,
    "start_time": "2021-11-22T08:18:53.887Z"
   },
   {
    "duration": 55,
    "start_time": "2021-11-22T08:18:53.912Z"
   },
   {
    "duration": 11,
    "start_time": "2021-11-22T08:18:53.969Z"
   },
   {
    "duration": 8195,
    "start_time": "2021-11-22T08:18:53.982Z"
   },
   {
    "duration": -999,
    "start_time": "2021-11-22T08:19:11.622Z"
   },
   {
    "duration": 854,
    "start_time": "2021-11-22T08:19:18.655Z"
   },
   {
    "duration": 64,
    "start_time": "2021-11-22T08:19:19.512Z"
   },
   {
    "duration": 31,
    "start_time": "2021-11-22T08:19:19.579Z"
   },
   {
    "duration": 19,
    "start_time": "2021-11-22T08:19:19.612Z"
   },
   {
    "duration": 42,
    "start_time": "2021-11-22T08:19:19.633Z"
   },
   {
    "duration": 13,
    "start_time": "2021-11-22T08:19:19.677Z"
   },
   {
    "duration": 26,
    "start_time": "2021-11-22T08:19:19.692Z"
   },
   {
    "duration": 8,
    "start_time": "2021-11-22T08:19:19.721Z"
   },
   {
    "duration": 43,
    "start_time": "2021-11-22T08:19:19.731Z"
   },
   {
    "duration": 17,
    "start_time": "2021-11-22T08:19:19.776Z"
   },
   {
    "duration": 49,
    "start_time": "2021-11-22T08:19:19.795Z"
   },
   {
    "duration": 66,
    "start_time": "2021-11-22T08:19:19.847Z"
   },
   {
    "duration": 22,
    "start_time": "2021-11-22T08:19:19.915Z"
   },
   {
    "duration": 63,
    "start_time": "2021-11-22T08:19:19.939Z"
   },
   {
    "duration": 12,
    "start_time": "2021-11-22T08:19:20.004Z"
   },
   {
    "duration": 6418,
    "start_time": "2021-11-22T08:19:20.019Z"
   },
   {
    "duration": 288,
    "start_time": "2021-11-22T08:20:20.892Z"
   },
   {
    "duration": 4619,
    "start_time": "2021-11-22T08:20:59.751Z"
   },
   {
    "duration": 828,
    "start_time": "2021-11-22T08:21:12.345Z"
   },
   {
    "duration": 65,
    "start_time": "2021-11-22T08:21:13.176Z"
   },
   {
    "duration": 38,
    "start_time": "2021-11-22T08:21:13.244Z"
   },
   {
    "duration": 18,
    "start_time": "2021-11-22T08:21:13.286Z"
   },
   {
    "duration": 31,
    "start_time": "2021-11-22T08:21:13.306Z"
   },
   {
    "duration": 36,
    "start_time": "2021-11-22T08:21:13.339Z"
   },
   {
    "duration": 22,
    "start_time": "2021-11-22T08:21:13.378Z"
   },
   {
    "duration": 7,
    "start_time": "2021-11-22T08:21:13.406Z"
   },
   {
    "duration": 53,
    "start_time": "2021-11-22T08:21:13.416Z"
   },
   {
    "duration": 18,
    "start_time": "2021-11-22T08:21:13.472Z"
   },
   {
    "duration": 44,
    "start_time": "2021-11-22T08:21:13.492Z"
   },
   {
    "duration": 79,
    "start_time": "2021-11-22T08:21:13.539Z"
   },
   {
    "duration": 24,
    "start_time": "2021-11-22T08:21:13.621Z"
   },
   {
    "duration": 39,
    "start_time": "2021-11-22T08:21:13.667Z"
   },
   {
    "duration": 10,
    "start_time": "2021-11-22T08:21:13.709Z"
   },
   {
    "duration": 4825,
    "start_time": "2021-11-22T08:21:13.722Z"
   },
   {
    "duration": 4798,
    "start_time": "2021-11-22T08:25:21.380Z"
   },
   {
    "duration": 700,
    "start_time": "2021-11-22T08:25:35.818Z"
   },
   {
    "duration": 64,
    "start_time": "2021-11-22T08:25:36.521Z"
   },
   {
    "duration": 33,
    "start_time": "2021-11-22T08:25:36.588Z"
   },
   {
    "duration": 15,
    "start_time": "2021-11-22T08:25:36.624Z"
   },
   {
    "duration": 34,
    "start_time": "2021-11-22T08:25:36.642Z"
   },
   {
    "duration": 8,
    "start_time": "2021-11-22T08:25:36.678Z"
   },
   {
    "duration": 21,
    "start_time": "2021-11-22T08:25:36.689Z"
   },
   {
    "duration": 7,
    "start_time": "2021-11-22T08:25:36.713Z"
   },
   {
    "duration": 54,
    "start_time": "2021-11-22T08:25:36.724Z"
   },
   {
    "duration": 16,
    "start_time": "2021-11-22T08:25:36.781Z"
   },
   {
    "duration": 40,
    "start_time": "2021-11-22T08:25:36.799Z"
   },
   {
    "duration": 68,
    "start_time": "2021-11-22T08:25:36.842Z"
   },
   {
    "duration": 23,
    "start_time": "2021-11-22T08:25:36.913Z"
   },
   {
    "duration": 62,
    "start_time": "2021-11-22T08:25:36.939Z"
   },
   {
    "duration": 10,
    "start_time": "2021-11-22T08:25:37.003Z"
   },
   {
    "duration": 4597,
    "start_time": "2021-11-22T08:25:37.015Z"
   },
   {
    "duration": 402,
    "start_time": "2021-11-22T10:32:34.252Z"
   },
   {
    "duration": 3711,
    "start_time": "2021-11-22T10:33:19.914Z"
   },
   {
    "duration": 264,
    "start_time": "2021-11-22T10:33:46.679Z"
   },
   {
    "duration": 11,
    "start_time": "2021-11-22T10:33:52.776Z"
   },
   {
    "duration": 389,
    "start_time": "2021-11-22T10:36:48.188Z"
   },
   {
    "duration": 22,
    "start_time": "2021-11-22T10:37:12.045Z"
   },
   {
    "duration": 4,
    "start_time": "2021-11-22T11:18:10.458Z"
   },
   {
    "duration": 6868,
    "start_time": "2021-11-22T11:18:10.983Z"
   },
   {
    "duration": 26,
    "start_time": "2021-11-22T11:19:33.205Z"
   },
   {
    "duration": 23,
    "start_time": "2021-11-22T11:19:53.118Z"
   },
   {
    "duration": 3875,
    "start_time": "2021-11-22T11:20:33.847Z"
   },
   {
    "duration": 760,
    "start_time": "2021-11-22T11:20:54.683Z"
   },
   {
    "duration": 66,
    "start_time": "2021-11-22T11:20:55.446Z"
   },
   {
    "duration": 33,
    "start_time": "2021-11-22T11:20:55.514Z"
   },
   {
    "duration": 29,
    "start_time": "2021-11-22T11:20:55.549Z"
   },
   {
    "duration": 20,
    "start_time": "2021-11-22T11:20:55.580Z"
   },
   {
    "duration": 7,
    "start_time": "2021-11-22T11:20:55.603Z"
   },
   {
    "duration": 23,
    "start_time": "2021-11-22T11:20:55.612Z"
   },
   {
    "duration": 6,
    "start_time": "2021-11-22T11:20:55.671Z"
   },
   {
    "duration": 24,
    "start_time": "2021-11-22T11:20:55.680Z"
   },
   {
    "duration": 18,
    "start_time": "2021-11-22T11:20:55.706Z"
   },
   {
    "duration": 79,
    "start_time": "2021-11-22T11:20:55.727Z"
   },
   {
    "duration": 58,
    "start_time": "2021-11-22T11:20:55.809Z"
   },
   {
    "duration": 25,
    "start_time": "2021-11-22T11:20:55.870Z"
   },
   {
    "duration": 39,
    "start_time": "2021-11-22T11:20:55.897Z"
   },
   {
    "duration": 39,
    "start_time": "2021-11-22T11:20:55.940Z"
   },
   {
    "duration": 5027,
    "start_time": "2021-11-22T11:20:55.984Z"
   },
   {
    "duration": 4162,
    "start_time": "2021-11-22T11:21:01.014Z"
   },
   {
    "duration": 11,
    "start_time": "2021-11-22T11:21:05.178Z"
   },
   {
    "duration": 37,
    "start_time": "2021-11-22T11:21:05.191Z"
   },
   {
    "duration": 4,
    "start_time": "2021-11-22T11:21:05.231Z"
   },
   {
    "duration": 40,
    "start_time": "2021-11-22T11:21:05.238Z"
   },
   {
    "duration": 28,
    "start_time": "2021-11-22T11:21:05.281Z"
   },
   {
    "duration": 363,
    "start_time": "2021-11-22T11:23:16.857Z"
   },
   {
    "duration": 23,
    "start_time": "2021-11-22T11:23:41.336Z"
   },
   {
    "duration": 266,
    "start_time": "2021-11-22T11:24:09.392Z"
   },
   {
    "duration": 284,
    "start_time": "2021-11-22T11:25:22.679Z"
   },
   {
    "duration": 271,
    "start_time": "2021-11-22T11:25:37.000Z"
   },
   {
    "duration": 12,
    "start_time": "2021-11-22T11:25:51.903Z"
   },
   {
    "duration": 22,
    "start_time": "2021-11-22T11:25:54.540Z"
   },
   {
    "duration": 14,
    "start_time": "2021-11-22T11:28:21.101Z"
   },
   {
    "duration": 22,
    "start_time": "2021-11-22T11:28:21.629Z"
   },
   {
    "duration": 835,
    "start_time": "2021-11-22T11:28:31.003Z"
   },
   {
    "duration": 65,
    "start_time": "2021-11-22T11:28:31.841Z"
   },
   {
    "duration": 32,
    "start_time": "2021-11-22T11:28:31.909Z"
   },
   {
    "duration": 33,
    "start_time": "2021-11-22T11:28:31.944Z"
   },
   {
    "duration": 18,
    "start_time": "2021-11-22T11:28:31.980Z"
   },
   {
    "duration": 8,
    "start_time": "2021-11-22T11:28:32.001Z"
   },
   {
    "duration": 24,
    "start_time": "2021-11-22T11:28:32.012Z"
   },
   {
    "duration": 6,
    "start_time": "2021-11-22T11:28:32.067Z"
   },
   {
    "duration": 20,
    "start_time": "2021-11-22T11:28:32.077Z"
   },
   {
    "duration": 17,
    "start_time": "2021-11-22T11:28:32.101Z"
   },
   {
    "duration": 78,
    "start_time": "2021-11-22T11:28:32.121Z"
   },
   {
    "duration": 49,
    "start_time": "2021-11-22T11:28:32.202Z"
   },
   {
    "duration": 25,
    "start_time": "2021-11-22T11:28:32.267Z"
   },
   {
    "duration": 41,
    "start_time": "2021-11-22T11:28:32.295Z"
   },
   {
    "duration": 35,
    "start_time": "2021-11-22T11:28:32.339Z"
   },
   {
    "duration": 4729,
    "start_time": "2021-11-22T11:28:32.376Z"
   },
   {
    "duration": 3681,
    "start_time": "2021-11-22T11:28:37.108Z"
   },
   {
    "duration": 10,
    "start_time": "2021-11-22T11:28:40.792Z"
   },
   {
    "duration": 21,
    "start_time": "2021-11-22T11:28:40.805Z"
   },
   {
    "duration": 4,
    "start_time": "2021-11-22T11:28:40.828Z"
   },
   {
    "duration": 57,
    "start_time": "2021-11-22T11:28:40.835Z"
   },
   {
    "duration": 31,
    "start_time": "2021-11-22T11:28:40.894Z"
   },
   {
    "duration": 21,
    "start_time": "2021-11-22T11:28:40.927Z"
   },
   {
    "duration": 29,
    "start_time": "2021-11-22T11:28:40.950Z"
   },
   {
    "duration": 25,
    "start_time": "2021-11-22T11:30:19.625Z"
   },
   {
    "duration": 403,
    "start_time": "2021-11-22T11:35:58.431Z"
   },
   {
    "duration": 47,
    "start_time": "2021-11-22T11:36:16.438Z"
   },
   {
    "duration": 474,
    "start_time": "2021-11-22T11:37:08.669Z"
   },
   {
    "duration": 289,
    "start_time": "2021-11-22T11:37:41.174Z"
   },
   {
    "duration": 24,
    "start_time": "2021-11-22T11:38:28.311Z"
   },
   {
    "duration": 720,
    "start_time": "2021-11-22T11:46:29.120Z"
   },
   {
    "duration": 65,
    "start_time": "2021-11-22T11:46:29.843Z"
   },
   {
    "duration": 31,
    "start_time": "2021-11-22T11:46:29.911Z"
   },
   {
    "duration": 29,
    "start_time": "2021-11-22T11:46:29.945Z"
   },
   {
    "duration": 21,
    "start_time": "2021-11-22T11:46:29.976Z"
   },
   {
    "duration": 8,
    "start_time": "2021-11-22T11:46:29.999Z"
   },
   {
    "duration": 55,
    "start_time": "2021-11-22T11:46:30.009Z"
   },
   {
    "duration": 23,
    "start_time": "2021-11-22T11:46:30.068Z"
   },
   {
    "duration": 28,
    "start_time": "2021-11-22T11:46:30.096Z"
   },
   {
    "duration": 24,
    "start_time": "2021-11-22T11:46:30.127Z"
   },
   {
    "duration": 52,
    "start_time": "2021-11-22T11:46:30.154Z"
   },
   {
    "duration": 76,
    "start_time": "2021-11-22T11:46:30.209Z"
   },
   {
    "duration": 25,
    "start_time": "2021-11-22T11:46:30.287Z"
   },
   {
    "duration": 62,
    "start_time": "2021-11-22T11:46:30.315Z"
   },
   {
    "duration": 11,
    "start_time": "2021-11-22T11:46:30.379Z"
   },
   {
    "duration": 4810,
    "start_time": "2021-11-22T11:46:30.393Z"
   },
   {
    "duration": 3613,
    "start_time": "2021-11-22T11:46:35.206Z"
   },
   {
    "duration": 10,
    "start_time": "2021-11-22T11:46:38.822Z"
   },
   {
    "duration": 41,
    "start_time": "2021-11-22T11:46:38.834Z"
   },
   {
    "duration": 4,
    "start_time": "2021-11-22T11:46:38.878Z"
   },
   {
    "duration": 23,
    "start_time": "2021-11-22T11:46:38.885Z"
   },
   {
    "duration": 32,
    "start_time": "2021-11-22T11:46:38.910Z"
   },
   {
    "duration": 35,
    "start_time": "2021-11-22T11:46:38.944Z"
   },
   {
    "duration": 21,
    "start_time": "2021-11-22T11:46:38.982Z"
   },
   {
    "duration": 24,
    "start_time": "2021-11-22T11:46:39.005Z"
   },
   {
    "duration": 78,
    "start_time": "2021-11-22T11:46:39.032Z"
   },
   {
    "duration": 23,
    "start_time": "2021-11-22T11:46:39.114Z"
   },
   {
    "duration": 622,
    "start_time": "2021-11-23T04:40:06.537Z"
   },
   {
    "duration": 52,
    "start_time": "2021-11-23T04:40:07.161Z"
   },
   {
    "duration": 19,
    "start_time": "2021-11-23T04:40:07.215Z"
   },
   {
    "duration": 15,
    "start_time": "2021-11-23T04:40:07.236Z"
   },
   {
    "duration": 10,
    "start_time": "2021-11-23T04:40:07.253Z"
   },
   {
    "duration": 6,
    "start_time": "2021-11-23T04:40:07.265Z"
   },
   {
    "duration": 13,
    "start_time": "2021-11-23T04:40:07.272Z"
   },
   {
    "duration": 10,
    "start_time": "2021-11-23T04:40:07.287Z"
   },
   {
    "duration": 4,
    "start_time": "2021-11-23T04:40:07.299Z"
   },
   {
    "duration": 44,
    "start_time": "2021-11-23T04:40:07.305Z"
   },
   {
    "duration": 12,
    "start_time": "2021-11-23T04:40:07.350Z"
   },
   {
    "duration": 29,
    "start_time": "2021-11-23T04:40:07.363Z"
   },
   {
    "duration": 28,
    "start_time": "2021-11-23T04:40:07.393Z"
   },
   {
    "duration": 31,
    "start_time": "2021-11-23T04:40:07.423Z"
   },
   {
    "duration": 23,
    "start_time": "2021-11-23T04:40:07.456Z"
   },
   {
    "duration": 7,
    "start_time": "2021-11-23T04:40:07.481Z"
   },
   {
    "duration": 3385,
    "start_time": "2021-11-23T04:40:07.489Z"
   },
   {
    "duration": 2754,
    "start_time": "2021-11-23T04:40:10.876Z"
   },
   {
    "duration": 17,
    "start_time": "2021-11-23T04:40:13.631Z"
   },
   {
    "duration": 15,
    "start_time": "2021-11-23T04:40:13.649Z"
   },
   {
    "duration": 3,
    "start_time": "2021-11-23T04:40:13.666Z"
   },
   {
    "duration": 14,
    "start_time": "2021-11-23T04:40:13.670Z"
   },
   {
    "duration": 13,
    "start_time": "2021-11-23T04:40:13.685Z"
   },
   {
    "duration": 11,
    "start_time": "2021-11-23T04:40:13.699Z"
   },
   {
    "duration": 43,
    "start_time": "2021-11-23T04:40:13.712Z"
   },
   {
    "duration": 14,
    "start_time": "2021-11-23T04:40:13.757Z"
   },
   {
    "duration": 27,
    "start_time": "2021-11-23T04:40:13.774Z"
   },
   {
    "duration": 14,
    "start_time": "2021-11-23T04:40:13.803Z"
   },
   {
    "duration": 20,
    "start_time": "2021-11-23T04:40:31.785Z"
   },
   {
    "duration": 10,
    "start_time": "2021-11-23T04:40:41.867Z"
   },
   {
    "duration": 5,
    "start_time": "2021-11-23T04:43:49.807Z"
   },
   {
    "duration": 12,
    "start_time": "2021-11-23T04:47:26.477Z"
   },
   {
    "duration": 321,
    "start_time": "2021-11-23T04:48:35.900Z"
   },
   {
    "duration": 9,
    "start_time": "2021-11-23T04:48:51.941Z"
   },
   {
    "duration": 596,
    "start_time": "2021-11-23T04:49:11.321Z"
   },
   {
    "duration": 51,
    "start_time": "2021-11-23T04:49:11.920Z"
   },
   {
    "duration": 18,
    "start_time": "2021-11-23T04:49:11.973Z"
   },
   {
    "duration": 10,
    "start_time": "2021-11-23T04:49:11.993Z"
   },
   {
    "duration": 11,
    "start_time": "2021-11-23T04:49:12.005Z"
   },
   {
    "duration": 26,
    "start_time": "2021-11-23T04:49:12.018Z"
   },
   {
    "duration": 13,
    "start_time": "2021-11-23T04:49:12.046Z"
   },
   {
    "duration": 36,
    "start_time": "2021-11-23T04:49:12.061Z"
   },
   {
    "duration": 24,
    "start_time": "2021-11-23T04:49:12.099Z"
   },
   {
    "duration": 31,
    "start_time": "2021-11-23T04:49:12.124Z"
   },
   {
    "duration": 27,
    "start_time": "2021-11-23T04:49:12.157Z"
   },
   {
    "duration": 23,
    "start_time": "2021-11-23T04:49:12.186Z"
   },
   {
    "duration": 31,
    "start_time": "2021-11-23T04:49:12.211Z"
   },
   {
    "duration": 15,
    "start_time": "2021-11-23T04:49:12.243Z"
   },
   {
    "duration": 55,
    "start_time": "2021-11-23T04:49:12.260Z"
   },
   {
    "duration": 27,
    "start_time": "2021-11-23T04:49:12.317Z"
   },
   {
    "duration": 14,
    "start_time": "2021-11-23T04:49:12.346Z"
   },
   {
    "duration": 34,
    "start_time": "2021-11-23T04:49:12.363Z"
   },
   {
    "duration": 8,
    "start_time": "2021-11-23T04:49:12.399Z"
   },
   {
    "duration": 3408,
    "start_time": "2021-11-23T04:49:12.408Z"
   },
   {
    "duration": 2912,
    "start_time": "2021-11-23T04:49:15.818Z"
   },
   {
    "duration": 16,
    "start_time": "2021-11-23T04:49:18.731Z"
   },
   {
    "duration": 20,
    "start_time": "2021-11-23T04:49:18.749Z"
   },
   {
    "duration": 3,
    "start_time": "2021-11-23T04:49:18.770Z"
   },
   {
    "duration": 13,
    "start_time": "2021-11-23T04:49:18.774Z"
   },
   {
    "duration": 12,
    "start_time": "2021-11-23T04:49:18.789Z"
   },
   {
    "duration": 12,
    "start_time": "2021-11-23T04:49:18.802Z"
   },
   {
    "duration": 39,
    "start_time": "2021-11-23T04:49:18.816Z"
   },
   {
    "duration": 14,
    "start_time": "2021-11-23T04:49:18.856Z"
   },
   {
    "duration": 48,
    "start_time": "2021-11-23T04:49:18.871Z"
   },
   {
    "duration": 14,
    "start_time": "2021-11-23T04:49:18.920Z"
   },
   {
    "duration": 675,
    "start_time": "2021-11-23T04:57:00.001Z"
   },
   {
    "duration": 542,
    "start_time": "2021-11-23T04:57:30.308Z"
   },
   {
    "duration": 8,
    "start_time": "2021-11-23T04:58:14.811Z"
   },
   {
    "duration": 9,
    "start_time": "2021-11-23T04:58:18.129Z"
   },
   {
    "duration": 19,
    "start_time": "2021-11-23T04:58:37.969Z"
   },
   {
    "duration": 581,
    "start_time": "2021-11-23T04:59:06.924Z"
   },
   {
    "duration": 49,
    "start_time": "2021-11-23T04:59:07.507Z"
   },
   {
    "duration": 19,
    "start_time": "2021-11-23T04:59:07.560Z"
   },
   {
    "duration": 10,
    "start_time": "2021-11-23T04:59:07.580Z"
   },
   {
    "duration": 10,
    "start_time": "2021-11-23T04:59:07.592Z"
   },
   {
    "duration": 5,
    "start_time": "2021-11-23T04:59:07.604Z"
   },
   {
    "duration": 38,
    "start_time": "2021-11-23T04:59:07.610Z"
   },
   {
    "duration": 9,
    "start_time": "2021-11-23T04:59:07.650Z"
   },
   {
    "duration": 4,
    "start_time": "2021-11-23T04:59:07.661Z"
   },
   {
    "duration": 12,
    "start_time": "2021-11-23T04:59:07.666Z"
   },
   {
    "duration": 8,
    "start_time": "2021-11-23T04:59:07.680Z"
   },
   {
    "duration": 16,
    "start_time": "2021-11-23T04:59:07.689Z"
   },
   {
    "duration": 4,
    "start_time": "2021-11-23T04:59:07.706Z"
   },
   {
    "duration": 43,
    "start_time": "2021-11-23T04:59:07.711Z"
   },
   {
    "duration": 10,
    "start_time": "2021-11-23T04:59:07.755Z"
   },
   {
    "duration": 25,
    "start_time": "2021-11-23T04:59:07.767Z"
   },
   {
    "duration": 26,
    "start_time": "2021-11-23T04:59:07.793Z"
   },
   {
    "duration": 37,
    "start_time": "2021-11-23T04:59:07.820Z"
   },
   {
    "duration": 22,
    "start_time": "2021-11-23T04:59:07.858Z"
   },
   {
    "duration": 6,
    "start_time": "2021-11-23T04:59:07.882Z"
   },
   {
    "duration": 3640,
    "start_time": "2021-11-23T04:59:07.889Z"
   },
   {
    "duration": 2741,
    "start_time": "2021-11-23T04:59:11.531Z"
   },
   {
    "duration": 7,
    "start_time": "2021-11-23T04:59:14.274Z"
   },
   {
    "duration": 23,
    "start_time": "2021-11-23T04:59:14.282Z"
   },
   {
    "duration": 9,
    "start_time": "2021-11-23T04:59:14.306Z"
   },
   {
    "duration": 17,
    "start_time": "2021-11-23T04:59:14.318Z"
   },
   {
    "duration": 26,
    "start_time": "2021-11-23T04:59:14.337Z"
   },
   {
    "duration": 26,
    "start_time": "2021-11-23T04:59:14.365Z"
   },
   {
    "duration": 17,
    "start_time": "2021-11-23T04:59:14.393Z"
   },
   {
    "duration": 15,
    "start_time": "2021-11-23T04:59:14.411Z"
   },
   {
    "duration": 39,
    "start_time": "2021-11-23T04:59:14.428Z"
   },
   {
    "duration": 15,
    "start_time": "2021-11-23T04:59:14.469Z"
   },
   {
    "duration": 21,
    "start_time": "2021-11-23T05:04:46.320Z"
   },
   {
    "duration": 26,
    "start_time": "2021-11-23T05:05:23.600Z"
   },
   {
    "duration": 583,
    "start_time": "2021-11-23T05:07:56.805Z"
   },
   {
    "duration": 53,
    "start_time": "2021-11-23T05:07:57.389Z"
   },
   {
    "duration": 20,
    "start_time": "2021-11-23T05:07:57.444Z"
   },
   {
    "duration": 12,
    "start_time": "2021-11-23T05:07:57.467Z"
   },
   {
    "duration": 12,
    "start_time": "2021-11-23T05:07:57.481Z"
   },
   {
    "duration": 7,
    "start_time": "2021-11-23T05:07:57.495Z"
   },
   {
    "duration": 47,
    "start_time": "2021-11-23T05:07:57.503Z"
   },
   {
    "duration": 10,
    "start_time": "2021-11-23T05:07:57.554Z"
   },
   {
    "duration": 6,
    "start_time": "2021-11-23T05:07:57.567Z"
   },
   {
    "duration": 12,
    "start_time": "2021-11-23T05:07:57.575Z"
   },
   {
    "duration": 9,
    "start_time": "2021-11-23T05:07:57.589Z"
   },
   {
    "duration": 55,
    "start_time": "2021-11-23T05:07:57.600Z"
   },
   {
    "duration": 5,
    "start_time": "2021-11-23T05:07:57.657Z"
   },
   {
    "duration": 13,
    "start_time": "2021-11-23T05:07:57.664Z"
   },
   {
    "duration": 11,
    "start_time": "2021-11-23T05:07:57.679Z"
   },
   {
    "duration": 56,
    "start_time": "2021-11-23T05:07:57.692Z"
   },
   {
    "duration": 29,
    "start_time": "2021-11-23T05:07:57.750Z"
   },
   {
    "duration": 19,
    "start_time": "2021-11-23T05:07:57.781Z"
   },
   {
    "duration": 50,
    "start_time": "2021-11-23T05:07:57.802Z"
   },
   {
    "duration": 9,
    "start_time": "2021-11-23T05:07:57.854Z"
   },
   {
    "duration": 3346,
    "start_time": "2021-11-23T05:07:57.864Z"
   },
   {
    "duration": 2695,
    "start_time": "2021-11-23T05:08:01.212Z"
   },
   {
    "duration": 8,
    "start_time": "2021-11-23T05:08:03.911Z"
   },
   {
    "duration": 30,
    "start_time": "2021-11-23T05:08:03.920Z"
   },
   {
    "duration": 3,
    "start_time": "2021-11-23T05:08:03.952Z"
   },
   {
    "duration": 14,
    "start_time": "2021-11-23T05:08:03.956Z"
   },
   {
    "duration": 14,
    "start_time": "2021-11-23T05:08:03.971Z"
   },
   {
    "duration": 11,
    "start_time": "2021-11-23T05:08:03.987Z"
   },
   {
    "duration": 14,
    "start_time": "2021-11-23T05:08:03.999Z"
   },
   {
    "duration": 43,
    "start_time": "2021-11-23T05:08:04.014Z"
   },
   {
    "duration": 29,
    "start_time": "2021-11-23T05:08:04.058Z"
   },
   {
    "duration": 14,
    "start_time": "2021-11-23T05:08:04.088Z"
   },
   {
    "duration": 322,
    "start_time": "2021-11-23T05:37:23.145Z"
   },
   {
    "duration": 6563,
    "start_time": "2021-11-23T05:37:36.021Z"
   },
   {
    "duration": 276,
    "start_time": "2021-11-23T05:38:15.209Z"
   },
   {
    "duration": 197,
    "start_time": "2021-11-23T05:44:59.604Z"
   },
   {
    "duration": 11,
    "start_time": "2021-11-23T05:46:06.902Z"
   },
   {
    "duration": 10,
    "start_time": "2021-11-23T05:46:11.100Z"
   },
   {
    "duration": 9,
    "start_time": "2021-11-23T05:46:15.741Z"
   },
   {
    "duration": 143,
    "start_time": "2021-11-23T05:46:21.116Z"
   },
   {
    "duration": 91,
    "start_time": "2021-11-23T06:06:07.292Z"
   },
   {
    "duration": 85,
    "start_time": "2021-11-23T06:06:10.947Z"
   },
   {
    "duration": 600,
    "start_time": "2021-11-23T06:07:00.128Z"
   },
   {
    "duration": 69,
    "start_time": "2021-11-23T06:07:00.730Z"
   },
   {
    "duration": 20,
    "start_time": "2021-11-23T06:07:00.801Z"
   },
   {
    "duration": 16,
    "start_time": "2021-11-23T06:07:00.823Z"
   },
   {
    "duration": 10,
    "start_time": "2021-11-23T06:07:00.841Z"
   },
   {
    "duration": 12,
    "start_time": "2021-11-23T06:07:00.853Z"
   },
   {
    "duration": 14,
    "start_time": "2021-11-23T06:07:00.867Z"
   },
   {
    "duration": 14,
    "start_time": "2021-11-23T06:07:00.883Z"
   },
   {
    "duration": 5,
    "start_time": "2021-11-23T06:07:00.899Z"
   },
   {
    "duration": 14,
    "start_time": "2021-11-23T06:07:00.906Z"
   },
   {
    "duration": 26,
    "start_time": "2021-11-23T06:07:00.922Z"
   },
   {
    "duration": 18,
    "start_time": "2021-11-23T06:07:00.950Z"
   },
   {
    "duration": 5,
    "start_time": "2021-11-23T06:07:00.969Z"
   },
   {
    "duration": 15,
    "start_time": "2021-11-23T06:07:00.976Z"
   },
   {
    "duration": 10,
    "start_time": "2021-11-23T06:07:00.994Z"
   },
   {
    "duration": 55,
    "start_time": "2021-11-23T06:07:01.006Z"
   },
   {
    "duration": 29,
    "start_time": "2021-11-23T06:07:01.063Z"
   },
   {
    "duration": 17,
    "start_time": "2021-11-23T06:07:01.094Z"
   },
   {
    "duration": 44,
    "start_time": "2021-11-23T06:07:01.113Z"
   },
   {
    "duration": 8,
    "start_time": "2021-11-23T06:07:01.159Z"
   },
   {
    "duration": 3452,
    "start_time": "2021-11-23T06:07:01.168Z"
   },
   {
    "duration": 2723,
    "start_time": "2021-11-23T06:07:04.621Z"
   },
   {
    "duration": 7,
    "start_time": "2021-11-23T06:07:07.346Z"
   },
   {
    "duration": 32,
    "start_time": "2021-11-23T06:07:07.354Z"
   },
   {
    "duration": 16,
    "start_time": "2021-11-23T06:07:07.388Z"
   },
   {
    "duration": 31,
    "start_time": "2021-11-23T06:07:07.406Z"
   },
   {
    "duration": 19,
    "start_time": "2021-11-23T06:07:07.441Z"
   },
   {
    "duration": 29,
    "start_time": "2021-11-23T06:07:07.462Z"
   },
   {
    "duration": 37,
    "start_time": "2021-11-23T06:07:07.492Z"
   },
   {
    "duration": 21,
    "start_time": "2021-11-23T06:07:07.531Z"
   },
   {
    "duration": 203,
    "start_time": "2021-11-23T06:07:07.554Z"
   },
   {
    "duration": 11,
    "start_time": "2021-11-23T06:07:07.759Z"
   },
   {
    "duration": 25,
    "start_time": "2021-11-23T06:07:07.771Z"
   },
   {
    "duration": 570,
    "start_time": "2021-11-23T17:11:07.993Z"
   },
   {
    "duration": 53,
    "start_time": "2021-11-23T17:11:08.565Z"
   },
   {
    "duration": 33,
    "start_time": "2021-11-23T17:11:08.621Z"
   },
   {
    "duration": 163,
    "start_time": "2021-11-23T17:11:08.656Z"
   },
   {
    "duration": 36,
    "start_time": "2021-11-23T17:11:08.820Z"
   },
   {
    "duration": 30,
    "start_time": "2021-11-23T17:11:08.858Z"
   },
   {
    "duration": 37,
    "start_time": "2021-11-23T17:11:08.890Z"
   },
   {
    "duration": 30,
    "start_time": "2021-11-23T17:11:08.929Z"
   },
   {
    "duration": 46,
    "start_time": "2021-11-23T17:11:08.962Z"
   },
   {
    "duration": 31,
    "start_time": "2021-11-23T17:11:09.010Z"
   },
   {
    "duration": 32,
    "start_time": "2021-11-23T17:11:09.043Z"
   },
   {
    "duration": 1067,
    "start_time": "2021-11-23T17:11:09.077Z"
   },
   {
    "duration": -8487,
    "start_time": "2021-11-23T17:11:18.633Z"
   },
   {
    "duration": 243,
    "start_time": "2021-11-23T17:11:29.063Z"
   },
   {
    "duration": 259,
    "start_time": "2021-11-23T17:12:13.080Z"
   },
   {
    "duration": 362,
    "start_time": "2021-11-23T17:12:24.396Z"
   },
   {
    "duration": 20,
    "start_time": "2021-11-23T17:12:32.851Z"
   },
   {
    "duration": 8,
    "start_time": "2021-11-23T17:12:37.724Z"
   },
   {
    "duration": 23,
    "start_time": "2021-11-23T17:12:53.468Z"
   },
   {
    "duration": 9,
    "start_time": "2021-11-23T17:12:55.403Z"
   },
   {
    "duration": 15586,
    "start_time": "2021-11-23T17:17:34.806Z"
   },
   {
    "duration": 3,
    "start_time": "2021-11-23T17:18:14.456Z"
   },
   {
    "duration": 57,
    "start_time": "2021-11-23T17:18:14.461Z"
   },
   {
    "duration": 13,
    "start_time": "2021-11-23T17:18:14.521Z"
   },
   {
    "duration": 12,
    "start_time": "2021-11-23T17:18:14.536Z"
   },
   {
    "duration": 19,
    "start_time": "2021-11-23T17:18:14.550Z"
   },
   {
    "duration": 6,
    "start_time": "2021-11-23T17:18:14.571Z"
   },
   {
    "duration": 16,
    "start_time": "2021-11-23T17:18:14.579Z"
   },
   {
    "duration": 17,
    "start_time": "2021-11-23T17:18:14.597Z"
   },
   {
    "duration": 4,
    "start_time": "2021-11-23T17:18:14.616Z"
   },
   {
    "duration": 12,
    "start_time": "2021-11-23T17:18:14.622Z"
   },
   {
    "duration": 10,
    "start_time": "2021-11-23T17:18:14.664Z"
   },
   {
    "duration": 30,
    "start_time": "2021-11-23T17:18:14.676Z"
   },
   {
    "duration": 8,
    "start_time": "2021-11-23T17:18:14.708Z"
   },
   {
    "duration": 4,
    "start_time": "2021-11-23T17:18:14.717Z"
   },
   {
    "duration": 16,
    "start_time": "2021-11-23T17:18:14.723Z"
   },
   {
    "duration": 33,
    "start_time": "2021-11-23T17:18:14.741Z"
   },
   {
    "duration": 34,
    "start_time": "2021-11-23T17:18:14.776Z"
   },
   {
    "duration": 30,
    "start_time": "2021-11-23T17:18:14.812Z"
   },
   {
    "duration": 36,
    "start_time": "2021-11-23T17:18:14.845Z"
   },
   {
    "duration": 26,
    "start_time": "2021-11-23T17:18:14.883Z"
   },
   {
    "duration": 7,
    "start_time": "2021-11-23T17:18:14.911Z"
   },
   {
    "duration": 3609,
    "start_time": "2021-11-23T17:18:14.919Z"
   },
   {
    "duration": 2878,
    "start_time": "2021-11-23T17:18:18.530Z"
   },
   {
    "duration": 7,
    "start_time": "2021-11-23T17:18:21.410Z"
   },
   {
    "duration": 19,
    "start_time": "2021-11-23T17:18:21.419Z"
   },
   {
    "duration": 23,
    "start_time": "2021-11-23T17:18:21.440Z"
   },
   {
    "duration": 15,
    "start_time": "2021-11-23T17:18:21.465Z"
   },
   {
    "duration": 16,
    "start_time": "2021-11-23T17:18:21.482Z"
   },
   {
    "duration": 9,
    "start_time": "2021-11-23T17:18:21.501Z"
   },
   {
    "duration": 14,
    "start_time": "2021-11-23T17:18:21.512Z"
   },
   {
    "duration": 40,
    "start_time": "2021-11-23T17:18:21.528Z"
   },
   {
    "duration": 166,
    "start_time": "2021-11-23T17:18:21.570Z"
   },
   {
    "duration": 9,
    "start_time": "2021-11-23T17:18:21.738Z"
   },
   {
    "duration": 42,
    "start_time": "2021-11-23T17:18:21.749Z"
   },
   {
    "duration": 399,
    "start_time": "2021-11-23T17:18:21.793Z"
   },
   {
    "duration": 726,
    "start_time": "2022-03-23T14:21:41.328Z"
   },
   {
    "duration": 106,
    "start_time": "2022-03-23T14:21:42.058Z"
   },
   {
    "duration": 58,
    "start_time": "2022-03-23T14:21:42.167Z"
   },
   {
    "duration": 27,
    "start_time": "2022-03-23T14:21:42.229Z"
   },
   {
    "duration": 35,
    "start_time": "2022-03-23T14:21:42.259Z"
   },
   {
    "duration": 9,
    "start_time": "2022-03-23T14:21:42.296Z"
   },
   {
    "duration": 29,
    "start_time": "2022-03-23T14:21:42.307Z"
   },
   {
    "duration": 51,
    "start_time": "2022-03-23T14:21:42.339Z"
   },
   {
    "duration": 8,
    "start_time": "2022-03-23T14:21:42.393Z"
   },
   {
    "duration": 27,
    "start_time": "2022-03-23T14:21:42.408Z"
   },
   {
    "duration": 46,
    "start_time": "2022-03-23T14:21:42.438Z"
   },
   {
    "duration": 62,
    "start_time": "2022-03-23T14:21:42.487Z"
   },
   {
    "duration": 46,
    "start_time": "2022-03-23T14:21:42.552Z"
   },
   {
    "duration": 7,
    "start_time": "2022-03-23T14:21:42.601Z"
   },
   {
    "duration": 29,
    "start_time": "2022-03-23T14:21:42.611Z"
   },
   {
    "duration": 16,
    "start_time": "2022-03-23T14:21:42.642Z"
   },
   {
    "duration": 79,
    "start_time": "2022-03-23T14:21:42.660Z"
   },
   {
    "duration": 84,
    "start_time": "2022-03-23T14:21:42.742Z"
   },
   {
    "duration": 41,
    "start_time": "2022-03-23T14:21:42.829Z"
   },
   {
    "duration": 56,
    "start_time": "2022-03-23T14:21:42.889Z"
   },
   {
    "duration": 11,
    "start_time": "2022-03-23T14:21:42.948Z"
   },
   {
    "duration": 5695,
    "start_time": "2022-03-23T14:21:42.990Z"
   },
   {
    "duration": 4671,
    "start_time": "2022-03-23T14:21:48.689Z"
   },
   {
    "duration": 26,
    "start_time": "2022-03-23T14:21:53.362Z"
   },
   {
    "duration": 19,
    "start_time": "2022-03-23T14:21:53.391Z"
   },
   {
    "duration": 5,
    "start_time": "2022-03-23T14:21:53.413Z"
   },
   {
    "duration": 26,
    "start_time": "2022-03-23T14:21:53.421Z"
   },
   {
    "duration": 57,
    "start_time": "2022-03-23T14:21:53.452Z"
   },
   {
    "duration": 14,
    "start_time": "2022-03-23T14:21:53.512Z"
   },
   {
    "duration": 34,
    "start_time": "2022-03-23T14:21:53.529Z"
   },
   {
    "duration": 46,
    "start_time": "2022-03-23T14:21:53.565Z"
   },
   {
    "duration": 229,
    "start_time": "2022-03-23T14:21:53.614Z"
   },
   {
    "duration": 15,
    "start_time": "2022-03-23T14:21:53.845Z"
   },
   {
    "duration": 48,
    "start_time": "2022-03-23T14:21:53.863Z"
   },
   {
    "duration": 922,
    "start_time": "2022-03-23T14:21:53.913Z"
   },
   {
    "duration": 539,
    "start_time": "2022-03-23T14:23:46.526Z"
   },
   {
    "duration": 83,
    "start_time": "2022-03-23T14:23:47.068Z"
   },
   {
    "duration": 50,
    "start_time": "2022-03-23T14:23:47.153Z"
   },
   {
    "duration": 24,
    "start_time": "2022-03-23T14:23:47.206Z"
   },
   {
    "duration": 14,
    "start_time": "2022-03-23T14:23:47.232Z"
   },
   {
    "duration": 38,
    "start_time": "2022-03-23T14:23:47.248Z"
   },
   {
    "duration": 27,
    "start_time": "2022-03-23T14:23:47.290Z"
   },
   {
    "duration": 17,
    "start_time": "2022-03-23T14:23:47.319Z"
   },
   {
    "duration": 46,
    "start_time": "2022-03-23T14:23:47.338Z"
   },
   {
    "duration": 25,
    "start_time": "2022-03-23T14:23:47.391Z"
   },
   {
    "duration": 14,
    "start_time": "2022-03-23T14:23:47.419Z"
   },
   {
    "duration": 83,
    "start_time": "2022-03-23T14:23:47.435Z"
   },
   {
    "duration": 12,
    "start_time": "2022-03-23T14:23:47.520Z"
   },
   {
    "duration": 25,
    "start_time": "2022-03-23T14:23:47.534Z"
   },
   {
    "duration": 45,
    "start_time": "2022-03-23T14:23:47.561Z"
   },
   {
    "duration": 15,
    "start_time": "2022-03-23T14:23:47.608Z"
   },
   {
    "duration": 77,
    "start_time": "2022-03-23T14:23:47.625Z"
   },
   {
    "duration": 52,
    "start_time": "2022-03-23T14:23:47.706Z"
   },
   {
    "duration": 58,
    "start_time": "2022-03-23T14:23:47.761Z"
   },
   {
    "duration": 68,
    "start_time": "2022-03-23T14:23:47.821Z"
   },
   {
    "duration": 17,
    "start_time": "2022-03-23T14:23:47.897Z"
   },
   {
    "duration": 6036,
    "start_time": "2022-03-23T14:23:47.916Z"
   },
   {
    "duration": 4265,
    "start_time": "2022-03-23T14:23:53.955Z"
   },
   {
    "duration": 11,
    "start_time": "2022-03-23T14:23:58.222Z"
   },
   {
    "duration": 29,
    "start_time": "2022-03-23T14:23:58.235Z"
   },
   {
    "duration": 17,
    "start_time": "2022-03-23T14:23:58.267Z"
   },
   {
    "duration": 25,
    "start_time": "2022-03-23T14:23:58.287Z"
   },
   {
    "duration": 38,
    "start_time": "2022-03-23T14:23:58.317Z"
   },
   {
    "duration": 20,
    "start_time": "2022-03-23T14:23:58.357Z"
   },
   {
    "duration": 41,
    "start_time": "2022-03-23T14:23:58.379Z"
   },
   {
    "duration": 29,
    "start_time": "2022-03-23T14:23:58.422Z"
   },
   {
    "duration": 196,
    "start_time": "2022-03-23T14:23:58.454Z"
   },
   {
    "duration": 16,
    "start_time": "2022-03-23T14:23:58.653Z"
   },
   {
    "duration": 37,
    "start_time": "2022-03-23T14:23:58.671Z"
   },
   {
    "duration": 885,
    "start_time": "2022-03-23T14:23:58.711Z"
   },
   {
    "duration": 559,
    "start_time": "2022-03-23T14:24:28.772Z"
   },
   {
    "duration": 79,
    "start_time": "2022-03-23T14:24:29.333Z"
   },
   {
    "duration": 31,
    "start_time": "2022-03-23T14:24:29.414Z"
   },
   {
    "duration": 54,
    "start_time": "2022-03-23T14:24:29.448Z"
   },
   {
    "duration": 14,
    "start_time": "2022-03-23T14:24:29.504Z"
   },
   {
    "duration": 9,
    "start_time": "2022-03-23T14:24:29.520Z"
   },
   {
    "duration": 21,
    "start_time": "2022-03-23T14:24:29.532Z"
   },
   {
    "duration": 51,
    "start_time": "2022-03-23T14:24:29.555Z"
   },
   {
    "duration": 11,
    "start_time": "2022-03-23T14:24:29.609Z"
   },
   {
    "duration": 18,
    "start_time": "2022-03-23T14:24:29.626Z"
   },
   {
    "duration": 49,
    "start_time": "2022-03-23T14:24:29.646Z"
   },
   {
    "duration": 42,
    "start_time": "2022-03-23T14:24:29.699Z"
   },
   {
    "duration": 12,
    "start_time": "2022-03-23T14:24:29.743Z"
   },
   {
    "duration": 37,
    "start_time": "2022-03-23T14:24:29.757Z"
   },
   {
    "duration": 27,
    "start_time": "2022-03-23T14:24:29.798Z"
   },
   {
    "duration": 15,
    "start_time": "2022-03-23T14:24:29.827Z"
   },
   {
    "duration": 84,
    "start_time": "2022-03-23T14:24:29.844Z"
   },
   {
    "duration": 86,
    "start_time": "2022-03-23T14:24:29.931Z"
   },
   {
    "duration": 30,
    "start_time": "2022-03-23T14:24:30.019Z"
   },
   {
    "duration": 79,
    "start_time": "2022-03-23T14:24:30.051Z"
   },
   {
    "duration": 12,
    "start_time": "2022-03-23T14:24:30.133Z"
   },
   {
    "duration": 5940,
    "start_time": "2022-03-23T14:24:30.147Z"
   },
   {
    "duration": 4433,
    "start_time": "2022-03-23T14:24:36.092Z"
   },
   {
    "duration": 15,
    "start_time": "2022-03-23T14:24:40.528Z"
   },
   {
    "duration": 17,
    "start_time": "2022-03-23T14:24:40.545Z"
   },
   {
    "duration": 7,
    "start_time": "2022-03-23T14:24:40.583Z"
   },
   {
    "duration": 27,
    "start_time": "2022-03-23T14:24:40.593Z"
   },
   {
    "duration": 23,
    "start_time": "2022-03-23T14:24:40.624Z"
   },
   {
    "duration": 38,
    "start_time": "2022-03-23T14:24:40.650Z"
   },
   {
    "duration": 32,
    "start_time": "2022-03-23T14:24:40.692Z"
   },
   {
    "duration": 24,
    "start_time": "2022-03-23T14:24:40.726Z"
   },
   {
    "duration": 274,
    "start_time": "2022-03-23T14:24:40.752Z"
   },
   {
    "duration": 15,
    "start_time": "2022-03-23T14:24:41.029Z"
   },
   {
    "duration": 57,
    "start_time": "2022-03-23T14:24:41.047Z"
   },
   {
    "duration": 861,
    "start_time": "2022-03-23T14:24:41.106Z"
   },
   {
    "duration": 435,
    "start_time": "2022-03-24T09:29:24.528Z"
   },
   {
    "duration": 62,
    "start_time": "2022-03-24T09:29:24.965Z"
   },
   {
    "duration": 19,
    "start_time": "2022-03-24T09:29:25.032Z"
   },
   {
    "duration": 19,
    "start_time": "2022-03-24T09:29:25.054Z"
   },
   {
    "duration": 18,
    "start_time": "2022-03-24T09:29:25.076Z"
   },
   {
    "duration": 11,
    "start_time": "2022-03-24T09:29:25.097Z"
   },
   {
    "duration": 17,
    "start_time": "2022-03-24T09:29:25.133Z"
   },
   {
    "duration": 25,
    "start_time": "2022-03-24T09:29:25.153Z"
   },
   {
    "duration": 7,
    "start_time": "2022-03-24T09:29:25.180Z"
   },
   {
    "duration": 27,
    "start_time": "2022-03-24T09:29:25.193Z"
   },
   {
    "duration": 10,
    "start_time": "2022-03-24T09:29:25.232Z"
   },
   {
    "duration": 37,
    "start_time": "2022-03-24T09:29:25.244Z"
   },
   {
    "duration": 11,
    "start_time": "2022-03-24T09:29:25.283Z"
   },
   {
    "duration": 5,
    "start_time": "2022-03-24T09:29:25.296Z"
   },
   {
    "duration": 22,
    "start_time": "2022-03-24T09:29:25.332Z"
   },
   {
    "duration": 17,
    "start_time": "2022-03-24T09:29:25.355Z"
   },
   {
    "duration": 31,
    "start_time": "2022-03-24T09:29:25.374Z"
   },
   {
    "duration": 51,
    "start_time": "2022-03-24T09:29:25.406Z"
   },
   {
    "duration": 28,
    "start_time": "2022-03-24T09:29:25.459Z"
   },
   {
    "duration": 54,
    "start_time": "2022-03-24T09:29:25.489Z"
   },
   {
    "duration": 11,
    "start_time": "2022-03-24T09:29:25.545Z"
   },
   {
    "duration": 3755,
    "start_time": "2022-03-24T09:29:25.558Z"
   },
   {
    "duration": 3196,
    "start_time": "2022-03-24T09:29:29.315Z"
   },
   {
    "duration": 7,
    "start_time": "2022-03-24T09:29:32.514Z"
   },
   {
    "duration": 12,
    "start_time": "2022-03-24T09:29:32.532Z"
   },
   {
    "duration": 12,
    "start_time": "2022-03-24T09:29:32.546Z"
   },
   {
    "duration": 17,
    "start_time": "2022-03-24T09:29:32.559Z"
   },
   {
    "duration": 21,
    "start_time": "2022-03-24T09:29:32.579Z"
   },
   {
    "duration": 12,
    "start_time": "2022-03-24T09:29:32.601Z"
   },
   {
    "duration": 29,
    "start_time": "2022-03-24T09:29:32.615Z"
   },
   {
    "duration": 26,
    "start_time": "2022-03-24T09:29:32.646Z"
   },
   {
    "duration": 145,
    "start_time": "2022-03-24T09:29:32.674Z"
   },
   {
    "duration": 14,
    "start_time": "2022-03-24T09:29:32.820Z"
   },
   {
    "duration": 33,
    "start_time": "2022-03-24T09:29:32.836Z"
   },
   {
    "duration": 515,
    "start_time": "2022-03-24T09:29:32.873Z"
   },
   {
    "duration": 412,
    "start_time": "2022-03-24T09:32:59.499Z"
   },
   {
    "duration": 3,
    "start_time": "2022-03-24T09:32:59.913Z"
   },
   {
    "duration": 67,
    "start_time": "2022-03-24T09:32:59.918Z"
   },
   {
    "duration": 18,
    "start_time": "2022-03-24T09:32:59.987Z"
   },
   {
    "duration": 27,
    "start_time": "2022-03-24T09:33:00.006Z"
   },
   {
    "duration": 14,
    "start_time": "2022-03-24T09:33:00.035Z"
   },
   {
    "duration": 17,
    "start_time": "2022-03-24T09:33:00.051Z"
   },
   {
    "duration": 24,
    "start_time": "2022-03-24T09:33:00.070Z"
   },
   {
    "duration": 42,
    "start_time": "2022-03-24T09:33:00.096Z"
   },
   {
    "duration": 14,
    "start_time": "2022-03-24T09:33:00.140Z"
   },
   {
    "duration": 29,
    "start_time": "2022-03-24T09:33:00.156Z"
   },
   {
    "duration": 17,
    "start_time": "2022-03-24T09:33:00.186Z"
   },
   {
    "duration": 45,
    "start_time": "2022-03-24T09:33:00.205Z"
   },
   {
    "duration": 8,
    "start_time": "2022-03-24T09:33:00.252Z"
   },
   {
    "duration": 24,
    "start_time": "2022-03-24T09:33:00.261Z"
   },
   {
    "duration": 23,
    "start_time": "2022-03-24T09:33:00.286Z"
   },
   {
    "duration": 20,
    "start_time": "2022-03-24T09:33:00.311Z"
   },
   {
    "duration": 38,
    "start_time": "2022-03-24T09:33:00.333Z"
   },
   {
    "duration": 32,
    "start_time": "2022-03-24T09:33:00.373Z"
   },
   {
    "duration": 21,
    "start_time": "2022-03-24T09:33:00.407Z"
   },
   {
    "duration": 27,
    "start_time": "2022-03-24T09:33:00.430Z"
   },
   {
    "duration": 7,
    "start_time": "2022-03-24T09:33:00.459Z"
   },
   {
    "duration": 3792,
    "start_time": "2022-03-24T09:33:00.467Z"
   },
   {
    "duration": 3104,
    "start_time": "2022-03-24T09:33:04.261Z"
   },
   {
    "duration": 9,
    "start_time": "2022-03-24T09:33:07.367Z"
   },
   {
    "duration": 17,
    "start_time": "2022-03-24T09:33:07.378Z"
   },
   {
    "duration": 18,
    "start_time": "2022-03-24T09:33:07.397Z"
   },
   {
    "duration": 21,
    "start_time": "2022-03-24T09:33:07.418Z"
   },
   {
    "duration": 31,
    "start_time": "2022-03-24T09:33:07.441Z"
   },
   {
    "duration": 13,
    "start_time": "2022-03-24T09:33:07.473Z"
   },
   {
    "duration": 24,
    "start_time": "2022-03-24T09:33:07.487Z"
   },
   {
    "duration": 16,
    "start_time": "2022-03-24T09:33:07.513Z"
   },
   {
    "duration": 135,
    "start_time": "2022-03-24T09:33:07.531Z"
   },
   {
    "duration": 10,
    "start_time": "2022-03-24T09:33:07.668Z"
   },
   {
    "duration": 21,
    "start_time": "2022-03-24T09:33:07.679Z"
   },
   {
    "duration": 703,
    "start_time": "2022-03-24T09:33:07.701Z"
   },
   {
    "duration": 598,
    "start_time": "2022-03-24T09:34:57.726Z"
   },
   {
    "duration": 6,
    "start_time": "2022-03-24T09:34:58.327Z"
   },
   {
    "duration": 96,
    "start_time": "2022-03-24T09:34:58.335Z"
   },
   {
    "duration": 20,
    "start_time": "2022-03-24T09:34:58.433Z"
   },
   {
    "duration": 21,
    "start_time": "2022-03-24T09:34:58.456Z"
   },
   {
    "duration": 16,
    "start_time": "2022-03-24T09:34:58.478Z"
   },
   {
    "duration": 8,
    "start_time": "2022-03-24T09:34:58.496Z"
   },
   {
    "duration": 14,
    "start_time": "2022-03-24T09:34:58.505Z"
   },
   {
    "duration": 16,
    "start_time": "2022-03-24T09:34:58.533Z"
   },
   {
    "duration": 5,
    "start_time": "2022-03-24T09:34:58.551Z"
   },
   {
    "duration": 22,
    "start_time": "2022-03-24T09:34:58.557Z"
   },
   {
    "duration": 14,
    "start_time": "2022-03-24T09:34:58.580Z"
   },
   {
    "duration": 40,
    "start_time": "2022-03-24T09:34:58.596Z"
   },
   {
    "duration": 8,
    "start_time": "2022-03-24T09:34:58.639Z"
   },
   {
    "duration": 6,
    "start_time": "2022-03-24T09:34:58.649Z"
   },
   {
    "duration": 20,
    "start_time": "2022-03-24T09:34:58.657Z"
   },
   {
    "duration": 12,
    "start_time": "2022-03-24T09:34:58.679Z"
   },
   {
    "duration": 60,
    "start_time": "2022-03-24T09:34:58.693Z"
   },
   {
    "duration": 29,
    "start_time": "2022-03-24T09:34:58.755Z"
   },
   {
    "duration": 20,
    "start_time": "2022-03-24T09:34:58.786Z"
   },
   {
    "duration": 44,
    "start_time": "2022-03-24T09:34:58.808Z"
   },
   {
    "duration": 7,
    "start_time": "2022-03-24T09:34:58.854Z"
   },
   {
    "duration": 3855,
    "start_time": "2022-03-24T09:34:58.863Z"
   },
   {
    "duration": 3057,
    "start_time": "2022-03-24T09:35:02.732Z"
   },
   {
    "duration": 8,
    "start_time": "2022-03-24T09:35:05.791Z"
   },
   {
    "duration": 34,
    "start_time": "2022-03-24T09:35:05.801Z"
   },
   {
    "duration": 3,
    "start_time": "2022-03-24T09:35:05.837Z"
   },
   {
    "duration": 25,
    "start_time": "2022-03-24T09:35:05.843Z"
   },
   {
    "duration": 18,
    "start_time": "2022-03-24T09:35:05.870Z"
   },
   {
    "duration": 12,
    "start_time": "2022-03-24T09:35:05.890Z"
   },
   {
    "duration": 37,
    "start_time": "2022-03-24T09:35:05.904Z"
   },
   {
    "duration": 24,
    "start_time": "2022-03-24T09:35:05.942Z"
   },
   {
    "duration": 149,
    "start_time": "2022-03-24T09:35:05.967Z"
   },
   {
    "duration": 15,
    "start_time": "2022-03-24T09:35:06.118Z"
   },
   {
    "duration": 15,
    "start_time": "2022-03-24T09:35:06.135Z"
   },
   {
    "duration": 534,
    "start_time": "2022-03-24T09:35:06.152Z"
   }
  ],
  "kernelspec": {
   "display_name": "Python 3 (ipykernel)",
   "language": "python",
   "name": "python3"
  },
  "language_info": {
   "codemirror_mode": {
    "name": "ipython",
    "version": 3
   },
   "file_extension": ".py",
   "mimetype": "text/x-python",
   "name": "python",
   "nbconvert_exporter": "python",
   "pygments_lexer": "ipython3",
   "version": "3.9.7"
  },
  "toc": {
   "base_numbering": 1,
   "nav_menu": {},
   "number_sections": true,
   "sideBar": true,
   "skip_h1_title": true,
   "title_cell": "Table of Contents",
   "title_sidebar": "Contents",
   "toc_cell": false,
   "toc_position": {},
   "toc_section_display": true,
   "toc_window_display": true
  }
 },
 "nbformat": 4,
 "nbformat_minor": 2
}
